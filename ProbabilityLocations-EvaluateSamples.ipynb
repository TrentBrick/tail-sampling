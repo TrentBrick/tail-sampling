{
 "cells": [
  {
   "cell_type": "markdown",
   "metadata": {},
   "source": [
    "Get the difference between nucleus and TFS set of words. See if the words in this set are reasonable. They should be reasonable for when TFS is looser and should not be when TFS is tighter. Out of this set of words, take the highest, lowest prob ones and the middle one? Need at least 3 word gap between them. \n",
    "Rank each one in how reasonable it is. Control baseline is how reasonable words at different points in the body are. The first word, half way and at the closer of the tails. Can also get words outside of the last tail, just outside, halfway to the end, and at the very end. \n",
    "There are 9 different words in total. Should i rank all of them, scramble up a subset? Or have a ranking for each of the subsets differently? Probably scramble them all up. And then present 3 of them??\n",
    "Can then see overall how replaceable different parts of the distributions is, and for TFS and nucleus specifically. Have a control with the bad words. And should be able to hopefully show that the difference in replaceability between the TFS and nucleus words is small when TFS is looser and large when TFS is tighter. Can see how specific this is also. Eg could just look at the last TFS and nucleus words, see the diff in replaceability, or maybe need to look at the averages. Look most at this unique subset and these three points should hopefully categorize it. Want them because i dont know how good the signal is going to be. For the closest words for example. \n",
    "Can also get overall data on how replaceability corresponds to model probability. \n"
   ]
  },
  {
   "cell_type": "code",
   "execution_count": 1,
   "metadata": {},
   "outputs": [],
   "source": [
    "import pickle\n",
    "import gzip\n",
    "import numpy as np\n",
    "import matplotlib.pyplot as plt\n",
    "from scipy.special import softmax\n",
    "import pandas as pd    \n",
    "import torch"
   ]
  },
  {
   "cell_type": "code",
   "execution_count": 2,
   "metadata": {},
   "outputs": [],
   "source": [
    "from decodeLogits import *"
   ]
  },
  {
   "cell_type": "code",
   "execution_count": 3,
   "metadata": {},
   "outputs": [
    {
     "data": {
      "text/plain": [
       "\" {'tfs':[0.25, 0.75, 0.9, 0.95, 0.99], 'flat':[0.01, 0.02, 0.05],\\n'n': [0.1, 0.25, 0.5, 0.63, 0.69, 0.75, 0.81, 0.9], 'k':[1,10,40,200]  }\""
      ]
     },
     "execution_count": 3,
     "metadata": {},
     "output_type": "execute_result"
    }
   ],
   "source": [
    "#updated\n",
    "vals_dict = {'tfs':[0.25, 0.75, 0.9, 0.95, 0.99],\n",
    "'n': [0.5, 0.63, 0.69, 0.81, 0.75, 0.9], 'k':[1,40,200]  }\n",
    "\n",
    "\n",
    "''' {'tfs':[0.25, 0.75, 0.9, 0.95, 0.99], 'flat':[0.01, 0.02, 0.05],\n",
    "'n': [0.1, 0.25, 0.5, 0.63, 0.69, 0.75, 0.81, 0.9], 'k':[1,10,40,200]  }'''"
   ]
  },
  {
   "cell_type": "markdown",
   "metadata": {},
   "source": [
    "# Doing analysis for the same logit going to use the ground truth as it is a Schelling point"
   ]
  },
  {
   "cell_type": "code",
   "execution_count": 4,
   "metadata": {},
   "outputs": [],
   "source": [
    "from importlib import reload\n",
    "import utils\n",
    "\n",
    "reload(utils)\n",
    "from utils import *"
   ]
  },
  {
   "cell_type": "code",
   "execution_count": 5,
   "metadata": {},
   "outputs": [],
   "source": [
    "batch_size=25\n",
    "num_batches=4\n",
    "prompt_length=100\n",
    "generated_length=150\n",
    "tot_len = prompt_length+generated_length\n",
    "\n",
    "import encoder\n",
    "model_name='774M' #345M\n",
    "models_dir='../gpt-2/models'\n",
    "enc = encoder.get_encoder(model_name, models_dir)\n",
    "\n",
    "prompts=pd.read_csv('test_dataframe_500primer.csv')"
   ]
  },
  {
   "cell_type": "code",
   "execution_count": 6,
   "metadata": {},
   "outputs": [],
   "source": [
    "gpt_out_path = 'gpt-2_output/'\n",
    "additional_path = '-model_774M-seed_27'#'' \n",
    "#all_perps = pickle.load( gzip.open(gpt_out_path+'all_perplexities_perplexity_scores_for_the_dataset_Human_StoryPrompts_Completion.csv'+additional_path+'.pickle.gz', 'rb'))\n",
    "all_logits = pickle.load( gzip.open(gpt_out_path+'all_logits_perplexity_scores_for_the_dataset_Human_StoryPrompts_Completion.csv'+additional_path+'.pickle.gz', 'rb')) # needed to get the probabilities\n",
    "text = pickle.load( gzip.open(gpt_out_path+'all_text_perplexity_scores_for_the_dataset_Human_StoryPrompts_Completion.csv'+additional_path+'.pickle.gz', 'rb'))"
   ]
  },
  {
   "cell_type": "code",
   "execution_count": 7,
   "metadata": {},
   "outputs": [
    {
     "name": "stdout",
     "output_type": "stream",
     "text": [
      "23\n",
      "23\n",
      "24\n",
      "22\n"
     ]
    },
    {
     "data": {
      "text/plain": [
       "92"
      ]
     },
     "execution_count": 7,
     "metadata": {},
     "output_type": "execute_result"
    }
   ],
   "source": [
    "tot_num = 0\n",
    "mapping_to_batch = dict()\n",
    "for i in range(num_batches):\n",
    "    num_in_batch = all_logits[i].shape[0]\n",
    "    for el, b_ind in zip(range(tot_num, tot_num+num_in_batch), range(0, num_in_batch)):\n",
    "        mapping_to_batch[el] = (i, b_ind) # actual batch and then the ind in that batch\n",
    "    print( num_in_batch)\n",
    "    tot_num+= num_in_batch\n",
    "tot_num"
   ]
  },
  {
   "cell_type": "code",
   "execution_count": 8,
   "metadata": {},
   "outputs": [
    {
     "data": {
      "text/plain": [
       "(23, 150, 50257)"
      ]
     },
     "execution_count": 8,
     "metadata": {},
     "output_type": "execute_result"
    }
   ],
   "source": [
    "all_logits[0].shape"
   ]
  },
  {
   "cell_type": "markdown",
   "metadata": {},
   "source": [
    "# Want to generate things that are at the different probability levels"
   ]
  },
  {
   "cell_type": "markdown",
   "metadata": {},
   "source": [
    "# Looking at max deviation and getting these points within the tails of each"
   ]
  },
  {
   "cell_type": "markdown",
   "metadata": {},
   "source": [
    "## Want to also focus on the maximum deviation portions at some point. "
   ]
  },
  {
   "cell_type": "code",
   "execution_count": 9,
   "metadata": {},
   "outputs": [],
   "source": [
    "np.random.seed(28)"
   ]
  },
  {
   "cell_type": "code",
   "execution_count": 10,
   "metadata": {},
   "outputs": [],
   "source": [
    "# random prompts and locations within the 150 generation locations\n",
    "\n",
    "num_prompts_and_timepoints_wanted = 50 # cant be larger than 100 right now!!!\n",
    "assert num_prompts_and_timepoints_wanted <=100\n",
    "leading_prompt = 15\n",
    "\n",
    "want_min_max = False\n",
    "\n",
    "if want_min_max==True:\n",
    "    minmax = pd.read_csv('Min_Max_Disagreement_Coords_TFS90.csv')\n",
    "    #shuffle it and take the number that is wanted. \n",
    "    minmax = minmax.sample(frac= num_prompts_and_timepoints_wanted/minmax.shape[0])\n",
    "    display(minmax.head())\n",
    "    \n",
    "else:\n",
    "    rand_prompts = np.random.randint(0,tot_num, num_prompts_and_timepoints_wanted)\n",
    "    # leadingprompt until 150. as the logits are 150 not 250. \n",
    "    # -1 because of the end token prediction\n",
    "    rand_times = np.random.randint(0,generated_length-1, num_prompts_and_timepoints_wanted)"
   ]
  },
  {
   "cell_type": "code",
   "execution_count": 11,
   "metadata": {},
   "outputs": [
    {
     "data": {
      "text/plain": [
       "150"
      ]
     },
     "execution_count": 11,
     "metadata": {},
     "output_type": "execute_result"
    }
   ],
   "source": [
    "len(all_logits[0][0, :, 0])"
   ]
  },
  {
   "cell_type": "markdown",
   "metadata": {},
   "source": [
    "getting random locations\n",
    "for the differnet gen strategies. find the tail locations. take the tokens at each position. \n",
    "move onto the next random location. "
   ]
  },
  {
   "cell_type": "code",
   "execution_count": 12,
   "metadata": {},
   "outputs": [],
   "source": [
    "from importlib import reload\n",
    "import utils\n",
    "\n",
    "reload(utils)\n",
    "from utils import *"
   ]
  },
  {
   "cell_type": "code",
   "execution_count": 32,
   "metadata": {},
   "outputs": [],
   "source": [
    "enc = encoder.get_encoder(model_name, models_dir)"
   ]
  },
  {
   "cell_type": "code",
   "execution_count": 38,
   "metadata": {},
   "outputs": [
    {
     "name": "stdout",
     "output_type": "stream",
     "text": [
      "356\n",
      " we\n",
      "[732]\n"
     ]
    },
    {
     "data": {
      "text/plain": [
       "'we'"
      ]
     },
     "execution_count": 38,
     "metadata": {},
     "output_type": "execute_result"
    }
   ],
   "source": [
    "lol = text[batch_ind][ind_in_batch][text_timepoint]\n",
    "print(lol)\n",
    "gword = decoder_text([lol])\n",
    "print(gword)\n",
    "c = enc.encode(gword.strip())\n",
    "print(c)\n",
    "decoder_text(c)"
   ]
  },
  {
   "cell_type": "code",
   "execution_count": 13,
   "metadata": {},
   "outputs": [
    {
     "name": "stdout",
     "output_type": "stream",
     "text": [
      "ten sps values [9.7826791e-01 2.1306623e-03 7.7810284e-04 5.0903222e-04 4.9161154e-04\n",
      " 4.3409874e-04 3.7558551e-04 3.6901754e-04 3.4070396e-04 2.6838572e-04]\n",
      "prob slices: [0.97826791 0.78261433 0.58696074 0.39130716 0.19565358 0.        ]\n",
      "words wanted rel positions [0, 1, 2, 3, 4, 35195]\n",
      "['events' 'event' 'things' 'circumstances' 'bad' 'Population']\n",
      "one of the three tokens in front were not words so skipping\n",
      "ten sps values [0.12378731 0.1110413  0.10720164 0.09488712 0.07680266 0.04294153\n",
      " 0.03562189 0.01786945 0.01625022 0.01591282]\n",
      "prob slices: [0.12378731 0.09902984 0.07427238 0.04951492 0.02475746 0.        ]\n",
      "words wanted rel positions [0, 3, 4, 5, 6, 35194]\n",
      "['were' 'had' 'would' 'could' 'are' 'iterator']\n",
      "ten sps values [0.27985963 0.1617055  0.08516163 0.06683456 0.03213869 0.03016647\n",
      " 0.02423738 0.00844133 0.00640868 0.00623327]\n",
      "prob slices: [0.27985963 0.22388771 0.16791578 0.11194385 0.05597193 0.        ]\n",
      "words wanted rel positions [0, 1, 2, 3, 4, 35196]\n",
      "['edge' 'counter' 'sink' 'side' 'table' 'Plot']\n",
      "ten sps values [0.41619945 0.17138307 0.11777301 0.05513218 0.04402787 0.01673699\n",
      " 0.01629868 0.01604169 0.0084719  0.00512973]\n",
      "prob slices: [0.41619945 0.33295956 0.24971967 0.16647978 0.08323989 0.        ]\n",
      "words wanted rel positions [0, 1, 2, 3, 4, 35194]\n",
      "['a' 'the' 'my' 'an' 'me' 'conservancy']\n",
      "one of the three tokens in front were not words so skipping\n",
      "ten sps values [0.09772053 0.08673013 0.0442342  0.03243464 0.02368389 0.01398299\n",
      " 0.01168475 0.01133061 0.01012677 0.00927453]\n",
      "prob slices: [0.09772053 0.07817643 0.05863232 0.03908821 0.01954411 0.        ]\n",
      "words wanted rel positions [0, 1, 2, 3, 4, 35196]\n",
      "['and' 'of' 'oak' 'sand' 'sky' 'Eat']\n",
      "one of the three tokens in front were not words so skipping\n",
      "ten sps values [0.22781697 0.07713857 0.04775241 0.04415162 0.0297315  0.02290292\n",
      " 0.01815408 0.0157106  0.01548197 0.01251665]\n",
      "prob slices: [0.22781697 0.18225358 0.13669018 0.09112679 0.04556339 0.        ]\n",
      "words wanted rel positions [0, 1, 2, 3, 4, 35195]\n",
      "['he' 'is' 'makes' 'she' 'the' 'prototype']\n",
      "one of the three tokens in front were not words so skipping\n",
      "one of the three tokens in front were not words so skipping\n",
      "ten sps values [0.04251141 0.04043921 0.03173163 0.03017631 0.02360728 0.02247164\n",
      " 0.02095384 0.01484984 0.01151092 0.01143924]\n",
      "prob slices: [0.04251141 0.03400913 0.02550684 0.01700456 0.00850228 0.        ]\n",
      "words wanted rel positions [0, 2, 4, 7, 15, 35195]\n",
      "['simple' 'a' 'young' 'deliberate' 'simply' '7601']\n",
      "one of the three tokens in front were not words so skipping\n",
      "one of the three tokens in front were not words so skipping\n",
      "one of the three tokens in front were not words so skipping\n",
      "one of the three tokens in front were not words so skipping\n",
      "ten sps values [0.25678304 0.12715816 0.05183318 0.0389463  0.03536024 0.02396843\n",
      " 0.02274912 0.01849176 0.01627074 0.01402227]\n",
      "prob slices: [0.25678304 0.20542643 0.15406982 0.10271322 0.05135661 0.        ]\n",
      "words wanted rel positions [0, 1, 2, 3, 4, 35196]\n",
      "['his' 'a' 'the' 'thought' 'an' 'cumbers']\n",
      "one of the three tokens in front were not words so skipping\n",
      "ten sps values [0.3757138  0.36019436 0.05797093 0.05231691 0.01232337 0.01199899\n",
      " 0.01110467 0.00818582 0.00530018 0.00482234]\n",
      "prob slices: [0.3757138  0.30057104 0.22542828 0.15028552 0.07514276 0.        ]\n",
      "words wanted rel positions [0, 1, 2, 3, 4, 35196]\n",
      "['your' 'the' 'his' 'it' 'one' 'ODE']\n",
      "one of the three tokens in front were not words so skipping\n",
      "one of the three tokens in front were not words so skipping\n",
      "one of the three tokens in front were not words so skipping\n",
      "one of the three tokens in front were not words so skipping\n",
      "one of the three tokens in front were not words so skipping\n",
      "one of the three tokens in front were not words so skipping\n",
      "one of the three tokens in front were not words so skipping\n",
      "one of the three tokens in front were not words so skipping\n",
      "one of the three tokens in front were not words so skipping\n",
      "one of the three tokens in front were not words so skipping\n",
      "one of the three tokens in front were not words so skipping\n",
      "one of the three tokens in front were not words so skipping\n",
      "ten sps values [0.01845132 0.01772166 0.01409782 0.01085417 0.01062797 0.01012612\n",
      " 0.00895747 0.00785161 0.0075899  0.00736638]\n",
      "prob slices: [0.01845132 0.01476105 0.01107079 0.00738053 0.00369026 0.        ]\n",
      "words wanted rel positions [0, 2, 3, 9, 31, 35195]\n",
      "['social' 'political' 'medical' 'research' 'design' 'winner']\n",
      "one of the three tokens in front were not words so skipping\n",
      "ten sps values [0.2333325  0.13031088 0.05454249 0.0480359  0.01873391 0.01554786\n",
      " 0.01529359 0.01504613 0.01309819 0.01226895]\n",
      "prob slices: [0.2333325 0.186666  0.1399995 0.093333  0.0466665 0.       ]\n",
      "words wanted rel positions [0, 1, 2, 3, 4, 35195]\n",
      "['organized' 'at' 'in' 'people' 'organizers' 'rush']\n",
      "ten sps values [0.20355582 0.13363923 0.09389567 0.06085902 0.04151911 0.03775018\n",
      " 0.03496406 0.02466996 0.02128609 0.01839761]\n",
      "prob slices: [0.20355582 0.16284466 0.12213349 0.08142233 0.04071116 0.        ]\n",
      "words wanted rel positions [0, 1, 2, 3, 4, 35196]\n",
      "['the' 'weapons' 'these' 'their' 'weaponry' 'Sexual']\n",
      "one of the three tokens in front were not words so skipping\n",
      "one of the three tokens in front were not words so skipping\n",
      "ten sps values [0.36536276 0.11716203 0.0867854  0.05399276 0.01965693 0.01751379\n",
      " 0.0113671  0.00910884 0.00801686 0.00684225]\n",
      "prob slices: [0.36536276 0.29229021 0.21921766 0.14614511 0.07307255 0.        ]\n",
      "words wanted rel positions [0, 1, 2, 3, 4, 35195]\n",
      "['same' 'story' 'truth' 'other' 'whole' 'cumbers']\n",
      "one of the three tokens in front were not words so skipping\n",
      "one of the three tokens in front were not words so skipping\n",
      "ten sps values [0.06276622 0.05227108 0.04409203 0.03855397 0.03699395 0.03369571\n",
      " 0.01917561 0.01780903 0.01725752 0.01660915]\n",
      "prob slices: [0.06276622 0.05021298 0.03765973 0.02510649 0.01255324 0.        ]\n",
      "words wanted rel positions [0, 1, 4, 6, 12, 35196]\n",
      "['own' 'place' 'partner' 'value' 'chances' 'Reviewed']\n",
      "ten sps values [0.5349603  0.10094124 0.09639756 0.05381551 0.04533264 0.03729302\n",
      " 0.02017262 0.01200766 0.01112065 0.00988199]\n",
      "prob slices: [0.53496033 0.42796826 0.3209762  0.21398413 0.10699207 0.        ]\n",
      "words wanted rel positions [0, 1, 2, 3, 4, 35193]\n",
      "['his' 'himself' 'the' 'out' 'back' 'CAST']\n",
      "one of the three tokens in front were not words so skipping\n",
      "one of the three tokens in front were not words so skipping\n",
      "ten sps values [0.72515    0.12334786 0.02939017 0.0284824  0.01833724 0.00611814\n",
      " 0.00563837 0.00413916 0.00399107 0.00353441]\n",
      "prob slices: [0.72514999 0.58011999 0.43508999 0.29006    0.14503    0.        ]\n",
      "words wanted rel positions [0, 1, 2, 3, 4, 35195]\n",
      "['him' 'his' 'it' 'the' 'her' 'Export']\n",
      "one of the three tokens in front were not words so skipping\n",
      "one of the three tokens in front were not words so skipping\n",
      "ten sps values [0.15548737 0.11381613 0.07520269 0.0405112  0.02288244 0.01799409\n",
      " 0.01717026 0.01207147 0.01204886 0.01172266]\n",
      "prob slices: [0.15548737 0.1243899  0.09329242 0.06219495 0.03109747 0.        ]\n",
      "words wanted rel positions [0, 1, 2, 3, 4, 35195]\n",
      "['so' 'a' 'the' 'too' 'able' 'Tokens']\n",
      "ten sps values [0.10321759 0.03336173 0.02416081 0.01495864 0.01487671 0.01319072\n",
      " 0.01294508 0.01134373 0.00989361 0.0097677 ]\n",
      "prob slices: [0.10321759 0.08257408 0.06193056 0.04128704 0.02064352 0.        ]\n",
      "words wanted rel positions [0, 1, 2, 3, 4, 35195]\n",
      "['man' 'new' 'smile' 'pillow' 'lover' 'DEM']\n",
      "ten sps values [0.66799676 0.04252248 0.03396498 0.02823217 0.02178656 0.02174337\n",
      " 0.02160682 0.01850851 0.01837987 0.00937439]\n",
      "prob slices: [0.66799676 0.53439741 0.40079806 0.26719871 0.13359935 0.        ]\n",
      "words wanted rel positions [0, 1, 2, 3, 4, 35196]\n",
      "['that' 'money' 'the' 'I' 'we' 'Sax']\n"
     ]
    }
   ],
   "source": [
    "# applying all analyses to the logits. \n",
    "prompt_length = 100\n",
    "slices_from_each = 6 # as one will also be the ground truth word. \n",
    "to_df = []\n",
    "\n",
    "# randomly select generations and positions in those generations. from the original prompts. \n",
    "for r_ind in range(0, num_prompts_and_timepoints_wanted):\n",
    "    \n",
    "    if want_min_max ==True:\n",
    "        prompt = 999\n",
    "        batch_ind, ind_in_batch = minmax.iloc[r_ind, 1], minmax.iloc[r_ind, 2]\n",
    "        time_point = minmax.iloc[r_ind,3]\n",
    "        if time_point>=149:\n",
    "            continue # because of the stop token being predicted. \n",
    "        text_timepoint = time_point+prompt_length+1 # +1 because the perplexities keeps the end prediction token. \n",
    "    else:\n",
    "        prompt = rand_prompts[r_ind]\n",
    "        time_point = rand_times[r_ind]\n",
    "        text_timepoint = time_point+prompt_length+1 # +1 because the perplexities keeps the end prediction token. \n",
    "        batch_ind, ind_in_batch = mapping_to_batch[prompt]\n",
    "    \n",
    "    sps = softmax(-np.sort(-all_logits[batch_ind][ind_in_batch, time_point, :]))\n",
    "    prob_slices_wanted = np.linspace(sps[0],0,slices_from_each)\n",
    "    \n",
    "    indices = np.argsort(-all_logits[batch_ind][ind_in_batch, time_point, :])\n",
    "    ground_token = text[batch_ind][ind_in_batch][text_timepoint]\n",
    "    prev_token = text[batch_ind][ind_in_batch][text_timepoint-1]\n",
    "    prev_prev_token = text[batch_ind][ind_in_batch][text_timepoint-2]\n",
    "    prev_tokens = [ground_token, prev_token,prev_prev_token]\n",
    "    \n",
    "    stripped_prev_tokens = []\n",
    "    # need to strip the spaces and recode. \n",
    "    for t in prev_tokens:\n",
    "        \n",
    "        gword = decoder_text([t])\n",
    "        space_free = enc.encode(gword.strip())\n",
    "        stripped_prev_tokens.append(space_free)\n",
    "    \n",
    "    #print('prev tokens', prev_tokens)\n",
    "    real_prompt_words, _ = remove_non_words(stripped_prev_tokens, wantPrint=False)\n",
    "    #print(real_prompt_words)\n",
    "    if len(real_prompt_words)<len(stripped_prev_tokens):\n",
    "        print('one of the three tokens in front were not words so skipping')\n",
    "        continue\n",
    "    \n",
    "    ground_word = decoder_text([ground_token])\n",
    "    # what the ground token is\n",
    "    ground_word_prob = sps[ground_token]\n",
    "    \n",
    "    #get the 15 words in front. \n",
    "    lead_prompt_words = decoder_text(text[batch_ind][ind_in_batch][text_timepoint-leading_prompt:text_timepoint])\n",
    "    df_row = [prompt, time_point, batch_ind, ind_in_batch, lead_prompt_words, ground_word, ground_word_prob] # taking it from the last one. \n",
    "    \n",
    "    print('ten sps values', sps[0:10])\n",
    "    print('prob slices:', prob_slices_wanted)\n",
    "    \n",
    "    #remove any non word tokens from whole list. (could be done more efficiently)\n",
    "    real_word_tokens, abs_pos = remove_non_words(indices)\n",
    "    real_word_probs = sps[np.asarray(abs_pos)]\n",
    "    \n",
    "    rel_to_abs_index = {rel:absolute for rel, absolute in zip(range(len(abs_pos)), abs_pos )}\n",
    "    \n",
    "    # select the right positions and words: \n",
    "    #NEED TO IGNORE ANY OF THE SLICES THAT ARE TOO LARGE.  TAKE THE HIGHEST PROB WORD AND THEN DO THE SLICES.\n",
    "    rel_words_positions_wanted, sel_word_probs = get_specific_positions_from_probs(real_word_probs, prob_slices_wanted)\n",
    "    \n",
    "    print('words wanted rel positions', rel_words_positions_wanted)\n",
    "    \n",
    "    abs_words_positions_wanted = [ rel_to_abs_index[rel] for rel in rel_words_positions_wanted]\n",
    "    print(np.asarray(real_word_tokens)[np.asarray(rel_words_positions_wanted)])\n",
    "    df_row.append(np.asarray(real_word_tokens)[np.asarray(rel_words_positions_wanted)]) # adding the words themselves. \n",
    "    df_row.append(abs_words_positions_wanted)\n",
    "    df_row.append(sel_word_probs)\n",
    "        \n",
    "    to_df.append(df_row)"
   ]
  },
  {
   "cell_type": "code",
   "execution_count": 14,
   "metadata": {},
   "outputs": [
    {
     "data": {
      "text/plain": [
       "True"
      ]
     },
     "execution_count": 14,
     "metadata": {},
     "output_type": "execute_result"
    }
   ],
   "source": [
    "d = enchant.Dict(\"en_US\")\n",
    "d.check('rust')"
   ]
  },
  {
   "cell_type": "code",
   "execution_count": 15,
   "metadata": {},
   "outputs": [
    {
     "data": {
      "text/html": [
       "<div>\n",
       "<style scoped>\n",
       "    .dataframe tbody tr th:only-of-type {\n",
       "        vertical-align: middle;\n",
       "    }\n",
       "\n",
       "    .dataframe tbody tr th {\n",
       "        vertical-align: top;\n",
       "    }\n",
       "\n",
       "    .dataframe thead th {\n",
       "        text-align: right;\n",
       "    }\n",
       "</style>\n",
       "<table border=\"1\" class=\"dataframe\">\n",
       "  <thead>\n",
       "    <tr style=\"text-align: right;\">\n",
       "      <th></th>\n",
       "      <th>prompt_ind</th>\n",
       "      <th>time_point</th>\n",
       "      <th>batch_ind</th>\n",
       "      <th>ind_in_batch</th>\n",
       "      <th>leading_words</th>\n",
       "      <th>ground_word</th>\n",
       "      <th>ground_word_prob</th>\n",
       "      <th>words</th>\n",
       "      <th>abs_inds</th>\n",
       "      <th>probs</th>\n",
       "    </tr>\n",
       "  </thead>\n",
       "  <tbody>\n",
       "    <tr>\n",
       "      <th>0</th>\n",
       "      <td>19</td>\n",
       "      <td>28</td>\n",
       "      <td>0</td>\n",
       "      <td>19</td>\n",
       "      <td>change something, might be the one trigger th...</td>\n",
       "      <td>events</td>\n",
       "      <td>4.103564e-07</td>\n",
       "      <td>[events, event, things, circumstances, bad, Po...</td>\n",
       "      <td>[0, 1, 2, 3, 4, 50158]</td>\n",
       "      <td>[0.9782679, 0.0021306623, 0.00077810284, 0.000...</td>\n",
       "    </tr>\n",
       "    <tr>\n",
       "      <th>1</th>\n",
       "      <td>72</td>\n",
       "      <td>100</td>\n",
       "      <td>3</td>\n",
       "      <td>2</td>\n",
       "      <td>the world ’ s leading pharmaceutical companie...</td>\n",
       "      <td>would</td>\n",
       "      <td>5.513494e-05</td>\n",
       "      <td>[were, had, would, could, are, iterator]</td>\n",
       "      <td>[0, 3, 5, 6, 7, 50140]</td>\n",
       "      <td>[0.123787306, 0.09488712, 0.04294153, 0.035621...</td>\n",
       "    </tr>\n",
       "    <tr>\n",
       "      <th>2</th>\n",
       "      <td>31</td>\n",
       "      <td>29</td>\n",
       "      <td>1</td>\n",
       "      <td>8</td>\n",
       "      <td>off guard. While your body lay half on the co...</td>\n",
       "      <td>edge</td>\n",
       "      <td>1.622044e-06</td>\n",
       "      <td>[edge, counter, sink, side, table, Plot]</td>\n",
       "      <td>[0, 1, 2, 3, 4, 50130]</td>\n",
       "      <td>[0.27985963, 0.1617055, 0.08516163, 0.06683456...</td>\n",
       "    </tr>\n",
       "    <tr>\n",
       "      <th>3</th>\n",
       "      <td>56</td>\n",
       "      <td>73</td>\n",
       "      <td>2</td>\n",
       "      <td>10</td>\n",
       "      <td>I'm getting rrREAdy''. My murmur had ended with</td>\n",
       "      <td>a</td>\n",
       "      <td>5.716932e-05</td>\n",
       "      <td>[a, the, my, an, me, conservancy]</td>\n",
       "      <td>[0, 1, 2, 3, 4, 50140]</td>\n",
       "      <td>[0.41619945, 0.17138307, 0.11777301, 0.0551321...</td>\n",
       "    </tr>\n",
       "    <tr>\n",
       "      <th>4</th>\n",
       "      <td>24</td>\n",
       "      <td>60</td>\n",
       "      <td>1</td>\n",
       "      <td>1</td>\n",
       "      <td>crunched underneath and the ground bubbled wi...</td>\n",
       "      <td>creek</td>\n",
       "      <td>2.153896e-08</td>\n",
       "      <td>[and, of, oak, sand, sky, Eat]</td>\n",
       "      <td>[4, 5, 6, 7, 8, 50156]</td>\n",
       "      <td>[0.023683885, 0.013982991, 0.011684752, 0.0113...</td>\n",
       "    </tr>\n",
       "    <tr>\n",
       "      <th>5</th>\n",
       "      <td>13</td>\n",
       "      <td>64</td>\n",
       "      <td>0</td>\n",
       "      <td>13</td>\n",
       "      <td>lady because the ugly mug of hers somehow brin...</td>\n",
       "      <td>is</td>\n",
       "      <td>2.049686e-04</td>\n",
       "      <td>[he, is, makes, she, the, prototype]</td>\n",
       "      <td>[0, 1, 2, 3, 4, 50158]</td>\n",
       "      <td>[0.22781697, 0.077138565, 0.047752414, 0.04415...</td>\n",
       "    </tr>\n",
       "    <tr>\n",
       "      <th>6</th>\n",
       "      <td>42</td>\n",
       "      <td>108</td>\n",
       "      <td>1</td>\n",
       "      <td>19</td>\n",
       "      <td>before it can even be started. \\n \\n Neverthe...</td>\n",
       "      <td>adept</td>\n",
       "      <td>1.260401e-08</td>\n",
       "      <td>[simple, a, young, deliberate, simply, 7601]</td>\n",
       "      <td>[0, 2, 4, 7, 15, 50152]</td>\n",
       "      <td>[0.042511407, 0.031731628, 0.023607282, 0.0148...</td>\n",
       "    </tr>\n",
       "    <tr>\n",
       "      <th>7</th>\n",
       "      <td>62</td>\n",
       "      <td>53</td>\n",
       "      <td>2</td>\n",
       "      <td>16</td>\n",
       "      <td>voice. ``I wish I could actually be challenge...</td>\n",
       "      <td>shock</td>\n",
       "      <td>2.355514e-06</td>\n",
       "      <td>[his, a, the, thought, an, cumbers]</td>\n",
       "      <td>[0, 1, 2, 3, 4, 50158]</td>\n",
       "      <td>[0.25678304, 0.12715816, 0.051833175, 0.038946...</td>\n",
       "    </tr>\n",
       "    <tr>\n",
       "      <th>8</th>\n",
       "      <td>31</td>\n",
       "      <td>28</td>\n",
       "      <td>1</td>\n",
       "      <td>8</td>\n",
       "      <td>you off guard. While your body lay half on th...</td>\n",
       "      <td>the</td>\n",
       "      <td>3.848319e-05</td>\n",
       "      <td>[your, the, his, it, one, ODE]</td>\n",
       "      <td>[0, 1, 2, 3, 4, 50133]</td>\n",
       "      <td>[0.3757138, 0.36019436, 0.05797093, 0.05231691...</td>\n",
       "    </tr>\n",
       "    <tr>\n",
       "      <th>9</th>\n",
       "      <td>39</td>\n",
       "      <td>46</td>\n",
       "      <td>1</td>\n",
       "      <td>16</td>\n",
       "      <td>their data analysis, their legislation and li...</td>\n",
       "      <td>novel</td>\n",
       "      <td>1.560937e-05</td>\n",
       "      <td>[social, political, medical, research, design,...</td>\n",
       "      <td>[0, 2, 3, 9, 31, 50154]</td>\n",
       "      <td>[0.018451318, 0.014097815, 0.010854172, 0.0073...</td>\n",
       "    </tr>\n",
       "    <tr>\n",
       "      <th>10</th>\n",
       "      <td>53</td>\n",
       "      <td>100</td>\n",
       "      <td>2</td>\n",
       "      <td>7</td>\n",
       "      <td>, I fully use the power of organization and am...</td>\n",
       "      <td>secretaries</td>\n",
       "      <td>2.166052e-10</td>\n",
       "      <td>[organized, at, in, people, organizers, rush]</td>\n",
       "      <td>[0, 1, 2, 3, 4, 50161]</td>\n",
       "      <td>[0.2333325, 0.13031088, 0.054542486, 0.0480358...</td>\n",
       "    </tr>\n",
       "    <tr>\n",
       "      <th>11</th>\n",
       "      <td>33</td>\n",
       "      <td>114</td>\n",
       "      <td>1</td>\n",
       "      <td>10</td>\n",
       "      <td>to use modern aged weapons. Everyone else was...</td>\n",
       "      <td>technology</td>\n",
       "      <td>3.796790e-06</td>\n",
       "      <td>[the, weapons, these, their, weaponry, Sexual]</td>\n",
       "      <td>[0, 1, 2, 3, 4, 50155]</td>\n",
       "      <td>[0.20355582, 0.13363923, 0.09389567, 0.0608590...</td>\n",
       "    </tr>\n",
       "    <tr>\n",
       "      <th>12</th>\n",
       "      <td>48</td>\n",
       "      <td>24</td>\n",
       "      <td>2</td>\n",
       "      <td>2</td>\n",
       "      <td>dude, that was hell you just came from. (I to...</td>\n",
       "      <td>Jews</td>\n",
       "      <td>2.580503e-06</td>\n",
       "      <td>[same, story, truth, other, whole, cumbers]</td>\n",
       "      <td>[0, 1, 2, 3, 4, 50160]</td>\n",
       "      <td>[0.36536276, 0.11716203, 0.0867854, 0.05399276...</td>\n",
       "    </tr>\n",
       "    <tr>\n",
       "      <th>13</th>\n",
       "      <td>42</td>\n",
       "      <td>45</td>\n",
       "      <td>1</td>\n",
       "      <td>19</td>\n",
       "      <td>, despite both parties equally capable of feel...</td>\n",
       "      <td>trade</td>\n",
       "      <td>1.015331e-05</td>\n",
       "      <td>[own, place, partner, value, chances, Reviewed]</td>\n",
       "      <td>[0, 1, 4, 6, 12, 50161]</td>\n",
       "      <td>[0.062766224, 0.05227108, 0.03699395, 0.019175...</td>\n",
       "    </tr>\n",
       "    <tr>\n",
       "      <th>14</th>\n",
       "      <td>19</td>\n",
       "      <td>2</td>\n",
       "      <td>0</td>\n",
       "      <td>19</td>\n",
       "      <td>. Just count the stars, right? * \\n \\n He eased</td>\n",
       "      <td>his</td>\n",
       "      <td>5.129267e-06</td>\n",
       "      <td>[his, himself, the, out, back, CAST]</td>\n",
       "      <td>[0, 1, 2, 3, 4, 50122]</td>\n",
       "      <td>[0.5349603, 0.10094124, 0.09639756, 0.05381551...</td>\n",
       "    </tr>\n",
       "    <tr>\n",
       "      <th>15</th>\n",
       "      <td>23</td>\n",
       "      <td>91</td>\n",
       "      <td>1</td>\n",
       "      <td>0</td>\n",
       "      <td>. Thoughts of her always danced in the back of...</td>\n",
       "      <td>his</td>\n",
       "      <td>9.561581e-06</td>\n",
       "      <td>[him, his, it, the, her, Export]</td>\n",
       "      <td>[0, 1, 2, 3, 4, 50156]</td>\n",
       "      <td>[0.72515, 0.12334786, 0.029390175, 0.028482404...</td>\n",
       "    </tr>\n",
       "    <tr>\n",
       "      <th>16</th>\n",
       "      <td>17</td>\n",
       "      <td>144</td>\n",
       "      <td>0</td>\n",
       "      <td>17</td>\n",
       "      <td>\\n He had forgotten so much of this day. He h...</td>\n",
       "      <td>told</td>\n",
       "      <td>2.744273e-05</td>\n",
       "      <td>[so, a, the, too, able, Tokens]</td>\n",
       "      <td>[0, 1, 2, 3, 4, 50140]</td>\n",
       "      <td>[0.15548737, 0.11381613, 0.07520269, 0.0405112...</td>\n",
       "    </tr>\n",
       "    <tr>\n",
       "      <th>17</th>\n",
       "      <td>23</td>\n",
       "      <td>42</td>\n",
       "      <td>1</td>\n",
       "      <td>0</td>\n",
       "      <td>. One of the most satisfying moments for him w...</td>\n",
       "      <td>smile</td>\n",
       "      <td>2.294331e-06</td>\n",
       "      <td>[man, new, smile, pillow, lover, DEM]</td>\n",
       "      <td>[0, 1, 2, 3, 4, 50160]</td>\n",
       "      <td>[0.103217594, 0.033361733, 0.02416081, 0.01495...</td>\n",
       "    </tr>\n",
       "    <tr>\n",
       "      <th>18</th>\n",
       "      <td>7</td>\n",
       "      <td>117</td>\n",
       "      <td>0</td>\n",
       "      <td>7</td>\n",
       "      <td>expecting it. ” \\n \\n“ So are you saying</td>\n",
       "      <td>we</td>\n",
       "      <td>2.269794e-05</td>\n",
       "      <td>[that, money, the, I, we, Sax]</td>\n",
       "      <td>[0, 1, 2, 4, 5, 50146]</td>\n",
       "      <td>[0.66799676, 0.042522475, 0.03396498, 0.021786...</td>\n",
       "    </tr>\n",
       "  </tbody>\n",
       "</table>\n",
       "</div>"
      ],
      "text/plain": [
       "    prompt_ind  time_point  batch_ind  ind_in_batch  \\\n",
       "0           19          28          0            19   \n",
       "1           72         100          3             2   \n",
       "2           31          29          1             8   \n",
       "3           56          73          2            10   \n",
       "4           24          60          1             1   \n",
       "5           13          64          0            13   \n",
       "6           42         108          1            19   \n",
       "7           62          53          2            16   \n",
       "8           31          28          1             8   \n",
       "9           39          46          1            16   \n",
       "10          53         100          2             7   \n",
       "11          33         114          1            10   \n",
       "12          48          24          2             2   \n",
       "13          42          45          1            19   \n",
       "14          19           2          0            19   \n",
       "15          23          91          1             0   \n",
       "16          17         144          0            17   \n",
       "17          23          42          1             0   \n",
       "18           7         117          0             7   \n",
       "\n",
       "                                        leading_words   ground_word  \\\n",
       "0    change something, might be the one trigger th...        events   \n",
       "1    the world ’ s leading pharmaceutical companie...         would   \n",
       "2    off guard. While your body lay half on the co...          edge   \n",
       "3     I'm getting rrREAdy''. My murmur had ended with             a   \n",
       "4    crunched underneath and the ground bubbled wi...         creek   \n",
       "5   lady because the ugly mug of hers somehow brin...            is   \n",
       "6    before it can even be started. \\n \\n Neverthe...         adept   \n",
       "7    voice. ``I wish I could actually be challenge...         shock   \n",
       "8    you off guard. While your body lay half on th...           the   \n",
       "9    their data analysis, their legislation and li...         novel   \n",
       "10  , I fully use the power of organization and am...   secretaries   \n",
       "11   to use modern aged weapons. Everyone else was...    technology   \n",
       "12   dude, that was hell you just came from. (I to...          Jews   \n",
       "13  , despite both parties equally capable of feel...         trade   \n",
       "14    . Just count the stars, right? * \\n \\n He eased           his   \n",
       "15  . Thoughts of her always danced in the back of...           his   \n",
       "16   \\n He had forgotten so much of this day. He h...          told   \n",
       "17  . One of the most satisfying moments for him w...         smile   \n",
       "18           expecting it. ” \\n \\n“ So are you saying            we   \n",
       "\n",
       "    ground_word_prob                                              words  \\\n",
       "0       4.103564e-07  [events, event, things, circumstances, bad, Po...   \n",
       "1       5.513494e-05           [were, had, would, could, are, iterator]   \n",
       "2       1.622044e-06           [edge, counter, sink, side, table, Plot]   \n",
       "3       5.716932e-05                  [a, the, my, an, me, conservancy]   \n",
       "4       2.153896e-08                     [and, of, oak, sand, sky, Eat]   \n",
       "5       2.049686e-04               [he, is, makes, she, the, prototype]   \n",
       "6       1.260401e-08       [simple, a, young, deliberate, simply, 7601]   \n",
       "7       2.355514e-06                [his, a, the, thought, an, cumbers]   \n",
       "8       3.848319e-05                     [your, the, his, it, one, ODE]   \n",
       "9       1.560937e-05  [social, political, medical, research, design,...   \n",
       "10      2.166052e-10      [organized, at, in, people, organizers, rush]   \n",
       "11      3.796790e-06     [the, weapons, these, their, weaponry, Sexual]   \n",
       "12      2.580503e-06        [same, story, truth, other, whole, cumbers]   \n",
       "13      1.015331e-05    [own, place, partner, value, chances, Reviewed]   \n",
       "14      5.129267e-06               [his, himself, the, out, back, CAST]   \n",
       "15      9.561581e-06                   [him, his, it, the, her, Export]   \n",
       "16      2.744273e-05                    [so, a, the, too, able, Tokens]   \n",
       "17      2.294331e-06              [man, new, smile, pillow, lover, DEM]   \n",
       "18      2.269794e-05                     [that, money, the, I, we, Sax]   \n",
       "\n",
       "                   abs_inds                                              probs  \n",
       "0    [0, 1, 2, 3, 4, 50158]  [0.9782679, 0.0021306623, 0.00077810284, 0.000...  \n",
       "1    [0, 3, 5, 6, 7, 50140]  [0.123787306, 0.09488712, 0.04294153, 0.035621...  \n",
       "2    [0, 1, 2, 3, 4, 50130]  [0.27985963, 0.1617055, 0.08516163, 0.06683456...  \n",
       "3    [0, 1, 2, 3, 4, 50140]  [0.41619945, 0.17138307, 0.11777301, 0.0551321...  \n",
       "4    [4, 5, 6, 7, 8, 50156]  [0.023683885, 0.013982991, 0.011684752, 0.0113...  \n",
       "5    [0, 1, 2, 3, 4, 50158]  [0.22781697, 0.077138565, 0.047752414, 0.04415...  \n",
       "6   [0, 2, 4, 7, 15, 50152]  [0.042511407, 0.031731628, 0.023607282, 0.0148...  \n",
       "7    [0, 1, 2, 3, 4, 50158]  [0.25678304, 0.12715816, 0.051833175, 0.038946...  \n",
       "8    [0, 1, 2, 3, 4, 50133]  [0.3757138, 0.36019436, 0.05797093, 0.05231691...  \n",
       "9   [0, 2, 3, 9, 31, 50154]  [0.018451318, 0.014097815, 0.010854172, 0.0073...  \n",
       "10   [0, 1, 2, 3, 4, 50161]  [0.2333325, 0.13031088, 0.054542486, 0.0480358...  \n",
       "11   [0, 1, 2, 3, 4, 50155]  [0.20355582, 0.13363923, 0.09389567, 0.0608590...  \n",
       "12   [0, 1, 2, 3, 4, 50160]  [0.36536276, 0.11716203, 0.0867854, 0.05399276...  \n",
       "13  [0, 1, 4, 6, 12, 50161]  [0.062766224, 0.05227108, 0.03699395, 0.019175...  \n",
       "14   [0, 1, 2, 3, 4, 50122]  [0.5349603, 0.10094124, 0.09639756, 0.05381551...  \n",
       "15   [0, 1, 2, 3, 4, 50156]  [0.72515, 0.12334786, 0.029390175, 0.028482404...  \n",
       "16   [0, 1, 2, 3, 4, 50140]  [0.15548737, 0.11381613, 0.07520269, 0.0405112...  \n",
       "17   [0, 1, 2, 3, 4, 50160]  [0.103217594, 0.033361733, 0.02416081, 0.01495...  \n",
       "18   [0, 1, 2, 4, 5, 50146]  [0.66799676, 0.042522475, 0.03396498, 0.021786...  "
      ]
     },
     "execution_count": 15,
     "metadata": {},
     "output_type": "execute_result"
    }
   ],
   "source": [
    "results = pd.DataFrame(to_df, columns = ['prompt_ind', 'time_point', \n",
    "                               'batch_ind', 'ind_in_batch', 'leading_words',\n",
    "                               'ground_word', 'ground_word_prob', 'words', 'abs_inds', 'probs'])\n",
    "                                         \n",
    "results"
   ]
  },
  {
   "cell_type": "code",
   "execution_count": 16,
   "metadata": {},
   "outputs": [],
   "source": [
    "assert results.drop_duplicates('leading_words').shape == results.shape"
   ]
  },
  {
   "cell_type": "code",
   "execution_count": 17,
   "metadata": {},
   "outputs": [
    {
     "data": {
      "text/plain": [
       "(19, 10)"
      ]
     },
     "execution_count": 17,
     "metadata": {},
     "output_type": "execute_result"
    }
   ],
   "source": [
    "results.shape"
   ]
  },
  {
   "cell_type": "code",
   "execution_count": 18,
   "metadata": {},
   "outputs": [
    {
     "data": {
      "text/html": [
       "<div>\n",
       "<style scoped>\n",
       "    .dataframe tbody tr th:only-of-type {\n",
       "        vertical-align: middle;\n",
       "    }\n",
       "\n",
       "    .dataframe tbody tr th {\n",
       "        vertical-align: top;\n",
       "    }\n",
       "\n",
       "    .dataframe thead th {\n",
       "        text-align: right;\n",
       "    }\n",
       "</style>\n",
       "<table border=\"1\" class=\"dataframe\">\n",
       "  <thead>\n",
       "    <tr style=\"text-align: right;\">\n",
       "      <th></th>\n",
       "      <th>prompt_ind</th>\n",
       "      <th>time_point</th>\n",
       "      <th>batch_ind</th>\n",
       "      <th>ind_in_batch</th>\n",
       "      <th>leading_words</th>\n",
       "      <th>ground_word</th>\n",
       "      <th>ground_word_prob</th>\n",
       "      <th>words</th>\n",
       "      <th>abs_inds</th>\n",
       "      <th>probs</th>\n",
       "    </tr>\n",
       "  </thead>\n",
       "  <tbody>\n",
       "    <tr>\n",
       "      <th>0</th>\n",
       "      <td>19</td>\n",
       "      <td>28</td>\n",
       "      <td>0</td>\n",
       "      <td>19</td>\n",
       "      <td>change something, might be the one trigger th...</td>\n",
       "      <td>events</td>\n",
       "      <td>4.103564e-07</td>\n",
       "      <td>[events, event, things, circumstances, bad, Po...</td>\n",
       "      <td>[0, 1, 2, 3, 4, 50158]</td>\n",
       "      <td>[0.9782679, 0.0021306623, 0.00077810284, 0.000...</td>\n",
       "    </tr>\n",
       "    <tr>\n",
       "      <th>1</th>\n",
       "      <td>72</td>\n",
       "      <td>100</td>\n",
       "      <td>3</td>\n",
       "      <td>2</td>\n",
       "      <td>the world ’ s leading pharmaceutical companie...</td>\n",
       "      <td>would</td>\n",
       "      <td>5.513494e-05</td>\n",
       "      <td>[were, had, would, could, are, iterator]</td>\n",
       "      <td>[0, 3, 5, 6, 7, 50140]</td>\n",
       "      <td>[0.123787306, 0.09488712, 0.04294153, 0.035621...</td>\n",
       "    </tr>\n",
       "    <tr>\n",
       "      <th>2</th>\n",
       "      <td>31</td>\n",
       "      <td>29</td>\n",
       "      <td>1</td>\n",
       "      <td>8</td>\n",
       "      <td>off guard. While your body lay half on the co...</td>\n",
       "      <td>edge</td>\n",
       "      <td>1.622044e-06</td>\n",
       "      <td>[edge, counter, sink, side, table, Plot]</td>\n",
       "      <td>[0, 1, 2, 3, 4, 50130]</td>\n",
       "      <td>[0.27985963, 0.1617055, 0.08516163, 0.06683456...</td>\n",
       "    </tr>\n",
       "    <tr>\n",
       "      <th>3</th>\n",
       "      <td>56</td>\n",
       "      <td>73</td>\n",
       "      <td>2</td>\n",
       "      <td>10</td>\n",
       "      <td>I'm getting rrREAdy''. My murmur had ended with</td>\n",
       "      <td>a</td>\n",
       "      <td>5.716932e-05</td>\n",
       "      <td>[a, the, my, an, me, conservancy]</td>\n",
       "      <td>[0, 1, 2, 3, 4, 50140]</td>\n",
       "      <td>[0.41619945, 0.17138307, 0.11777301, 0.0551321...</td>\n",
       "    </tr>\n",
       "    <tr>\n",
       "      <th>4</th>\n",
       "      <td>24</td>\n",
       "      <td>60</td>\n",
       "      <td>1</td>\n",
       "      <td>1</td>\n",
       "      <td>crunched underneath and the ground bubbled wi...</td>\n",
       "      <td>creek</td>\n",
       "      <td>2.153896e-08</td>\n",
       "      <td>[and, of, oak, sand, sky, Eat]</td>\n",
       "      <td>[4, 5, 6, 7, 8, 50156]</td>\n",
       "      <td>[0.023683885, 0.013982991, 0.011684752, 0.0113...</td>\n",
       "    </tr>\n",
       "    <tr>\n",
       "      <th>5</th>\n",
       "      <td>13</td>\n",
       "      <td>64</td>\n",
       "      <td>0</td>\n",
       "      <td>13</td>\n",
       "      <td>lady because the ugly mug of hers somehow brin...</td>\n",
       "      <td>is</td>\n",
       "      <td>2.049686e-04</td>\n",
       "      <td>[he, is, makes, she, the, prototype]</td>\n",
       "      <td>[0, 1, 2, 3, 4, 50158]</td>\n",
       "      <td>[0.22781697, 0.077138565, 0.047752414, 0.04415...</td>\n",
       "    </tr>\n",
       "    <tr>\n",
       "      <th>6</th>\n",
       "      <td>42</td>\n",
       "      <td>108</td>\n",
       "      <td>1</td>\n",
       "      <td>19</td>\n",
       "      <td>before it can even be started. \\n \\n Neverthe...</td>\n",
       "      <td>adept</td>\n",
       "      <td>1.260401e-08</td>\n",
       "      <td>[simple, a, young, deliberate, simply, 7601]</td>\n",
       "      <td>[0, 2, 4, 7, 15, 50152]</td>\n",
       "      <td>[0.042511407, 0.031731628, 0.023607282, 0.0148...</td>\n",
       "    </tr>\n",
       "  </tbody>\n",
       "</table>\n",
       "</div>"
      ],
      "text/plain": [
       "   prompt_ind  time_point  batch_ind  ind_in_batch  \\\n",
       "0          19          28          0            19   \n",
       "1          72         100          3             2   \n",
       "2          31          29          1             8   \n",
       "3          56          73          2            10   \n",
       "4          24          60          1             1   \n",
       "5          13          64          0            13   \n",
       "6          42         108          1            19   \n",
       "\n",
       "                                       leading_words ground_word  \\\n",
       "0   change something, might be the one trigger th...      events   \n",
       "1   the world ’ s leading pharmaceutical companie...       would   \n",
       "2   off guard. While your body lay half on the co...        edge   \n",
       "3    I'm getting rrREAdy''. My murmur had ended with           a   \n",
       "4   crunched underneath and the ground bubbled wi...       creek   \n",
       "5  lady because the ugly mug of hers somehow brin...          is   \n",
       "6   before it can even be started. \\n \\n Neverthe...       adept   \n",
       "\n",
       "   ground_word_prob                                              words  \\\n",
       "0      4.103564e-07  [events, event, things, circumstances, bad, Po...   \n",
       "1      5.513494e-05           [were, had, would, could, are, iterator]   \n",
       "2      1.622044e-06           [edge, counter, sink, side, table, Plot]   \n",
       "3      5.716932e-05                  [a, the, my, an, me, conservancy]   \n",
       "4      2.153896e-08                     [and, of, oak, sand, sky, Eat]   \n",
       "5      2.049686e-04               [he, is, makes, she, the, prototype]   \n",
       "6      1.260401e-08       [simple, a, young, deliberate, simply, 7601]   \n",
       "\n",
       "                  abs_inds                                              probs  \n",
       "0   [0, 1, 2, 3, 4, 50158]  [0.9782679, 0.0021306623, 0.00077810284, 0.000...  \n",
       "1   [0, 3, 5, 6, 7, 50140]  [0.123787306, 0.09488712, 0.04294153, 0.035621...  \n",
       "2   [0, 1, 2, 3, 4, 50130]  [0.27985963, 0.1617055, 0.08516163, 0.06683456...  \n",
       "3   [0, 1, 2, 3, 4, 50140]  [0.41619945, 0.17138307, 0.11777301, 0.0551321...  \n",
       "4   [4, 5, 6, 7, 8, 50156]  [0.023683885, 0.013982991, 0.011684752, 0.0113...  \n",
       "5   [0, 1, 2, 3, 4, 50158]  [0.22781697, 0.077138565, 0.047752414, 0.04415...  \n",
       "6  [0, 2, 4, 7, 15, 50152]  [0.042511407, 0.031731628, 0.023607282, 0.0148...  "
      ]
     },
     "execution_count": 18,
     "metadata": {},
     "output_type": "execute_result"
    }
   ],
   "source": [
    "results.head(7)"
   ]
  },
  {
   "cell_type": "code",
   "execution_count": 19,
   "metadata": {},
   "outputs": [
    {
     "data": {
      "text/plain": [
       "'lady because the ugly mug of hers somehow brings a sense of familiarity that'"
      ]
     },
     "execution_count": 19,
     "metadata": {},
     "output_type": "execute_result"
    }
   ],
   "source": [
    "results.loc[5, 'leading_words']"
   ]
  },
  {
   "cell_type": "code",
   "execution_count": 20,
   "metadata": {},
   "outputs": [],
   "source": [
    "results.to_csv('backup_of_different_prob_slices.csv')"
   ]
  },
  {
   "cell_type": "code",
   "execution_count": 21,
   "metadata": {},
   "outputs": [],
   "source": [
    "file_name_base = 'prob_slice_replaceable_comparisons'"
   ]
  },
  {
   "cell_type": "code",
   "execution_count": 28,
   "metadata": {},
   "outputs": [],
   "source": [
    "answer_orders = []\n",
    "with open(file_name_base + '_blind_output.txt', 'w') as file: \n",
    "    file.write('For each of the following assignments, rank on a scale of 1-5 how possible each word is, given the provided context. \\n')\n",
    "    file.write('Some words are stems, if the word could be completed then you can still rank it highly. And be generous with acronyms that could be plausible. ')\n",
    "    file.write('It helps to repeat the last few words of the prompt in your head while deciding how replaceable the current one is.')\n",
    "    file.write('5 means the word would work very well here, 1 means it doesnt make any sense, 3 means it could potentially work.')\n",
    "    file.write('===================================================== \\n \\n')\n",
    "    for ind in range(results.shape[0]):\n",
    "        file.write('Prompt '+str(ind)+'. \\n')\n",
    "        file.write('The '+str(leading_prompt)+' words in front: \\n \\n')\n",
    "        file.write(results.loc[ind, 'leading_words']+' _______')\n",
    "        #file.write(results.loc[ind, 'leading_words']+' : '+ results.loc[ind, 'ground_word'] )\n",
    "        file.write('\\n')\n",
    "        \n",
    "        words = [results.loc[ind, 'ground_word']]\n",
    "        words += list(results.loc[ind, 'words'])\n",
    "        words =np.asarray(words)\n",
    "        \n",
    "        order = ['ground_word']\n",
    "        order += [str(i) for i in range(len(words)-1)]\n",
    "        order = np.asarray(order)\n",
    "        \n",
    "        probs = [results.loc[ind, 'ground_word_prob']]\n",
    "        probs += results.loc[ind, 'probs']\n",
    "        probs = np.asarray(probs)\n",
    "                \n",
    "        #print(words, order)\n",
    "        shuffler = np.random.choice(range(len(words)), size =len(words), replace=False )\n",
    "        #print(len(words))\n",
    "        #print(shuffler)\n",
    "        \n",
    "        words = words[shuffler]\n",
    "        order = order[shuffler]\n",
    "        probs = probs[shuffler]\n",
    "        \n",
    "        question_answers = []\n",
    "        for w, p, o in zip(words,probs, order):\n",
    "            \n",
    "            if o=='ground_word':\n",
    "                w_p = (w,p,1)\n",
    "            else: \n",
    "                w_p = (w,p,0)\n",
    "        \n",
    "            question_answers.append(w_p)\n",
    "            \n",
    "        answer_orders.append(question_answers)\n",
    "        \n",
    "        #print('after', words, order)\n",
    "        \n",
    "        for i in range(len(words)):\n",
    "            file.write(str(i+1)+'. '+words[i]+' ')\n",
    "                \n",
    "        file.write('\\n \\n')\n",
    "        file.write('=====================================================')\n",
    "        file.write('\\n \\n')\n",
    "        \n",
    "with open(file_name_base + '_answers.txt', 'w') as file: \n",
    "    for ind, w_p in enumerate(answer_orders):\n",
    "        file.write('Prompt '+str(ind)+' : \\n')\n",
    "        for el_ind, el in enumerate(w_p): \n",
    "            file.write(str(el_ind+1) + '. '+str(el) +' ')\n",
    "        file.write('\\n')\n",
    "        file.write('=====================================================')\n",
    "        file.write('\\n')\n",
    "\n",
    "pickle.dump(answer_orders,open(file_name_base + '_answers_list.pickle','wb'))"
   ]
  },
  {
   "cell_type": "code",
   "execution_count": 29,
   "metadata": {},
   "outputs": [
    {
     "data": {
      "text/plain": [
       "[[(' events', 4.1035644926523673e-07, 1),\n",
       "  ('things', 0.0007781028398312628, 0),\n",
       "  ('events', 0.9782679080963135, 0),\n",
       "  ('bad', 0.0004916115431115031, 0),\n",
       "  ('Population', 7.025027803399253e-13, 0),\n",
       "  ('circumstances', 0.0005090322229079902, 0),\n",
       "  ('event', 0.0021306623239070177, 0)],\n",
       " [('would', 0.04294152930378914, 0),\n",
       "  (' would', 5.5134936701506376e-05, 1),\n",
       "  ('had', 0.09488712251186371, 0),\n",
       "  ('iterator', 1.5726539862037647e-11, 0),\n",
       "  ('are', 0.01786944642663002, 0),\n",
       "  ('were', 0.1237873062491417, 0),\n",
       "  ('could', 0.03562188893556595, 0)],\n",
       " [('side', 0.06683456152677536, 0),\n",
       "  ('counter', 0.16170549392700195, 0),\n",
       "  ('Plot', 1.6408815278756705e-11, 0),\n",
       "  (' edge', 1.6220442375924904e-06, 1),\n",
       "  ('sink', 0.08516162633895874, 0),\n",
       "  ('edge', 0.27985963225364685, 0),\n",
       "  ('table', 0.03213869407773018, 0)],\n",
       " [('an', 0.0551321804523468, 0),\n",
       "  ('me', 0.044027868658304214, 0),\n",
       "  ('the', 0.1713830679655075, 0),\n",
       "  ('my', 0.11777301132678986, 0),\n",
       "  ('conservancy', 2.3627343137544443e-11, 0),\n",
       "  (' a', 5.716932355426252e-05, 1),\n",
       "  ('a', 0.4161994457244873, 0)],\n",
       " [('oak', 0.011684752069413662, 0),\n",
       "  ('and', 0.023683885112404823, 0),\n",
       "  ('sky', 0.010126766748726368, 0),\n",
       "  ('Eat', 6.070240837763308e-11, 0),\n",
       "  ('sand', 0.011330608278512955, 0),\n",
       "  (' creek', 2.1538962613476542e-08, 1),\n",
       "  ('of', 0.013982990756630898, 0)],\n",
       " [(' is', 0.00020496858633123338, 1),\n",
       "  ('the', 0.029731499031186104, 0),\n",
       "  ('is', 0.07713856548070908, 0),\n",
       "  ('prototype', 4.2622644996770376e-11, 0),\n",
       "  ('makes', 0.047752413898706436, 0),\n",
       "  ('she', 0.04415161535143852, 0),\n",
       "  ('he', 0.22781696915626526, 0)],\n",
       " [(' adept', 1.2604008503558362e-08, 1),\n",
       "  ('simply', 0.008427090011537075, 0),\n",
       "  ('simple', 0.042511407285928726, 0),\n",
       "  ('young', 0.02360728196799755, 0),\n",
       "  ('deliberate', 0.014849836938083172, 0),\n",
       "  ('a', 0.03173162788152695, 0),\n",
       "  ('7601', 1.5810904668844827e-11, 0)],\n",
       " [('an', 0.03536023572087288, 0),\n",
       "  ('the', 0.051833175122737885, 0),\n",
       "  (' shock', 2.355513743168558e-06, 1),\n",
       "  ('a', 0.12715816497802734, 0),\n",
       "  ('cumbers', 2.3367134616147922e-11, 0),\n",
       "  ('his', 0.25678303837776184, 0),\n",
       "  ('thought', 0.03894629701972008, 0)],\n",
       " [('his', 0.05797092989087105, 0),\n",
       "  ('it', 0.05231691151857376, 0),\n",
       "  ('ODE', 1.615250251260636e-12, 0),\n",
       "  (' the', 3.8483194657601416e-05, 1),\n",
       "  ('one', 0.012323369272053242, 0),\n",
       "  ('the', 0.3601943552494049, 0),\n",
       "  ('your', 0.3757137954235077, 0)],\n",
       " [('social', 0.01845131814479828, 0),\n",
       "  ('medical', 0.010854171589016914, 0),\n",
       "  (' novel', 1.56093665282242e-05, 1),\n",
       "  ('research', 0.007366378325968981, 0),\n",
       "  ('design', 0.0036812543403357267, 0),\n",
       "  ('political', 0.014097815379500389, 0),\n",
       "  ('winner', 1.1857578807727975e-10, 0)],\n",
       " [('at', 0.13031087815761566, 0),\n",
       "  (' secretaries', 2.16605164360395e-10, 1),\n",
       "  ('rush', 7.324437063804812e-12, 0),\n",
       "  ('organized', 0.23333249986171722, 0),\n",
       "  ('people', 0.04803589731454849, 0),\n",
       "  ('organizers', 0.018733913078904152, 0),\n",
       "  ('in', 0.05454248562455177, 0)],\n",
       " [('their', 0.060859017074108124, 0),\n",
       "  ('Sexual', 1.827514528596197e-11, 0),\n",
       "  (' technology', 3.7967895423207665e-06, 1),\n",
       "  ('these', 0.09389566630125046, 0),\n",
       "  ('weapons', 0.13363923132419586, 0),\n",
       "  ('the', 0.20355582237243652, 0),\n",
       "  ('weaponry', 0.04151910915970802, 0)],\n",
       " [('whole', 0.019656933844089508, 0),\n",
       "  ('same', 0.3653627634048462, 0),\n",
       "  ('truth', 0.08678539842367172, 0),\n",
       "  ('other', 0.05399276316165924, 0),\n",
       "  ('story', 0.11716202646493912, 0),\n",
       "  ('cumbers', 1.6284040088576646e-11, 0),\n",
       "  (' Jews', 2.5805034056247678e-06, 1)],\n",
       " [(' trade', 1.0153305993299e-05, 1),\n",
       "  ('partner', 0.036993950605392456, 0),\n",
       "  ('Reviewed', 1.139088216112194e-11, 0),\n",
       "  ('place', 0.052271079272031784, 0),\n",
       "  ('chances', 0.011011623777449131, 0),\n",
       "  ('value', 0.019175605848431587, 0),\n",
       "  ('own', 0.06276622414588928, 0)],\n",
       " [('his', 0.5349603295326233, 0),\n",
       "  ('himself', 0.1009412407875061, 0),\n",
       "  (' his', 5.129267265147064e-06, 1),\n",
       "  ('the', 0.09639755636453629, 0),\n",
       "  ('CAST', 3.5308043381393484e-12, 0),\n",
       "  ('out', 0.05381551384925842, 0),\n",
       "  ('back', 0.045332636684179306, 0)],\n",
       " [(' his', 9.561581464367919e-06, 1),\n",
       "  ('Export', 1.5443222872377205e-12, 0),\n",
       "  ('her', 0.01833724044263363, 0),\n",
       "  ('him', 0.7251499891281128, 0),\n",
       "  ('his', 0.12334786355495453, 0),\n",
       "  ('the', 0.028482403606176376, 0),\n",
       "  ('it', 0.02939017489552498, 0)],\n",
       " [('able', 0.022882435470819473, 0),\n",
       "  ('Tokens', 5.895720543713789e-12, 0),\n",
       "  ('so', 0.15548737347126007, 0),\n",
       "  (' told', 2.7442727514426224e-05, 1),\n",
       "  ('the', 0.07520268857479095, 0),\n",
       "  ('too', 0.040511202067136765, 0),\n",
       "  ('a', 0.11381612718105316, 0)],\n",
       " [('DEM', 8.427578079839293e-12, 0),\n",
       "  ('smile', 0.024160809814929962, 0),\n",
       "  (' smile', 2.294330897711916e-06, 1),\n",
       "  ('new', 0.033361732959747314, 0),\n",
       "  ('man', 0.10321759432554245, 0),\n",
       "  ('pillow', 0.014958635903894901, 0),\n",
       "  ('lover', 0.01487671211361885, 0)],\n",
       " [(' we', 2.269794094900135e-05, 1),\n",
       "  ('money', 0.04252247512340546, 0),\n",
       "  ('I', 0.021786564961075783, 0),\n",
       "  ('we', 0.021743370220065117, 0),\n",
       "  ('that', 0.6679967641830444, 0),\n",
       "  ('the', 0.03396498039364815, 0),\n",
       "  ('Sax', 6.174503616729332e-12, 0)]]"
      ]
     },
     "execution_count": 29,
     "metadata": {},
     "output_type": "execute_result"
    }
   ],
   "source": [
    "answer_orders"
   ]
  },
  {
   "cell_type": "code",
   "execution_count": 24,
   "metadata": {},
   "outputs": [
    {
     "data": {
      "text/plain": [
       "[[('event', 0.0021306623239070177),\n",
       "  ('things', 0.0007781028398312628),\n",
       "  ('bad', 0.0004916115431115031),\n",
       "  (' events', 4.1035644926523673e-07),\n",
       "  ('circumstances', 0.0005090322229079902),\n",
       "  ('events', 0.9782679080963135),\n",
       "  ('Population', 7.025027803399253e-13)],\n",
       " [('iterator', 1.5726539862037647e-11),\n",
       "  (' would', 5.5134936701506376e-05),\n",
       "  ('would', 0.04294152930378914),\n",
       "  ('are', 0.01786944642663002),\n",
       "  ('could', 0.03562188893556595),\n",
       "  ('had', 0.09488712251186371),\n",
       "  ('were', 0.1237873062491417)],\n",
       " [('sink', 0.08516162633895874),\n",
       "  ('table', 0.03213869407773018),\n",
       "  ('Plot', 1.6408815278756705e-11),\n",
       "  ('counter', 0.16170549392700195),\n",
       "  ('edge', 0.27985963225364685),\n",
       "  ('side', 0.06683456152677536),\n",
       "  (' edge', 1.6220442375924904e-06)],\n",
       " [('a', 0.4161994457244873),\n",
       "  ('the', 0.1713830679655075),\n",
       "  ('me', 0.044027868658304214),\n",
       "  (' a', 5.716932355426252e-05),\n",
       "  ('conservancy', 2.3627343137544443e-11),\n",
       "  ('an', 0.0551321804523468),\n",
       "  ('my', 0.11777301132678986)],\n",
       " [('and', 0.023683885112404823),\n",
       "  ('sky', 0.010126766748726368),\n",
       "  ('of', 0.013982990756630898),\n",
       "  (' creek', 2.1538962613476542e-08),\n",
       "  ('oak', 0.011684752069413662),\n",
       "  ('Eat', 6.070240837763308e-11),\n",
       "  ('sand', 0.011330608278512955)],\n",
       " [('the', 0.029731499031186104),\n",
       "  ('is', 0.07713856548070908),\n",
       "  ('prototype', 4.2622644996770376e-11),\n",
       "  ('makes', 0.047752413898706436),\n",
       "  ('she', 0.04415161535143852),\n",
       "  (' is', 0.00020496858633123338),\n",
       "  ('he', 0.22781696915626526)],\n",
       " [('7601', 1.5810904668844827e-11),\n",
       "  (' adept', 1.2604008503558362e-08),\n",
       "  ('simple', 0.042511407285928726),\n",
       "  ('a', 0.03173162788152695),\n",
       "  ('deliberate', 0.014849836938083172),\n",
       "  ('young', 0.02360728196799755),\n",
       "  ('simply', 0.008427090011537075)],\n",
       " [('the', 0.051833175122737885),\n",
       "  ('cumbers', 2.3367134616147922e-11),\n",
       "  ('a', 0.12715816497802734),\n",
       "  ('an', 0.03536023572087288),\n",
       "  (' shock', 2.355513743168558e-06),\n",
       "  ('his', 0.25678303837776184),\n",
       "  ('thought', 0.03894629701972008)],\n",
       " [('it', 0.05231691151857376),\n",
       "  ('his', 0.05797092989087105),\n",
       "  ('the', 0.3601943552494049),\n",
       "  (' the', 3.8483194657601416e-05),\n",
       "  ('ODE', 1.615250251260636e-12),\n",
       "  ('your', 0.3757137954235077),\n",
       "  ('one', 0.012323369272053242)],\n",
       " [('medical', 0.010854171589016914),\n",
       "  (' novel', 1.56093665282242e-05),\n",
       "  ('political', 0.014097815379500389),\n",
       "  ('social', 0.01845131814479828),\n",
       "  ('winner', 1.1857578807727975e-10),\n",
       "  ('design', 0.0036812543403357267),\n",
       "  ('research', 0.007366378325968981)],\n",
       " [('in', 0.05454248562455177),\n",
       "  ('organizers', 0.018733913078904152),\n",
       "  ('rush', 7.324437063804812e-12),\n",
       "  ('at', 0.13031087815761566),\n",
       "  ('people', 0.04803589731454849),\n",
       "  ('organized', 0.23333249986171722),\n",
       "  (' secretaries', 2.16605164360395e-10)],\n",
       " [('the', 0.20355582237243652),\n",
       "  (' technology', 3.7967895423207665e-06),\n",
       "  ('their', 0.060859017074108124),\n",
       "  ('Sexual', 1.827514528596197e-11),\n",
       "  ('these', 0.09389566630125046),\n",
       "  ('weaponry', 0.04151910915970802),\n",
       "  ('weapons', 0.13363923132419586)],\n",
       " [('other', 0.05399276316165924),\n",
       "  ('story', 0.11716202646493912),\n",
       "  (' Jews', 2.5805034056247678e-06),\n",
       "  ('same', 0.3653627634048462),\n",
       "  ('whole', 0.019656933844089508),\n",
       "  ('cumbers', 1.6284040088576646e-11),\n",
       "  ('truth', 0.08678539842367172)],\n",
       " [(' trade', 1.0153305993299e-05),\n",
       "  ('partner', 0.036993950605392456),\n",
       "  ('value', 0.019175605848431587),\n",
       "  ('place', 0.052271079272031784),\n",
       "  ('own', 0.06276622414588928),\n",
       "  ('chances', 0.011011623777449131),\n",
       "  ('Reviewed', 1.139088216112194e-11)],\n",
       " [('CAST', 3.5308043381393484e-12),\n",
       "  ('his', 0.5349603295326233),\n",
       "  ('back', 0.045332636684179306),\n",
       "  (' his', 5.129267265147064e-06),\n",
       "  ('out', 0.05381551384925842),\n",
       "  ('the', 0.09639755636453629),\n",
       "  ('himself', 0.1009412407875061)],\n",
       " [('the', 0.028482403606176376),\n",
       "  ('it', 0.02939017489552498),\n",
       "  ('her', 0.01833724044263363),\n",
       "  (' his', 9.561581464367919e-06),\n",
       "  ('Export', 1.5443222872377205e-12),\n",
       "  ('his', 0.12334786355495453),\n",
       "  ('him', 0.7251499891281128)],\n",
       " [(' told', 2.7442727514426224e-05),\n",
       "  ('a', 0.11381612718105316),\n",
       "  ('Tokens', 5.895720543713789e-12),\n",
       "  ('too', 0.040511202067136765),\n",
       "  ('the', 0.07520268857479095),\n",
       "  ('able', 0.022882435470819473),\n",
       "  ('so', 0.15548737347126007)],\n",
       " [(' smile', 2.294330897711916e-06),\n",
       "  ('lover', 0.01487671211361885),\n",
       "  ('man', 0.10321759432554245),\n",
       "  ('smile', 0.024160809814929962),\n",
       "  ('pillow', 0.014958635903894901),\n",
       "  ('new', 0.033361732959747314),\n",
       "  ('DEM', 8.427578079839293e-12)],\n",
       " [('the', 0.03396498039364815),\n",
       "  ('that', 0.6679967641830444),\n",
       "  (' we', 2.269794094900135e-05),\n",
       "  ('we', 0.021743370220065117),\n",
       "  ('I', 0.021786564961075783),\n",
       "  ('money', 0.04252247512340546),\n",
       "  ('Sax', 6.174503616729332e-12)]]"
      ]
     },
     "execution_count": 24,
     "metadata": {},
     "output_type": "execute_result"
    }
   ],
   "source": [
    "answer_orders"
   ]
  },
  {
   "cell_type": "code",
   "execution_count": 212,
   "metadata": {},
   "outputs": [
    {
     "data": {
      "text/plain": [
       "[[5, 3, 4, 3, 1, 4, 5, 4, 4, 2],\n",
       " [3, 2, 5, 1, 4, 5, 3, 5, 2, 4],\n",
       " [5, 4, 1, 5, 3, 5, 4, 5, 2, 2],\n",
       " [3, 5, 3, 5, 5, 3, 4, 5, 4],\n",
       " [3, 5, 2, 2, 3, 4, 4, 1, 5, 5],\n",
       " [5, 2, 1, 5, 2, 5, 4, 5, 1, 4],\n",
       " [1, 5, 5, 4, 5, 5, 5, 4, 3],\n",
       " [1, 1, 2, 1, 1, 5, 5, 5, 2, 4],\n",
       " [4, 1, 5, 5, 4, 3, 5, 3, 2, 2],\n",
       " [5, 2, 3, 4, 5, 5, 5, 5, 5, 4]]"
      ]
     },
     "execution_count": 212,
     "metadata": {},
     "output_type": "execute_result"
    }
   ],
   "source": [
    "[[5, 3, 4, 3, 1, 4, 5, 4, 4, 2,], [3,2,5,1,4,5,3,5,2,4],[5,4,1,5, 3,5,4,5,2,2], [3,5,3,5,5,3,4,5,4], [3,5,2,2,3,4,4,1,5,5],[5, 2, 1,5,2,5,4,5,1,4], [1,5,5,4,5,5,5,4,3], [1,1,2,1,1,5,5,5,2,4], [4,1,5,5,4,3,5,3,2,2], [5,2,3,4,5,5,5,5,5,4]]"
   ]
  },
  {
   "cell_type": "code",
   "execution_count": 213,
   "metadata": {},
   "outputs": [
    {
     "name": "stdout",
     "output_type": "stream",
     "text": [
      "10\n",
      "10\n",
      "10\n",
      "10\n",
      "10\n",
      "10\n",
      "10\n",
      "10\n",
      "10\n",
      "10\n"
     ]
    }
   ],
   "source": [
    "for r in res: \n",
    "    print(len(r))"
   ]
  },
  {
   "cell_type": "code",
   "execution_count": 214,
   "metadata": {},
   "outputs": [],
   "source": [
    "prd = dict()\n",
    "for ind, (r, a) in enumerate(zip(res, answer_orders)):\n",
    "    for r_el, a_el in zip(r,a):\n",
    "        try:\n",
    "            prd[a_el[1]].append(r_el)\n",
    "        except:\n",
    "            prd[a_el[1]] = [r_el]"
   ]
  },
  {
   "cell_type": "code",
   "execution_count": 215,
   "metadata": {},
   "outputs": [],
   "source": [
    "prd = pd.DataFrame(prd).T"
   ]
  },
  {
   "cell_type": "code",
   "execution_count": 216,
   "metadata": {},
   "outputs": [
    {
     "data": {
      "text/html": [
       "<div>\n",
       "<style scoped>\n",
       "    .dataframe tbody tr th:only-of-type {\n",
       "        vertical-align: middle;\n",
       "    }\n",
       "\n",
       "    .dataframe tbody tr th {\n",
       "        vertical-align: top;\n",
       "    }\n",
       "\n",
       "    .dataframe thead th {\n",
       "        text-align: right;\n",
       "    }\n",
       "</style>\n",
       "<table border=\"1\" class=\"dataframe\">\n",
       "  <thead>\n",
       "    <tr style=\"text-align: right;\">\n",
       "      <th></th>\n",
       "      <th>0</th>\n",
       "    </tr>\n",
       "  </thead>\n",
       "  <tbody>\n",
       "    <tr>\n",
       "      <th>1.438798e-02</th>\n",
       "      <td>5</td>\n",
       "    </tr>\n",
       "    <tr>\n",
       "      <th>1.133592e-01</th>\n",
       "      <td>1</td>\n",
       "    </tr>\n",
       "    <tr>\n",
       "      <th>1.043329e-02</th>\n",
       "      <td>5</td>\n",
       "    </tr>\n",
       "    <tr>\n",
       "      <th>4.023387e-06</th>\n",
       "      <td>4</td>\n",
       "    </tr>\n",
       "    <tr>\n",
       "      <th>4.646489e-11</th>\n",
       "      <td>5</td>\n",
       "    </tr>\n",
       "  </tbody>\n",
       "</table>\n",
       "</div>"
      ],
      "text/plain": [
       "              0\n",
       "1.438798e-02  5\n",
       "1.133592e-01  1\n",
       "1.043329e-02  5\n",
       "4.023387e-06  4\n",
       "4.646489e-11  5"
      ]
     },
     "execution_count": 216,
     "metadata": {},
     "output_type": "execute_result"
    }
   ],
   "source": [
    "prd.head()"
   ]
  },
  {
   "cell_type": "code",
   "execution_count": 217,
   "metadata": {},
   "outputs": [
    {
     "data": {
      "text/html": [
       "<div>\n",
       "<style scoped>\n",
       "    .dataframe tbody tr th:only-of-type {\n",
       "        vertical-align: middle;\n",
       "    }\n",
       "\n",
       "    .dataframe tbody tr th {\n",
       "        vertical-align: top;\n",
       "    }\n",
       "\n",
       "    .dataframe thead th {\n",
       "        text-align: right;\n",
       "    }\n",
       "</style>\n",
       "<table border=\"1\" class=\"dataframe\">\n",
       "  <thead>\n",
       "    <tr style=\"text-align: right;\">\n",
       "      <th></th>\n",
       "      <th>probs</th>\n",
       "      <th>rep</th>\n",
       "    </tr>\n",
       "  </thead>\n",
       "  <tbody>\n",
       "    <tr>\n",
       "      <th>0</th>\n",
       "      <td>1.438798e-02</td>\n",
       "      <td>5</td>\n",
       "    </tr>\n",
       "    <tr>\n",
       "      <th>1</th>\n",
       "      <td>1.133592e-01</td>\n",
       "      <td>1</td>\n",
       "    </tr>\n",
       "    <tr>\n",
       "      <th>2</th>\n",
       "      <td>1.043329e-02</td>\n",
       "      <td>5</td>\n",
       "    </tr>\n",
       "    <tr>\n",
       "      <th>3</th>\n",
       "      <td>4.023387e-06</td>\n",
       "      <td>4</td>\n",
       "    </tr>\n",
       "    <tr>\n",
       "      <th>4</th>\n",
       "      <td>4.646489e-11</td>\n",
       "      <td>5</td>\n",
       "    </tr>\n",
       "  </tbody>\n",
       "</table>\n",
       "</div>"
      ],
      "text/plain": [
       "          probs  rep\n",
       "0  1.438798e-02    5\n",
       "1  1.133592e-01    1\n",
       "2  1.043329e-02    5\n",
       "3  4.023387e-06    4\n",
       "4  4.646489e-11    5"
      ]
     },
     "execution_count": 217,
     "metadata": {},
     "output_type": "execute_result"
    }
   ],
   "source": [
    "prd.reset_index(inplace=True)\n",
    "#prd.drop('index', axis=1, inplace=True)\n",
    "prd.columns = ['probs', 'rep']\n",
    "prd.head()"
   ]
  },
  {
   "cell_type": "code",
   "execution_count": 218,
   "metadata": {},
   "outputs": [],
   "source": [
    "from importlib import reload\n",
    "import utils\n",
    "\n",
    "reload(utils)\n",
    "from utils import *"
   ]
  },
  {
   "cell_type": "code",
   "execution_count": 219,
   "metadata": {},
   "outputs": [],
   "source": [
    "prd['rep'] = prd['rep']*2"
   ]
  },
  {
   "cell_type": "code",
   "execution_count": 220,
   "metadata": {},
   "outputs": [
    {
     "data": {
      "text/plain": [
       "<matplotlib.collections.PathCollection at 0x821a70fd0>"
      ]
     },
     "execution_count": 220,
     "metadata": {},
     "output_type": "execute_result"
    },
    {
     "data": {
      "image/png": "[encoded data removed]",
      "text/plain": [
       "<Figure size 432x288 with 1 Axes>"
      ]
     },
     "metadata": {
      "needs_background": "light"
     },
     "output_type": "display_data"
    }
   ],
   "source": [
    "# do a scatter plot of this. \n",
    "plt.scatter(prd['probs'], prd['rep'])"
   ]
  },
  {
   "cell_type": "code",
   "execution_count": 225,
   "metadata": {},
   "outputs": [
    {
     "data": {
      "text/html": [
       "<div>\n",
       "<style scoped>\n",
       "    .dataframe tbody tr th:only-of-type {\n",
       "        vertical-align: middle;\n",
       "    }\n",
       "\n",
       "    .dataframe tbody tr th {\n",
       "        vertical-align: top;\n",
       "    }\n",
       "\n",
       "    .dataframe thead th {\n",
       "        text-align: right;\n",
       "    }\n",
       "</style>\n",
       "<table border=\"1\" class=\"dataframe\">\n",
       "  <thead>\n",
       "    <tr style=\"text-align: right;\">\n",
       "      <th></th>\n",
       "      <th>probs</th>\n",
       "    </tr>\n",
       "    <tr>\n",
       "      <th>rep</th>\n",
       "      <th></th>\n",
       "    </tr>\n",
       "  </thead>\n",
       "  <tbody>\n",
       "    <tr>\n",
       "      <th>2</th>\n",
       "      <td>0.081718</td>\n",
       "    </tr>\n",
       "    <tr>\n",
       "      <th>4</th>\n",
       "      <td>0.025102</td>\n",
       "    </tr>\n",
       "    <tr>\n",
       "      <th>6</th>\n",
       "      <td>0.083610</td>\n",
       "    </tr>\n",
       "    <tr>\n",
       "      <th>8</th>\n",
       "      <td>0.023622</td>\n",
       "    </tr>\n",
       "    <tr>\n",
       "      <th>10</th>\n",
       "      <td>0.054777</td>\n",
       "    </tr>\n",
       "  </tbody>\n",
       "</table>\n",
       "</div>"
      ],
      "text/plain": [
       "        probs\n",
       "rep          \n",
       "2    0.081718\n",
       "4    0.025102\n",
       "6    0.083610\n",
       "8    0.023622\n",
       "10   0.054777"
      ]
     },
     "execution_count": 225,
     "metadata": {},
     "output_type": "execute_result"
    }
   ],
   "source": [
    "means = prd.groupby('rep').mean()\n",
    "means"
   ]
  },
  {
   "cell_type": "code",
   "execution_count": 226,
   "metadata": {},
   "outputs": [
    {
     "data": {
      "text/plain": [
       "<matplotlib.collections.PathCollection at 0x822685400>"
      ]
     },
     "execution_count": 226,
     "metadata": {},
     "output_type": "execute_result"
    },
    {
     "data": {
      "image/png": "[encoded data removed]",
      "text/plain": [
       "<Figure size 432x288 with 1 Axes>"
      ]
     },
     "metadata": {
      "needs_background": "light"
     },
     "output_type": "display_data"
    }
   ],
   "source": [
    "plt.scatter(means['probs'], means.index)"
   ]
  },
  {
   "cell_type": "code",
   "execution_count": 276,
   "metadata": {},
   "outputs": [
    {
     "data": {
      "image/png": "[encoded data removed]",
      "text/plain": [
       "<Figure size 432x288 with 1 Axes>"
      ]
     },
     "metadata": {
      "needs_background": "light"
     },
     "output_type": "display_data"
    }
   ],
   "source": [
    "bar_plot_columns(prd, 'TFS is tighter')"
   ]
  },
  {
   "cell_type": "code",
   "execution_count": 279,
   "metadata": {},
   "outputs": [
    {
     "data": {
      "image/png": "[encoded data removed]",
      "text/plain": [
       "<Figure size 432x288 with 1 Axes>"
      ]
     },
     "metadata": {
      "needs_background": "light"
     },
     "output_type": "display_data"
    }
   ],
   "source": [
    "bar_plot_columns(nuc_tighter, 'Nuc is Tighter')"
   ]
  },
  {
   "cell_type": "markdown",
   "metadata": {},
   "source": [
    "Want when Nuc is tighter for the difference between Nuc and TFS to be smaller than it is when TFS is tighter. "
   ]
  },
  {
   "cell_type": "code",
   "execution_count": 280,
   "metadata": {},
   "outputs": [
    {
     "name": "stdout",
     "output_type": "stream",
     "text": [
      "position: 1 = 0.3999999999999999\n",
      "position: 2 = 0.6000000000000001\n",
      "position: 3 = 0.7999999999999998\n"
     ]
    }
   ],
   "source": [
    "abs_diff_of_different_locations(tfs_tighter, tfs_label, n_label)"
   ]
  },
  {
   "cell_type": "code",
   "execution_count": 281,
   "metadata": {},
   "outputs": [
    {
     "name": "stdout",
     "output_type": "stream",
     "text": [
      "position: 1 = 1.75\n",
      "position: 2 = 0.25\n",
      "position: 3 = 1.25\n"
     ]
    }
   ],
   "source": [
    "abs_diff_of_different_locations(nuc_tighter,tfs_label, n_label)"
   ]
  }
 ],
 "metadata": {
  "kernelspec": {
   "display_name": "Python 3",
   "language": "python",
   "name": "python3"
  },
  "language_info": {
   "codemirror_mode": {
    "name": "ipython",
    "version": 3
   },
   "file_extension": ".py",
   "mimetype": "text/x-python",
   "name": "python",
   "nbconvert_exporter": "python",
   "pygments_lexer": "ipython3",
   "version": "3.7.3"
  }
 },
 "nbformat": 4,
 "nbformat_minor": 4
}
