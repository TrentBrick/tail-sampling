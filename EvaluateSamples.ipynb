{
 "cells": [
  {
   "cell_type": "code",
   "execution_count": 8,
   "metadata": {},
   "outputs": [],
   "source": [
    "import pickle\n",
    "import gzip\n",
    "\n",
    "df = pickle.load( gzip.open('gpt-2_output/all_logitstfs-sampling-type_100-word-prompts_150-gen-length_50-number-of-prompts.pickle.gz', 'rb'))"
   ]
  },
  {
   "cell_type": "code",
   "execution_count": 9,
   "metadata": {},
   "outputs": [
    {
     "data": {
      "text/plain": [
       "2"
      ]
     },
     "execution_count": 9,
     "metadata": {},
     "output_type": "execute_result"
    }
   ],
   "source": [
    "len(df)"
   ]
  },
  {
   "cell_type": "code",
   "execution_count": 12,
   "metadata": {},
   "outputs": [
    {
     "data": {
      "text/plain": [
       "(25, 50257, 150)"
      ]
     },
     "execution_count": 12,
     "metadata": {},
     "output_type": "execute_result"
    }
   ],
   "source": [
    "df[0].shape"
   ]
  },
  {
   "cell_type": "code",
   "execution_count": 11,
   "metadata": {},
   "outputs": [
    {
     "data": {
      "text/plain": [
       "array([-111.37936 ,    5.993324, -124.22533 , -133.7251  ,  -18.43812 ,\n",
       "        -87.03779 ,  193.62799 , -103.28502 ,  -42.595085,  -54.76678 ,\n",
       "       -124.7779  , -125.51141 ,  -78.802734, -150.16475 ,  -79.78396 ,\n",
       "       -115.191864,  -73.8743  ,  -30.89286 , -119.48405 , -147.27014 ,\n",
       "        -77.28897 ,   47.17818 , -112.41978 ,  -89.85373 ,  -46.095333],\n",
       "      dtype=float32)"
      ]
     },
     "execution_count": 11,
     "metadata": {},
     "output_type": "execute_result"
    }
   ],
   "source": [
    "df[0][:,0,0]"
   ]
  },
  {
   "cell_type": "code",
   "execution_count": 2,
   "metadata": {},
   "outputs": [],
   "source": [
    "import pickle\n",
    "import numpy as np \n",
    "import pandas as pd\n",
    "import gzip\n",
    "all_logits = pickle.load(gzip.open('gpt-2_output/all_logits5000_word_prompts.pickle.gz', 'rb'))\n",
    "rand_selection = pickle.load(gzip.open('gpt-2_output/prompt_rand_selections_5000_word_prompts.pickle.gz', 'rb'))\n",
    "df=pd.read_csv('test_dataframe_500primer.csv')"
   ]
  },
  {
   "cell_type": "code",
   "execution_count": 3,
   "metadata": {},
   "outputs": [
    {
     "data": {
      "text/html": [
       "<div>\n",
       "<style scoped>\n",
       "    .dataframe tbody tr th:only-of-type {\n",
       "        vertical-align: middle;\n",
       "    }\n",
       "\n",
       "    .dataframe tbody tr th {\n",
       "        vertical-align: top;\n",
       "    }\n",
       "\n",
       "    .dataframe thead th {\n",
       "        text-align: right;\n",
       "    }\n",
       "</style>\n",
       "<table border=\"1\" class=\"dataframe\">\n",
       "  <thead>\n",
       "    <tr style=\"text-align: right;\">\n",
       "      <th></th>\n",
       "      <th>test_source</th>\n",
       "      <th>test_target</th>\n",
       "      <th>Prompt</th>\n",
       "    </tr>\n",
       "  </thead>\n",
       "  <tbody>\n",
       "    <tr>\n",
       "      <th>5139</th>\n",
       "      <td>[WP] You look out at the bright lights of the ...</td>\n",
       "      <td>The lights dance across the evening sky. You c...</td>\n",
       "      <td>[WP] You look out at the bright lights of the ...</td>\n",
       "    </tr>\n",
       "    <tr>\n",
       "      <th>3768</th>\n",
       "      <td>[FF] - 250 Words; 2 months Reddit Gold prize</td>\n",
       "      <td>Could this be it? I could have sworn, no... no...</td>\n",
       "      <td>[FF] - 250 Words; 2 months Reddit Gold prize \\...</td>\n",
       "    </tr>\n",
       "    <tr>\n",
       "      <th>3912</th>\n",
       "      <td>[WP] The shortest story ever told. Once upon a...</td>\n",
       "      <td>Once upon a time, there was a magical place wh...</td>\n",
       "      <td>[WP] The shortest story ever told. Once upon a...</td>\n",
       "    </tr>\n",
       "    <tr>\n",
       "      <th>14879</th>\n",
       "      <td>[WP] Stockholm syndrome, but the other way aro...</td>\n",
       "      <td>``Here it is. 2 million dollars in unmarked bi...</td>\n",
       "      <td>[WP] Stockholm syndrome, but the other way aro...</td>\n",
       "    </tr>\n",
       "    <tr>\n",
       "      <th>4848</th>\n",
       "      <td>[WP] Your grandparents always playfully bicker...</td>\n",
       "      <td>It wasn ’ t Swedish. Well I have no way of act...</td>\n",
       "      <td>[WP] Your grandparents always playfully bicker...</td>\n",
       "    </tr>\n",
       "  </tbody>\n",
       "</table>\n",
       "</div>"
      ],
      "text/plain": [
       "                                             test_source  \\\n",
       "5139   [WP] You look out at the bright lights of the ...   \n",
       "3768        [FF] - 250 Words; 2 months Reddit Gold prize   \n",
       "3912   [WP] The shortest story ever told. Once upon a...   \n",
       "14879  [WP] Stockholm syndrome, but the other way aro...   \n",
       "4848   [WP] Your grandparents always playfully bicker...   \n",
       "\n",
       "                                             test_target  \\\n",
       "5139   The lights dance across the evening sky. You c...   \n",
       "3768   Could this be it? I could have sworn, no... no...   \n",
       "3912   Once upon a time, there was a magical place wh...   \n",
       "14879  ``Here it is. 2 million dollars in unmarked bi...   \n",
       "4848   It wasn ’ t Swedish. Well I have no way of act...   \n",
       "\n",
       "                                                  Prompt  \n",
       "5139   [WP] You look out at the bright lights of the ...  \n",
       "3768   [FF] - 250 Words; 2 months Reddit Gold prize \\...  \n",
       "3912   [WP] The shortest story ever told. Once upon a...  \n",
       "14879  [WP] Stockholm syndrome, but the other way aro...  \n",
       "4848   [WP] Your grandparents always playfully bicker...  "
      ]
     },
     "execution_count": 3,
     "metadata": {},
     "output_type": "execute_result"
    }
   ],
   "source": [
    "df.iloc[rand_selection] # checking that the random selection performed the way it was supposed to. "
   ]
  },
  {
   "cell_type": "code",
   "execution_count": 14,
   "metadata": {},
   "outputs": [
    {
     "data": {
      "text/plain": [
       "\" I just been it to name more days? \\n  \\n\\n 'm I I the going. but I is. I it was not late to and I hole with hair hair is't in through. the hole. and one with long hair can to go a the ground. its hands. and can to see get what \\n\\n \\n\\n \\n\\n \\n\\n 'm it one of but's the one who I knew. I one that the movie game of the the one who was it. \\n I I don not he's not the that want want. 'm sure it would heard saw it. you.  I did did have be so. me.  don not however, a upset I I\""
      ]
     },
     "execution_count": 14,
     "metadata": {},
     "output_type": "execute_result"
    }
   ],
   "source": [
    "from decodeLogits import *\n",
    "\n",
    "ind = 1\n",
    "tokens = []\n",
    "for j in range(df[0].shape[2]):\n",
    "    tokens.append(np.argmax(df[0][ind, :, j]))\n",
    "decoder_text(tokens)"
   ]
  },
  {
   "cell_type": "code",
   "execution_count": null,
   "metadata": {},
   "outputs": [],
   "source": []
  }
 ],
 "metadata": {
  "kernelspec": {
   "display_name": "Python 3",
   "language": "python",
   "name": "python3"
  },
  "language_info": {
   "codemirror_mode": {
    "name": "ipython",
    "version": 3
   },
   "file_extension": ".py",
   "mimetype": "text/x-python",
   "name": "python",
   "nbconvert_exporter": "python",
   "pygments_lexer": "ipython3",
   "version": "3.7.3"
  }
 },
 "nbformat": 4,
 "nbformat_minor": 2
}
