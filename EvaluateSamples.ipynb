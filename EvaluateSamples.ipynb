{
 "cells": [
  {
   "cell_type": "code",
   "execution_count": 113,
   "metadata": {},
   "outputs": [],
   "source": [
    "import pickle\n",
    "import gzip\n",
    "\n",
    "#how be able to iterate through all of the different files\n",
    "vals_dict = {'tfs':[None, 0.01, 0.05, 0.1, 0.5, 0.75 ],\n",
    "'n': [0.1, 0.25, 0.5, 0.75, 0.9], 'k':[1,10,40,200]  }\n",
    "\n"
   ]
  },
  {
   "cell_type": "code",
   "execution_count": 15,
   "metadata": {},
   "outputs": [],
   "source": [
    "for key, params in vals_dict.items():\n",
    "    for par in params:\n",
    "        if par ==None:\n",
    "            par = \"None\"\n",
    "        all_logits = pickle.load( gzip.open('gpt-2_output/all_logits_'+key+'-sampling-type_'+par+'-sampling-param_100-word-prompts_150-gen-length_100-number-of-prompts.pickle.gz', 'rb'))\n",
    "        text = pickle.load( gzip.open('gpt-2_output/all_text_'+key+'-sampling-type_'+par+'-sampling-param_100-word-prompts_150-gen-length_100-number-of-prompts.pickle.gz', 'rb'))\n",
    "        rand_selects = pickle.load( gzip.open('gpt-2_output/prompt_rand_selections_'+key+'-sampling-type_'+str(par)+'-sampling-param_100-word-prompts_150-gen-length_100-number-of-prompts.pickle.gz', 'rb'))\n",
    "\n",
    "        break\n",
    "    break"
   ]
  },
  {
   "cell_type": "code",
   "execution_count": 16,
   "metadata": {},
   "outputs": [],
   "source": [
    "del df"
   ]
  },
  {
   "cell_type": "code",
   "execution_count": 19,
   "metadata": {},
   "outputs": [
    {
     "data": {
      "text/plain": [
       "4"
      ]
     },
     "execution_count": 19,
     "metadata": {},
     "output_type": "execute_result"
    }
   ],
   "source": [
    "len(text)"
   ]
  },
  {
   "cell_type": "code",
   "execution_count": 21,
   "metadata": {},
   "outputs": [
    {
     "data": {
      "text/plain": [
       "(25, 250)"
      ]
     },
     "execution_count": 21,
     "metadata": {},
     "output_type": "execute_result"
    }
   ],
   "source": [
    "text[0].shape"
   ]
  },
  {
   "cell_type": "code",
   "execution_count": 12,
   "metadata": {},
   "outputs": [
    {
     "data": {
      "text/plain": [
       "array([ 5139,  3768,  3912, 14879,  4848, 13605,  7192,  4237, 11121,\n",
       "        1026,  8831,  8895,  9386,  8417, 10926, 12170,   689, 11198,\n",
       "        5558, 14495,  9743,  3571, 10490, 15136, 14165,  5939,  1996,\n",
       "        5117,  7427,  1754,  8566,  8908,  3902,  7495, 11357,  5927,\n",
       "       14523,  7528, 11829, 12279, 14369,  3906,  3151,  9904,  9827,\n",
       "       12211, 12933,  3498,  9235,  6581, 14304, 14487,  5428, 11345,\n",
       "        7185, 10007,  5472,  4487,   540, 11144,  7012,  4381, 12873,\n",
       "        7952,  2756, 11068, 15111,  6720, 10393,  3551, 14269, 12066,\n",
       "        2866, 10860,  7183, 11955, 13936,  7243, 14593,  9269,  3369,\n",
       "        9500,  2613,  1021,  3822,  7491,  9998,  6938,  1582,  7865,\n",
       "        2662,  9045,  1324, 11431,  9123, 11092,  2847, 13290,   653,\n",
       "        1838])"
      ]
     },
     "execution_count": 12,
     "metadata": {},
     "output_type": "execute_result"
    }
   ],
   "source": [
    "rand_selects"
   ]
  },
  {
   "cell_type": "code",
   "execution_count": 22,
   "metadata": {},
   "outputs": [
    {
     "data": {
      "text/plain": [
       "(25, 50257, 150)"
      ]
     },
     "execution_count": 22,
     "metadata": {},
     "output_type": "execute_result"
    }
   ],
   "source": [
    "all_logits[0].shape"
   ]
  },
  {
   "cell_type": "code",
   "execution_count": 8,
   "metadata": {},
   "outputs": [
    {
     "data": {
      "text/plain": [
       "array([-111.37936 ,    5.993324, -124.22533 , -133.7251  ,  -18.43812 ,\n",
       "        -87.03779 ,  193.62799 , -103.28502 ,  -42.595085,  -54.76678 ,\n",
       "       -124.7779  , -125.51141 ,  -78.802734, -150.16475 ,  -79.78396 ,\n",
       "       -115.191864,  -73.8743  ,  -30.89286 , -119.48405 , -147.27014 ,\n",
       "        -77.28897 ,   47.17818 , -112.41978 ,  -89.85373 ,  -46.095333],\n",
       "      dtype=float32)"
      ]
     },
     "execution_count": 8,
     "metadata": {},
     "output_type": "execute_result"
    }
   ],
   "source": [
    "all_logits[0][:,0,0]"
   ]
  },
  {
   "cell_type": "code",
   "execution_count": 114,
   "metadata": {},
   "outputs": [],
   "source": [
    "import numpy as np \n",
    "import pandas as pd\n",
    "prompts=pd.read_csv('test_dataframe_500primer.csv') # the text has the prompts so dont need this. "
   ]
  },
  {
   "cell_type": "markdown",
   "metadata": {},
   "source": [
    "# Convert all of the numbers text from all of the different models into one dataframe with all of the prompts and the produced text separated out"
   ]
  },
  {
   "cell_type": "code",
   "execution_count": 25,
   "metadata": {},
   "outputs": [
    {
     "data": {
      "text/plain": [
       "array([   58, 25527,    60,   921,   804,   503,   379,   262,  6016,\n",
       "        7588,   286,   262,  1748,   290,  4240,   703,   345,  1683,\n",
       "        6348,   510,    13,   220,   198,   383,  7588,  9280,  1973,\n",
       "         262,  6180,  6766,    13,   921,   460,   766,   262,  6832,\n",
       "         287,   262,  5253,    11,   617,  7588,  6225,   286,   355,\n",
       "         262,  7000,  1969,   866,    13,   921,  4240,   703,   428,\n",
       "         477,  3022,    11,   618,   750,  2279,  1487,    30,   220,\n",
       "         198,   220,   198,  1649,   750,  1635,  5832,     9,  1487,\n",
       "          30,   220,   198,   220,   198, 11075,   318,  4642,   257,\n",
       "        1200,    13,  2773,  1663,   510,  5443,   621,  1854,    13,\n",
       "        2773,   466,   299,   470,  1663,   510,   379,   477,    13,\n",
       "       19347,  1208,   319,   262,  4417,   286,   262,  2323,    26,\n",
       "         257,  1110,  8318,   416,  6364,  1973,   262,  1755,  6766,\n",
       "          13,   921,  4240,   508,   318,  1016,   284,  1663,   510,\n",
       "         262, 14162,    13,   220,   198,   220,   198,   198,  1849,\n",
       "           1,  1639,  1053,  1392,   257,  1693,  1909,    11,   788,\n",
       "        1701,   198,     1, 19457,    13,   632,   338,   655,   257,\n",
       "        1310,   517,  8253,   621,   314,  2938,    11,   475,   340,\n",
       "         338,   477,   922,   526,   220,   198,  1639,  2342,   262,\n",
       "        6016,  8824,  2971, 15360,   832,   262,  4675, 32209,    13,\n",
       "         632,   338,  6016,   290,   612,  3588,   470,   597,  6832,\n",
       "         287,   340,    13,   554,   257,  1310,  1643,    13,  1320,\n",
       "        1595,   470,  1612,   340,   338,   407,  7895,    13,   383,\n",
       "        6483,   389,  6565,    11,   612,   338,   645,  4979,   290,\n",
       "        2506,   338,   655,  3375,    13,   632,   338,  5897,   290,\n",
       "         991,   290,   345,   460,  1254,   703,  4950,  1243,   389,\n",
       "          13,   632,   338,   588,   345,  1053,  1392,   257,  4320,\n",
       "        1282,  2081,    13,  1320,   338,   618,   262], dtype=int32)"
      ]
     },
     "execution_count": 25,
     "metadata": {},
     "output_type": "execute_result"
    }
   ],
   "source": [
    "text[0][0]"
   ]
  },
  {
   "cell_type": "code",
   "execution_count": 115,
   "metadata": {},
   "outputs": [
    {
     "data": {
      "text/plain": [
       "\"[WP] You look out at the bright lights of the city and wonder how you ever grew up. \\n The lights dance across the evening sky. You can see the buildings in the distance, some lights turning of as the stores close down. You wonder how this all happened, when did everything change? \\n \\n When did *you* change? \\n \\n Everyone is born a child. Some grow up faster than others. Some do n't grow up at all. Hours later, it's your turn.\\n It's my turn.  It seems so very different to have done all of this from day one. \\n \\nYou're just so lonely in your sleep.  You haven't been able to stop thinking about it all day. It seems like something you always wanted just wouldn't happen. \\n \\n \\xa0 I've always dreamed of becoming the strongest guy in school, a powerful male, the champion athlete. \\n I've always wanted to do more but I've always felt like nothing was my best. This year it didn't go as long as expected as I just couldn't stay awake. I'm sure I have more dreams and I'm sure they will lead me here to your town\""
      ]
     },
     "execution_count": 115,
     "metadata": {},
     "output_type": "execute_result"
    }
   ],
   "source": [
    "# used to decode:\n",
    "\n",
    "from decodeLogits import *\n",
    "batch = 0\n",
    "ind = 0\n",
    "'''\n",
    "tokens = []\n",
    "for j in range(text[0].shape[2]):\n",
    "    tokens.append(np.argmax(df[0][ind, :, j]))'''\n",
    "decoder_text(text[batch][ind])"
   ]
  },
  {
   "cell_type": "code",
   "execution_count": null,
   "metadata": {},
   "outputs": [],
   "source": [
    "for key, params in vals_dict.items():\n",
    "    for par in params:\n",
    "        if par ==None:\n",
    "            par = \"None\"\n",
    "        all_logits = pickle.load( gzip.open('gpt-2_output/all_logits_'+key+'-sampling-type_'+par+'-sampling-param_100-word-prompts_150-gen-length_100-number-of-prompts.pickle.gz', 'rb'))\n",
    "        text = pickle.load( gzip.open('gpt-2_output/all_text_'+key+'-sampling-type_'+par+'-sampling-param_100-word-prompts_150-gen-length_100-number-of-prompts.pickle.gz', 'rb'))\n",
    "        rand_selects = pickle.load( gzip.open('gpt-2_output/prompt_rand_selections_'+key+'-sampling-type_'+str(par)+'-sampling-param_100-word-prompts_150-gen-length_100-number-of-prompts.pickle.gz', 'rb'))\n",
    "\n",
    "        break\n",
    "    break"
   ]
  },
  {
   "cell_type": "code",
   "execution_count": 29,
   "metadata": {},
   "outputs": [],
   "source": [
    "prompts = []\n",
    "\n",
    "prompt_length = 100\n",
    "for batch in text:\n",
    "    for entry in batch:\n",
    "        prompts.append( decoder_text(entry[0:prompt_length]) )\n",
    "        \n",
    "gs = pd.DataFrame({'Prompt':prompts})"
   ]
  },
  {
   "cell_type": "code",
   "execution_count": 30,
   "metadata": {},
   "outputs": [
    {
     "data": {
      "text/html": [
       "<div>\n",
       "<style scoped>\n",
       "    .dataframe tbody tr th:only-of-type {\n",
       "        vertical-align: middle;\n",
       "    }\n",
       "\n",
       "    .dataframe tbody tr th {\n",
       "        vertical-align: top;\n",
       "    }\n",
       "\n",
       "    .dataframe thead th {\n",
       "        text-align: right;\n",
       "    }\n",
       "</style>\n",
       "<table border=\"1\" class=\"dataframe\">\n",
       "  <thead>\n",
       "    <tr style=\"text-align: right;\">\n",
       "      <th></th>\n",
       "      <th>Prompt</th>\n",
       "    </tr>\n",
       "  </thead>\n",
       "  <tbody>\n",
       "    <tr>\n",
       "      <th>0</th>\n",
       "      <td>[WP] You look out at the bright lights of the ...</td>\n",
       "    </tr>\n",
       "    <tr>\n",
       "      <th>1</th>\n",
       "      <td>[FF] - 250 Words; 2 months Reddit Gold prize \\...</td>\n",
       "    </tr>\n",
       "    <tr>\n",
       "      <th>2</th>\n",
       "      <td>[WP] The shortest story ever told. Once upon a...</td>\n",
       "    </tr>\n",
       "    <tr>\n",
       "      <th>3</th>\n",
       "      <td>[WP] Stockholm syndrome, but the other way aro...</td>\n",
       "    </tr>\n",
       "    <tr>\n",
       "      <th>4</th>\n",
       "      <td>[WP] Your grandparents always playfully bicker...</td>\n",
       "    </tr>\n",
       "  </tbody>\n",
       "</table>\n",
       "</div>"
      ],
      "text/plain": [
       "                                              Prompt\n",
       "0  [WP] You look out at the bright lights of the ...\n",
       "1  [FF] - 250 Words; 2 months Reddit Gold prize \\...\n",
       "2  [WP] The shortest story ever told. Once upon a...\n",
       "3  [WP] Stockholm syndrome, but the other way aro...\n",
       "4  [WP] Your grandparents always playfully bicker..."
      ]
     },
     "execution_count": 30,
     "metadata": {},
     "output_type": "execute_result"
    }
   ],
   "source": [
    "gs.head()"
   ]
  },
  {
   "cell_type": "code",
   "execution_count": 34,
   "metadata": {},
   "outputs": [
    {
     "data": {
      "text/plain": [
       "dict_items([('tfs', [None, 0.01, 0.05, 0.1, 0.5, 0.75]), ('n', [0.1, 0.25, 0.5, 0.75, 0.9]), ('k', [1, 10, 40, 200])])"
      ]
     },
     "execution_count": 34,
     "metadata": {},
     "output_type": "execute_result"
    }
   ],
   "source": [
    " vals_dict.items()\n",
    "    \n",
    "I also need to store the sorted indices of the differnet words"
   ]
  },
  {
   "cell_type": "code",
   "execution_count": 116,
   "metadata": {},
   "outputs": [
    {
     "data": {
      "text/html": [
       "<div>\n",
       "<style scoped>\n",
       "    .dataframe tbody tr th:only-of-type {\n",
       "        vertical-align: middle;\n",
       "    }\n",
       "\n",
       "    .dataframe tbody tr th {\n",
       "        vertical-align: top;\n",
       "    }\n",
       "\n",
       "    .dataframe thead th {\n",
       "        text-align: right;\n",
       "    }\n",
       "</style>\n",
       "<table border=\"1\" class=\"dataframe\">\n",
       "  <thead>\n",
       "    <tr style=\"text-align: right;\">\n",
       "      <th></th>\n",
       "      <th>Prompt</th>\n",
       "      <th>Samp Type:tfs Param:None</th>\n",
       "      <th>Samp Type:tfs Param:0.01</th>\n",
       "      <th>Samp Type:tfs Param:0.05</th>\n",
       "      <th>Samp Type:tfs Param:0.1</th>\n",
       "      <th>Samp Type:tfs Param:0.5</th>\n",
       "      <th>Samp Type:tfs Param:0.75</th>\n",
       "      <th>Samp Type:n Param:0.1</th>\n",
       "      <th>Samp Type:n Param:0.25</th>\n",
       "      <th>Samp Type:n Param:0.5</th>\n",
       "      <th>Samp Type:n Param:0.75</th>\n",
       "      <th>Samp Type:n Param:0.9</th>\n",
       "      <th>Samp Type:k Param:1</th>\n",
       "      <th>Samp Type:k Param:10</th>\n",
       "      <th>Samp Type:k Param:40</th>\n",
       "    </tr>\n",
       "  </thead>\n",
       "  <tbody>\n",
       "    <tr>\n",
       "      <th>0</th>\n",
       "      <td>[WP] You look out at the bright lights of the ...</td>\n",
       "      <td>pass on the surface of the ground; a day pass...</td>\n",
       "      <td>go by in silence, and short workdays go by qu...</td>\n",
       "      <td>go by in silence, and short workdays go by qu...</td>\n",
       "      <td>go by in silence, and short workdays go by qu...</td>\n",
       "      <td>go by in silence, and short workdays go by qu...</td>\n",
       "      <td>go by in silence, and short workdays go by qu...</td>\n",
       "      <td>pass, days pass, years pass. \\n \\n\\nThe world...</td>\n",
       "      <td>pass by, days pass by, weeks pass by. You're ...</td>\n",
       "      <td>pass by. They're busy with their day. The thi...</td>\n",
       "      <td>have passed. \\n In the rain, blood trickles d...</td>\n",
       "      <td>have passed. you're more tired than you were ...</td>\n",
       "      <td>pass, days pass, years pass. \\n \\n\\nYou are a...</td>\n",
       "      <td>later, it's your turn.\\n &lt;|endoftext|&gt;In this...</td>\n",
       "      <td>later, it's your turn.\\n It's my turn.  It se...</td>\n",
       "    </tr>\n",
       "    <tr>\n",
       "      <th>1</th>\n",
       "      <td>[FF] - 250 Words; 2 months Reddit Gold prize \\...</td>\n",
       "      <td>I have given it a few more days? \\n\\n \\n\\n I ...</td>\n",
       "      <td>'ve cut it down a bit sooner, I guess. Or he'l...</td>\n",
       "      <td>'ve cut it down a bit sooner, I guess. Or he'l...</td>\n",
       "      <td>'ve cut it down a bit sooner, I guess. Or he'l...</td>\n",
       "      <td>'ve cut it down a bit sooner, I guess. Or he'l...</td>\n",
       "      <td>'ve cut it down a bit sooner, I guess. Or he'l...</td>\n",
       "      <td>I go back to the cave? \\n \\n \\n \\n\\n \\n\\n \\n\\...</td>\n",
       "      <td>I go to the store and buy some more? \\n \\n \\n...</td>\n",
       "      <td>I not just stay here and wait for it to dry? ...</td>\n",
       "      <td>I risk dropping it? Oh well, it's my fault, I...</td>\n",
       "      <td>I risk dropping it? Oh well, it's my fault, I...</td>\n",
       "      <td>I just leave it alone? \\n \\n \\n \\n \\n \\n \\n \\...</td>\n",
       "      <td>I just ignore that and continue digging? \\n \\...</td>\n",
       "      <td>I just ignore that and jump right in? \\n \\n\\n...</td>\n",
       "    </tr>\n",
       "    <tr>\n",
       "      <th>2</th>\n",
       "      <td>[WP] The shortest story ever told. Once upon a...</td>\n",
       "      <td>this, because it was evil, so the genie was n...</td>\n",
       "      <td>the genie's station. He wished for happiness....</td>\n",
       "      <td>the genie's station\\nDerbellan\\n(12,050 votes...</td>\n",
       "      <td>the genie's station\\nDerbellan You are that i...</td>\n",
       "      <td>the genie's station\\nDerbell found his whole ...</td>\n",
       "      <td>the genie's station\\nDerbell found his whole ...</td>\n",
       "      <td>anything. He wished for a lamp. And the genie...</td>\n",
       "      <td>anything. He wished for a lamp. And the genie...</td>\n",
       "      <td>a good guy. And he did not wish for a good gu...</td>\n",
       "      <td>a good world. For he wished to live in a smal...</td>\n",
       "      <td>so many things that there were centuries wort...</td>\n",
       "      <td>anything. He wished for a lamp. And the genie...</td>\n",
       "      <td>the boy's own life, and so the genie gave him...</td>\n",
       "      <td>the boy's wife and child and what could a man...</td>\n",
       "    </tr>\n",
       "    <tr>\n",
       "      <th>3</th>\n",
       "      <td>[WP] Stockholm syndrome, but the other way aro...</td>\n",
       "      <td>taken her to the hospital and we gave her a s...</td>\n",
       "      <td>, at 5 minutes before the deadline, we stole a...</td>\n",
       "      <td>, at 5 minutes before the deadline, we stole a...</td>\n",
       "      <td>, at 5 minutes before the deadline, we stole a...</td>\n",
       "      <td>, at 5 minutes before the deadline--'' \\n \\n `...</td>\n",
       "      <td>, at 5 minutes before the deadline--'' \\n \\n `...</td>\n",
       "      <td>she's with us now. She's safe. She's safe. Sh...</td>\n",
       "      <td>we're going to take her back to the States. Y...</td>\n",
       "      <td>you didn't tell us?'' \\n \\n ``Why did you lea...</td>\n",
       "      <td>you didn't pay for her? '' \\n\\n ``Yeah, we di...</td>\n",
       "      <td>... you know, bought her flowers too. ''\\n\\nCa...</td>\n",
       "      <td>she's with us now. She's not with us anymore....</td>\n",
       "      <td>we're going to sell her to the highest bidder...</td>\n",
       "      <td>raised her. We're going to leave her here, an...</td>\n",
       "    </tr>\n",
       "    <tr>\n",
       "      <th>4</th>\n",
       "      <td>[WP] Your grandparents always playfully bicker...</td>\n",
       "      <td>was Swedish and his first name had no resembl...</td>\n",
       "      <td>, was in reality half Swedish, half Norwegian,...</td>\n",
       "      <td>, was in reality half Swedish, half Norwegian,...</td>\n",
       "      <td>, was in reality half Swedish, half Norwegian,...</td>\n",
       "      <td>, was in reality half Swedish, half Norwegian,...</td>\n",
       "      <td>, was in reality half Swedish, half Norwegian,...</td>\n",
       "      <td>, was a character from a movie called \"The Dan...</td>\n",
       "      <td>, was not only a fictional character, but also...</td>\n",
       "      <td>, was not Swedish at all. It was actually Dani...</td>\n",
       "      <td>, was not that likable at all, but was merely ...</td>\n",
       "      <td>, was not that likable at all, but was merely ...</td>\n",
       "      <td>, was a complete and utter idiot. He was a com...</td>\n",
       "      <td>, ’ t looked exactly like the real Bjørn Bjørn...</td>\n",
       "      <td>, ’ t resembled Bjørn Bjørnson in his youth, a...</td>\n",
       "    </tr>\n",
       "  </tbody>\n",
       "</table>\n",
       "</div>"
      ],
      "text/plain": [
       "                                              Prompt  \\\n",
       "0  [WP] You look out at the bright lights of the ...   \n",
       "1  [FF] - 250 Words; 2 months Reddit Gold prize \\...   \n",
       "2  [WP] The shortest story ever told. Once upon a...   \n",
       "3  [WP] Stockholm syndrome, but the other way aro...   \n",
       "4  [WP] Your grandparents always playfully bicker...   \n",
       "\n",
       "                            Samp Type:tfs Param:None  \\\n",
       "0   pass on the surface of the ground; a day pass...   \n",
       "1   I have given it a few more days? \\n\\n \\n\\n I ...   \n",
       "2   this, because it was evil, so the genie was n...   \n",
       "3   taken her to the hospital and we gave her a s...   \n",
       "4   was Swedish and his first name had no resembl...   \n",
       "\n",
       "                            Samp Type:tfs Param:0.01  \\\n",
       "0   go by in silence, and short workdays go by qu...   \n",
       "1  've cut it down a bit sooner, I guess. Or he'l...   \n",
       "2   the genie's station. He wished for happiness....   \n",
       "3  , at 5 minutes before the deadline, we stole a...   \n",
       "4  , was in reality half Swedish, half Norwegian,...   \n",
       "\n",
       "                            Samp Type:tfs Param:0.05  \\\n",
       "0   go by in silence, and short workdays go by qu...   \n",
       "1  've cut it down a bit sooner, I guess. Or he'l...   \n",
       "2   the genie's station\\nDerbellan\\n(12,050 votes...   \n",
       "3  , at 5 minutes before the deadline, we stole a...   \n",
       "4  , was in reality half Swedish, half Norwegian,...   \n",
       "\n",
       "                             Samp Type:tfs Param:0.1  \\\n",
       "0   go by in silence, and short workdays go by qu...   \n",
       "1  've cut it down a bit sooner, I guess. Or he'l...   \n",
       "2   the genie's station\\nDerbellan You are that i...   \n",
       "3  , at 5 minutes before the deadline, we stole a...   \n",
       "4  , was in reality half Swedish, half Norwegian,...   \n",
       "\n",
       "                             Samp Type:tfs Param:0.5  \\\n",
       "0   go by in silence, and short workdays go by qu...   \n",
       "1  've cut it down a bit sooner, I guess. Or he'l...   \n",
       "2   the genie's station\\nDerbell found his whole ...   \n",
       "3  , at 5 minutes before the deadline--'' \\n \\n `...   \n",
       "4  , was in reality half Swedish, half Norwegian,...   \n",
       "\n",
       "                            Samp Type:tfs Param:0.75  \\\n",
       "0   go by in silence, and short workdays go by qu...   \n",
       "1  've cut it down a bit sooner, I guess. Or he'l...   \n",
       "2   the genie's station\\nDerbell found his whole ...   \n",
       "3  , at 5 minutes before the deadline--'' \\n \\n `...   \n",
       "4  , was in reality half Swedish, half Norwegian,...   \n",
       "\n",
       "                               Samp Type:n Param:0.1  \\\n",
       "0   pass, days pass, years pass. \\n \\n\\nThe world...   \n",
       "1   I go back to the cave? \\n \\n \\n \\n\\n \\n\\n \\n\\...   \n",
       "2   anything. He wished for a lamp. And the genie...   \n",
       "3   she's with us now. She's safe. She's safe. Sh...   \n",
       "4  , was a character from a movie called \"The Dan...   \n",
       "\n",
       "                              Samp Type:n Param:0.25  \\\n",
       "0   pass by, days pass by, weeks pass by. You're ...   \n",
       "1   I go to the store and buy some more? \\n \\n \\n...   \n",
       "2   anything. He wished for a lamp. And the genie...   \n",
       "3   we're going to take her back to the States. Y...   \n",
       "4  , was not only a fictional character, but also...   \n",
       "\n",
       "                               Samp Type:n Param:0.5  \\\n",
       "0   pass by. They're busy with their day. The thi...   \n",
       "1   I not just stay here and wait for it to dry? ...   \n",
       "2   a good guy. And he did not wish for a good gu...   \n",
       "3   you didn't tell us?'' \\n \\n ``Why did you lea...   \n",
       "4  , was not Swedish at all. It was actually Dani...   \n",
       "\n",
       "                              Samp Type:n Param:0.75  \\\n",
       "0   have passed. \\n In the rain, blood trickles d...   \n",
       "1   I risk dropping it? Oh well, it's my fault, I...   \n",
       "2   a good world. For he wished to live in a smal...   \n",
       "3   you didn't pay for her? '' \\n\\n ``Yeah, we di...   \n",
       "4  , was not that likable at all, but was merely ...   \n",
       "\n",
       "                               Samp Type:n Param:0.9  \\\n",
       "0   have passed. you're more tired than you were ...   \n",
       "1   I risk dropping it? Oh well, it's my fault, I...   \n",
       "2   so many things that there were centuries wort...   \n",
       "3  ... you know, bought her flowers too. ''\\n\\nCa...   \n",
       "4  , was not that likable at all, but was merely ...   \n",
       "\n",
       "                                 Samp Type:k Param:1  \\\n",
       "0   pass, days pass, years pass. \\n \\n\\nYou are a...   \n",
       "1   I just leave it alone? \\n \\n \\n \\n \\n \\n \\n \\...   \n",
       "2   anything. He wished for a lamp. And the genie...   \n",
       "3   she's with us now. She's not with us anymore....   \n",
       "4  , was a complete and utter idiot. He was a com...   \n",
       "\n",
       "                                Samp Type:k Param:10  \\\n",
       "0   later, it's your turn.\\n <|endoftext|>In this...   \n",
       "1   I just ignore that and continue digging? \\n \\...   \n",
       "2   the boy's own life, and so the genie gave him...   \n",
       "3   we're going to sell her to the highest bidder...   \n",
       "4  , ’ t looked exactly like the real Bjørn Bjørn...   \n",
       "\n",
       "                                Samp Type:k Param:40  \n",
       "0   later, it's your turn.\\n It's my turn.  It se...  \n",
       "1   I just ignore that and jump right in? \\n \\n\\n...  \n",
       "2   the boy's wife and child and what could a man...  \n",
       "3   raised her. We're going to leave her here, an...  \n",
       "4  , ’ t resembled Bjørn Bjørnson in his youth, a...  "
      ]
     },
     "execution_count": 116,
     "metadata": {},
     "output_type": "execute_result"
    }
   ],
   "source": [
    "for key, params in vals_dict.items():\n",
    "    for par in params:\n",
    "        if par == 200:\n",
    "            continue\n",
    "        if par ==None:\n",
    "            par = \"None\"\n",
    "        #all_logits = pickle.load( gzip.open('gpt-2_output/all_logits_'+key+'-sampling-type_'+par+'-sampling-param_100-word-prompts_150-gen-length_100-number-of-prompts.pickle.gz', 'rb'))\n",
    "        text = pickle.load( gzip.open('gpt-2_output/all_text_'+key+'-sampling-type_'+str(par)+'-sampling-param_100-word-prompts_150-gen-length_100-number-of-prompts.pickle.gz', 'rb'))\n",
    "        rand_selects = pickle.load( gzip.open('gpt-2_output/prompt_rand_selections_'+key+'-sampling-type_'+str(par)+'-sampling-param_100-word-prompts_150-gen-length_100-number-of-prompts.pickle.gz', 'rb'))\n",
    "\n",
    "        generated_output = []\n",
    "        for batch in text:\n",
    "            for entry in batch:\n",
    "                generated_output.append(decoder_text(entry[prompt_length:]))\n",
    "        col_name = 'Samp Type:'+key+' Param:'+str(par)\n",
    "        gs[col_name] = generated_output\n",
    "gs.head()"
   ]
  },
  {
   "cell_type": "code",
   "execution_count": 117,
   "metadata": {},
   "outputs": [
    {
     "data": {
      "text/plain": [
       "(100, 15)"
      ]
     },
     "execution_count": 117,
     "metadata": {},
     "output_type": "execute_result"
    }
   ],
   "source": [
    "gs.shape"
   ]
  },
  {
   "cell_type": "code",
   "execution_count": 118,
   "metadata": {},
   "outputs": [
    {
     "name": "stdout",
     "output_type": "stream",
     "text": [
      "78\n"
     ]
    },
    {
     "data": {
      "text/plain": [
       "array([ 0,  4,  8,  1,  2, 14,  3,  7,  9,  5, 12, 11, 13, 10,  6])"
      ]
     },
     "execution_count": 118,
     "metadata": {},
     "output_type": "execute_result"
    }
   ],
   "source": [
    "import numpy as np\n",
    "select_a_random_prompt = np.random.choice(gs.shape[0])\n",
    "select_random_generation_methods = np.random.choice(gs.shape[1]-1, size =gs.shape[1]-1, replace=False )+1\n",
    "select_random_generation_methods = np.insert(select_random_generation_methods, 0, 0)\n",
    "print(select_a_random_prompt)\n",
    "select_random_generation_methods"
   ]
  },
  {
   "cell_type": "code",
   "execution_count": 119,
   "metadata": {},
   "outputs": [],
   "source": [
    "with open('test_blind_output3.txt', 'w') as file: \n",
    "    for ind, out in enumerate(gs.iloc[select_a_random_prompt,select_random_generation_methods].tolist()):\n",
    "        if ind ==0:\n",
    "            file.write('Prompt: \\n \\n')\n",
    "        file.write(out)\n",
    "        \n",
    "        file.write('\\n')\n",
    "        file.write('================== \\n')\n",
    "        if ind == gs.shape[1]-1: # dont write random generation at the end. \n",
    "            continue\n",
    "        file.write('Random Generation: '+str(ind)+' \\n \\n')\n",
    "\n"
   ]
  },
  {
   "cell_type": "markdown",
   "metadata": {},
   "source": [
    "Seems like need a larger n to have something that isnt just degenerate. but then need to sample to get something that is good. N of 0.75 or 0.5? K seems to be doing quite well. TFS is generating some strange things? I want to see the prob distribution it makes at each point. "
   ]
  },
  {
   "cell_type": "code",
   "execution_count": 120,
   "metadata": {},
   "outputs": [
    {
     "name": "stdout",
     "output_type": "stream",
     "text": [
      "78\n"
     ]
    },
    {
     "data": {
      "text/plain": [
       "array([ 0,  4,  8,  1,  2, 14,  3,  7,  9,  5, 12, 11, 13, 10,  6])"
      ]
     },
     "execution_count": 120,
     "metadata": {},
     "output_type": "execute_result"
    }
   ],
   "source": [
    "print(select_a_random_prompt)\n",
    "select_random_generation_methods"
   ]
  },
  {
   "cell_type": "code",
   "execution_count": 121,
   "metadata": {},
   "outputs": [
    {
     "data": {
      "text/plain": [
       "Prompt                      [WP] Write a story where the antagonist is doi...\n",
       "Samp Type:tfs Param:0.1      distill through the glass base of the weapon ...\n",
       "Samp Type:n Param:0.25       open my mouth to scream, but the syringe is a...\n",
       "Samp Type:tfs Param:None     hold it in front of my eyes ’ and look down a...\n",
       "Samp Type:tfs Param:0.01     distill through the glass base of the weapon ...\n",
       "Samp Type:k Param:40         open my mouth to try and scream out what I ca...\n",
       "Samp Type:tfs Param:0.05     distill through the glass into a drop that I ...\n",
       "Samp Type:n Param:0.1        look up at the weapon. It's a long, thin, bla...\n",
       "Samp Type:n Param:0.5        open my mouth to scream, but I can't make it ...\n",
       "Samp Type:tfs Param:0.5      distill through the glass base of the weapon ...\n",
       "Samp Type:k Param:1          look up at the weapon. It's a small, black, m...\n",
       "Samp Type:n Param:0.9        open my mouth and exhale slowly, hoping that ...\n",
       "Samp Type:k Param:10         open my mouth to try and scream out what I ca...\n",
       "Samp Type:n Param:0.75       open my mouth and exhale slowly, hoping that ...\n",
       "Samp Type:tfs Param:0.75     distill through the glass base of the weapon ...\n",
       "Name: 78, dtype: object"
      ]
     },
     "execution_count": 121,
     "metadata": {},
     "output_type": "execute_result"
    }
   ],
   "source": [
    "gs.iloc[select_a_random_prompt,select_random_generation_methods]"
   ]
  },
  {
   "cell_type": "code",
   "execution_count": 122,
   "metadata": {},
   "outputs": [
    {
     "data": {
      "text/plain": [
       "'[WP] Write a story where the antagonist is doing something obviously horrible, but by the end of the story make me want to side with him over the good guy. \\n **BOOM** \\n \\n **CRASH** \\n \\n I fall hard on the pavement. Taking a few seconds, I scramble to my feet, coughing smoke out of my lungs. The weapon is a few feet away. It ’ s a large syringe filled with a purple liquid. I'"
      ]
     },
     "execution_count": 122,
     "metadata": {},
     "output_type": "execute_result"
    }
   ],
   "source": [
    "gs.iloc[select_a_random_prompt,0]"
   ]
  },
  {
   "cell_type": "code",
   "execution_count": 123,
   "metadata": {},
   "outputs": [
    {
     "data": {
      "text/plain": [
       "14593"
      ]
     },
     "execution_count": 123,
     "metadata": {},
     "output_type": "execute_result"
    }
   ],
   "source": [
    "choose_prompt =rand_selects[select_a_random_prompt]\n",
    "choose_prompt"
   ]
  },
  {
   "cell_type": "code",
   "execution_count": 124,
   "metadata": {},
   "outputs": [
    {
     "data": {
      "text/html": [
       "<div>\n",
       "<style scoped>\n",
       "    .dataframe tbody tr th:only-of-type {\n",
       "        vertical-align: middle;\n",
       "    }\n",
       "\n",
       "    .dataframe tbody tr th {\n",
       "        vertical-align: top;\n",
       "    }\n",
       "\n",
       "    .dataframe thead th {\n",
       "        text-align: right;\n",
       "    }\n",
       "</style>\n",
       "<table border=\"1\" class=\"dataframe\">\n",
       "  <thead>\n",
       "    <tr style=\"text-align: right;\">\n",
       "      <th></th>\n",
       "      <th>test_source</th>\n",
       "      <th>test_target</th>\n",
       "      <th>Prompt</th>\n",
       "    </tr>\n",
       "  </thead>\n",
       "  <tbody>\n",
       "    <tr>\n",
       "      <th>0</th>\n",
       "      <td>[WP] Leonardo DiCaprio in a fit of rage begins...</td>\n",
       "      <td>The wet marble floor pressed on his cheek like...</td>\n",
       "      <td>[WP] Leonardo DiCaprio in a fit of rage begins...</td>\n",
       "    </tr>\n",
       "    <tr>\n",
       "      <th>1</th>\n",
       "      <td>[CW] Kill the writer in first-person narrative.</td>\n",
       "      <td>It's been three days since my boyfriend pissed...</td>\n",
       "      <td>[CW] Kill the writer in first-person narrative...</td>\n",
       "    </tr>\n",
       "    <tr>\n",
       "      <th>2</th>\n",
       "      <td>[EU] Sean Bean has a hard time leaving his rol...</td>\n",
       "      <td>George fled. Not terrifically fast, not at his...</td>\n",
       "      <td>[EU] Sean Bean has a hard time leaving his rol...</td>\n",
       "    </tr>\n",
       "    <tr>\n",
       "      <th>3</th>\n",
       "      <td>[WP] A kid doodling in a math class accidental...</td>\n",
       "      <td>It was dark and Levi was pretty sure he was ly...</td>\n",
       "      <td>[WP] A kid doodling in a math class accidental...</td>\n",
       "    </tr>\n",
       "    <tr>\n",
       "      <th>4</th>\n",
       "      <td>[WP] As a Space marine you have an allowance o...</td>\n",
       "      <td>``Hi dad! ''\\n \\n The words snap me from my th...</td>\n",
       "      <td>[WP] As a Space marine you have an allowance o...</td>\n",
       "    </tr>\n",
       "  </tbody>\n",
       "</table>\n",
       "</div>"
      ],
      "text/plain": [
       "                                         test_source  \\\n",
       "0  [WP] Leonardo DiCaprio in a fit of rage begins...   \n",
       "1    [CW] Kill the writer in first-person narrative.   \n",
       "2  [EU] Sean Bean has a hard time leaving his rol...   \n",
       "3  [WP] A kid doodling in a math class accidental...   \n",
       "4  [WP] As a Space marine you have an allowance o...   \n",
       "\n",
       "                                         test_target  \\\n",
       "0  The wet marble floor pressed on his cheek like...   \n",
       "1  It's been three days since my boyfriend pissed...   \n",
       "2  George fled. Not terrifically fast, not at his...   \n",
       "3  It was dark and Levi was pretty sure he was ly...   \n",
       "4  ``Hi dad! ''\\n \\n The words snap me from my th...   \n",
       "\n",
       "                                              Prompt  \n",
       "0  [WP] Leonardo DiCaprio in a fit of rage begins...  \n",
       "1  [CW] Kill the writer in first-person narrative...  \n",
       "2  [EU] Sean Bean has a hard time leaving his rol...  \n",
       "3  [WP] A kid doodling in a math class accidental...  \n",
       "4  [WP] As a Space marine you have an allowance o...  "
      ]
     },
     "execution_count": 124,
     "metadata": {},
     "output_type": "execute_result"
    }
   ],
   "source": [
    "prompts.head()"
   ]
  },
  {
   "cell_type": "code",
   "execution_count": 125,
   "metadata": {},
   "outputs": [
    {
     "name": "stdout",
     "output_type": "stream",
     "text": [
      "**BOOM** \n",
      " \n",
      " **CRASH** \n",
      " \n",
      " I fall hard on the pavement. Taking a few seconds, I scramble to my feet, coughing smoke out of my lungs. The weapon is a few feet away. It ’ s a large syringe filled with a purple liquid. I pick it up and keep running. Suddenly, I hear an explosion behind me. I can ’ t help but turn around. \n",
      " \n",
      " Cataclysm is floating through the street towards me, fire and smoke trailing in his path. He has a wicked smile on his face. He raises a hand at me, and a bolt of lightning travels right by me. I stumble backwards and turn down a side street. Luckily, I knew these roads like the back of my hand. \n",
      " \n",
      " I grew up here in Lower Echelon. It ’ s where the scum of humanity come to die. But it is my home, and I wouldn ’ t trade it for anything. I was left here for dead as a child, but I survived, even flourished. Over the years, Echelon grew, and so did the population. The buildings became closer and higher until you couldn ’ t see the sky anymore. It got so bad that the police had to develop special helicopters to drop down officers and reinforcements. But recently, they have n't been doing much, not with their hero Cataclysm cleaning up the streets. \n",
      " \n",
      " I dash into a close building, busting down the door. Inside, a family huddles around a TV. It ’ s a news coverage. My face is plastered on the screen with the words Nemona. I always hated that name. The family turns towards me and their faces fill with fear. They scream, and I run away. I ’ m never able to explain myself, the media has turned me into a heartless villain. I dash up nearby stairs and peer out a window. Cataclysm is floating in the middle of the street, spinning around, throwing fire at anything that moves. \n",
      " \n",
      " I check my syringe and open the window. The crackle of the fire hides the screeching hinges. I jump up onto the windowsill and steady my nerves. Then, I jump. \n",
      " \n",
      " As I ’ m falling, I recount our past battles. Hundreds of them, all failures for me. All of them ending in destruction apparently only I can see. This will be the end of it all. \n",
      " \n",
      " I collide with Cataclysm, forcing the needle into him, draining the syringe of fluid. We fall to the ground in a heap. I am the first to stand. Cataclysm next. He raises a hand at me, the wicked smile still on his face. \n",
      " \n",
      " “Goodbye, Nemona. ” \n",
      " \n",
      " The next few seconds go in slow motion. Fire forms at his fingertips and reaches towards me. But suddenly, the fire turns dark purple, and starts to recede into the hand. The veins on Cataclysms arm turn purple and bulge. The purple flames start to destroy him from the inside out. Time resumes, and I watch as Echelons hero turns to dust. \n",
      " \n",
      " A hand grabs me and forces me to the ground. \n",
      " \n",
      "“ You ’ re under arrest for the murder of Cataclysm, Echelon ’ s savior. You ’ re going to rot in prison forever. ” \n",
      " \n",
      " I ’ m loaded into a cage and hoisted up to a helicopter. As we fly away, I can see all of Echelon. It ’ s burning, fire on every street corner, destruction down every alley. I may have killed the savior of Echelon, but now the city will be truly safe. \n",
      " \n",
      " -- -- -- -- -- -- -- -- -- -- -- -- -- -- -- -- -- -- -- -- -- -- -- -- -- -- -- -- -- -- -- -- -- -- -- -- -- -- -- -- -- -- -- -- -- -- -- -- -- -- -- -- -- -- -- -- -- -- \n",
      " \n",
      " Hey everyone, About4001llamas here. I ’ m done with school for the year, so now I can write some more! I hope you enjoyed the story, and as always, you can check out /r/About4001llamas for more of my stories. Happy reading!\n"
     ]
    }
   ],
   "source": [
    "print(prompts.iloc[choose_prompt].test_target)"
   ]
  },
  {
   "cell_type": "code",
   "execution_count": null,
   "metadata": {},
   "outputs": [],
   "source": []
  }
 ],
 "metadata": {
  "kernelspec": {
   "display_name": "Python 3",
   "language": "python",
   "name": "python3"
  },
  "language_info": {
   "codemirror_mode": {
    "name": "ipython",
    "version": 3
   },
   "file_extension": ".py",
   "mimetype": "text/x-python",
   "name": "python",
   "nbconvert_exporter": "python",
   "pygments_lexer": "ipython3",
   "version": "3.7.3"
  }
 },
 "nbformat": 4,
 "nbformat_minor": 2
}
