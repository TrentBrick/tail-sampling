{
 "cells": [
  {
   "cell_type": "code",
   "execution_count": 9,
   "metadata": {},
   "outputs": [],
   "source": [
    "\"\"\"Concatenating things together so that they can recieve a perplexity score.\"\"\"\n",
    "\n",
    "import pandas as pd\n",
    "import numpy as np\n",
    "\n",
    "#pd.read_csv('test_dataframe_500primer.csv', index=False)\n"
   ]
  },
  {
   "cell_type": "code",
   "execution_count": 10,
   "metadata": {},
   "outputs": [
    {
     "data": {
      "text/plain": [
       "[0]"
      ]
     },
     "execution_count": 10,
     "metadata": {},
     "output_type": "execute_result"
    }
   ],
   "source": [
    "\n",
    "\n",
    "import encoder\n",
    "model_name='345M'\n",
    "models_dir='../gpt-2/models'\n",
    "enc = encoder.get_encoder(model_name, models_dir)\n",
    "\n",
    "prompts=pd.read_csv('test_dataframe_500primer.csv')\n",
    "\n",
    "enc.encode('!')"
   ]
  },
  {
   "cell_type": "code",
   "execution_count": 11,
   "metadata": {},
   "outputs": [
    {
     "ename": "NameError",
     "evalue": "name 'prompt_wanted' is not defined",
     "output_type": "error",
     "traceback": [
      "\u001b[0;31m---------------------------------------------------------------------------\u001b[0m",
      "\u001b[0;31mNameError\u001b[0m                                 Traceback (most recent call last)",
      "\u001b[0;32m<ipython-input-11-2e1b87c418ad>\u001b[0m in \u001b[0;36m<module>\u001b[0;34m\u001b[0m\n\u001b[0;32m----> 1\u001b[0;31m \u001b[0mchoose_prompt\u001b[0m \u001b[0;34m=\u001b[0m\u001b[0mrand_selects\u001b[0m\u001b[0;34m[\u001b[0m\u001b[0mprompt_wanted\u001b[0m\u001b[0;34m]\u001b[0m\u001b[0;34m\u001b[0m\u001b[0;34m\u001b[0m\u001b[0m\n\u001b[0m\u001b[1;32m      2\u001b[0m \u001b[0mchoose_prompt\u001b[0m\u001b[0;34m\u001b[0m\u001b[0;34m\u001b[0m\u001b[0m\n",
      "\u001b[0;31mNameError\u001b[0m: name 'prompt_wanted' is not defined"
     ]
    }
   ],
   "source": [
    "choose_prompt =rand_selects[prompt_wanted]\n",
    "choose_prompt"
   ]
  },
  {
   "cell_type": "code",
   "execution_count": 10,
   "metadata": {},
   "outputs": [
    {
     "data": {
      "text/plain": [
       "\"[WP] Write a story where the antagonist is doing something obviously horrible, but by the end of the story make me want to side with him over the good guy. \\n **BOOM** \\n \\n **CRASH** \\n \\n I fall hard on the pavement. Taking a few seconds, I scramble to my feet, coughing smoke out of my lungs. The weapon is a few feet away. It ’ s a large syringe filled with a purple liquid. I pick it up and keep running. Suddenly, I hear an explosion behind me. I can ’ t help but turn around. \\n \\n Cataclysm is floating through the street towards me, fire and smoke trailing in his path. He has a wicked smile on his face. He raises a hand at me, and a bolt of lightning travels right by me. I stumble backwards and turn down a side street. Luckily, I knew these roads like the back of my hand. \\n \\n I grew up here in Lower Echelon. It ’ s where the scum of humanity come to die. But it is my home, and I wouldn ’ t trade it for anything. I was left here for dead as a child, but I survived, even flourished. Over the years, Echelon grew, and so did the population. The buildings became closer and higher until you couldn ’ t see the sky anymore. It got so bad that the police had to develop special helicopters to drop down officers and reinforcements. But recently, they have n't been doing much, not with their hero Cataclysm cleaning up the streets. \\n \\n I dash into a close building, busting down the door. Inside, a family huddles around a TV. It ’ s a news coverage. My face is plastered on the screen with the words Nemona. I always hated that name. The family turns towards me and their faces fill with fear. They scream, and I run away. I ’ m never able to explain myself, the media has turned me into a heartless villain. I dash up nearby stairs and peer out a window. Cataclysm is floating in the middle of the street, spinning around, throwing fire at anything that moves. \\n \\n I check my syringe and open the window. The crackle of the fire hides the screeching hinges. I jump up onto the windowsill and steady my nerves. Then, I jump. \\n \\n As I ’ m falling, I recount our past battles. Hundreds of them, all failures for me. All of them ending in destruction apparently only I can see. This will be the end of it all. \\n \\n I collide with Cataclysm, forcing the needle into him, draining the syringe of fluid. We fall to the ground in a heap. I am the first to stand. Cataclysm next. He raises a hand at me, the wicked smile still on his face. \\n \\n “Goodbye, Nemona. ” \\n \\n The next few seconds go in slow motion. Fire forms at his fingertips and reaches towards me. But suddenly, the fire turns dark purple, and starts to recede into the hand. The veins on Cataclysms arm turn purple and bulge. The\""
      ]
     },
     "execution_count": 10,
     "metadata": {},
     "output_type": "execute_result"
    }
   ],
   "source": [
    "prompts.iloc[choose_prompt].Prompt"
   ]
  },
  {
   "cell_type": "code",
   "execution_count": 6,
   "metadata": {},
   "outputs": [],
   "source": [
    "import pickle\n",
    "import gzip\n",
    "\n",
    "#how be able to iterate through all of the different files\n",
    "vals_dict = {'tfs':[None, 0.01, 0.05, 0.1, 0.5, 0.75 ],\n",
    "'n': [0.1, 0.25, 0.5, 0.75, 0.9], 'k':[1,10,40,200]  }\n",
    "\n"
   ]
  },
  {
   "cell_type": "code",
   "execution_count": 7,
   "metadata": {},
   "outputs": [],
   "source": [
    "for key, params in vals_dict.items():\n",
    "    for par in params:\n",
    "        if par ==None:\n",
    "            par = \"None\"\n",
    "        #all_logits = pickle.load( gzip.open('gpt-2_output/all_logits_'+key+'-sampling-type_'+par+'-sampling-param_100-word-prompts_150-gen-length_100-number-of-prompts.pickle.gz', 'rb'))\n",
    "        text = pickle.load( gzip.open('gpt-2_output/all_text_'+key+'-sampling-type_'+par+'-sampling-param_100-word-prompts_150-gen-length_100-number-of-prompts.pickle.gz', 'rb'))\n",
    "        rand_selects = pickle.load( gzip.open('gpt-2_output/prompt_rand_selections_'+key+'-sampling-type_'+str(par)+'-sampling-param_100-word-prompts_150-gen-length_100-number-of-prompts.pickle.gz', 'rb'))\n",
    "\n",
    "        break\n",
    "    break"
   ]
  },
  {
   "cell_type": "code",
   "execution_count": 8,
   "metadata": {},
   "outputs": [
    {
     "data": {
      "text/plain": [
       "[array([[   58, 25527,    60, ...,   338,   618,   262],\n",
       "        [   58,  5777,    60, ...,  9675,   326,   340],\n",
       "        [   58, 25527,    60, ...,   921,   821,   281],\n",
       "        ...,\n",
       "        [   58, 25527,    60, ...,   338,   428,   835],\n",
       "        [   58, 25527,    60, ...,  1104,   534,  3397],\n",
       "        [   58, 15751,    60, ...,  2580,    83,   338]], dtype=int32),\n",
       " array([[16594,   257,  1621, ...,   340,   373,    11],\n",
       "        [   58, 25527,    60, ...,   510,   262, 18447],\n",
       "        [   58, 25527,    60, ...,   318,  3446,   588],\n",
       "        ...,\n",
       "        [   58, 25527,    60, ...,  7380,   621,   511],\n",
       "        [   58, 25527,    60, ...,   407,  3338,   284],\n",
       "        [   58, 25527,    60, ...,   766,   502,    13]], dtype=int32),\n",
       " array([[   58, 25527,    60, ...,  5699,   351,   262],\n",
       "        [   58, 25527,    60, ...,  4305,  2687,  2157],\n",
       "        [   58, 25527,    60, ...,   481,  1239,  2666],\n",
       "        ...,\n",
       "        [   58, 25527,    60, ...,  7387,    13,   220],\n",
       "        [   58, 25527,    60, ...,  1002,   345,   821],\n",
       "        [   58, 25527,    60, ...,  3114,   379,   607]], dtype=int32),\n",
       " array([[   58, 25527,    60, ...,    11,   198,   198],\n",
       "        [   58, 25527,    60, ...,  2457, 13184,   561],\n",
       "        [   58, 25527,    60, ...,   389,   262,  3277],\n",
       "        ...,\n",
       "        [ 1639,  1053,   655, ...,   314,   466,   407],\n",
       "        [   58, 25527,    60, ...,  2460,   314,  1183],\n",
       "        [   58, 25527,    60, ...,  7393,   290,   257]], dtype=int32)]"
      ]
     },
     "execution_count": 8,
     "metadata": {},
     "output_type": "execute_result"
    }
   ],
   "source": [
    "text"
   ]
  },
  {
   "cell_type": "code",
   "execution_count": null,
   "metadata": {},
   "outputs": [],
   "source": [
    "'test_dataframe_500primer_only.csv'"
   ]
  },
  {
   "cell_type": "code",
   "execution_count": 5,
   "metadata": {},
   "outputs": [
    {
     "data": {
      "text/html": [
       "<div>\n",
       "<style scoped>\n",
       "    .dataframe tbody tr th:only-of-type {\n",
       "        vertical-align: middle;\n",
       "    }\n",
       "\n",
       "    .dataframe tbody tr th {\n",
       "        vertical-align: top;\n",
       "    }\n",
       "\n",
       "    .dataframe thead th {\n",
       "        text-align: right;\n",
       "    }\n",
       "</style>\n",
       "<table border=\"1\" class=\"dataframe\">\n",
       "  <thead>\n",
       "    <tr style=\"text-align: right;\">\n",
       "      <th></th>\n",
       "      <th>test_source</th>\n",
       "      <th>test_target</th>\n",
       "      <th>Prompt</th>\n",
       "    </tr>\n",
       "  </thead>\n",
       "  <tbody>\n",
       "    <tr>\n",
       "      <th>0</th>\n",
       "      <td>[WP] Leonardo DiCaprio in a fit of rage begins...</td>\n",
       "      <td>The wet marble floor pressed on his cheek like...</td>\n",
       "      <td>[WP] Leonardo DiCaprio in a fit of rage begins...</td>\n",
       "    </tr>\n",
       "    <tr>\n",
       "      <th>1</th>\n",
       "      <td>[CW] Kill the writer in first-person narrative.</td>\n",
       "      <td>It's been three days since my boyfriend pissed...</td>\n",
       "      <td>[CW] Kill the writer in first-person narrative...</td>\n",
       "    </tr>\n",
       "    <tr>\n",
       "      <th>2</th>\n",
       "      <td>[EU] Sean Bean has a hard time leaving his rol...</td>\n",
       "      <td>George fled. Not terrifically fast, not at his...</td>\n",
       "      <td>[EU] Sean Bean has a hard time leaving his rol...</td>\n",
       "    </tr>\n",
       "    <tr>\n",
       "      <th>3</th>\n",
       "      <td>[WP] A kid doodling in a math class accidental...</td>\n",
       "      <td>It was dark and Levi was pretty sure he was ly...</td>\n",
       "      <td>[WP] A kid doodling in a math class accidental...</td>\n",
       "    </tr>\n",
       "    <tr>\n",
       "      <th>4</th>\n",
       "      <td>[WP] As a Space marine you have an allowance o...</td>\n",
       "      <td>``Hi dad! ''\\n \\n The words snap me from my th...</td>\n",
       "      <td>[WP] As a Space marine you have an allowance o...</td>\n",
       "    </tr>\n",
       "  </tbody>\n",
       "</table>\n",
       "</div>"
      ],
      "text/plain": [
       "                                         test_source  \\\n",
       "0  [WP] Leonardo DiCaprio in a fit of rage begins...   \n",
       "1    [CW] Kill the writer in first-person narrative.   \n",
       "2  [EU] Sean Bean has a hard time leaving his rol...   \n",
       "3  [WP] A kid doodling in a math class accidental...   \n",
       "4  [WP] As a Space marine you have an allowance o...   \n",
       "\n",
       "                                         test_target  \\\n",
       "0  The wet marble floor pressed on his cheek like...   \n",
       "1  It's been three days since my boyfriend pissed...   \n",
       "2  George fled. Not terrifically fast, not at his...   \n",
       "3  It was dark and Levi was pretty sure he was ly...   \n",
       "4  ``Hi dad! ''\\n \\n The words snap me from my th...   \n",
       "\n",
       "                                              Prompt  \n",
       "0  [WP] Leonardo DiCaprio in a fit of rage begins...  \n",
       "1  [CW] Kill the writer in first-person narrative...  \n",
       "2  [EU] Sean Bean has a hard time leaving his rol...  \n",
       "3  [WP] A kid doodling in a math class accidental...  \n",
       "4  [WP] As a Space marine you have an allowance o...  "
      ]
     },
     "execution_count": 5,
     "metadata": {},
     "output_type": "execute_result"
    }
   ],
   "source": [
    "pd.read_csv('test_dataframe_500primer.csv').head()"
   ]
  },
  {
   "cell_type": "code",
   "execution_count": null,
   "metadata": {},
   "outputs": [],
   "source": []
  }
 ],
 "metadata": {
  "kernelspec": {
   "display_name": "Python 3",
   "language": "python",
   "name": "python3"
  },
  "language_info": {
   "codemirror_mode": {
    "name": "ipython",
    "version": 3
   },
   "file_extension": ".py",
   "mimetype": "text/x-python",
   "name": "python",
   "nbconvert_exporter": "python",
   "pygments_lexer": "ipython3",
   "version": "3.7.3"
  }
 },
 "nbformat": 4,
 "nbformat_minor": 2
}
