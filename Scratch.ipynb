{
 "cells": [
  {
   "cell_type": "code",
   "execution_count": 4,
   "metadata": {},
   "outputs": [],
   "source": [
    "import pickle\n",
    "import gzip\n",
    "import numpy as np\n",
    "import matplotlib.pyplot as plt\n",
    "from scipy.special import softmax\n",
    "import pandas as pd \n",
    "\n",
    "par = pickle.load( gzip.open('gpt-2_output/all_text_tfs-sampling-type_0.25-sampling-param_100-word-prompts_150-gen-length_100-number-of-prompts_27-seed_774M_model-parallelized.pickle.gz', 'rb'))\n",
    "forl = pickle.load( gzip.open('gpt-2_output/all_text_tfs-sampling-type_0.25-sampling-param_100-word-prompts_150-gen-length_100-number-of-prompts_27-seed_774M_model.pickle.gz', 'rb'))"
   ]
  },
  {
   "cell_type": "code",
   "execution_count": 11,
   "metadata": {},
   "outputs": [
    {
     "data": {
      "text/plain": [
       "250"
      ]
     },
     "execution_count": 11,
     "metadata": {},
     "output_type": "execute_result"
    }
   ],
   "source": [
    "len(par[0][0])"
   ]
  },
  {
   "cell_type": "code",
   "execution_count": 10,
   "metadata": {},
   "outputs": [
    {
     "data": {
      "text/plain": [
       "array([ True,  True,  True,  True,  True,  True,  True,  True,  True,\n",
       "        True,  True,  True,  True,  True,  True,  True,  True,  True,\n",
       "        True,  True,  True,  True,  True,  True,  True,  True,  True,\n",
       "        True,  True,  True,  True,  True,  True,  True,  True,  True,\n",
       "        True,  True,  True,  True,  True,  True,  True,  True,  True,\n",
       "        True,  True,  True,  True,  True,  True,  True,  True,  True,\n",
       "        True,  True,  True,  True,  True,  True,  True,  True,  True,\n",
       "        True,  True,  True,  True,  True,  True,  True,  True,  True,\n",
       "        True,  True,  True,  True,  True,  True,  True,  True,  True,\n",
       "        True,  True,  True,  True,  True,  True,  True,  True,  True,\n",
       "        True,  True,  True,  True,  True,  True,  True,  True,  True,\n",
       "        True, False, False, False, False, False, False, False,  True,\n",
       "       False, False, False, False, False, False, False, False, False,\n",
       "       False, False, False, False, False, False, False, False, False,\n",
       "       False, False, False, False, False, False, False, False, False,\n",
       "       False, False, False, False, False, False, False, False, False,\n",
       "       False, False, False, False, False, False, False, False, False,\n",
       "       False, False, False, False, False, False, False, False, False,\n",
       "       False, False, False, False, False, False, False, False, False,\n",
       "       False, False, False, False, False, False, False, False, False,\n",
       "       False, False, False, False, False, False, False, False, False,\n",
       "       False, False, False, False, False, False, False, False, False,\n",
       "       False, False, False, False, False, False, False, False, False,\n",
       "       False, False, False, False, False, False, False, False, False,\n",
       "       False, False, False, False, False, False, False, False, False,\n",
       "       False, False, False, False, False, False, False, False, False,\n",
       "       False, False, False, False, False, False, False, False, False,\n",
       "       False, False, False, False, False, False, False])"
      ]
     },
     "execution_count": 10,
     "metadata": {},
     "output_type": "execute_result"
    }
   ],
   "source": [
    "forl[0][0] == par[0][0]"
   ]
  },
  {
   "cell_type": "code",
   "execution_count": 17,
   "metadata": {},
   "outputs": [
    {
     "data": {
      "text/plain": [
       "'[WP] You look out at the bright lights of the city and wonder how you ever grew up. \\n The lights dance across the evening sky. You can see the buildings in the distance, some lights turning of as the stores close down. You wonder how this all happened, when did everything change? \\n \\n When did *you* change? \\n \\n Everyone is born a child. Some grow up faster than others. Some do n\\'t grow up at all. Hours slip by. You wander aimlessly, looking at nothing. You don\\'t know why people want to close the fuck up. Maybe you get it a bit wrong, this curse of the city. Maybe you NEED this city. Through your detached experiences of this everlasting era you think about your parents. The characters you loved, the ones you thought funny and seemed to exist beyond time. That gone doesn\\'t run and hide anymore. They dragged their children just like you dragged yourself, pushing them beyond their comfort zone to find the real you. Running away? \\n <|endoftext|>The Department for Work and Pensions (DWP) is preparing to spend more than £700million on \"vertical\" bids to rescue 16 government-owned schools that are facing'"
      ]
     },
     "execution_count": 17,
     "metadata": {},
     "output_type": "execute_result"
    }
   ],
   "source": [
    "from decodeLogits import *\n",
    "\n",
    "decoder_text(par[0][0])"
   ]
  },
  {
   "cell_type": "code",
   "execution_count": 14,
   "metadata": {},
   "outputs": [
    {
     "data": {
      "text/plain": [
       "array([ 5139,  3768,  3912, 14879,  4848, 13605,  7192,  4237, 11121,\n",
       "        1026,  8831,  8895,  9386,  8417, 10926, 12170,   689, 11198,\n",
       "        5558, 14495,  9743,  3571, 10490, 15136, 14165,  5939,  1996,\n",
       "        5117,  7427,  1754,  8566,  8908,  3902,  7495, 11357,  5927,\n",
       "       14523,  7528, 11829, 12279, 14369,  3906,  3151,  9904,  9827,\n",
       "       12211, 12933,  3498,  9235,  6581, 14304, 14487,  5428, 11345,\n",
       "        7185, 10007,  5472,  4487,   540, 11144,  7012,  4381, 12873,\n",
       "        7952,  2756, 11068, 15111,  6720, 10393,  3551, 14269, 12066,\n",
       "        2866, 10860,  7183, 11955, 13936,  7243, 14593,  9269,  3369,\n",
       "        9500,  2613,  1021,  3822,  7491,  9998,  6938,  1582,  7865,\n",
       "        2662,  9045,  1324, 11431,  9123, 11092,  2847, 13290,   653,\n",
       "        1838])"
      ]
     },
     "execution_count": 14,
     "metadata": {},
     "output_type": "execute_result"
    }
   ],
   "source": [
    "pickle.load( gzip.open('gpt-2_output/prompt_rand_selections_tfs-sampling-type_0.25-sampling-param_100-word-prompts_150-gen-length_100-number-of-prompts_27-seed_774M_model-parallelized.pickle.gz', 'rb'))"
   ]
  },
  {
   "cell_type": "code",
   "execution_count": 15,
   "metadata": {},
   "outputs": [
    {
     "data": {
      "text/plain": [
       "array([ 5139,  3768,  3912, 14879,  4848, 13605,  7192,  4237, 11121,\n",
       "        1026,  8831,  8895,  9386,  8417, 10926, 12170,   689, 11198,\n",
       "        5558, 14495,  9743,  3571, 10490, 15136, 14165,  5939,  1996,\n",
       "        5117,  7427,  1754,  8566,  8908,  3902,  7495, 11357,  5927,\n",
       "       14523,  7528, 11829, 12279, 14369,  3906,  3151,  9904,  9827,\n",
       "       12211, 12933,  3498,  9235,  6581, 14304, 14487,  5428, 11345,\n",
       "        7185, 10007,  5472,  4487,   540, 11144,  7012,  4381, 12873,\n",
       "        7952,  2756, 11068, 15111,  6720, 10393,  3551, 14269, 12066,\n",
       "        2866, 10860,  7183, 11955, 13936,  7243, 14593,  9269,  3369,\n",
       "        9500,  2613,  1021,  3822,  7491,  9998,  6938,  1582,  7865,\n",
       "        2662,  9045,  1324, 11431,  9123, 11092,  2847, 13290,   653,\n",
       "        1838])"
      ]
     },
     "execution_count": 15,
     "metadata": {},
     "output_type": "execute_result"
    }
   ],
   "source": [
    "pickle.load( gzip.open('gpt-2_output/prompt_rand_selections_tfs-sampling-type_0.25-sampling-param_100-word-prompts_150-gen-length_100-number-of-prompts_27-seed_774M_model.pickle.gz', 'rb'))"
   ]
  },
  {
   "cell_type": "code",
   "execution_count": null,
   "metadata": {},
   "outputs": [],
   "source": []
  }
 ],
 "metadata": {
  "kernelspec": {
   "display_name": "Python 3",
   "language": "python",
   "name": "python3"
  },
  "language_info": {
   "codemirror_mode": {
    "name": "ipython",
    "version": 3
   },
   "file_extension": ".py",
   "mimetype": "text/x-python",
   "name": "python",
   "nbconvert_exporter": "python",
   "pygments_lexer": "ipython3",
   "version": "3.7.3"
  }
 },
 "nbformat": 4,
 "nbformat_minor": 4
}
