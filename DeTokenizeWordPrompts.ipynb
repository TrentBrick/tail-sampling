{
 "cells": [
  {
   "cell_type": "code",
   "execution_count": 47,
   "metadata": {},
   "outputs": [],
   "source": [
    "# the only thing that needs to be detokenized is punctuation being separated by a space. And there being newline characters. (should these be replaced??)\n",
    "\n",
    "from sacremoses import MosesTokenizer, MosesDetokenizer\n",
    "import pandas as pd\n",
    "md = MosesDetokenizer(lang='en')\n",
    "\n",
    "for variant in ['test']:#, 'train']:\n",
    "    cleaned = dict()\n",
    "    \n",
    "    for s_or_t in ['source', 'target']:\n",
    "        f = variant+'.wp_'+s_or_t\n",
    "    \n",
    "        with open(f, 'r') as file:\n",
    "            text = file.readlines()\n",
    "        detokened = []\n",
    "        for ind in range(0,len(text)):\n",
    "            detokened.append(md.detokenize(text[ind:ind+1]).replace('<newline>', '\\n'))\n",
    "        assert len(text)==len(detokened), \"text and detokened are not the same length!\"\n",
    "        cleaned[variant+'_'+s_or_t] = detokened\n",
    "        \n",
    "    pd.DataFrame.from_dict(cleaned).to_csv(variant+'_dataframe.csv', index=False)\n"
   ]
  },
  {
   "cell_type": "code",
   "execution_count": 65,
   "metadata": {},
   "outputs": [],
   "source": [
    "df = pd.DataFrame.from_dict(cleaned)"
   ]
  },
  {
   "cell_type": "code",
   "execution_count": 66,
   "metadata": {},
   "outputs": [
    {
     "data": {
      "text/html": [
       "<div>\n",
       "<style scoped>\n",
       "    .dataframe tbody tr th:only-of-type {\n",
       "        vertical-align: middle;\n",
       "    }\n",
       "\n",
       "    .dataframe tbody tr th {\n",
       "        vertical-align: top;\n",
       "    }\n",
       "\n",
       "    .dataframe thead th {\n",
       "        text-align: right;\n",
       "    }\n",
       "</style>\n",
       "<table border=\"1\" class=\"dataframe\">\n",
       "  <thead>\n",
       "    <tr style=\"text-align: right;\">\n",
       "      <th></th>\n",
       "      <th>test_source</th>\n",
       "      <th>test_target</th>\n",
       "    </tr>\n",
       "  </thead>\n",
       "  <tbody>\n",
       "    <tr>\n",
       "      <th>0</th>\n",
       "      <td>[WP] Leonardo DiCaprio in a fit of rage begins...</td>\n",
       "      <td>The wet marble floor pressed on his cheek like...</td>\n",
       "    </tr>\n",
       "    <tr>\n",
       "      <th>1</th>\n",
       "      <td>[CW] Kill the writer in first-person narrative.</td>\n",
       "      <td>It's been three days since my boyfriend pissed...</td>\n",
       "    </tr>\n",
       "    <tr>\n",
       "      <th>2</th>\n",
       "      <td>[EU] Sean Bean has a hard time leaving his rol...</td>\n",
       "      <td>George fled. Not terrifically fast, not at his...</td>\n",
       "    </tr>\n",
       "    <tr>\n",
       "      <th>3</th>\n",
       "      <td>[WP] A kid doodling in a math class accidental...</td>\n",
       "      <td>It was dark and Levi was pretty sure he was ly...</td>\n",
       "    </tr>\n",
       "    <tr>\n",
       "      <th>4</th>\n",
       "      <td>[WP] As a Space marine you have an allowance o...</td>\n",
       "      <td>``Hi dad! ''\\n \\n The words snap me from my th...</td>\n",
       "    </tr>\n",
       "  </tbody>\n",
       "</table>\n",
       "</div>"
      ],
      "text/plain": [
       "                                         test_source  \\\n",
       "0  [WP] Leonardo DiCaprio in a fit of rage begins...   \n",
       "1    [CW] Kill the writer in first-person narrative.   \n",
       "2  [EU] Sean Bean has a hard time leaving his rol...   \n",
       "3  [WP] A kid doodling in a math class accidental...   \n",
       "4  [WP] As a Space marine you have an allowance o...   \n",
       "\n",
       "                                         test_target  \n",
       "0  The wet marble floor pressed on his cheek like...  \n",
       "1  It's been three days since my boyfriend pissed...  \n",
       "2  George fled. Not terrifically fast, not at his...  \n",
       "3  It was dark and Levi was pretty sure he was ly...  \n",
       "4  ``Hi dad! ''\\n \\n The words snap me from my th...  "
      ]
     },
     "execution_count": 66,
     "metadata": {},
     "output_type": "execute_result"
    }
   ],
   "source": [
    "df.head()"
   ]
  },
  {
   "cell_type": "code",
   "execution_count": 109,
   "metadata": {},
   "outputs": [
    {
     "data": {
      "text/plain": [
       "(15138, 4)"
      ]
     },
     "execution_count": 109,
     "metadata": {},
     "output_type": "execute_result"
    }
   ],
   "source": [
    "df.shape"
   ]
  },
  {
   "cell_type": "code",
   "execution_count": 108,
   "metadata": {},
   "outputs": [
    {
     "data": {
      "text/plain": [
       "(5478,)"
      ]
     },
     "execution_count": 108,
     "metadata": {},
     "output_type": "execute_result"
    }
   ],
   "source": [
    "# how many unique prompts are there? \n",
    "df['test_source'].unique().shape"
   ]
  },
  {
   "cell_type": "code",
   "execution_count": 91,
   "metadata": {},
   "outputs": [
    {
     "data": {
      "text/plain": [
       "True"
      ]
     },
     "execution_count": 91,
     "metadata": {},
     "output_type": "execute_result"
    }
   ],
   "source": [
    "'[' in '[WP]'"
   ]
  },
  {
   "cell_type": "code",
   "execution_count": 112,
   "metadata": {},
   "outputs": [
    {
     "data": {
      "text/plain": [
       "\"starters = []\\nfor e in df['test_source'].str[:30].unique().tolist():\\n    if '[' in e:\\n        starters.append(e)\\nstarts = []\\nfor s in starters:\\n    starts.append(s.split(']')[0][1:])\\nlist(set(starts))\""
      ]
     },
     "execution_count": 112,
     "metadata": {},
     "output_type": "execute_result"
    }
   ],
   "source": [
    "'''starters = []\n",
    "for e in df['test_source'].str[:30].unique().tolist():\n",
    "    if '[' in e:\n",
    "        starters.append(e)\n",
    "starts = []\n",
    "for s in starters:\n",
    "    starts.append(s.split(']')[0][1:])\n",
    "list(set(starts))'''"
   ]
  },
  {
   "cell_type": "code",
   "execution_count": 114,
   "metadata": {},
   "outputs": [
    {
     "data": {
      "text/plain": [
       "1748     [Wiring Prompt] A person who commits a crime f...\n",
       "7691     [Wiring Prompt] A person who commits a crime f...\n",
       "11362    [Wiring Prompt] A person who commits a crime f...\n",
       "13895    [Wiring Prompt] A person who commits a crime f...\n",
       "14969    [Wiring Prompt] A person who commits a crime f...\n",
       "Name: test_source, dtype: object"
      ]
     },
     "execution_count": 114,
     "metadata": {},
     "output_type": "execute_result"
    }
   ],
   "source": [
    "'''df['test_source'][df['test_source'].str.contains('Wiring Promp')]'''"
   ]
  },
  {
   "cell_type": "code",
   "execution_count": 139,
   "metadata": {},
   "outputs": [
    {
     "data": {
      "text/html": [
       "<div>\n",
       "<style scoped>\n",
       "    .dataframe tbody tr th:only-of-type {\n",
       "        vertical-align: middle;\n",
       "    }\n",
       "\n",
       "    .dataframe tbody tr th {\n",
       "        vertical-align: top;\n",
       "    }\n",
       "\n",
       "    .dataframe thead th {\n",
       "        text-align: right;\n",
       "    }\n",
       "</style>\n",
       "<table border=\"1\" class=\"dataframe\">\n",
       "  <thead>\n",
       "    <tr style=\"text-align: right;\">\n",
       "      <th></th>\n",
       "      <th>test_source</th>\n",
       "      <th>test_target</th>\n",
       "      <th>test_target_200</th>\n",
       "      <th>Prompt</th>\n",
       "    </tr>\n",
       "  </thead>\n",
       "  <tbody>\n",
       "    <tr>\n",
       "      <th>0</th>\n",
       "      <td>[WP] Leonardo DiCaprio in a fit of rage begins...</td>\n",
       "      <td>The wet marble floor pressed on his cheek like...</td>\n",
       "      <td>The wet marble floor pressed on his cheek like...</td>\n",
       "      <td>[WP] Leonardo DiCaprio in a fit of rage begins...</td>\n",
       "    </tr>\n",
       "    <tr>\n",
       "      <th>1</th>\n",
       "      <td>[CW] Kill the writer in first-person narrative.</td>\n",
       "      <td>It's been three days since my boyfriend pissed...</td>\n",
       "      <td>It's been three days since my boyfriend pissed...</td>\n",
       "      <td>[CW] Kill the writer in first-person narrative...</td>\n",
       "    </tr>\n",
       "    <tr>\n",
       "      <th>2</th>\n",
       "      <td>[EU] Sean Bean has a hard time leaving his rol...</td>\n",
       "      <td>George fled. Not terrifically fast, not at his...</td>\n",
       "      <td>George fled. Not terrifically fast, not at his...</td>\n",
       "      <td>[EU] Sean Bean has a hard time leaving his rol...</td>\n",
       "    </tr>\n",
       "    <tr>\n",
       "      <th>3</th>\n",
       "      <td>[WP] A kid doodling in a math class accidental...</td>\n",
       "      <td>It was dark and Levi was pretty sure he was ly...</td>\n",
       "      <td>It was dark and Levi was pretty sure he was ly...</td>\n",
       "      <td>[WP] A kid doodling in a math class accidental...</td>\n",
       "    </tr>\n",
       "    <tr>\n",
       "      <th>4</th>\n",
       "      <td>[WP] As a Space marine you have an allowance o...</td>\n",
       "      <td>``Hi dad! ''\\n \\n The words snap me from my th...</td>\n",
       "      <td>``Hi dad! ''\\n \\n The words snap me from my th...</td>\n",
       "      <td>[WP] As a Space marine you have an allowance o...</td>\n",
       "    </tr>\n",
       "  </tbody>\n",
       "</table>\n",
       "</div>"
      ],
      "text/plain": [
       "                                         test_source  \\\n",
       "0  [WP] Leonardo DiCaprio in a fit of rage begins...   \n",
       "1    [CW] Kill the writer in first-person narrative.   \n",
       "2  [EU] Sean Bean has a hard time leaving his rol...   \n",
       "3  [WP] A kid doodling in a math class accidental...   \n",
       "4  [WP] As a Space marine you have an allowance o...   \n",
       "\n",
       "                                         test_target  \\\n",
       "0  The wet marble floor pressed on his cheek like...   \n",
       "1  It's been three days since my boyfriend pissed...   \n",
       "2  George fled. Not terrifically fast, not at his...   \n",
       "3  It was dark and Levi was pretty sure he was ly...   \n",
       "4  ``Hi dad! ''\\n \\n The words snap me from my th...   \n",
       "\n",
       "                                     test_target_200  \\\n",
       "0  The wet marble floor pressed on his cheek like...   \n",
       "1  It's been three days since my boyfriend pissed...   \n",
       "2  George fled. Not terrifically fast, not at his...   \n",
       "3  It was dark and Levi was pretty sure he was ly...   \n",
       "4  ``Hi dad! ''\\n \\n The words snap me from my th...   \n",
       "\n",
       "                                              Prompt  \n",
       "0  [WP] Leonardo DiCaprio in a fit of rage begins...  \n",
       "1  [CW] Kill the writer in first-person narrative...  \n",
       "2  [EU] Sean Bean has a hard time leaving his rol...  \n",
       "3  [WP] A kid doodling in a math class accidental...  \n",
       "4  [WP] As a Space marine you have an allowance o...  "
      ]
     },
     "execution_count": 139,
     "metadata": {},
     "output_type": "execute_result"
    }
   ],
   "source": [
    "import numpy as np\n",
    "df['Prompt'] = df['test_source'] + \" \\n \"+df['test_target'].apply(lambda x: ' '.join(x.split(' ')[:300]))\n",
    "df.head()"
   ]
  },
  {
   "cell_type": "code",
   "execution_count": 140,
   "metadata": {},
   "outputs": [],
   "source": [
    "df['Prompt'] = df['Prompt'].apply(lambda x: x.replace('`` ', ' ``'))"
   ]
  },
  {
   "cell_type": "code",
   "execution_count": 141,
   "metadata": {},
   "outputs": [
    {
     "data": {
      "text/plain": [
       "0     [WP] Leonardo DiCaprio in a fit of rage begins...\n",
       "1     [CW] Kill the writer in first-person narrative...\n",
       "2     [EU] Sean Bean has a hard time leaving his rol...\n",
       "3     [WP] A kid doodling in a math class accidental...\n",
       "4     [WP] As a Space marine you have an allowance o...\n",
       "5     [TT] ``Shut the dog up. '' \\n “Shut the dog up...\n",
       "6     [WP] A man finally discovers his superpower......\n",
       "7     [WP] Reddit buys the moon \\n Dickbutt... That ...\n",
       "8     [WP] You have a very shitty type of precogniti...\n",
       "9     [WP] ``Before we allow humankind to live among...\n",
       "10    [WP] A magical mirror shows your reflection an...\n",
       "11    [WP] A person with a high school education get...\n",
       "12    [WP] Everyone has a reaper. The further away i...\n",
       "13    [WP] A person with a high school education get...\n",
       "14    [WP] After brushing your teeth in the morning ...\n",
       "15    [WP] While searching the site of a disaster, y...\n",
       "16    [WP] While walking home from work one day, som...\n",
       "17    [WP] Fabricate an inspiring encounter with a s...\n",
       "18    [EU] In your favourite fictional universe, the...\n",
       "19    [WP] Write the same scene at least twice, maki...\n",
       "20    Constrained Writing [WP] Write a story sentenc...\n",
       "21    [WP] You live in a world were a drug exists th...\n",
       "22    [WP] You live in a world where light helps you...\n",
       "23    [WP] Killing any creature inflicts an illness ...\n",
       "24    [WP] Aliens have arrived, and ask for a single...\n",
       "25    [WP] ``And that was the first of the three lie...\n",
       "26    [WP] You just started a new job in a large off...\n",
       "27    [WP] A cell in your body is just your average ...\n",
       "28    [WP] You are hiking in the woods when you hear...\n",
       "29    [WP] The Fourth Wall has been breached and our...\n",
       "30    [WP] Share your thoughts \\n I said something s...\n",
       "31    [WP] A story about a modern-day Roman Empire. ...\n",
       "32    [WP] On the day of their death, every human ge...\n",
       "33    [WP] The root password for the universe is dis...\n",
       "34    [WP] Magic exists, but the nature of it is uni...\n",
       "35    [WP] You are a Tank in an MMORPG dealing with ...\n",
       "36    [WP] Suicidal person realizes he can not die \\...\n",
       "37    [WP] You are a supervillain named The Keymaste...\n",
       "38    [WP] You have just died and are now face to fa...\n",
       "39    [WP] You died. You were reborn. You remembered...\n",
       "40    [WP] You are a god that hunts other gods \\n I ...\n",
       "41    [WP] You are recognized as the villain who is ...\n",
       "42    [WP] Laws of nature become sentient beings. Yo...\n",
       "43    [WP] Rewrite your favorite song as a story. \\n...\n",
       "44    [WP] Everyone in the world has been transforme...\n",
       "45    [WP] An exploration of the butterfly effect: w...\n",
       "46    [EU] Shortly before Order 66 a Jedi knight ach...\n",
       "47    [WP] You receive a job offer online. You are g...\n",
       "48    [WP] You are a lawyer in God's Court who and y...\n",
       "49    [WP] A portal to a fantasy-like land opens in ...\n",
       "50    [WP] Taylor Swift and Kanye West are running f...\n",
       "51    [WP] You live in a world where people's shadow...\n",
       "52    [PM] Let's play an RPG together. /r/WritingPro...\n",
       "53    [WP] Narrate a game of Civilization as though ...\n",
       "54    [WP] It is believed that the cure for cancer h...\n",
       "55    [WP] You are drawing your final breathes, dyin...\n",
       "56    [WP] A young cancer patient is sick and tired ...\n",
       "57    [WP] Death is a lie made by the government, yo...\n",
       "58    [WP] You were born with a large birthmark in t...\n",
       "59    [WP] You form a pact with the monster in your ...\n",
       "60    [TT] Your friends dare you to stay one night i...\n",
       "61    [IP] No one ever does. \\n *Analyzing... * \\n \\...\n",
       "62    [WP] Time to go back to school. But something ...\n",
       "63    [WP] Who knew that a life spent militantly avo...\n",
       "64    [WP] You are a minor diety, recently ascended ...\n",
       "65    [WP] ``What does n't kill me has made a tactic...\n",
       "66    [WP] A genie will grant you one wish. You wish...\n",
       "67    [WP] You are the oldest inhabitant of Hell. Ev...\n",
       "68    [WP] One day, you wake up. As you do your norm...\n",
       "69    [WP] You walk up to a beggar to give him a dol...\n",
       "70    [WP] You were born on a colonizing spacecraft ...\n",
       "71    [WP] An innocent passerby notices another man ...\n",
       "72    [PM] Day 2 of my 30-Day Challenge. Theme: fast...\n",
       "73    [WP] Every planet in our solar system has a ``...\n",
       "74    [WP] It's New Years Eve. Your best friend died...\n",
       "75    [IP] Fit for a king. \\n The king looked over a...\n",
       "76    [WP] Write a happy story about a dog. \\n Watch...\n",
       "77    You've just killed Santa in your living room m...\n",
       "78    [WP] Once you hit a certain age, tattoos appea...\n",
       "79    [WP] You wake up the day after having literall...\n",
       "80    [WP] Everybody who turns 25 learns a reality s...\n",
       "81    [WP] You are a dragon guarding a cavern filled...\n",
       "82    [WP] When the USA finally invaded Canada, it s...\n",
       "83    [OT] Sunday Free Write: Leave A Story, Leave A...\n",
       "84    [WP] He triggers the greatest terrors of human...\n",
       "85    [WP] What if after you die, you wake up with a...\n",
       "86    [WP] You wake up with no memory to a man in a ...\n",
       "87    [WP] When you murder someone you gain their kn...\n",
       "88    [WP] During the first day of grade school, a s...\n",
       "89    [WP] ``Give up your cause, hero. Join me on ﻿t...\n",
       "90    [WP] Food Court is an actual court with judge ...\n",
       "91    [WP] A boy asks a girl out. It's high school. ...\n",
       "92    [WP] God goes into retirement and leaves it up...\n",
       "93    After a devastating brain injury, you can now ...\n",
       "94    Write a story that seems normal on first sight...\n",
       "95    [WP] Describe a single strike by the greatest ...\n",
       "96    [WP] You are brought forward in time by freedo...\n",
       "97    [WP] Write a story where the first sentence me...\n",
       "98    [EU] ``not slytherin... not slytherin... '', H...\n",
       "99    [WP] One normal day you see a mouse pointer mo...\n",
       "Name: Prompt, dtype: object"
      ]
     },
     "execution_count": 141,
     "metadata": {},
     "output_type": "execute_result"
    }
   ],
   "source": [
    "pd.options.display.max_rows = 999\n",
    "df['Prompt'].head(100)"
   ]
  },
  {
   "cell_type": "code",
   "execution_count": 142,
   "metadata": {},
   "outputs": [],
   "source": [
    "df.to_csv(variant+'_dataframe_300primer.csv', index=False)"
   ]
  },
  {
   "cell_type": "code",
   "execution_count": null,
   "metadata": {},
   "outputs": [],
   "source": []
  },
  {
   "cell_type": "code",
   "execution_count": 2,
   "metadata": {},
   "outputs": [
    {
     "data": {
      "text/plain": [
       "\"[TT] ``Shut the dog up. '' \\n “Shut the dog up, ” shouted my head officer from the jeep. The dog was running circles around our vehicle, barking at the people inside. The officer tapped my shoulder and pointed to the yellow, skinny animal circling our jeep. \\n \\n“ But sir.., ” I managed to spit out before he took both his hands and pushed me out of the vehicle. I went tumbling out, and landed on the rough sandy ground. I stood up adjusting the gun hanging from my shoulder and proceeded to walk towards the canine. The dog stopped its barking, and shifted its black eyes to me. \\n \\n “Come here little pup. Hey come here, I ’ m not going to hurt ya, ” I said trying to coax it nearer to me. Actually, I didn ’ t know if I was going to hurt the little mutt or not yet. Reaching my hand towards my waist, I pulled off a tiny bit of my rations. I held it out my hand, with the ration laying on my open palm. The dog perked it ’ s ears, and came a few inches closer to me. Ever so slightly the skittish animal moved its way closer to my hand. At first only a couple inches, then a foot closer, until finally its snout was centimeter from my hand. I could see the small flecks of sand coating its fur. I pushed the ration closer to its teeth. \\n \\n“ GRUNT, ” the sound of my officer ’ s voice rang out, scaring the dog away. A shot rang out, and the dog ’ s body spasmed. The dog kept running, while blood trailed behind him. The blood leaving a streak in the sand. It kept running into the desert, and then promptly collapsed. It\""
      ]
     },
     "execution_count": 2,
     "metadata": {},
     "output_type": "execute_result"
    }
   ],
   "source": [
    "import pandas as pd\n",
    "df=pd.read_csv('test_dataframe_300primer.csv')\n",
    "df.loc[5, 'Prompt']"
   ]
  },
  {
   "cell_type": "code",
   "execution_count": 3,
   "metadata": {},
   "outputs": [
    {
     "data": {
      "text/html": [
       "<div>\n",
       "<style scoped>\n",
       "    .dataframe tbody tr th:only-of-type {\n",
       "        vertical-align: middle;\n",
       "    }\n",
       "\n",
       "    .dataframe tbody tr th {\n",
       "        vertical-align: top;\n",
       "    }\n",
       "\n",
       "    .dataframe thead th {\n",
       "        text-align: right;\n",
       "    }\n",
       "</style>\n",
       "<table border=\"1\" class=\"dataframe\">\n",
       "  <thead>\n",
       "    <tr style=\"text-align: right;\">\n",
       "      <th></th>\n",
       "      <th>test_source</th>\n",
       "      <th>test_target</th>\n",
       "      <th>test_target_200</th>\n",
       "      <th>Prompt</th>\n",
       "    </tr>\n",
       "  </thead>\n",
       "  <tbody>\n",
       "    <tr>\n",
       "      <th>0</th>\n",
       "      <td>[WP] Leonardo DiCaprio in a fit of rage begins...</td>\n",
       "      <td>The wet marble floor pressed on his cheek like...</td>\n",
       "      <td>The wet marble floor pressed on his cheek like...</td>\n",
       "      <td>[WP] Leonardo DiCaprio in a fit of rage begins...</td>\n",
       "    </tr>\n",
       "    <tr>\n",
       "      <th>1</th>\n",
       "      <td>[CW] Kill the writer in first-person narrative.</td>\n",
       "      <td>It's been three days since my boyfriend pissed...</td>\n",
       "      <td>It's been three days since my boyfriend pissed...</td>\n",
       "      <td>[CW] Kill the writer in first-person narrative...</td>\n",
       "    </tr>\n",
       "    <tr>\n",
       "      <th>2</th>\n",
       "      <td>[EU] Sean Bean has a hard time leaving his rol...</td>\n",
       "      <td>George fled. Not terrifically fast, not at his...</td>\n",
       "      <td>George fled. Not terrifically fast, not at his...</td>\n",
       "      <td>[EU] Sean Bean has a hard time leaving his rol...</td>\n",
       "    </tr>\n",
       "    <tr>\n",
       "      <th>3</th>\n",
       "      <td>[WP] A kid doodling in a math class accidental...</td>\n",
       "      <td>It was dark and Levi was pretty sure he was ly...</td>\n",
       "      <td>It was dark and Levi was pretty sure he was ly...</td>\n",
       "      <td>[WP] A kid doodling in a math class accidental...</td>\n",
       "    </tr>\n",
       "    <tr>\n",
       "      <th>4</th>\n",
       "      <td>[WP] As a Space marine you have an allowance o...</td>\n",
       "      <td>``Hi dad! ''\\n \\n The words snap me from my th...</td>\n",
       "      <td>``Hi dad! ''\\n \\n The words snap me from my th...</td>\n",
       "      <td>[WP] As a Space marine you have an allowance o...</td>\n",
       "    </tr>\n",
       "  </tbody>\n",
       "</table>\n",
       "</div>"
      ],
      "text/plain": [
       "                                         test_source  \\\n",
       "0  [WP] Leonardo DiCaprio in a fit of rage begins...   \n",
       "1    [CW] Kill the writer in first-person narrative.   \n",
       "2  [EU] Sean Bean has a hard time leaving his rol...   \n",
       "3  [WP] A kid doodling in a math class accidental...   \n",
       "4  [WP] As a Space marine you have an allowance o...   \n",
       "\n",
       "                                         test_target  \\\n",
       "0  The wet marble floor pressed on his cheek like...   \n",
       "1  It's been three days since my boyfriend pissed...   \n",
       "2  George fled. Not terrifically fast, not at his...   \n",
       "3  It was dark and Levi was pretty sure he was ly...   \n",
       "4  ``Hi dad! ''\\n \\n The words snap me from my th...   \n",
       "\n",
       "                                     test_target_200  \\\n",
       "0  The wet marble floor pressed on his cheek like...   \n",
       "1  It's been three days since my boyfriend pissed...   \n",
       "2  George fled. Not terrifically fast, not at his...   \n",
       "3  It was dark and Levi was pretty sure he was ly...   \n",
       "4  ``Hi dad! ''\\n \\n The words snap me from my th...   \n",
       "\n",
       "                                              Prompt  \n",
       "0  [WP] Leonardo DiCaprio in a fit of rage begins...  \n",
       "1  [CW] Kill the writer in first-person narrative...  \n",
       "2  [EU] Sean Bean has a hard time leaving his rol...  \n",
       "3  [WP] A kid doodling in a math class accidental...  \n",
       "4  [WP] As a Space marine you have an allowance o...  "
      ]
     },
     "execution_count": 3,
     "metadata": {},
     "output_type": "execute_result"
    }
   ],
   "source": [
    "df.head()"
   ]
  },
  {
   "cell_type": "code",
   "execution_count": 6,
   "metadata": {},
   "outputs": [
    {
     "data": {
      "text/html": [
       "<div>\n",
       "<style scoped>\n",
       "    .dataframe tbody tr th:only-of-type {\n",
       "        vertical-align: middle;\n",
       "    }\n",
       "\n",
       "    .dataframe tbody tr th {\n",
       "        vertical-align: top;\n",
       "    }\n",
       "\n",
       "    .dataframe thead th {\n",
       "        text-align: right;\n",
       "    }\n",
       "</style>\n",
       "<table border=\"1\" class=\"dataframe\">\n",
       "  <thead>\n",
       "    <tr style=\"text-align: right;\">\n",
       "      <th></th>\n",
       "      <th>test_source</th>\n",
       "      <th>test_target</th>\n",
       "      <th>test_target_200</th>\n",
       "      <th>Prompt</th>\n",
       "    </tr>\n",
       "  </thead>\n",
       "  <tbody>\n",
       "    <tr>\n",
       "      <th>0</th>\n",
       "      <td>[WP] Leonardo DiCaprio in a fit of rage begins...</td>\n",
       "      <td>The wet marble floor pressed on his cheek like...</td>\n",
       "      <td>The wet marble floor pressed on his cheek like...</td>\n",
       "      <td>[WP] Leonardo DiCaprio in a fit of rage begins...</td>\n",
       "    </tr>\n",
       "    <tr>\n",
       "      <th>1</th>\n",
       "      <td>[CW] Kill the writer in first-person narrative.</td>\n",
       "      <td>It's been three days since my boyfriend pissed...</td>\n",
       "      <td>It's been three days since my boyfriend pissed...</td>\n",
       "      <td>[CW] Kill the writer in first-person narrative...</td>\n",
       "    </tr>\n",
       "    <tr>\n",
       "      <th>2</th>\n",
       "      <td>[EU] Sean Bean has a hard time leaving his rol...</td>\n",
       "      <td>George fled. Not terrifically fast, not at his...</td>\n",
       "      <td>George fled. Not terrifically fast, not at his...</td>\n",
       "      <td>[EU] Sean Bean has a hard time leaving his rol...</td>\n",
       "    </tr>\n",
       "    <tr>\n",
       "      <th>3</th>\n",
       "      <td>[WP] A kid doodling in a math class accidental...</td>\n",
       "      <td>It was dark and Levi was pretty sure he was ly...</td>\n",
       "      <td>It was dark and Levi was pretty sure he was ly...</td>\n",
       "      <td>[WP] A kid doodling in a math class accidental...</td>\n",
       "    </tr>\n",
       "    <tr>\n",
       "      <th>4</th>\n",
       "      <td>[WP] As a Space marine you have an allowance o...</td>\n",
       "      <td>``Hi dad! ''\\n \\n The words snap me from my th...</td>\n",
       "      <td>``Hi dad! ''\\n \\n The words snap me from my th...</td>\n",
       "      <td>[WP] As a Space marine you have an allowance o...</td>\n",
       "    </tr>\n",
       "  </tbody>\n",
       "</table>\n",
       "</div>"
      ],
      "text/plain": [
       "                                         test_source  \\\n",
       "0  [WP] Leonardo DiCaprio in a fit of rage begins...   \n",
       "1    [CW] Kill the writer in first-person narrative.   \n",
       "2  [EU] Sean Bean has a hard time leaving his rol...   \n",
       "3  [WP] A kid doodling in a math class accidental...   \n",
       "4  [WP] As a Space marine you have an allowance o...   \n",
       "\n",
       "                                         test_target  \\\n",
       "0  The wet marble floor pressed on his cheek like...   \n",
       "1  It's been three days since my boyfriend pissed...   \n",
       "2  George fled. Not terrifically fast, not at his...   \n",
       "3  It was dark and Levi was pretty sure he was ly...   \n",
       "4  ``Hi dad! ''\\n \\n The words snap me from my th...   \n",
       "\n",
       "                                     test_target_200  \\\n",
       "0  The wet marble floor pressed on his cheek like...   \n",
       "1  It's been three days since my boyfriend pissed...   \n",
       "2  George fled. Not terrifically fast, not at his...   \n",
       "3  It was dark and Levi was pretty sure he was ly...   \n",
       "4  ``Hi dad! ''\\n \\n The words snap me from my th...   \n",
       "\n",
       "                                              Prompt  \n",
       "0  [WP] Leonardo DiCaprio in a fit of rage begins...  \n",
       "1  [CW] Kill the writer in first-person narrative...  \n",
       "2  [EU] Sean Bean has a hard time leaving his rol...  \n",
       "3  [WP] A kid doodling in a math class accidental...  \n",
       "4  [WP] As a Space marine you have an allowance o...  "
      ]
     },
     "execution_count": 6,
     "metadata": {},
     "output_type": "execute_result"
    }
   ],
   "source": [
    "import numpy as np\n",
    "df['Prompt'] = df['test_source'] + \" \\n \"+df['test_target'].apply(lambda x: ' '.join(x.split(' ')[:500]))\n",
    "df['Prompt'] = df['Prompt'].apply(lambda x: x.replace('`` ', ' ``'))\n",
    "df.head()"
   ]
  },
  {
   "cell_type": "code",
   "execution_count": 10,
   "metadata": {},
   "outputs": [],
   "source": [
    "df.drop(['test_source', 'test_target', 'test_target_200'], axis=1).to_csv('test_dataframe_500primer_only.csv', index=False)"
   ]
  },
  {
   "cell_type": "code",
   "execution_count": 7,
   "metadata": {},
   "outputs": [],
   "source": [
    "df.to_csv('test_dataframe_500primer.csv', index=False)"
   ]
  },
  {
   "cell_type": "code",
   "execution_count": null,
   "metadata": {},
   "outputs": [],
   "source": []
  }
 ],
 "metadata": {
  "kernelspec": {
   "display_name": "Python 3",
   "language": "python",
   "name": "python3"
  },
  "language_info": {
   "codemirror_mode": {
    "name": "ipython",
    "version": 3
   },
   "file_extension": ".py",
   "mimetype": "text/x-python",
   "name": "python",
   "nbconvert_exporter": "python",
   "pygments_lexer": "ipython3",
   "version": "3.7.3"
  }
 },
 "nbformat": 4,
 "nbformat_minor": 2
}
