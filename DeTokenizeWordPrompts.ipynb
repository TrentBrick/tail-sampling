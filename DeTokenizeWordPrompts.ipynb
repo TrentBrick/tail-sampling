{
 "cells": [
  {
   "cell_type": "code",
   "execution_count": 47,
   "metadata": {},
   "outputs": [],
   "source": [
    "# the only thing that needs to be detokenized is punctuation being separated by a space. And there being newline characters. (should these be replaced??)\n",
    "\n",
    "from sacremoses import MosesTokenizer, MosesDetokenizer\n",
    "import pandas as pd\n",
    "md = MosesDetokenizer(lang='en')\n",
    "\n",
    "for variant in ['test']:#, 'train']:\n",
    "    cleaned = dict()\n",
    "    \n",
    "    for s_or_t in ['source', 'target']:\n",
    "        f = variant+'.wp_'+s_or_t\n",
    "    \n",
    "        with open(f, 'r') as file:\n",
    "            text = file.readlines()\n",
    "        detokened = []\n",
    "        for ind in range(0,len(text)):\n",
    "            detokened.append(md.detokenize(text[ind:ind+1]).replace('<newline>', '\\n'))\n",
    "        assert len(text)==len(detokened), \"text and detokened are not the same length!\"\n",
    "        cleaned[variant+'_'+s_or_t] = detokened\n",
    "        \n",
    "    pd.DataFrame.from_dict(cleaned).to_csv(variant+'_dataframe.csv', index=False)\n"
   ]
  },
  {
   "cell_type": "code",
   "execution_count": 48,
   "metadata": {},
   "outputs": [],
   "source": [
    "df = pd.DataFrame.from_dict(cleaned).head()"
   ]
  },
  {
   "cell_type": "code",
   "execution_count": null,
   "metadata": {},
   "outputs": [],
   "source": []
  }
 ],
 "metadata": {
  "kernelspec": {
   "display_name": "Python 3",
   "language": "python",
   "name": "python3"
  },
  "language_info": {
   "codemirror_mode": {
    "name": "ipython",
    "version": 3
   },
   "file_extension": ".py",
   "mimetype": "text/x-python",
   "name": "python",
   "nbconvert_exporter": "python",
   "pygments_lexer": "ipython3",
   "version": "3.7.3"
  }
 },
 "nbformat": 4,
 "nbformat_minor": 2
}
