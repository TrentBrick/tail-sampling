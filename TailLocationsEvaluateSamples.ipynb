{
 "cells": [
  {
   "cell_type": "markdown",
   "metadata": {},
   "source": [
    "Get the difference between nucleus and TFS set of words. See if the words in this set are reasonable. They should be reasonable for when TFS is looser and should not be when TFS is tighter. Out of this set of words, take the highest, lowest prob ones and the middle one? Need at least 3 word gap between them. \n",
    "Rank each one in how reasonable it is. Control baseline is how reasonable words at different points in the body are. The first word, half way and at the closer of the tails. Can also get words outside of the last tail, just outside, halfway to the end, and at the very end. \n",
    "There are 9 different words in total. Should i rank all of them, scramble up a subset? Or have a ranking for each of the subsets differently? Probably scramble them all up. And then present 3 of them??\n",
    "Can then see overall how replaceable different parts of the distributions is, and for TFS and nucleus specifically. Have a control with the bad words. And should be able to hopefully show that the difference in replaceability between the TFS and nucleus words is small when TFS is looser and large when TFS is tighter. Can see how specific this is also. Eg could just look at the last TFS and nucleus words, see the diff in replaceability, or maybe need to look at the averages. Look most at this unique subset and these three points should hopefully categorize it. Want them because i dont know how good the signal is going to be. For the closest words for example. \n",
    "Can also get overall data on how replaceability corresponds to model probability. \n"
   ]
  },
  {
   "cell_type": "code",
   "execution_count": 1,
   "metadata": {},
   "outputs": [],
   "source": [
    "import pickle\n",
    "import gzip\n",
    "import numpy as np\n",
    "import matplotlib.pyplot as plt\n",
    "from scipy.special import softmax\n",
    "import pandas as pd    \n",
    "import torch"
   ]
  },
  {
   "cell_type": "code",
   "execution_count": 2,
   "metadata": {},
   "outputs": [],
   "source": [
    "from decodeLogits import *"
   ]
  },
  {
   "cell_type": "code",
   "execution_count": 3,
   "metadata": {},
   "outputs": [
    {
     "data": {
      "text/plain": [
       "\" {'tfs':[0.25, 0.75, 0.9, 0.95, 0.99], 'flat':[0.01, 0.02, 0.05],\\n'n': [0.1, 0.25, 0.5, 0.63, 0.69, 0.75, 0.81, 0.9], 'k':[1,10,40,200]  }\""
      ]
     },
     "execution_count": 3,
     "metadata": {},
     "output_type": "execute_result"
    }
   ],
   "source": [
    "#updated\n",
    "vals_dict = {'tfs':[0.25, 0.75, 0.9, 0.95, 0.99],\n",
    "'n': [0.5, 0.63, 0.69, 0.81, 0.75, 0.9], 'k':[1,40,200]  }\n",
    "\n",
    "\n",
    "''' {'tfs':[0.25, 0.75, 0.9, 0.95, 0.99], 'flat':[0.01, 0.02, 0.05],\n",
    "'n': [0.1, 0.25, 0.5, 0.63, 0.69, 0.75, 0.81, 0.9], 'k':[1,10,40,200]  }'''"
   ]
  },
  {
   "cell_type": "markdown",
   "metadata": {},
   "source": [
    "# Doing analysis for the same logit going to use the ground truth as it is a Schelling point"
   ]
  },
  {
   "cell_type": "code",
   "execution_count": 4,
   "metadata": {},
   "outputs": [],
   "source": [
    "from importlib import reload\n",
    "import utils\n",
    "\n",
    "reload(utils)\n",
    "from utils import *"
   ]
  },
  {
   "cell_type": "code",
   "execution_count": 5,
   "metadata": {},
   "outputs": [],
   "source": [
    "batch_size=25\n",
    "num_batches=4\n",
    "prompt_length=100\n",
    "generated_length=150\n",
    "tot_len = prompt_length+generated_length\n",
    "\n",
    "import encoder\n",
    "model_name='345M'\n",
    "models_dir='../gpt-2/models'\n",
    "enc = encoder.get_encoder(model_name, models_dir)\n",
    "\n",
    "prompts=pd.read_csv('test_dataframe_500primer.csv')"
   ]
  },
  {
   "cell_type": "code",
   "execution_count": 6,
   "metadata": {},
   "outputs": [],
   "source": [
    "gpt_out_path = 'gpt-2_output/'\n",
    "additional_path = ''#'' -model_774M-seed_27'\n",
    "#all_perps = pickle.load( gzip.open(gpt_out_path+'all_perplexities_perplexity_scores_for_the_dataset_Human_StoryPrompts_Completion.csv'+additional_path+'.pickle.gz', 'rb'))\n",
    "all_logits = pickle.load( gzip.open(gpt_out_path+'all_logits_perplexity_scores_for_the_dataset_Human_StoryPrompts_Completion.csv'+additional_path+'.pickle.gz', 'rb')) # needed to get the probabilities\n",
    "text = pickle.load( gzip.open(gpt_out_path+'all_text_perplexity_scores_for_the_dataset_Human_StoryPrompts_Completion.csv'+additional_path+'.pickle.gz', 'rb'))"
   ]
  },
  {
   "cell_type": "code",
   "execution_count": 7,
   "metadata": {},
   "outputs": [
    {
     "name": "stdout",
     "output_type": "stream",
     "text": [
      "23\n",
      "23\n",
      "24\n",
      "22\n"
     ]
    },
    {
     "data": {
      "text/plain": [
       "92"
      ]
     },
     "execution_count": 7,
     "metadata": {},
     "output_type": "execute_result"
    }
   ],
   "source": [
    "tot_num = 0\n",
    "mapping_to_batch = dict()\n",
    "for i in range(num_batches):\n",
    "    num_in_batch = all_logits[i].shape[0]\n",
    "    for el, b_ind in zip(range(tot_num, tot_num+num_in_batch), range(0, num_in_batch)):\n",
    "        mapping_to_batch[el] = (i, b_ind) # actual batch and then the ind in that batch\n",
    "    print( num_in_batch)\n",
    "    tot_num+= num_in_batch\n",
    "tot_num"
   ]
  },
  {
   "cell_type": "code",
   "execution_count": 8,
   "metadata": {},
   "outputs": [
    {
     "data": {
      "text/plain": [
       "(23, 150, 50257)"
      ]
     },
     "execution_count": 8,
     "metadata": {},
     "output_type": "execute_result"
    }
   ],
   "source": [
    "all_logits[0].shape"
   ]
  },
  {
   "cell_type": "markdown",
   "metadata": {},
   "source": [
    "# Looking at max deviation and getting these points within the tails of each"
   ]
  },
  {
   "cell_type": "markdown",
   "metadata": {},
   "source": [
    "## Want to also focus on the maximum deviation portions at some point. "
   ]
  },
  {
   "cell_type": "code",
   "execution_count": 9,
   "metadata": {},
   "outputs": [
    {
     "data": {
      "text/html": [
       "<div>\n",
       "<style scoped>\n",
       "    .dataframe tbody tr th:only-of-type {\n",
       "        vertical-align: middle;\n",
       "    }\n",
       "\n",
       "    .dataframe tbody tr th {\n",
       "        vertical-align: top;\n",
       "    }\n",
       "\n",
       "    .dataframe thead th {\n",
       "        text-align: right;\n",
       "    }\n",
       "</style>\n",
       "<table border=\"1\" class=\"dataframe\">\n",
       "  <thead>\n",
       "    <tr style=\"text-align: right;\">\n",
       "      <th></th>\n",
       "      <th>MinorMax</th>\n",
       "      <th>batch_ind</th>\n",
       "      <th>ind_in_batch</th>\n",
       "      <th>time_point</th>\n",
       "    </tr>\n",
       "  </thead>\n",
       "  <tbody>\n",
       "    <tr>\n",
       "      <th>95</th>\n",
       "      <td>Max</td>\n",
       "      <td>3</td>\n",
       "      <td>3</td>\n",
       "      <td>86</td>\n",
       "    </tr>\n",
       "    <tr>\n",
       "      <th>31</th>\n",
       "      <td>Min</td>\n",
       "      <td>1</td>\n",
       "      <td>10</td>\n",
       "      <td>117</td>\n",
       "    </tr>\n",
       "    <tr>\n",
       "      <th>99</th>\n",
       "      <td>Max</td>\n",
       "      <td>1</td>\n",
       "      <td>10</td>\n",
       "      <td>125</td>\n",
       "    </tr>\n",
       "    <tr>\n",
       "      <th>56</th>\n",
       "      <td>Max</td>\n",
       "      <td>1</td>\n",
       "      <td>7</td>\n",
       "      <td>55</td>\n",
       "    </tr>\n",
       "    <tr>\n",
       "      <th>6</th>\n",
       "      <td>Min</td>\n",
       "      <td>0</td>\n",
       "      <td>10</td>\n",
       "      <td>39</td>\n",
       "    </tr>\n",
       "  </tbody>\n",
       "</table>\n",
       "</div>"
      ],
      "text/plain": [
       "   MinorMax  batch_ind  ind_in_batch  time_point\n",
       "95      Max          3             3          86\n",
       "31      Min          1            10         117\n",
       "99      Max          1            10         125\n",
       "56      Max          1             7          55\n",
       "6       Min          0            10          39"
      ]
     },
     "metadata": {},
     "output_type": "display_data"
    }
   ],
   "source": [
    "# random prompts and locations within the 150 generation locations\n",
    "\n",
    "num_prompts_and_timepoints_wanted = 100 # cant be larger than 100 right now!!!\n",
    "assert num_prompts_and_timepoints_wanted <=100\n",
    "leading_prompt = 15\n",
    "\n",
    "want_min_max = True\n",
    "\n",
    "if want_min_max==True:\n",
    "    assert model_name=='345M', 'THIS IS FOR THE 345 NOT THE 774!!!!'\n",
    "    minmax = pd.read_csv('Min_Max_Disagreement_Coords_TFS90.csv') \n",
    "    #shuffle it and take the number that is wanted. \n",
    "    minmax = minmax.sample(frac= num_prompts_and_timepoints_wanted/minmax.shape[0])\n",
    "    display(minmax.head())\n",
    "    \n",
    "else:\n",
    "    rand_prompts = np.random.randint(0,tot_num, num_prompts_and_timepoints_wanted)\n",
    "    # leadingprompt until 150. as the logits are 150 not 250. \n",
    "    # -1 because of the end token prediction\n",
    "    rand_times = np.random.randint(0,generated_length-1, num_prompts_and_timepoints_wanted)"
   ]
  },
  {
   "cell_type": "code",
   "execution_count": 10,
   "metadata": {},
   "outputs": [],
   "source": [
    "# selecting randomly from the max deviations: \n",
    "\n"
   ]
  },
  {
   "cell_type": "code",
   "execution_count": 11,
   "metadata": {},
   "outputs": [],
   "source": [
    "from importlib import reload\n",
    "import utils\n",
    "\n",
    "reload(utils)\n",
    "from utils import *"
   ]
  },
  {
   "cell_type": "code",
   "execution_count": 12,
   "metadata": {},
   "outputs": [
    {
     "data": {
      "text/plain": [
       "150"
      ]
     },
     "execution_count": 12,
     "metadata": {},
     "output_type": "execute_result"
    }
   ],
   "source": [
    "len(all_logits[0][0, :, 0])"
   ]
  },
  {
   "cell_type": "markdown",
   "metadata": {},
   "source": [
    "getting random locations\n",
    "for the differnet gen strategies. find the tail locations. take the tokens at each position. \n",
    "move onto the next random location. "
   ]
  },
  {
   "cell_type": "code",
   "execution_count": 21,
   "metadata": {},
   "outputs": [],
   "source": [
    "# applying all analyses to the logits. \n",
    "prompt_length = 100\n",
    "methods_wanted = ['tfs_0.9', 'n_0.63']#['tfs_0.95', 'n_0.69']#, 'k_40']\n",
    "tfs_label = methods_wanted[0]\n",
    "nuc_label = methods_wanted[1]\n",
    "nuc_org = float(nuc_label.split('_')[-1])\n",
    "methods_wanted += ['InTail']\n",
    "to_df = []\n",
    "\n",
    "# randomly select generations and positions in those generations. from the original prompts. \n",
    "for r_ind in range(0, num_prompts_and_timepoints_wanted):\n",
    "    \n",
    "    if want_min_max ==True:\n",
    "        prompt = 999\n",
    "        batch_ind, ind_in_batch = minmax.iloc[r_ind, 1], minmax.iloc[r_ind, 2]\n",
    "        time_point = minmax.iloc[r_ind,3]\n",
    "        if time_point>=149:\n",
    "            continue # because of the stop token being predicted. \n",
    "        text_timepoint = time_point+prompt_length+1 # +1 because the perplexities keeps the end prediction token. \n",
    "    else:\n",
    "        prompt = rand_prompts[r_ind]\n",
    "        time_point = rand_times[r_ind]\n",
    "        text_timepoint = time_point+prompt_length+1 # +1 because the perplexities keeps the end prediction token. \n",
    "        batch_ind, ind_in_batch = mapping_to_batch[prompt]\n",
    "    \n",
    "    diff_tail_positions = dict()\n",
    "    largest_tail_id = 0\n",
    "    method_of_largest_tail_id = None\n",
    "    \n",
    "    sps = softmax(-np.sort(-all_logits[batch_ind][ind_in_batch, time_point, :]))\n",
    "    indices = np.argsort(-all_logits[batch_ind][ind_in_batch, time_point, :])\n",
    "    ground_token = text[batch_ind][ind_in_batch][text_timepoint]\n",
    "                \n",
    "    for key,all_params in vals_dict.items():\n",
    "        for par in all_params:\n",
    "            method = key+'_'+str(par)\n",
    "            if method in methods_wanted:\n",
    "            \n",
    "                if key == 'tfs':\n",
    "                    first = sps[1:] - sps[:-1]\n",
    "                    second = first[1:] - first[:-1]\n",
    "                    tail_id = new_tfs(second, par)\n",
    "                elif key=='flat':\n",
    "                    tail_id = flat(sps, par)\n",
    "                elif key=='n':\n",
    "                    tail_id = nucleus_calc(sps, par)\n",
    "                elif key=='k':\n",
    "                    tail_id = par\n",
    "                else:\n",
    "                    print('key not recognized')\n",
    "                    break\n",
    "                    \n",
    "                if tail_id > largest_tail_id:\n",
    "                    largest_tail_id=tail_id\n",
    "                    method_of_largest_tail_id=method\n",
    "            \n",
    "                diff_tail_positions[method] = tail_id#, ids_above_tail)\n",
    "\n",
    "    if len(diff_tail_positions.keys()) >2: \n",
    "        print('CURRENTLY CANT LOOK AT MORE THAN 2 THINGS!')\n",
    "        break\n",
    "        \n",
    "    # indices is still sorted. and can be used \n",
    "    smaller_method = list(diff_tail_positions.keys())\n",
    "    smaller_method.remove(method_of_largest_tail_id)\n",
    "    smaller_method = smaller_method[0]\n",
    "    smaller_tail_id = diff_tail_positions[smaller_method]\n",
    "    \n",
    "    #now I deal with this later where I can rerun the nucleus part of it. \n",
    "    #if largest_tail_id - smaller_tail_id < 3:\n",
    "    #    #print('not enough space between the tail locations')\n",
    "    #    continue\n",
    "        \n",
    "    # what the ground token is and what the looser method is here. \n",
    "    ground_word = decoder_text([ground_token])\n",
    "    \n",
    "    #get the 15 words in front. \n",
    "    lead_prompt_words = decoder_text(text[batch_ind][ind_in_batch][text_timepoint-leading_prompt:text_timepoint])\n",
    "    df_row = [prompt, time_point, batch_ind, ind_in_batch, lead_prompt_words, ground_word, method_of_largest_tail_id] # taking it from the last one. \n",
    "    \n",
    "    diff_tail_positions['InTail'] = 50527\n",
    "    for method in methods_wanted: # want to do them in the same order.\n",
    "        # add the tail for each method: \n",
    "        df_row += [diff_tail_positions[method]]\n",
    "        if method == method_of_largest_tail_id: # the cut between the tighter and looser\n",
    "            unique_tokens = indices[smaller_tail_id:largest_tail_id]\n",
    "            starting_pos = smaller_tail_id\n",
    "        elif method == 'InTail': #the tail itself\n",
    "            unique_tokens = indices[largest_tail_id:]\n",
    "            starting_pos = largest_tail_id\n",
    "        else: # the closest one\n",
    "            unique_tokens = indices[:smaller_tail_id]\n",
    "            starting_pos = 0\n",
    "            \n",
    "        #remove any non word tokens: \n",
    "        unique_tokens, relative_pos = remove_non_words(unique_tokens)\n",
    "        # select the right positions\n",
    "        words_and_positions_wanted = get_specific_positions(unique_tokens, starting_pos, relative_pos)\n",
    "        \n",
    "        while method_of_largest_tail_id == tfs_label and words_and_positions_wanted[0] == [None,None,None]: # need to rerun with a looser nucleus threshold. \n",
    "            # get a tighter nucleus sample\n",
    "            nuc_org = nuc_org-0.03\n",
    "            tail_id = nucleus_calc(sps, nuc_org)\n",
    "            \n",
    "            if tail_id == 1: # cant get any tighter. \n",
    "                break\n",
    "            \n",
    "            unique_tokens = indices[:tail_id]\n",
    "            starting_pos = 0\n",
    "            \n",
    "            unique_tokens, relative_pos = remove_non_words(unique_tokens)\n",
    "            # select the right positions\n",
    "            words_and_positions_wanted = get_specific_positions(unique_tokens, starting_pos, relative_pos)\n",
    "\n",
    "        specific_probs = []\n",
    "        for abs_pos in words_and_positions_wanted[1]:\n",
    "            specific_probs.append(sps[abs_pos])\n",
    "        \n",
    "        df_row += [words_and_positions_wanted[0], words_and_positions_wanted[1], specific_probs ]\n",
    "        \n",
    "    to_df.append(df_row)"
   ]
  },
  {
   "cell_type": "code",
   "execution_count": 33,
   "metadata": {},
   "outputs": [],
   "source": [
    "results = pd.DataFrame(to_df, columns = ['prompt_ind', 'time_point', \n",
    "                               'batch_ind', 'ind_in_batch', 'leading_words',\n",
    "                               'ground_word', 'looser_method', 'tail_pos_'+methods_wanted[0], \n",
    "        'specific_words_'+methods_wanted[0], 'positions_'+methods_wanted[0],'probs'+methods_wanted[0],\n",
    "                                         'tail_pos_'+methods_wanted[1],\n",
    "                    'specific_words_'+methods_wanted[1], 'positions_'+methods_wanted[1],\n",
    "                    'probs'+methods_wanted[1],'tail_pos_'+methods_wanted[2],\n",
    "                    'specific_words_'+methods_wanted[2], 'positions_'+methods_wanted[2], 'probs'+methods_wanted[2]])"
   ]
  },
  {
   "cell_type": "code",
   "execution_count": 59,
   "metadata": {},
   "outputs": [],
   "source": [
    "assert results.drop_duplicates('leading_words').shape == results.shape"
   ]
  },
  {
   "cell_type": "code",
   "execution_count": 60,
   "metadata": {},
   "outputs": [
    {
     "name": "stdout",
     "output_type": "stream",
     "text": [
      "number that are not none 58\n"
     ]
    }
   ],
   "source": [
    "# need to remove nones: \n",
    "none_mask = []\n",
    "for ind in range(results.shape[0]):\n",
    "    if results.loc[ind, 'specific_words_'+tfs_label]==[None, None, None] or results.loc[ind, 'specific_words_'+nuc_label]==[None, None, None]:\n",
    "        none_mask.append(False)\n",
    "    else:\n",
    "        none_mask.append(True)\n",
    "        \n",
    "print('number that are not none', sum(none_mask))"
   ]
  },
  {
   "cell_type": "code",
   "execution_count": 36,
   "metadata": {},
   "outputs": [],
   "source": [
    "\n",
    "results = results[none_mask]"
   ]
  },
  {
   "cell_type": "code",
   "execution_count": 37,
   "metadata": {},
   "outputs": [
    {
     "data": {
      "text/plain": [
       "(58, 19)"
      ]
     },
     "execution_count": 37,
     "metadata": {},
     "output_type": "execute_result"
    }
   ],
   "source": [
    "results.shape"
   ]
  },
  {
   "cell_type": "code",
   "execution_count": 38,
   "metadata": {},
   "outputs": [
    {
     "data": {
      "text/html": [
       "<div>\n",
       "<style scoped>\n",
       "    .dataframe tbody tr th:only-of-type {\n",
       "        vertical-align: middle;\n",
       "    }\n",
       "\n",
       "    .dataframe tbody tr th {\n",
       "        vertical-align: top;\n",
       "    }\n",
       "\n",
       "    .dataframe thead th {\n",
       "        text-align: right;\n",
       "    }\n",
       "</style>\n",
       "<table border=\"1\" class=\"dataframe\">\n",
       "  <thead>\n",
       "    <tr style=\"text-align: right;\">\n",
       "      <th></th>\n",
       "      <th>prompt_ind</th>\n",
       "      <th>time_point</th>\n",
       "      <th>batch_ind</th>\n",
       "      <th>ind_in_batch</th>\n",
       "      <th>leading_words</th>\n",
       "      <th>ground_word</th>\n",
       "      <th>looser_method</th>\n",
       "      <th>tail_pos_tfs_0.9</th>\n",
       "      <th>specific_words_tfs_0.9</th>\n",
       "      <th>positions_tfs_0.9</th>\n",
       "      <th>probstfs_0.9</th>\n",
       "      <th>tail_pos_n_0.63</th>\n",
       "      <th>specific_words_n_0.63</th>\n",
       "      <th>positions_n_0.63</th>\n",
       "      <th>probsn_0.63</th>\n",
       "      <th>tail_pos_InTail</th>\n",
       "      <th>specific_words_InTail</th>\n",
       "      <th>positions_InTail</th>\n",
       "      <th>probsInTail</th>\n",
       "    </tr>\n",
       "  </thead>\n",
       "  <tbody>\n",
       "    <tr>\n",
       "      <th>1</th>\n",
       "      <td>999</td>\n",
       "      <td>117</td>\n",
       "      <td>1</td>\n",
       "      <td>10</td>\n",
       "      <td>aged weapons. Everyone else was given or assi...</td>\n",
       "      <td>infantry</td>\n",
       "      <td>n_0.63</td>\n",
       "      <td>13</td>\n",
       "      <td>[only, last, most]</td>\n",
       "      <td>[0, 6, 12]</td>\n",
       "      <td>[0.06087858, 0.008750073, 0.0055404124]</td>\n",
       "      <td>550</td>\n",
       "      <td>[humans, captain, workforce]</td>\n",
       "      <td>[13, 275, 549]</td>\n",
       "      <td>[0.0052030683, 0.00049465947, 0.00025142057]</td>\n",
       "      <td>50527</td>\n",
       "      <td>[name, nutrients, interstitial]</td>\n",
       "      <td>[550, 21428, 50224]</td>\n",
       "      <td>[0.0002514129, 8.5582576e-07, 1.9516675e-11]</td>\n",
       "    </tr>\n",
       "    <tr>\n",
       "      <th>3</th>\n",
       "      <td>999</td>\n",
       "      <td>55</td>\n",
       "      <td>1</td>\n",
       "      <td>7</td>\n",
       "      <td>never understood words too well, but I guess ...</td>\n",
       "      <td>;</td>\n",
       "      <td>tfs_0.9</td>\n",
       "      <td>6</td>\n",
       "      <td>[and, for, because]</td>\n",
       "      <td>[0, 2, 3]</td>\n",
       "      <td>[0.33381513, 0.09870116, 0.07159144]</td>\n",
       "      <td>4</td>\n",
       "      <td>[and, for, because]</td>\n",
       "      <td>[0, 2, 3]</td>\n",
       "      <td>[0.33381513, 0.09870116, 0.07159144]</td>\n",
       "      <td>50527</td>\n",
       "      <td>[as, drains, cumbers]</td>\n",
       "      <td>[6, 21375, 50249]</td>\n",
       "      <td>[0.014609966, 1.7478184e-08, 7.535083e-14]</td>\n",
       "    </tr>\n",
       "    <tr>\n",
       "      <th>4</th>\n",
       "      <td>999</td>\n",
       "      <td>39</td>\n",
       "      <td>0</td>\n",
       "      <td>10</td>\n",
       "      <td>no longer individuals. Mothers are no longer ...</td>\n",
       "      <td>occasional</td>\n",
       "      <td>n_0.63</td>\n",
       "      <td>7</td>\n",
       "      <td>[jokes, pun, a]</td>\n",
       "      <td>[0, 3, 6]</td>\n",
       "      <td>[0.084562816, 0.009146591, 0.007705728]</td>\n",
       "      <td>579</td>\n",
       "      <td>[to, image, inventions]</td>\n",
       "      <td>[7, 297, 578]</td>\n",
       "      <td>[0.007355045, 0.00052459346, 0.00028983405]</td>\n",
       "      <td>50527</td>\n",
       "      <td>[impressions, Fitzgerald, conservancy]</td>\n",
       "      <td>[580, 20968, 50238]</td>\n",
       "      <td>[0.00028833427, 3.9972744e-07, 6.7375017e-13]</td>\n",
       "    </tr>\n",
       "    <tr>\n",
       "      <th>5</th>\n",
       "      <td>999</td>\n",
       "      <td>14</td>\n",
       "      <td>1</td>\n",
       "      <td>17</td>\n",
       "      <td>\\n \\n A child's broken plaything, risen with e...</td>\n",
       "      <td>c</td>\n",
       "      <td>n_0.63</td>\n",
       "      <td>8</td>\n",
       "      <td>[and, its, but]</td>\n",
       "      <td>[0, 4, 7]</td>\n",
       "      <td>[0.0692719, 0.010805639, 0.00824078]</td>\n",
       "      <td>374</td>\n",
       "      <td>[with, leaving, turns]</td>\n",
       "      <td>[8, 202, 373]</td>\n",
       "      <td>[0.0060455734, 0.0009405914, 0.0005247816]</td>\n",
       "      <td>50527</td>\n",
       "      <td>[sought, mainland, Interstitial]</td>\n",
       "      <td>[374, 21177, 50216]</td>\n",
       "      <td>[0.00052268384, 2.634107e-07, 1.730388e-11]</td>\n",
       "    </tr>\n",
       "    <tr>\n",
       "      <th>8</th>\n",
       "      <td>999</td>\n",
       "      <td>47</td>\n",
       "      <td>2</td>\n",
       "      <td>1</td>\n",
       "      <td>would realize truly how powerful Anonymous wa...</td>\n",
       "      <td>friends</td>\n",
       "      <td>n_0.63</td>\n",
       "      <td>5</td>\n",
       "      <td>[newfound, mask, father]</td>\n",
       "      <td>[0, 2, 4]</td>\n",
       "      <td>[0.071420684, 0.020989213, 0.01060408]</td>\n",
       "      <td>425</td>\n",
       "      <td>[success, creative, trusted]</td>\n",
       "      <td>[5, 212, 424]</td>\n",
       "      <td>[0.010030248, 0.0006455564, 0.00034931596]</td>\n",
       "      <td>50527</td>\n",
       "      <td>[huge, fall, Els]</td>\n",
       "      <td>[425, 21131, 50249]</td>\n",
       "      <td>[0.00034922536, 5.2094526e-07, 3.5534642e-12]</td>\n",
       "    </tr>\n",
       "  </tbody>\n",
       "</table>\n",
       "</div>"
      ],
      "text/plain": [
       "   prompt_ind  time_point  batch_ind  ind_in_batch  \\\n",
       "1         999         117          1            10   \n",
       "3         999          55          1             7   \n",
       "4         999          39          0            10   \n",
       "5         999          14          1            17   \n",
       "8         999          47          2             1   \n",
       "\n",
       "                                       leading_words  ground_word  \\\n",
       "1   aged weapons. Everyone else was given or assi...     infantry   \n",
       "3   never understood words too well, but I guess ...            ;   \n",
       "4   no longer individuals. Mothers are no longer ...   occasional   \n",
       "5  \\n \\n A child's broken plaything, risen with e...            c   \n",
       "8   would realize truly how powerful Anonymous wa...      friends   \n",
       "\n",
       "  looser_method  tail_pos_tfs_0.9    specific_words_tfs_0.9 positions_tfs_0.9  \\\n",
       "1        n_0.63                13        [only, last, most]        [0, 6, 12]   \n",
       "3       tfs_0.9                 6       [and, for, because]         [0, 2, 3]   \n",
       "4        n_0.63                 7           [jokes, pun, a]         [0, 3, 6]   \n",
       "5        n_0.63                 8           [and, its, but]         [0, 4, 7]   \n",
       "8        n_0.63                 5  [newfound, mask, father]         [0, 2, 4]   \n",
       "\n",
       "                              probstfs_0.9  tail_pos_n_0.63  \\\n",
       "1  [0.06087858, 0.008750073, 0.0055404124]              550   \n",
       "3     [0.33381513, 0.09870116, 0.07159144]                4   \n",
       "4  [0.084562816, 0.009146591, 0.007705728]              579   \n",
       "5     [0.0692719, 0.010805639, 0.00824078]              374   \n",
       "8   [0.071420684, 0.020989213, 0.01060408]              425   \n",
       "\n",
       "          specific_words_n_0.63 positions_n_0.63  \\\n",
       "1  [humans, captain, workforce]   [13, 275, 549]   \n",
       "3           [and, for, because]        [0, 2, 3]   \n",
       "4       [to, image, inventions]    [7, 297, 578]   \n",
       "5        [with, leaving, turns]    [8, 202, 373]   \n",
       "8  [success, creative, trusted]    [5, 212, 424]   \n",
       "\n",
       "                                    probsn_0.63  tail_pos_InTail  \\\n",
       "1  [0.0052030683, 0.00049465947, 0.00025142057]            50527   \n",
       "3          [0.33381513, 0.09870116, 0.07159144]            50527   \n",
       "4   [0.007355045, 0.00052459346, 0.00028983405]            50527   \n",
       "5    [0.0060455734, 0.0009405914, 0.0005247816]            50527   \n",
       "8    [0.010030248, 0.0006455564, 0.00034931596]            50527   \n",
       "\n",
       "                    specific_words_InTail     positions_InTail  \\\n",
       "1         [name, nutrients, interstitial]  [550, 21428, 50224]   \n",
       "3                   [as, drains, cumbers]    [6, 21375, 50249]   \n",
       "4  [impressions, Fitzgerald, conservancy]  [580, 20968, 50238]   \n",
       "5        [sought, mainland, Interstitial]  [374, 21177, 50216]   \n",
       "8                       [huge, fall, Els]  [425, 21131, 50249]   \n",
       "\n",
       "                                     probsInTail  \n",
       "1   [0.0002514129, 8.5582576e-07, 1.9516675e-11]  \n",
       "3     [0.014609966, 1.7478184e-08, 7.535083e-14]  \n",
       "4  [0.00028833427, 3.9972744e-07, 6.7375017e-13]  \n",
       "5    [0.00052268384, 2.634107e-07, 1.730388e-11]  \n",
       "8  [0.00034922536, 5.2094526e-07, 3.5534642e-12]  "
      ]
     },
     "execution_count": 38,
     "metadata": {},
     "output_type": "execute_result"
    }
   ],
   "source": [
    "results.head()"
   ]
  },
  {
   "cell_type": "code",
   "execution_count": 39,
   "metadata": {},
   "outputs": [
    {
     "data": {
      "text/plain": [
       "43"
      ]
     },
     "execution_count": 39,
     "metadata": {},
     "output_type": "execute_result"
    }
   ],
   "source": [
    "(results['looser_method'] == nuc_label).sum() # only 12 of these have TFS as the looser method. \n",
    "# using iterative nucleus i got this up to 15\n",
    "# need to try other tighter nucleus values for these ones. "
   ]
  },
  {
   "cell_type": "code",
   "execution_count": 46,
   "metadata": {},
   "outputs": [],
   "source": [
    "results.reset_index(inplace=True)\n",
    "results.drop('index', axis=1, inplace=True)"
   ]
  },
  {
   "cell_type": "code",
   "execution_count": 47,
   "metadata": {},
   "outputs": [],
   "source": [
    "results.to_csv('backup_of_different_tail_slices.csv')"
   ]
  },
  {
   "cell_type": "code",
   "execution_count": 41,
   "metadata": {},
   "outputs": [
    {
     "ename": "TypeError",
     "evalue": "apply() missing 1 required positional argument: 'func'",
     "output_type": "error",
     "traceback": [
      "\u001b[0;31m---------------------------------------------------------------------------\u001b[0m",
      "\u001b[0;31mTypeError\u001b[0m                                 Traceback (most recent call last)",
      "\u001b[0;32m<ipython-input-41-de1219211c72>\u001b[0m in \u001b[0;36m<module>\u001b[0;34m\u001b[0m\n\u001b[1;32m      1\u001b[0m \u001b[0msamp_methods\u001b[0m \u001b[0;34m=\u001b[0m \u001b[0mset\u001b[0m\u001b[0;34m(\u001b[0m\u001b[0mresults\u001b[0m\u001b[0;34m[\u001b[0m\u001b[0;34m'looser_method'\u001b[0m\u001b[0;34m]\u001b[0m\u001b[0;34m.\u001b[0m\u001b[0munique\u001b[0m\u001b[0;34m(\u001b[0m\u001b[0;34m)\u001b[0m\u001b[0;34m.\u001b[0m\u001b[0mtolist\u001b[0m\u001b[0;34m(\u001b[0m\u001b[0;34m)\u001b[0m\u001b[0;34m)\u001b[0m\u001b[0;34m\u001b[0m\u001b[0;34m\u001b[0m\u001b[0m\n\u001b[1;32m      2\u001b[0m \u001b[0;31m# want to get the specific entries from each:\u001b[0m\u001b[0;34m\u001b[0m\u001b[0;34m\u001b[0m\u001b[0;34m\u001b[0m\u001b[0m\n\u001b[0;32m----> 3\u001b[0;31m \u001b[0mresults\u001b[0m\u001b[0;34m.\u001b[0m\u001b[0mapply\u001b[0m\u001b[0;34m(\u001b[0m\u001b[0;34m)\u001b[0m\u001b[0;34m\u001b[0m\u001b[0;34m\u001b[0m\u001b[0m\n\u001b[0m",
      "\u001b[0;31mTypeError\u001b[0m: apply() missing 1 required positional argument: 'func'"
     ]
    }
   ],
   "source": [
    "samp_methods = set(results['looser_method'].unique().tolist())\n",
    "# want to get the specific entries from each: \n",
    "results.apply()"
   ]
  },
  {
   "cell_type": "code",
   "execution_count": 48,
   "metadata": {},
   "outputs": [],
   "source": [
    "file_name_base = 'tail_replaceable_comparisons'"
   ]
  },
  {
   "cell_type": "code",
   "execution_count": 49,
   "metadata": {},
   "outputs": [],
   "source": [
    "answer_orders = []\n",
    "with open(file_name_base + '_blind_output.txt', 'w') as file: \n",
    "    file.write('For each of the following assignments, rank on a scale of 1-5 how replaceable each word is, given the provided context. \\n')\n",
    "    file.write('Some words are stems, if the word could be completed then you can still rank it highly. And be generous with acronyms that could be plausible. ')\n",
    "    file.write('===================================================== \\n \\n')\n",
    "    for ind in range(results.shape[0]):\n",
    "        file.write('Prompt '+str(ind)+'. \\n')\n",
    "        file.write('The '+str(leading_prompt)+' words in front: \\n \\n')\n",
    "        file.write(results.loc[ind, 'leading_words']+' _______')\n",
    "        file.write('\\n')\n",
    "        \n",
    "        words = [results.loc[ind, 'ground_word']]\n",
    "        order = ['ground_word']\n",
    "        for m in methods_wanted: \n",
    "            col = 'specific_words_'+m\n",
    "            words += results.loc[ind, col]\n",
    "            for i in range(1,4):\n",
    "                order.append(m+\"-\"+str(i))\n",
    "                \n",
    "        words =np.asarray(words)\n",
    "        order = np.asarray(order)\n",
    "        \n",
    "        #print(words, order)\n",
    "        shuffler = np.random.choice(range(len(words)), size =len(words), replace=False )\n",
    "        \n",
    "        words = words[shuffler]\n",
    "        order = order[shuffler]\n",
    "        answer_orders.append(list(order))\n",
    "        #print('after', words, order)\n",
    "        \n",
    "        for i in range(len(words)):\n",
    "            file.write(str(i+1)+'. '+words[i]+' ')\n",
    "                \n",
    "        file.write('\\n \\n')\n",
    "        file.write('=====================================================')\n",
    "        file.write('\\n \\n')\n",
    "        \n",
    "with open(file_name_base + '_answers.txt', 'w') as file: \n",
    "    for ind, order in enumerate(answer_orders):\n",
    "        file.write('Prompt '+str(ind)+' : \\n')\n",
    "        for el_ind, el in enumerate(order): \n",
    "            file.write(str(el_ind+1) + '. '+el +' ')\n",
    "        file.write('\\n')\n",
    "        file.write('=====================================================')\n",
    "        file.write('\\n')\n",
    "\n",
    "pickle.dump(answer_orders,open(file_name_base + '_answers_list.pickle','wb'))"
   ]
  },
  {
   "cell_type": "code",
   "execution_count": 234,
   "metadata": {},
   "outputs": [],
   "source": [
    "res = [[3, 5, 4, 5, 5, 4, 1, 3, 2, 1],\n",
    "       [5, 5, 5, 1, 5, 1, 4, 5, 4, 5], \n",
    "       [4, 5, 4, 2, 2, 4, 2, 1,1, 5], \n",
    "       [4, 4, 5, 4, 4, 2, 5, 4, 5, 2], \n",
    "       [5, 5, 5, 1, 3, 4, 5, 5, 5, 4], \n",
    "       [4, 3, 5,5,4,5, 5, 4, 1,1], \n",
    "       [5, 5, 4, 1, 4, 5,1,4,4,2], \n",
    "       [5,4,2,1,5,4,1,1,5,1], \n",
    "       [3,4,5,5,4,1,3,5,4,5]]\n"
   ]
  },
  {
   "cell_type": "code",
   "execution_count": 235,
   "metadata": {},
   "outputs": [
    {
     "name": "stdout",
     "output_type": "stream",
     "text": [
      "10\n",
      "10\n",
      "10\n",
      "10\n",
      "10\n",
      "10\n",
      "10\n",
      "10\n",
      "10\n"
     ]
    }
   ],
   "source": [
    "for r in res: \n",
    "    print(len(r))"
   ]
  },
  {
   "cell_type": "code",
   "execution_count": 236,
   "metadata": {},
   "outputs": [
    {
     "data": {
      "text/plain": [
       "'n_0.69'"
      ]
     },
     "execution_count": 236,
     "metadata": {},
     "output_type": "execute_result"
    }
   ],
   "source": [
    "methods_wanted[-2]"
   ]
  },
  {
   "cell_type": "code",
   "execution_count": 237,
   "metadata": {},
   "outputs": [],
   "source": [
    "tfs_tighter = dict()\n",
    "nuc_tighter = dict()\n",
    "\n",
    "for ind, (r, a) in enumerate(zip(res, answer_orders)):\n",
    "    lose_method = results.loc[ind, 'looser_method']\n",
    "    for r_el, a_el in zip(r,a):\n",
    "        if lose_method == tfs_label:\n",
    "            try:\n",
    "                nuc_tighter[a_el].append(r_el)\n",
    "            except:\n",
    "                nuc_tighter[a_el] = [r_el]\n",
    "        else: \n",
    "            try:\n",
    "                tfs_tighter[a_el].append(r_el)\n",
    "            except:\n",
    "                tfs_tighter[a_el] = [r_el]"
   ]
  },
  {
   "cell_type": "code",
   "execution_count": 257,
   "metadata": {},
   "outputs": [],
   "source": [
    "tfs_tighter = pd.DataFrame(tfs_tighter)\n",
    "nuc_tighter = pd.DataFrame(nuc_tighter)"
   ]
  },
  {
   "cell_type": "code",
   "execution_count": 275,
   "metadata": {},
   "outputs": [],
   "source": [
    "from importlib import reload\n",
    "import utils\n",
    "\n",
    "reload(utils)\n",
    "from utils import *"
   ]
  },
  {
   "cell_type": "code",
   "execution_count": 276,
   "metadata": {},
   "outputs": [
    {
     "data": {
      "image/png": "[encoded data removed]",
      "text/plain": [
       "<Figure size 432x288 with 1 Axes>"
      ]
     },
     "metadata": {
      "needs_background": "light"
     },
     "output_type": "display_data"
    }
   ],
   "source": [
    "bar_plot_columns(tfs_tighter, 'TFS is tighter')"
   ]
  },
  {
   "cell_type": "code",
   "execution_count": 279,
   "metadata": {},
   "outputs": [
    {
     "data": {
      "image/png": "[encoded data removed]",
      "text/plain": [
       "<Figure size 432x288 with 1 Axes>"
      ]
     },
     "metadata": {
      "needs_background": "light"
     },
     "output_type": "display_data"
    }
   ],
   "source": [
    "bar_plot_columns(nuc_tighter, 'Nuc is Tighter')"
   ]
  },
  {
   "cell_type": "markdown",
   "metadata": {},
   "source": [
    "Want when Nuc is tighter for the difference between Nuc and TFS to be smaller than it is when TFS is tighter. "
   ]
  },
  {
   "cell_type": "code",
   "execution_count": 280,
   "metadata": {},
   "outputs": [
    {
     "name": "stdout",
     "output_type": "stream",
     "text": [
      "position: 1 = 0.3999999999999999\n",
      "position: 2 = 0.6000000000000001\n",
      "position: 3 = 0.7999999999999998\n"
     ]
    }
   ],
   "source": [
    "abs_diff_of_different_locations(tfs_tighter, tfs_label, n_label)"
   ]
  },
  {
   "cell_type": "code",
   "execution_count": 281,
   "metadata": {},
   "outputs": [
    {
     "name": "stdout",
     "output_type": "stream",
     "text": [
      "position: 1 = 1.75\n",
      "position: 2 = 0.25\n",
      "position: 3 = 1.25\n"
     ]
    }
   ],
   "source": [
    "abs_diff_of_different_locations(nuc_tighter,tfs_label, n_label)"
   ]
  }
 ],
 "metadata": {
  "kernelspec": {
   "display_name": "Python 3",
   "language": "python",
   "name": "python3"
  },
  "language_info": {
   "codemirror_mode": {
    "name": "ipython",
    "version": 3
   },
   "file_extension": ".py",
   "mimetype": "text/x-python",
   "name": "python",
   "nbconvert_exporter": "python",
   "pygments_lexer": "ipython3",
   "version": "3.7.3"
  }
 },
 "nbformat": 4,
 "nbformat_minor": 4
}
