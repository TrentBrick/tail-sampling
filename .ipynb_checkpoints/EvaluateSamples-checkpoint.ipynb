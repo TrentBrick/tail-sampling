{
 "cells": [
  {
   "cell_type": "code",
   "execution_count": 2,
   "metadata": {},
   "outputs": [],
   "source": [
    "import pickle\n",
    "import gzip\n",
    "\n",
    "#how be able to iterate through all of the different files\n",
    "vals_dict = {'tfs':[None, 0.01, 0.05, 0.1, 0.5, 0.75 ],\n",
    "'n': [0.1, 0.25, 0.5, 0.75, 0.9], 'k':[1,10,40,200]  }\n",
    "\n"
   ]
  },
  {
   "cell_type": "code",
   "execution_count": 15,
   "metadata": {},
   "outputs": [],
   "source": [
    "for key, params in vals_dict.items():\n",
    "    for par in params:\n",
    "        if par ==None:\n",
    "            par = \"None\"\n",
    "        all_logits = pickle.load( gzip.open('gpt-2_output/all_logits_'+key+'-sampling-type_'+par+'-sampling-param_100-word-prompts_150-gen-length_100-number-of-prompts.pickle.gz', 'rb'))\n",
    "        text = pickle.load( gzip.open('gpt-2_output/all_text_'+key+'-sampling-type_'+par+'-sampling-param_100-word-prompts_150-gen-length_100-number-of-prompts.pickle.gz', 'rb'))\n",
    "        rand_selects = pickle.load( gzip.open('gpt-2_output/prompt_rand_selections_'+key+'-sampling-type_'+str(par)+'-sampling-param_100-word-prompts_150-gen-length_100-number-of-prompts.pickle.gz', 'rb'))\n",
    "\n",
    "        break\n",
    "    break"
   ]
  },
  {
   "cell_type": "code",
   "execution_count": 16,
   "metadata": {},
   "outputs": [],
   "source": [
    "del df"
   ]
  },
  {
   "cell_type": "code",
   "execution_count": 19,
   "metadata": {},
   "outputs": [
    {
     "data": {
      "text/plain": [
       "4"
      ]
     },
     "execution_count": 19,
     "metadata": {},
     "output_type": "execute_result"
    }
   ],
   "source": [
    "len(text)"
   ]
  },
  {
   "cell_type": "code",
   "execution_count": 21,
   "metadata": {},
   "outputs": [
    {
     "data": {
      "text/plain": [
       "(25, 250)"
      ]
     },
     "execution_count": 21,
     "metadata": {},
     "output_type": "execute_result"
    }
   ],
   "source": [
    "text[0].shape"
   ]
  },
  {
   "cell_type": "code",
   "execution_count": 12,
   "metadata": {},
   "outputs": [
    {
     "data": {
      "text/plain": [
       "array([ 5139,  3768,  3912, 14879,  4848, 13605,  7192,  4237, 11121,\n",
       "        1026,  8831,  8895,  9386,  8417, 10926, 12170,   689, 11198,\n",
       "        5558, 14495,  9743,  3571, 10490, 15136, 14165,  5939,  1996,\n",
       "        5117,  7427,  1754,  8566,  8908,  3902,  7495, 11357,  5927,\n",
       "       14523,  7528, 11829, 12279, 14369,  3906,  3151,  9904,  9827,\n",
       "       12211, 12933,  3498,  9235,  6581, 14304, 14487,  5428, 11345,\n",
       "        7185, 10007,  5472,  4487,   540, 11144,  7012,  4381, 12873,\n",
       "        7952,  2756, 11068, 15111,  6720, 10393,  3551, 14269, 12066,\n",
       "        2866, 10860,  7183, 11955, 13936,  7243, 14593,  9269,  3369,\n",
       "        9500,  2613,  1021,  3822,  7491,  9998,  6938,  1582,  7865,\n",
       "        2662,  9045,  1324, 11431,  9123, 11092,  2847, 13290,   653,\n",
       "        1838])"
      ]
     },
     "execution_count": 12,
     "metadata": {},
     "output_type": "execute_result"
    }
   ],
   "source": [
    "rand_selects"
   ]
  },
  {
   "cell_type": "code",
   "execution_count": 22,
   "metadata": {},
   "outputs": [
    {
     "data": {
      "text/plain": [
       "(25, 50257, 150)"
      ]
     },
     "execution_count": 22,
     "metadata": {},
     "output_type": "execute_result"
    }
   ],
   "source": [
    "all_logits[0].shape"
   ]
  },
  {
   "cell_type": "code",
   "execution_count": 8,
   "metadata": {},
   "outputs": [
    {
     "data": {
      "text/plain": [
       "array([-111.37936 ,    5.993324, -124.22533 , -133.7251  ,  -18.43812 ,\n",
       "        -87.03779 ,  193.62799 , -103.28502 ,  -42.595085,  -54.76678 ,\n",
       "       -124.7779  , -125.51141 ,  -78.802734, -150.16475 ,  -79.78396 ,\n",
       "       -115.191864,  -73.8743  ,  -30.89286 , -119.48405 , -147.27014 ,\n",
       "        -77.28897 ,   47.17818 , -112.41978 ,  -89.85373 ,  -46.095333],\n",
       "      dtype=float32)"
      ]
     },
     "execution_count": 8,
     "metadata": {},
     "output_type": "execute_result"
    }
   ],
   "source": [
    "all_logits[0][:,0,0]"
   ]
  },
  {
   "cell_type": "code",
   "execution_count": 86,
   "metadata": {},
   "outputs": [],
   "source": [
    "import numpy as np \n",
    "import pandas as pd\n",
    "prompts=pd.read_csv('test_dataframe_500primer.csv') # the text has the prompts so dont need this. "
   ]
  },
  {
   "cell_type": "markdown",
   "metadata": {},
   "source": [
    "# Convert all of the numbers text from all of the different models into one dataframe with all of the prompts and the produced text separated out"
   ]
  },
  {
   "cell_type": "code",
   "execution_count": 25,
   "metadata": {},
   "outputs": [
    {
     "data": {
      "text/plain": [
       "array([   58, 25527,    60,   921,   804,   503,   379,   262,  6016,\n",
       "        7588,   286,   262,  1748,   290,  4240,   703,   345,  1683,\n",
       "        6348,   510,    13,   220,   198,   383,  7588,  9280,  1973,\n",
       "         262,  6180,  6766,    13,   921,   460,   766,   262,  6832,\n",
       "         287,   262,  5253,    11,   617,  7588,  6225,   286,   355,\n",
       "         262,  7000,  1969,   866,    13,   921,  4240,   703,   428,\n",
       "         477,  3022,    11,   618,   750,  2279,  1487,    30,   220,\n",
       "         198,   220,   198,  1649,   750,  1635,  5832,     9,  1487,\n",
       "          30,   220,   198,   220,   198, 11075,   318,  4642,   257,\n",
       "        1200,    13,  2773,  1663,   510,  5443,   621,  1854,    13,\n",
       "        2773,   466,   299,   470,  1663,   510,   379,   477,    13,\n",
       "       19347,  1208,   319,   262,  4417,   286,   262,  2323,    26,\n",
       "         257,  1110,  8318,   416,  6364,  1973,   262,  1755,  6766,\n",
       "          13,   921,  4240,   508,   318,  1016,   284,  1663,   510,\n",
       "         262, 14162,    13,   220,   198,   220,   198,   198,  1849,\n",
       "           1,  1639,  1053,  1392,   257,  1693,  1909,    11,   788,\n",
       "        1701,   198,     1, 19457,    13,   632,   338,   655,   257,\n",
       "        1310,   517,  8253,   621,   314,  2938,    11,   475,   340,\n",
       "         338,   477,   922,   526,   220,   198,  1639,  2342,   262,\n",
       "        6016,  8824,  2971, 15360,   832,   262,  4675, 32209,    13,\n",
       "         632,   338,  6016,   290,   612,  3588,   470,   597,  6832,\n",
       "         287,   340,    13,   554,   257,  1310,  1643,    13,  1320,\n",
       "        1595,   470,  1612,   340,   338,   407,  7895,    13,   383,\n",
       "        6483,   389,  6565,    11,   612,   338,   645,  4979,   290,\n",
       "        2506,   338,   655,  3375,    13,   632,   338,  5897,   290,\n",
       "         991,   290,   345,   460,  1254,   703,  4950,  1243,   389,\n",
       "          13,   632,   338,   588,   345,  1053,  1392,   257,  4320,\n",
       "        1282,  2081,    13,  1320,   338,   618,   262], dtype=int32)"
      ]
     },
     "execution_count": 25,
     "metadata": {},
     "output_type": "execute_result"
    }
   ],
   "source": [
    "text[0][0]"
   ]
  },
  {
   "cell_type": "code",
   "execution_count": 27,
   "metadata": {},
   "outputs": [
    {
     "data": {
      "text/plain": [
       "'[WP] You look out at the bright lights of the city and wonder how you ever grew up. \\n The lights dance across the evening sky. You can see the buildings in the distance, some lights turning of as the stores close down. You wonder how this all happened, when did everything change? \\n \\n When did *you* change? \\n \\n Everyone is born a child. Some grow up faster than others. Some do n\\'t grow up at all. Hours pass on the surface of the ground; a day passes by slowly across the night sky. You wonder who is going to grow up the fastest. \\n \\n\\n\\xa0\"You\\'ve got a job today, then?\"\\n\"Sure. It\\'s just a little more complicated than I expected, but it\\'s all good.\" \\nYou watch the bright moonlight dancing through the street lamps. It\\'s bright and there aren\\'t any buildings in it. In a little bit. That doesn\\'t mean it\\'s not exciting. The streets are empty, there\\'s no traffic and everyone\\'s just talking. It\\'s quiet and still and you can feel how beautiful things are. It\\'s like you\\'ve got a dream come true. That\\'s when the'"
      ]
     },
     "execution_count": 27,
     "metadata": {},
     "output_type": "execute_result"
    }
   ],
   "source": [
    "# used to decode:\n",
    "\n",
    "from decodeLogits import *\n",
    "batch = 0\n",
    "ind = 0\n",
    "'''\n",
    "tokens = []\n",
    "for j in range(text[0].shape[2]):\n",
    "    tokens.append(np.argmax(df[0][ind, :, j]))'''\n",
    "decoder_text(text[batch][ind])"
   ]
  },
  {
   "cell_type": "code",
   "execution_count": null,
   "metadata": {},
   "outputs": [],
   "source": [
    "for key, params in vals_dict.items():\n",
    "    for par in params:\n",
    "        if par ==None:\n",
    "            par = \"None\"\n",
    "        all_logits = pickle.load( gzip.open('gpt-2_output/all_logits_'+key+'-sampling-type_'+par+'-sampling-param_100-word-prompts_150-gen-length_100-number-of-prompts.pickle.gz', 'rb'))\n",
    "        text = pickle.load( gzip.open('gpt-2_output/all_text_'+key+'-sampling-type_'+par+'-sampling-param_100-word-prompts_150-gen-length_100-number-of-prompts.pickle.gz', 'rb'))\n",
    "        rand_selects = pickle.load( gzip.open('gpt-2_output/prompt_rand_selections_'+key+'-sampling-type_'+str(par)+'-sampling-param_100-word-prompts_150-gen-length_100-number-of-prompts.pickle.gz', 'rb'))\n",
    "\n",
    "        break\n",
    "    break"
   ]
  },
  {
   "cell_type": "code",
   "execution_count": 29,
   "metadata": {},
   "outputs": [],
   "source": [
    "prompts = []\n",
    "\n",
    "prompt_length = 100\n",
    "for batch in text:\n",
    "    for entry in batch:\n",
    "        prompts.append( decoder_text(entry[0:prompt_length]) )\n",
    "        \n",
    "gs = pd.DataFrame({'Prompt':prompts})"
   ]
  },
  {
   "cell_type": "code",
   "execution_count": 30,
   "metadata": {},
   "outputs": [
    {
     "data": {
      "text/html": [
       "<div>\n",
       "<style scoped>\n",
       "    .dataframe tbody tr th:only-of-type {\n",
       "        vertical-align: middle;\n",
       "    }\n",
       "\n",
       "    .dataframe tbody tr th {\n",
       "        vertical-align: top;\n",
       "    }\n",
       "\n",
       "    .dataframe thead th {\n",
       "        text-align: right;\n",
       "    }\n",
       "</style>\n",
       "<table border=\"1\" class=\"dataframe\">\n",
       "  <thead>\n",
       "    <tr style=\"text-align: right;\">\n",
       "      <th></th>\n",
       "      <th>Prompt</th>\n",
       "    </tr>\n",
       "  </thead>\n",
       "  <tbody>\n",
       "    <tr>\n",
       "      <th>0</th>\n",
       "      <td>[WP] You look out at the bright lights of the ...</td>\n",
       "    </tr>\n",
       "    <tr>\n",
       "      <th>1</th>\n",
       "      <td>[FF] - 250 Words; 2 months Reddit Gold prize \\...</td>\n",
       "    </tr>\n",
       "    <tr>\n",
       "      <th>2</th>\n",
       "      <td>[WP] The shortest story ever told. Once upon a...</td>\n",
       "    </tr>\n",
       "    <tr>\n",
       "      <th>3</th>\n",
       "      <td>[WP] Stockholm syndrome, but the other way aro...</td>\n",
       "    </tr>\n",
       "    <tr>\n",
       "      <th>4</th>\n",
       "      <td>[WP] Your grandparents always playfully bicker...</td>\n",
       "    </tr>\n",
       "  </tbody>\n",
       "</table>\n",
       "</div>"
      ],
      "text/plain": [
       "                                              Prompt\n",
       "0  [WP] You look out at the bright lights of the ...\n",
       "1  [FF] - 250 Words; 2 months Reddit Gold prize \\...\n",
       "2  [WP] The shortest story ever told. Once upon a...\n",
       "3  [WP] Stockholm syndrome, but the other way aro...\n",
       "4  [WP] Your grandparents always playfully bicker..."
      ]
     },
     "execution_count": 30,
     "metadata": {},
     "output_type": "execute_result"
    }
   ],
   "source": [
    "gs.head()"
   ]
  },
  {
   "cell_type": "code",
   "execution_count": 34,
   "metadata": {},
   "outputs": [
    {
     "data": {
      "text/plain": [
       "dict_items([('tfs', [None, 0.01, 0.05, 0.1, 0.5, 0.75]), ('n', [0.1, 0.25, 0.5, 0.75, 0.9]), ('k', [1, 10, 40, 200])])"
      ]
     },
     "execution_count": 34,
     "metadata": {},
     "output_type": "execute_result"
    }
   ],
   "source": [
    " vals_dict.items()\n",
    "    \n",
    "I also need to store the sorted indices of the differnet words"
   ]
  },
  {
   "cell_type": "code",
   "execution_count": 87,
   "metadata": {},
   "outputs": [
    {
     "data": {
      "text/html": [
       "<div>\n",
       "<style scoped>\n",
       "    .dataframe tbody tr th:only-of-type {\n",
       "        vertical-align: middle;\n",
       "    }\n",
       "\n",
       "    .dataframe tbody tr th {\n",
       "        vertical-align: top;\n",
       "    }\n",
       "\n",
       "    .dataframe thead th {\n",
       "        text-align: right;\n",
       "    }\n",
       "</style>\n",
       "<table border=\"1\" class=\"dataframe\">\n",
       "  <thead>\n",
       "    <tr style=\"text-align: right;\">\n",
       "      <th></th>\n",
       "      <th>Prompt</th>\n",
       "      <th>Samp Type:tfs Param:None</th>\n",
       "      <th>Samp Type:tfs Param:0.01</th>\n",
       "      <th>Samp Type:tfs Param:0.05</th>\n",
       "      <th>Samp Type:tfs Param:0.1</th>\n",
       "      <th>Samp Type:tfs Param:0.5</th>\n",
       "      <th>Samp Type:tfs Param:0.75</th>\n",
       "      <th>Samp Type:n Param:0.1</th>\n",
       "      <th>Samp Type:n Param:0.25</th>\n",
       "      <th>Samp Type:n Param:0.5</th>\n",
       "      <th>Samp Type:n Param:0.75</th>\n",
       "      <th>Samp Type:n Param:0.9</th>\n",
       "      <th>Samp Type:k Param:1</th>\n",
       "      <th>Samp Type:k Param:10</th>\n",
       "      <th>Samp Type:k Param:40</th>\n",
       "    </tr>\n",
       "  </thead>\n",
       "  <tbody>\n",
       "    <tr>\n",
       "      <th>0</th>\n",
       "      <td>[WP] You look out at the bright lights of the ...</td>\n",
       "      <td>pass on the surface of the ground; a day pass...</td>\n",
       "      <td>go by in silence, and short workdays go by qu...</td>\n",
       "      <td>go by in silence, and short workdays go by qu...</td>\n",
       "      <td>go by in silence, and short workdays go by qu...</td>\n",
       "      <td>go by in silence, and short workdays go by qu...</td>\n",
       "      <td>go by in silence, and short workdays go by qu...</td>\n",
       "      <td>pass, days pass, years pass. \\n \\n\\nThe world...</td>\n",
       "      <td>pass by, days pass by, weeks pass by. You're ...</td>\n",
       "      <td>pass by. They're busy with their day. The thi...</td>\n",
       "      <td>have passed. \\n In the rain, blood trickles d...</td>\n",
       "      <td>have passed. you're more tired than you were ...</td>\n",
       "      <td>pass, days pass, years pass. \\n \\n\\nYou are a...</td>\n",
       "      <td>later, it's your turn.\\n &lt;|endoftext|&gt;In this...</td>\n",
       "      <td>later, it's your turn.\\n It's my turn.  It se...</td>\n",
       "    </tr>\n",
       "    <tr>\n",
       "      <th>1</th>\n",
       "      <td>[FF] - 250 Words; 2 months Reddit Gold prize \\...</td>\n",
       "      <td>I have given it a few more days? \\n\\n \\n\\n I ...</td>\n",
       "      <td>'ve cut it down a bit sooner, I guess. Or he'l...</td>\n",
       "      <td>'ve cut it down a bit sooner, I guess. Or he'l...</td>\n",
       "      <td>'ve cut it down a bit sooner, I guess. Or he'l...</td>\n",
       "      <td>'ve cut it down a bit sooner, I guess. Or he'l...</td>\n",
       "      <td>'ve cut it down a bit sooner, I guess. Or he'l...</td>\n",
       "      <td>I go back to the cave? \\n \\n \\n \\n\\n \\n\\n \\n\\...</td>\n",
       "      <td>I go to the store and buy some more? \\n \\n \\n...</td>\n",
       "      <td>I not just stay here and wait for it to dry? ...</td>\n",
       "      <td>I risk dropping it? Oh well, it's my fault, I...</td>\n",
       "      <td>I risk dropping it? Oh well, it's my fault, I...</td>\n",
       "      <td>I just leave it alone? \\n \\n \\n \\n \\n \\n \\n \\...</td>\n",
       "      <td>I just ignore that and continue digging? \\n \\...</td>\n",
       "      <td>I just ignore that and jump right in? \\n \\n\\n...</td>\n",
       "    </tr>\n",
       "    <tr>\n",
       "      <th>2</th>\n",
       "      <td>[WP] The shortest story ever told. Once upon a...</td>\n",
       "      <td>this, because it was evil, so the genie was n...</td>\n",
       "      <td>the genie's station. He wished for happiness....</td>\n",
       "      <td>the genie's station\\nDerbellan\\n(12,050 votes...</td>\n",
       "      <td>the genie's station\\nDerbellan You are that i...</td>\n",
       "      <td>the genie's station\\nDerbell found his whole ...</td>\n",
       "      <td>the genie's station\\nDerbell found his whole ...</td>\n",
       "      <td>anything. He wished for a lamp. And the genie...</td>\n",
       "      <td>anything. He wished for a lamp. And the genie...</td>\n",
       "      <td>a good guy. And he did not wish for a good gu...</td>\n",
       "      <td>a good world. For he wished to live in a smal...</td>\n",
       "      <td>so many things that there were centuries wort...</td>\n",
       "      <td>anything. He wished for a lamp. And the genie...</td>\n",
       "      <td>the boy's own life, and so the genie gave him...</td>\n",
       "      <td>the boy's wife and child and what could a man...</td>\n",
       "    </tr>\n",
       "    <tr>\n",
       "      <th>3</th>\n",
       "      <td>[WP] Stockholm syndrome, but the other way aro...</td>\n",
       "      <td>taken her to the hospital and we gave her a s...</td>\n",
       "      <td>, at 5 minutes before the deadline, we stole a...</td>\n",
       "      <td>, at 5 minutes before the deadline, we stole a...</td>\n",
       "      <td>, at 5 minutes before the deadline, we stole a...</td>\n",
       "      <td>, at 5 minutes before the deadline--'' \\n \\n `...</td>\n",
       "      <td>, at 5 minutes before the deadline--'' \\n \\n `...</td>\n",
       "      <td>she's with us now. She's safe. She's safe. Sh...</td>\n",
       "      <td>we're going to take her back to the States. Y...</td>\n",
       "      <td>you didn't tell us?'' \\n \\n ``Why did you lea...</td>\n",
       "      <td>you didn't pay for her? '' \\n\\n ``Yeah, we di...</td>\n",
       "      <td>... you know, bought her flowers too. ''\\n\\nCa...</td>\n",
       "      <td>she's with us now. She's not with us anymore....</td>\n",
       "      <td>we're going to sell her to the highest bidder...</td>\n",
       "      <td>raised her. We're going to leave her here, an...</td>\n",
       "    </tr>\n",
       "    <tr>\n",
       "      <th>4</th>\n",
       "      <td>[WP] Your grandparents always playfully bicker...</td>\n",
       "      <td>was Swedish and his first name had no resembl...</td>\n",
       "      <td>, was in reality half Swedish, half Norwegian,...</td>\n",
       "      <td>, was in reality half Swedish, half Norwegian,...</td>\n",
       "      <td>, was in reality half Swedish, half Norwegian,...</td>\n",
       "      <td>, was in reality half Swedish, half Norwegian,...</td>\n",
       "      <td>, was in reality half Swedish, half Norwegian,...</td>\n",
       "      <td>, was a character from a movie called \"The Dan...</td>\n",
       "      <td>, was not only a fictional character, but also...</td>\n",
       "      <td>, was not Swedish at all. It was actually Dani...</td>\n",
       "      <td>, was not that likable at all, but was merely ...</td>\n",
       "      <td>, was not that likable at all, but was merely ...</td>\n",
       "      <td>, was a complete and utter idiot. He was a com...</td>\n",
       "      <td>, ’ t looked exactly like the real Bjørn Bjørn...</td>\n",
       "      <td>, ’ t resembled Bjørn Bjørnson in his youth, a...</td>\n",
       "    </tr>\n",
       "  </tbody>\n",
       "</table>\n",
       "</div>"
      ],
      "text/plain": [
       "                                              Prompt  \\\n",
       "0  [WP] You look out at the bright lights of the ...   \n",
       "1  [FF] - 250 Words; 2 months Reddit Gold prize \\...   \n",
       "2  [WP] The shortest story ever told. Once upon a...   \n",
       "3  [WP] Stockholm syndrome, but the other way aro...   \n",
       "4  [WP] Your grandparents always playfully bicker...   \n",
       "\n",
       "                            Samp Type:tfs Param:None  \\\n",
       "0   pass on the surface of the ground; a day pass...   \n",
       "1   I have given it a few more days? \\n\\n \\n\\n I ...   \n",
       "2   this, because it was evil, so the genie was n...   \n",
       "3   taken her to the hospital and we gave her a s...   \n",
       "4   was Swedish and his first name had no resembl...   \n",
       "\n",
       "                            Samp Type:tfs Param:0.01  \\\n",
       "0   go by in silence, and short workdays go by qu...   \n",
       "1  've cut it down a bit sooner, I guess. Or he'l...   \n",
       "2   the genie's station. He wished for happiness....   \n",
       "3  , at 5 minutes before the deadline, we stole a...   \n",
       "4  , was in reality half Swedish, half Norwegian,...   \n",
       "\n",
       "                            Samp Type:tfs Param:0.05  \\\n",
       "0   go by in silence, and short workdays go by qu...   \n",
       "1  've cut it down a bit sooner, I guess. Or he'l...   \n",
       "2   the genie's station\\nDerbellan\\n(12,050 votes...   \n",
       "3  , at 5 minutes before the deadline, we stole a...   \n",
       "4  , was in reality half Swedish, half Norwegian,...   \n",
       "\n",
       "                             Samp Type:tfs Param:0.1  \\\n",
       "0   go by in silence, and short workdays go by qu...   \n",
       "1  've cut it down a bit sooner, I guess. Or he'l...   \n",
       "2   the genie's station\\nDerbellan You are that i...   \n",
       "3  , at 5 minutes before the deadline, we stole a...   \n",
       "4  , was in reality half Swedish, half Norwegian,...   \n",
       "\n",
       "                             Samp Type:tfs Param:0.5  \\\n",
       "0   go by in silence, and short workdays go by qu...   \n",
       "1  've cut it down a bit sooner, I guess. Or he'l...   \n",
       "2   the genie's station\\nDerbell found his whole ...   \n",
       "3  , at 5 minutes before the deadline--'' \\n \\n `...   \n",
       "4  , was in reality half Swedish, half Norwegian,...   \n",
       "\n",
       "                            Samp Type:tfs Param:0.75  \\\n",
       "0   go by in silence, and short workdays go by qu...   \n",
       "1  've cut it down a bit sooner, I guess. Or he'l...   \n",
       "2   the genie's station\\nDerbell found his whole ...   \n",
       "3  , at 5 minutes before the deadline--'' \\n \\n `...   \n",
       "4  , was in reality half Swedish, half Norwegian,...   \n",
       "\n",
       "                               Samp Type:n Param:0.1  \\\n",
       "0   pass, days pass, years pass. \\n \\n\\nThe world...   \n",
       "1   I go back to the cave? \\n \\n \\n \\n\\n \\n\\n \\n\\...   \n",
       "2   anything. He wished for a lamp. And the genie...   \n",
       "3   she's with us now. She's safe. She's safe. Sh...   \n",
       "4  , was a character from a movie called \"The Dan...   \n",
       "\n",
       "                              Samp Type:n Param:0.25  \\\n",
       "0   pass by, days pass by, weeks pass by. You're ...   \n",
       "1   I go to the store and buy some more? \\n \\n \\n...   \n",
       "2   anything. He wished for a lamp. And the genie...   \n",
       "3   we're going to take her back to the States. Y...   \n",
       "4  , was not only a fictional character, but also...   \n",
       "\n",
       "                               Samp Type:n Param:0.5  \\\n",
       "0   pass by. They're busy with their day. The thi...   \n",
       "1   I not just stay here and wait for it to dry? ...   \n",
       "2   a good guy. And he did not wish for a good gu...   \n",
       "3   you didn't tell us?'' \\n \\n ``Why did you lea...   \n",
       "4  , was not Swedish at all. It was actually Dani...   \n",
       "\n",
       "                              Samp Type:n Param:0.75  \\\n",
       "0   have passed. \\n In the rain, blood trickles d...   \n",
       "1   I risk dropping it? Oh well, it's my fault, I...   \n",
       "2   a good world. For he wished to live in a smal...   \n",
       "3   you didn't pay for her? '' \\n\\n ``Yeah, we di...   \n",
       "4  , was not that likable at all, but was merely ...   \n",
       "\n",
       "                               Samp Type:n Param:0.9  \\\n",
       "0   have passed. you're more tired than you were ...   \n",
       "1   I risk dropping it? Oh well, it's my fault, I...   \n",
       "2   so many things that there were centuries wort...   \n",
       "3  ... you know, bought her flowers too. ''\\n\\nCa...   \n",
       "4  , was not that likable at all, but was merely ...   \n",
       "\n",
       "                                 Samp Type:k Param:1  \\\n",
       "0   pass, days pass, years pass. \\n \\n\\nYou are a...   \n",
       "1   I just leave it alone? \\n \\n \\n \\n \\n \\n \\n \\...   \n",
       "2   anything. He wished for a lamp. And the genie...   \n",
       "3   she's with us now. She's not with us anymore....   \n",
       "4  , was a complete and utter idiot. He was a com...   \n",
       "\n",
       "                                Samp Type:k Param:10  \\\n",
       "0   later, it's your turn.\\n <|endoftext|>In this...   \n",
       "1   I just ignore that and continue digging? \\n \\...   \n",
       "2   the boy's own life, and so the genie gave him...   \n",
       "3   we're going to sell her to the highest bidder...   \n",
       "4  , ’ t looked exactly like the real Bjørn Bjørn...   \n",
       "\n",
       "                                Samp Type:k Param:40  \n",
       "0   later, it's your turn.\\n It's my turn.  It se...  \n",
       "1   I just ignore that and jump right in? \\n \\n\\n...  \n",
       "2   the boy's wife and child and what could a man...  \n",
       "3   raised her. We're going to leave her here, an...  \n",
       "4  , ’ t resembled Bjørn Bjørnson in his youth, a...  "
      ]
     },
     "execution_count": 87,
     "metadata": {},
     "output_type": "execute_result"
    }
   ],
   "source": [
    "for key, params in vals_dict.items():\n",
    "    for par in params:\n",
    "        if par == 200:\n",
    "            continue\n",
    "        if par ==None:\n",
    "            par = \"None\"\n",
    "        #all_logits = pickle.load( gzip.open('gpt-2_output/all_logits_'+key+'-sampling-type_'+par+'-sampling-param_100-word-prompts_150-gen-length_100-number-of-prompts.pickle.gz', 'rb'))\n",
    "        text = pickle.load( gzip.open('gpt-2_output/all_text_'+key+'-sampling-type_'+str(par)+'-sampling-param_100-word-prompts_150-gen-length_100-number-of-prompts.pickle.gz', 'rb'))\n",
    "        rand_selects = pickle.load( gzip.open('gpt-2_output/prompt_rand_selections_'+key+'-sampling-type_'+str(par)+'-sampling-param_100-word-prompts_150-gen-length_100-number-of-prompts.pickle.gz', 'rb'))\n",
    "\n",
    "        generated_output = []\n",
    "        for batch in text:\n",
    "            for entry in batch:\n",
    "                generated_output.append(decoder_text(entry[prompt_length:]))\n",
    "        col_name = 'Samp Type:'+key+' Param:'+str(par)\n",
    "        gs[col_name] = generated_output\n",
    "gs.head()"
   ]
  },
  {
   "cell_type": "code",
   "execution_count": 50,
   "metadata": {},
   "outputs": [
    {
     "data": {
      "text/plain": [
       "(100, 15)"
      ]
     },
     "execution_count": 50,
     "metadata": {},
     "output_type": "execute_result"
    }
   ],
   "source": [
    "gs.shape"
   ]
  },
  {
   "cell_type": "code",
   "execution_count": 104,
   "metadata": {},
   "outputs": [
    {
     "name": "stdout",
     "output_type": "stream",
     "text": [
      "57\n"
     ]
    },
    {
     "data": {
      "text/plain": [
       "array([ 0, 10,  9,  7,  8,  1,  6,  4, 13, 14, 12,  5,  3, 11,  2])"
      ]
     },
     "execution_count": 104,
     "metadata": {},
     "output_type": "execute_result"
    }
   ],
   "source": [
    "import numpy as np\n",
    "select_a_random_prompt = np.random.choice(gs.shape[0])\n",
    "select_random_generation_methods = np.random.choice(gs.shape[1]-1, size =gs.shape[1]-1, replace=False )+1\n",
    "select_random_generation_methods = np.insert(select_random_generation_methods, 0, 0)\n",
    "print(select_a_random_prompt)\n",
    "select_random_generation_methods"
   ]
  },
  {
   "cell_type": "code",
   "execution_count": 105,
   "metadata": {},
   "outputs": [],
   "source": [
    "with open('test_blind_output2.txt', 'w') as file: \n",
    "    for ind, out in enumerate(gs.iloc[select_a_random_prompt,select_random_generation_methods].tolist()):\n",
    "        if ind ==0:\n",
    "            file.write('Prompt: \\n \\n')\n",
    "        file.write(out)\n",
    "        \n",
    "        file.write('\\n')\n",
    "        file.write('================== \\n')\n",
    "        if ind == gs.shape[1]-1: # dont write random generation at the end. \n",
    "            continue\n",
    "        file.write('Random Generation: '+str(ind)+' \\n \\n')\n",
    "\n"
   ]
  },
  {
   "cell_type": "markdown",
   "metadata": {},
   "source": [
    "Seems like need a larger n to have something that isnt just degenerate. but then need to sample to get something that is good. N of 0.75 or 0.5? K seems to be doing quite well. TFS is generating some strange things? I want to see the prob distribution it makes at each point. "
   ]
  },
  {
   "cell_type": "code",
   "execution_count": 106,
   "metadata": {},
   "outputs": [
    {
     "name": "stdout",
     "output_type": "stream",
     "text": [
      "57\n"
     ]
    },
    {
     "data": {
      "text/plain": [
       "array([ 0, 10,  9,  7,  8,  1,  6,  4, 13, 14, 12,  5,  3, 11,  2])"
      ]
     },
     "execution_count": 106,
     "metadata": {},
     "output_type": "execute_result"
    }
   ],
   "source": [
    "print(select_a_random_prompt)\n",
    "select_random_generation_methods"
   ]
  },
  {
   "cell_type": "code",
   "execution_count": 107,
   "metadata": {},
   "outputs": [
    {
     "data": {
      "text/plain": [
       "Prompt                      [WP] A neat freak finds themselves in the mids...\n",
       "Samp Type:n Param:0.75       person who can do it. \\nMy childhood \\nIt's i...\n",
       "Samp Type:n Param:0.5        one who can do it. \\nMy friends get all the f...\n",
       "Samp Type:n Param:0.1        one who can do that. \\n I'm not sure what I'm...\n",
       "Samp Type:n Param:0.25       one who can do that. \\n I have a small, messy...\n",
       "Samp Type:tfs Param:None     one who doesn't have a kitchen stocked. There...\n",
       "Samp Type:tfs Param:0.75     one who sounds left field (that is, more drol...\n",
       "Samp Type:tfs Param:0.1      one who sounds left field (that is, more drol...\n",
       "Samp Type:k Param:10         one who's been around the block for a while. ...\n",
       "Samp Type:k Param:40         one who's made all the decisions for me.\\nSo ...\n",
       "Samp Type:k Param:1          one who can do that. \\n \\n \\n \\n \\n \\n \\n \\n ...\n",
       "Samp Type:tfs Param:0.5      one who sounds left field (that is, more drol...\n",
       "Samp Type:tfs Param:0.05     one who sounds left field (that is, more drol...\n",
       "Samp Type:n Param:0.9        person who can do it. \\nMy childhood \\n      ...\n",
       "Samp Type:tfs Param:0.01     one who sounds left field (that is, more drol...\n",
       "Name: 57, dtype: object"
      ]
     },
     "execution_count": 107,
     "metadata": {},
     "output_type": "execute_result"
    }
   ],
   "source": [
    "gs.iloc[select_a_random_prompt,select_random_generation_methods]"
   ]
  },
  {
   "cell_type": "code",
   "execution_count": 108,
   "metadata": {},
   "outputs": [
    {
     "data": {
      "text/plain": [
       "\"[WP] A neat freak finds themselves in the midst of a zombie apocalypse. \\n First attempt here. \\n \\n Honestly, that was tiring. My house has been messy for years because friends would come over, and have fun. By have fun, I mean destroy the entire place, especially by trying on clothing and throwing them on the floor. My friends apparently are n't as sophisticated as they should be. There needs to be order in the house. And I'm the only\""
      ]
     },
     "execution_count": 108,
     "metadata": {},
     "output_type": "execute_result"
    }
   ],
   "source": [
    "gs.iloc[select_a_random_prompt,0]"
   ]
  },
  {
   "cell_type": "code",
   "execution_count": 110,
   "metadata": {},
   "outputs": [],
   "source": [
    "choose_prompt =rand_selects[select_a_random_prompt]"
   ]
  },
  {
   "cell_type": "code",
   "execution_count": 99,
   "metadata": {},
   "outputs": [
    {
     "data": {
      "text/html": [
       "<div>\n",
       "<style scoped>\n",
       "    .dataframe tbody tr th:only-of-type {\n",
       "        vertical-align: middle;\n",
       "    }\n",
       "\n",
       "    .dataframe tbody tr th {\n",
       "        vertical-align: top;\n",
       "    }\n",
       "\n",
       "    .dataframe thead th {\n",
       "        text-align: right;\n",
       "    }\n",
       "</style>\n",
       "<table border=\"1\" class=\"dataframe\">\n",
       "  <thead>\n",
       "    <tr style=\"text-align: right;\">\n",
       "      <th></th>\n",
       "      <th>test_source</th>\n",
       "      <th>test_target</th>\n",
       "      <th>Prompt</th>\n",
       "    </tr>\n",
       "  </thead>\n",
       "  <tbody>\n",
       "    <tr>\n",
       "      <th>0</th>\n",
       "      <td>[WP] Leonardo DiCaprio in a fit of rage begins...</td>\n",
       "      <td>The wet marble floor pressed on his cheek like...</td>\n",
       "      <td>[WP] Leonardo DiCaprio in a fit of rage begins...</td>\n",
       "    </tr>\n",
       "    <tr>\n",
       "      <th>1</th>\n",
       "      <td>[CW] Kill the writer in first-person narrative.</td>\n",
       "      <td>It's been three days since my boyfriend pissed...</td>\n",
       "      <td>[CW] Kill the writer in first-person narrative...</td>\n",
       "    </tr>\n",
       "    <tr>\n",
       "      <th>2</th>\n",
       "      <td>[EU] Sean Bean has a hard time leaving his rol...</td>\n",
       "      <td>George fled. Not terrifically fast, not at his...</td>\n",
       "      <td>[EU] Sean Bean has a hard time leaving his rol...</td>\n",
       "    </tr>\n",
       "    <tr>\n",
       "      <th>3</th>\n",
       "      <td>[WP] A kid doodling in a math class accidental...</td>\n",
       "      <td>It was dark and Levi was pretty sure he was ly...</td>\n",
       "      <td>[WP] A kid doodling in a math class accidental...</td>\n",
       "    </tr>\n",
       "    <tr>\n",
       "      <th>4</th>\n",
       "      <td>[WP] As a Space marine you have an allowance o...</td>\n",
       "      <td>``Hi dad! ''\\n \\n The words snap me from my th...</td>\n",
       "      <td>[WP] As a Space marine you have an allowance o...</td>\n",
       "    </tr>\n",
       "  </tbody>\n",
       "</table>\n",
       "</div>"
      ],
      "text/plain": [
       "                                         test_source  \\\n",
       "0  [WP] Leonardo DiCaprio in a fit of rage begins...   \n",
       "1    [CW] Kill the writer in first-person narrative.   \n",
       "2  [EU] Sean Bean has a hard time leaving his rol...   \n",
       "3  [WP] A kid doodling in a math class accidental...   \n",
       "4  [WP] As a Space marine you have an allowance o...   \n",
       "\n",
       "                                         test_target  \\\n",
       "0  The wet marble floor pressed on his cheek like...   \n",
       "1  It's been three days since my boyfriend pissed...   \n",
       "2  George fled. Not terrifically fast, not at his...   \n",
       "3  It was dark and Levi was pretty sure he was ly...   \n",
       "4  ``Hi dad! ''\\n \\n The words snap me from my th...   \n",
       "\n",
       "                                              Prompt  \n",
       "0  [WP] Leonardo DiCaprio in a fit of rage begins...  \n",
       "1  [CW] Kill the writer in first-person narrative...  \n",
       "2  [EU] Sean Bean has a hard time leaving his rol...  \n",
       "3  [WP] A kid doodling in a math class accidental...  \n",
       "4  [WP] As a Space marine you have an allowance o...  "
      ]
     },
     "execution_count": 99,
     "metadata": {},
     "output_type": "execute_result"
    }
   ],
   "source": [
    "prompts.head()"
   ]
  },
  {
   "cell_type": "code",
   "execution_count": 111,
   "metadata": {},
   "outputs": [
    {
     "name": "stdout",
     "output_type": "stream",
     "text": [
      "First attempt here. \n",
      " \n",
      " Honestly, that was tiring. My house has been messy for years because friends would come over, and have fun. By have fun, I mean destroy the entire place, especially by trying on clothing and throwing them on the floor. My friends apparently are n't as sophisticated as they should be. There needs to be order in the house. And I'm the only one to solve that problem. I've managed to iron all of my clothes and fold them the way an *decent* human being should. \n",
      " \n",
      " They call me a neat freak. But that's because they're jealous that I can instantly find my phone, while they tear the house just for a phone. A small, freaking PHONE. And they ca n't find that document they need now. Unlike them, I fully use the power of organization and am currently one of the best secretaries in my company. Checkmate, lazy bums! \n",
      " \n",
      " I'm rather curious as to why my friends are n't hanging out like we always do. I mean, they do need to cram in some work, but I'm not sure if that work takes five whole days. Also, the neighborhood's unusually quiet. But of course, maybe that me. But of course, what if it's a story plot? Like maybe everyone suddenly vanished and I have to find them. Or maybe there's a killer on the loose. Or, maybe even a zombie apocalypse! Well, that's enough fantasizing, there's absolutely no way that there's going to be serial killer, much less a zombie apocalypse. \n",
      " \n",
      " I'll prove it to myself! (I really should stop fantasizing.) \n",
      " \n",
      " *whoosh* \n",
      " \n",
      " See, no noth - NONONONONONONO THERE'S NOT A ZOMBIE THERE. AND there. And there. \n",
      " \n",
      " *whoosh* \n",
      " \n",
      " That was close. The zombie almost saw me. I do n't think it did. Calm down. Think of funny things. Like, what if that was Jessica? That'll teach them to not be neat! Honestly, she was messy, but now she's **messy** with caps on all of them. Ugh, so is Chris. THEY'RE ALL FREAKING MESSY! GODAMMIT ALEXIS, WHY ARE YOU SO MESSY?! \n",
      " \n",
      " I really should teach them a lesson. ABOUT BEING CLEAN, OR AT LEAST ORGANIZED. Bat, check. Food, check. Guns, I do n't have one. Bat it is, then. \n",
      " \n",
      " SERIOUSLY MIKE I CA N'T BELIEVE YOU, THE OLDEST ONE, WOULD ALSO BE SO MESSY! YOU TOO, SUE, LOOK AT ALL OF THE BLOOD AND GORE YOU'RE DRAGGING AROUND! YOU DESERVE A PUNISHMENT. I WILL DECAPITATE YOU FOR BEING MESSY AND MESSING MY ORDER UP. AND CHRIS, DO N'T THINK I'VE FORGOTTEN YOU...\n"
     ]
    }
   ],
   "source": [
    "print(prompts.iloc[choose_prompt].test_target)"
   ]
  },
  {
   "cell_type": "code",
   "execution_count": null,
   "metadata": {},
   "outputs": [],
   "source": []
  }
 ],
 "metadata": {
  "kernelspec": {
   "display_name": "Python 3",
   "language": "python",
   "name": "python3"
  },
  "language_info": {
   "codemirror_mode": {
    "name": "ipython",
    "version": 3
   },
   "file_extension": ".py",
   "mimetype": "text/x-python",
   "name": "python",
   "nbconvert_exporter": "python",
   "pygments_lexer": "ipython3",
   "version": "3.7.3"
  }
 },
 "nbformat": 4,
 "nbformat_minor": 2
}
