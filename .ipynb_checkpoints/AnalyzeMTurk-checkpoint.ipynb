{
 "cells": [
  {
   "cell_type": "markdown",
   "metadata": {},
   "source": [
    "# A 1 is coded as being extremely reasonable here!!!\n",
    "\n",
    "For a number of questions there were words that were repeated and you were asked to give these the same score. You did not give the same score for a number of these identical words which suggests you were not focusing on the task and makes your survey results unusable."
   ]
  },
  {
   "cell_type": "code",
   "execution_count": 1,
   "metadata": {},
   "outputs": [],
   "source": [
    "import pickle\n",
    "import gzip\n",
    "import numpy as np\n",
    "import matplotlib.pyplot as plt\n",
    "from scipy.special import softmax\n",
    "import pandas as pd    \n",
    "import torch"
   ]
  },
  {
   "cell_type": "code",
   "execution_count": 2,
   "metadata": {},
   "outputs": [],
   "source": [
    "file_name_base = 'prob_slice_replaceable_comparisons'\n",
    "mturk_version = 'MTURK_FIRST_'\n",
    "full_base = mturk_version+file_name_base"
   ]
  },
  {
   "cell_type": "code",
   "execution_count": 3,
   "metadata": {},
   "outputs": [],
   "source": [
    "answer_orders = pickle.load(open(full_base + '_answers_list.pickle','rb'))"
   ]
  },
  {
   "cell_type": "code",
   "execution_count": 4,
   "metadata": {},
   "outputs": [],
   "source": [
    "mturk = pd.read_csv('Tail+Free+Sampling+Survey_October+16%2C+2019_20.14.zip')#'Tail+Free+Sampling+Survey_October+16%2C+2019_07.21.zip')"
   ]
  },
  {
   "cell_type": "code",
   "execution_count": 5,
   "metadata": {},
   "outputs": [
    {
     "data": {
      "text/html": [
       "<div>\n",
       "<style scoped>\n",
       "    .dataframe tbody tr th:only-of-type {\n",
       "        vertical-align: middle;\n",
       "    }\n",
       "\n",
       "    .dataframe tbody tr th {\n",
       "        vertical-align: top;\n",
       "    }\n",
       "\n",
       "    .dataframe thead th {\n",
       "        text-align: right;\n",
       "    }\n",
       "</style>\n",
       "<table border=\"1\" class=\"dataframe\">\n",
       "  <thead>\n",
       "    <tr style=\"text-align: right;\">\n",
       "      <th></th>\n",
       "      <th>StartDate</th>\n",
       "      <th>EndDate</th>\n",
       "      <th>Status</th>\n",
       "      <th>IPAddress</th>\n",
       "      <th>Progress</th>\n",
       "      <th>Duration (in seconds)</th>\n",
       "      <th>Finished</th>\n",
       "      <th>RecordedDate</th>\n",
       "      <th>ResponseId</th>\n",
       "      <th>RecipientLastName</th>\n",
       "      <th>...</th>\n",
       "      <th>Q19_2</th>\n",
       "      <th>Q19_3</th>\n",
       "      <th>Q19_4</th>\n",
       "      <th>Q19_5</th>\n",
       "      <th>Q19_6</th>\n",
       "      <th>Q19_7</th>\n",
       "      <th>Q20</th>\n",
       "      <th>Random ID</th>\n",
       "      <th>Q22 - Parent Topics</th>\n",
       "      <th>Q22 - Topics</th>\n",
       "    </tr>\n",
       "  </thead>\n",
       "  <tbody>\n",
       "    <tr>\n",
       "      <th>0</th>\n",
       "      <td>Start Date</td>\n",
       "      <td>End Date</td>\n",
       "      <td>Response Type</td>\n",
       "      <td>IP Address</td>\n",
       "      <td>Progress</td>\n",
       "      <td>Duration (in seconds)</td>\n",
       "      <td>Finished</td>\n",
       "      <td>Recorded Date</td>\n",
       "      <td>Response ID</td>\n",
       "      <td>Recipient Last Name</td>\n",
       "      <td>...</td>\n",
       "      <td>. Just count the stars, right? *   He eased __...</td>\n",
       "      <td>. Just count the stars, right? *   He eased __...</td>\n",
       "      <td>. Just count the stars, right? *   He eased __...</td>\n",
       "      <td>. Just count the stars, right? *   He eased __...</td>\n",
       "      <td>. Just count the stars, right? *   He eased __...</td>\n",
       "      <td>. Just count the stars, right? *   He eased __...</td>\n",
       "      <td>Thank you very much for completing this survey...</td>\n",
       "      <td>Random ID</td>\n",
       "      <td>Q22 - Parent Topics</td>\n",
       "      <td>Q22 - Topics</td>\n",
       "    </tr>\n",
       "    <tr>\n",
       "      <th>1</th>\n",
       "      <td>{\"ImportId\":\"startDate\",\"timeZone\":\"America/De...</td>\n",
       "      <td>{\"ImportId\":\"endDate\",\"timeZone\":\"America/Denv...</td>\n",
       "      <td>{\"ImportId\":\"status\"}</td>\n",
       "      <td>{\"ImportId\":\"ipAddress\"}</td>\n",
       "      <td>{\"ImportId\":\"progress\"}</td>\n",
       "      <td>{\"ImportId\":\"duration\"}</td>\n",
       "      <td>{\"ImportId\":\"finished\"}</td>\n",
       "      <td>{\"ImportId\":\"recordedDate\",\"timeZone\":\"America...</td>\n",
       "      <td>{\"ImportId\":\"_recordId\"}</td>\n",
       "      <td>{\"ImportId\":\"recipientLastName\"}</td>\n",
       "      <td>...</td>\n",
       "      <td>{\"ImportId\":\"QID21_2\"}</td>\n",
       "      <td>{\"ImportId\":\"QID21_3\"}</td>\n",
       "      <td>{\"ImportId\":\"QID21_4\"}</td>\n",
       "      <td>{\"ImportId\":\"QID21_5\"}</td>\n",
       "      <td>{\"ImportId\":\"QID21_6\"}</td>\n",
       "      <td>{\"ImportId\":\"QID21_7\"}</td>\n",
       "      <td>{\"ImportId\":\"QID26_TEXT\"}</td>\n",
       "      <td>{\"ImportId\":\"Random ID\"}</td>\n",
       "      <td>{\"ImportId\":\"QID26_TEXT_c25db21136a8433bb1f4d1...</td>\n",
       "      <td>{\"ImportId\":\"QID26_TEXT_c25db21136a8433bb1f4d1...</td>\n",
       "    </tr>\n",
       "    <tr>\n",
       "      <th>2</th>\n",
       "      <td>2019-10-15 21:35:00</td>\n",
       "      <td>2019-10-15 21:35:13</td>\n",
       "      <td>1</td>\n",
       "      <td>NaN</td>\n",
       "      <td>100</td>\n",
       "      <td>13</td>\n",
       "      <td>1</td>\n",
       "      <td>2019-10-15 21:35:14</td>\n",
       "      <td>R_2X6WbTrQRtVcuAK</td>\n",
       "      <td>NaN</td>\n",
       "      <td>...</td>\n",
       "      <td>NaN</td>\n",
       "      <td>NaN</td>\n",
       "      <td>NaN</td>\n",
       "      <td>NaN</td>\n",
       "      <td>NaN</td>\n",
       "      <td>NaN</td>\n",
       "      <td>NaN</td>\n",
       "      <td>40022</td>\n",
       "      <td>NaN</td>\n",
       "      <td>NaN</td>\n",
       "    </tr>\n",
       "    <tr>\n",
       "      <th>3</th>\n",
       "      <td>2019-10-15 22:03:30</td>\n",
       "      <td>2019-10-15 22:08:53</td>\n",
       "      <td>0</td>\n",
       "      <td>107.145.113.42</td>\n",
       "      <td>100</td>\n",
       "      <td>322</td>\n",
       "      <td>1</td>\n",
       "      <td>2019-10-15 22:08:54</td>\n",
       "      <td>R_1KiQLFb92Exgwjx</td>\n",
       "      <td>NaN</td>\n",
       "      <td>...</td>\n",
       "      <td>1</td>\n",
       "      <td>2</td>\n",
       "      <td>5</td>\n",
       "      <td>4</td>\n",
       "      <td>1</td>\n",
       "      <td>1</td>\n",
       "      <td>NaN</td>\n",
       "      <td>99887</td>\n",
       "      <td>NaN</td>\n",
       "      <td>NaN</td>\n",
       "    </tr>\n",
       "    <tr>\n",
       "      <th>4</th>\n",
       "      <td>2019-10-15 22:18:07</td>\n",
       "      <td>2019-10-15 22:32:26</td>\n",
       "      <td>0</td>\n",
       "      <td>171.49.170.27</td>\n",
       "      <td>100</td>\n",
       "      <td>858</td>\n",
       "      <td>1</td>\n",
       "      <td>2019-10-15 22:32:26</td>\n",
       "      <td>R_3JjTvGYtgJEC5hD</td>\n",
       "      <td>NaN</td>\n",
       "      <td>...</td>\n",
       "      <td>3</td>\n",
       "      <td>3</td>\n",
       "      <td>2</td>\n",
       "      <td>4</td>\n",
       "      <td>5</td>\n",
       "      <td>2</td>\n",
       "      <td>i like to do this type of work in future</td>\n",
       "      <td>52503</td>\n",
       "      <td>NaN</td>\n",
       "      <td>Unknown</td>\n",
       "    </tr>\n",
       "  </tbody>\n",
       "</table>\n",
       "<p>5 rows × 126 columns</p>\n",
       "</div>"
      ],
      "text/plain": [
       "                                           StartDate  \\\n",
       "0                                         Start Date   \n",
       "1  {\"ImportId\":\"startDate\",\"timeZone\":\"America/De...   \n",
       "2                                2019-10-15 21:35:00   \n",
       "3                                2019-10-15 22:03:30   \n",
       "4                                2019-10-15 22:18:07   \n",
       "\n",
       "                                             EndDate                 Status  \\\n",
       "0                                           End Date          Response Type   \n",
       "1  {\"ImportId\":\"endDate\",\"timeZone\":\"America/Denv...  {\"ImportId\":\"status\"}   \n",
       "2                                2019-10-15 21:35:13                      1   \n",
       "3                                2019-10-15 22:08:53                      0   \n",
       "4                                2019-10-15 22:32:26                      0   \n",
       "\n",
       "                  IPAddress                 Progress    Duration (in seconds)  \\\n",
       "0                IP Address                 Progress    Duration (in seconds)   \n",
       "1  {\"ImportId\":\"ipAddress\"}  {\"ImportId\":\"progress\"}  {\"ImportId\":\"duration\"}   \n",
       "2                       NaN                      100                       13   \n",
       "3            107.145.113.42                      100                      322   \n",
       "4             171.49.170.27                      100                      858   \n",
       "\n",
       "                  Finished                                       RecordedDate  \\\n",
       "0                 Finished                                      Recorded Date   \n",
       "1  {\"ImportId\":\"finished\"}  {\"ImportId\":\"recordedDate\",\"timeZone\":\"America...   \n",
       "2                        1                                2019-10-15 21:35:14   \n",
       "3                        1                                2019-10-15 22:08:54   \n",
       "4                        1                                2019-10-15 22:32:26   \n",
       "\n",
       "                 ResponseId                 RecipientLastName  ...  \\\n",
       "0               Response ID               Recipient Last Name  ...   \n",
       "1  {\"ImportId\":\"_recordId\"}  {\"ImportId\":\"recipientLastName\"}  ...   \n",
       "2         R_2X6WbTrQRtVcuAK                               NaN  ...   \n",
       "3         R_1KiQLFb92Exgwjx                               NaN  ...   \n",
       "4         R_3JjTvGYtgJEC5hD                               NaN  ...   \n",
       "\n",
       "                                               Q19_2  \\\n",
       "0  . Just count the stars, right? *   He eased __...   \n",
       "1                             {\"ImportId\":\"QID21_2\"}   \n",
       "2                                                NaN   \n",
       "3                                                  1   \n",
       "4                                                  3   \n",
       "\n",
       "                                               Q19_3  \\\n",
       "0  . Just count the stars, right? *   He eased __...   \n",
       "1                             {\"ImportId\":\"QID21_3\"}   \n",
       "2                                                NaN   \n",
       "3                                                  2   \n",
       "4                                                  3   \n",
       "\n",
       "                                               Q19_4  \\\n",
       "0  . Just count the stars, right? *   He eased __...   \n",
       "1                             {\"ImportId\":\"QID21_4\"}   \n",
       "2                                                NaN   \n",
       "3                                                  5   \n",
       "4                                                  2   \n",
       "\n",
       "                                               Q19_5  \\\n",
       "0  . Just count the stars, right? *   He eased __...   \n",
       "1                             {\"ImportId\":\"QID21_5\"}   \n",
       "2                                                NaN   \n",
       "3                                                  4   \n",
       "4                                                  4   \n",
       "\n",
       "                                               Q19_6  \\\n",
       "0  . Just count the stars, right? *   He eased __...   \n",
       "1                             {\"ImportId\":\"QID21_6\"}   \n",
       "2                                                NaN   \n",
       "3                                                  1   \n",
       "4                                                  5   \n",
       "\n",
       "                                               Q19_7  \\\n",
       "0  . Just count the stars, right? *   He eased __...   \n",
       "1                             {\"ImportId\":\"QID21_7\"}   \n",
       "2                                                NaN   \n",
       "3                                                  1   \n",
       "4                                                  2   \n",
       "\n",
       "                                                 Q20  \\\n",
       "0  Thank you very much for completing this survey...   \n",
       "1                          {\"ImportId\":\"QID26_TEXT\"}   \n",
       "2                                                NaN   \n",
       "3                                                NaN   \n",
       "4           i like to do this type of work in future   \n",
       "\n",
       "                  Random ID  \\\n",
       "0                 Random ID   \n",
       "1  {\"ImportId\":\"Random ID\"}   \n",
       "2                     40022   \n",
       "3                     99887   \n",
       "4                     52503   \n",
       "\n",
       "                                 Q22 - Parent Topics  \\\n",
       "0                                Q22 - Parent Topics   \n",
       "1  {\"ImportId\":\"QID26_TEXT_c25db21136a8433bb1f4d1...   \n",
       "2                                                NaN   \n",
       "3                                                NaN   \n",
       "4                                                NaN   \n",
       "\n",
       "                                        Q22 - Topics  \n",
       "0                                       Q22 - Topics  \n",
       "1  {\"ImportId\":\"QID26_TEXT_c25db21136a8433bb1f4d1...  \n",
       "2                                                NaN  \n",
       "3                                                NaN  \n",
       "4                                            Unknown  \n",
       "\n",
       "[5 rows x 126 columns]"
      ]
     },
     "execution_count": 5,
     "metadata": {},
     "output_type": "execute_result"
    }
   ],
   "source": [
    "mturk.head()"
   ]
  },
  {
   "cell_type": "code",
   "execution_count": 6,
   "metadata": {},
   "outputs": [
    {
     "data": {
      "text/plain": [
       "(21, 126)"
      ]
     },
     "execution_count": 6,
     "metadata": {},
     "output_type": "execute_result"
    }
   ],
   "source": [
    "mturk.shape"
   ]
  },
  {
   "cell_type": "code",
   "execution_count": 7,
   "metadata": {},
   "outputs": [],
   "source": [
    "qstart = 'Q5_1'\n",
    "qend = 'Q19_7'"
   ]
  },
  {
   "cell_type": "code",
   "execution_count": 8,
   "metadata": {},
   "outputs": [
    {
     "data": {
      "text/plain": [
       "{1: 5, 2: 4, 3: 3, 4: 2, 5: 1}"
      ]
     },
     "execution_count": 8,
     "metadata": {},
     "output_type": "execute_result"
    }
   ],
   "source": [
    "reverse_encoding_dict = {k:v for k, v in zip(np.arange(1,6,1), np.arange(5,0,-1))}\n",
    "reverse_encoding_dict"
   ]
  },
  {
   "cell_type": "code",
   "execution_count": 9,
   "metadata": {},
   "outputs": [],
   "source": [
    "mturk.drop([0,1,2], axis=0, inplace=True)# dropping the first null response and the header details"
   ]
  },
  {
   "cell_type": "code",
   "execution_count": 10,
   "metadata": {},
   "outputs": [],
   "source": [
    "mturk.reset_index(inplace=True)"
   ]
  },
  {
   "cell_type": "code",
   "execution_count": 11,
   "metadata": {},
   "outputs": [],
   "source": [
    "mturk.loc[:, qstart:qend] = mturk.loc[:, qstart:qend].apply(lambda x: x.astype(int).map(reverse_encoding_dict))"
   ]
  },
  {
   "cell_type": "code",
   "execution_count": 12,
   "metadata": {},
   "outputs": [
    {
     "data": {
      "text/html": [
       "<div>\n",
       "<style scoped>\n",
       "    .dataframe tbody tr th:only-of-type {\n",
       "        vertical-align: middle;\n",
       "    }\n",
       "\n",
       "    .dataframe tbody tr th {\n",
       "        vertical-align: top;\n",
       "    }\n",
       "\n",
       "    .dataframe thead th {\n",
       "        text-align: right;\n",
       "    }\n",
       "</style>\n",
       "<table border=\"1\" class=\"dataframe\">\n",
       "  <thead>\n",
       "    <tr style=\"text-align: right;\">\n",
       "      <th></th>\n",
       "      <th>index</th>\n",
       "      <th>StartDate</th>\n",
       "      <th>EndDate</th>\n",
       "      <th>Status</th>\n",
       "      <th>IPAddress</th>\n",
       "      <th>Progress</th>\n",
       "      <th>Duration (in seconds)</th>\n",
       "      <th>Finished</th>\n",
       "      <th>RecordedDate</th>\n",
       "      <th>ResponseId</th>\n",
       "      <th>...</th>\n",
       "      <th>Q19_2</th>\n",
       "      <th>Q19_3</th>\n",
       "      <th>Q19_4</th>\n",
       "      <th>Q19_5</th>\n",
       "      <th>Q19_6</th>\n",
       "      <th>Q19_7</th>\n",
       "      <th>Q20</th>\n",
       "      <th>Random ID</th>\n",
       "      <th>Q22 - Parent Topics</th>\n",
       "      <th>Q22 - Topics</th>\n",
       "    </tr>\n",
       "  </thead>\n",
       "  <tbody>\n",
       "    <tr>\n",
       "      <th>0</th>\n",
       "      <td>3</td>\n",
       "      <td>2019-10-15 22:03:30</td>\n",
       "      <td>2019-10-15 22:08:53</td>\n",
       "      <td>0</td>\n",
       "      <td>107.145.113.42</td>\n",
       "      <td>100</td>\n",
       "      <td>322</td>\n",
       "      <td>1</td>\n",
       "      <td>2019-10-15 22:08:54</td>\n",
       "      <td>R_1KiQLFb92Exgwjx</td>\n",
       "      <td>...</td>\n",
       "      <td>5</td>\n",
       "      <td>4</td>\n",
       "      <td>1</td>\n",
       "      <td>2</td>\n",
       "      <td>5</td>\n",
       "      <td>5</td>\n",
       "      <td>NaN</td>\n",
       "      <td>99887</td>\n",
       "      <td>NaN</td>\n",
       "      <td>NaN</td>\n",
       "    </tr>\n",
       "    <tr>\n",
       "      <th>1</th>\n",
       "      <td>4</td>\n",
       "      <td>2019-10-15 22:18:07</td>\n",
       "      <td>2019-10-15 22:32:26</td>\n",
       "      <td>0</td>\n",
       "      <td>171.49.170.27</td>\n",
       "      <td>100</td>\n",
       "      <td>858</td>\n",
       "      <td>1</td>\n",
       "      <td>2019-10-15 22:32:26</td>\n",
       "      <td>R_3JjTvGYtgJEC5hD</td>\n",
       "      <td>...</td>\n",
       "      <td>3</td>\n",
       "      <td>3</td>\n",
       "      <td>4</td>\n",
       "      <td>2</td>\n",
       "      <td>1</td>\n",
       "      <td>4</td>\n",
       "      <td>i like to do this type of work in future</td>\n",
       "      <td>52503</td>\n",
       "      <td>NaN</td>\n",
       "      <td>Unknown</td>\n",
       "    </tr>\n",
       "    <tr>\n",
       "      <th>2</th>\n",
       "      <td>5</td>\n",
       "      <td>2019-10-15 22:48:54</td>\n",
       "      <td>2019-10-15 23:00:41</td>\n",
       "      <td>0</td>\n",
       "      <td>75.142.251.193</td>\n",
       "      <td>100</td>\n",
       "      <td>707</td>\n",
       "      <td>1</td>\n",
       "      <td>2019-10-15 23:00:42</td>\n",
       "      <td>R_2cuydCFibv8JRva</td>\n",
       "      <td>...</td>\n",
       "      <td>5</td>\n",
       "      <td>5</td>\n",
       "      <td>3</td>\n",
       "      <td>5</td>\n",
       "      <td>5</td>\n",
       "      <td>5</td>\n",
       "      <td>Thank you</td>\n",
       "      <td>56916</td>\n",
       "      <td>NaN</td>\n",
       "      <td>Unknown</td>\n",
       "    </tr>\n",
       "    <tr>\n",
       "      <th>3</th>\n",
       "      <td>6</td>\n",
       "      <td>2019-10-15 22:51:26</td>\n",
       "      <td>2019-10-15 23:01:15</td>\n",
       "      <td>0</td>\n",
       "      <td>157.46.79.62</td>\n",
       "      <td>100</td>\n",
       "      <td>588</td>\n",
       "      <td>1</td>\n",
       "      <td>2019-10-15 23:01:15</td>\n",
       "      <td>R_3PzZBVyiobpkdjr</td>\n",
       "      <td>...</td>\n",
       "      <td>1</td>\n",
       "      <td>2</td>\n",
       "      <td>4</td>\n",
       "      <td>5</td>\n",
       "      <td>3</td>\n",
       "      <td>3</td>\n",
       "      <td>A22CN9X0JP1HM4</td>\n",
       "      <td>92914</td>\n",
       "      <td>NaN</td>\n",
       "      <td>Unknown</td>\n",
       "    </tr>\n",
       "    <tr>\n",
       "      <th>4</th>\n",
       "      <td>7</td>\n",
       "      <td>2019-10-15 22:59:44</td>\n",
       "      <td>2019-10-15 23:19:12</td>\n",
       "      <td>0</td>\n",
       "      <td>49.207.137.2</td>\n",
       "      <td>100</td>\n",
       "      <td>1167</td>\n",
       "      <td>1</td>\n",
       "      <td>2019-10-15 23:19:12</td>\n",
       "      <td>R_2Pcjs6Du7ICHJ0G</td>\n",
       "      <td>...</td>\n",
       "      <td>4</td>\n",
       "      <td>3</td>\n",
       "      <td>2</td>\n",
       "      <td>5</td>\n",
       "      <td>3</td>\n",
       "      <td>1</td>\n",
       "      <td>NICE</td>\n",
       "      <td>64874</td>\n",
       "      <td>NaN</td>\n",
       "      <td>Unknown</td>\n",
       "    </tr>\n",
       "  </tbody>\n",
       "</table>\n",
       "<p>5 rows × 127 columns</p>\n",
       "</div>"
      ],
      "text/plain": [
       "   index            StartDate              EndDate Status       IPAddress  \\\n",
       "0      3  2019-10-15 22:03:30  2019-10-15 22:08:53      0  107.145.113.42   \n",
       "1      4  2019-10-15 22:18:07  2019-10-15 22:32:26      0   171.49.170.27   \n",
       "2      5  2019-10-15 22:48:54  2019-10-15 23:00:41      0  75.142.251.193   \n",
       "3      6  2019-10-15 22:51:26  2019-10-15 23:01:15      0    157.46.79.62   \n",
       "4      7  2019-10-15 22:59:44  2019-10-15 23:19:12      0    49.207.137.2   \n",
       "\n",
       "  Progress Duration (in seconds) Finished         RecordedDate  \\\n",
       "0      100                   322        1  2019-10-15 22:08:54   \n",
       "1      100                   858        1  2019-10-15 22:32:26   \n",
       "2      100                   707        1  2019-10-15 23:00:42   \n",
       "3      100                   588        1  2019-10-15 23:01:15   \n",
       "4      100                  1167        1  2019-10-15 23:19:12   \n",
       "\n",
       "          ResponseId  ... Q19_2 Q19_3 Q19_4 Q19_5 Q19_6 Q19_7  \\\n",
       "0  R_1KiQLFb92Exgwjx  ...     5     4     1     2     5     5   \n",
       "1  R_3JjTvGYtgJEC5hD  ...     3     3     4     2     1     4   \n",
       "2  R_2cuydCFibv8JRva  ...     5     5     3     5     5     5   \n",
       "3  R_3PzZBVyiobpkdjr  ...     1     2     4     5     3     3   \n",
       "4  R_2Pcjs6Du7ICHJ0G  ...     4     3     2     5     3     1   \n",
       "\n",
       "                                        Q20 Random ID  Q22 - Parent Topics  \\\n",
       "0                                       NaN     99887                  NaN   \n",
       "1  i like to do this type of work in future     52503                  NaN   \n",
       "2                                 Thank you     56916                  NaN   \n",
       "3                            A22CN9X0JP1HM4     92914                  NaN   \n",
       "4                                      NICE     64874                  NaN   \n",
       "\n",
       "   Q22 - Topics  \n",
       "0           NaN  \n",
       "1       Unknown  \n",
       "2       Unknown  \n",
       "3       Unknown  \n",
       "4       Unknown  \n",
       "\n",
       "[5 rows x 127 columns]"
      ]
     },
     "execution_count": 12,
     "metadata": {},
     "output_type": "execute_result"
    }
   ],
   "source": [
    "mturk.head()"
   ]
  },
  {
   "cell_type": "code",
   "execution_count": 13,
   "metadata": {},
   "outputs": [
    {
     "data": {
      "text/plain": [
       "(18, 127)"
      ]
     },
     "execution_count": 13,
     "metadata": {},
     "output_type": "execute_result"
    }
   ],
   "source": [
    "mturk.shape"
   ]
  },
  {
   "cell_type": "code",
   "execution_count": 14,
   "metadata": {},
   "outputs": [
    {
     "data": {
      "text/plain": [
       "array(['index', 'StartDate', 'EndDate', 'Status', 'IPAddress', 'Progress',\n",
       "       'Duration (in seconds)', 'Finished', 'RecordedDate', 'ResponseId',\n",
       "       'RecipientLastName', 'RecipientFirstName', 'RecipientEmail',\n",
       "       'ExternalReference', 'LocationLatitude', 'LocationLongitude',\n",
       "       'DistributionChannel', 'UserLanguage', 'Q5_1', 'Q5_2', 'Q5_3',\n",
       "       'Q5_4', 'Q5_5', 'Q5_6', 'Q5_7', 'Q6_1', 'Q6_2', 'Q6_3', 'Q6_4',\n",
       "       'Q6_5', 'Q6_6', 'Q6_7', 'Q7_1', 'Q7_2', 'Q7_3', 'Q7_4', 'Q7_5',\n",
       "       'Q7_6', 'Q7_7', 'Q8_1', 'Q8_2', 'Q8_3', 'Q8_4', 'Q8_5', 'Q8_6',\n",
       "       'Q8_7', 'Q9_1', 'Q9_2', 'Q9_3', 'Q9_4', 'Q9_5', 'Q9_6', 'Q9_7',\n",
       "       'Q10_1', 'Q10_2', 'Q10_3', 'Q10_4', 'Q10_5', 'Q10_6', 'Q10_7',\n",
       "       'Q11_1', 'Q11_2', 'Q11_3', 'Q11_4', 'Q11_5', 'Q11_6', 'Q11_7',\n",
       "       'Q12_1', 'Q12_2', 'Q12_3', 'Q12_4', 'Q12_5', 'Q12_6', 'Q12_7',\n",
       "       'Q13_1', 'Q13_2', 'Q13_3', 'Q13_4', 'Q13_5', 'Q13_6', 'Q13_7',\n",
       "       'Q14_1', 'Q14_2', 'Q14_3', 'Q14_4', 'Q14_5', 'Q14_6', 'Q14_7',\n",
       "       'Q15_1', 'Q15_2', 'Q15_3', 'Q15_4', 'Q15_5', 'Q15_6', 'Q15_7',\n",
       "       'Q16_1', 'Q16_2', 'Q16_3', 'Q16_4', 'Q16_5', 'Q16_6', 'Q16_7',\n",
       "       'Q17_1', 'Q17_2', 'Q17_3', 'Q17_4', 'Q17_5', 'Q17_6', 'Q17_7',\n",
       "       'Q18_1', 'Q18_2', 'Q18_3', 'Q18_4', 'Q18_5', 'Q18_6', 'Q18_7',\n",
       "       'Q19_1', 'Q19_2', 'Q19_3', 'Q19_4', 'Q19_5', 'Q19_6', 'Q19_7',\n",
       "       'Q20', 'Random ID', 'Q22 - Parent Topics', 'Q22 - Topics'],\n",
       "      dtype='<U21')"
      ]
     },
     "execution_count": 14,
     "metadata": {},
     "output_type": "execute_result"
    }
   ],
   "source": [
    "np.asarray(mturk.columns.tolist())"
   ]
  },
  {
   "cell_type": "code",
   "execution_count": 15,
   "metadata": {},
   "outputs": [],
   "source": [
    "mturk['Duration (in seconds)']= mturk['Duration (in seconds)'].astype(int)/60"
   ]
  },
  {
   "cell_type": "code",
   "execution_count": 16,
   "metadata": {},
   "outputs": [],
   "source": [
    "qas = mturk.loc[:, qstart:qend]\n",
    "qas;"
   ]
  },
  {
   "cell_type": "code",
   "execution_count": 17,
   "metadata": {},
   "outputs": [],
   "source": [
    "answer_orders = answer_orders[0:15]"
   ]
  },
  {
   "cell_type": "code",
   "execution_count": 18,
   "metadata": {},
   "outputs": [
    {
     "data": {
      "text/plain": [
       "15"
      ]
     },
     "execution_count": 18,
     "metadata": {},
     "output_type": "execute_result"
    }
   ],
   "source": [
    "len(answer_orders)"
   ]
  },
  {
   "cell_type": "code",
   "execution_count": 19,
   "metadata": {},
   "outputs": [],
   "source": [
    "to_df = []\n",
    "\n",
    "for user_ind in range(qas.shape[0]):\n",
    "    user_ans = qas.loc[user_ind, :]\n",
    "    \n",
    "    for answer_ind, quest in enumerate(answer_orders): \n",
    "        \n",
    "        for q_ind, q in enumerate(quest): \n",
    "            abs_ind = answer_ind*len(quest)+q_ind\n",
    "            #print(abs_ind)\n",
    "            to_df.append([user_ind, answer_ind, q[0].strip(), q[1], user_ans[abs_ind] ])\n",
    "res = pd.DataFrame(to_df, columns=['user_ind', 'q_ind', 'word', 'prob', 'score'])"
   ]
  },
  {
   "cell_type": "code",
   "execution_count": 20,
   "metadata": {},
   "outputs": [
    {
     "data": {
      "text/html": [
       "<div>\n",
       "<style scoped>\n",
       "    .dataframe tbody tr th:only-of-type {\n",
       "        vertical-align: middle;\n",
       "    }\n",
       "\n",
       "    .dataframe tbody tr th {\n",
       "        vertical-align: top;\n",
       "    }\n",
       "\n",
       "    .dataframe thead th {\n",
       "        text-align: right;\n",
       "    }\n",
       "</style>\n",
       "<table border=\"1\" class=\"dataframe\">\n",
       "  <thead>\n",
       "    <tr style=\"text-align: right;\">\n",
       "      <th></th>\n",
       "      <th>user_ind</th>\n",
       "      <th>q_ind</th>\n",
       "      <th>word</th>\n",
       "      <th>prob</th>\n",
       "      <th>score</th>\n",
       "    </tr>\n",
       "  </thead>\n",
       "  <tbody>\n",
       "    <tr>\n",
       "      <th>0</th>\n",
       "      <td>0</td>\n",
       "      <td>0</td>\n",
       "      <td>event</td>\n",
       "      <td>2.130662e-03</td>\n",
       "      <td>3</td>\n",
       "    </tr>\n",
       "    <tr>\n",
       "      <th>1</th>\n",
       "      <td>0</td>\n",
       "      <td>0</td>\n",
       "      <td>things</td>\n",
       "      <td>7.781028e-04</td>\n",
       "      <td>4</td>\n",
       "    </tr>\n",
       "    <tr>\n",
       "      <th>2</th>\n",
       "      <td>0</td>\n",
       "      <td>0</td>\n",
       "      <td>bad</td>\n",
       "      <td>4.916115e-04</td>\n",
       "      <td>1</td>\n",
       "    </tr>\n",
       "    <tr>\n",
       "      <th>3</th>\n",
       "      <td>0</td>\n",
       "      <td>0</td>\n",
       "      <td>events</td>\n",
       "      <td>4.103564e-07</td>\n",
       "      <td>5</td>\n",
       "    </tr>\n",
       "    <tr>\n",
       "      <th>4</th>\n",
       "      <td>0</td>\n",
       "      <td>0</td>\n",
       "      <td>circumstances</td>\n",
       "      <td>5.090322e-04</td>\n",
       "      <td>5</td>\n",
       "    </tr>\n",
       "  </tbody>\n",
       "</table>\n",
       "</div>"
      ],
      "text/plain": [
       "   user_ind  q_ind           word          prob  score\n",
       "0         0      0          event  2.130662e-03      3\n",
       "1         0      0         things  7.781028e-04      4\n",
       "2         0      0            bad  4.916115e-04      1\n",
       "3         0      0         events  4.103564e-07      5\n",
       "4         0      0  circumstances  5.090322e-04      5"
      ]
     },
     "execution_count": 20,
     "metadata": {},
     "output_type": "execute_result"
    }
   ],
   "source": [
    "res.head()"
   ]
  },
  {
   "cell_type": "code",
   "execution_count": 21,
   "metadata": {},
   "outputs": [],
   "source": [
    "from importlib import reload\n",
    "import utils\n",
    "\n",
    "reload(utils)\n",
    "from utils import *"
   ]
  },
  {
   "cell_type": "code",
   "execution_count": 22,
   "metadata": {},
   "outputs": [],
   "source": [
    "res['score'] = res['score'].astype(int)"
   ]
  },
  {
   "cell_type": "code",
   "execution_count": 23,
   "metadata": {},
   "outputs": [],
   "source": [
    "res['score'] = res['score']*2"
   ]
  },
  {
   "cell_type": "markdown",
   "metadata": {},
   "source": [
    "# Looking at the global results without any cleaning"
   ]
  },
  {
   "cell_type": "code",
   "execution_count": 24,
   "metadata": {},
   "outputs": [
    {
     "data": {
      "image/png": "[encoded data removed]",
      "text/plain": [
       "<Figure size 432x288 with 1 Axes>"
      ]
     },
     "metadata": {
      "needs_background": "light"
     },
     "output_type": "display_data"
    }
   ],
   "source": [
    "# put a linear regression through this. \n",
    "\n",
    "import seaborn as sns; sns.set(color_codes=True)\n",
    "ax = sns.regplot(x=res['prob'], y=res['score'], color=\"g\")\n"
   ]
  },
  {
   "cell_type": "code",
   "execution_count": 25,
   "metadata": {},
   "outputs": [
    {
     "data": {
      "text/plain": [
       "Text(0, 0.5, 'Score')"
      ]
     },
     "execution_count": 25,
     "metadata": {},
     "output_type": "execute_result"
    },
    {
     "data": {
      "image/png": "[encoded data removed]",
      "text/plain": [
       "<Figure size 432x288 with 1 Axes>"
      ]
     },
     "metadata": {
      "needs_background": "light"
     },
     "output_type": "display_data"
    }
   ],
   "source": [
    "means = res.groupby('score').mean()\n",
    "plt.scatter(means['prob'], means.index)\n",
    "plt.xlabel('Prob')\n",
    "plt.ylabel('Score')"
   ]
  },
  {
   "cell_type": "code",
   "execution_count": 26,
   "metadata": {},
   "outputs": [
    {
     "data": {
      "text/html": [
       "<div>\n",
       "<style scoped>\n",
       "    .dataframe tbody tr th:only-of-type {\n",
       "        vertical-align: middle;\n",
       "    }\n",
       "\n",
       "    .dataframe tbody tr th {\n",
       "        vertical-align: top;\n",
       "    }\n",
       "\n",
       "    .dataframe thead th {\n",
       "        text-align: right;\n",
       "    }\n",
       "</style>\n",
       "<table border=\"1\" class=\"dataframe\">\n",
       "  <thead>\n",
       "    <tr style=\"text-align: right;\">\n",
       "      <th></th>\n",
       "      <th>LocationLatitude</th>\n",
       "      <th>LocationLongitude</th>\n",
       "      <th>Q20</th>\n",
       "      <th>Random ID</th>\n",
       "      <th>Duration (in seconds)</th>\n",
       "    </tr>\n",
       "  </thead>\n",
       "  <tbody>\n",
       "    <tr>\n",
       "      <th>0</th>\n",
       "      <td>28.206207275390625</td>\n",
       "      <td>-80.68740081787109375</td>\n",
       "      <td>NaN</td>\n",
       "      <td>99887</td>\n",
       "      <td>5.366667</td>\n",
       "    </tr>\n",
       "    <tr>\n",
       "      <th>1</th>\n",
       "      <td>13.087799072265625</td>\n",
       "      <td>80.27850341796875</td>\n",
       "      <td>i like to do this type of work in future</td>\n",
       "      <td>52503</td>\n",
       "      <td>14.300000</td>\n",
       "    </tr>\n",
       "    <tr>\n",
       "      <th>2</th>\n",
       "      <td>39.5272064208984375</td>\n",
       "      <td>-119.91290283203125</td>\n",
       "      <td>Thank you</td>\n",
       "      <td>56916</td>\n",
       "      <td>11.783333</td>\n",
       "    </tr>\n",
       "    <tr>\n",
       "      <th>3</th>\n",
       "      <td>13.087799072265625</td>\n",
       "      <td>80.27850341796875</td>\n",
       "      <td>A22CN9X0JP1HM4</td>\n",
       "      <td>92914</td>\n",
       "      <td>9.800000</td>\n",
       "    </tr>\n",
       "    <tr>\n",
       "      <th>4</th>\n",
       "      <td>13.087799072265625</td>\n",
       "      <td>80.27850341796875</td>\n",
       "      <td>NICE</td>\n",
       "      <td>64874</td>\n",
       "      <td>19.450000</td>\n",
       "    </tr>\n",
       "    <tr>\n",
       "      <th>5</th>\n",
       "      <td>29.691802978515625</td>\n",
       "      <td>-95.6526031494140625</td>\n",
       "      <td>No comments</td>\n",
       "      <td>79189</td>\n",
       "      <td>6.000000</td>\n",
       "    </tr>\n",
       "    <tr>\n",
       "      <th>6</th>\n",
       "      <td>37.675201416015625</td>\n",
       "      <td>-120.946502685546875</td>\n",
       "      <td>no</td>\n",
       "      <td>96192</td>\n",
       "      <td>16.800000</td>\n",
       "    </tr>\n",
       "    <tr>\n",
       "      <th>7</th>\n",
       "      <td>13.087799072265625</td>\n",
       "      <td>80.27850341796875</td>\n",
       "      <td>A3PWNN3ITRK4X3</td>\n",
       "      <td>75978</td>\n",
       "      <td>7.316667</td>\n",
       "    </tr>\n",
       "    <tr>\n",
       "      <th>8</th>\n",
       "      <td>13.087799072265625</td>\n",
       "      <td>80.27850341796875</td>\n",
       "      <td>A3HZEWILX5PQSJ</td>\n",
       "      <td>26893</td>\n",
       "      <td>16.050000</td>\n",
       "    </tr>\n",
       "    <tr>\n",
       "      <th>9</th>\n",
       "      <td>13.087799072265625</td>\n",
       "      <td>80.27850341796875</td>\n",
       "      <td>IT IS INFORMATIVE</td>\n",
       "      <td>18522</td>\n",
       "      <td>27.416667</td>\n",
       "    </tr>\n",
       "    <tr>\n",
       "      <th>10</th>\n",
       "      <td>38.959197998046875</td>\n",
       "      <td>-94.596099853515625</td>\n",
       "      <td>NaN</td>\n",
       "      <td>37690</td>\n",
       "      <td>6.316667</td>\n",
       "    </tr>\n",
       "    <tr>\n",
       "      <th>11</th>\n",
       "      <td>35.46429443359375</td>\n",
       "      <td>-82.533599853515625</td>\n",
       "      <td>Thank you, thought it was pretty engaging.</td>\n",
       "      <td>42791</td>\n",
       "      <td>30.233333</td>\n",
       "    </tr>\n",
       "    <tr>\n",
       "      <th>12</th>\n",
       "      <td>29.8737945556640625</td>\n",
       "      <td>-95.5233001708984375</td>\n",
       "      <td>NaN</td>\n",
       "      <td>51027</td>\n",
       "      <td>15.550000</td>\n",
       "    </tr>\n",
       "    <tr>\n",
       "      <th>13</th>\n",
       "      <td>40.0731964111328125</td>\n",
       "      <td>-82.401702880859375</td>\n",
       "      <td>None, thanks!</td>\n",
       "      <td>45013</td>\n",
       "      <td>26.250000</td>\n",
       "    </tr>\n",
       "    <tr>\n",
       "      <th>14</th>\n",
       "      <td>38.760894775390625</td>\n",
       "      <td>-121.2866973876953125</td>\n",
       "      <td>good</td>\n",
       "      <td>61245</td>\n",
       "      <td>7.233333</td>\n",
       "    </tr>\n",
       "    <tr>\n",
       "      <th>15</th>\n",
       "      <td>47.6092071533203125</td>\n",
       "      <td>-122.3314056396484375</td>\n",
       "      <td>none</td>\n",
       "      <td>96232</td>\n",
       "      <td>12.600000</td>\n",
       "    </tr>\n",
       "    <tr>\n",
       "      <th>16</th>\n",
       "      <td>34.1846923828125</td>\n",
       "      <td>-79.7704010009765625</td>\n",
       "      <td>None</td>\n",
       "      <td>89261</td>\n",
       "      <td>14.450000</td>\n",
       "    </tr>\n",
       "    <tr>\n",
       "      <th>17</th>\n",
       "      <td>33.86810302734375</td>\n",
       "      <td>-118.18310546875</td>\n",
       "      <td>NaN</td>\n",
       "      <td>87713</td>\n",
       "      <td>12.750000</td>\n",
       "    </tr>\n",
       "  </tbody>\n",
       "</table>\n",
       "</div>"
      ],
      "text/plain": [
       "       LocationLatitude      LocationLongitude  \\\n",
       "0    28.206207275390625  -80.68740081787109375   \n",
       "1    13.087799072265625      80.27850341796875   \n",
       "2   39.5272064208984375    -119.91290283203125   \n",
       "3    13.087799072265625      80.27850341796875   \n",
       "4    13.087799072265625      80.27850341796875   \n",
       "5    29.691802978515625   -95.6526031494140625   \n",
       "6    37.675201416015625   -120.946502685546875   \n",
       "7    13.087799072265625      80.27850341796875   \n",
       "8    13.087799072265625      80.27850341796875   \n",
       "9    13.087799072265625      80.27850341796875   \n",
       "10   38.959197998046875    -94.596099853515625   \n",
       "11    35.46429443359375    -82.533599853515625   \n",
       "12  29.8737945556640625   -95.5233001708984375   \n",
       "13  40.0731964111328125    -82.401702880859375   \n",
       "14   38.760894775390625  -121.2866973876953125   \n",
       "15  47.6092071533203125  -122.3314056396484375   \n",
       "16     34.1846923828125   -79.7704010009765625   \n",
       "17    33.86810302734375       -118.18310546875   \n",
       "\n",
       "                                           Q20 Random ID  \\\n",
       "0                                          NaN     99887   \n",
       "1     i like to do this type of work in future     52503   \n",
       "2                                    Thank you     56916   \n",
       "3                               A22CN9X0JP1HM4     92914   \n",
       "4                                         NICE     64874   \n",
       "5                                  No comments     79189   \n",
       "6                                           no     96192   \n",
       "7                               A3PWNN3ITRK4X3     75978   \n",
       "8                               A3HZEWILX5PQSJ     26893   \n",
       "9                            IT IS INFORMATIVE     18522   \n",
       "10                                         NaN     37690   \n",
       "11  Thank you, thought it was pretty engaging.     42791   \n",
       "12                                         NaN     51027   \n",
       "13                               None, thanks!     45013   \n",
       "14                                        good     61245   \n",
       "15                                        none     96232   \n",
       "16                                        None     89261   \n",
       "17                                         NaN     87713   \n",
       "\n",
       "    Duration (in seconds)  \n",
       "0                5.366667  \n",
       "1               14.300000  \n",
       "2               11.783333  \n",
       "3                9.800000  \n",
       "4               19.450000  \n",
       "5                6.000000  \n",
       "6               16.800000  \n",
       "7                7.316667  \n",
       "8               16.050000  \n",
       "9               27.416667  \n",
       "10               6.316667  \n",
       "11              30.233333  \n",
       "12              15.550000  \n",
       "13              26.250000  \n",
       "14               7.233333  \n",
       "15              12.600000  \n",
       "16              14.450000  \n",
       "17              12.750000  "
      ]
     },
     "execution_count": 26,
     "metadata": {},
     "output_type": "execute_result"
    }
   ],
   "source": [
    "mturk[['LocationLatitude',\n",
    " 'LocationLongitude', 'Q20', 'Random ID', 'Duration (in seconds)']]"
   ]
  },
  {
   "cell_type": "markdown",
   "metadata": {},
   "source": [
    "# What surveyors should I pay?"
   ]
  },
  {
   "cell_type": "markdown",
   "metadata": {},
   "source": [
    "## What is the correlation matrix between them? "
   ]
  },
  {
   "cell_type": "code",
   "execution_count": 27,
   "metadata": {},
   "outputs": [],
   "source": [
    "user_vectors = []\n",
    "for user_ind in res['user_ind'].unique().tolist():\n",
    "    single_u = res[res['user_ind']==user_ind]['score'].astype(int)\n",
    "    # normalize to the unit vector\n",
    "    #print(np.dot(single_u,single_u))\n",
    "    single_u = single_u/ np.sqrt(np.dot(single_u,single_u))\n",
    "    #print(np.sqrt(np.dot(single_u,single_u)))\n",
    "    user_vectors.append(single_u)\n",
    "user_vectors = np.asarray(user_vectors) # each user is a row"
   ]
  },
  {
   "cell_type": "code",
   "execution_count": 28,
   "metadata": {},
   "outputs": [],
   "source": [
    "u_corr = np.corrcoef(user_vectors)\n",
    "u_corr;"
   ]
  },
  {
   "cell_type": "code",
   "execution_count": 29,
   "metadata": {},
   "outputs": [
    {
     "data": {
      "text/plain": [
       "<matplotlib.axes._subplots.AxesSubplot at 0x1a242d1908>"
      ]
     },
     "execution_count": 29,
     "metadata": {},
     "output_type": "execute_result"
    },
    {
     "data": {
      "image/png": "[encoded data removed]",
      "text/plain": [
       "<Figure size 432x288 with 2 Axes>"
      ]
     },
     "metadata": {
      "needs_background": "light"
     },
     "output_type": "display_data"
    }
   ],
   "source": [
    "sns.heatmap(u_corr)"
   ]
  },
  {
   "cell_type": "markdown",
   "metadata": {},
   "source": [
    "2, 5 and 6 all correlate well. This is the same as those that have high internal consistency (and also happen to give the highest scores). 6 is from Sacramento. 5 is from Houston. 2 is outside of Sacramento. 0 is from palm bay florida. and was almost internally consistent enough. correlated well with some of the others. "
   ]
  },
  {
   "cell_type": "markdown",
   "metadata": {},
   "source": [
    "## Looking at the scores from each one: "
   ]
  },
  {
   "cell_type": "code",
   "execution_count": 30,
   "metadata": {},
   "outputs": [
    {
     "data": {
      "text/plain": [
       "\"for user_ind in res['user_ind'].unique().tolist():\\n    single_u = res[res['user_ind']==user_ind]\\n    print('user ind:', user_ind)\\n    #overall output\\n    plt.scatter(single_u['prob'], single_u['score'])\\n    plt.xlabel('Prob')\\n    plt.ylabel('Score')\\n    plt.show()\\n    #mean output\\n    means = single_u.groupby('score').mean()\\n    plt.scatter(means['prob'], means.index)\\n    plt.xlabel('Prob')\\n    plt.ylabel('Score')\\n    plt.show()\\n    #did they get the same words with the same score? \\n\""
      ]
     },
     "execution_count": 30,
     "metadata": {},
     "output_type": "execute_result"
    }
   ],
   "source": [
    "'''for user_ind in res['user_ind'].unique().tolist():\n",
    "    single_u = res[res['user_ind']==user_ind]\n",
    "    print('user ind:', user_ind)\n",
    "    #overall output\n",
    "    plt.scatter(single_u['prob'], single_u['score'])\n",
    "    plt.xlabel('Prob')\n",
    "    plt.ylabel('Score')\n",
    "    plt.show()\n",
    "    #mean output\n",
    "    means = single_u.groupby('score').mean()\n",
    "    plt.scatter(means['prob'], means.index)\n",
    "    plt.xlabel('Prob')\n",
    "    plt.ylabel('Score')\n",
    "    plt.show()\n",
    "    #did they get the same words with the same score? \n",
    "'''"
   ]
  },
  {
   "cell_type": "code",
   "execution_count": 70,
   "metadata": {},
   "outputs": [
    {
     "name": "stdout",
     "output_type": "stream",
     "text": [
      "user ind 0 | internal consistent? False | percent int con 0.8666666666666667\n",
      "user ind 1 | internal consistent? False | percent int con 0.6\n",
      "user ind 2 | internal consistent? False | percent int con 0.9333333333333333\n",
      "user ind 3 | internal consistent? False | percent int con 0.6\n",
      "user ind 4 | internal consistent? False | percent int con 0.6\n",
      "user ind 5 | internal consistent? False | percent int con 0.9333333333333333\n",
      "user ind 6 | internal consistent? False | percent int con 0.9333333333333333\n",
      "user ind 7 | internal consistent? False | percent int con 0.8666666666666667\n",
      "user ind 8 | internal consistent? False | percent int con 0.5333333333333333\n",
      "user ind 9 | internal consistent? False | percent int con 0.6666666666666666\n",
      "user ind 10 | internal consistent? False | percent int con 0.9333333333333333\n",
      "user ind 11 | internal consistent? False | percent int con 0.9333333333333333\n",
      "user ind 12 | internal consistent? False | percent int con 0.9333333333333333\n",
      "user ind 13 | internal consistent? False | percent int con 0.9333333333333333\n",
      "user ind 14 | internal consistent? False | percent int con 0.5333333333333333\n",
      "user ind 15 | internal consistent? False | percent int con 0.9333333333333333\n",
      "user ind 16 | internal consistent? False | percent int con 0.6\n",
      "user ind 17 | internal consistent? False | percent int con 0.5333333333333333\n",
      "bad users are:  [0, 1, 3, 4, 7, 8, 9, 14, 16, 17]\n"
     ]
    }
   ],
   "source": [
    "perc_const_threshold = 0.9\n",
    "\n",
    "def dup_in_col(x):\n",
    "    dupe_mask = x['word'].duplicated(keep=False)\n",
    "    dupe_words = x['word'][dupe_mask]\n",
    "    #print(dupe_words)\n",
    "    for w in dupe_words.unique().tolist():\n",
    "        same_prob = len(x[x['word']==w]['score'].unique().tolist())==1\n",
    "        #print(x[x['word']==w]['score'])\n",
    "        #print('same score', same_prob)\n",
    "        if same_prob: \n",
    "            continue\n",
    "        else: \n",
    "            return False\n",
    "    return True\n",
    "\n",
    "bad_users = []\n",
    "\n",
    "for user_ind in res['user_ind'].unique().tolist():\n",
    "    single_u = res[res['user_ind']==user_ind]\n",
    "    same_probs = single_u.groupby('q_ind').apply(dup_in_col )\n",
    "    int_cons = same_probs.sum() == len(same_probs)\n",
    "    perc_int_cons = same_probs.sum()/len(same_probs)\n",
    "    \n",
    "    print('user ind', user_ind, '| internal consistent?', int_cons, '| percent int con', perc_int_cons)\n",
    "    \n",
    "    if perc_int_cons< perc_const_threshold:\n",
    "        bad_users.append(user_ind)\n",
    "print('bad users are: ', bad_users)"
   ]
  },
  {
   "cell_type": "code",
   "execution_count": 88,
   "metadata": {},
   "outputs": [
    {
     "data": {
      "text/html": [
       "<div>\n",
       "<style scoped>\n",
       "    .dataframe tbody tr th:only-of-type {\n",
       "        vertical-align: middle;\n",
       "    }\n",
       "\n",
       "    .dataframe tbody tr th {\n",
       "        vertical-align: top;\n",
       "    }\n",
       "\n",
       "    .dataframe thead th {\n",
       "        text-align: right;\n",
       "    }\n",
       "</style>\n",
       "<table border=\"1\" class=\"dataframe\">\n",
       "  <thead>\n",
       "    <tr style=\"text-align: right;\">\n",
       "      <th></th>\n",
       "      <th>Random ID</th>\n",
       "    </tr>\n",
       "  </thead>\n",
       "  <tbody>\n",
       "    <tr>\n",
       "      <th>0</th>\n",
       "      <td>99887</td>\n",
       "    </tr>\n",
       "    <tr>\n",
       "      <th>1</th>\n",
       "      <td>52503</td>\n",
       "    </tr>\n",
       "    <tr>\n",
       "      <th>3</th>\n",
       "      <td>92914</td>\n",
       "    </tr>\n",
       "    <tr>\n",
       "      <th>4</th>\n",
       "      <td>64874</td>\n",
       "    </tr>\n",
       "    <tr>\n",
       "      <th>7</th>\n",
       "      <td>75978</td>\n",
       "    </tr>\n",
       "    <tr>\n",
       "      <th>8</th>\n",
       "      <td>26893</td>\n",
       "    </tr>\n",
       "    <tr>\n",
       "      <th>9</th>\n",
       "      <td>18522</td>\n",
       "    </tr>\n",
       "    <tr>\n",
       "      <th>14</th>\n",
       "      <td>61245</td>\n",
       "    </tr>\n",
       "    <tr>\n",
       "      <th>16</th>\n",
       "      <td>89261</td>\n",
       "    </tr>\n",
       "    <tr>\n",
       "      <th>17</th>\n",
       "      <td>87713</td>\n",
       "    </tr>\n",
       "  </tbody>\n",
       "</table>\n",
       "</div>"
      ],
      "text/plain": [
       "   Random ID\n",
       "0      99887\n",
       "1      52503\n",
       "3      92914\n",
       "4      64874\n",
       "7      75978\n",
       "8      26893\n",
       "9      18522\n",
       "14     61245\n",
       "16     89261\n",
       "17     87713"
      ]
     },
     "execution_count": 88,
     "metadata": {},
     "output_type": "execute_result"
    }
   ],
   "source": [
    "mturk.iloc[np.asarray(bad_users)][['Random ID']]"
   ]
  },
  {
   "cell_type": "markdown",
   "metadata": {},
   "source": [
    "### How did they rate the ground truth words? "
   ]
  },
  {
   "cell_type": "code",
   "execution_count": 71,
   "metadata": {},
   "outputs": [],
   "source": [
    "g_truth = pickle.load(open('prob_slice_replaceable_comparisons_answers_list.pickle','rb'))\n",
    "all_gwords = []\n",
    "for q in g_truth: \n",
    "    for e in q:\n",
    "        if e[2]==1:\n",
    "            all_gwords.append(e[0].strip())"
   ]
  },
  {
   "cell_type": "code",
   "execution_count": 72,
   "metadata": {},
   "outputs": [
    {
     "data": {
      "text/plain": [
       "['events',\n",
       " 'would',\n",
       " 'edge',\n",
       " 'a',\n",
       " 'creek',\n",
       " 'is',\n",
       " 'adept',\n",
       " 'shock',\n",
       " 'the',\n",
       " 'novel',\n",
       " 'secretaries',\n",
       " 'technology',\n",
       " 'Jews',\n",
       " 'trade',\n",
       " 'his',\n",
       " 'his',\n",
       " 'told',\n",
       " 'smile',\n",
       " 'we']"
      ]
     },
     "execution_count": 72,
     "metadata": {},
     "output_type": "execute_result"
    }
   ],
   "source": [
    "all_gwords"
   ]
  },
  {
   "cell_type": "code",
   "execution_count": 43,
   "metadata": {},
   "outputs": [
    {
     "data": {
      "image/png": "[encoded data removed]",
      "text/plain": [
       "<Figure size 432x288 with 1 Axes>"
      ]
     },
     "metadata": {
      "needs_background": "light"
     },
     "output_type": "display_data"
    }
   ],
   "source": [
    "mean_gw_scores = []\n",
    "\n",
    "threshold = 6.5\n",
    "\n",
    "for user_ind in res['user_ind'].unique().tolist():\n",
    "    single_u = res[res['user_ind']==user_ind]\n",
    "    gw_mask = single_u['word'].apply(lambda x: x in all_gwords)\n",
    "    gw_scores = single_u[gw_mask]['score']\n",
    "    #print('user ind', user_ind, 'mean g word score', gw_scores.mean(), 'scores for ground words', gw_scores)\n",
    "    mean_gw_scores.append(gw_scores.mean())\n",
    "    if gw_scores.mean()<threshold:\n",
    "        \n",
    "        bad_users.append(user_ind)\n",
    "plt.scatter(range(len(mean_gw_scores)), mean_gw_scores)\n",
    "plt.axhline(threshold)\n",
    "plt.xticks(np.arange(len(mean_gw_scores)))\n",
    "plt.show()"
   ]
  },
  {
   "cell_type": "markdown",
   "metadata": {},
   "source": [
    "#### all of the good ones in this case are above 7 as they should be for the ground words. "
   ]
  },
  {
   "cell_type": "code",
   "execution_count": 44,
   "metadata": {},
   "outputs": [
    {
     "data": {
      "text/plain": [
       "'18522'"
      ]
     },
     "execution_count": 44,
     "metadata": {},
     "output_type": "execute_result"
    }
   ],
   "source": [
    "mturk.loc[9, 'Random ID']"
   ]
  },
  {
   "cell_type": "markdown",
   "metadata": {},
   "source": [
    "## removing words where their prob is different with or without a space!\n",
    "#### Should have fixed the encoding so that this will no longer be a problem going forwards"
   ]
  },
  {
   "cell_type": "code",
   "execution_count": 45,
   "metadata": {},
   "outputs": [
    {
     "data": {
      "text/html": [
       "<div>\n",
       "<style scoped>\n",
       "    .dataframe tbody tr th:only-of-type {\n",
       "        vertical-align: middle;\n",
       "    }\n",
       "\n",
       "    .dataframe tbody tr th {\n",
       "        vertical-align: top;\n",
       "    }\n",
       "\n",
       "    .dataframe thead th {\n",
       "        text-align: right;\n",
       "    }\n",
       "</style>\n",
       "<table border=\"1\" class=\"dataframe\">\n",
       "  <thead>\n",
       "    <tr style=\"text-align: right;\">\n",
       "      <th></th>\n",
       "      <th>user_ind</th>\n",
       "      <th>q_ind</th>\n",
       "      <th>word</th>\n",
       "      <th>prob</th>\n",
       "      <th>score</th>\n",
       "    </tr>\n",
       "  </thead>\n",
       "  <tbody>\n",
       "    <tr>\n",
       "      <th>0</th>\n",
       "      <td>0</td>\n",
       "      <td>0</td>\n",
       "      <td>event</td>\n",
       "      <td>2.130662e-03</td>\n",
       "      <td>6</td>\n",
       "    </tr>\n",
       "    <tr>\n",
       "      <th>1</th>\n",
       "      <td>0</td>\n",
       "      <td>0</td>\n",
       "      <td>things</td>\n",
       "      <td>7.781028e-04</td>\n",
       "      <td>8</td>\n",
       "    </tr>\n",
       "    <tr>\n",
       "      <th>2</th>\n",
       "      <td>0</td>\n",
       "      <td>0</td>\n",
       "      <td>bad</td>\n",
       "      <td>4.916115e-04</td>\n",
       "      <td>2</td>\n",
       "    </tr>\n",
       "    <tr>\n",
       "      <th>3</th>\n",
       "      <td>0</td>\n",
       "      <td>0</td>\n",
       "      <td>events</td>\n",
       "      <td>4.103564e-07</td>\n",
       "      <td>10</td>\n",
       "    </tr>\n",
       "    <tr>\n",
       "      <th>4</th>\n",
       "      <td>0</td>\n",
       "      <td>0</td>\n",
       "      <td>circumstances</td>\n",
       "      <td>5.090322e-04</td>\n",
       "      <td>10</td>\n",
       "    </tr>\n",
       "  </tbody>\n",
       "</table>\n",
       "</div>"
      ],
      "text/plain": [
       "   user_ind  q_ind           word          prob  score\n",
       "0         0      0          event  2.130662e-03      6\n",
       "1         0      0         things  7.781028e-04      8\n",
       "2         0      0            bad  4.916115e-04      2\n",
       "3         0      0         events  4.103564e-07     10\n",
       "4         0      0  circumstances  5.090322e-04     10"
      ]
     },
     "execution_count": 45,
     "metadata": {},
     "output_type": "execute_result"
    }
   ],
   "source": [
    "res.head()"
   ]
  },
  {
   "cell_type": "code",
   "execution_count": 46,
   "metadata": {},
   "outputs": [
    {
     "data": {
      "text/plain": [
       "3       4.103564e-07\n",
       "5       9.782679e-01\n",
       "108     4.103564e-07\n",
       "110     9.782679e-01\n",
       "213     4.103564e-07\n",
       "215     9.782679e-01\n",
       "318     4.103564e-07\n",
       "320     9.782679e-01\n",
       "423     4.103564e-07\n",
       "425     9.782679e-01\n",
       "528     4.103564e-07\n",
       "530     9.782679e-01\n",
       "633     4.103564e-07\n",
       "635     9.782679e-01\n",
       "738     4.103564e-07\n",
       "740     9.782679e-01\n",
       "843     4.103564e-07\n",
       "845     9.782679e-01\n",
       "948     4.103564e-07\n",
       "950     9.782679e-01\n",
       "1053    4.103564e-07\n",
       "1055    9.782679e-01\n",
       "1158    4.103564e-07\n",
       "1160    9.782679e-01\n",
       "1263    4.103564e-07\n",
       "1265    9.782679e-01\n",
       "1368    4.103564e-07\n",
       "1370    9.782679e-01\n",
       "1473    4.103564e-07\n",
       "1475    9.782679e-01\n",
       "1578    4.103564e-07\n",
       "1580    9.782679e-01\n",
       "1683    4.103564e-07\n",
       "1685    9.782679e-01\n",
       "1788    4.103564e-07\n",
       "1790    9.782679e-01\n",
       "Name: prob, dtype: float64"
      ]
     },
     "execution_count": 46,
     "metadata": {},
     "output_type": "execute_result"
    }
   ],
   "source": [
    "mask = res['word']=='events'\n",
    "res[mask]['prob']"
   ]
  },
  {
   "cell_type": "code",
   "execution_count": 47,
   "metadata": {},
   "outputs": [
    {
     "name": "stderr",
     "output_type": "stream",
     "text": [
      "/Users/trentonbricken/anaconda3/lib/python3.7/site-packages/numpy/core/fromnumeric.py:56: FutureWarning: \n",
      "The current behaviour of 'Series.argmin' is deprecated, use 'idxmin'\n",
      "instead.\n",
      "The behavior of 'argmin' will be corrected to return the positional\n",
      "minimum in the future. For now, use 'series.values.argmin' or\n",
      "'np.argmin(np.array(values))' to get the position of the minimum\n",
      "row.\n",
      "  return getattr(obj, method)(*args, **kwds)\n"
     ]
    },
    {
     "data": {
      "text/plain": [
       "q_ind\n",
       "0       [3]\n",
       "1       [8]\n",
       "2      [20]\n",
       "3      [24]\n",
       "4        []\n",
       "5      [40]\n",
       "6        []\n",
       "7        []\n",
       "8      [59]\n",
       "9        []\n",
       "10       []\n",
       "11       []\n",
       "12       []\n",
       "13       []\n",
       "14    [101]\n",
       "dtype: object"
      ]
     },
     "execution_count": 47,
     "metadata": {},
     "output_type": "execute_result"
    }
   ],
   "source": [
    "def gword_same_prob(x):\n",
    "    #print(x.index)\n",
    "    rows_to_drop = []\n",
    "    dupe_mask = x['word'].duplicated(keep=False)\n",
    "    dupe_words = x['word'][dupe_mask]\n",
    "    #print(dupe_words)\n",
    "    for w in dupe_words.unique().tolist():\n",
    "        same_prob = len(x[x['word']==w]['prob'].unique().tolist())==1\n",
    "        #print(x[x['word']==w]['score'])\n",
    "        #print('same score', same_prob)\n",
    "        if not same_prob: \n",
    "            ind_mask = mask = x['word']==w\n",
    "            # drop the smaller one\n",
    "            smaller = np.argmin(x[ind_mask]['prob'])\n",
    "            rows_to_drop.append( smaller )\n",
    "            # np.arange(len(x['word']))\n",
    "\n",
    "            \n",
    "    return rows_to_drop\n",
    "\n",
    "res_rows_to_drop = res.groupby('q_ind').apply(gword_same_prob)\n",
    "res_rows_to_drop #= res_rows_to_drop.ravel().flatten()\n",
    "\n"
   ]
  },
  {
   "cell_type": "code",
   "execution_count": 48,
   "metadata": {},
   "outputs": [
    {
     "data": {
      "text/plain": [
       "array([  3,   8,  20,  24,  40,  59, 101])"
      ]
     },
     "execution_count": 48,
     "metadata": {},
     "output_type": "execute_result"
    }
   ],
   "source": [
    "temp_rtod = []\n",
    "for r in res_rows_to_drop:\n",
    "    try:\n",
    "        temp_rtod.append(r[0])\n",
    "    except:\n",
    "        pass\n",
    "res_rows_to_drop = np.asarray(temp_rtod)\n",
    "res_rows_to_drop"
   ]
  },
  {
   "cell_type": "code",
   "execution_count": 49,
   "metadata": {},
   "outputs": [],
   "source": [
    "c_res = res.drop(res_rows_to_drop, axis=0,)"
   ]
  },
  {
   "cell_type": "code",
   "execution_count": null,
   "metadata": {},
   "outputs": [],
   "source": []
  },
  {
   "cell_type": "code",
   "execution_count": 73,
   "metadata": {},
   "outputs": [
    {
     "data": {
      "text/plain": [
       "[2, 5, 6, 10, 11, 12, 13, 15]"
      ]
     },
     "execution_count": 73,
     "metadata": {},
     "output_type": "execute_result"
    }
   ],
   "source": [
    "good_users = list(set(res['user_ind'].unique().tolist())-set(bad_users))\n",
    "good_users"
   ]
  },
  {
   "cell_type": "markdown",
   "metadata": {},
   "source": [
    "# Plots without the bad users"
   ]
  },
  {
   "cell_type": "code",
   "execution_count": 74,
   "metadata": {},
   "outputs": [],
   "source": [
    "guser_mask = c_res['user_ind'].apply(lambda x: x in good_users)\n",
    "guser = c_res[guser_mask]"
   ]
  },
  {
   "cell_type": "code",
   "execution_count": 75,
   "metadata": {},
   "outputs": [
    {
     "data": {
      "text/plain": [
       "(840, 5)"
      ]
     },
     "execution_count": 75,
     "metadata": {},
     "output_type": "execute_result"
    }
   ],
   "source": [
    "guser.shape"
   ]
  },
  {
   "cell_type": "code",
   "execution_count": 76,
   "metadata": {},
   "outputs": [
    {
     "data": {
      "text/plain": [
       "(0, 10.5)"
      ]
     },
     "execution_count": 76,
     "metadata": {},
     "output_type": "execute_result"
    },
    {
     "data": {
      "image/png": "[encoded data removed]",
      "text/plain": [
       "<Figure size 432x288 with 1 Axes>"
      ]
     },
     "metadata": {},
     "output_type": "display_data"
    }
   ],
   "source": [
    "# put a linear regression through this. \n",
    "\n",
    "\n",
    "\n",
    "import seaborn as sns; sns.set(color_codes=True)\n",
    "ax = sns.regplot(x=guser['prob'], y=guser['score'], color=\"g\")\n",
    "plt.ylim([0,10.5])"
   ]
  },
  {
   "cell_type": "code",
   "execution_count": 77,
   "metadata": {},
   "outputs": [
    {
     "data": {
      "text/plain": [
       "score\n",
       "2     143\n",
       "4      71\n",
       "6     108\n",
       "8     181\n",
       "10    337\n",
       "dtype: int64"
      ]
     },
     "execution_count": 77,
     "metadata": {},
     "output_type": "execute_result"
    }
   ],
   "source": [
    "guser.groupby('score').apply(lambda x: len(x))"
   ]
  },
  {
   "cell_type": "code",
   "execution_count": 78,
   "metadata": {},
   "outputs": [
    {
     "data": {
      "text/plain": [
       "score\n",
       "2     0.007780\n",
       "4     0.023672\n",
       "6     0.018099\n",
       "8     0.014416\n",
       "10    0.018713\n",
       "dtype: float64"
      ]
     },
     "execution_count": 78,
     "metadata": {},
     "output_type": "execute_result"
    }
   ],
   "source": [
    "means = guser.groupby('score').mean()['prob']\n",
    "errors = (1.96*(guser.groupby('score').std()['prob']/np.sqrt(guser.groupby('score').apply(lambda x:len(x)) )))\n",
    "\n",
    "errors"
   ]
  },
  {
   "cell_type": "code",
   "execution_count": 79,
   "metadata": {},
   "outputs": [
    {
     "data": {
      "image/png": "[encoded data removed]",
      "text/plain": [
       "<Figure size 960x640 with 1 Axes>"
      ]
     },
     "metadata": {},
     "output_type": "display_data"
    },
    {
     "data": {
      "text/plain": [
       "Text(0, 0.5, 'Score')"
      ]
     },
     "execution_count": 79,
     "metadata": {},
     "output_type": "execute_result"
    },
    {
     "data": {
      "image/png": "[encoded data removed]",
      "text/plain": [
       "<Figure size 432x288 with 1 Axes>"
      ]
     },
     "metadata": {},
     "output_type": "display_data"
    }
   ],
   "source": [
    "x_pos = means #np.arange(len(means))\n",
    "plt.figure(num=None, figsize=(12, 8), dpi=80, facecolor='w', edgecolor='k')\n",
    "plt.errorbar(x_pos, means.index, xerr=errors, ecolor='red', fmt='o', capsize=3, color = 'blue')\n",
    "plt.show()\n",
    "plt.scatter(means, means.index)\n",
    "plt.xlabel('Prob')\n",
    "plt.ylabel('Score')"
   ]
  },
  {
   "cell_type": "code",
   "execution_count": 80,
   "metadata": {},
   "outputs": [
    {
     "data": {
      "image/png": "[encoded data removed]",
      "text/plain": [
       "<Figure size 960x640 with 1 Axes>"
      ]
     },
     "metadata": {},
     "output_type": "display_data"
    }
   ],
   "source": [
    "x_pos = means #np.arange(len(means))\n",
    "plt.figure(num=None, figsize=(12, 8), dpi=80, facecolor='w', edgecolor='k')\n",
    "plt.errorbar(x_pos, means.index, xerr=errors, ecolor='red', fmt='o', capsize=3, color = 'blue')\n",
    "plt.xlabel('Prob')\n",
    "plt.ylabel('Score')\n",
    "plt.show()\n",
    "#plt.scatter(means, means.index)\n"
   ]
  },
  {
   "cell_type": "code",
   "execution_count": null,
   "metadata": {},
   "outputs": [],
   "source": []
  }
 ],
 "metadata": {
  "kernelspec": {
   "display_name": "Python 3",
   "language": "python",
   "name": "python3"
  },
  "language_info": {
   "codemirror_mode": {
    "name": "ipython",
    "version": 3
   },
   "file_extension": ".py",
   "mimetype": "text/x-python",
   "name": "python",
   "nbconvert_exporter": "python",
   "pygments_lexer": "ipython3",
   "version": "3.7.3"
  }
 },
 "nbformat": 4,
 "nbformat_minor": 4
}
