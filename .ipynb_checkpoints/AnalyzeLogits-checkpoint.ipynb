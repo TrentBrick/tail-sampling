{
 "cells": [
  {
   "cell_type": "code",
   "execution_count": 1,
   "metadata": {},
   "outputs": [],
   "source": [
    "import pickle\n",
    "import gzip\n",
    "import numpy as np"
   ]
  },
  {
   "cell_type": "code",
   "execution_count": 2,
   "metadata": {},
   "outputs": [
    {
     "data": {
      "text/plain": [
       "\"vals_dict = {'tfs':[None, 0.01, 0.05, 0.1, 0.5, 0.75 ],\\n'n': [0.1, 0.25, 0.5, 0.75, 0.9], 'k':[1,10,40,200]  }\\n\""
      ]
     },
     "execution_count": 2,
     "metadata": {},
     "output_type": "execute_result"
    }
   ],
   "source": [
    "# Looking at the logits that are outputted and analyzing them. \n",
    "\n",
    "prompt_wanted = 78\n",
    "\n",
    "prompt_length = 100\n",
    "\n",
    "vals_dict = {'tfs':[0.01 ] }\n",
    "\n",
    "'''vals_dict = {'tfs':[None, 0.01, 0.05, 0.1, 0.5, 0.75 ],\n",
    "'n': [0.1, 0.25, 0.5, 0.75, 0.9], 'k':[1,10,40,200]  }\n",
    "'''"
   ]
  },
  {
   "cell_type": "code",
   "execution_count": 3,
   "metadata": {},
   "outputs": [],
   "source": [
    "for key, params in vals_dict.items():\n",
    "    for par in params:\n",
    "        if par ==None:\n",
    "            par = \"None\"\n",
    "        all_logits = pickle.load( gzip.open('gpt-2_output/all_logits_'+key+'-sampling-type_'+str(par)+'-sampling-param_100-word-prompts_150-gen-length_100-number-of-prompts.pickle.gz', 'rb'))\n",
    "        text = pickle.load( gzip.open('gpt-2_output/all_text_'+key+'-sampling-type_'+str(par)+'-sampling-param_100-word-prompts_150-gen-length_100-number-of-prompts.pickle.gz', 'rb'))\n",
    "        rand_selects = pickle.load( gzip.open('gpt-2_output/prompt_rand_selections_'+key+'-sampling-type_'+str(par)+'-sampling-param_100-word-prompts_150-gen-length_100-number-of-prompts.pickle.gz', 'rb'))\n",
    "        break\n",
    "    break"
   ]
  },
  {
   "cell_type": "code",
   "execution_count": 4,
   "metadata": {},
   "outputs": [
    {
     "data": {
      "text/plain": [
       "array([ 5139,  3768,  3912, 14879,  4848, 13605,  7192,  4237, 11121,\n",
       "        1026,  8831,  8895,  9386,  8417, 10926, 12170,   689, 11198,\n",
       "        5558, 14495,  9743,  3571, 10490, 15136, 14165,  5939,  1996,\n",
       "        5117,  7427,  1754,  8566,  8908,  3902,  7495, 11357,  5927,\n",
       "       14523,  7528, 11829, 12279, 14369,  3906,  3151,  9904,  9827,\n",
       "       12211, 12933,  3498,  9235,  6581, 14304, 14487,  5428, 11345,\n",
       "        7185, 10007,  5472,  4487,   540, 11144,  7012,  4381, 12873,\n",
       "        7952,  2756, 11068, 15111,  6720, 10393,  3551, 14269, 12066,\n",
       "        2866, 10860,  7183, 11955, 13936,  7243, 14593,  9269,  3369,\n",
       "        9500,  2613,  1021,  3822,  7491,  9998,  6938,  1582,  7865,\n",
       "        2662,  9045,  1324, 11431,  9123, 11092,  2847, 13290,   653,\n",
       "        1838])"
      ]
     },
     "execution_count": 4,
     "metadata": {},
     "output_type": "execute_result"
    }
   ],
   "source": [
    "rand_selects"
   ]
  },
  {
   "cell_type": "code",
   "execution_count": 5,
   "metadata": {},
   "outputs": [
    {
     "data": {
      "text/plain": [
       "(25, 50257, 150)"
      ]
     },
     "execution_count": 5,
     "metadata": {},
     "output_type": "execute_result"
    }
   ],
   "source": [
    "all_logits[0].shape"
   ]
  },
  {
   "cell_type": "code",
   "execution_count": 6,
   "metadata": {},
   "outputs": [
    {
     "name": "stdout",
     "output_type": "stream",
     "text": [
      "3 3\n"
     ]
    },
    {
     "data": {
      "text/plain": [
       "\" look up at see the weapon, over me, his face covered in blood. I look not sure what to'm supposed to do. but I'm to keep my eyes on the weapon. I weapon is a large, black blue, with a black tip. I'm not sure what to do, but I try to keep my eyes on the weapon. I'm not sure what to do, but I try to keep my eyes on the weapon. I'm not sure what to do, but I try to keep my eyes on the weapon. I'm not sure what to do, but I try to keep my eyes on the weapon. I'm not sure what to do, but I try to keep my eyes on the weapon. I'm not\""
      ]
     },
     "execution_count": 6,
     "metadata": {},
     "output_type": "execute_result"
    }
   ],
   "source": [
    "# used to decode:\n",
    "batch_size = 25\n",
    "from decodeLogits import *\n",
    "batch = prompt_wanted//batch_size\n",
    "ind = prompt_wanted - batch*batch_size\n",
    "\n",
    "print(batch, ind)\n",
    "\n",
    "tokens = []\n",
    "for time_point in range(all_logits[0].shape[2]):\n",
    "    tokens.append(np.argmax(all_logits[batch][ind, :, time_point]))\n",
    "decoder_text(tokens)"
   ]
  },
  {
   "cell_type": "code",
   "execution_count": 7,
   "metadata": {},
   "outputs": [
    {
     "data": {
      "text/plain": [
       "(25, 250)"
      ]
     },
     "execution_count": 7,
     "metadata": {},
     "output_type": "execute_result"
    }
   ],
   "source": [
    "text[0].shape"
   ]
  },
  {
   "cell_type": "code",
   "execution_count": 8,
   "metadata": {},
   "outputs": [
    {
     "data": {
      "text/plain": [
       "[0]"
      ]
     },
     "execution_count": 8,
     "metadata": {},
     "output_type": "execute_result"
    }
   ],
   "source": [
    "\n",
    "\n",
    "import encoder\n",
    "model_name='345M'\n",
    "models_dir='../gpt-2/models'\n",
    "enc = encoder.get_encoder(model_name, models_dir)\n",
    "\n",
    "prompts=pd.read_csv('test_dataframe_500primer.csv')\n",
    "\n",
    "enc.encode('!')"
   ]
  },
  {
   "cell_type": "code",
   "execution_count": 9,
   "metadata": {},
   "outputs": [
    {
     "data": {
      "text/plain": [
       "14593"
      ]
     },
     "execution_count": 9,
     "metadata": {},
     "output_type": "execute_result"
    }
   ],
   "source": [
    "choose_prompt =rand_selects[prompt_wanted]\n",
    "choose_prompt"
   ]
  },
  {
   "cell_type": "code",
   "execution_count": 10,
   "metadata": {},
   "outputs": [
    {
     "data": {
      "text/plain": [
       "\"[WP] Write a story where the antagonist is doing something obviously horrible, but by the end of the story make me want to side with him over the good guy. \\n **BOOM** \\n \\n **CRASH** \\n \\n I fall hard on the pavement. Taking a few seconds, I scramble to my feet, coughing smoke out of my lungs. The weapon is a few feet away. It ’ s a large syringe filled with a purple liquid. I pick it up and keep running. Suddenly, I hear an explosion behind me. I can ’ t help but turn around. \\n \\n Cataclysm is floating through the street towards me, fire and smoke trailing in his path. He has a wicked smile on his face. He raises a hand at me, and a bolt of lightning travels right by me. I stumble backwards and turn down a side street. Luckily, I knew these roads like the back of my hand. \\n \\n I grew up here in Lower Echelon. It ’ s where the scum of humanity come to die. But it is my home, and I wouldn ’ t trade it for anything. I was left here for dead as a child, but I survived, even flourished. Over the years, Echelon grew, and so did the population. The buildings became closer and higher until you couldn ’ t see the sky anymore. It got so bad that the police had to develop special helicopters to drop down officers and reinforcements. But recently, they have n't been doing much, not with their hero Cataclysm cleaning up the streets. \\n \\n I dash into a close building, busting down the door. Inside, a family huddles around a TV. It ’ s a news coverage. My face is plastered on the screen with the words Nemona. I always hated that name. The family turns towards me and their faces fill with fear. They scream, and I run away. I ’ m never able to explain myself, the media has turned me into a heartless villain. I dash up nearby stairs and peer out a window. Cataclysm is floating in the middle of the street, spinning around, throwing fire at anything that moves. \\n \\n I check my syringe and open the window. The crackle of the fire hides the screeching hinges. I jump up onto the windowsill and steady my nerves. Then, I jump. \\n \\n As I ’ m falling, I recount our past battles. Hundreds of them, all failures for me. All of them ending in destruction apparently only I can see. This will be the end of it all. \\n \\n I collide with Cataclysm, forcing the needle into him, draining the syringe of fluid. We fall to the ground in a heap. I am the first to stand. Cataclysm next. He raises a hand at me, the wicked smile still on his face. \\n \\n “Goodbye, Nemona. ” \\n \\n The next few seconds go in slow motion. Fire forms at his fingertips and reaches towards me. But suddenly, the fire turns dark purple, and starts to recede into the hand. The veins on Cataclysms arm turn purple and bulge. The\""
      ]
     },
     "execution_count": 10,
     "metadata": {},
     "output_type": "execute_result"
    }
   ],
   "source": [
    "prompts.iloc[choose_prompt].Prompt"
   ]
  },
  {
   "cell_type": "code",
   "execution_count": 11,
   "metadata": {},
   "outputs": [
    {
     "data": {
      "text/plain": [
       "\"**BOOM** \\n \\n **CRASH** \\n \\n I fall hard on the pavement. Taking a few seconds, I scramble to my feet, coughing smoke out of my lungs. The weapon is a few feet away. It ’ s a large syringe filled with a purple liquid. I pick it up and keep running. Suddenly, I hear an explosion behind me. I can ’ t help but turn around. \\n \\n Cataclysm is floating through the street towards me, fire and smoke trailing in his path. He has a wicked smile on his face. He raises a hand at me, and a bolt of lightning travels right by me. I stumble backwards and turn down a side street. Luckily, I knew these roads like the back of my hand. \\n \\n I grew up here in Lower Echelon. It ’ s where the scum of humanity come to die. But it is my home, and I wouldn ’ t trade it for anything. I was left here for dead as a child, but I survived, even flourished. Over the years, Echelon grew, and so did the population. The buildings became closer and higher until you couldn ’ t see the sky anymore. It got so bad that the police had to develop special helicopters to drop down officers and reinforcements. But recently, they have n't been doing much, not with their hero Cataclysm cleaning up the streets. \\n \\n I dash into a close building, busting down the door. Inside, a family huddles around a TV. It ’ s a news coverage. My face is plastered on the screen with the words Nemona. I always hated that name. The family turns towards me and their faces fill with fear. They scream, and I run away. I ’ m never able to explain myself, the media has turned me into a heartless villain. I dash up nearby stairs and peer out a window. Cataclysm is floating in the middle of the street, spinning around, throwing fire at anything that moves. \\n \\n I check my syringe and open the window. The crackle of the fire hides the screeching hinges. I jump up onto the windowsill and steady my nerves. Then, I jump. \\n \\n As I ’ m falling, I recount our past battles. Hundreds of them, all failures for me. All of them ending in destruction apparently only I can see. This will be the end of it all. \\n \\n I collide with Cataclysm, forcing the needle into him, draining the syringe of fluid. We fall to the ground in a heap. I am the first to stand. Cataclysm next. He raises a hand at me, the wicked smile still on his face. \\n \\n “Goodbye, Nemona. ” \\n \\n The next few seconds go in slow motion. Fire forms at his fingertips and reaches towards me. But suddenly, the fire turns dark purple, and starts to recede into the hand. The veins on Cataclysms arm turn purple and bulge. The purple flames start to destroy him from the inside out. Time resumes, and I watch as Echelons hero turns to dust. \\n \\n A hand grabs me and forces me to the ground. \\n \\n“ You ’ re under arrest for the murder of Cataclysm, Echelon ’ s savior. You ’ re going to rot in prison forever. ” \\n \\n I ’ m loaded into a cage and hoisted up to a helicopter. As we fly away, I can see all of Echelon. It ’ s burning, fire on every street corner, destruction down every alley. I may have killed the savior of Echelon, but now the city will be truly safe. \\n \\n -- -- -- -- -- -- -- -- -- -- -- -- -- -- -- -- -- -- -- -- -- -- -- -- -- -- -- -- -- -- -- -- -- -- -- -- -- -- -- -- -- -- -- -- -- -- -- -- -- -- -- -- -- -- -- -- -- -- \\n \\n Hey everyone, About4001llamas here. I ’ m done with school for the year, so now I can write some more! I hope you enjoyed the story, and as always, you can check out /r/About4001llamas for more of my stories. Happy reading!\""
      ]
     },
     "execution_count": 11,
     "metadata": {},
     "output_type": "execute_result"
    }
   ],
   "source": [
    "prompts.iloc[choose_prompt].test_target"
   ]
  },
  {
   "cell_type": "code",
   "execution_count": 12,
   "metadata": {},
   "outputs": [],
   "source": [
    "prompt_target_encoded = enc.encode(prompts.iloc[choose_prompt].Prompt)\n",
    "target = prompt_target_encoded[prompt_length:] # encode and get the prompt length. The rest is the ground truth. \n"
   ]
  },
  {
   "cell_type": "code",
   "execution_count": 13,
   "metadata": {},
   "outputs": [
    {
     "data": {
      "text/plain": [
       "\" pick it up and keep running. Suddenly, I hear an explosion behind me. I can ’ t help but turn around. \\n \\n Cataclysm is floating through the street towards me, fire and smoke trailing in his path. He has a wicked smile on his face. He raises a hand at me, and a bolt of lightning travels right by me. I stumble backwards and turn down a side street. Luckily, I knew these roads like the back of my hand. \\n \\n I grew up here in Lower Echelon. It ’ s where the scum of humanity come to die. But it is my home, and I wouldn ’ t trade it for anything. I was left here for dead as a child, but I survived, even flourished. Over the years, Echelon grew, and so did the population. The buildings became closer and higher until you couldn ’ t see the sky anymore. It got so bad that the police had to develop special helicopters to drop down officers and reinforcements. But recently, they have n't been doing much, not with their hero Cataclysm cleaning up the streets. \\n \\n I dash into a close building, busting down the door. Inside, a family huddles around a TV. It ’ s a news coverage. My face is plastered on the screen with the words Nemona. I always hated that name. The family turns towards me and their faces fill with fear. They scream, and I run away. I ’ m never able to explain myself, the media has turned me into a heartless villain. I dash up nearby stairs and peer out a window. Cataclysm is floating in the middle of the street, spinning around, throwing fire at anything that moves. \\n \\n I check my syringe and open the window. The crackle of the fire hides the screeching hinges. I jump up onto the windowsill and steady my nerves. Then, I jump. \\n \\n As I ’ m falling, I recount our past battles. Hundreds of them, all failures for me. All of them ending in destruction apparently only I can see. This will be the end of it all. \\n \\n I collide with Cataclysm, forcing the needle into him, draining the syringe of fluid. We fall to the ground in a heap. I am the first to stand. Cataclysm next. He raises a hand at me, the wicked smile still on his face. \\n \\n “Goodbye, Nemona. ” \\n \\n The next few seconds go in slow motion. Fire forms at his fingertips and reaches towards me. But suddenly, the fire turns dark purple, and starts to recede into the hand. The veins on Cataclysms arm turn purple and bulge. The\""
      ]
     },
     "execution_count": 13,
     "metadata": {},
     "output_type": "execute_result"
    }
   ],
   "source": [
    "decoder_text(target)"
   ]
  },
  {
   "cell_type": "code",
   "execution_count": 14,
   "metadata": {},
   "outputs": [
    {
     "data": {
      "text/plain": [
       "[17080]"
      ]
     },
     "execution_count": 14,
     "metadata": {},
     "output_type": "execute_result"
    }
   ],
   "source": [
    "enc.encode('dist')"
   ]
  },
  {
   "cell_type": "code",
   "execution_count": 15,
   "metadata": {},
   "outputs": [
    {
     "data": {
      "text/plain": [
       "0.01"
      ]
     },
     "execution_count": 15,
     "metadata": {},
     "output_type": "execute_result"
    }
   ],
   "source": [
    "par"
   ]
  },
  {
   "cell_type": "code",
   "execution_count": 16,
   "metadata": {},
   "outputs": [
    {
     "name": "stdout",
     "output_type": "stream",
     "text": [
      "Prompt: \n",
      "\n",
      "[WP] Write a story where the antagonist is doing something obviously horrible, but by the end of the story make me want to side with him over the good guy. \n",
      " **BOOM** \n",
      " \n",
      " **CRASH** \n",
      " \n",
      " I fall hard on the pavement. Taking a few seconds, I scramble to my feet, coughing smoke out of my lungs. The weapon is a few feet away. It ’ s a large syringe filled with a purple liquid. I\n",
      "\n",
      " ====== \n",
      " \n",
      "Generation: \n",
      " \n",
      " look up to see the assailant standing over me, his face covered in blood. I'm not sure what I'm supposed to do, but I try to keep my eyes on the weapon. The weapon is a filthy, pale blue, with a black tip. I'm not sure what to do, but I try to keep my eyes on the weapon. I'm not sure what to do, but I try to keep my eyes on the weapon. I'm not sure what to do, but I try to keep my eyes on the weapon. I'm not sure what to do, but I try to keep my eyes on the weapon. I'm not sure what to do, but I try to keep my eyes on the weapon. I'm not\n",
      "======\n",
      "target word  pick\n",
      "tail value 1\n",
      "target index 34\n"
     ]
    },
    {
     "data": {
      "text/plain": [
       "<Figure size 640x480 with 1 Axes>"
      ]
     },
     "metadata": {},
     "output_type": "display_data"
    },
    {
     "data": {
      "text/plain": [
       "<Figure size 640x480 with 1 Axes>"
      ]
     },
     "metadata": {},
     "output_type": "display_data"
    },
    {
     "name": "stdout",
     "output_type": "stream",
     "text": [
      "=============\n",
      "target word  it\n",
      "tail value 3\n",
      "target index 7\n"
     ]
    },
    {
     "data": {
      "text/plain": [
       "<Figure size 640x480 with 1 Axes>"
      ]
     },
     "metadata": {},
     "output_type": "display_data"
    },
    {
     "data": {
      "text/plain": [
       "<Figure size 640x480 with 1 Axes>"
      ]
     },
     "metadata": {},
     "output_type": "display_data"
    },
    {
     "name": "stdout",
     "output_type": "stream",
     "text": [
      "=============\n",
      "target word  up\n",
      "tail value 3\n",
      "target index 40\n"
     ]
    },
    {
     "data": {
      "text/plain": [
       "<Figure size 640x480 with 1 Axes>"
      ]
     },
     "metadata": {},
     "output_type": "display_data"
    },
    {
     "data": {
      "text/plain": [
       "<Figure size 640x480 with 1 Axes>"
      ]
     },
     "metadata": {},
     "output_type": "display_data"
    },
    {
     "name": "stdout",
     "output_type": "stream",
     "text": [
      "=============\n",
      "target word  and\n",
      "tail value 1\n",
      "target index 204\n"
     ]
    },
    {
     "data": {
      "text/plain": [
       "<Figure size 640x480 with 1 Axes>"
      ]
     },
     "metadata": {},
     "output_type": "display_data"
    },
    {
     "data": {
      "text/plain": [
       "<Figure size 640x480 with 1 Axes>"
      ]
     },
     "metadata": {},
     "output_type": "display_data"
    },
    {
     "name": "stdout",
     "output_type": "stream",
     "text": [
      "=============\n",
      "target word  keep\n",
      "tail value 2\n",
      "target index 8787\n"
     ]
    },
    {
     "data": {
      "text/plain": [
       "<Figure size 640x480 with 1 Axes>"
      ]
     },
     "metadata": {},
     "output_type": "display_data"
    },
    {
     "data": {
      "text/plain": [
       "<Figure size 640x480 with 1 Axes>"
      ]
     },
     "metadata": {},
     "output_type": "display_data"
    },
    {
     "name": "stdout",
     "output_type": "stream",
     "text": [
      "=============\n",
      "target word  running\n",
      "tail value 50255\n",
      "target index 3492\n"
     ]
    },
    {
     "data": {
      "text/plain": [
       "<Figure size 640x480 with 1 Axes>"
      ]
     },
     "metadata": {},
     "output_type": "display_data"
    },
    {
     "data": {
      "text/plain": [
       "<Figure size 640x480 with 1 Axes>"
      ]
     },
     "metadata": {},
     "output_type": "display_data"
    },
    {
     "name": "stdout",
     "output_type": "stream",
     "text": [
      "=============\n",
      "target word .\n",
      "tail value 50255\n",
      "target index 10\n"
     ]
    },
    {
     "data": {
      "text/plain": [
       "<Figure size 640x480 with 1 Axes>"
      ]
     },
     "metadata": {},
     "output_type": "display_data"
    },
    {
     "data": {
      "text/plain": [
       "<Figure size 640x480 with 1 Axes>"
      ]
     },
     "metadata": {},
     "output_type": "display_data"
    },
    {
     "name": "stdout",
     "output_type": "stream",
     "text": [
      "=============\n",
      "target word  Suddenly\n",
      "tail value 2\n",
      "target index 9108\n"
     ]
    },
    {
     "data": {
      "text/plain": [
       "<Figure size 640x480 with 1 Axes>"
      ]
     },
     "metadata": {},
     "output_type": "display_data"
    },
    {
     "data": {
      "text/plain": [
       "<Figure size 640x480 with 1 Axes>"
      ]
     },
     "metadata": {},
     "output_type": "display_data"
    },
    {
     "name": "stdout",
     "output_type": "stream",
     "text": [
      "=============\n",
      "target word ,\n",
      "tail value 1\n",
      "target index 13\n"
     ]
    },
    {
     "data": {
      "text/plain": [
       "<Figure size 640x480 with 1 Axes>"
      ]
     },
     "metadata": {},
     "output_type": "display_data"
    },
    {
     "data": {
      "text/plain": [
       "<Figure size 640x480 with 1 Axes>"
      ]
     },
     "metadata": {},
     "output_type": "display_data"
    },
    {
     "name": "stdout",
     "output_type": "stream",
     "text": [
      "=============\n",
      "target word  I\n",
      "tail value 2\n",
      "target index 166\n"
     ]
    },
    {
     "data": {
      "text/plain": [
       "<Figure size 640x480 with 1 Axes>"
      ]
     },
     "metadata": {},
     "output_type": "display_data"
    },
    {
     "data": {
      "text/plain": [
       "<Figure size 640x480 with 1 Axes>"
      ]
     },
     "metadata": {},
     "output_type": "display_data"
    },
    {
     "name": "stdout",
     "output_type": "stream",
     "text": [
      "=============\n",
      "target word  hear\n",
      "tail value 1\n",
      "target index 6345\n"
     ]
    },
    {
     "data": {
      "text/plain": [
       "<Figure size 640x480 with 1 Axes>"
      ]
     },
     "metadata": {},
     "output_type": "display_data"
    },
    {
     "data": {
      "text/plain": [
       "<Figure size 640x480 with 1 Axes>"
      ]
     },
     "metadata": {},
     "output_type": "display_data"
    },
    {
     "name": "stdout",
     "output_type": "stream",
     "text": [
      "=============\n",
      "target word  an\n",
      "tail value 3\n",
      "target index 978\n"
     ]
    },
    {
     "data": {
      "text/plain": [
       "<Figure size 640x480 with 1 Axes>"
      ]
     },
     "metadata": {},
     "output_type": "display_data"
    },
    {
     "data": {
      "text/plain": [
       "<Figure size 640x480 with 1 Axes>"
      ]
     },
     "metadata": {},
     "output_type": "display_data"
    },
    {
     "name": "stdout",
     "output_type": "stream",
     "text": [
      "=============\n",
      "target word  explosion\n",
      "tail value 2\n",
      "target index 9237\n"
     ]
    },
    {
     "data": {
      "text/plain": [
       "<Figure size 640x480 with 1 Axes>"
      ]
     },
     "metadata": {},
     "output_type": "display_data"
    },
    {
     "data": {
      "text/plain": [
       "<Figure size 640x480 with 1 Axes>"
      ]
     },
     "metadata": {},
     "output_type": "display_data"
    },
    {
     "name": "stdout",
     "output_type": "stream",
     "text": [
      "=============\n",
      "target word  behind\n",
      "tail value 1\n",
      "target index 14\n"
     ]
    },
    {
     "data": {
      "text/plain": [
       "<Figure size 640x480 with 1 Axes>"
      ]
     },
     "metadata": {},
     "output_type": "display_data"
    },
    {
     "data": {
      "text/plain": [
       "<Figure size 640x480 with 1 Axes>"
      ]
     },
     "metadata": {},
     "output_type": "display_data"
    },
    {
     "name": "stdout",
     "output_type": "stream",
     "text": [
      "=============\n",
      "target word  me\n",
      "tail value 1\n",
      "target index 357\n"
     ]
    },
    {
     "data": {
      "text/plain": [
       "<Figure size 640x480 with 1 Axes>"
      ]
     },
     "metadata": {},
     "output_type": "display_data"
    },
    {
     "data": {
      "text/plain": [
       "<Figure size 640x480 with 1 Axes>"
      ]
     },
     "metadata": {},
     "output_type": "display_data"
    },
    {
     "name": "stdout",
     "output_type": "stream",
     "text": [
      "=============\n",
      "target word .\n",
      "tail value 1\n",
      "target index 0\n"
     ]
    },
    {
     "data": {
      "text/plain": [
       "<Figure size 640x480 with 1 Axes>"
      ]
     },
     "metadata": {},
     "output_type": "display_data"
    },
    {
     "data": {
      "text/plain": [
       "<Figure size 640x480 with 1 Axes>"
      ]
     },
     "metadata": {},
     "output_type": "display_data"
    },
    {
     "name": "stdout",
     "output_type": "stream",
     "text": [
      "=============\n",
      "target word  I\n",
      "tail value 2\n",
      "target index 0\n"
     ]
    },
    {
     "data": {
      "text/plain": [
       "<Figure size 640x480 with 1 Axes>"
      ]
     },
     "metadata": {},
     "output_type": "display_data"
    },
    {
     "data": {
      "text/plain": [
       "<Figure size 640x480 with 1 Axes>"
      ]
     },
     "metadata": {},
     "output_type": "display_data"
    },
    {
     "name": "stdout",
     "output_type": "stream",
     "text": [
      "=============\n",
      "target word  can\n",
      "tail value 2\n",
      "target index 2\n"
     ]
    },
    {
     "data": {
      "text/plain": [
       "<Figure size 640x480 with 1 Axes>"
      ]
     },
     "metadata": {},
     "output_type": "display_data"
    },
    {
     "data": {
      "text/plain": [
       "<Figure size 640x480 with 1 Axes>"
      ]
     },
     "metadata": {},
     "output_type": "display_data"
    },
    {
     "name": "stdout",
     "output_type": "stream",
     "text": [
      "=============\n",
      "target word  �\n",
      "tail value 1\n",
      "target index 545\n"
     ]
    },
    {
     "data": {
      "text/plain": [
       "<Figure size 640x480 with 1 Axes>"
      ]
     },
     "metadata": {},
     "output_type": "display_data"
    },
    {
     "data": {
      "text/plain": [
       "<Figure size 640x480 with 1 Axes>"
      ]
     },
     "metadata": {},
     "output_type": "display_data"
    },
    {
     "name": "stdout",
     "output_type": "stream",
     "text": [
      "=============\n",
      "target word �\n",
      "tail value 1\n",
      "target index 41993\n"
     ]
    },
    {
     "data": {
      "text/plain": [
       "<Figure size 640x480 with 1 Axes>"
      ]
     },
     "metadata": {},
     "output_type": "display_data"
    },
    {
     "data": {
      "text/plain": [
       "<Figure size 640x480 with 1 Axes>"
      ]
     },
     "metadata": {},
     "output_type": "display_data"
    },
    {
     "name": "stdout",
     "output_type": "stream",
     "text": [
      "=============\n",
      "target word  t\n",
      "tail value 2\n",
      "target index 382\n"
     ]
    },
    {
     "data": {
      "text/plain": [
       "<Figure size 640x480 with 1 Axes>"
      ]
     },
     "metadata": {},
     "output_type": "display_data"
    },
    {
     "data": {
      "text/plain": [
       "<Figure size 640x480 with 1 Axes>"
      ]
     },
     "metadata": {},
     "output_type": "display_data"
    },
    {
     "name": "stdout",
     "output_type": "stream",
     "text": [
      "=============\n",
      "target word  help\n",
      "tail value 3\n",
      "target index 729\n"
     ]
    },
    {
     "data": {
      "text/plain": [
       "<Figure size 640x480 with 1 Axes>"
      ]
     },
     "metadata": {},
     "output_type": "display_data"
    },
    {
     "data": {
      "text/plain": [
       "<Figure size 640x480 with 1 Axes>"
      ]
     },
     "metadata": {},
     "output_type": "display_data"
    },
    {
     "name": "stdout",
     "output_type": "stream",
     "text": [
      "=============\n",
      "target word  but\n",
      "tail value 2\n",
      "target index 563\n"
     ]
    },
    {
     "data": {
      "text/plain": [
       "<Figure size 640x480 with 1 Axes>"
      ]
     },
     "metadata": {},
     "output_type": "display_data"
    },
    {
     "data": {
      "text/plain": [
       "<Figure size 640x480 with 1 Axes>"
      ]
     },
     "metadata": {},
     "output_type": "display_data"
    },
    {
     "name": "stdout",
     "output_type": "stream",
     "text": [
      "=============\n",
      "target word  turn\n",
      "tail value 1\n",
      "target index 2417\n"
     ]
    },
    {
     "data": {
      "text/plain": [
       "<Figure size 640x480 with 1 Axes>"
      ]
     },
     "metadata": {},
     "output_type": "display_data"
    },
    {
     "data": {
      "text/plain": [
       "<Figure size 640x480 with 1 Axes>"
      ]
     },
     "metadata": {},
     "output_type": "display_data"
    },
    {
     "name": "stdout",
     "output_type": "stream",
     "text": [
      "=============\n",
      "target word  around\n",
      "tail value 1\n",
      "target index 457\n"
     ]
    },
    {
     "data": {
      "text/plain": [
       "<Figure size 640x480 with 1 Axes>"
      ]
     },
     "metadata": {},
     "output_type": "display_data"
    },
    {
     "data": {
      "text/plain": [
       "<Figure size 640x480 with 1 Axes>"
      ]
     },
     "metadata": {},
     "output_type": "display_data"
    },
    {
     "name": "stdout",
     "output_type": "stream",
     "text": [
      "=============\n",
      "target word .\n",
      "tail value 1\n",
      "target index 45\n"
     ]
    },
    {
     "data": {
      "text/plain": [
       "<Figure size 640x480 with 1 Axes>"
      ]
     },
     "metadata": {},
     "output_type": "display_data"
    },
    {
     "data": {
      "text/plain": [
       "<Figure size 640x480 with 1 Axes>"
      ]
     },
     "metadata": {},
     "output_type": "display_data"
    },
    {
     "name": "stdout",
     "output_type": "stream",
     "text": [
      "=============\n",
      "target word  \n",
      "tail value 2\n",
      "target index 79\n"
     ]
    },
    {
     "data": {
      "text/plain": [
       "<Figure size 640x480 with 1 Axes>"
      ]
     },
     "metadata": {},
     "output_type": "display_data"
    },
    {
     "data": {
      "text/plain": [
       "<Figure size 640x480 with 1 Axes>"
      ]
     },
     "metadata": {},
     "output_type": "display_data"
    },
    {
     "name": "stdout",
     "output_type": "stream",
     "text": [
      "=============\n",
      "target word \n",
      "\n",
      "tail value 1\n",
      "target index 253\n"
     ]
    },
    {
     "data": {
      "text/plain": [
       "<Figure size 640x480 with 1 Axes>"
      ]
     },
     "metadata": {},
     "output_type": "display_data"
    },
    {
     "data": {
      "text/plain": [
       "<Figure size 640x480 with 1 Axes>"
      ]
     },
     "metadata": {},
     "output_type": "display_data"
    },
    {
     "name": "stdout",
     "output_type": "stream",
     "text": [
      "=============\n",
      "target word  \n",
      "tail value 1\n",
      "target index 44\n"
     ]
    },
    {
     "data": {
      "text/plain": [
       "<Figure size 640x480 with 1 Axes>"
      ]
     },
     "metadata": {},
     "output_type": "display_data"
    },
    {
     "data": {
      "text/plain": [
       "<Figure size 640x480 with 1 Axes>"
      ]
     },
     "metadata": {},
     "output_type": "display_data"
    },
    {
     "name": "stdout",
     "output_type": "stream",
     "text": [
      "=============\n",
      "target word \n",
      "\n",
      "tail value 3\n",
      "target index 819\n"
     ]
    },
    {
     "data": {
      "text/plain": [
       "<Figure size 640x480 with 1 Axes>"
      ]
     },
     "metadata": {},
     "output_type": "display_data"
    },
    {
     "data": {
      "text/plain": [
       "<Figure size 640x480 with 1 Axes>"
      ]
     },
     "metadata": {},
     "output_type": "display_data"
    },
    {
     "name": "stdout",
     "output_type": "stream",
     "text": [
      "=============\n",
      "target word  Cat\n",
      "tail value 1\n",
      "target index 12449\n"
     ]
    },
    {
     "data": {
      "text/plain": [
       "<Figure size 640x480 with 1 Axes>"
      ]
     },
     "metadata": {},
     "output_type": "display_data"
    },
    {
     "data": {
      "text/plain": [
       "<Figure size 640x480 with 1 Axes>"
      ]
     },
     "metadata": {},
     "output_type": "display_data"
    },
    {
     "name": "stdout",
     "output_type": "stream",
     "text": [
      "=============\n",
      "target word aclysm\n",
      "tail value 4\n",
      "target index 43534\n"
     ]
    },
    {
     "data": {
      "text/plain": [
       "<Figure size 640x480 with 1 Axes>"
      ]
     },
     "metadata": {},
     "output_type": "display_data"
    },
    {
     "data": {
      "text/plain": [
       "<Figure size 640x480 with 1 Axes>"
      ]
     },
     "metadata": {},
     "output_type": "display_data"
    },
    {
     "name": "stdout",
     "output_type": "stream",
     "text": [
      "=============\n",
      "target word  is\n",
      "tail value 1\n",
      "target index 1056\n"
     ]
    },
    {
     "data": {
      "text/plain": [
       "<Figure size 640x480 with 1 Axes>"
      ]
     },
     "metadata": {},
     "output_type": "display_data"
    },
    {
     "data": {
      "text/plain": [
       "<Figure size 640x480 with 1 Axes>"
      ]
     },
     "metadata": {},
     "output_type": "display_data"
    },
    {
     "name": "stdout",
     "output_type": "stream",
     "text": [
      "=============\n",
      "target word  floating\n",
      "tail value 2\n",
      "target index 2579\n"
     ]
    },
    {
     "data": {
      "text/plain": [
       "<Figure size 640x480 with 1 Axes>"
      ]
     },
     "metadata": {},
     "output_type": "display_data"
    },
    {
     "data": {
      "text/plain": [
       "<Figure size 640x480 with 1 Axes>"
      ]
     },
     "metadata": {},
     "output_type": "display_data"
    },
    {
     "name": "stdout",
     "output_type": "stream",
     "text": [
      "=============\n",
      "target word  through\n",
      "tail value 2\n",
      "target index 143\n"
     ]
    },
    {
     "data": {
      "text/plain": [
       "<Figure size 640x480 with 1 Axes>"
      ]
     },
     "metadata": {},
     "output_type": "display_data"
    },
    {
     "data": {
      "text/plain": [
       "<Figure size 640x480 with 1 Axes>"
      ]
     },
     "metadata": {},
     "output_type": "display_data"
    },
    {
     "name": "stdout",
     "output_type": "stream",
     "text": [
      "=============\n",
      "target word  the\n",
      "tail value 1\n",
      "target index 0\n"
     ]
    },
    {
     "data": {
      "text/plain": [
       "<Figure size 640x480 with 1 Axes>"
      ]
     },
     "metadata": {},
     "output_type": "display_data"
    },
    {
     "data": {
      "text/plain": [
       "<Figure size 640x480 with 1 Axes>"
      ]
     },
     "metadata": {},
     "output_type": "display_data"
    },
    {
     "name": "stdout",
     "output_type": "stream",
     "text": [
      "=============\n",
      "target word  street\n",
      "tail value 1\n",
      "target index 9\n"
     ]
    },
    {
     "data": {
      "text/plain": [
       "<Figure size 640x480 with 1 Axes>"
      ]
     },
     "metadata": {},
     "output_type": "display_data"
    },
    {
     "data": {
      "text/plain": [
       "<Figure size 640x480 with 1 Axes>"
      ]
     },
     "metadata": {},
     "output_type": "display_data"
    },
    {
     "name": "stdout",
     "output_type": "stream",
     "text": [
      "=============\n",
      "target word  towards\n",
      "tail value 1\n",
      "target index 100\n"
     ]
    },
    {
     "data": {
      "text/plain": [
       "<Figure size 640x480 with 1 Axes>"
      ]
     },
     "metadata": {},
     "output_type": "display_data"
    },
    {
     "data": {
      "text/plain": [
       "<Figure size 640x480 with 1 Axes>"
      ]
     },
     "metadata": {},
     "output_type": "display_data"
    },
    {
     "name": "stdout",
     "output_type": "stream",
     "text": [
      "=============\n",
      "target word  me\n",
      "tail value 2\n",
      "target index 3055\n"
     ]
    },
    {
     "data": {
      "text/plain": [
       "<Figure size 640x480 with 1 Axes>"
      ]
     },
     "metadata": {},
     "output_type": "display_data"
    },
    {
     "data": {
      "text/plain": [
       "<Figure size 640x480 with 1 Axes>"
      ]
     },
     "metadata": {},
     "output_type": "display_data"
    },
    {
     "name": "stdout",
     "output_type": "stream",
     "text": [
      "=============\n",
      "target word ,\n",
      "tail value 1\n",
      "target index 484\n"
     ]
    },
    {
     "data": {
      "text/plain": [
       "<Figure size 640x480 with 1 Axes>"
      ]
     },
     "metadata": {},
     "output_type": "display_data"
    },
    {
     "data": {
      "text/plain": [
       "<Figure size 640x480 with 1 Axes>"
      ]
     },
     "metadata": {},
     "output_type": "display_data"
    },
    {
     "name": "stdout",
     "output_type": "stream",
     "text": [
      "=============\n",
      "target word  fire\n",
      "tail value 1\n",
      "target index 1745\n"
     ]
    },
    {
     "data": {
      "text/plain": [
       "<Figure size 640x480 with 1 Axes>"
      ]
     },
     "metadata": {},
     "output_type": "display_data"
    },
    {
     "data": {
      "text/plain": [
       "<Figure size 640x480 with 1 Axes>"
      ]
     },
     "metadata": {},
     "output_type": "display_data"
    },
    {
     "name": "stdout",
     "output_type": "stream",
     "text": [
      "=============\n",
      "target word  and\n",
      "tail value 1\n",
      "target index 371\n"
     ]
    },
    {
     "data": {
      "text/plain": [
       "<Figure size 640x480 with 1 Axes>"
      ]
     },
     "metadata": {},
     "output_type": "display_data"
    },
    {
     "data": {
      "text/plain": [
       "<Figure size 640x480 with 1 Axes>"
      ]
     },
     "metadata": {},
     "output_type": "display_data"
    },
    {
     "name": "stdout",
     "output_type": "stream",
     "text": [
      "=============\n",
      "target word  smoke\n",
      "tail value 50255\n",
      "target index 726\n"
     ]
    },
    {
     "data": {
      "text/plain": [
       "<Figure size 640x480 with 1 Axes>"
      ]
     },
     "metadata": {},
     "output_type": "display_data"
    },
    {
     "data": {
      "text/plain": [
       "<Figure size 640x480 with 1 Axes>"
      ]
     },
     "metadata": {},
     "output_type": "display_data"
    },
    {
     "name": "stdout",
     "output_type": "stream",
     "text": [
      "=============\n",
      "target word  trailing\n",
      "tail value 2\n",
      "target index 12106\n"
     ]
    },
    {
     "data": {
      "text/plain": [
       "<Figure size 640x480 with 1 Axes>"
      ]
     },
     "metadata": {},
     "output_type": "display_data"
    },
    {
     "data": {
      "text/plain": [
       "<Figure size 640x480 with 1 Axes>"
      ]
     },
     "metadata": {},
     "output_type": "display_data"
    },
    {
     "name": "stdout",
     "output_type": "stream",
     "text": [
      "=============\n",
      "target word  in\n",
      "tail value 50255\n",
      "target index 312\n"
     ]
    },
    {
     "data": {
      "text/plain": [
       "<Figure size 640x480 with 1 Axes>"
      ]
     },
     "metadata": {},
     "output_type": "display_data"
    },
    {
     "data": {
      "text/plain": [
       "<Figure size 640x480 with 1 Axes>"
      ]
     },
     "metadata": {},
     "output_type": "display_data"
    },
    {
     "name": "stdout",
     "output_type": "stream",
     "text": [
      "=============\n",
      "target word  his\n",
      "tail value 4\n",
      "target index 2005\n"
     ]
    },
    {
     "data": {
      "text/plain": [
       "<Figure size 640x480 with 1 Axes>"
      ]
     },
     "metadata": {},
     "output_type": "display_data"
    },
    {
     "data": {
      "text/plain": [
       "<Figure size 640x480 with 1 Axes>"
      ]
     },
     "metadata": {},
     "output_type": "display_data"
    },
    {
     "name": "stdout",
     "output_type": "stream",
     "text": [
      "=============\n",
      "target word  path\n",
      "tail value 2\n",
      "target index 1225\n"
     ]
    },
    {
     "data": {
      "text/plain": [
       "<Figure size 640x480 with 1 Axes>"
      ]
     },
     "metadata": {},
     "output_type": "display_data"
    },
    {
     "data": {
      "text/plain": [
       "<Figure size 640x480 with 1 Axes>"
      ]
     },
     "metadata": {},
     "output_type": "display_data"
    },
    {
     "name": "stdout",
     "output_type": "stream",
     "text": [
      "=============\n",
      "target word .\n",
      "tail value 1\n",
      "target index 312\n"
     ]
    },
    {
     "data": {
      "text/plain": [
       "<Figure size 640x480 with 1 Axes>"
      ]
     },
     "metadata": {},
     "output_type": "display_data"
    },
    {
     "data": {
      "text/plain": [
       "<Figure size 640x480 with 1 Axes>"
      ]
     },
     "metadata": {},
     "output_type": "display_data"
    },
    {
     "name": "stdout",
     "output_type": "stream",
     "text": [
      "=============\n",
      "target word  He\n",
      "tail value 1\n",
      "target index 6861\n"
     ]
    },
    {
     "data": {
      "text/plain": [
       "<Figure size 640x480 with 1 Axes>"
      ]
     },
     "metadata": {},
     "output_type": "display_data"
    },
    {
     "data": {
      "text/plain": [
       "<Figure size 640x480 with 1 Axes>"
      ]
     },
     "metadata": {},
     "output_type": "display_data"
    },
    {
     "name": "stdout",
     "output_type": "stream",
     "text": [
      "=============\n",
      "target word  has\n",
      "tail value 1\n",
      "target index 4143\n"
     ]
    },
    {
     "data": {
      "text/plain": [
       "<Figure size 640x480 with 1 Axes>"
      ]
     },
     "metadata": {},
     "output_type": "display_data"
    },
    {
     "data": {
      "text/plain": [
       "<Figure size 640x480 with 1 Axes>"
      ]
     },
     "metadata": {},
     "output_type": "display_data"
    },
    {
     "name": "stdout",
     "output_type": "stream",
     "text": [
      "=============\n"
     ]
    }
   ],
   "source": [
    "import matplotlib.pyplot as plt\n",
    "from scipy.special import softmax\n",
    "import pandas as pd    \n",
    "import torch\n",
    "\n",
    "#time_point = 1\n",
    "plot_window_lim =30\n",
    "\n",
    "def ema_eff(alpha,  vals, perc_acc=0.99 ):\n",
    "    k = int(np.log(1-perc_acc)/np.log(1-alpha)) # this should be calculated at the start not in the loop!! \n",
    "    \n",
    "    if k>vals.shape[0]: # CHECK THIS SHAPE MEASUREMENT\n",
    "        k = vals.shape[0]\n",
    "    \n",
    "    # have something to check the tail id is less than the window size. \n",
    "    \n",
    "    window_weights = (1-alpha)**np.arange(0,k)\n",
    "    p = k-1\n",
    "    # THIS CAN BE DONE IN A BATCH V EFFICIENTLY\n",
    "    out = torch.nn.functional.conv1d(torch.from_numpy(vals).unsqueeze(0).unsqueeze(1).double(),torch.from_numpy(window_weights).unsqueeze(0).unsqueeze(1), padding=p )\n",
    "    out = alpha*out[0,0,p:]\n",
    "    #print(out.shape)\n",
    "    \n",
    "    return out.numpy()\n",
    "\n",
    "\n",
    "print('Prompt: \\n')\n",
    "print(decoder_text( text[batch][ind, :prompt_length]))\n",
    "print('\\n ====== \\n ')\n",
    "print('Generation: \\n ')\n",
    "gen = text[batch][ind, prompt_length:]\n",
    "print(decoder_text( text[batch][ind, prompt_length:]))\n",
    "print('======')\n",
    "\n",
    "target_prob_assigned = []\n",
    "\n",
    "for time_point in range(0,50):\n",
    "\n",
    "\n",
    "    sps = softmax(-np.sort(-all_logits[batch][ind, :, time_point]))\n",
    "    indices = np.argsort(-all_logits[batch][ind, :, time_point])\n",
    "\n",
    "    if key == 'tfs':\n",
    "        if par != 'None':\n",
    "            sps_tfs = ema_eff(par, sps, perc_acc=0.99 )\n",
    "            sps_round= np.around(sps_tfs,2) # ROUNDING UP THE SPS!\n",
    "\n",
    "        else: \n",
    "            sps_round= np.around(sps,2) # ROUNDING UP THE SPS!\n",
    "\n",
    "        first = sps_round[1:] - sps_round[:-1]\n",
    "        second = first[1:] - first[:-1]\n",
    "        tail_id = second.shape[0]-np.argmax(np.flip(second)>0.001)    \n",
    "    \n",
    "    target_plot_index = np.where(target[time_point]==indices)[0][0] # this is the position in the indices where the word matches. \n",
    "    \n",
    "    print('target word', decoder_text([target[time_point]]))\n",
    "\n",
    "    #finding the tail without any alpha first\n",
    "    ids_above_tail = indices[:tail_id] # use these indices to determine what the words are and their probabilities. \n",
    "    tail_free_probs = softmax(all_logits[batch][ind, ids_above_tail, time_point]) # it is already applying the softmax too\n",
    "    \n",
    "    target_prob_assigned.append(sps[target_plot_index]) # storing the probability given to the real word. \n",
    "\n",
    "    print('tail value', tail_id)\n",
    "    print('target index', target_plot_index)\n",
    "\n",
    "    plt.plot(np.arange(sps.shape[0]),sps)\n",
    "    plt.xlim([0,plot_window_lim])\n",
    "    plt.axvline(tail_id, color='purple', linestyle='solid')\n",
    "    plt.axvline(target_plot_index, color='yellow', linestyle='dotted')\n",
    "    plt.xticks(np.arange(plot_window_lim), decoder_text(indices[:plot_window_lim]).split(' ')[1:], rotation='vertical')\n",
    "    plt.title('Tail Free Thresh')\n",
    "    plt.show()\n",
    "\n",
    "    plt.plot(np.arange(tail_free_probs.shape[0]), tail_free_probs)\n",
    "    plt.title('Tail Free Probs')\n",
    "    if target_plot_index in ids_above_tail:\n",
    "        plt.axvline(target_plot_index, color='yellow', linestyle='dotted')\n",
    "    plt.xticks(np.arange(tail_free_probs.shape[0]), decoder_text(ids_above_tail).split(' ')[1:], rotation='vertical')\n",
    "    plt.show()\n",
    "\n",
    "    #print('words in order',decoder_text(ids_above_tail))\n",
    "\n",
    "    print('=============')"
   ]
  },
  {
   "cell_type": "markdown",
   "metadata": {},
   "source": [
    "## Getting the probability assigned to the ground truth over time. "
   ]
  },
  {
   "cell_type": "code",
   "execution_count": 17,
   "metadata": {},
   "outputs": [
    {
     "data": {
      "text/plain": [
       "49"
      ]
     },
     "execution_count": 17,
     "metadata": {},
     "output_type": "execute_result"
    }
   ],
   "source": [
    "time_point"
   ]
  },
  {
   "cell_type": "code",
   "execution_count": 18,
   "metadata": {},
   "outputs": [
    {
     "data": {
      "text/plain": [
       "<function all(iterable, /)>"
      ]
     },
     "execution_count": 18,
     "metadata": {},
     "output_type": "execute_result"
    }
   ],
   "source": [
    "all"
   ]
  },
  {
   "cell_type": "code",
   "execution_count": 19,
   "metadata": {},
   "outputs": [
    {
     "data": {
      "text/plain": [
       "(50257,)"
      ]
     },
     "execution_count": 19,
     "metadata": {},
     "output_type": "execute_result"
    }
   ],
   "source": [
    "all_logits[batch][ind, :, time_point].shape"
   ]
  },
  {
   "cell_type": "code",
   "execution_count": 20,
   "metadata": {},
   "outputs": [
    {
     "data": {
      "text/plain": [
       "'[WP] Write a story where the antagonist is doing something obviously horrible, but by the end of the story make me want to side with him over the good guy.'"
      ]
     },
     "execution_count": 20,
     "metadata": {},
     "output_type": "execute_result"
    }
   ],
   "source": [
    "prompts.iloc[choose_prompt].test_source"
   ]
  },
  {
   "cell_type": "code",
   "execution_count": 21,
   "metadata": {},
   "outputs": [
    {
     "data": {
      "text/plain": [
       "716"
      ]
     },
     "execution_count": 21,
     "metadata": {},
     "output_type": "execute_result"
    }
   ],
   "source": [
    "len(prompts.iloc[choose_prompt].test_target.split(' '))"
   ]
  },
  {
   "cell_type": "code",
   "execution_count": 22,
   "metadata": {},
   "outputs": [
    {
     "data": {
      "text/plain": [
       "531"
      ]
     },
     "execution_count": 22,
     "metadata": {},
     "output_type": "execute_result"
    }
   ],
   "source": [
    "len(prompts.iloc[choose_prompt].Prompt.split(' '))"
   ]
  },
  {
   "cell_type": "code",
   "execution_count": 23,
   "metadata": {},
   "outputs": [
    {
     "data": {
      "text/plain": [
       "0.00026495804"
      ]
     },
     "execution_count": 23,
     "metadata": {},
     "output_type": "execute_result"
    }
   ],
   "source": [
    "sps[target[time_point]]"
   ]
  },
  {
   "cell_type": "code",
   "execution_count": 24,
   "metadata": {},
   "outputs": [
    {
     "name": "stdout",
     "output_type": "stream",
     "text": [
      "Key is: tfs\n",
      "opening file: gpt-2_output/all_logits_tfs-sampling-type_None-sampling-param_100-word-prompts_150-gen-length_100-number-of-prompts.pickle.gz\n",
      "opening file: gpt-2_output/all_logits_tfs-sampling-type_0.01-sampling-param_100-word-prompts_150-gen-length_100-number-of-prompts.pickle.gz\n",
      "opening file: gpt-2_output/all_logits_tfs-sampling-type_0.05-sampling-param_100-word-prompts_150-gen-length_100-number-of-prompts.pickle.gz\n",
      "opening file: gpt-2_output/all_logits_tfs-sampling-type_0.1-sampling-param_100-word-prompts_150-gen-length_100-number-of-prompts.pickle.gz\n",
      "opening file: gpt-2_output/all_logits_tfs-sampling-type_0.5-sampling-param_100-word-prompts_150-gen-length_100-number-of-prompts.pickle.gz\n",
      "opening file: gpt-2_output/all_logits_tfs-sampling-type_0.75-sampling-param_100-word-prompts_150-gen-length_100-number-of-prompts.pickle.gz\n",
      "Key is: n\n",
      "opening file: gpt-2_output/all_logits_n-sampling-type_0.1-sampling-param_100-word-prompts_150-gen-length_100-number-of-prompts.pickle.gz\n",
      "opening file: gpt-2_output/all_logits_n-sampling-type_0.25-sampling-param_100-word-prompts_150-gen-length_100-number-of-prompts.pickle.gz\n",
      "opening file: gpt-2_output/all_logits_n-sampling-type_0.5-sampling-param_100-word-prompts_150-gen-length_100-number-of-prompts.pickle.gz\n",
      "opening file: gpt-2_output/all_logits_n-sampling-type_0.75-sampling-param_100-word-prompts_150-gen-length_100-number-of-prompts.pickle.gz\n",
      "opening file: gpt-2_output/all_logits_n-sampling-type_0.9-sampling-param_100-word-prompts_150-gen-length_100-number-of-prompts.pickle.gz\n",
      "Key is: k\n",
      "opening file: gpt-2_output/all_logits_k-sampling-type_1-sampling-param_100-word-prompts_150-gen-length_100-number-of-prompts.pickle.gz\n",
      "opening file: gpt-2_output/all_logits_k-sampling-type_10-sampling-param_100-word-prompts_150-gen-length_100-number-of-prompts.pickle.gz\n",
      "opening file: gpt-2_output/all_logits_k-sampling-type_40-sampling-param_100-word-prompts_150-gen-length_100-number-of-prompts.pickle.gz\n",
      "opening file: gpt-2_output/all_logits_k-sampling-type_200-sampling-param_100-word-prompts_150-gen-length_100-number-of-prompts.pickle.gz\n"
     ]
    }
   ],
   "source": [
    "del all_logits\n",
    "\n",
    "import matplotlib.pyplot as plt\n",
    "from scipy.special import softmax\n",
    "import pandas as pd    \n",
    "import torch\n",
    "\n",
    "num_samples = 100\n",
    "batch_size = 25\n",
    "num_batches = num_samples//batch_size\n",
    "\n",
    "ground_truth_probs = dict()\n",
    "\n",
    "vals_dict = {'tfs':[None, 0.01, 0.05, 0.1, 0.5, 0.75 ],\n",
    "'n': [0.1, 0.25, 0.5, 0.75, 0.9], 'k':[1,10,40,200]  }\n",
    "\n",
    "for key, params in vals_dict.items():\n",
    "    print('Key is:', key)\n",
    "    for par in params:\n",
    "        if par ==None:\n",
    "            par = \"None\"\n",
    "        print('opening file:', 'gpt-2_output/all_logits_'+key+'-sampling-type_'+str(par)+'-sampling-param_100-word-prompts_150-gen-length_100-number-of-prompts.pickle.gz')\n",
    "        all_logits = pickle.load( gzip.open('gpt-2_output/all_logits_'+key+'-sampling-type_'+str(par)+'-sampling-param_100-word-prompts_150-gen-length_100-number-of-prompts.pickle.gz', 'rb'))\n",
    "        text = pickle.load( gzip.open('gpt-2_output/all_text_'+key+'-sampling-type_'+str(par)+'-sampling-param_100-word-prompts_150-gen-length_100-number-of-prompts.pickle.gz', 'rb'))\n",
    "        #rand_selects = pickle.load( gzip.open('gpt-2_output/prompt_rand_selections_'+key+'-sampling-type_'+str(par)+'-sampling-param_100-word-prompts_150-gen-length_100-number-of-prompts.pickle.gz', 'rb'))\n",
    "\n",
    "        for batch in range(num_batches):\n",
    "            #for p_ind in range(batch*batch_size, (batch*batch_size)+batch_size ):\n",
    "            for ind in range(0,batch_size):\n",
    "                \n",
    "                p_ind = ind+(batch_size*batch)\n",
    "\n",
    "                choose_prompt =rand_selects[p_ind]\n",
    "                prompt_target_encoded = enc.encode(prompts.iloc[choose_prompt].Prompt)\n",
    "                target = prompt_target_encoded[prompt_length:] # encode and get the prompt length. The rest is the ground truth. \n",
    "\n",
    "                if len(target) < all_logits[0].shape[2]:\n",
    "                    #print('skipping as ground truth is too short.')\n",
    "                    continue\n",
    "\n",
    "                target_prob_assigned = []\n",
    "\n",
    "                for time_point in range(0,all_logits[0].shape[2]):\n",
    "                    #print(time_point)\n",
    "\n",
    "                    sps = softmax(all_logits[batch][ind, :, time_point])\n",
    "\n",
    "                    #target_plot_index = sps[target[time_point]] #np.where(target[time_point]==indices)[0][0] # this is the position in the indices where the word matches.\n",
    "\n",
    "                    target_prob_assigned.append(sps[target[time_point]])\n",
    "\n",
    "                ground_truth_probs[key+'-sampling-type_'+str(par)+'prompt_'+str(p_ind)] = target_prob_assigned\n",
    "\n",
    "\n",
    "\n"
   ]
  },
  {
   "cell_type": "code",
   "execution_count": 25,
   "metadata": {},
   "outputs": [
    {
     "name": "stdout",
     "output_type": "stream",
     "text": [
      "Key is: tfs\n",
      "tfs-sampling-type_None_prompt\n",
      "=======\n",
      "tfs-sampling-type_0.01_prompt\n",
      "=======\n",
      "tfs-sampling-type_0.05_prompt\n",
      "=======\n",
      "tfs-sampling-type_0.1_prompt\n",
      "=======\n",
      "tfs-sampling-type_0.5_prompt\n",
      "=======\n",
      "tfs-sampling-type_0.75_prompt\n",
      "=======\n",
      "Key is: n\n",
      "n-sampling-type_0.1_prompt\n",
      "=======\n",
      "n-sampling-type_0.25_prompt\n",
      "=======\n",
      "n-sampling-type_0.5_prompt\n",
      "=======\n",
      "n-sampling-type_0.75_prompt\n",
      "=======\n",
      "n-sampling-type_0.9_prompt\n",
      "=======\n",
      "Key is: k\n",
      "k-sampling-type_1_prompt\n"
     ]
    },
    {
     "data": {
      "image/png": "[encoded data removed]",
      "text/plain": [
       "<Figure size 432x288 with 1 Axes>"
      ]
     },
     "metadata": {
      "needs_background": "light"
     },
     "output_type": "display_data"
    },
    {
     "data": {
      "image/png": "[encoded data removed]",
      "text/plain": [
       "<Figure size 432x288 with 1 Axes>"
      ]
     },
     "metadata": {
      "needs_background": "light"
     },
     "output_type": "display_data"
    },
    {
     "name": "stdout",
     "output_type": "stream",
     "text": [
      "=======\n",
      "k-sampling-type_10_prompt\n",
      "=======\n",
      "k-sampling-type_40_prompt\n",
      "=======\n",
      "k-sampling-type_200_prompt\n",
      "=======\n"
     ]
    }
   ],
   "source": [
    "global_mean = dict()\n",
    "for key, params in vals_dict.items():\n",
    "    print('Key is:', key)\n",
    "    for par in params:\n",
    "        print(key+'-sampling-type_'+str(par)+'_prompt')\n",
    "        vals_to_plot = []\n",
    "        for p_ind in range(num_samples):\n",
    "            \n",
    "            try:\n",
    "                vals_to_plot.append(ground_truth_probs[key+'-sampling-type_'+str(par)+'prompt_'+str(p_ind)])\n",
    "            except:\n",
    "                pass\n",
    "                #print('couldnt load in as not here.')\n",
    "        vals_to_plot = np.asarray(vals_to_plot)\n",
    "        \n",
    "        if key == \"k\" and str(par)=='1':\n",
    "            plt.plot(vals_to_plot.T)\n",
    "            plt.show()\n",
    "            plt.plot(vals_to_plot.mean(axis=0))\n",
    "            plt.show()\n",
    "        \n",
    "        global_mean[key+'-sampling-type_'+str(par)+'_prompt'] = vals_to_plot.mean() \n",
    "        print('=======')"
   ]
  },
  {
   "cell_type": "code",
   "execution_count": 26,
   "metadata": {},
   "outputs": [],
   "source": [
    "pickle.dump(vals_dict, gzip.open('Probability_given_to_ground_truth_dict_July14.pickle', 'wb'))"
   ]
  },
  {
   "cell_type": "code",
   "execution_count": 27,
   "metadata": {},
   "outputs": [
    {
     "data": {
      "image/png": "[encoded data removed]",
      "text/plain": [
       "<Figure size 432x288 with 1 Axes>"
      ]
     },
     "metadata": {
      "needs_background": "light"
     },
     "output_type": "display_data"
    }
   ],
   "source": [
    "plt.bar(global_mean.keys(), global_mean.values())\n",
    "plt.xticks(rotation='vertical')\n",
    "plt.show()"
   ]
  },
  {
   "cell_type": "markdown",
   "metadata": {},
   "source": [
    "### I could also try to get a binary output for whether or not the true word was above the tail id."
   ]
  },
  {
   "cell_type": "markdown",
   "metadata": {},
   "source": [
    "# The different approaches tail slicers in rank order. Do this for the absolute cut off and also the % of the CDF taken!"
   ]
  },
  {
   "cell_type": "code",
   "execution_count": 28,
   "metadata": {},
   "outputs": [
    {
     "name": "stdout",
     "output_type": "stream",
     "text": [
      "Key is: n\n",
      "n-sampling-type_0.1\n",
      "index 0\n",
      "index 25\n",
      "index 50\n",
      "index 75\n",
      "n-sampling-type_0.25\n",
      "index 0\n",
      "index 25\n",
      "index 50\n",
      "index 75\n",
      "n-sampling-type_0.5\n",
      "index 0\n",
      "index 25\n",
      "index 50\n",
      "index 75\n",
      "n-sampling-type_0.75\n",
      "index 0\n",
      "index 25\n",
      "index 50\n",
      "index 75\n",
      "n-sampling-type_0.9\n",
      "index 0\n",
      "index 25\n",
      "index 50\n",
      "index 75\n",
      "Key is: k\n",
      "k-sampling-type_1\n",
      "index 0\n",
      "index 25\n",
      "index 50\n",
      "index 75\n",
      "k-sampling-type_10\n",
      "index 0\n",
      "index 25\n",
      "index 50\n",
      "index 75\n",
      "k-sampling-type_40\n",
      "index 0\n",
      "index 25\n",
      "index 50\n",
      "index 75\n",
      "k-sampling-type_200\n",
      "index 0\n",
      "index 25\n",
      "index 50\n",
      "index 75\n",
      "Key is: tfs\n",
      "tfs-sampling-type_None\n",
      "index 0\n",
      "index 25\n",
      "index 50\n",
      "index 75\n",
      "tfs-sampling-type_0.01\n",
      "index 0\n",
      "index 25\n",
      "index 50\n",
      "index 75\n",
      "tfs-sampling-type_0.05\n",
      "index 0\n",
      "index 25\n",
      "index 50\n",
      "index 75\n",
      "tfs-sampling-type_0.1\n",
      "index 0\n",
      "index 25\n",
      "index 50\n",
      "index 75\n",
      "tfs-sampling-type_0.5\n",
      "index 0\n",
      "index 25\n",
      "index 50\n",
      "index 75\n",
      "tfs-sampling-type_0.75\n",
      "index 0\n",
      "index 25\n",
      "index 50\n",
      "index 75\n"
     ]
    }
   ],
   "source": [
    "#del all_logits\n",
    "\n",
    "import matplotlib.pyplot as plt\n",
    "from scipy.special import softmax\n",
    "import pandas as pd    \n",
    "import numpy as np\n",
    "import torch\n",
    "\n",
    "num_samples = 100\n",
    "batch_size = 25\n",
    "num_batches = num_samples//batch_size\n",
    "\n",
    "vals_dict = {'n': [0.1, 0.25, 0.5, 0.75, 0.9], 'k':[1,10,40, 200],  'tfs':[None, 0.01, 0.05, 0.1, 0.5, 0.75 ]}\n",
    "\n",
    "def nucleus_calc(thresh, vals):\n",
    "    return np.argmax(np.cumsum(vals)>thresh)+1\n",
    "\n",
    "def ema_eff(alpha,  vals, perc_acc=0.99 ):\n",
    "    k = int(np.log(1-perc_acc)/np.log(1-alpha)) # this should be calculated at the start not in the loop!! \n",
    "    \n",
    "    if k>vals.shape[0]: # CHECK THIS SHAPE MEASUREMENT\n",
    "        k = vals.shape[0]\n",
    "    \n",
    "    # have something to check the tail id is less than the window size. \n",
    "    \n",
    "    window_weights = (1-alpha)**np.arange(0,k)\n",
    "    p = k-1\n",
    "    # THIS CAN BE DONE IN A BATCH V EFFICIENTLY\n",
    "    out = torch.nn.functional.conv1d(torch.from_numpy(vals).unsqueeze(0).unsqueeze(1).double(),torch.from_numpy(window_weights).unsqueeze(0).unsqueeze(1), padding=p )\n",
    "    out = alpha*out[0,0,p:]\n",
    "    #print(out.shape)\n",
    "    \n",
    "    return out.numpy()\n",
    "\n",
    "all_tail_ids = dict()\n",
    "all_tail_cdfs = dict()\n",
    "\n",
    "for key, params in vals_dict.items():\n",
    "    print('Key is:', key)\n",
    "    for par in params:\n",
    "        \n",
    "        print(key+'-sampling-type_'+str(par))\n",
    "        if par ==None:\n",
    "            par = \"None\"\n",
    "        all_logits = pickle.load( gzip.open('gpt-2_output/all_logits_'+key+'-sampling-type_'+str(par)+'-sampling-param_100-word-prompts_150-gen-length_100-number-of-prompts.pickle.gz', 'rb'))\n",
    "        #text = pickle.load( gzip.open('gpt-2_output/all_text_'+key+'-sampling-type_'+str(par)+'-sampling-param_100-word-prompts_150-gen-length_100-number-of-prompts.pickle.gz', 'rb'))\n",
    "        #rand_selects = pickle.load( gzip.open('gpt-2_output/prompt_rand_selections_'+key+'-sampling-type_'+str(par)+'-sampling-param_100-word-prompts_150-gen-length_100-number-of-prompts.pickle.gz', 'rb'))\n",
    "\n",
    "        temp_tail_cdfs = np.zeros([num_samples, all_logits[0].shape[2]])\n",
    "        temp_tail_ids = np.zeros([num_samples, all_logits[0].shape[2]])\n",
    "\n",
    "            \n",
    "        for batch in range(num_batches):\n",
    "        #for p_ind in range(batch*batch_size, (batch*batch_size)+batch_size ):\n",
    "            for ind in range(0,batch_size):\n",
    "\n",
    "                arr_ind = ind+(batch_size*batch)\n",
    "\n",
    "                if arr_ind%25 == 0:\n",
    "                    print('index', str(arr_ind))\n",
    "\n",
    "                for time_point in range(0,all_logits[0].shape[2]):\n",
    "\n",
    "                    sps = softmax(-np.sort(-all_logits[batch][ind, :, time_point]))\n",
    "\n",
    "                    if key == 'tfs':\n",
    "                        if par != 'None':\n",
    "                            sps_tfs = ema_eff(par, sps, perc_acc=0.99 )\n",
    "                            sps_round= np.around(sps_tfs,2) # ROUNDING UP THE SPS!\n",
    "                        \n",
    "                        else: \n",
    "                            sps_round= np.around(sps,2) # ROUNDING UP THE SPS!\n",
    "                        \n",
    "                        first = sps_round[1:] - sps_round[:-1]\n",
    "                        second = first[1:] - first[:-1]\n",
    "                        tail_id = second.shape[0]-np.argmax(np.flip(second)>0.001)\n",
    "     \n",
    "                    elif key=='k': \n",
    "                        tail_id = par\n",
    "                        \n",
    "                    elif key=='n':\n",
    "                        tail_id = nucleus_calc(par, sps)\n",
    "\n",
    "                    tail_cdf= np.sum(sps[:tail_id])\n",
    "\n",
    "                    temp_tail_ids[arr_ind, time_point] = tail_id\n",
    "                    temp_tail_cdfs[arr_ind, time_point] = tail_cdf\n",
    "                \n",
    "        all_tail_ids[key+'-sampling-type_'+str(par)] = temp_tail_ids\n",
    "        all_tail_cdfs[key+'-sampling-type_'+str(par)] = temp_tail_cdfs\n",
    "        "
   ]
  },
  {
   "cell_type": "code",
   "execution_count": 29,
   "metadata": {},
   "outputs": [],
   "source": [
    "pickle.dump(all_tail_ids, gzip.open('Tail_IDs_dict_July14.pickle', 'wb'))\n",
    "pickle.dump(all_tail_cdfs, gzip.open('Tail_CDFs_dict_July14.pickle', 'wb'))"
   ]
  },
  {
   "cell_type": "code",
   "execution_count": 30,
   "metadata": {},
   "outputs": [
    {
     "data": {
      "text/plain": [
       "\"all_tail_tfs_ids = pickle.load(gzip.open('Tail_IDs_TFS_dict_July14.pickle', 'rb'))\\nall_tail_tfs_cdfs = pickle.load(gzip.open('Tail_CDFs_TFS_dict_July14.pickle', 'rb'))\""
      ]
     },
     "execution_count": 30,
     "metadata": {},
     "output_type": "execute_result"
    }
   ],
   "source": [
    "'''all_tail_tfs_ids = pickle.load(gzip.open('Tail_IDs_TFS_dict_July14.pickle', 'rb'))\n",
    "all_tail_tfs_cdfs = pickle.load(gzip.open('Tail_CDFs_TFS_dict_July14.pickle', 'rb'))'''"
   ]
  },
  {
   "cell_type": "code",
   "execution_count": 31,
   "metadata": {},
   "outputs": [
    {
     "name": "stdout",
     "output_type": "stream",
     "text": [
      "Key is: n\n",
      "Key is: k\n",
      "Key is: tfs\n"
     ]
    }
   ],
   "source": [
    "# need to have them all compete against each other to see what is the highest in each of the positions. \n",
    "\n",
    "very_first = True\n",
    "\n",
    "#vals_dict = {'n': [0.1, 0.25, 0.5, 0.75, 0.9], 'k':[1,10,40,200]  } #'tfs':[None, 0.01, 0.05, 0.1, 0.5, 0.75 ]\n",
    "\n",
    "for key, params in vals_dict.items():\n",
    "    print('Key is:', key)\n",
    "    for par in params:\n",
    "        \n",
    "        flat_ids = all_tail_ids[key+'-sampling-type_'+str(par)].flatten()\n",
    "        flat_cdfs = all_tail_cdfs[key+'-sampling-type_'+str(par)].flatten()\n",
    "\n",
    "        if very_first ==True:\n",
    "\n",
    "            tail_id_df = pd.DataFrame({key+'-sampling-type_'+str(par):flat_ids})\n",
    "            tail_cdf_df = pd.DataFrame({key+'-sampling-type_'+str(par):flat_cdfs})\n",
    "            very_first=False\n",
    "\n",
    "        else:\n",
    "\n",
    "            tail_id_df[key+'-sampling-type_'+str(par)] = flat_ids\n",
    "            tail_cdf_df[key+'-sampling-type_'+str(par)] = flat_cdfs\n",
    "        "
   ]
  },
  {
   "cell_type": "code",
   "execution_count": 32,
   "metadata": {},
   "outputs": [
    {
     "data": {
      "text/plain": [
       "\"vals_dict = {'tfs':[None, 0.01, 0.05, 0.1, 0.5, 0.75 ]}\\n\\n\\nfor key, params in vals_dict.items():\\n    print('Key is:', key)\\n    for par in params:\\n\\n\\n        flat_ids = all_tail_tfs_ids[key+'-sampling-type_'+str(par)].flatten()\\n        flat_cdfs = all_tail_tfs_cdfs[key+'-sampling-type_'+str(par)].flatten()\\n\\n        \\n\\n        tail_id_df[key+'-sampling-type_'+str(par)] = flat_ids\\n        tail_cdf_df[key+'-sampling-type_'+str(par)] = flat_cdfs\""
      ]
     },
     "execution_count": 32,
     "metadata": {},
     "output_type": "execute_result"
    }
   ],
   "source": [
    "'''vals_dict = {'tfs':[None, 0.01, 0.05, 0.1, 0.5, 0.75 ]}\n",
    "\n",
    "\n",
    "for key, params in vals_dict.items():\n",
    "    print('Key is:', key)\n",
    "    for par in params:\n",
    "\n",
    "\n",
    "        flat_ids = all_tail_tfs_ids[key+'-sampling-type_'+str(par)].flatten()\n",
    "        flat_cdfs = all_tail_tfs_cdfs[key+'-sampling-type_'+str(par)].flatten()\n",
    "\n",
    "        \n",
    "\n",
    "        tail_id_df[key+'-sampling-type_'+str(par)] = flat_ids\n",
    "        tail_cdf_df[key+'-sampling-type_'+str(par)] = flat_cdfs'''"
   ]
  },
  {
   "cell_type": "code",
   "execution_count": 33,
   "metadata": {},
   "outputs": [
    {
     "data": {
      "text/html": [
       "<div>\n",
       "<style scoped>\n",
       "    .dataframe tbody tr th:only-of-type {\n",
       "        vertical-align: middle;\n",
       "    }\n",
       "\n",
       "    .dataframe tbody tr th {\n",
       "        vertical-align: top;\n",
       "    }\n",
       "\n",
       "    .dataframe thead th {\n",
       "        text-align: right;\n",
       "    }\n",
       "</style>\n",
       "<table border=\"1\" class=\"dataframe\">\n",
       "  <thead>\n",
       "    <tr style=\"text-align: right;\">\n",
       "      <th></th>\n",
       "      <th>n-sampling-type_0.1</th>\n",
       "      <th>n-sampling-type_0.25</th>\n",
       "      <th>n-sampling-type_0.5</th>\n",
       "      <th>n-sampling-type_0.75</th>\n",
       "      <th>n-sampling-type_0.9</th>\n",
       "      <th>k-sampling-type_1</th>\n",
       "      <th>k-sampling-type_10</th>\n",
       "      <th>k-sampling-type_40</th>\n",
       "      <th>k-sampling-type_200</th>\n",
       "      <th>tfs-sampling-type_None</th>\n",
       "      <th>tfs-sampling-type_0.01</th>\n",
       "      <th>tfs-sampling-type_0.05</th>\n",
       "      <th>tfs-sampling-type_0.1</th>\n",
       "      <th>tfs-sampling-type_0.5</th>\n",
       "      <th>tfs-sampling-type_0.75</th>\n",
       "    </tr>\n",
       "  </thead>\n",
       "  <tbody>\n",
       "    <tr>\n",
       "      <th>0</th>\n",
       "      <td>1.0</td>\n",
       "      <td>2.0</td>\n",
       "      <td>6.0</td>\n",
       "      <td>31.0</td>\n",
       "      <td>182.0</td>\n",
       "      <td>1.0</td>\n",
       "      <td>10.0</td>\n",
       "      <td>40.0</td>\n",
       "      <td>200.0</td>\n",
       "      <td>21.0</td>\n",
       "      <td>2.0</td>\n",
       "      <td>13.0</td>\n",
       "      <td>16.0</td>\n",
       "      <td>19.0</td>\n",
       "      <td>20.0</td>\n",
       "    </tr>\n",
       "    <tr>\n",
       "      <th>1</th>\n",
       "      <td>1.0</td>\n",
       "      <td>2.0</td>\n",
       "      <td>4.0</td>\n",
       "      <td>12.0</td>\n",
       "      <td>129.0</td>\n",
       "      <td>1.0</td>\n",
       "      <td>10.0</td>\n",
       "      <td>40.0</td>\n",
       "      <td>200.0</td>\n",
       "      <td>19.0</td>\n",
       "      <td>3.0</td>\n",
       "      <td>11.0</td>\n",
       "      <td>15.0</td>\n",
       "      <td>20.0</td>\n",
       "      <td>20.0</td>\n",
       "    </tr>\n",
       "    <tr>\n",
       "      <th>2</th>\n",
       "      <td>1.0</td>\n",
       "      <td>2.0</td>\n",
       "      <td>4.0</td>\n",
       "      <td>5.0</td>\n",
       "      <td>19.0</td>\n",
       "      <td>1.0</td>\n",
       "      <td>10.0</td>\n",
       "      <td>40.0</td>\n",
       "      <td>200.0</td>\n",
       "      <td>20.0</td>\n",
       "      <td>2.0</td>\n",
       "      <td>10.0</td>\n",
       "      <td>13.0</td>\n",
       "      <td>18.0</td>\n",
       "      <td>19.0</td>\n",
       "    </tr>\n",
       "    <tr>\n",
       "      <th>3</th>\n",
       "      <td>1.0</td>\n",
       "      <td>2.0</td>\n",
       "      <td>17.0</td>\n",
       "      <td>78.0</td>\n",
       "      <td>478.0</td>\n",
       "      <td>1.0</td>\n",
       "      <td>10.0</td>\n",
       "      <td>40.0</td>\n",
       "      <td>200.0</td>\n",
       "      <td>21.0</td>\n",
       "      <td>1.0</td>\n",
       "      <td>21.0</td>\n",
       "      <td>26.0</td>\n",
       "      <td>32.0</td>\n",
       "      <td>33.0</td>\n",
       "    </tr>\n",
       "    <tr>\n",
       "      <th>4</th>\n",
       "      <td>1.0</td>\n",
       "      <td>1.0</td>\n",
       "      <td>24.0</td>\n",
       "      <td>1.0</td>\n",
       "      <td>306.0</td>\n",
       "      <td>1.0</td>\n",
       "      <td>10.0</td>\n",
       "      <td>40.0</td>\n",
       "      <td>200.0</td>\n",
       "      <td>6.0</td>\n",
       "      <td>1.0</td>\n",
       "      <td>18.0</td>\n",
       "      <td>22.0</td>\n",
       "      <td>28.0</td>\n",
       "      <td>28.0</td>\n",
       "    </tr>\n",
       "  </tbody>\n",
       "</table>\n",
       "</div>"
      ],
      "text/plain": [
       "   n-sampling-type_0.1  n-sampling-type_0.25  n-sampling-type_0.5  \\\n",
       "0                  1.0                   2.0                  6.0   \n",
       "1                  1.0                   2.0                  4.0   \n",
       "2                  1.0                   2.0                  4.0   \n",
       "3                  1.0                   2.0                 17.0   \n",
       "4                  1.0                   1.0                 24.0   \n",
       "\n",
       "   n-sampling-type_0.75  n-sampling-type_0.9  k-sampling-type_1  \\\n",
       "0                  31.0                182.0                1.0   \n",
       "1                  12.0                129.0                1.0   \n",
       "2                   5.0                 19.0                1.0   \n",
       "3                  78.0                478.0                1.0   \n",
       "4                   1.0                306.0                1.0   \n",
       "\n",
       "   k-sampling-type_10  k-sampling-type_40  k-sampling-type_200  \\\n",
       "0                10.0                40.0                200.0   \n",
       "1                10.0                40.0                200.0   \n",
       "2                10.0                40.0                200.0   \n",
       "3                10.0                40.0                200.0   \n",
       "4                10.0                40.0                200.0   \n",
       "\n",
       "   tfs-sampling-type_None  tfs-sampling-type_0.01  tfs-sampling-type_0.05  \\\n",
       "0                    21.0                     2.0                    13.0   \n",
       "1                    19.0                     3.0                    11.0   \n",
       "2                    20.0                     2.0                    10.0   \n",
       "3                    21.0                     1.0                    21.0   \n",
       "4                     6.0                     1.0                    18.0   \n",
       "\n",
       "   tfs-sampling-type_0.1  tfs-sampling-type_0.5  tfs-sampling-type_0.75  \n",
       "0                   16.0                   19.0                    20.0  \n",
       "1                   15.0                   20.0                    20.0  \n",
       "2                   13.0                   18.0                    19.0  \n",
       "3                   26.0                   32.0                    33.0  \n",
       "4                   22.0                   28.0                    28.0  "
      ]
     },
     "execution_count": 33,
     "metadata": {},
     "output_type": "execute_result"
    }
   ],
   "source": [
    "tail_id_df.head()"
   ]
  },
  {
   "cell_type": "code",
   "execution_count": 34,
   "metadata": {},
   "outputs": [
    {
     "data": {
      "text/html": [
       "<div>\n",
       "<style scoped>\n",
       "    .dataframe tbody tr th:only-of-type {\n",
       "        vertical-align: middle;\n",
       "    }\n",
       "\n",
       "    .dataframe tbody tr th {\n",
       "        vertical-align: top;\n",
       "    }\n",
       "\n",
       "    .dataframe thead th {\n",
       "        text-align: right;\n",
       "    }\n",
       "</style>\n",
       "<table border=\"1\" class=\"dataframe\">\n",
       "  <thead>\n",
       "    <tr style=\"text-align: right;\">\n",
       "      <th></th>\n",
       "      <th>n-sampling-type_0.1</th>\n",
       "      <th>n-sampling-type_0.25</th>\n",
       "      <th>n-sampling-type_0.5</th>\n",
       "      <th>n-sampling-type_0.75</th>\n",
       "      <th>n-sampling-type_0.9</th>\n",
       "      <th>k-sampling-type_1</th>\n",
       "      <th>k-sampling-type_10</th>\n",
       "      <th>k-sampling-type_40</th>\n",
       "      <th>k-sampling-type_200</th>\n",
       "      <th>tfs-sampling-type_None</th>\n",
       "      <th>tfs-sampling-type_0.01</th>\n",
       "      <th>tfs-sampling-type_0.05</th>\n",
       "      <th>tfs-sampling-type_0.1</th>\n",
       "      <th>tfs-sampling-type_0.5</th>\n",
       "      <th>tfs-sampling-type_0.75</th>\n",
       "    </tr>\n",
       "  </thead>\n",
       "  <tbody>\n",
       "    <tr>\n",
       "      <th>0</th>\n",
       "      <td>0.195557</td>\n",
       "      <td>0.301073</td>\n",
       "      <td>0.518905</td>\n",
       "      <td>0.750658</td>\n",
       "      <td>0.900142</td>\n",
       "      <td>0.195557</td>\n",
       "      <td>0.602061</td>\n",
       "      <td>0.774605</td>\n",
       "      <td>0.906291</td>\n",
       "      <td>0.708745</td>\n",
       "      <td>0.301073</td>\n",
       "      <td>0.646504</td>\n",
       "      <td>0.678875</td>\n",
       "      <td>0.698433</td>\n",
       "      <td>0.703658</td>\n",
       "    </tr>\n",
       "    <tr>\n",
       "      <th>1</th>\n",
       "      <td>0.224044</td>\n",
       "      <td>0.352960</td>\n",
       "      <td>0.556938</td>\n",
       "      <td>0.756891</td>\n",
       "      <td>0.900081</td>\n",
       "      <td>0.224044</td>\n",
       "      <td>0.872809</td>\n",
       "      <td>0.945126</td>\n",
       "      <td>0.975957</td>\n",
       "      <td>0.863986</td>\n",
       "      <td>0.461498</td>\n",
       "      <td>0.609484</td>\n",
       "      <td>0.644702</td>\n",
       "      <td>0.675860</td>\n",
       "      <td>0.675860</td>\n",
       "    </tr>\n",
       "    <tr>\n",
       "      <th>2</th>\n",
       "      <td>0.274589</td>\n",
       "      <td>0.363976</td>\n",
       "      <td>0.570778</td>\n",
       "      <td>0.783390</td>\n",
       "      <td>0.901561</td>\n",
       "      <td>0.274589</td>\n",
       "      <td>0.700612</td>\n",
       "      <td>0.818081</td>\n",
       "      <td>0.901551</td>\n",
       "      <td>0.771999</td>\n",
       "      <td>0.394901</td>\n",
       "      <td>0.703124</td>\n",
       "      <td>0.738674</td>\n",
       "      <td>0.773599</td>\n",
       "      <td>0.778853</td>\n",
       "    </tr>\n",
       "    <tr>\n",
       "      <th>3</th>\n",
       "      <td>0.486848</td>\n",
       "      <td>0.256738</td>\n",
       "      <td>0.506252</td>\n",
       "      <td>0.750910</td>\n",
       "      <td>0.900101</td>\n",
       "      <td>0.486848</td>\n",
       "      <td>0.822745</td>\n",
       "      <td>0.939115</td>\n",
       "      <td>0.981008</td>\n",
       "      <td>0.466450</td>\n",
       "      <td>0.486848</td>\n",
       "      <td>0.523056</td>\n",
       "      <td>0.562913</td>\n",
       "      <td>0.596629</td>\n",
       "      <td>0.601805</td>\n",
       "    </tr>\n",
       "    <tr>\n",
       "      <th>4</th>\n",
       "      <td>0.645843</td>\n",
       "      <td>0.470392</td>\n",
       "      <td>0.502961</td>\n",
       "      <td>0.809627</td>\n",
       "      <td>0.900201</td>\n",
       "      <td>0.645843</td>\n",
       "      <td>0.460595</td>\n",
       "      <td>0.683131</td>\n",
       "      <td>0.854372</td>\n",
       "      <td>0.921489</td>\n",
       "      <td>0.645843</td>\n",
       "      <td>0.714389</td>\n",
       "      <td>0.752935</td>\n",
       "      <td>0.789258</td>\n",
       "      <td>0.789258</td>\n",
       "    </tr>\n",
       "  </tbody>\n",
       "</table>\n",
       "</div>"
      ],
      "text/plain": [
       "   n-sampling-type_0.1  n-sampling-type_0.25  n-sampling-type_0.5  \\\n",
       "0             0.195557              0.301073             0.518905   \n",
       "1             0.224044              0.352960             0.556938   \n",
       "2             0.274589              0.363976             0.570778   \n",
       "3             0.486848              0.256738             0.506252   \n",
       "4             0.645843              0.470392             0.502961   \n",
       "\n",
       "   n-sampling-type_0.75  n-sampling-type_0.9  k-sampling-type_1  \\\n",
       "0              0.750658             0.900142           0.195557   \n",
       "1              0.756891             0.900081           0.224044   \n",
       "2              0.783390             0.901561           0.274589   \n",
       "3              0.750910             0.900101           0.486848   \n",
       "4              0.809627             0.900201           0.645843   \n",
       "\n",
       "   k-sampling-type_10  k-sampling-type_40  k-sampling-type_200  \\\n",
       "0            0.602061            0.774605             0.906291   \n",
       "1            0.872809            0.945126             0.975957   \n",
       "2            0.700612            0.818081             0.901551   \n",
       "3            0.822745            0.939115             0.981008   \n",
       "4            0.460595            0.683131             0.854372   \n",
       "\n",
       "   tfs-sampling-type_None  tfs-sampling-type_0.01  tfs-sampling-type_0.05  \\\n",
       "0                0.708745                0.301073                0.646504   \n",
       "1                0.863986                0.461498                0.609484   \n",
       "2                0.771999                0.394901                0.703124   \n",
       "3                0.466450                0.486848                0.523056   \n",
       "4                0.921489                0.645843                0.714389   \n",
       "\n",
       "   tfs-sampling-type_0.1  tfs-sampling-type_0.5  tfs-sampling-type_0.75  \n",
       "0               0.678875               0.698433                0.703658  \n",
       "1               0.644702               0.675860                0.675860  \n",
       "2               0.738674               0.773599                0.778853  \n",
       "3               0.562913               0.596629                0.601805  \n",
       "4               0.752935               0.789258                0.789258  "
      ]
     },
     "execution_count": 34,
     "metadata": {},
     "output_type": "execute_result"
    }
   ],
   "source": [
    "tail_cdf_df.head()"
   ]
  },
  {
   "cell_type": "code",
   "execution_count": 35,
   "metadata": {},
   "outputs": [
    {
     "data": {
      "text/plain": [
       "(15000, 15)"
      ]
     },
     "execution_count": 35,
     "metadata": {},
     "output_type": "execute_result"
    }
   ],
   "source": [
    "tail_id_df.shape"
   ]
  },
  {
   "cell_type": "code",
   "execution_count": 36,
   "metadata": {},
   "outputs": [
    {
     "data": {
      "text/plain": [
       "array([  1.,   2.,   6.,  31., 182.,   1.,  10.,  40., 200.,  21.,   2.,\n",
       "        13.,  16.,  19.,  20.])"
      ]
     },
     "execution_count": 36,
     "metadata": {},
     "output_type": "execute_result"
    }
   ],
   "source": [
    "tail_id_df.iloc[0].values"
   ]
  },
  {
   "cell_type": "code",
   "execution_count": 37,
   "metadata": {},
   "outputs": [
    {
     "data": {
      "text/plain": [
       "array([ 0,  5,  1, 10,  2,  6, 11, 12, 13, 14,  9,  3,  7,  4,  8])"
      ]
     },
     "execution_count": 37,
     "metadata": {},
     "output_type": "execute_result"
    }
   ],
   "source": [
    "np.argsort(tail_id_df.iloc[0,:].values)"
   ]
  },
  {
   "cell_type": "code",
   "execution_count": 38,
   "metadata": {},
   "outputs": [],
   "source": [
    "\n",
    "def get_ranking(df):\n",
    "    ret = []\n",
    "    for ind in range(df.shape[0]):\n",
    "        x = df.loc[ind]\n",
    "        ranked_inds = np.argsort(x.values)\n",
    "        temp_ret = np.zeros(len(ranked_inds))\n",
    "        for i in range(len(ranked_inds)):\n",
    "            temp_ret[ranked_inds[i]] = i+1\n",
    "    \n",
    "        ret.append(temp_ret)\n",
    "    return np.asarray(ret)\n",
    "        \n",
    "#get_ranking(tail_id_df)"
   ]
  },
  {
   "cell_type": "code",
   "execution_count": 39,
   "metadata": {},
   "outputs": [],
   "source": [
    "tail_id_df_ranking = pd.DataFrame(get_ranking(tail_id_df))\n",
    "tail_id_df_ranking.columns = tail_id_df.columns"
   ]
  },
  {
   "cell_type": "code",
   "execution_count": 40,
   "metadata": {},
   "outputs": [
    {
     "data": {
      "text/html": [
       "<div>\n",
       "<style scoped>\n",
       "    .dataframe tbody tr th:only-of-type {\n",
       "        vertical-align: middle;\n",
       "    }\n",
       "\n",
       "    .dataframe tbody tr th {\n",
       "        vertical-align: top;\n",
       "    }\n",
       "\n",
       "    .dataframe thead th {\n",
       "        text-align: right;\n",
       "    }\n",
       "</style>\n",
       "<table border=\"1\" class=\"dataframe\">\n",
       "  <thead>\n",
       "    <tr style=\"text-align: right;\">\n",
       "      <th></th>\n",
       "      <th>n-sampling-type_0.1</th>\n",
       "      <th>n-sampling-type_0.25</th>\n",
       "      <th>n-sampling-type_0.5</th>\n",
       "      <th>n-sampling-type_0.75</th>\n",
       "      <th>n-sampling-type_0.9</th>\n",
       "      <th>k-sampling-type_1</th>\n",
       "      <th>k-sampling-type_10</th>\n",
       "      <th>k-sampling-type_40</th>\n",
       "      <th>k-sampling-type_200</th>\n",
       "      <th>tfs-sampling-type_None</th>\n",
       "      <th>tfs-sampling-type_0.01</th>\n",
       "      <th>tfs-sampling-type_0.05</th>\n",
       "      <th>tfs-sampling-type_0.1</th>\n",
       "      <th>tfs-sampling-type_0.5</th>\n",
       "      <th>tfs-sampling-type_0.75</th>\n",
       "    </tr>\n",
       "  </thead>\n",
       "  <tbody>\n",
       "    <tr>\n",
       "      <th>0</th>\n",
       "      <td>1.0</td>\n",
       "      <td>3.0</td>\n",
       "      <td>5.0</td>\n",
       "      <td>12.0</td>\n",
       "      <td>14.0</td>\n",
       "      <td>2.0</td>\n",
       "      <td>6.0</td>\n",
       "      <td>13.0</td>\n",
       "      <td>15.0</td>\n",
       "      <td>11.0</td>\n",
       "      <td>4.0</td>\n",
       "      <td>7.0</td>\n",
       "      <td>8.0</td>\n",
       "      <td>9.0</td>\n",
       "      <td>10.0</td>\n",
       "    </tr>\n",
       "    <tr>\n",
       "      <th>1</th>\n",
       "      <td>1.0</td>\n",
       "      <td>3.0</td>\n",
       "      <td>5.0</td>\n",
       "      <td>8.0</td>\n",
       "      <td>14.0</td>\n",
       "      <td>2.0</td>\n",
       "      <td>6.0</td>\n",
       "      <td>13.0</td>\n",
       "      <td>15.0</td>\n",
       "      <td>10.0</td>\n",
       "      <td>4.0</td>\n",
       "      <td>7.0</td>\n",
       "      <td>9.0</td>\n",
       "      <td>11.0</td>\n",
       "      <td>12.0</td>\n",
       "    </tr>\n",
       "    <tr>\n",
       "      <th>2</th>\n",
       "      <td>1.0</td>\n",
       "      <td>3.0</td>\n",
       "      <td>5.0</td>\n",
       "      <td>6.0</td>\n",
       "      <td>11.0</td>\n",
       "      <td>2.0</td>\n",
       "      <td>7.0</td>\n",
       "      <td>14.0</td>\n",
       "      <td>15.0</td>\n",
       "      <td>13.0</td>\n",
       "      <td>4.0</td>\n",
       "      <td>8.0</td>\n",
       "      <td>9.0</td>\n",
       "      <td>10.0</td>\n",
       "      <td>12.0</td>\n",
       "    </tr>\n",
       "    <tr>\n",
       "      <th>3</th>\n",
       "      <td>1.0</td>\n",
       "      <td>4.0</td>\n",
       "      <td>6.0</td>\n",
       "      <td>13.0</td>\n",
       "      <td>15.0</td>\n",
       "      <td>2.0</td>\n",
       "      <td>5.0</td>\n",
       "      <td>12.0</td>\n",
       "      <td>14.0</td>\n",
       "      <td>7.0</td>\n",
       "      <td>3.0</td>\n",
       "      <td>8.0</td>\n",
       "      <td>9.0</td>\n",
       "      <td>10.0</td>\n",
       "      <td>11.0</td>\n",
       "    </tr>\n",
       "    <tr>\n",
       "      <th>4</th>\n",
       "      <td>1.0</td>\n",
       "      <td>2.0</td>\n",
       "      <td>10.0</td>\n",
       "      <td>3.0</td>\n",
       "      <td>15.0</td>\n",
       "      <td>4.0</td>\n",
       "      <td>7.0</td>\n",
       "      <td>13.0</td>\n",
       "      <td>14.0</td>\n",
       "      <td>6.0</td>\n",
       "      <td>5.0</td>\n",
       "      <td>8.0</td>\n",
       "      <td>9.0</td>\n",
       "      <td>11.0</td>\n",
       "      <td>12.0</td>\n",
       "    </tr>\n",
       "  </tbody>\n",
       "</table>\n",
       "</div>"
      ],
      "text/plain": [
       "   n-sampling-type_0.1  n-sampling-type_0.25  n-sampling-type_0.5  \\\n",
       "0                  1.0                   3.0                  5.0   \n",
       "1                  1.0                   3.0                  5.0   \n",
       "2                  1.0                   3.0                  5.0   \n",
       "3                  1.0                   4.0                  6.0   \n",
       "4                  1.0                   2.0                 10.0   \n",
       "\n",
       "   n-sampling-type_0.75  n-sampling-type_0.9  k-sampling-type_1  \\\n",
       "0                  12.0                 14.0                2.0   \n",
       "1                   8.0                 14.0                2.0   \n",
       "2                   6.0                 11.0                2.0   \n",
       "3                  13.0                 15.0                2.0   \n",
       "4                   3.0                 15.0                4.0   \n",
       "\n",
       "   k-sampling-type_10  k-sampling-type_40  k-sampling-type_200  \\\n",
       "0                 6.0                13.0                 15.0   \n",
       "1                 6.0                13.0                 15.0   \n",
       "2                 7.0                14.0                 15.0   \n",
       "3                 5.0                12.0                 14.0   \n",
       "4                 7.0                13.0                 14.0   \n",
       "\n",
       "   tfs-sampling-type_None  tfs-sampling-type_0.01  tfs-sampling-type_0.05  \\\n",
       "0                    11.0                     4.0                     7.0   \n",
       "1                    10.0                     4.0                     7.0   \n",
       "2                    13.0                     4.0                     8.0   \n",
       "3                     7.0                     3.0                     8.0   \n",
       "4                     6.0                     5.0                     8.0   \n",
       "\n",
       "   tfs-sampling-type_0.1  tfs-sampling-type_0.5  tfs-sampling-type_0.75  \n",
       "0                    8.0                    9.0                    10.0  \n",
       "1                    9.0                   11.0                    12.0  \n",
       "2                    9.0                   10.0                    12.0  \n",
       "3                    9.0                   10.0                    11.0  \n",
       "4                    9.0                   11.0                    12.0  "
      ]
     },
     "execution_count": 40,
     "metadata": {},
     "output_type": "execute_result"
    }
   ],
   "source": [
    "tail_id_df_ranking.head()"
   ]
  },
  {
   "cell_type": "code",
   "execution_count": 41,
   "metadata": {},
   "outputs": [],
   "source": [
    "tail_cdf_df_ranking = pd.DataFrame(get_ranking(tail_cdf_df))\n",
    "tail_cdf_df_ranking.columns = tail_cdf_df.columns"
   ]
  },
  {
   "cell_type": "code",
   "execution_count": 42,
   "metadata": {},
   "outputs": [
    {
     "data": {
      "image/png": "[encoded data removed]",
      "text/plain": [
       "<Figure size 432x288 with 1 Axes>"
      ]
     },
     "metadata": {
      "needs_background": "light"
     },
     "output_type": "display_data"
    },
    {
     "data": {
      "image/png": "[encoded data removed]",
      "text/plain": [
       "<Figure size 432x288 with 1 Axes>"
      ]
     },
     "metadata": {
      "needs_background": "light"
     },
     "output_type": "display_data"
    },
    {
     "data": {
      "image/png": "[encoded data removed]",
      "text/plain": [
       "<Figure size 432x288 with 1 Axes>"
      ]
     },
     "metadata": {
      "needs_background": "light"
     },
     "output_type": "display_data"
    },
    {
     "data": {
      "image/png": "[encoded data removed]",
      "text/plain": [
       "<Figure size 432x288 with 1 Axes>"
      ]
     },
     "metadata": {
      "needs_background": "light"
     },
     "output_type": "display_data"
    },
    {
     "data": {
      "image/png": "[encoded data removed]",
      "text/plain": [
       "<Figure size 432x288 with 1 Axes>"
      ]
     },
     "metadata": {
      "needs_background": "light"
     },
     "output_type": "display_data"
    },
    {
     "data": {
      "image/png": "[encoded data removed]",
      "text/plain": [
       "<Figure size 432x288 with 1 Axes>"
      ]
     },
     "metadata": {
      "needs_background": "light"
     },
     "output_type": "display_data"
    },
    {
     "data": {
      "image/png": "[encoded data removed]",
      "text/plain": [
       "<Figure size 432x288 with 1 Axes>"
      ]
     },
     "metadata": {
      "needs_background": "light"
     },
     "output_type": "display_data"
    },
    {
     "data": {
      "image/png": "[encoded data removed]",
      "text/plain": [
       "<Figure size 432x288 with 1 Axes>"
      ]
     },
     "metadata": {
      "needs_background": "light"
     },
     "output_type": "display_data"
    },
    {
     "data": {
      "image/png": "[encoded data removed]",
      "text/plain": [
       "<Figure size 432x288 with 1 Axes>"
      ]
     },
     "metadata": {
      "needs_background": "light"
     },
     "output_type": "display_data"
    },
    {
     "data": {
      "image/png": "[encoded data removed]",
      "text/plain": [
       "<Figure size 432x288 with 1 Axes>"
      ]
     },
     "metadata": {
      "needs_background": "light"
     },
     "output_type": "display_data"
    },
    {
     "data": {
      "image/png": "[encoded data removed]",
      "text/plain": [
       "<Figure size 432x288 with 1 Axes>"
      ]
     },
     "metadata": {
      "needs_background": "light"
     },
     "output_type": "display_data"
    },
    {
     "data": {
      "image/png": "[encoded data removed]",
      "text/plain": [
       "<Figure size 432x288 with 1 Axes>"
      ]
     },
     "metadata": {
      "needs_background": "light"
     },
     "output_type": "display_data"
    },
    {
     "data": {
      "image/png": "[encoded data removed]",
      "text/plain": [
       "<Figure size 432x288 with 1 Axes>"
      ]
     },
     "metadata": {
      "needs_background": "light"
     },
     "output_type": "display_data"
    },
    {
     "data": {
      "image/png": "[encoded data removed]",
      "text/plain": [
       "<Figure size 432x288 with 1 Axes>"
      ]
     },
     "metadata": {
      "needs_background": "light"
     },
     "output_type": "display_data"
    },
    {
     "data": {
      "image/png": "[encoded data removed]",
      "text/plain": [
       "<Figure size 432x288 with 1 Axes>"
      ]
     },
     "metadata": {
      "needs_background": "light"
     },
     "output_type": "display_data"
    }
   ],
   "source": [
    "for c in tail_id_df_ranking.columns: \n",
    "    \n",
    "    tail_id_df_ranking[c].hist(bins=100)\n",
    "    plt.title(c)\n",
    "    plt.show()"
   ]
  },
  {
   "cell_type": "code",
   "execution_count": 45,
   "metadata": {},
   "outputs": [
    {
     "data": {
      "text/html": [
       "<div>\n",
       "<style scoped>\n",
       "    .dataframe tbody tr th:only-of-type {\n",
       "        vertical-align: middle;\n",
       "    }\n",
       "\n",
       "    .dataframe tbody tr th {\n",
       "        vertical-align: top;\n",
       "    }\n",
       "\n",
       "    .dataframe thead th {\n",
       "        text-align: right;\n",
       "    }\n",
       "</style>\n",
       "<table border=\"1\" class=\"dataframe\">\n",
       "  <thead>\n",
       "    <tr style=\"text-align: right;\">\n",
       "      <th></th>\n",
       "      <th>n-sampling-type_0.1</th>\n",
       "      <th>n-sampling-type_0.25</th>\n",
       "      <th>n-sampling-type_0.5</th>\n",
       "      <th>n-sampling-type_0.75</th>\n",
       "      <th>n-sampling-type_0.9</th>\n",
       "      <th>k-sampling-type_1</th>\n",
       "      <th>k-sampling-type_10</th>\n",
       "      <th>k-sampling-type_40</th>\n",
       "      <th>k-sampling-type_200</th>\n",
       "      <th>tfs-sampling-type_None</th>\n",
       "      <th>tfs-sampling-type_0.01</th>\n",
       "      <th>tfs-sampling-type_0.05</th>\n",
       "      <th>tfs-sampling-type_0.1</th>\n",
       "      <th>tfs-sampling-type_0.5</th>\n",
       "      <th>tfs-sampling-type_0.75</th>\n",
       "    </tr>\n",
       "  </thead>\n",
       "  <tbody>\n",
       "    <tr>\n",
       "      <th>0</th>\n",
       "      <td>0.195557</td>\n",
       "      <td>0.301073</td>\n",
       "      <td>0.518905</td>\n",
       "      <td>0.750658</td>\n",
       "      <td>0.900142</td>\n",
       "      <td>0.195557</td>\n",
       "      <td>0.602061</td>\n",
       "      <td>0.774605</td>\n",
       "      <td>0.906291</td>\n",
       "      <td>0.708745</td>\n",
       "      <td>0.301073</td>\n",
       "      <td>0.646504</td>\n",
       "      <td>0.678875</td>\n",
       "      <td>0.698433</td>\n",
       "      <td>0.703658</td>\n",
       "    </tr>\n",
       "    <tr>\n",
       "      <th>1</th>\n",
       "      <td>0.224044</td>\n",
       "      <td>0.352960</td>\n",
       "      <td>0.556938</td>\n",
       "      <td>0.756891</td>\n",
       "      <td>0.900081</td>\n",
       "      <td>0.224044</td>\n",
       "      <td>0.872809</td>\n",
       "      <td>0.945126</td>\n",
       "      <td>0.975957</td>\n",
       "      <td>0.863986</td>\n",
       "      <td>0.461498</td>\n",
       "      <td>0.609484</td>\n",
       "      <td>0.644702</td>\n",
       "      <td>0.675860</td>\n",
       "      <td>0.675860</td>\n",
       "    </tr>\n",
       "    <tr>\n",
       "      <th>2</th>\n",
       "      <td>0.274589</td>\n",
       "      <td>0.363976</td>\n",
       "      <td>0.570778</td>\n",
       "      <td>0.783390</td>\n",
       "      <td>0.901561</td>\n",
       "      <td>0.274589</td>\n",
       "      <td>0.700612</td>\n",
       "      <td>0.818081</td>\n",
       "      <td>0.901551</td>\n",
       "      <td>0.771999</td>\n",
       "      <td>0.394901</td>\n",
       "      <td>0.703124</td>\n",
       "      <td>0.738674</td>\n",
       "      <td>0.773599</td>\n",
       "      <td>0.778853</td>\n",
       "    </tr>\n",
       "    <tr>\n",
       "      <th>3</th>\n",
       "      <td>0.486848</td>\n",
       "      <td>0.256738</td>\n",
       "      <td>0.506252</td>\n",
       "      <td>0.750910</td>\n",
       "      <td>0.900101</td>\n",
       "      <td>0.486848</td>\n",
       "      <td>0.822745</td>\n",
       "      <td>0.939115</td>\n",
       "      <td>0.981008</td>\n",
       "      <td>0.466450</td>\n",
       "      <td>0.486848</td>\n",
       "      <td>0.523056</td>\n",
       "      <td>0.562913</td>\n",
       "      <td>0.596629</td>\n",
       "      <td>0.601805</td>\n",
       "    </tr>\n",
       "    <tr>\n",
       "      <th>4</th>\n",
       "      <td>0.645843</td>\n",
       "      <td>0.470392</td>\n",
       "      <td>0.502961</td>\n",
       "      <td>0.809627</td>\n",
       "      <td>0.900201</td>\n",
       "      <td>0.645843</td>\n",
       "      <td>0.460595</td>\n",
       "      <td>0.683131</td>\n",
       "      <td>0.854372</td>\n",
       "      <td>0.921489</td>\n",
       "      <td>0.645843</td>\n",
       "      <td>0.714389</td>\n",
       "      <td>0.752935</td>\n",
       "      <td>0.789258</td>\n",
       "      <td>0.789258</td>\n",
       "    </tr>\n",
       "  </tbody>\n",
       "</table>\n",
       "</div>"
      ],
      "text/plain": [
       "   n-sampling-type_0.1  n-sampling-type_0.25  n-sampling-type_0.5  \\\n",
       "0             0.195557              0.301073             0.518905   \n",
       "1             0.224044              0.352960             0.556938   \n",
       "2             0.274589              0.363976             0.570778   \n",
       "3             0.486848              0.256738             0.506252   \n",
       "4             0.645843              0.470392             0.502961   \n",
       "\n",
       "   n-sampling-type_0.75  n-sampling-type_0.9  k-sampling-type_1  \\\n",
       "0              0.750658             0.900142           0.195557   \n",
       "1              0.756891             0.900081           0.224044   \n",
       "2              0.783390             0.901561           0.274589   \n",
       "3              0.750910             0.900101           0.486848   \n",
       "4              0.809627             0.900201           0.645843   \n",
       "\n",
       "   k-sampling-type_10  k-sampling-type_40  k-sampling-type_200  \\\n",
       "0            0.602061            0.774605             0.906291   \n",
       "1            0.872809            0.945126             0.975957   \n",
       "2            0.700612            0.818081             0.901551   \n",
       "3            0.822745            0.939115             0.981008   \n",
       "4            0.460595            0.683131             0.854372   \n",
       "\n",
       "   tfs-sampling-type_None  tfs-sampling-type_0.01  tfs-sampling-type_0.05  \\\n",
       "0                0.708745                0.301073                0.646504   \n",
       "1                0.863986                0.461498                0.609484   \n",
       "2                0.771999                0.394901                0.703124   \n",
       "3                0.466450                0.486848                0.523056   \n",
       "4                0.921489                0.645843                0.714389   \n",
       "\n",
       "   tfs-sampling-type_0.1  tfs-sampling-type_0.5  tfs-sampling-type_0.75  \n",
       "0               0.678875               0.698433                0.703658  \n",
       "1               0.644702               0.675860                0.675860  \n",
       "2               0.738674               0.773599                0.778853  \n",
       "3               0.562913               0.596629                0.601805  \n",
       "4               0.752935               0.789258                0.789258  "
      ]
     },
     "execution_count": 45,
     "metadata": {},
     "output_type": "execute_result"
    }
   ],
   "source": [
    "tail_cdf_df.head()"
   ]
  },
  {
   "cell_type": "code",
   "execution_count": 46,
   "metadata": {},
   "outputs": [
    {
     "data": {
      "text/plain": [
       "(15000, 15)"
      ]
     },
     "execution_count": 46,
     "metadata": {},
     "output_type": "execute_result"
    }
   ],
   "source": [
    "tail_cdf_df.shape"
   ]
  },
  {
   "cell_type": "code",
   "execution_count": 44,
   "metadata": {},
   "outputs": [
    {
     "data": {
      "image/png": "[encoded data removed]",
      "text/plain": [
       "<Figure size 432x288 with 1 Axes>"
      ]
     },
     "metadata": {
      "needs_background": "light"
     },
     "output_type": "display_data"
    },
    {
     "data": {
      "image/png": "[encoded data removed]",
      "text/plain": [
       "<Figure size 432x288 with 1 Axes>"
      ]
     },
     "metadata": {
      "needs_background": "light"
     },
     "output_type": "display_data"
    },
    {
     "data": {
      "image/png": "[encoded data removed]",
      "text/plain": [
       "<Figure size 432x288 with 1 Axes>"
      ]
     },
     "metadata": {
      "needs_background": "light"
     },
     "output_type": "display_data"
    },
    {
     "data": {
      "image/png": "[encoded data removed]",
      "text/plain": [
       "<Figure size 432x288 with 1 Axes>"
      ]
     },
     "metadata": {
      "needs_background": "light"
     },
     "output_type": "display_data"
    },
    {
     "data": {
      "image/png": "[encoded data removed]",
      "text/plain": [
       "<Figure size 432x288 with 1 Axes>"
      ]
     },
     "metadata": {
      "needs_background": "light"
     },
     "output_type": "display_data"
    },
    {
     "data": {
      "image/png": "[encoded data removed]",
      "text/plain": [
       "<Figure size 432x288 with 1 Axes>"
      ]
     },
     "metadata": {
      "needs_background": "light"
     },
     "output_type": "display_data"
    },
    {
     "data": {
      "image/png": "[encoded data removed]",
      "text/plain": [
       "<Figure size 432x288 with 1 Axes>"
      ]
     },
     "metadata": {
      "needs_background": "light"
     },
     "output_type": "display_data"
    },
    {
     "data": {
      "image/png": "[encoded data removed]",
      "text/plain": [
       "<Figure size 432x288 with 1 Axes>"
      ]
     },
     "metadata": {
      "needs_background": "light"
     },
     "output_type": "display_data"
    },
    {
     "data": {
      "image/png": "[encoded data removed]",
      "text/plain": [
       "<Figure size 432x288 with 1 Axes>"
      ]
     },
     "metadata": {
      "needs_background": "light"
     },
     "output_type": "display_data"
    },
    {
     "data": {
      "image/png": "[encoded data removed]",
      "text/plain": [
       "<Figure size 432x288 with 1 Axes>"
      ]
     },
     "metadata": {
      "needs_background": "light"
     },
     "output_type": "display_data"
    },
    {
     "data": {
      "image/png": "[encoded data removed]",
      "text/plain": [
       "<Figure size 432x288 with 1 Axes>"
      ]
     },
     "metadata": {
      "needs_background": "light"
     },
     "output_type": "display_data"
    },
    {
     "data": {
      "image/png": "[encoded data removed]",
      "text/plain": [
       "<Figure size 432x288 with 1 Axes>"
      ]
     },
     "metadata": {
      "needs_background": "light"
     },
     "output_type": "display_data"
    },
    {
     "data": {
      "image/png": "[encoded data removed]",
      "text/plain": [
       "<Figure size 432x288 with 1 Axes>"
      ]
     },
     "metadata": {
      "needs_background": "light"
     },
     "output_type": "display_data"
    },
    {
     "data": {
      "image/png": "[encoded data removed]",
      "text/plain": [
       "<Figure size 432x288 with 1 Axes>"
      ]
     },
     "metadata": {
      "needs_background": "light"
     },
     "output_type": "display_data"
    },
    {
     "data": {
      "image/png": "[encoded data removed]",
      "text/plain": [
       "<Figure size 432x288 with 1 Axes>"
      ]
     },
     "metadata": {
      "needs_background": "light"
     },
     "output_type": "display_data"
    }
   ],
   "source": [
    "for c in tail_cdf_df.columns: \n",
    "    \n",
    "    tail_cdf_df[c].hist(bins=100)\n",
    "    plt.title(c)\n",
    "    plt.show()"
   ]
  },
  {
   "cell_type": "code",
   "execution_count": 43,
   "metadata": {},
   "outputs": [
    {
     "data": {
      "image/png": "[encoded data removed]",
      "text/plain": [
       "<Figure size 432x288 with 1 Axes>"
      ]
     },
     "metadata": {
      "needs_background": "light"
     },
     "output_type": "display_data"
    },
    {
     "data": {
      "image/png": "[encoded data removed]",
      "text/plain": [
       "<Figure size 432x288 with 1 Axes>"
      ]
     },
     "metadata": {
      "needs_background": "light"
     },
     "output_type": "display_data"
    },
    {
     "data": {
      "image/png": "[encoded data removed]",
      "text/plain": [
       "<Figure size 432x288 with 1 Axes>"
      ]
     },
     "metadata": {
      "needs_background": "light"
     },
     "output_type": "display_data"
    },
    {
     "data": {
      "image/png": "[encoded data removed]",
      "text/plain": [
       "<Figure size 432x288 with 1 Axes>"
      ]
     },
     "metadata": {
      "needs_background": "light"
     },
     "output_type": "display_data"
    },
    {
     "data": {
      "image/png": "[encoded data removed]",
      "text/plain": [
       "<Figure size 432x288 with 1 Axes>"
      ]
     },
     "metadata": {
      "needs_background": "light"
     },
     "output_type": "display_data"
    },
    {
     "data": {
      "image/png": "[encoded data removed]",
      "text/plain": [
       "<Figure size 432x288 with 1 Axes>"
      ]
     },
     "metadata": {
      "needs_background": "light"
     },
     "output_type": "display_data"
    },
    {
     "data": {
      "image/png": "[encoded data removed]",
      "text/plain": [
       "<Figure size 432x288 with 1 Axes>"
      ]
     },
     "metadata": {
      "needs_background": "light"
     },
     "output_type": "display_data"
    },
    {
     "data": {
      "image/png": "[encoded data removed]",
      "text/plain": [
       "<Figure size 432x288 with 1 Axes>"
      ]
     },
     "metadata": {
      "needs_background": "light"
     },
     "output_type": "display_data"
    },
    {
     "data": {
      "image/png": "[encoded data removed]",
      "text/plain": [
       "<Figure size 432x288 with 1 Axes>"
      ]
     },
     "metadata": {
      "needs_background": "light"
     },
     "output_type": "display_data"
    },
    {
     "data": {
      "image/png": "[encoded data removed]",
      "text/plain": [
       "<Figure size 432x288 with 1 Axes>"
      ]
     },
     "metadata": {
      "needs_background": "light"
     },
     "output_type": "display_data"
    },
    {
     "data": {
      "image/png": "[encoded data removed]",
      "text/plain": [
       "<Figure size 432x288 with 1 Axes>"
      ]
     },
     "metadata": {
      "needs_background": "light"
     },
     "output_type": "display_data"
    },
    {
     "data": {
      "image/png": "[encoded data removed]",
      "text/plain": [
       "<Figure size 432x288 with 1 Axes>"
      ]
     },
     "metadata": {
      "needs_background": "light"
     },
     "output_type": "display_data"
    },
    {
     "data": {
      "image/png": "[encoded data removed]",
      "text/plain": [
       "<Figure size 432x288 with 1 Axes>"
      ]
     },
     "metadata": {
      "needs_background": "light"
     },
     "output_type": "display_data"
    },
    {
     "data": {
      "image/png": "[encoded data removed]",
      "text/plain": [
       "<Figure size 432x288 with 1 Axes>"
      ]
     },
     "metadata": {
      "needs_background": "light"
     },
     "output_type": "display_data"
    },
    {
     "data": {
      "image/png": "[encoded data removed]",
      "text/plain": [
       "<Figure size 432x288 with 1 Axes>"
      ]
     },
     "metadata": {
      "needs_background": "light"
     },
     "output_type": "display_data"
    }
   ],
   "source": [
    "for c in tail_cdf_df_ranking.columns: \n",
    "    \n",
    "    tail_cdf_df_ranking[c].hist(bins=100)\n",
    "    plt.title(c)\n",
    "    plt.show()"
   ]
  },
  {
   "cell_type": "code",
   "execution_count": null,
   "metadata": {},
   "outputs": [],
   "source": []
  }
 ],
 "metadata": {
  "kernelspec": {
   "display_name": "Python 3",
   "language": "python",
   "name": "python3"
  },
  "language_info": {
   "codemirror_mode": {
    "name": "ipython",
    "version": 3
   },
   "file_extension": ".py",
   "mimetype": "text/x-python",
   "name": "python",
   "nbconvert_exporter": "python",
   "pygments_lexer": "ipython3",
   "version": "3.7.3"
  }
 },
 "nbformat": 4,
 "nbformat_minor": 2
}
