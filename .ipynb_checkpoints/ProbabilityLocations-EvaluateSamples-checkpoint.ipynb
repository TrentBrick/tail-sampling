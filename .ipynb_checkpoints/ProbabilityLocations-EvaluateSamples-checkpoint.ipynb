{
 "cells": [
  {
   "cell_type": "markdown",
   "metadata": {},
   "source": [
    "Get the difference between nucleus and TFS set of words. See if the words in this set are reasonable. They should be reasonable for when TFS is looser and should not be when TFS is tighter. Out of this set of words, take the highest, lowest prob ones and the middle one? Need at least 3 word gap between them. \n",
    "Rank each one in how reasonable it is. Control baseline is how reasonable words at different points in the body are. The first word, half way and at the closer of the tails. Can also get words outside of the last tail, just outside, halfway to the end, and at the very end. \n",
    "There are 9 different words in total. Should i rank all of them, scramble up a subset? Or have a ranking for each of the subsets differently? Probably scramble them all up. And then present 3 of them??\n",
    "Can then see overall how replaceable different parts of the distributions is, and for TFS and nucleus specifically. Have a control with the bad words. And should be able to hopefully show that the difference in replaceability between the TFS and nucleus words is small when TFS is looser and large when TFS is tighter. Can see how specific this is also. Eg could just look at the last TFS and nucleus words, see the diff in replaceability, or maybe need to look at the averages. Look most at this unique subset and these three points should hopefully categorize it. Want them because i dont know how good the signal is going to be. For the closest words for example. \n",
    "Can also get overall data on how replaceability corresponds to model probability. \n"
   ]
  },
  {
   "cell_type": "code",
   "execution_count": 1,
   "metadata": {},
   "outputs": [],
   "source": [
    "import pickle\n",
    "import gzip\n",
    "import numpy as np\n",
    "import matplotlib.pyplot as plt\n",
    "from scipy.special import softmax\n",
    "import pandas as pd    \n",
    "import torch"
   ]
  },
  {
   "cell_type": "code",
   "execution_count": 2,
   "metadata": {},
   "outputs": [],
   "source": [
    "from decodeLogits import *"
   ]
  },
  {
   "cell_type": "code",
   "execution_count": 3,
   "metadata": {},
   "outputs": [
    {
     "data": {
      "text/plain": [
       "\" {'tfs':[0.25, 0.75, 0.9, 0.95, 0.99], 'flat':[0.01, 0.02, 0.05],\\n'n': [0.1, 0.25, 0.5, 0.63, 0.69, 0.75, 0.81, 0.9], 'k':[1,10,40,200]  }\""
      ]
     },
     "execution_count": 3,
     "metadata": {},
     "output_type": "execute_result"
    }
   ],
   "source": [
    "#updated\n",
    "vals_dict = {'tfs':[0.25, 0.75, 0.9, 0.95, 0.99],\n",
    "'n': [0.5, 0.63, 0.69, 0.81, 0.75, 0.9], 'k':[1,40,200]  }\n",
    "\n",
    "\n",
    "''' {'tfs':[0.25, 0.75, 0.9, 0.95, 0.99], 'flat':[0.01, 0.02, 0.05],\n",
    "'n': [0.1, 0.25, 0.5, 0.63, 0.69, 0.75, 0.81, 0.9], 'k':[1,10,40,200]  }'''"
   ]
  },
  {
   "cell_type": "markdown",
   "metadata": {},
   "source": [
    "# Doing analysis for the same logit going to use the ground truth as it is a Schelling point"
   ]
  },
  {
   "cell_type": "code",
   "execution_count": 4,
   "metadata": {},
   "outputs": [],
   "source": [
    "from importlib import reload\n",
    "import utils\n",
    "\n",
    "reload(utils)\n",
    "from utils import *"
   ]
  },
  {
   "cell_type": "code",
   "execution_count": 5,
   "metadata": {},
   "outputs": [],
   "source": [
    "batch_size=25\n",
    "num_batches=4\n",
    "prompt_length=100\n",
    "generated_length=150\n",
    "tot_len = prompt_length+generated_length\n",
    "\n",
    "import encoder\n",
    "from decodeLogits import *\n",
    "model_name='774M' #345M\n",
    "models_dir='../gpt-2/models'\n",
    "enc = encoder.get_encoder(model_name, models_dir)\n",
    "\n",
    "prompts=pd.read_csv('test_dataframe_500primer.csv')"
   ]
  },
  {
   "cell_type": "code",
   "execution_count": 6,
   "metadata": {},
   "outputs": [],
   "source": [
    "gpt_out_path = 'gpt-2_output/'\n",
    "additional_path = '-model_774M-seed_27'#'' \n",
    "#all_perps = pickle.load( gzip.open(gpt_out_path+'all_perplexities_perplexity_scores_for_the_dataset_Human_StoryPrompts_Completion.csv'+additional_path+'.pickle.gz', 'rb'))\n",
    "all_logits = pickle.load( gzip.open(gpt_out_path+'all_logits_perplexity_scores_for_the_dataset_Human_StoryPrompts_Completion.csv'+additional_path+'.pickle.gz', 'rb')) # needed to get the probabilities\n",
    "text = pickle.load( gzip.open(gpt_out_path+'all_text_perplexity_scores_for_the_dataset_Human_StoryPrompts_Completion.csv'+additional_path+'.pickle.gz', 'rb'))"
   ]
  },
  {
   "cell_type": "code",
   "execution_count": 7,
   "metadata": {},
   "outputs": [
    {
     "name": "stdout",
     "output_type": "stream",
     "text": [
      "23\n",
      "23\n",
      "24\n",
      "22\n"
     ]
    },
    {
     "data": {
      "text/plain": [
       "92"
      ]
     },
     "execution_count": 7,
     "metadata": {},
     "output_type": "execute_result"
    }
   ],
   "source": [
    "tot_num = 0\n",
    "mapping_to_batch = dict()\n",
    "for i in range(num_batches):\n",
    "    num_in_batch = all_logits[i].shape[0]\n",
    "    for el, b_ind in zip(range(tot_num, tot_num+num_in_batch), range(0, num_in_batch)):\n",
    "        mapping_to_batch[el] = (i, b_ind) # actual batch and then the ind in that batch\n",
    "    print( num_in_batch)\n",
    "    tot_num+= num_in_batch\n",
    "tot_num"
   ]
  },
  {
   "cell_type": "code",
   "execution_count": 8,
   "metadata": {},
   "outputs": [
    {
     "data": {
      "text/plain": [
       "(23, 150, 50257)"
      ]
     },
     "execution_count": 8,
     "metadata": {},
     "output_type": "execute_result"
    }
   ],
   "source": [
    "all_logits[0].shape"
   ]
  },
  {
   "cell_type": "markdown",
   "metadata": {},
   "source": [
    "# Want to generate things that are at the different probability levels"
   ]
  },
  {
   "cell_type": "markdown",
   "metadata": {},
   "source": [
    "# Looking at max deviation and getting these points within the tails of each"
   ]
  },
  {
   "cell_type": "markdown",
   "metadata": {},
   "source": [
    "## Want to also focus on the maximum deviation portions at some point. "
   ]
  },
  {
   "cell_type": "code",
   "execution_count": 9,
   "metadata": {},
   "outputs": [],
   "source": [
    "np.random.seed(28)"
   ]
  },
  {
   "cell_type": "code",
   "execution_count": 10,
   "metadata": {},
   "outputs": [],
   "source": [
    "# random prompts and locations within the 150 generation locations\n",
    "\n",
    "num_prompts_and_timepoints_wanted = 50 # cant be larger than 100 right now!!!\n",
    "assert num_prompts_and_timepoints_wanted <=100\n",
    "leading_prompt = 15\n",
    "\n",
    "want_min_max = False\n",
    "\n",
    "if want_min_max==True:\n",
    "    minmax = pd.read_csv('Min_Max_Disagreement_Coords_TFS90.csv')\n",
    "    #shuffle it and take the number that is wanted. \n",
    "    minmax = minmax.sample(frac= num_prompts_and_timepoints_wanted/minmax.shape[0])\n",
    "    display(minmax.head())\n",
    "    \n",
    "else:\n",
    "    rand_prompts = np.random.randint(0,tot_num, num_prompts_and_timepoints_wanted)\n",
    "    # leadingprompt until 150. as the logits are 150 not 250. \n",
    "    # -1 because of the end token prediction\n",
    "    rand_times = np.random.randint(0,generated_length-1, num_prompts_and_timepoints_wanted)"
   ]
  },
  {
   "cell_type": "code",
   "execution_count": 11,
   "metadata": {},
   "outputs": [
    {
     "data": {
      "text/plain": [
       "150"
      ]
     },
     "execution_count": 11,
     "metadata": {},
     "output_type": "execute_result"
    }
   ],
   "source": [
    "len(all_logits[0][0, :, 0])"
   ]
  },
  {
   "cell_type": "markdown",
   "metadata": {},
   "source": [
    "getting random locations\n",
    "for the differnet gen strategies. find the tail locations. take the tokens at each position. \n",
    "move onto the next random location. "
   ]
  },
  {
   "cell_type": "code",
   "execution_count": 12,
   "metadata": {},
   "outputs": [],
   "source": [
    "from importlib import reload\n",
    "import utils\n",
    "\n",
    "reload(utils)\n",
    "from utils import *"
   ]
  },
  {
   "cell_type": "code",
   "execution_count": 13,
   "metadata": {},
   "outputs": [],
   "source": [
    "enc = encoder.get_encoder(model_name, models_dir)"
   ]
  },
  {
   "cell_type": "code",
   "execution_count": 18,
   "metadata": {},
   "outputs": [
    {
     "name": "stdout",
     "output_type": "stream",
     "text": [
      "ground token 383\n",
      "one of the three tokens in front were not words so skipping\n",
      "ground token 220\n",
      "one of the three tokens in front were not words so skipping\n",
      "ground token 8449\n",
      "decoded ground word  Princess\n",
      "ground word prob is:  0.00081096415\n",
      "sorted indices [38539 21092 44910 38389  7011 30141 26199   569 21477   262]\n",
      "ten sps values [0.09158789 0.03608082 0.03481364 0.02311325 0.02190365 0.02131161\n",
      " 0.01902784 0.01692008 0.01686328 0.0158859 ]\n",
      "prob slices: [0.09158789 0.07327031 0.05495274 0.03663516 0.01831758 0.        ]\n",
      "words wanted rel positions [0, 1, 2, 3, 6, 35195]\n",
      "absolute positions of slice words [0, 1, 2, 3, 6, 50152]\n",
      "['Demons' 'Wizards' 'Witches' 'Ghosts' 'Devils' 'cumbers']\n",
      "ground token 314\n",
      "one of the three tokens in front were not words so skipping\n",
      "ground token 921\n",
      "one of the three tokens in front were not words so skipping\n",
      "ground token 465\n",
      "decoded ground word  his\n",
      "ground word prob is:  0.1101153\n",
      "sorted indices [  284   407   262   465   257   326   428   281 27232   220]\n",
      "ten sps values [0.3743754  0.15168922 0.114058   0.1101153  0.05774547 0.02652512\n",
      " 0.02458067 0.00658348 0.00655851 0.00533612]\n",
      "prob slices: [0.3743754  0.29950032 0.22462524 0.14975016 0.07487508 0.        ]\n",
      "words wanted rel positions [0, 1, 2, 3, 4, 35195]\n",
      "absolute positions of slice words [0, 1, 2, 3, 4, 50143]\n",
      "['to' 'not' 'the' 'his' 'a' 'abase']\n",
      "ground token 468\n",
      "decoded ground word  has\n",
      "ground word prob is:  0.8046437\n",
      "sorted indices [ 468  550  714  460  423 1683 4394 1088  318  564]\n",
      "ten sps values [0.8046437  0.11674176 0.02179473 0.01425535 0.0040541  0.0024963\n",
      " 0.00198535 0.00196201 0.00158396 0.00122511]\n",
      "prob slices: [0.80464369 0.64371495 0.48278621 0.32185748 0.16092874 0.        ]\n",
      "words wanted rel positions [0, 1, 2, 3, 4, 35194]\n",
      "absolute positions of slice words [0, 1, 2, 3, 4, 50156]\n",
      "['has' 'had' 'could' 'can' 'have' 'GROUND']\n",
      "ground token 45592\n",
      "one of the three tokens in front were not words so skipping\n",
      "ground token 13943\n",
      "one of the three tokens in front were not words so skipping\n",
      "ground token 1266\n",
      "one of the three tokens in front were not words so skipping\n",
      "ground token 287\n",
      "decoded ground word  in\n",
      "ground word prob is:  0.84284127\n",
      "sorted indices [ 287  319  286 6776  262  284 1683  508 1088  290]\n",
      "ten sps values [0.84284127 0.08912214 0.02224007 0.00960907 0.00953447 0.00389291\n",
      " 0.00319098 0.0022583  0.00163345 0.0014948 ]\n",
      "prob slices: [0.84284127 0.67427301 0.50570476 0.33713651 0.16856825 0.        ]\n",
      "words wanted rel positions [0, 1, 2, 3, 4, 35194]\n",
      "absolute positions of slice words [0, 1, 2, 3, 4, 50145]\n",
      "['in' 'on' 'of' 'alive' 'the' 'LEASE']\n",
      "ground token 1406\n",
      "one of the three tokens in front were not words so skipping\n",
      "ground token 2084\n",
      "decoded ground word  ago\n",
      "ground word prob is:  0.75072527\n",
      "sorted indices [2084  736  878 2961  706 3161  656 1568  287 2180]\n",
      "ten sps values [0.75072527 0.06238769 0.05910664 0.03373719 0.02528925 0.02364379\n",
      " 0.00643768 0.00462693 0.00324685 0.00196383]\n",
      "prob slices: [0.75072527 0.60058022 0.45043516 0.30029011 0.15014505 0.        ]\n",
      "words wanted rel positions [0, 1, 2, 3, 4, 35194]\n",
      "absolute positions of slice words [0, 1, 2, 3, 4, 50146]\n",
      "['ago' 'back' 'before' 'earlier' 'after' 'NEWS']\n",
      "ground token 13\n",
      "one of the three tokens in front were not words so skipping\n",
      "ground token 5338\n",
      "one of the three tokens in front were not words so skipping\n",
      "ground token 973\n",
      "one of the three tokens in front were not words so skipping\n",
      "ground token 220\n",
      "one of the three tokens in front were not words so skipping\n",
      "ground token 760\n",
      "decoded ground word  know\n",
      "ground word prob is:  0.027079063\n",
      "sorted indices [ 460 1101  716  991  423 1254  760 3285  836 2314]\n",
      "ten sps values [0.20402168 0.17490853 0.14912899 0.08578479 0.05179041 0.02759262\n",
      " 0.02707906 0.02610521 0.02128876 0.0207662 ]\n",
      "prob slices: [0.20402168 0.16321734 0.12241301 0.08160867 0.04080434 0.        ]\n",
      "words wanted rel positions [0, 1, 2, 3, 4, 35195]\n",
      "absolute positions of slice words [0, 2, 3, 4, 5, 50143]\n",
      "['can' 'am' 'still' 'have' 'feel' 'conservancy']\n",
      "ground token 262\n",
      "decoded ground word  the\n",
      "ground word prob is:  0.32146803\n",
      "sorted indices [  257   262   616   281   617   465   530 10598   428   326]\n",
      "ten sps values [0.44043052 0.32146803 0.08462332 0.03692335 0.01487178 0.00647565\n",
      " 0.0057577  0.00531165 0.00411859 0.00404464]\n",
      "prob slices: [0.44043052 0.35234442 0.26425831 0.17617221 0.0880861  0.        ]\n",
      "words wanted rel positions [0, 1, 2, 3, 4, 35196]\n",
      "absolute positions of slice words [0, 1, 2, 3, 4, 50151]\n",
      "['a' 'the' 'my' 'an' 'some' 'Alternative']\n",
      "ground token 938\n",
      "one of the three tokens in front were not words so skipping\n",
      "ground token 674\n",
      "decoded ground word  our\n",
      "ground word prob is:  0.03929912\n",
      "sorted indices [ 547  262  550  286  674  616   11 6304  290 3114]\n",
      "ten sps values [0.38491347 0.22930746 0.09021001 0.08391155 0.03929916 0.01991919\n",
      " 0.00976702 0.00854576 0.00747028 0.00606062]\n",
      "prob slices: [0.38491347 0.30793078 0.23094808 0.15396539 0.07698269 0.        ]\n",
      "words wanted rel positions [0, 1, 2, 3, 4, 35193]\n",
      "absolute positions of slice words [0, 1, 2, 3, 4, 50149]\n",
      "['were' 'the' 'had' 'of' 'our' 'archives']\n",
      "ground token 510\n",
      "decoded ground word  up\n",
      "ground word prob is:  0.29023775\n",
      "sorted indices [994 510 656 284 287 428 326 736 422 416]\n",
      "ten sps values [0.46162358 0.29023775 0.08129427 0.07268722 0.03148916 0.01048421\n",
      " 0.00503392 0.00479656 0.00479413 0.00466667]\n",
      "prob slices: [0.46162358 0.36929886 0.27697415 0.18464943 0.09232472 0.        ]\n",
      "words wanted rel positions [0, 1, 2, 3, 4, 35195]\n",
      "absolute positions of slice words [0, 1, 2, 3, 4, 50160]\n",
      "['here' 'up' 'into' 'to' 'in' 'Cosponsors']\n",
      "ground token 247\n",
      "one of the three tokens in front were not words so skipping\n",
      "ground token 703\n",
      "one of the three tokens in front were not words so skipping\n",
      "ground token 477\n",
      "decoded ground word  all\n",
      "ground word prob is:  0.11724809\n",
      "sorted indices [  345 49124   477  3668  2506   262   606   514 13647   534]\n",
      "ten sps values [0.27530676 0.25284997 0.11724809 0.05485898 0.03810996 0.03300732\n",
      " 0.02770692 0.02410196 0.00962026 0.00940766]\n",
      "prob slices: [0.27530676 0.22024541 0.16518406 0.1101227  0.05506135 0.        ]\n",
      "words wanted rel positions [0, 1, 2, 3, 4, 35196]\n",
      "absolute positions of slice words [0, 1, 2, 3, 4, 50140]\n",
      "['you' 'Dirt' 'all' 'Earth' 'everyone' 'hawks']\n",
      "ground token 4001\n",
      "one of the three tokens in front were not words so skipping\n",
      "ground token 3668\n",
      "decoded ground word  Earth\n",
      "ground word prob is:  0.07376727\n",
      "sorted indices [  262   674  3668   257  8706 24118   309  4534   530   616]\n",
      "ten sps values [0.32149562 0.10103543 0.07376727 0.04393134 0.02474849 0.01037354\n",
      " 0.00991308 0.00973555 0.00923784 0.00833134]\n",
      "prob slices: [0.32149562 0.2571965  0.19289737 0.12859825 0.06429912 0.        ]\n",
      "words wanted rel positions [0, 1, 2, 3, 4, 35193]\n",
      "absolute positions of slice words [0, 1, 2, 3, 4, 50137]\n",
      "['the' 'our' 'Earth' 'a' 'Mars' 'oiler']\n",
      "ground token 11\n",
      "one of the three tokens in front were not words so skipping\n",
      "ground token 329\n",
      "decoded ground word  for\n",
      "ground word prob is:  0.6070613\n",
      "sorted indices [ 329  523  284  287  257  878  355  588  503 4953]\n",
      "ten sps values [0.6070613  0.0768423  0.0664531  0.03440844 0.02063576 0.01949295\n",
      " 0.01923008 0.01086602 0.01084875 0.00927434]\n",
      "prob slices: [0.60706133 0.48564906 0.3642368  0.24282453 0.12141227 0.        ]\n",
      "words wanted rel positions [0, 1, 2, 3, 4, 35195]\n",
      "absolute positions of slice words [0, 1, 2, 3, 4, 50122]\n",
      "['for' 'so' 'to' 'in' 'a' 'avid']\n",
      "ground token 11691\n",
      "decoded ground word  suppose\n",
      "ground word prob is:  0.024457293\n",
      "sorted indices [ 460  423  466  836  750 1101  564  716  714  373]\n",
      "ten sps values [0.07606108 0.05641991 0.04608597 0.04182966 0.04155849 0.04002976\n",
      " 0.03860511 0.03834723 0.03069897 0.02948304]\n",
      "prob slices: [0.07606108 0.06084886 0.04563665 0.03042443 0.01521222 0.        ]\n",
      "words wanted rel positions [0, 1, 2, 6, 12, 35193]\n",
      "absolute positions of slice words [0, 1, 2, 8, 14, 50139]\n",
      "['can' 'have' 'do' 'could' 'think' 'rift']\n",
      "ground token 835\n",
      "decoded ground word  way\n",
      "ground word prob is:  0.004808159\n",
      "sorted indices [ 262  356  611 1637  612  428  345   11  674  340]\n",
      "ten sps values [0.1323361  0.1235096  0.07650616 0.05987259 0.04175181 0.04050183\n",
      " 0.03232007 0.03208743 0.02969613 0.02198435]\n",
      "prob slices: [0.13233609 0.10586888 0.07940166 0.05293444 0.02646722 0.        ]\n",
      "words wanted rel positions [0, 1, 2, 3, 7, 35194]\n",
      "absolute positions of slice words [0, 1, 2, 3, 8, 50139]\n",
      "['the' 'we' 'if' 'money' 'our' 'Crew']\n",
      "ground token 661\n",
      "decoded ground word  people\n",
      "ground word prob is:  0.014425957\n",
      "sorted indices [262 612 428 340 287  11 257 314 645 611]\n",
      "ten sps values [0.17950313 0.04289242 0.03677039 0.02908443 0.02545756 0.02509615\n",
      " 0.02177272 0.02076795 0.02065639 0.01921988]\n",
      "prob slices: [0.17950313 0.1436025  0.10770188 0.07180125 0.03590063 0.        ]\n",
      "words wanted rel positions [0, 1, 2, 3, 4, 35196]\n",
      "absolute positions of slice words [0, 1, 2, 3, 4, 50161]\n",
      "['the' 'there' 'this' 'it' 'in' 'EVA']\n",
      "ground token 470\n",
      "one of the three tokens in front were not words so skipping\n",
      "ground token 290\n",
      "one of the three tokens in front were not words so skipping\n",
      "ground token 18755\n",
      "one of the three tokens in front were not words so skipping\n",
      "ground token 2063\n",
      "decoded ground word  half\n",
      "ground word prob is:  0.05205488\n",
      "sorted indices [ 1767  2063   530   636 28668   373  3354  3211  1735  6903]\n",
      "ten sps values [0.7409587  0.05205488 0.04751921 0.03509087 0.01166612 0.0096747\n",
      " 0.00464597 0.00447389 0.00441072 0.00419448]\n",
      "prob slices: [0.74095869 0.59276695 0.44457521 0.29638348 0.14819174 0.        ]\n",
      "words wanted rel positions [0, 1, 2, 3, 4, 35194]\n",
      "absolute positions of slice words [0, 1, 2, 3, 4, 50144]\n",
      "['body' 'half' 'one' 'part' 'torso' 'Attend']\n",
      "ground token 220\n",
      "one of the three tokens in front were not words so skipping\n",
      "ground token 510\n",
      "decoded ground word  up\n",
      "ground word prob is:  0.2094082\n",
      "sorted indices [262 510 465 257 616 428 281 502 326 340]\n",
      "ten sps values [0.2931285  0.2094082  0.138198   0.12856188 0.10179077 0.02001203\n",
      " 0.01047786 0.0081699  0.00804885 0.00793408]\n",
      "prob slices: [0.29312849 0.23450279 0.17587709 0.1172514  0.0586257  0.        ]\n",
      "words wanted rel positions [0, 1, 2, 3, 5, 35193]\n",
      "absolute positions of slice words [0, 1, 2, 3, 5, 50141]\n",
      "['the' 'up' 'his' 'a' 'this' 'yip']\n",
      "ground token 11\n",
      "one of the three tokens in front were not words so skipping\n",
      "ground token 3155\n",
      "decoded ground word  couple\n",
      "ground word prob is:  0.10931101\n",
      "sorted indices [1178  614 3155  981 1285 1227 1310  890 1545 1110]\n",
      "ten sps values [0.52035546 0.13517702 0.10931101 0.03870826 0.02870262 0.02648702\n",
      " 0.02137477 0.01098621 0.00622781 0.00516686]\n",
      "prob slices: [0.52035546 0.41628437 0.31221328 0.20814219 0.10407109 0.        ]\n",
      "words wanted rel positions [0, 1, 2, 3, 4, 35194]\n",
      "absolute positions of slice words [0, 1, 2, 3, 4, 50144]\n",
      "['few' 'year' 'couple' 'while' 'week' 'Engineers']\n",
      "ground token 10825\n",
      "decoded ground word  emotions\n",
      "ground word prob is:  0.000914615\n",
      "sorted indices [11561  3554 23071  4365 22576  4028  2457  8492 13353   898]\n",
      "ten sps values [0.22419132 0.06905108 0.03100617 0.0284886  0.02371871 0.01917993\n",
      " 0.01727536 0.01232516 0.01089239 0.00999017]\n",
      "prob slices: [0.22419132 0.17935306 0.13451479 0.08967653 0.04483826 0.        ]\n",
      "words wanted rel positions [0, 1, 2, 3, 4, 35193]\n",
      "absolute positions of slice words [0, 1, 3, 4, 5, 50128]\n",
      "['commander' 'leader' 'mission' 'commanders' 'actions' 'yip']\n",
      "ground token 883\n",
      "decoded ground word  those\n",
      "ground word prob is:  0.00096519623\n",
      "sorted indices [ 338  314  318  484  262  340  428  616 3022  345]\n",
      "ten sps values [0.29192024 0.21780199 0.18371102 0.06548033 0.02470043 0.01801245\n",
      " 0.01782407 0.0167475  0.01572491 0.01357089]\n",
      "prob slices: [0.29192024 0.2335362  0.17515215 0.1167681  0.05838405 0.        ]\n",
      "words wanted rel positions [0, 1, 2, 3, 4, 35193]\n",
      "absolute positions of slice words [1, 2, 3, 4, 5, 50144]\n",
      "['I' 'is' 'they' 'the' 'it' 'Export']\n",
      "ground token 2067\n",
      "one of the three tokens in front were not words so skipping\n",
      "ground token 198\n",
      "one of the three tokens in front were not words so skipping\n",
      "ground token 362\n",
      "one of the three tokens in front were not words so skipping\n",
      "ground token 340\n",
      "decoded ground word  it\n",
      "ground word prob is:  0.34888038\n",
      "sorted indices [ 340  262 1497  465  379  257  617  572  326  510]\n",
      "ten sps values [0.34888038 0.29307398 0.11994193 0.11213859 0.06299218 0.01479714\n",
      " 0.0105058  0.00522322 0.00519623 0.00193806]\n",
      "prob slices: [0.34888038 0.2791043  0.20932823 0.13955215 0.06977608 0.        ]\n",
      "words wanted rel positions [0, 1, 2, 3, 4, 35193]\n",
      "absolute positions of slice words [0, 1, 2, 3, 4, 50145]\n",
      "['it' 'the' 'away' 'his' 'at' 'Subscribe']\n",
      "ground token 8601\n",
      "one of the three tokens in front were not words so skipping\n",
      "ground token 5822\n",
      "decoded ground word  king\n",
      "ground word prob is:  0.119537115\n",
      "sorted indices [ 5822  6181 19716  4252 10441  9234  2933  3367  2677 20589]\n",
      "ten sps values [0.11953712 0.0666927  0.0541876  0.0373808  0.02474365 0.02369402\n",
      " 0.01963837 0.01391213 0.01336329 0.01194685]\n",
      "prob slices: [0.11953712 0.09562969 0.07172227 0.04781485 0.02390742 0.        ]\n",
      "words wanted rel positions [0, 1, 2, 3, 5, 35196]\n",
      "absolute positions of slice words [0, 1, 2, 3, 5, 50161]\n",
      "['king' 'evil' 'prince' 'sun' 'monster' 'SHIP']\n",
      "ground token 11\n",
      "one of the three tokens in front were not words so skipping\n",
      "ground token 11\n",
      "one of the three tokens in front were not words so skipping\n"
     ]
    }
   ],
   "source": [
    "# applying all analyses to the logits. \n",
    "prompt_length = 100\n",
    "slices_from_each = 6 # as one will also be the ground truth word. \n",
    "to_df = []\n",
    "\n",
    "# randomly select generations and positions in those generations. from the original prompts. \n",
    "for r_ind in range(0, num_prompts_and_timepoints_wanted):\n",
    "    \n",
    "    if want_min_max ==True:\n",
    "        prompt = 999\n",
    "        batch_ind, ind_in_batch = minmax.iloc[r_ind, 1], minmax.iloc[r_ind, 2]\n",
    "        time_point = minmax.iloc[r_ind,3]\n",
    "        if time_point>=149:\n",
    "            continue # because of the stop token being predicted. \n",
    "        text_timepoint = time_point+prompt_length+1 # +1 because the perplexities keeps the end prediction token. \n",
    "    else:\n",
    "        prompt = rand_prompts[r_ind]\n",
    "        time_point = rand_times[r_ind]\n",
    "        text_timepoint = time_point+prompt_length+1 # +1 because the perplexities keeps the end prediction token. \n",
    "        batch_ind, ind_in_batch = mapping_to_batch[prompt]\n",
    "    \n",
    "    sps_no_sort = softmax(all_logits[batch_ind][ind_in_batch, time_point, :])\n",
    "    sps = softmax(-np.sort(-all_logits[batch_ind][ind_in_batch, time_point, :]))\n",
    "    prob_slices_wanted = np.linspace(sps[0],0,slices_from_each)\n",
    "    \n",
    "    indices = np.argsort(-all_logits[batch_ind][ind_in_batch, time_point, :])\n",
    "    ground_token = text[batch_ind][ind_in_batch][text_timepoint]\n",
    "    print('ground token', ground_token)\n",
    "    prev_token = text[batch_ind][ind_in_batch][text_timepoint-1]\n",
    "    prev_prev_token = text[batch_ind][ind_in_batch][text_timepoint-2]\n",
    "    prev_tokens = [ground_token, prev_token,prev_prev_token]\n",
    "    \n",
    "    # check if these are even real words first \n",
    "    real_prompt_words, _ = remove_non_words(prev_tokens, wantPrint=False)\n",
    "    #print(real_prompt_words)\n",
    "    if len(real_prompt_words)<len(prev_tokens):\n",
    "        print('one of the three tokens in front were not words so skipping')\n",
    "        continue\n",
    "        \n",
    "    else: \n",
    "        ground_word = decoder_text([ground_token])\n",
    "        print('decoded ground word', ground_word)\n",
    "        #stripped_prev_tokens.append(space_free[0])\n",
    "\n",
    "        #ground_word = stripped_prev_tokens[-1]]) #[ground_token])\n",
    "        # what the ground token is\n",
    "        ground_word_prob = sps_no_sort[ground_token]\n",
    "        \n",
    "        print('ground word prob is: ', ground_word_prob)\n",
    "        print('sorted indices', indices[:10])\n",
    "    \n",
    "    '''stripped_prev_tokens = []\n",
    "    # need to strip the spaces and recode. \n",
    "    for prev_tind, t in enumerate(prev_tokens):\n",
    "        print('token pre space correction -----',t)\n",
    "        \n",
    "        gword = decoder_text([t])\n",
    "        \n",
    "        space_free = enc.encode(gword.strip())\n",
    "        \n",
    "        \n",
    "        if len(space_free) == 0:\n",
    "            stripped_prev_tokens.append(0)\n",
    "        else: \n",
    "            stripped_prev_tokens.append(space_free[0])\n",
    "            print('what word it now decodes to -----', decoder_text([space_free[0]]))\n",
    "        \n",
    "    #print('prev tokens', prev_tokens)\n",
    "    print(stripped_prev_tokens)'''\n",
    "    \n",
    "    #clean the ground token:\n",
    "    \n",
    "    #gword = decoder_text([ground_token])\n",
    "    #print('decoded original ground word ----', gword)\n",
    "    #space_free_enc = enc.encode(gword.strip())\n",
    "    #print('space free encoded token ---- ', space_free_enc)\n",
    "    \n",
    "    #if len(space_free_enc) == 0:\n",
    "    #    continue\n",
    "    \n",
    "    #get the 15 words in front. \n",
    "    lead_prompt_words = decoder_text(text[batch_ind][ind_in_batch][text_timepoint-leading_prompt:text_timepoint])\n",
    "    df_row = [prompt, time_point, batch_ind, ind_in_batch, lead_prompt_words, ground_word, ground_word_prob] # taking it from the last one. \n",
    "    \n",
    "    print('ten sps values', sps[0:10])\n",
    "    print('prob slices:', prob_slices_wanted)\n",
    "    \n",
    "    #remove any non word tokens from whole list. (could be done more efficiently)\n",
    "    real_word_tokens, abs_pos = remove_non_words(indices)\n",
    "    \n",
    "    real_word_probs = sps[np.asarray(abs_pos)]\n",
    "    \n",
    "    rel_to_abs_index = {rel:absolute for rel, absolute in zip(range(len(abs_pos)), abs_pos )}\n",
    "    \n",
    "    # select the right positions and words: \n",
    "    #NEED TO IGNORE ANY OF THE SLICES THAT ARE TOO LARGE.  TAKE THE HIGHEST PROB WORD AND THEN DO THE SLICES.\n",
    "    rel_words_positions_wanted, sel_word_probs = get_specific_positions_from_probs(real_word_probs, prob_slices_wanted)\n",
    "    \n",
    "    print('words wanted rel positions', rel_words_positions_wanted)\n",
    "    \n",
    "    abs_words_positions_wanted = [ rel_to_abs_index[rel] for rel in rel_words_positions_wanted]\n",
    "    print('absolute positions of slice words', abs_words_positions_wanted)\n",
    "    print(np.asarray(real_word_tokens)[np.asarray(rel_words_positions_wanted)])\n",
    "    df_row.append(np.asarray(real_word_tokens)[np.asarray(rel_words_positions_wanted)]) # adding the words themselves. \n",
    "    df_row.append(abs_words_positions_wanted)\n",
    "    df_row.append(sel_word_probs)\n",
    "        \n",
    "    to_df.append(df_row)"
   ]
  },
  {
   "cell_type": "code",
   "execution_count": 19,
   "metadata": {},
   "outputs": [
    {
     "data": {
      "text/plain": [
       "True"
      ]
     },
     "execution_count": 19,
     "metadata": {},
     "output_type": "execute_result"
    }
   ],
   "source": [
    "d = enchant.Dict(\"en_US\")\n",
    "d.check('rust')"
   ]
  },
  {
   "cell_type": "code",
   "execution_count": 20,
   "metadata": {},
   "outputs": [],
   "source": [
    "results = pd.DataFrame(to_df, columns = ['prompt_ind', 'time_point', \n",
    "                               'batch_ind', 'ind_in_batch', 'leading_words',\n",
    "                               'ground_word', 'ground_word_prob', 'words', 'abs_inds', 'probs'])\n",
    "                                         \n",
    "results;"
   ]
  },
  {
   "cell_type": "code",
   "execution_count": 21,
   "metadata": {},
   "outputs": [],
   "source": [
    "assert results.drop_duplicates('leading_words').shape == results.shape"
   ]
  },
  {
   "cell_type": "code",
   "execution_count": 26,
   "metadata": {},
   "outputs": [
    {
     "data": {
      "text/plain": [
       "(22, 10)"
      ]
     },
     "execution_count": 26,
     "metadata": {},
     "output_type": "execute_result"
    }
   ],
   "source": [
    "results.shape"
   ]
  },
  {
   "cell_type": "code",
   "execution_count": 27,
   "metadata": {},
   "outputs": [
    {
     "data": {
      "text/html": [
       "<div>\n",
       "<style scoped>\n",
       "    .dataframe tbody tr th:only-of-type {\n",
       "        vertical-align: middle;\n",
       "    }\n",
       "\n",
       "    .dataframe tbody tr th {\n",
       "        vertical-align: top;\n",
       "    }\n",
       "\n",
       "    .dataframe thead th {\n",
       "        text-align: right;\n",
       "    }\n",
       "</style>\n",
       "<table border=\"1\" class=\"dataframe\">\n",
       "  <thead>\n",
       "    <tr style=\"text-align: right;\">\n",
       "      <th></th>\n",
       "      <th>prompt_ind</th>\n",
       "      <th>time_point</th>\n",
       "      <th>batch_ind</th>\n",
       "      <th>ind_in_batch</th>\n",
       "      <th>leading_words</th>\n",
       "      <th>ground_word</th>\n",
       "      <th>ground_word_prob</th>\n",
       "      <th>words</th>\n",
       "      <th>abs_inds</th>\n",
       "      <th>probs</th>\n",
       "    </tr>\n",
       "  </thead>\n",
       "  <tbody>\n",
       "    <tr>\n",
       "      <th>0</th>\n",
       "      <td>22</td>\n",
       "      <td>125</td>\n",
       "      <td>0</td>\n",
       "      <td>22</td>\n",
       "      <td>\\n In addition, the new sorority of Faeries, ...</td>\n",
       "      <td>Princess</td>\n",
       "      <td>0.000811</td>\n",
       "      <td>[Demons, Wizards, Witches, Ghosts, Devils, cum...</td>\n",
       "      <td>[0, 1, 2, 3, 6, 50152]</td>\n",
       "      <td>[0.09158789, 0.036080822, 0.034813635, 0.02311...</td>\n",
       "    </tr>\n",
       "    <tr>\n",
       "      <th>1</th>\n",
       "      <td>87</td>\n",
       "      <td>130</td>\n",
       "      <td>3</td>\n",
       "      <td>17</td>\n",
       "      <td>about your Master, Jamie, Mickeymouse?'' Lewi...</td>\n",
       "      <td>his</td>\n",
       "      <td>0.110115</td>\n",
       "      <td>[to, not, the, his, a, abase]</td>\n",
       "      <td>[0, 1, 2, 3, 4, 50143]</td>\n",
       "      <td>[0.3743754, 0.15168922, 0.114058, 0.1101153, 0...</td>\n",
       "    </tr>\n",
       "    <tr>\n",
       "      <th>2</th>\n",
       "      <td>12</td>\n",
       "      <td>31</td>\n",
       "      <td>0</td>\n",
       "      <td>12</td>\n",
       "      <td>wronged him all the while overpaying for all ...</td>\n",
       "      <td>has</td>\n",
       "      <td>0.804644</td>\n",
       "      <td>[has, had, could, can, have, GROUND]</td>\n",
       "      <td>[0, 1, 2, 3, 4, 50156]</td>\n",
       "      <td>[0.8046437, 0.11674176, 0.021794733, 0.0142553...</td>\n",
       "    </tr>\n",
       "    <tr>\n",
       "      <th>3</th>\n",
       "      <td>12</td>\n",
       "      <td>72</td>\n",
       "      <td>0</td>\n",
       "      <td>12</td>\n",
       "      <td>Alexandre Dumas, who at one point was one of ...</td>\n",
       "      <td>in</td>\n",
       "      <td>0.842841</td>\n",
       "      <td>[in, on, of, alive, the, LEASE]</td>\n",
       "      <td>[0, 1, 2, 3, 4, 50145]</td>\n",
       "      <td>[0.84284127, 0.08912214, 0.022240072, 0.009609...</td>\n",
       "    </tr>\n",
       "    <tr>\n",
       "      <th>4</th>\n",
       "      <td>8</td>\n",
       "      <td>139</td>\n",
       "      <td>0</td>\n",
       "      <td>8</td>\n",
       "      <td>\\n \\n I was not always this way, just a few m...</td>\n",
       "      <td>ago</td>\n",
       "      <td>0.750725</td>\n",
       "      <td>[ago, back, before, earlier, after, NEWS]</td>\n",
       "      <td>[0, 1, 2, 3, 4, 50146]</td>\n",
       "      <td>[0.75072527, 0.062387686, 0.059106637, 0.03373...</td>\n",
       "    </tr>\n",
       "    <tr>\n",
       "      <th>5</th>\n",
       "      <td>1</td>\n",
       "      <td>41</td>\n",
       "      <td>0</td>\n",
       "      <td>1</td>\n",
       "      <td>\\n \\n \\n Oh no, my eyes may be closed but I</td>\n",
       "      <td>know</td>\n",
       "      <td>0.027079</td>\n",
       "      <td>[can, am, still, have, feel, conservancy]</td>\n",
       "      <td>[0, 2, 3, 4, 5, 50143]</td>\n",
       "      <td>[0.20402168, 0.14912899, 0.08578479, 0.0517904...</td>\n",
       "    </tr>\n",
       "    <tr>\n",
       "      <th>6</th>\n",
       "      <td>78</td>\n",
       "      <td>139</td>\n",
       "      <td>3</td>\n",
       "      <td>8</td>\n",
       "      <td>all over Rome, and i get to fish it out of th...</td>\n",
       "      <td>the</td>\n",
       "      <td>0.321468</td>\n",
       "      <td>[a, the, my, an, some, Alternative]</td>\n",
       "      <td>[0, 1, 2, 3, 4, 50151]</td>\n",
       "      <td>[0.44043052, 0.32146803, 0.08462332, 0.0369233...</td>\n",
       "    </tr>\n",
       "  </tbody>\n",
       "</table>\n",
       "</div>"
      ],
      "text/plain": [
       "   prompt_ind  time_point  batch_ind  ind_in_batch  \\\n",
       "0          22         125          0            22   \n",
       "1          87         130          3            17   \n",
       "2          12          31          0            12   \n",
       "3          12          72          0            12   \n",
       "4           8         139          0             8   \n",
       "5           1          41          0             1   \n",
       "6          78         139          3             8   \n",
       "\n",
       "                                       leading_words ground_word  \\\n",
       "0   \\n In addition, the new sorority of Faeries, ...    Princess   \n",
       "1   about your Master, Jamie, Mickeymouse?'' Lewi...         his   \n",
       "2   wronged him all the while overpaying for all ...         has   \n",
       "3   Alexandre Dumas, who at one point was one of ...          in   \n",
       "4   \\n \\n I was not always this way, just a few m...         ago   \n",
       "5        \\n \\n \\n Oh no, my eyes may be closed but I        know   \n",
       "6   all over Rome, and i get to fish it out of th...         the   \n",
       "\n",
       "   ground_word_prob                                              words  \\\n",
       "0          0.000811  [Demons, Wizards, Witches, Ghosts, Devils, cum...   \n",
       "1          0.110115                      [to, not, the, his, a, abase]   \n",
       "2          0.804644               [has, had, could, can, have, GROUND]   \n",
       "3          0.842841                    [in, on, of, alive, the, LEASE]   \n",
       "4          0.750725          [ago, back, before, earlier, after, NEWS]   \n",
       "5          0.027079          [can, am, still, have, feel, conservancy]   \n",
       "6          0.321468                [a, the, my, an, some, Alternative]   \n",
       "\n",
       "                 abs_inds                                              probs  \n",
       "0  [0, 1, 2, 3, 6, 50152]  [0.09158789, 0.036080822, 0.034813635, 0.02311...  \n",
       "1  [0, 1, 2, 3, 4, 50143]  [0.3743754, 0.15168922, 0.114058, 0.1101153, 0...  \n",
       "2  [0, 1, 2, 3, 4, 50156]  [0.8046437, 0.11674176, 0.021794733, 0.0142553...  \n",
       "3  [0, 1, 2, 3, 4, 50145]  [0.84284127, 0.08912214, 0.022240072, 0.009609...  \n",
       "4  [0, 1, 2, 3, 4, 50146]  [0.75072527, 0.062387686, 0.059106637, 0.03373...  \n",
       "5  [0, 2, 3, 4, 5, 50143]  [0.20402168, 0.14912899, 0.08578479, 0.0517904...  \n",
       "6  [0, 1, 2, 3, 4, 50151]  [0.44043052, 0.32146803, 0.08462332, 0.0369233...  "
      ]
     },
     "execution_count": 27,
     "metadata": {},
     "output_type": "execute_result"
    }
   ],
   "source": [
    "results.head(7)"
   ]
  },
  {
   "cell_type": "code",
   "execution_count": 28,
   "metadata": {},
   "outputs": [
    {
     "data": {
      "text/plain": [
       "'\\n \\n \\n Oh no, my eyes may be closed but I'"
      ]
     },
     "execution_count": 28,
     "metadata": {},
     "output_type": "execute_result"
    }
   ],
   "source": [
    "results.loc[5, 'leading_words']"
   ]
  },
  {
   "cell_type": "code",
   "execution_count": 29,
   "metadata": {},
   "outputs": [],
   "source": [
    "file_name_base = 'MTURK_QUESTIONS_TWO_'"
   ]
  },
  {
   "cell_type": "code",
   "execution_count": 30,
   "metadata": {},
   "outputs": [],
   "source": [
    "results.to_csv(file_name_base+'_backup_of_different_prob_slices.csv')"
   ]
  },
  {
   "cell_type": "code",
   "execution_count": 31,
   "metadata": {},
   "outputs": [],
   "source": [
    "answer_orders = []\n",
    "with open(file_name_base + '_blind_output.txt', 'w') as file: \n",
    "    file.write('For each of the following assignments, rank on a scale of 1-5 how possible each word is, given the provided context. \\n')\n",
    "    file.write('Some words are stems, if the word could be completed then you can still rank it highly. And be generous with acronyms that could be plausible. ')\n",
    "    file.write('It helps to repeat the last few words of the prompt in your head while deciding how replaceable the current one is.')\n",
    "    file.write('5 means the word would work very well here, 1 means it doesnt make any sense, 3 means it could potentially work.')\n",
    "    file.write('===================================================== \\n \\n')\n",
    "    for ind in range(results.shape[0]):\n",
    "        file.write('Prompt '+str(ind)+'. \\n')\n",
    "        file.write('The '+str(leading_prompt)+' words in front: \\n \\n')\n",
    "        file.write(results.loc[ind, 'leading_words']+' _______')\n",
    "        #file.write(results.loc[ind, 'leading_words']+' : '+ results.loc[ind, 'ground_word'] )\n",
    "        file.write('\\n')\n",
    "        \n",
    "        words = [results.loc[ind, 'ground_word']]\n",
    "        words += list(results.loc[ind, 'words'])\n",
    "        words =np.asarray(words)\n",
    "        \n",
    "        order = ['ground_word']\n",
    "        order += [str(i) for i in range(len(words)-1)]\n",
    "        order = np.asarray(order)\n",
    "        \n",
    "        probs = [results.loc[ind, 'ground_word_prob']]\n",
    "        probs += results.loc[ind, 'probs']\n",
    "        probs = np.asarray(probs)\n",
    "                \n",
    "        #print(words, order)\n",
    "        shuffler = np.random.choice(range(len(words)), size =len(words), replace=False )\n",
    "        #print(len(words))\n",
    "        #print(shuffler)\n",
    "        \n",
    "        words = words[shuffler]\n",
    "        order = order[shuffler]\n",
    "        probs = probs[shuffler]\n",
    "        \n",
    "        question_answers = []\n",
    "        for w, p, o in zip(words,probs, order):\n",
    "            \n",
    "            if o=='ground_word':\n",
    "                w_p = (w,p,1)\n",
    "            else: \n",
    "                w_p = (w,p,0)\n",
    "        \n",
    "            question_answers.append(w_p)\n",
    "            \n",
    "        answer_orders.append(question_answers)\n",
    "        \n",
    "        #print('after', words, order)\n",
    "        \n",
    "        for i in range(len(words)):\n",
    "            file.write(str(i+1)+'. '+words[i]+' ')\n",
    "                \n",
    "        file.write('\\n \\n')\n",
    "        file.write('=====================================================')\n",
    "        file.write('\\n \\n')\n",
    "        \n",
    "with open(file_name_base + '_answers.txt', 'w') as file: \n",
    "    for ind, w_p in enumerate(answer_orders):\n",
    "        file.write('Prompt '+str(ind)+' : \\n')\n",
    "        for el_ind, el in enumerate(w_p): \n",
    "            file.write(str(el_ind+1) + '. '+str(el) +' ')\n",
    "        file.write('\\n')\n",
    "        file.write('=====================================================')\n",
    "        file.write('\\n')\n",
    "\n",
    "pickle.dump(answer_orders,open(file_name_base + '_answers_list.pickle','wb'))"
   ]
  },
  {
   "cell_type": "code",
   "execution_count": 32,
   "metadata": {},
   "outputs": [
    {
     "data": {
      "text/plain": [
       "[[('Devils', 0.019027840346097946, 0),\n",
       "  (' Princess', 0.0008109641494229436, 1),\n",
       "  ('cumbers', 1.6756467741130265e-11, 0),\n",
       "  ('Demons', 0.09158789366483688, 0),\n",
       "  ('Witches', 0.03481363505125046, 0),\n",
       "  ('Wizards', 0.036080822348594666, 0),\n",
       "  ('Ghosts', 0.023113250732421875, 0)],\n",
       " [('his', 0.11011529713869095, 0),\n",
       "  ('the', 0.1140580028295517, 0),\n",
       "  ('a', 0.057745471596717834, 0),\n",
       "  ('to', 0.3743754029273987, 0),\n",
       "  ('abase', 1.9319823518770818e-11, 0),\n",
       "  ('not', 0.15168921649456024, 0),\n",
       "  (' his', 0.11011529713869095, 1)],\n",
       " [(' has', 0.8046436905860901, 1),\n",
       "  ('could', 0.02179473266005516, 0),\n",
       "  ('GROUND', 1.9108309769547138e-13, 0),\n",
       "  ('has', 0.8046436905860901, 0),\n",
       "  ('can', 0.01425535324960947, 0),\n",
       "  ('have', 0.004054101649671793, 0),\n",
       "  ('had', 0.11674176156520844, 0)],\n",
       " [('the', 0.009534470736980438, 0),\n",
       "  ('LEASE', 3.4826590396275225e-13, 0),\n",
       "  ('alive', 0.009609066881239414, 0),\n",
       "  ('on', 0.08912213891744614, 0),\n",
       "  ('in', 0.8428412675857544, 0),\n",
       "  ('of', 0.02224007248878479, 0),\n",
       "  (' in', 0.8428412675857544, 1)],\n",
       " [('after', 0.025289252400398254, 0),\n",
       "  ('back', 0.06238768622279167, 0),\n",
       "  ('before', 0.05910663679242134, 0),\n",
       "  ('earlier', 0.033737193793058395, 0),\n",
       "  (' ago', 0.750725269317627, 1),\n",
       "  ('ago', 0.750725269317627, 0),\n",
       "  ('NEWS', 3.762782620209126e-12, 0)],\n",
       " [(' know', 0.027079062536358833, 1),\n",
       "  ('can', 0.20402167737483978, 0),\n",
       "  ('conservancy', 2.7998113810018266e-12, 0),\n",
       "  ('am', 0.1491289883852005, 0),\n",
       "  ('feel', 0.0275926161557436, 0),\n",
       "  ('still', 0.08578479290008545, 0),\n",
       "  ('have', 0.05179040879011154, 0)],\n",
       " [('Alternative', 8.699211490048597e-12, 0),\n",
       "  ('a', 0.44043052196502686, 0),\n",
       "  (' the', 0.3214680254459381, 1),\n",
       "  ('some', 0.014871776103973389, 0),\n",
       "  ('an', 0.036923352628946304, 0),\n",
       "  ('the', 0.3214680254459381, 0),\n",
       "  ('my', 0.084623321890831, 0)],\n",
       " [('our', 0.03929915651679039, 0),\n",
       "  ('archives', 2.596707354349248e-12, 0),\n",
       "  ('were', 0.38491347432136536, 0),\n",
       "  ('the', 0.22930745780467987, 0),\n",
       "  (' our', 0.039299119263887405, 1),\n",
       "  ('had', 0.09021001309156418, 0),\n",
       "  ('of', 0.08391154557466507, 0)],\n",
       " [('Cosponsors', 1.4321238693635469e-13, 0),\n",
       "  ('in', 0.031489163637161255, 0),\n",
       "  ('up', 0.29023775458335876, 0),\n",
       "  (' up', 0.29023775458335876, 1),\n",
       "  ('here', 0.46162357926368713, 0),\n",
       "  ('to', 0.07268722355365753, 0),\n",
       "  ('into', 0.08129426836967468, 0)],\n",
       " [('you', 0.275306761264801, 0),\n",
       "  ('Earth', 0.0548589788377285, 0),\n",
       "  ('everyone', 0.03810995817184448, 0),\n",
       "  ('all', 0.11724808812141418, 0),\n",
       "  ('hawks', 6.242212476081921e-12, 0),\n",
       "  (' all', 0.11724808812141418, 1),\n",
       "  ('Dirt', 0.2528499662876129, 0)],\n",
       " [('Earth', 0.0737672671675682, 0),\n",
       "  ('our', 0.10103543102741241, 0),\n",
       "  ('the', 0.3214956223964691, 0),\n",
       "  (' Earth', 0.0737672671675682, 1),\n",
       "  ('oiler', 3.9182029148987496e-11, 0),\n",
       "  ('a', 0.04393133893609047, 0),\n",
       "  ('Mars', 0.024748489260673523, 0)],\n",
       " [('for', 0.6070613265037537, 0),\n",
       "  ('to', 0.06645309925079346, 0),\n",
       "  (' for', 0.6070613265037537, 1),\n",
       "  ('so', 0.076842300593853, 0),\n",
       "  ('avid', 2.2938163955071866e-12, 0),\n",
       "  ('in', 0.034408438950777054, 0),\n",
       "  ('a', 0.020635761320590973, 0)],\n",
       " [('have', 0.05641990527510643, 0),\n",
       "  ('could', 0.03069896809756756, 0),\n",
       "  ('do', 0.04608597233891487, 0),\n",
       "  ('rift', 3.855831279264699e-11, 0),\n",
       "  ('think', 0.016215069219470024, 0),\n",
       "  (' suppose', 0.0244572926312685, 1),\n",
       "  ('can', 0.07606107741594315, 0)],\n",
       " [('Crew', 1.9417831925716555e-11, 0),\n",
       "  ('our', 0.029696132987737656, 0),\n",
       "  (' way', 0.004808159079402685, 1),\n",
       "  ('we', 0.12350960075855255, 0),\n",
       "  ('the', 0.1323360949754715, 0),\n",
       "  ('money', 0.0598725900053978, 0),\n",
       "  ('if', 0.07650616019964218, 0)],\n",
       " [('the', 0.17950312793254852, 0),\n",
       "  ('there', 0.04289241507649422, 0),\n",
       "  ('EVA', 1.9288194305633333e-11, 0),\n",
       "  (' people', 0.014425956644117832, 1),\n",
       "  ('it', 0.029084429144859314, 0),\n",
       "  ('this', 0.03677038848400116, 0),\n",
       "  ('in', 0.025457561016082764, 0)],\n",
       " [('torso', 0.011666123755276203, 0),\n",
       "  ('one', 0.04751920700073242, 0),\n",
       "  ('body', 0.7409586906433105, 0),\n",
       "  ('part', 0.035090867429971695, 0),\n",
       "  ('half', 0.05205487832427025, 0),\n",
       "  (' half', 0.05205487832427025, 1),\n",
       "  ('Attend', 4.0404121021131445e-12, 0)],\n",
       " [('his', 0.13819800317287445, 0),\n",
       "  (' up', 0.20940819382667542, 1),\n",
       "  ('the', 0.29312849044799805, 0),\n",
       "  ('a', 0.12856188416481018, 0),\n",
       "  ('yip', 7.2489145762355545e-12, 0),\n",
       "  ('up', 0.20940819382667542, 0),\n",
       "  ('this', 0.020012028515338898, 0)],\n",
       " [(' couple', 0.10931100696325302, 1),\n",
       "  ('year', 0.13517701625823975, 0),\n",
       "  ('week', 0.028702618554234505, 0),\n",
       "  ('few', 0.5203554630279541, 0),\n",
       "  ('couple', 0.10931100696325302, 0),\n",
       "  ('while', 0.03870825842022896, 0),\n",
       "  ('Engineers', 3.4705807672175126e-11, 0)],\n",
       " [('leader', 0.06905107945203781, 0),\n",
       "  ('commanders', 0.023718705400824547, 0),\n",
       "  ('yip', 9.447197191203571e-11, 0),\n",
       "  ('commander', 0.2241913229227066, 0),\n",
       "  ('actions', 0.0191799309104681, 0),\n",
       "  ('mission', 0.02848859690129757, 0),\n",
       "  (' emotions', 0.0009146149968728423, 1)],\n",
       " [('the', 0.024700434878468513, 0),\n",
       "  ('is', 0.18371102213859558, 0),\n",
       "  ('they', 0.06548032909631729, 0),\n",
       "  ('it', 0.018012449145317078, 0),\n",
       "  (' those', 0.0009651962318457663, 1),\n",
       "  ('I', 0.2178019881248474, 0),\n",
       "  ('Export', 3.75291984988646e-12, 0)],\n",
       " [('at', 0.06299217790365219, 0),\n",
       "  (' it', 0.3488803803920746, 1),\n",
       "  ('his', 0.11213859170675278, 0),\n",
       "  ('away', 0.11994192749261856, 0),\n",
       "  ('it', 0.3488803803920746, 0),\n",
       "  ('Subscribe', 4.4494215169915696e-13, 0),\n",
       "  ('the', 0.29307398200035095, 0)],\n",
       " [('sun', 0.03738079592585564, 0),\n",
       "  ('SHIP', 2.963615897827454e-12, 0),\n",
       "  ('evil', 0.06669270247220993, 0),\n",
       "  ('king', 0.1195371150970459, 0),\n",
       "  ('monster', 0.02369401603937149, 0),\n",
       "  (' king', 0.1195371150970459, 1),\n",
       "  ('prince', 0.0541875958442688, 0)]]"
      ]
     },
     "execution_count": 32,
     "metadata": {},
     "output_type": "execute_result"
    }
   ],
   "source": [
    "answer_orders"
   ]
  },
  {
   "cell_type": "code",
   "execution_count": null,
   "metadata": {},
   "outputs": [],
   "source": []
  },
  {
   "cell_type": "code",
   "execution_count": null,
   "metadata": {},
   "outputs": [],
   "source": []
  },
  {
   "cell_type": "code",
   "execution_count": 212,
   "metadata": {},
   "outputs": [
    {
     "data": {
      "text/plain": [
       "[[5, 3, 4, 3, 1, 4, 5, 4, 4, 2],\n",
       " [3, 2, 5, 1, 4, 5, 3, 5, 2, 4],\n",
       " [5, 4, 1, 5, 3, 5, 4, 5, 2, 2],\n",
       " [3, 5, 3, 5, 5, 3, 4, 5, 4],\n",
       " [3, 5, 2, 2, 3, 4, 4, 1, 5, 5],\n",
       " [5, 2, 1, 5, 2, 5, 4, 5, 1, 4],\n",
       " [1, 5, 5, 4, 5, 5, 5, 4, 3],\n",
       " [1, 1, 2, 1, 1, 5, 5, 5, 2, 4],\n",
       " [4, 1, 5, 5, 4, 3, 5, 3, 2, 2],\n",
       " [5, 2, 3, 4, 5, 5, 5, 5, 5, 4]]"
      ]
     },
     "execution_count": 212,
     "metadata": {},
     "output_type": "execute_result"
    }
   ],
   "source": [
    "[[5, 3, 4, 3, 1, 4, 5, 4, 4, 2,], [3,2,5,1,4,5,3,5,2,4],[5,4,1,5, 3,5,4,5,2,2], [3,5,3,5,5,3,4,5,4], [3,5,2,2,3,4,4,1,5,5],[5, 2, 1,5,2,5,4,5,1,4], [1,5,5,4,5,5,5,4,3], [1,1,2,1,1,5,5,5,2,4], [4,1,5,5,4,3,5,3,2,2], [5,2,3,4,5,5,5,5,5,4]]"
   ]
  },
  {
   "cell_type": "code",
   "execution_count": 213,
   "metadata": {},
   "outputs": [
    {
     "name": "stdout",
     "output_type": "stream",
     "text": [
      "10\n",
      "10\n",
      "10\n",
      "10\n",
      "10\n",
      "10\n",
      "10\n",
      "10\n",
      "10\n",
      "10\n"
     ]
    }
   ],
   "source": [
    "for r in res: \n",
    "    print(len(r))"
   ]
  },
  {
   "cell_type": "code",
   "execution_count": 214,
   "metadata": {},
   "outputs": [],
   "source": [
    "prd = dict()\n",
    "for ind, (r, a) in enumerate(zip(res, answer_orders)):\n",
    "    for r_el, a_el in zip(r,a):\n",
    "        try:\n",
    "            prd[a_el[1]].append(r_el)\n",
    "        except:\n",
    "            prd[a_el[1]] = [r_el]"
   ]
  },
  {
   "cell_type": "code",
   "execution_count": 215,
   "metadata": {},
   "outputs": [],
   "source": [
    "prd = pd.DataFrame(prd).T"
   ]
  },
  {
   "cell_type": "code",
   "execution_count": 216,
   "metadata": {},
   "outputs": [
    {
     "data": {
      "text/html": [
       "<div>\n",
       "<style scoped>\n",
       "    .dataframe tbody tr th:only-of-type {\n",
       "        vertical-align: middle;\n",
       "    }\n",
       "\n",
       "    .dataframe tbody tr th {\n",
       "        vertical-align: top;\n",
       "    }\n",
       "\n",
       "    .dataframe thead th {\n",
       "        text-align: right;\n",
       "    }\n",
       "</style>\n",
       "<table border=\"1\" class=\"dataframe\">\n",
       "  <thead>\n",
       "    <tr style=\"text-align: right;\">\n",
       "      <th></th>\n",
       "      <th>0</th>\n",
       "    </tr>\n",
       "  </thead>\n",
       "  <tbody>\n",
       "    <tr>\n",
       "      <th>1.438798e-02</th>\n",
       "      <td>5</td>\n",
       "    </tr>\n",
       "    <tr>\n",
       "      <th>1.133592e-01</th>\n",
       "      <td>1</td>\n",
       "    </tr>\n",
       "    <tr>\n",
       "      <th>1.043329e-02</th>\n",
       "      <td>5</td>\n",
       "    </tr>\n",
       "    <tr>\n",
       "      <th>4.023387e-06</th>\n",
       "      <td>4</td>\n",
       "    </tr>\n",
       "    <tr>\n",
       "      <th>4.646489e-11</th>\n",
       "      <td>5</td>\n",
       "    </tr>\n",
       "  </tbody>\n",
       "</table>\n",
       "</div>"
      ],
      "text/plain": [
       "              0\n",
       "1.438798e-02  5\n",
       "1.133592e-01  1\n",
       "1.043329e-02  5\n",
       "4.023387e-06  4\n",
       "4.646489e-11  5"
      ]
     },
     "execution_count": 216,
     "metadata": {},
     "output_type": "execute_result"
    }
   ],
   "source": [
    "prd.head()"
   ]
  },
  {
   "cell_type": "code",
   "execution_count": 217,
   "metadata": {},
   "outputs": [
    {
     "data": {
      "text/html": [
       "<div>\n",
       "<style scoped>\n",
       "    .dataframe tbody tr th:only-of-type {\n",
       "        vertical-align: middle;\n",
       "    }\n",
       "\n",
       "    .dataframe tbody tr th {\n",
       "        vertical-align: top;\n",
       "    }\n",
       "\n",
       "    .dataframe thead th {\n",
       "        text-align: right;\n",
       "    }\n",
       "</style>\n",
       "<table border=\"1\" class=\"dataframe\">\n",
       "  <thead>\n",
       "    <tr style=\"text-align: right;\">\n",
       "      <th></th>\n",
       "      <th>probs</th>\n",
       "      <th>rep</th>\n",
       "    </tr>\n",
       "  </thead>\n",
       "  <tbody>\n",
       "    <tr>\n",
       "      <th>0</th>\n",
       "      <td>1.438798e-02</td>\n",
       "      <td>5</td>\n",
       "    </tr>\n",
       "    <tr>\n",
       "      <th>1</th>\n",
       "      <td>1.133592e-01</td>\n",
       "      <td>1</td>\n",
       "    </tr>\n",
       "    <tr>\n",
       "      <th>2</th>\n",
       "      <td>1.043329e-02</td>\n",
       "      <td>5</td>\n",
       "    </tr>\n",
       "    <tr>\n",
       "      <th>3</th>\n",
       "      <td>4.023387e-06</td>\n",
       "      <td>4</td>\n",
       "    </tr>\n",
       "    <tr>\n",
       "      <th>4</th>\n",
       "      <td>4.646489e-11</td>\n",
       "      <td>5</td>\n",
       "    </tr>\n",
       "  </tbody>\n",
       "</table>\n",
       "</div>"
      ],
      "text/plain": [
       "          probs  rep\n",
       "0  1.438798e-02    5\n",
       "1  1.133592e-01    1\n",
       "2  1.043329e-02    5\n",
       "3  4.023387e-06    4\n",
       "4  4.646489e-11    5"
      ]
     },
     "execution_count": 217,
     "metadata": {},
     "output_type": "execute_result"
    }
   ],
   "source": [
    "prd.reset_index(inplace=True)\n",
    "#prd.drop('index', axis=1, inplace=True)\n",
    "prd.columns = ['probs', 'rep']\n",
    "prd.head()"
   ]
  },
  {
   "cell_type": "code",
   "execution_count": 218,
   "metadata": {},
   "outputs": [],
   "source": [
    "from importlib import reload\n",
    "import utils\n",
    "\n",
    "reload(utils)\n",
    "from utils import *"
   ]
  },
  {
   "cell_type": "code",
   "execution_count": 219,
   "metadata": {},
   "outputs": [],
   "source": [
    "prd['rep'] = prd['rep']*2"
   ]
  },
  {
   "cell_type": "code",
   "execution_count": 220,
   "metadata": {},
   "outputs": [
    {
     "data": {
      "text/plain": [
       "<matplotlib.collections.PathCollection at 0x821a70fd0>"
      ]
     },
     "execution_count": 220,
     "metadata": {},
     "output_type": "execute_result"
    },
    {
     "data": {
      "image/png": "[encoded data removed]",
      "text/plain": [
       "<Figure size 432x288 with 1 Axes>"
      ]
     },
     "metadata": {
      "needs_background": "light"
     },
     "output_type": "display_data"
    }
   ],
   "source": [
    "# do a scatter plot of this. \n",
    "plt.scatter(prd['probs'], prd['rep'])"
   ]
  },
  {
   "cell_type": "code",
   "execution_count": 225,
   "metadata": {},
   "outputs": [
    {
     "data": {
      "text/html": [
       "<div>\n",
       "<style scoped>\n",
       "    .dataframe tbody tr th:only-of-type {\n",
       "        vertical-align: middle;\n",
       "    }\n",
       "\n",
       "    .dataframe tbody tr th {\n",
       "        vertical-align: top;\n",
       "    }\n",
       "\n",
       "    .dataframe thead th {\n",
       "        text-align: right;\n",
       "    }\n",
       "</style>\n",
       "<table border=\"1\" class=\"dataframe\">\n",
       "  <thead>\n",
       "    <tr style=\"text-align: right;\">\n",
       "      <th></th>\n",
       "      <th>probs</th>\n",
       "    </tr>\n",
       "    <tr>\n",
       "      <th>rep</th>\n",
       "      <th></th>\n",
       "    </tr>\n",
       "  </thead>\n",
       "  <tbody>\n",
       "    <tr>\n",
       "      <th>2</th>\n",
       "      <td>0.081718</td>\n",
       "    </tr>\n",
       "    <tr>\n",
       "      <th>4</th>\n",
       "      <td>0.025102</td>\n",
       "    </tr>\n",
       "    <tr>\n",
       "      <th>6</th>\n",
       "      <td>0.083610</td>\n",
       "    </tr>\n",
       "    <tr>\n",
       "      <th>8</th>\n",
       "      <td>0.023622</td>\n",
       "    </tr>\n",
       "    <tr>\n",
       "      <th>10</th>\n",
       "      <td>0.054777</td>\n",
       "    </tr>\n",
       "  </tbody>\n",
       "</table>\n",
       "</div>"
      ],
      "text/plain": [
       "        probs\n",
       "rep          \n",
       "2    0.081718\n",
       "4    0.025102\n",
       "6    0.083610\n",
       "8    0.023622\n",
       "10   0.054777"
      ]
     },
     "execution_count": 225,
     "metadata": {},
     "output_type": "execute_result"
    }
   ],
   "source": [
    "means = prd.groupby('rep').mean()\n",
    "means"
   ]
  },
  {
   "cell_type": "code",
   "execution_count": 226,
   "metadata": {},
   "outputs": [
    {
     "data": {
      "text/plain": [
       "<matplotlib.collections.PathCollection at 0x822685400>"
      ]
     },
     "execution_count": 226,
     "metadata": {},
     "output_type": "execute_result"
    },
    {
     "data": {
      "image/png": "[encoded data removed]",
      "text/plain": [
       "<Figure size 432x288 with 1 Axes>"
      ]
     },
     "metadata": {
      "needs_background": "light"
     },
     "output_type": "display_data"
    }
   ],
   "source": [
    "plt.scatter(means['probs'], means.index)"
   ]
  },
  {
   "cell_type": "code",
   "execution_count": 276,
   "metadata": {},
   "outputs": [
    {
     "data": {
      "image/png": "[encoded data removed]",
      "text/plain": [
       "<Figure size 432x288 with 1 Axes>"
      ]
     },
     "metadata": {
      "needs_background": "light"
     },
     "output_type": "display_data"
    }
   ],
   "source": [
    "bar_plot_columns(prd, 'TFS is tighter')"
   ]
  },
  {
   "cell_type": "code",
   "execution_count": 279,
   "metadata": {},
   "outputs": [
    {
     "data": {
      "image/png": "[encoded data removed]",
      "text/plain": [
       "<Figure size 432x288 with 1 Axes>"
      ]
     },
     "metadata": {
      "needs_background": "light"
     },
     "output_type": "display_data"
    }
   ],
   "source": [
    "bar_plot_columns(nuc_tighter, 'Nuc is Tighter')"
   ]
  },
  {
   "cell_type": "markdown",
   "metadata": {},
   "source": [
    "Want when Nuc is tighter for the difference between Nuc and TFS to be smaller than it is when TFS is tighter. "
   ]
  },
  {
   "cell_type": "code",
   "execution_count": 280,
   "metadata": {},
   "outputs": [
    {
     "name": "stdout",
     "output_type": "stream",
     "text": [
      "position: 1 = 0.3999999999999999\n",
      "position: 2 = 0.6000000000000001\n",
      "position: 3 = 0.7999999999999998\n"
     ]
    }
   ],
   "source": [
    "abs_diff_of_different_locations(tfs_tighter, tfs_label, n_label)"
   ]
  },
  {
   "cell_type": "code",
   "execution_count": 281,
   "metadata": {},
   "outputs": [
    {
     "name": "stdout",
     "output_type": "stream",
     "text": [
      "position: 1 = 1.75\n",
      "position: 2 = 0.25\n",
      "position: 3 = 1.25\n"
     ]
    }
   ],
   "source": [
    "abs_diff_of_different_locations(nuc_tighter,tfs_label, n_label)"
   ]
  }
 ],
 "metadata": {
  "kernelspec": {
   "display_name": "Python 3",
   "language": "python",
   "name": "python3"
  },
  "language_info": {
   "codemirror_mode": {
    "name": "ipython",
    "version": 3
   },
   "file_extension": ".py",
   "mimetype": "text/x-python",
   "name": "python",
   "nbconvert_exporter": "python",
   "pygments_lexer": "ipython3",
   "version": "3.7.3"
  }
 },
 "nbformat": 4,
 "nbformat_minor": 4
}
