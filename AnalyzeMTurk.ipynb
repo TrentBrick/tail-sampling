{
 "cells": [
  {
   "cell_type": "markdown",
   "metadata": {},
   "source": [
    "# A 1 is coded as being extremely reasonable here!!!\n",
    "\n",
    "For a number of questions there were words that were repeated and you were asked to give these the same score. You did not give the same score for a number of these identical words which suggests you were not focusing on the task and makes your survey results unusable."
   ]
  },
  {
   "cell_type": "code",
   "execution_count": 1,
   "metadata": {},
   "outputs": [],
   "source": [
    "import pickle\n",
    "import gzip\n",
    "import numpy as np\n",
    "import matplotlib.pyplot as plt\n",
    "from scipy.special import softmax\n",
    "import pandas as pd    \n",
    "import torch"
   ]
  },
  {
   "cell_type": "code",
   "execution_count": 2,
   "metadata": {},
   "outputs": [],
   "source": [
    "file_name_base = ''#'prob_slice_replaceable_comparisons'\n",
    "mturk_version = 'MTURK_FIRST_'\n",
    "full_base = mturk_version+file_name_base"
   ]
  },
  {
   "cell_type": "code",
   "execution_count": 3,
   "metadata": {},
   "outputs": [],
   "source": [
    "\n",
    "answer_orders = pickle.load(open(full_base + 'updated_answers_list.pickle','rb'))"
   ]
  },
  {
   "cell_type": "code",
   "execution_count": 4,
   "metadata": {},
   "outputs": [],
   "source": [
    "mturk = pd.read_csv('Tail+Free+Sampling+Survey_October+17%2C+2019_07.33.zip')#'Tail+Free+Sampling+Survey_October+16%2C+2019_07.21.zip')"
   ]
  },
  {
   "cell_type": "code",
   "execution_count": 5,
   "metadata": {},
   "outputs": [
    {
     "data": {
      "text/html": [
       "<div>\n",
       "<style scoped>\n",
       "    .dataframe tbody tr th:only-of-type {\n",
       "        vertical-align: middle;\n",
       "    }\n",
       "\n",
       "    .dataframe tbody tr th {\n",
       "        vertical-align: top;\n",
       "    }\n",
       "\n",
       "    .dataframe thead th {\n",
       "        text-align: right;\n",
       "    }\n",
       "</style>\n",
       "<table border=\"1\" class=\"dataframe\">\n",
       "  <thead>\n",
       "    <tr style=\"text-align: right;\">\n",
       "      <th></th>\n",
       "      <th>StartDate</th>\n",
       "      <th>EndDate</th>\n",
       "      <th>Status</th>\n",
       "      <th>IPAddress</th>\n",
       "      <th>Progress</th>\n",
       "      <th>Duration (in seconds)</th>\n",
       "      <th>Finished</th>\n",
       "      <th>RecordedDate</th>\n",
       "      <th>ResponseId</th>\n",
       "      <th>RecipientLastName</th>\n",
       "      <th>...</th>\n",
       "      <th>Q19_2</th>\n",
       "      <th>Q19_3</th>\n",
       "      <th>Q19_4</th>\n",
       "      <th>Q19_5</th>\n",
       "      <th>Q19_6</th>\n",
       "      <th>Q19_7</th>\n",
       "      <th>Q20</th>\n",
       "      <th>Random ID</th>\n",
       "      <th>Q22 - Parent Topics</th>\n",
       "      <th>Q22 - Topics</th>\n",
       "    </tr>\n",
       "  </thead>\n",
       "  <tbody>\n",
       "    <tr>\n",
       "      <th>0</th>\n",
       "      <td>Start Date</td>\n",
       "      <td>End Date</td>\n",
       "      <td>Response Type</td>\n",
       "      <td>IP Address</td>\n",
       "      <td>Progress</td>\n",
       "      <td>Duration (in seconds)</td>\n",
       "      <td>Finished</td>\n",
       "      <td>Recorded Date</td>\n",
       "      <td>Response ID</td>\n",
       "      <td>Recipient Last Name</td>\n",
       "      <td>...</td>\n",
       "      <td>. Just count the stars, right? *   He eased __...</td>\n",
       "      <td>. Just count the stars, right? *   He eased __...</td>\n",
       "      <td>. Just count the stars, right? *   He eased __...</td>\n",
       "      <td>. Just count the stars, right? *   He eased __...</td>\n",
       "      <td>. Just count the stars, right? *   He eased __...</td>\n",
       "      <td>. Just count the stars, right? *   He eased __...</td>\n",
       "      <td>Thank you very much for completing this survey...</td>\n",
       "      <td>Random ID</td>\n",
       "      <td>Q22 - Parent Topics</td>\n",
       "      <td>Q22 - Topics</td>\n",
       "    </tr>\n",
       "    <tr>\n",
       "      <th>1</th>\n",
       "      <td>{\"ImportId\":\"startDate\",\"timeZone\":\"America/De...</td>\n",
       "      <td>{\"ImportId\":\"endDate\",\"timeZone\":\"America/Denv...</td>\n",
       "      <td>{\"ImportId\":\"status\"}</td>\n",
       "      <td>{\"ImportId\":\"ipAddress\"}</td>\n",
       "      <td>{\"ImportId\":\"progress\"}</td>\n",
       "      <td>{\"ImportId\":\"duration\"}</td>\n",
       "      <td>{\"ImportId\":\"finished\"}</td>\n",
       "      <td>{\"ImportId\":\"recordedDate\",\"timeZone\":\"America...</td>\n",
       "      <td>{\"ImportId\":\"_recordId\"}</td>\n",
       "      <td>{\"ImportId\":\"recipientLastName\"}</td>\n",
       "      <td>...</td>\n",
       "      <td>{\"ImportId\":\"QID21_2\"}</td>\n",
       "      <td>{\"ImportId\":\"QID21_3\"}</td>\n",
       "      <td>{\"ImportId\":\"QID21_4\"}</td>\n",
       "      <td>{\"ImportId\":\"QID21_5\"}</td>\n",
       "      <td>{\"ImportId\":\"QID21_6\"}</td>\n",
       "      <td>{\"ImportId\":\"QID21_7\"}</td>\n",
       "      <td>{\"ImportId\":\"QID26_TEXT\"}</td>\n",
       "      <td>{\"ImportId\":\"Random ID\"}</td>\n",
       "      <td>{\"ImportId\":\"QID26_TEXT_c25db21136a8433bb1f4d1...</td>\n",
       "      <td>{\"ImportId\":\"QID26_TEXT_c25db21136a8433bb1f4d1...</td>\n",
       "    </tr>\n",
       "    <tr>\n",
       "      <th>2</th>\n",
       "      <td>2019-10-15 21:35:00</td>\n",
       "      <td>2019-10-15 21:35:13</td>\n",
       "      <td>1</td>\n",
       "      <td>NaN</td>\n",
       "      <td>100</td>\n",
       "      <td>13</td>\n",
       "      <td>1</td>\n",
       "      <td>2019-10-15 21:35:14</td>\n",
       "      <td>R_2X6WbTrQRtVcuAK</td>\n",
       "      <td>NaN</td>\n",
       "      <td>...</td>\n",
       "      <td>NaN</td>\n",
       "      <td>NaN</td>\n",
       "      <td>NaN</td>\n",
       "      <td>NaN</td>\n",
       "      <td>NaN</td>\n",
       "      <td>NaN</td>\n",
       "      <td>NaN</td>\n",
       "      <td>40022</td>\n",
       "      <td>NaN</td>\n",
       "      <td>NaN</td>\n",
       "    </tr>\n",
       "    <tr>\n",
       "      <th>3</th>\n",
       "      <td>2019-10-15 22:03:30</td>\n",
       "      <td>2019-10-15 22:08:53</td>\n",
       "      <td>0</td>\n",
       "      <td>107.145.113.42</td>\n",
       "      <td>100</td>\n",
       "      <td>322</td>\n",
       "      <td>1</td>\n",
       "      <td>2019-10-15 22:08:54</td>\n",
       "      <td>R_1KiQLFb92Exgwjx</td>\n",
       "      <td>NaN</td>\n",
       "      <td>...</td>\n",
       "      <td>1</td>\n",
       "      <td>2</td>\n",
       "      <td>5</td>\n",
       "      <td>4</td>\n",
       "      <td>1</td>\n",
       "      <td>1</td>\n",
       "      <td>NaN</td>\n",
       "      <td>99887</td>\n",
       "      <td>NaN</td>\n",
       "      <td>NaN</td>\n",
       "    </tr>\n",
       "    <tr>\n",
       "      <th>4</th>\n",
       "      <td>2019-10-15 22:18:07</td>\n",
       "      <td>2019-10-15 22:32:26</td>\n",
       "      <td>0</td>\n",
       "      <td>171.49.170.27</td>\n",
       "      <td>100</td>\n",
       "      <td>858</td>\n",
       "      <td>1</td>\n",
       "      <td>2019-10-15 22:32:26</td>\n",
       "      <td>R_3JjTvGYtgJEC5hD</td>\n",
       "      <td>NaN</td>\n",
       "      <td>...</td>\n",
       "      <td>3</td>\n",
       "      <td>3</td>\n",
       "      <td>2</td>\n",
       "      <td>4</td>\n",
       "      <td>5</td>\n",
       "      <td>2</td>\n",
       "      <td>i like to do this type of work in future</td>\n",
       "      <td>52503</td>\n",
       "      <td>NaN</td>\n",
       "      <td>Unknown</td>\n",
       "    </tr>\n",
       "  </tbody>\n",
       "</table>\n",
       "<p>5 rows × 126 columns</p>\n",
       "</div>"
      ],
      "text/plain": [
       "                                           StartDate  \\\n",
       "0                                         Start Date   \n",
       "1  {\"ImportId\":\"startDate\",\"timeZone\":\"America/De...   \n",
       "2                                2019-10-15 21:35:00   \n",
       "3                                2019-10-15 22:03:30   \n",
       "4                                2019-10-15 22:18:07   \n",
       "\n",
       "                                             EndDate                 Status  \\\n",
       "0                                           End Date          Response Type   \n",
       "1  {\"ImportId\":\"endDate\",\"timeZone\":\"America/Denv...  {\"ImportId\":\"status\"}   \n",
       "2                                2019-10-15 21:35:13                      1   \n",
       "3                                2019-10-15 22:08:53                      0   \n",
       "4                                2019-10-15 22:32:26                      0   \n",
       "\n",
       "                  IPAddress                 Progress    Duration (in seconds)  \\\n",
       "0                IP Address                 Progress    Duration (in seconds)   \n",
       "1  {\"ImportId\":\"ipAddress\"}  {\"ImportId\":\"progress\"}  {\"ImportId\":\"duration\"}   \n",
       "2                       NaN                      100                       13   \n",
       "3            107.145.113.42                      100                      322   \n",
       "4             171.49.170.27                      100                      858   \n",
       "\n",
       "                  Finished                                       RecordedDate  \\\n",
       "0                 Finished                                      Recorded Date   \n",
       "1  {\"ImportId\":\"finished\"}  {\"ImportId\":\"recordedDate\",\"timeZone\":\"America...   \n",
       "2                        1                                2019-10-15 21:35:14   \n",
       "3                        1                                2019-10-15 22:08:54   \n",
       "4                        1                                2019-10-15 22:32:26   \n",
       "\n",
       "                 ResponseId                 RecipientLastName  ...  \\\n",
       "0               Response ID               Recipient Last Name  ...   \n",
       "1  {\"ImportId\":\"_recordId\"}  {\"ImportId\":\"recipientLastName\"}  ...   \n",
       "2         R_2X6WbTrQRtVcuAK                               NaN  ...   \n",
       "3         R_1KiQLFb92Exgwjx                               NaN  ...   \n",
       "4         R_3JjTvGYtgJEC5hD                               NaN  ...   \n",
       "\n",
       "                                               Q19_2  \\\n",
       "0  . Just count the stars, right? *   He eased __...   \n",
       "1                             {\"ImportId\":\"QID21_2\"}   \n",
       "2                                                NaN   \n",
       "3                                                  1   \n",
       "4                                                  3   \n",
       "\n",
       "                                               Q19_3  \\\n",
       "0  . Just count the stars, right? *   He eased __...   \n",
       "1                             {\"ImportId\":\"QID21_3\"}   \n",
       "2                                                NaN   \n",
       "3                                                  2   \n",
       "4                                                  3   \n",
       "\n",
       "                                               Q19_4  \\\n",
       "0  . Just count the stars, right? *   He eased __...   \n",
       "1                             {\"ImportId\":\"QID21_4\"}   \n",
       "2                                                NaN   \n",
       "3                                                  5   \n",
       "4                                                  2   \n",
       "\n",
       "                                               Q19_5  \\\n",
       "0  . Just count the stars, right? *   He eased __...   \n",
       "1                             {\"ImportId\":\"QID21_5\"}   \n",
       "2                                                NaN   \n",
       "3                                                  4   \n",
       "4                                                  4   \n",
       "\n",
       "                                               Q19_6  \\\n",
       "0  . Just count the stars, right? *   He eased __...   \n",
       "1                             {\"ImportId\":\"QID21_6\"}   \n",
       "2                                                NaN   \n",
       "3                                                  1   \n",
       "4                                                  5   \n",
       "\n",
       "                                               Q19_7  \\\n",
       "0  . Just count the stars, right? *   He eased __...   \n",
       "1                             {\"ImportId\":\"QID21_7\"}   \n",
       "2                                                NaN   \n",
       "3                                                  1   \n",
       "4                                                  2   \n",
       "\n",
       "                                                 Q20  \\\n",
       "0  Thank you very much for completing this survey...   \n",
       "1                          {\"ImportId\":\"QID26_TEXT\"}   \n",
       "2                                                NaN   \n",
       "3                                                NaN   \n",
       "4           i like to do this type of work in future   \n",
       "\n",
       "                  Random ID  \\\n",
       "0                 Random ID   \n",
       "1  {\"ImportId\":\"Random ID\"}   \n",
       "2                     40022   \n",
       "3                     99887   \n",
       "4                     52503   \n",
       "\n",
       "                                 Q22 - Parent Topics  \\\n",
       "0                                Q22 - Parent Topics   \n",
       "1  {\"ImportId\":\"QID26_TEXT_c25db21136a8433bb1f4d1...   \n",
       "2                                                NaN   \n",
       "3                                                NaN   \n",
       "4                                                NaN   \n",
       "\n",
       "                                        Q22 - Topics  \n",
       "0                                       Q22 - Topics  \n",
       "1  {\"ImportId\":\"QID26_TEXT_c25db21136a8433bb1f4d1...  \n",
       "2                                                NaN  \n",
       "3                                                NaN  \n",
       "4                                            Unknown  \n",
       "\n",
       "[5 rows x 126 columns]"
      ]
     },
     "execution_count": 5,
     "metadata": {},
     "output_type": "execute_result"
    }
   ],
   "source": [
    "mturk.head()"
   ]
  },
  {
   "cell_type": "code",
   "execution_count": 6,
   "metadata": {},
   "outputs": [
    {
     "data": {
      "text/plain": [
       "(23, 126)"
      ]
     },
     "execution_count": 6,
     "metadata": {},
     "output_type": "execute_result"
    }
   ],
   "source": [
    "mturk.shape"
   ]
  },
  {
   "cell_type": "code",
   "execution_count": 7,
   "metadata": {},
   "outputs": [],
   "source": [
    "qstart = 'Q5_1'\n",
    "qend = 'Q19_7'"
   ]
  },
  {
   "cell_type": "code",
   "execution_count": 8,
   "metadata": {},
   "outputs": [
    {
     "data": {
      "text/plain": [
       "{1: 5, 2: 4, 3: 3, 4: 2, 5: 1}"
      ]
     },
     "execution_count": 8,
     "metadata": {},
     "output_type": "execute_result"
    }
   ],
   "source": [
    "reverse_encoding_dict = {k:v for k, v in zip(np.arange(1,6,1), np.arange(5,0,-1))}\n",
    "reverse_encoding_dict"
   ]
  },
  {
   "cell_type": "code",
   "execution_count": 9,
   "metadata": {},
   "outputs": [],
   "source": [
    "mturk.drop([0,1,2], axis=0, inplace=True)# dropping the first null response and the header details"
   ]
  },
  {
   "cell_type": "code",
   "execution_count": 10,
   "metadata": {},
   "outputs": [],
   "source": [
    "mturk.reset_index(inplace=True)"
   ]
  },
  {
   "cell_type": "code",
   "execution_count": 11,
   "metadata": {},
   "outputs": [],
   "source": [
    "mturk.loc[:, qstart:qend] = mturk.loc[:, qstart:qend].apply(lambda x: x.astype(int).map(reverse_encoding_dict))"
   ]
  },
  {
   "cell_type": "code",
   "execution_count": 12,
   "metadata": {},
   "outputs": [
    {
     "data": {
      "text/html": [
       "<div>\n",
       "<style scoped>\n",
       "    .dataframe tbody tr th:only-of-type {\n",
       "        vertical-align: middle;\n",
       "    }\n",
       "\n",
       "    .dataframe tbody tr th {\n",
       "        vertical-align: top;\n",
       "    }\n",
       "\n",
       "    .dataframe thead th {\n",
       "        text-align: right;\n",
       "    }\n",
       "</style>\n",
       "<table border=\"1\" class=\"dataframe\">\n",
       "  <thead>\n",
       "    <tr style=\"text-align: right;\">\n",
       "      <th></th>\n",
       "      <th>index</th>\n",
       "      <th>StartDate</th>\n",
       "      <th>EndDate</th>\n",
       "      <th>Status</th>\n",
       "      <th>IPAddress</th>\n",
       "      <th>Progress</th>\n",
       "      <th>Duration (in seconds)</th>\n",
       "      <th>Finished</th>\n",
       "      <th>RecordedDate</th>\n",
       "      <th>ResponseId</th>\n",
       "      <th>...</th>\n",
       "      <th>Q19_2</th>\n",
       "      <th>Q19_3</th>\n",
       "      <th>Q19_4</th>\n",
       "      <th>Q19_5</th>\n",
       "      <th>Q19_6</th>\n",
       "      <th>Q19_7</th>\n",
       "      <th>Q20</th>\n",
       "      <th>Random ID</th>\n",
       "      <th>Q22 - Parent Topics</th>\n",
       "      <th>Q22 - Topics</th>\n",
       "    </tr>\n",
       "  </thead>\n",
       "  <tbody>\n",
       "    <tr>\n",
       "      <th>0</th>\n",
       "      <td>3</td>\n",
       "      <td>2019-10-15 22:03:30</td>\n",
       "      <td>2019-10-15 22:08:53</td>\n",
       "      <td>0</td>\n",
       "      <td>107.145.113.42</td>\n",
       "      <td>100</td>\n",
       "      <td>322</td>\n",
       "      <td>1</td>\n",
       "      <td>2019-10-15 22:08:54</td>\n",
       "      <td>R_1KiQLFb92Exgwjx</td>\n",
       "      <td>...</td>\n",
       "      <td>5</td>\n",
       "      <td>4</td>\n",
       "      <td>1</td>\n",
       "      <td>2</td>\n",
       "      <td>5</td>\n",
       "      <td>5</td>\n",
       "      <td>NaN</td>\n",
       "      <td>99887</td>\n",
       "      <td>NaN</td>\n",
       "      <td>NaN</td>\n",
       "    </tr>\n",
       "    <tr>\n",
       "      <th>1</th>\n",
       "      <td>4</td>\n",
       "      <td>2019-10-15 22:18:07</td>\n",
       "      <td>2019-10-15 22:32:26</td>\n",
       "      <td>0</td>\n",
       "      <td>171.49.170.27</td>\n",
       "      <td>100</td>\n",
       "      <td>858</td>\n",
       "      <td>1</td>\n",
       "      <td>2019-10-15 22:32:26</td>\n",
       "      <td>R_3JjTvGYtgJEC5hD</td>\n",
       "      <td>...</td>\n",
       "      <td>3</td>\n",
       "      <td>3</td>\n",
       "      <td>4</td>\n",
       "      <td>2</td>\n",
       "      <td>1</td>\n",
       "      <td>4</td>\n",
       "      <td>i like to do this type of work in future</td>\n",
       "      <td>52503</td>\n",
       "      <td>NaN</td>\n",
       "      <td>Unknown</td>\n",
       "    </tr>\n",
       "    <tr>\n",
       "      <th>2</th>\n",
       "      <td>5</td>\n",
       "      <td>2019-10-15 22:48:54</td>\n",
       "      <td>2019-10-15 23:00:41</td>\n",
       "      <td>0</td>\n",
       "      <td>75.142.251.193</td>\n",
       "      <td>100</td>\n",
       "      <td>707</td>\n",
       "      <td>1</td>\n",
       "      <td>2019-10-15 23:00:42</td>\n",
       "      <td>R_2cuydCFibv8JRva</td>\n",
       "      <td>...</td>\n",
       "      <td>5</td>\n",
       "      <td>5</td>\n",
       "      <td>3</td>\n",
       "      <td>5</td>\n",
       "      <td>5</td>\n",
       "      <td>5</td>\n",
       "      <td>Thank you</td>\n",
       "      <td>56916</td>\n",
       "      <td>NaN</td>\n",
       "      <td>Unknown</td>\n",
       "    </tr>\n",
       "    <tr>\n",
       "      <th>3</th>\n",
       "      <td>6</td>\n",
       "      <td>2019-10-15 22:51:26</td>\n",
       "      <td>2019-10-15 23:01:15</td>\n",
       "      <td>0</td>\n",
       "      <td>157.46.79.62</td>\n",
       "      <td>100</td>\n",
       "      <td>588</td>\n",
       "      <td>1</td>\n",
       "      <td>2019-10-15 23:01:15</td>\n",
       "      <td>R_3PzZBVyiobpkdjr</td>\n",
       "      <td>...</td>\n",
       "      <td>1</td>\n",
       "      <td>2</td>\n",
       "      <td>4</td>\n",
       "      <td>5</td>\n",
       "      <td>3</td>\n",
       "      <td>3</td>\n",
       "      <td>A22CN9X0JP1HM4</td>\n",
       "      <td>92914</td>\n",
       "      <td>NaN</td>\n",
       "      <td>Unknown</td>\n",
       "    </tr>\n",
       "    <tr>\n",
       "      <th>4</th>\n",
       "      <td>7</td>\n",
       "      <td>2019-10-15 22:59:44</td>\n",
       "      <td>2019-10-15 23:19:12</td>\n",
       "      <td>0</td>\n",
       "      <td>49.207.137.2</td>\n",
       "      <td>100</td>\n",
       "      <td>1167</td>\n",
       "      <td>1</td>\n",
       "      <td>2019-10-15 23:19:12</td>\n",
       "      <td>R_2Pcjs6Du7ICHJ0G</td>\n",
       "      <td>...</td>\n",
       "      <td>4</td>\n",
       "      <td>3</td>\n",
       "      <td>2</td>\n",
       "      <td>5</td>\n",
       "      <td>3</td>\n",
       "      <td>1</td>\n",
       "      <td>NICE</td>\n",
       "      <td>64874</td>\n",
       "      <td>NaN</td>\n",
       "      <td>Unknown</td>\n",
       "    </tr>\n",
       "  </tbody>\n",
       "</table>\n",
       "<p>5 rows × 127 columns</p>\n",
       "</div>"
      ],
      "text/plain": [
       "   index            StartDate              EndDate Status       IPAddress  \\\n",
       "0      3  2019-10-15 22:03:30  2019-10-15 22:08:53      0  107.145.113.42   \n",
       "1      4  2019-10-15 22:18:07  2019-10-15 22:32:26      0   171.49.170.27   \n",
       "2      5  2019-10-15 22:48:54  2019-10-15 23:00:41      0  75.142.251.193   \n",
       "3      6  2019-10-15 22:51:26  2019-10-15 23:01:15      0    157.46.79.62   \n",
       "4      7  2019-10-15 22:59:44  2019-10-15 23:19:12      0    49.207.137.2   \n",
       "\n",
       "  Progress Duration (in seconds) Finished         RecordedDate  \\\n",
       "0      100                   322        1  2019-10-15 22:08:54   \n",
       "1      100                   858        1  2019-10-15 22:32:26   \n",
       "2      100                   707        1  2019-10-15 23:00:42   \n",
       "3      100                   588        1  2019-10-15 23:01:15   \n",
       "4      100                  1167        1  2019-10-15 23:19:12   \n",
       "\n",
       "          ResponseId  ... Q19_2 Q19_3 Q19_4 Q19_5 Q19_6 Q19_7  \\\n",
       "0  R_1KiQLFb92Exgwjx  ...     5     4     1     2     5     5   \n",
       "1  R_3JjTvGYtgJEC5hD  ...     3     3     4     2     1     4   \n",
       "2  R_2cuydCFibv8JRva  ...     5     5     3     5     5     5   \n",
       "3  R_3PzZBVyiobpkdjr  ...     1     2     4     5     3     3   \n",
       "4  R_2Pcjs6Du7ICHJ0G  ...     4     3     2     5     3     1   \n",
       "\n",
       "                                        Q20 Random ID  Q22 - Parent Topics  \\\n",
       "0                                       NaN     99887                  NaN   \n",
       "1  i like to do this type of work in future     52503                  NaN   \n",
       "2                                 Thank you     56916                  NaN   \n",
       "3                            A22CN9X0JP1HM4     92914                  NaN   \n",
       "4                                      NICE     64874                  NaN   \n",
       "\n",
       "   Q22 - Topics  \n",
       "0           NaN  \n",
       "1       Unknown  \n",
       "2       Unknown  \n",
       "3       Unknown  \n",
       "4       Unknown  \n",
       "\n",
       "[5 rows x 127 columns]"
      ]
     },
     "execution_count": 12,
     "metadata": {},
     "output_type": "execute_result"
    }
   ],
   "source": [
    "mturk.head()"
   ]
  },
  {
   "cell_type": "code",
   "execution_count": 13,
   "metadata": {},
   "outputs": [
    {
     "data": {
      "text/plain": [
       "(20, 127)"
      ]
     },
     "execution_count": 13,
     "metadata": {},
     "output_type": "execute_result"
    }
   ],
   "source": [
    "mturk.shape"
   ]
  },
  {
   "cell_type": "code",
   "execution_count": 14,
   "metadata": {},
   "outputs": [
    {
     "data": {
      "text/plain": [
       "array(['index', 'StartDate', 'EndDate', 'Status', 'IPAddress', 'Progress',\n",
       "       'Duration (in seconds)', 'Finished', 'RecordedDate', 'ResponseId',\n",
       "       'RecipientLastName', 'RecipientFirstName', 'RecipientEmail',\n",
       "       'ExternalReference', 'LocationLatitude', 'LocationLongitude',\n",
       "       'DistributionChannel', 'UserLanguage', 'Q5_1', 'Q5_2', 'Q5_3',\n",
       "       'Q5_4', 'Q5_5', 'Q5_6', 'Q5_7', 'Q6_1', 'Q6_2', 'Q6_3', 'Q6_4',\n",
       "       'Q6_5', 'Q6_6', 'Q6_7', 'Q7_1', 'Q7_2', 'Q7_3', 'Q7_4', 'Q7_5',\n",
       "       'Q7_6', 'Q7_7', 'Q8_1', 'Q8_2', 'Q8_3', 'Q8_4', 'Q8_5', 'Q8_6',\n",
       "       'Q8_7', 'Q9_1', 'Q9_2', 'Q9_3', 'Q9_4', 'Q9_5', 'Q9_6', 'Q9_7',\n",
       "       'Q10_1', 'Q10_2', 'Q10_3', 'Q10_4', 'Q10_5', 'Q10_6', 'Q10_7',\n",
       "       'Q11_1', 'Q11_2', 'Q11_3', 'Q11_4', 'Q11_5', 'Q11_6', 'Q11_7',\n",
       "       'Q12_1', 'Q12_2', 'Q12_3', 'Q12_4', 'Q12_5', 'Q12_6', 'Q12_7',\n",
       "       'Q13_1', 'Q13_2', 'Q13_3', 'Q13_4', 'Q13_5', 'Q13_6', 'Q13_7',\n",
       "       'Q14_1', 'Q14_2', 'Q14_3', 'Q14_4', 'Q14_5', 'Q14_6', 'Q14_7',\n",
       "       'Q15_1', 'Q15_2', 'Q15_3', 'Q15_4', 'Q15_5', 'Q15_6', 'Q15_7',\n",
       "       'Q16_1', 'Q16_2', 'Q16_3', 'Q16_4', 'Q16_5', 'Q16_6', 'Q16_7',\n",
       "       'Q17_1', 'Q17_2', 'Q17_3', 'Q17_4', 'Q17_5', 'Q17_6', 'Q17_7',\n",
       "       'Q18_1', 'Q18_2', 'Q18_3', 'Q18_4', 'Q18_5', 'Q18_6', 'Q18_7',\n",
       "       'Q19_1', 'Q19_2', 'Q19_3', 'Q19_4', 'Q19_5', 'Q19_6', 'Q19_7',\n",
       "       'Q20', 'Random ID', 'Q22 - Parent Topics', 'Q22 - Topics'],\n",
       "      dtype='<U21')"
      ]
     },
     "execution_count": 14,
     "metadata": {},
     "output_type": "execute_result"
    }
   ],
   "source": [
    "np.asarray(mturk.columns.tolist())"
   ]
  },
  {
   "cell_type": "code",
   "execution_count": 15,
   "metadata": {},
   "outputs": [],
   "source": [
    "mturk['Duration (in seconds)']= mturk['Duration (in seconds)'].astype(int)/60"
   ]
  },
  {
   "cell_type": "code",
   "execution_count": 16,
   "metadata": {},
   "outputs": [],
   "source": [
    "qas = mturk.loc[:, qstart:qend]\n",
    "qas;"
   ]
  },
  {
   "cell_type": "code",
   "execution_count": 17,
   "metadata": {},
   "outputs": [],
   "source": [
    "answer_orders = answer_orders[0:15]"
   ]
  },
  {
   "cell_type": "code",
   "execution_count": 18,
   "metadata": {},
   "outputs": [
    {
     "data": {
      "text/plain": [
       "15"
      ]
     },
     "execution_count": 18,
     "metadata": {},
     "output_type": "execute_result"
    }
   ],
   "source": [
    "len(answer_orders)"
   ]
  },
  {
   "cell_type": "code",
   "execution_count": 19,
   "metadata": {},
   "outputs": [
    {
     "data": {
      "text/html": [
       "<div>\n",
       "<style scoped>\n",
       "    .dataframe tbody tr th:only-of-type {\n",
       "        vertical-align: middle;\n",
       "    }\n",
       "\n",
       "    .dataframe tbody tr th {\n",
       "        vertical-align: top;\n",
       "    }\n",
       "\n",
       "    .dataframe thead th {\n",
       "        text-align: right;\n",
       "    }\n",
       "</style>\n",
       "<table border=\"1\" class=\"dataframe\">\n",
       "  <thead>\n",
       "    <tr style=\"text-align: right;\">\n",
       "      <th></th>\n",
       "      <th>Q5_1</th>\n",
       "      <th>Q5_2</th>\n",
       "      <th>Q5_3</th>\n",
       "      <th>Q5_4</th>\n",
       "      <th>Q5_5</th>\n",
       "      <th>Q5_6</th>\n",
       "      <th>Q5_7</th>\n",
       "      <th>Q6_1</th>\n",
       "      <th>Q6_2</th>\n",
       "      <th>Q6_3</th>\n",
       "      <th>...</th>\n",
       "      <th>Q18_5</th>\n",
       "      <th>Q18_6</th>\n",
       "      <th>Q18_7</th>\n",
       "      <th>Q19_1</th>\n",
       "      <th>Q19_2</th>\n",
       "      <th>Q19_3</th>\n",
       "      <th>Q19_4</th>\n",
       "      <th>Q19_5</th>\n",
       "      <th>Q19_6</th>\n",
       "      <th>Q19_7</th>\n",
       "    </tr>\n",
       "  </thead>\n",
       "  <tbody>\n",
       "    <tr>\n",
       "      <th>0</th>\n",
       "      <td>3</td>\n",
       "      <td>4</td>\n",
       "      <td>1</td>\n",
       "      <td>5</td>\n",
       "      <td>5</td>\n",
       "      <td>5</td>\n",
       "      <td>1</td>\n",
       "      <td>1</td>\n",
       "      <td>3</td>\n",
       "      <td>3</td>\n",
       "      <td>...</td>\n",
       "      <td>3</td>\n",
       "      <td>4</td>\n",
       "      <td>1</td>\n",
       "      <td>1</td>\n",
       "      <td>5</td>\n",
       "      <td>4</td>\n",
       "      <td>1</td>\n",
       "      <td>2</td>\n",
       "      <td>5</td>\n",
       "      <td>5</td>\n",
       "    </tr>\n",
       "    <tr>\n",
       "      <th>1</th>\n",
       "      <td>2</td>\n",
       "      <td>4</td>\n",
       "      <td>5</td>\n",
       "      <td>3</td>\n",
       "      <td>2</td>\n",
       "      <td>4</td>\n",
       "      <td>5</td>\n",
       "      <td>5</td>\n",
       "      <td>2</td>\n",
       "      <td>3</td>\n",
       "      <td>...</td>\n",
       "      <td>3</td>\n",
       "      <td>5</td>\n",
       "      <td>1</td>\n",
       "      <td>4</td>\n",
       "      <td>3</td>\n",
       "      <td>3</td>\n",
       "      <td>4</td>\n",
       "      <td>2</td>\n",
       "      <td>1</td>\n",
       "      <td>4</td>\n",
       "    </tr>\n",
       "    <tr>\n",
       "      <th>2</th>\n",
       "      <td>3</td>\n",
       "      <td>4</td>\n",
       "      <td>4</td>\n",
       "      <td>5</td>\n",
       "      <td>4</td>\n",
       "      <td>5</td>\n",
       "      <td>3</td>\n",
       "      <td>3</td>\n",
       "      <td>5</td>\n",
       "      <td>5</td>\n",
       "      <td>...</td>\n",
       "      <td>5</td>\n",
       "      <td>5</td>\n",
       "      <td>3</td>\n",
       "      <td>5</td>\n",
       "      <td>5</td>\n",
       "      <td>5</td>\n",
       "      <td>3</td>\n",
       "      <td>5</td>\n",
       "      <td>5</td>\n",
       "      <td>5</td>\n",
       "    </tr>\n",
       "    <tr>\n",
       "      <th>3</th>\n",
       "      <td>4</td>\n",
       "      <td>5</td>\n",
       "      <td>2</td>\n",
       "      <td>3</td>\n",
       "      <td>4</td>\n",
       "      <td>1</td>\n",
       "      <td>3</td>\n",
       "      <td>3</td>\n",
       "      <td>1</td>\n",
       "      <td>4</td>\n",
       "      <td>...</td>\n",
       "      <td>3</td>\n",
       "      <td>5</td>\n",
       "      <td>2</td>\n",
       "      <td>3</td>\n",
       "      <td>1</td>\n",
       "      <td>2</td>\n",
       "      <td>4</td>\n",
       "      <td>5</td>\n",
       "      <td>3</td>\n",
       "      <td>3</td>\n",
       "    </tr>\n",
       "    <tr>\n",
       "      <th>4</th>\n",
       "      <td>1</td>\n",
       "      <td>5</td>\n",
       "      <td>2</td>\n",
       "      <td>4</td>\n",
       "      <td>3</td>\n",
       "      <td>1</td>\n",
       "      <td>2</td>\n",
       "      <td>4</td>\n",
       "      <td>3</td>\n",
       "      <td>1</td>\n",
       "      <td>...</td>\n",
       "      <td>2</td>\n",
       "      <td>5</td>\n",
       "      <td>2</td>\n",
       "      <td>3</td>\n",
       "      <td>4</td>\n",
       "      <td>3</td>\n",
       "      <td>2</td>\n",
       "      <td>5</td>\n",
       "      <td>3</td>\n",
       "      <td>1</td>\n",
       "    </tr>\n",
       "  </tbody>\n",
       "</table>\n",
       "<p>5 rows × 105 columns</p>\n",
       "</div>"
      ],
      "text/plain": [
       "   Q5_1  Q5_2  Q5_3  Q5_4  Q5_5  Q5_6  Q5_7  Q6_1  Q6_2  Q6_3  ...  Q18_5  \\\n",
       "0     3     4     1     5     5     5     1     1     3     3  ...      3   \n",
       "1     2     4     5     3     2     4     5     5     2     3  ...      3   \n",
       "2     3     4     4     5     4     5     3     3     5     5  ...      5   \n",
       "3     4     5     2     3     4     1     3     3     1     4  ...      3   \n",
       "4     1     5     2     4     3     1     2     4     3     1  ...      2   \n",
       "\n",
       "   Q18_6  Q18_7  Q19_1  Q19_2  Q19_3  Q19_4  Q19_5  Q19_6  Q19_7  \n",
       "0      4      1      1      5      4      1      2      5      5  \n",
       "1      5      1      4      3      3      4      2      1      4  \n",
       "2      5      3      5      5      5      3      5      5      5  \n",
       "3      5      2      3      1      2      4      5      3      3  \n",
       "4      5      2      3      4      3      2      5      3      1  \n",
       "\n",
       "[5 rows x 105 columns]"
      ]
     },
     "execution_count": 19,
     "metadata": {},
     "output_type": "execute_result"
    }
   ],
   "source": [
    "qas.head()"
   ]
  },
  {
   "cell_type": "code",
   "execution_count": 20,
   "metadata": {},
   "outputs": [],
   "source": [
    "to_df = []\n",
    "\n",
    "for user_ind in range(qas.shape[0]):\n",
    "    user_ans = qas.loc[user_ind, :]\n",
    "    \n",
    "    for answer_ind, quest in enumerate(answer_orders): \n",
    "        \n",
    "        for q_ind, q in enumerate(quest): \n",
    "            abs_ind = answer_ind*len(quest)+q_ind\n",
    "            #print(abs_ind)\n",
    "            to_df.append([user_ind, answer_ind, q[0].strip(), q[2], q[1], user_ans[abs_ind] ])\n",
    "res = pd.DataFrame(to_df, columns=['user_ind', 'q_ind', 'word', 'ground_word', 'prob', 'score'])"
   ]
  },
  {
   "cell_type": "code",
   "execution_count": 21,
   "metadata": {},
   "outputs": [
    {
     "data": {
      "text/html": [
       "<div>\n",
       "<style scoped>\n",
       "    .dataframe tbody tr th:only-of-type {\n",
       "        vertical-align: middle;\n",
       "    }\n",
       "\n",
       "    .dataframe tbody tr th {\n",
       "        vertical-align: top;\n",
       "    }\n",
       "\n",
       "    .dataframe thead th {\n",
       "        text-align: right;\n",
       "    }\n",
       "</style>\n",
       "<table border=\"1\" class=\"dataframe\">\n",
       "  <thead>\n",
       "    <tr style=\"text-align: right;\">\n",
       "      <th></th>\n",
       "      <th>user_ind</th>\n",
       "      <th>q_ind</th>\n",
       "      <th>word</th>\n",
       "      <th>ground_word</th>\n",
       "      <th>prob</th>\n",
       "      <th>score</th>\n",
       "    </tr>\n",
       "  </thead>\n",
       "  <tbody>\n",
       "    <tr>\n",
       "      <th>0</th>\n",
       "      <td>0</td>\n",
       "      <td>0</td>\n",
       "      <td>event</td>\n",
       "      <td>0</td>\n",
       "      <td>0.002131</td>\n",
       "      <td>3</td>\n",
       "    </tr>\n",
       "    <tr>\n",
       "      <th>1</th>\n",
       "      <td>0</td>\n",
       "      <td>0</td>\n",
       "      <td>things</td>\n",
       "      <td>0</td>\n",
       "      <td>0.000778</td>\n",
       "      <td>4</td>\n",
       "    </tr>\n",
       "    <tr>\n",
       "      <th>2</th>\n",
       "      <td>0</td>\n",
       "      <td>0</td>\n",
       "      <td>bad</td>\n",
       "      <td>0</td>\n",
       "      <td>0.000492</td>\n",
       "      <td>1</td>\n",
       "    </tr>\n",
       "    <tr>\n",
       "      <th>3</th>\n",
       "      <td>0</td>\n",
       "      <td>0</td>\n",
       "      <td>events</td>\n",
       "      <td>1</td>\n",
       "      <td>0.978269</td>\n",
       "      <td>5</td>\n",
       "    </tr>\n",
       "    <tr>\n",
       "      <th>4</th>\n",
       "      <td>0</td>\n",
       "      <td>0</td>\n",
       "      <td>circumstances</td>\n",
       "      <td>0</td>\n",
       "      <td>0.000509</td>\n",
       "      <td>5</td>\n",
       "    </tr>\n",
       "  </tbody>\n",
       "</table>\n",
       "</div>"
      ],
      "text/plain": [
       "   user_ind  q_ind           word  ground_word      prob  score\n",
       "0         0      0          event            0  0.002131      3\n",
       "1         0      0         things            0  0.000778      4\n",
       "2         0      0            bad            0  0.000492      1\n",
       "3         0      0         events            1  0.978269      5\n",
       "4         0      0  circumstances            0  0.000509      5"
      ]
     },
     "execution_count": 21,
     "metadata": {},
     "output_type": "execute_result"
    }
   ],
   "source": [
    "res.head()"
   ]
  },
  {
   "cell_type": "code",
   "execution_count": 22,
   "metadata": {},
   "outputs": [],
   "source": [
    "from importlib import reload\n",
    "import utils\n",
    "\n",
    "reload(utils)\n",
    "from utils import *"
   ]
  },
  {
   "cell_type": "code",
   "execution_count": 23,
   "metadata": {},
   "outputs": [],
   "source": [
    "res['score'] = res['score'].astype(int)"
   ]
  },
  {
   "cell_type": "code",
   "execution_count": 24,
   "metadata": {},
   "outputs": [],
   "source": [
    "res['score'] = res['score']*2"
   ]
  },
  {
   "cell_type": "markdown",
   "metadata": {},
   "source": [
    "# Looking at the global results without any cleaning"
   ]
  },
  {
   "cell_type": "code",
   "execution_count": 25,
   "metadata": {},
   "outputs": [
    {
     "data": {
      "image/png": "[encoded data removed]",
      "text/plain": [
       "<Figure size 432x288 with 1 Axes>"
      ]
     },
     "metadata": {},
     "output_type": "display_data"
    }
   ],
   "source": [
    "# put a linear regression through this. \n",
    "\n",
    "import seaborn as sns; sns.set(color_codes=True)\n",
    "ax = sns.regplot(x=res['prob'], y=res['score'], color=\"g\")\n"
   ]
  },
  {
   "cell_type": "code",
   "execution_count": 26,
   "metadata": {},
   "outputs": [
    {
     "data": {
      "text/plain": [
       "Text(0, 0.5, 'Score')"
      ]
     },
     "execution_count": 26,
     "metadata": {},
     "output_type": "execute_result"
    },
    {
     "data": {
      "image/png": "[encoded data removed]",
      "text/plain": [
       "<Figure size 432x288 with 1 Axes>"
      ]
     },
     "metadata": {},
     "output_type": "display_data"
    }
   ],
   "source": [
    "means = res.groupby('score').mean()\n",
    "plt.scatter(means['prob'], means.index)\n",
    "plt.xlabel('Prob')\n",
    "plt.ylabel('Score')"
   ]
  },
  {
   "cell_type": "code",
   "execution_count": 27,
   "metadata": {},
   "outputs": [
    {
     "data": {
      "text/html": [
       "<div>\n",
       "<style scoped>\n",
       "    .dataframe tbody tr th:only-of-type {\n",
       "        vertical-align: middle;\n",
       "    }\n",
       "\n",
       "    .dataframe tbody tr th {\n",
       "        vertical-align: top;\n",
       "    }\n",
       "\n",
       "    .dataframe thead th {\n",
       "        text-align: right;\n",
       "    }\n",
       "</style>\n",
       "<table border=\"1\" class=\"dataframe\">\n",
       "  <thead>\n",
       "    <tr style=\"text-align: right;\">\n",
       "      <th></th>\n",
       "      <th>LocationLatitude</th>\n",
       "      <th>LocationLongitude</th>\n",
       "      <th>Q20</th>\n",
       "      <th>Random ID</th>\n",
       "      <th>Duration (in seconds)</th>\n",
       "    </tr>\n",
       "  </thead>\n",
       "  <tbody>\n",
       "    <tr>\n",
       "      <th>0</th>\n",
       "      <td>28.206207275390625</td>\n",
       "      <td>-80.68740081787109375</td>\n",
       "      <td>NaN</td>\n",
       "      <td>99887</td>\n",
       "      <td>5.366667</td>\n",
       "    </tr>\n",
       "    <tr>\n",
       "      <th>1</th>\n",
       "      <td>13.087799072265625</td>\n",
       "      <td>80.27850341796875</td>\n",
       "      <td>i like to do this type of work in future</td>\n",
       "      <td>52503</td>\n",
       "      <td>14.300000</td>\n",
       "    </tr>\n",
       "    <tr>\n",
       "      <th>2</th>\n",
       "      <td>39.5272064208984375</td>\n",
       "      <td>-119.91290283203125</td>\n",
       "      <td>Thank you</td>\n",
       "      <td>56916</td>\n",
       "      <td>11.783333</td>\n",
       "    </tr>\n",
       "    <tr>\n",
       "      <th>3</th>\n",
       "      <td>13.087799072265625</td>\n",
       "      <td>80.27850341796875</td>\n",
       "      <td>A22CN9X0JP1HM4</td>\n",
       "      <td>92914</td>\n",
       "      <td>9.800000</td>\n",
       "    </tr>\n",
       "    <tr>\n",
       "      <th>4</th>\n",
       "      <td>13.087799072265625</td>\n",
       "      <td>80.27850341796875</td>\n",
       "      <td>NICE</td>\n",
       "      <td>64874</td>\n",
       "      <td>19.450000</td>\n",
       "    </tr>\n",
       "    <tr>\n",
       "      <th>5</th>\n",
       "      <td>29.691802978515625</td>\n",
       "      <td>-95.6526031494140625</td>\n",
       "      <td>No comments</td>\n",
       "      <td>79189</td>\n",
       "      <td>6.000000</td>\n",
       "    </tr>\n",
       "    <tr>\n",
       "      <th>6</th>\n",
       "      <td>37.675201416015625</td>\n",
       "      <td>-120.946502685546875</td>\n",
       "      <td>no</td>\n",
       "      <td>96192</td>\n",
       "      <td>16.800000</td>\n",
       "    </tr>\n",
       "    <tr>\n",
       "      <th>7</th>\n",
       "      <td>13.087799072265625</td>\n",
       "      <td>80.27850341796875</td>\n",
       "      <td>A3PWNN3ITRK4X3</td>\n",
       "      <td>75978</td>\n",
       "      <td>7.316667</td>\n",
       "    </tr>\n",
       "    <tr>\n",
       "      <th>8</th>\n",
       "      <td>13.087799072265625</td>\n",
       "      <td>80.27850341796875</td>\n",
       "      <td>A3HZEWILX5PQSJ</td>\n",
       "      <td>26893</td>\n",
       "      <td>16.050000</td>\n",
       "    </tr>\n",
       "    <tr>\n",
       "      <th>9</th>\n",
       "      <td>13.087799072265625</td>\n",
       "      <td>80.27850341796875</td>\n",
       "      <td>IT IS INFORMATIVE</td>\n",
       "      <td>18522</td>\n",
       "      <td>27.416667</td>\n",
       "    </tr>\n",
       "    <tr>\n",
       "      <th>10</th>\n",
       "      <td>38.959197998046875</td>\n",
       "      <td>-94.596099853515625</td>\n",
       "      <td>NaN</td>\n",
       "      <td>37690</td>\n",
       "      <td>6.316667</td>\n",
       "    </tr>\n",
       "    <tr>\n",
       "      <th>11</th>\n",
       "      <td>35.46429443359375</td>\n",
       "      <td>-82.533599853515625</td>\n",
       "      <td>Thank you, thought it was pretty engaging.</td>\n",
       "      <td>42791</td>\n",
       "      <td>30.233333</td>\n",
       "    </tr>\n",
       "    <tr>\n",
       "      <th>12</th>\n",
       "      <td>29.8737945556640625</td>\n",
       "      <td>-95.5233001708984375</td>\n",
       "      <td>NaN</td>\n",
       "      <td>51027</td>\n",
       "      <td>15.550000</td>\n",
       "    </tr>\n",
       "    <tr>\n",
       "      <th>13</th>\n",
       "      <td>40.0731964111328125</td>\n",
       "      <td>-82.401702880859375</td>\n",
       "      <td>None, thanks!</td>\n",
       "      <td>45013</td>\n",
       "      <td>26.250000</td>\n",
       "    </tr>\n",
       "    <tr>\n",
       "      <th>14</th>\n",
       "      <td>38.760894775390625</td>\n",
       "      <td>-121.2866973876953125</td>\n",
       "      <td>good</td>\n",
       "      <td>61245</td>\n",
       "      <td>7.233333</td>\n",
       "    </tr>\n",
       "    <tr>\n",
       "      <th>15</th>\n",
       "      <td>47.6092071533203125</td>\n",
       "      <td>-122.3314056396484375</td>\n",
       "      <td>none</td>\n",
       "      <td>96232</td>\n",
       "      <td>12.600000</td>\n",
       "    </tr>\n",
       "    <tr>\n",
       "      <th>16</th>\n",
       "      <td>34.1846923828125</td>\n",
       "      <td>-79.7704010009765625</td>\n",
       "      <td>None</td>\n",
       "      <td>89261</td>\n",
       "      <td>14.450000</td>\n",
       "    </tr>\n",
       "    <tr>\n",
       "      <th>17</th>\n",
       "      <td>33.86810302734375</td>\n",
       "      <td>-118.18310546875</td>\n",
       "      <td>NaN</td>\n",
       "      <td>87713</td>\n",
       "      <td>12.750000</td>\n",
       "    </tr>\n",
       "    <tr>\n",
       "      <th>18</th>\n",
       "      <td>35.996795654296875</td>\n",
       "      <td>-78.89550018310546875</td>\n",
       "      <td>NaN</td>\n",
       "      <td>26630</td>\n",
       "      <td>6.866667</td>\n",
       "    </tr>\n",
       "    <tr>\n",
       "      <th>19</th>\n",
       "      <td>32.9510955810546875</td>\n",
       "      <td>-117.22409820556640625</td>\n",
       "      <td>no very interesting!</td>\n",
       "      <td>39682</td>\n",
       "      <td>6.900000</td>\n",
       "    </tr>\n",
       "  </tbody>\n",
       "</table>\n",
       "</div>"
      ],
      "text/plain": [
       "       LocationLatitude       LocationLongitude  \\\n",
       "0    28.206207275390625   -80.68740081787109375   \n",
       "1    13.087799072265625       80.27850341796875   \n",
       "2   39.5272064208984375     -119.91290283203125   \n",
       "3    13.087799072265625       80.27850341796875   \n",
       "4    13.087799072265625       80.27850341796875   \n",
       "5    29.691802978515625    -95.6526031494140625   \n",
       "6    37.675201416015625    -120.946502685546875   \n",
       "7    13.087799072265625       80.27850341796875   \n",
       "8    13.087799072265625       80.27850341796875   \n",
       "9    13.087799072265625       80.27850341796875   \n",
       "10   38.959197998046875     -94.596099853515625   \n",
       "11    35.46429443359375     -82.533599853515625   \n",
       "12  29.8737945556640625    -95.5233001708984375   \n",
       "13  40.0731964111328125     -82.401702880859375   \n",
       "14   38.760894775390625   -121.2866973876953125   \n",
       "15  47.6092071533203125   -122.3314056396484375   \n",
       "16     34.1846923828125    -79.7704010009765625   \n",
       "17    33.86810302734375        -118.18310546875   \n",
       "18   35.996795654296875   -78.89550018310546875   \n",
       "19  32.9510955810546875  -117.22409820556640625   \n",
       "\n",
       "                                           Q20 Random ID  \\\n",
       "0                                          NaN     99887   \n",
       "1     i like to do this type of work in future     52503   \n",
       "2                                    Thank you     56916   \n",
       "3                               A22CN9X0JP1HM4     92914   \n",
       "4                                         NICE     64874   \n",
       "5                                  No comments     79189   \n",
       "6                                           no     96192   \n",
       "7                               A3PWNN3ITRK4X3     75978   \n",
       "8                               A3HZEWILX5PQSJ     26893   \n",
       "9                            IT IS INFORMATIVE     18522   \n",
       "10                                         NaN     37690   \n",
       "11  Thank you, thought it was pretty engaging.     42791   \n",
       "12                                         NaN     51027   \n",
       "13                               None, thanks!     45013   \n",
       "14                                        good     61245   \n",
       "15                                        none     96232   \n",
       "16                                        None     89261   \n",
       "17                                         NaN     87713   \n",
       "18                                         NaN     26630   \n",
       "19                        no very interesting!     39682   \n",
       "\n",
       "    Duration (in seconds)  \n",
       "0                5.366667  \n",
       "1               14.300000  \n",
       "2               11.783333  \n",
       "3                9.800000  \n",
       "4               19.450000  \n",
       "5                6.000000  \n",
       "6               16.800000  \n",
       "7                7.316667  \n",
       "8               16.050000  \n",
       "9               27.416667  \n",
       "10               6.316667  \n",
       "11              30.233333  \n",
       "12              15.550000  \n",
       "13              26.250000  \n",
       "14               7.233333  \n",
       "15              12.600000  \n",
       "16              14.450000  \n",
       "17              12.750000  \n",
       "18               6.866667  \n",
       "19               6.900000  "
      ]
     },
     "execution_count": 27,
     "metadata": {},
     "output_type": "execute_result"
    }
   ],
   "source": [
    "mturk[['LocationLatitude',\n",
    " 'LocationLongitude', 'Q20', 'Random ID', 'Duration (in seconds)']]"
   ]
  },
  {
   "cell_type": "markdown",
   "metadata": {},
   "source": [
    "# What surveyors should I pay?"
   ]
  },
  {
   "cell_type": "markdown",
   "metadata": {},
   "source": [
    "## What is the correlation matrix between them? "
   ]
  },
  {
   "cell_type": "code",
   "execution_count": 28,
   "metadata": {},
   "outputs": [],
   "source": [
    "user_vectors = []\n",
    "for user_ind in res['user_ind'].unique().tolist():\n",
    "    single_u = res[res['user_ind']==user_ind]['score'].astype(int)\n",
    "    # normalize to the unit vector\n",
    "    #print(np.dot(single_u,single_u))\n",
    "    single_u = single_u/ np.sqrt(np.dot(single_u,single_u))\n",
    "    #print(np.sqrt(np.dot(single_u,single_u)))\n",
    "    user_vectors.append(single_u)\n",
    "user_vectors = np.asarray(user_vectors) # each user is a row"
   ]
  },
  {
   "cell_type": "code",
   "execution_count": 29,
   "metadata": {},
   "outputs": [],
   "source": [
    "u_corr = np.corrcoef(user_vectors)\n",
    "u_corr;"
   ]
  },
  {
   "cell_type": "code",
   "execution_count": 30,
   "metadata": {},
   "outputs": [
    {
     "data": {
      "text/plain": [
       "<matplotlib.axes._subplots.AxesSubplot at 0x10b3d0588>"
      ]
     },
     "execution_count": 30,
     "metadata": {},
     "output_type": "execute_result"
    },
    {
     "data": {
      "image/png": "[encoded data removed]",
      "text/plain": [
       "<Figure size 432x288 with 2 Axes>"
      ]
     },
     "metadata": {},
     "output_type": "display_data"
    }
   ],
   "source": [
    "sns.heatmap(u_corr)"
   ]
  },
  {
   "cell_type": "markdown",
   "metadata": {},
   "source": [
    "2, 5 and 6 all correlate well. This is the same as those that have high internal consistency (and also happen to give the highest scores). 6 is from Sacramento. 5 is from Houston. 2 is outside of Sacramento. 0 is from palm bay florida. and was almost internally consistent enough. correlated well with some of the others. "
   ]
  },
  {
   "cell_type": "markdown",
   "metadata": {},
   "source": [
    "## Looking at the scores from each one: "
   ]
  },
  {
   "cell_type": "code",
   "execution_count": 31,
   "metadata": {},
   "outputs": [
    {
     "data": {
      "text/plain": [
       "\"for user_ind in res['user_ind'].unique().tolist():\\n    single_u = res[res['user_ind']==user_ind]\\n    print('user ind:', user_ind)\\n    #overall output\\n    plt.scatter(single_u['prob'], single_u['score'])\\n    plt.xlabel('Prob')\\n    plt.ylabel('Score')\\n    plt.show()\\n    #mean output\\n    means = single_u.groupby('score').mean()\\n    plt.scatter(means['prob'], means.index)\\n    plt.xlabel('Prob')\\n    plt.ylabel('Score')\\n    plt.show()\\n    #did they get the same words with the same score? \\n\""
      ]
     },
     "execution_count": 31,
     "metadata": {},
     "output_type": "execute_result"
    }
   ],
   "source": [
    "'''for user_ind in res['user_ind'].unique().tolist():\n",
    "    single_u = res[res['user_ind']==user_ind]\n",
    "    print('user ind:', user_ind)\n",
    "    #overall output\n",
    "    plt.scatter(single_u['prob'], single_u['score'])\n",
    "    plt.xlabel('Prob')\n",
    "    plt.ylabel('Score')\n",
    "    plt.show()\n",
    "    #mean output\n",
    "    means = single_u.groupby('score').mean()\n",
    "    plt.scatter(means['prob'], means.index)\n",
    "    plt.xlabel('Prob')\n",
    "    plt.ylabel('Score')\n",
    "    plt.show()\n",
    "    #did they get the same words with the same score? \n",
    "'''"
   ]
  },
  {
   "cell_type": "code",
   "execution_count": 32,
   "metadata": {},
   "outputs": [
    {
     "name": "stdout",
     "output_type": "stream",
     "text": [
      "user ind 0 | internal consistent? False | percent int con 0.8666666666666667\n",
      "user ind 1 | internal consistent? False | percent int con 0.6\n",
      "user ind 2 | internal consistent? False | percent int con 0.9333333333333333\n",
      "user ind 3 | internal consistent? False | percent int con 0.6\n",
      "user ind 4 | internal consistent? False | percent int con 0.6\n",
      "user ind 5 | internal consistent? False | percent int con 0.9333333333333333\n",
      "user ind 6 | internal consistent? False | percent int con 0.9333333333333333\n",
      "user ind 7 | internal consistent? False | percent int con 0.8666666666666667\n",
      "user ind 8 | internal consistent? False | percent int con 0.5333333333333333\n",
      "user ind 9 | internal consistent? False | percent int con 0.6666666666666666\n",
      "user ind 10 | internal consistent? False | percent int con 0.9333333333333333\n",
      "user ind 11 | internal consistent? False | percent int con 0.9333333333333333\n",
      "user ind 12 | internal consistent? False | percent int con 0.9333333333333333\n",
      "user ind 13 | internal consistent? False | percent int con 0.9333333333333333\n",
      "user ind 14 | internal consistent? False | percent int con 0.5333333333333333\n",
      "user ind 15 | internal consistent? False | percent int con 0.9333333333333333\n",
      "user ind 16 | internal consistent? False | percent int con 0.6\n",
      "user ind 17 | internal consistent? False | percent int con 0.5333333333333333\n",
      "user ind 18 | internal consistent? False | percent int con 0.7333333333333333\n",
      "user ind 19 | internal consistent? False | percent int con 0.9333333333333333\n",
      "bad users are:  [0, 1, 3, 4, 7, 8, 9, 14, 16, 17, 18]\n"
     ]
    }
   ],
   "source": [
    "perc_const_threshold = 0.9\n",
    "\n",
    "def dup_in_col(x):\n",
    "    dupe_mask = x['word'].duplicated(keep=False)\n",
    "    dupe_words = x['word'][dupe_mask]\n",
    "    #print(dupe_words)\n",
    "    for w in dupe_words.unique().tolist():\n",
    "        same_prob = len(x[x['word']==w]['score'].unique().tolist())==1\n",
    "        #print(x[x['word']==w]['score'])\n",
    "        #print('same score', same_prob)\n",
    "        if same_prob: \n",
    "            continue\n",
    "        else: \n",
    "            return False\n",
    "    return True\n",
    "\n",
    "bad_users = []\n",
    "\n",
    "for user_ind in res['user_ind'].unique().tolist():\n",
    "    single_u = res[res['user_ind']==user_ind]\n",
    "    same_probs = single_u.groupby('q_ind').apply(dup_in_col )\n",
    "    int_cons = same_probs.sum() == len(same_probs)\n",
    "    perc_int_cons = same_probs.sum()/len(same_probs)\n",
    "    \n",
    "    print('user ind', user_ind, '| internal consistent?', int_cons, '| percent int con', perc_int_cons)\n",
    "    \n",
    "    if perc_int_cons< perc_const_threshold:\n",
    "        bad_users.append(user_ind)\n",
    "print('bad users are: ', bad_users)"
   ]
  },
  {
   "cell_type": "code",
   "execution_count": 33,
   "metadata": {},
   "outputs": [
    {
     "data": {
      "text/html": [
       "<div>\n",
       "<style scoped>\n",
       "    .dataframe tbody tr th:only-of-type {\n",
       "        vertical-align: middle;\n",
       "    }\n",
       "\n",
       "    .dataframe tbody tr th {\n",
       "        vertical-align: top;\n",
       "    }\n",
       "\n",
       "    .dataframe thead th {\n",
       "        text-align: right;\n",
       "    }\n",
       "</style>\n",
       "<table border=\"1\" class=\"dataframe\">\n",
       "  <thead>\n",
       "    <tr style=\"text-align: right;\">\n",
       "      <th></th>\n",
       "      <th>Random ID</th>\n",
       "    </tr>\n",
       "  </thead>\n",
       "  <tbody>\n",
       "    <tr>\n",
       "      <th>0</th>\n",
       "      <td>99887</td>\n",
       "    </tr>\n",
       "    <tr>\n",
       "      <th>1</th>\n",
       "      <td>52503</td>\n",
       "    </tr>\n",
       "    <tr>\n",
       "      <th>3</th>\n",
       "      <td>92914</td>\n",
       "    </tr>\n",
       "    <tr>\n",
       "      <th>4</th>\n",
       "      <td>64874</td>\n",
       "    </tr>\n",
       "    <tr>\n",
       "      <th>7</th>\n",
       "      <td>75978</td>\n",
       "    </tr>\n",
       "    <tr>\n",
       "      <th>8</th>\n",
       "      <td>26893</td>\n",
       "    </tr>\n",
       "    <tr>\n",
       "      <th>9</th>\n",
       "      <td>18522</td>\n",
       "    </tr>\n",
       "    <tr>\n",
       "      <th>14</th>\n",
       "      <td>61245</td>\n",
       "    </tr>\n",
       "    <tr>\n",
       "      <th>16</th>\n",
       "      <td>89261</td>\n",
       "    </tr>\n",
       "    <tr>\n",
       "      <th>17</th>\n",
       "      <td>87713</td>\n",
       "    </tr>\n",
       "    <tr>\n",
       "      <th>18</th>\n",
       "      <td>26630</td>\n",
       "    </tr>\n",
       "  </tbody>\n",
       "</table>\n",
       "</div>"
      ],
      "text/plain": [
       "   Random ID\n",
       "0      99887\n",
       "1      52503\n",
       "3      92914\n",
       "4      64874\n",
       "7      75978\n",
       "8      26893\n",
       "9      18522\n",
       "14     61245\n",
       "16     89261\n",
       "17     87713\n",
       "18     26630"
      ]
     },
     "execution_count": 33,
     "metadata": {},
     "output_type": "execute_result"
    }
   ],
   "source": [
    "mturk.iloc[np.asarray(bad_users)][['Random ID']]"
   ]
  },
  {
   "cell_type": "markdown",
   "metadata": {},
   "source": [
    "### How did they rate the ground truth words? "
   ]
  },
  {
   "cell_type": "code",
   "execution_count": 34,
   "metadata": {},
   "outputs": [
    {
     "data": {
      "text/plain": [
       "\"g_truth = pickle.load(open('prob_slice_replaceable_comparisons_answers_list.pickle','rb'))\\nall_gwords = []\\nfor q in g_truth: \\n    for e in q:\\n        if e[2]==1:\\n            all_gwords.append(e[0].strip())\""
      ]
     },
     "execution_count": 34,
     "metadata": {},
     "output_type": "execute_result"
    }
   ],
   "source": [
    "'''g_truth = pickle.load(open('prob_slice_replaceable_comparisons_answers_list.pickle','rb'))\n",
    "all_gwords = []\n",
    "for q in g_truth: \n",
    "    for e in q:\n",
    "        if e[2]==1:\n",
    "            all_gwords.append(e[0].strip())'''"
   ]
  },
  {
   "cell_type": "code",
   "execution_count": 35,
   "metadata": {},
   "outputs": [
    {
     "data": {
      "image/png": "[encoded data removed]",
      "text/plain": [
       "<Figure size 432x288 with 1 Axes>"
      ]
     },
     "metadata": {},
     "output_type": "display_data"
    }
   ],
   "source": [
    "mean_gw_scores = []\n",
    "\n",
    "threshold = 6.5\n",
    "\n",
    "for user_ind in res['user_ind'].unique().tolist():\n",
    "    single_u = res[res['user_ind']==user_ind]\n",
    "    gw_mask = single_u['ground_word'].astype(bool)\n",
    "    #print(single_u)\n",
    "    #print(gw_mask)\n",
    "    gw_scores = single_u[gw_mask]['score']\n",
    "    #print('user ind', user_ind, 'mean g word score', gw_scores.mean(), 'scores for ground words', gw_scores)\n",
    "    mean_gw_scores.append(gw_scores.mean())\n",
    "    if gw_scores.mean()<threshold:\n",
    "        \n",
    "        bad_users.append(user_ind)\n",
    "plt.scatter(range(len(mean_gw_scores)), mean_gw_scores)\n",
    "plt.axhline(threshold)\n",
    "plt.xticks(np.arange(len(mean_gw_scores)))\n",
    "plt.show()"
   ]
  },
  {
   "cell_type": "markdown",
   "metadata": {},
   "source": [
    "#### all of the good ones in this case are above 7 as they should be for the ground words. "
   ]
  },
  {
   "cell_type": "code",
   "execution_count": 36,
   "metadata": {},
   "outputs": [
    {
     "data": {
      "text/plain": [
       "'18522'"
      ]
     },
     "execution_count": 36,
     "metadata": {},
     "output_type": "execute_result"
    }
   ],
   "source": [
    "mturk.loc[9, 'Random ID']"
   ]
  },
  {
   "cell_type": "markdown",
   "metadata": {},
   "source": [
    "## removing ground words if they already appear in the list to avoid double counting. "
   ]
  },
  {
   "cell_type": "code",
   "execution_count": 37,
   "metadata": {},
   "outputs": [
    {
     "data": {
      "text/html": [
       "<div>\n",
       "<style scoped>\n",
       "    .dataframe tbody tr th:only-of-type {\n",
       "        vertical-align: middle;\n",
       "    }\n",
       "\n",
       "    .dataframe tbody tr th {\n",
       "        vertical-align: top;\n",
       "    }\n",
       "\n",
       "    .dataframe thead th {\n",
       "        text-align: right;\n",
       "    }\n",
       "</style>\n",
       "<table border=\"1\" class=\"dataframe\">\n",
       "  <thead>\n",
       "    <tr style=\"text-align: right;\">\n",
       "      <th></th>\n",
       "      <th>user_ind</th>\n",
       "      <th>q_ind</th>\n",
       "      <th>word</th>\n",
       "      <th>ground_word</th>\n",
       "      <th>prob</th>\n",
       "      <th>score</th>\n",
       "    </tr>\n",
       "  </thead>\n",
       "  <tbody>\n",
       "    <tr>\n",
       "      <th>0</th>\n",
       "      <td>0</td>\n",
       "      <td>0</td>\n",
       "      <td>event</td>\n",
       "      <td>0</td>\n",
       "      <td>0.002131</td>\n",
       "      <td>6</td>\n",
       "    </tr>\n",
       "    <tr>\n",
       "      <th>1</th>\n",
       "      <td>0</td>\n",
       "      <td>0</td>\n",
       "      <td>things</td>\n",
       "      <td>0</td>\n",
       "      <td>0.000778</td>\n",
       "      <td>8</td>\n",
       "    </tr>\n",
       "    <tr>\n",
       "      <th>2</th>\n",
       "      <td>0</td>\n",
       "      <td>0</td>\n",
       "      <td>bad</td>\n",
       "      <td>0</td>\n",
       "      <td>0.000492</td>\n",
       "      <td>2</td>\n",
       "    </tr>\n",
       "    <tr>\n",
       "      <th>3</th>\n",
       "      <td>0</td>\n",
       "      <td>0</td>\n",
       "      <td>events</td>\n",
       "      <td>1</td>\n",
       "      <td>0.978269</td>\n",
       "      <td>10</td>\n",
       "    </tr>\n",
       "    <tr>\n",
       "      <th>4</th>\n",
       "      <td>0</td>\n",
       "      <td>0</td>\n",
       "      <td>circumstances</td>\n",
       "      <td>0</td>\n",
       "      <td>0.000509</td>\n",
       "      <td>10</td>\n",
       "    </tr>\n",
       "  </tbody>\n",
       "</table>\n",
       "</div>"
      ],
      "text/plain": [
       "   user_ind  q_ind           word  ground_word      prob  score\n",
       "0         0      0          event            0  0.002131      6\n",
       "1         0      0         things            0  0.000778      8\n",
       "2         0      0            bad            0  0.000492      2\n",
       "3         0      0         events            1  0.978269     10\n",
       "4         0      0  circumstances            0  0.000509     10"
      ]
     },
     "execution_count": 37,
     "metadata": {},
     "output_type": "execute_result"
    }
   ],
   "source": [
    "res.head()"
   ]
  },
  {
   "cell_type": "code",
   "execution_count": 46,
   "metadata": {},
   "outputs": [
    {
     "data": {
      "text/plain": [
       "user_ind  q_ind\n",
       "0         0           Int64Index([3], dtype='int64')\n",
       "          1           Int64Index([8], dtype='int64')\n",
       "          2          Int64Index([20], dtype='int64')\n",
       "          3          Int64Index([24], dtype='int64')\n",
       "          4            Int64Index([], dtype='int64')\n",
       "          5          Int64Index([40], dtype='int64')\n",
       "          6            Int64Index([], dtype='int64')\n",
       "          7            Int64Index([], dtype='int64')\n",
       "          8          Int64Index([59], dtype='int64')\n",
       "          9            Int64Index([], dtype='int64')\n",
       "          10           Int64Index([], dtype='int64')\n",
       "          11           Int64Index([], dtype='int64')\n",
       "          12           Int64Index([], dtype='int64')\n",
       "          13           Int64Index([], dtype='int64')\n",
       "          14        Int64Index([101], dtype='int64')\n",
       "1         0         Int64Index([108], dtype='int64')\n",
       "          1         Int64Index([113], dtype='int64')\n",
       "          2         Int64Index([125], dtype='int64')\n",
       "          3         Int64Index([129], dtype='int64')\n",
       "          4            Int64Index([], dtype='int64')\n",
       "          5         Int64Index([145], dtype='int64')\n",
       "          6            Int64Index([], dtype='int64')\n",
       "          7            Int64Index([], dtype='int64')\n",
       "          8         Int64Index([164], dtype='int64')\n",
       "          9            Int64Index([], dtype='int64')\n",
       "          10           Int64Index([], dtype='int64')\n",
       "          11           Int64Index([], dtype='int64')\n",
       "          12           Int64Index([], dtype='int64')\n",
       "          13           Int64Index([], dtype='int64')\n",
       "          14        Int64Index([206], dtype='int64')\n",
       "                                 ...                \n",
       "18        0        Int64Index([1893], dtype='int64')\n",
       "          1        Int64Index([1898], dtype='int64')\n",
       "          2        Int64Index([1910], dtype='int64')\n",
       "          3        Int64Index([1914], dtype='int64')\n",
       "          4            Int64Index([], dtype='int64')\n",
       "          5        Int64Index([1930], dtype='int64')\n",
       "          6            Int64Index([], dtype='int64')\n",
       "          7            Int64Index([], dtype='int64')\n",
       "          8        Int64Index([1949], dtype='int64')\n",
       "          9            Int64Index([], dtype='int64')\n",
       "          10           Int64Index([], dtype='int64')\n",
       "          11           Int64Index([], dtype='int64')\n",
       "          12           Int64Index([], dtype='int64')\n",
       "          13           Int64Index([], dtype='int64')\n",
       "          14       Int64Index([1991], dtype='int64')\n",
       "19        0        Int64Index([1998], dtype='int64')\n",
       "          1        Int64Index([2003], dtype='int64')\n",
       "          2        Int64Index([2015], dtype='int64')\n",
       "          3        Int64Index([2019], dtype='int64')\n",
       "          4            Int64Index([], dtype='int64')\n",
       "          5        Int64Index([2035], dtype='int64')\n",
       "          6            Int64Index([], dtype='int64')\n",
       "          7            Int64Index([], dtype='int64')\n",
       "          8        Int64Index([2054], dtype='int64')\n",
       "          9            Int64Index([], dtype='int64')\n",
       "          10           Int64Index([], dtype='int64')\n",
       "          11           Int64Index([], dtype='int64')\n",
       "          12           Int64Index([], dtype='int64')\n",
       "          13           Int64Index([], dtype='int64')\n",
       "          14       Int64Index([2096], dtype='int64')\n",
       "Length: 300, dtype: object"
      ]
     },
     "execution_count": 46,
     "metadata": {},
     "output_type": "execute_result"
    }
   ],
   "source": [
    "def gword_dupe_ground(x):\n",
    "    #print(x)\n",
    "    #print(x.index)\n",
    "    #rows_to_drop = []\n",
    "    dupe_mask = x['word'].duplicated(keep=False)\n",
    "    dupe_x = x[dupe_mask]\n",
    "    dupe_word_indexes = dupe_x[dupe_x['ground_word'].astype(bool)].index\n",
    "    #print(dupe_word_indexes)\n",
    "    #print(dupe_x['word'])\n",
    "    return dupe_word_indexes\n",
    "    '''#print(dupe_words)\n",
    "    for w in dupe_words.unique().tolist(): # going through each of teh dupe words. \n",
    "        \n",
    "        x[x['ground_word']]\n",
    "        \n",
    "        same_prob = len(x[x['word']==w]['prob'].unique().tolist())==1\n",
    "        #print(x[x['word']==w]['score'])\n",
    "        #print('same score', same_prob)\n",
    "        if not same_prob: # removing ground truth words with a lower prob\n",
    "            ind_mask = mask = x['word']==w\n",
    "            # drop the smaller one\n",
    "            smaller = np.argmin(x[ind_mask]['prob'])\n",
    "            rows_to_drop.append( smaller )\n",
    "            # np.arange(len(x['word']))\n",
    "        else: # removing the first one to avoid double counting \n",
    "            ind_mask = mask = x['word']==w\n",
    "            # drop the smaller one\n",
    "            smaller = np.argmin(x[ind_mask].index)\n",
    "            rows_to_drop.append( smaller )\n",
    "    return rows_to_drop'''\n",
    "\n",
    "res_rows_to_drop = res.groupby(['user_ind','q_ind']).apply(gword_dupe_ground)\n",
    "res_rows_to_drop\n",
    "\n"
   ]
  },
  {
   "cell_type": "code",
   "execution_count": 51,
   "metadata": {},
   "outputs": [
    {
     "ename": "TypeError",
     "evalue": "'numpy.int64' object is not iterable",
     "output_type": "error",
     "traceback": [
      "\u001b[0;31m---------------------------------------------------------------------------\u001b[0m",
      "\u001b[0;31mTypeError\u001b[0m                                 Traceback (most recent call last)",
      "\u001b[0;32m<ipython-input-51-74a65d49826a>\u001b[0m in \u001b[0;36m<module>\u001b[0;34m\u001b[0m\n\u001b[1;32m      2\u001b[0m \u001b[0;32mfor\u001b[0m \u001b[0mr\u001b[0m \u001b[0;32min\u001b[0m \u001b[0mres_rows_to_drop\u001b[0m\u001b[0;34m:\u001b[0m\u001b[0;34m\u001b[0m\u001b[0;34m\u001b[0m\u001b[0m\n\u001b[1;32m      3\u001b[0m     \u001b[0;31m#print(r)\u001b[0m\u001b[0;34m\u001b[0m\u001b[0;34m\u001b[0m\u001b[0;34m\u001b[0m\u001b[0m\n\u001b[0;32m----> 4\u001b[0;31m     \u001b[0;32mfor\u001b[0m \u001b[0mi\u001b[0m \u001b[0;32min\u001b[0m \u001b[0mr\u001b[0m\u001b[0;34m:\u001b[0m\u001b[0;34m\u001b[0m\u001b[0;34m\u001b[0m\u001b[0m\n\u001b[0m\u001b[1;32m      5\u001b[0m         \u001b[0;32mtry\u001b[0m\u001b[0;34m:\u001b[0m\u001b[0;34m\u001b[0m\u001b[0;34m\u001b[0m\u001b[0m\n\u001b[1;32m      6\u001b[0m             \u001b[0mtemp_rtod\u001b[0m\u001b[0;34m.\u001b[0m\u001b[0mappend\u001b[0m\u001b[0;34m(\u001b[0m\u001b[0mi\u001b[0m\u001b[0;34m)\u001b[0m\u001b[0;34m\u001b[0m\u001b[0;34m\u001b[0m\u001b[0m\n",
      "\u001b[0;31mTypeError\u001b[0m: 'numpy.int64' object is not iterable"
     ]
    }
   ],
   "source": [
    "temp_rtod = []\n",
    "for r in res_rows_to_drop:\n",
    "    #print(r)\n",
    "    for i in r: \n",
    "        try:\n",
    "            temp_rtod.append(i)\n",
    "        except:\n",
    "            pass\n",
    "temp_rtod;"
   ]
  },
  {
   "cell_type": "code",
   "execution_count": 48,
   "metadata": {},
   "outputs": [
    {
     "data": {
      "text/plain": [
       "array([   3,    8,   20,   24,   40,   59,  101,  108,  113,  125,  129,\n",
       "        145,  164,  206,  213,  218,  230,  234,  250,  269,  311,  318,\n",
       "        323,  335,  339,  355,  374,  416,  423,  428,  440,  444,  460,\n",
       "        479,  521,  528,  533,  545,  549,  565,  584,  626,  633,  638,\n",
       "        650,  654,  670,  689,  731,  738,  743,  755,  759,  775,  794,\n",
       "        836,  843,  848,  860,  864,  880,  899,  941,  948,  953,  965,\n",
       "        969,  985, 1004, 1046, 1053, 1058, 1070, 1074, 1090, 1109, 1151,\n",
       "       1158, 1163, 1175, 1179, 1195, 1214, 1256, 1263, 1268, 1280, 1284,\n",
       "       1300, 1319, 1361, 1368, 1373, 1385, 1389, 1405, 1424, 1466, 1473,\n",
       "       1478, 1490, 1494, 1510, 1529, 1571, 1578, 1583, 1595, 1599, 1615,\n",
       "       1634, 1676, 1683, 1688, 1700, 1704, 1720, 1739, 1781, 1788, 1793,\n",
       "       1805, 1809, 1825, 1844, 1886, 1893, 1898, 1910, 1914, 1930, 1949,\n",
       "       1991, 1998, 2003, 2015, 2019, 2035, 2054, 2096])"
      ]
     },
     "execution_count": 48,
     "metadata": {},
     "output_type": "execute_result"
    }
   ],
   "source": [
    "res_rows_to_drop = np.asarray(temp_rtod)\n",
    "res_rows_to_drop"
   ]
  },
  {
   "cell_type": "code",
   "execution_count": 49,
   "metadata": {},
   "outputs": [],
   "source": [
    "c_res = res.drop(res_rows_to_drop, axis=0,)"
   ]
  },
  {
   "cell_type": "code",
   "execution_count": 62,
   "metadata": {},
   "outputs": [
    {
     "data": {
      "text/html": [
       "<div>\n",
       "<style scoped>\n",
       "    .dataframe tbody tr th:only-of-type {\n",
       "        vertical-align: middle;\n",
       "    }\n",
       "\n",
       "    .dataframe tbody tr th {\n",
       "        vertical-align: top;\n",
       "    }\n",
       "\n",
       "    .dataframe thead th {\n",
       "        text-align: right;\n",
       "    }\n",
       "</style>\n",
       "<table border=\"1\" class=\"dataframe\">\n",
       "  <thead>\n",
       "    <tr style=\"text-align: right;\">\n",
       "      <th></th>\n",
       "      <th>user_ind</th>\n",
       "      <th>q_ind</th>\n",
       "      <th>word</th>\n",
       "      <th>ground_word</th>\n",
       "      <th>prob</th>\n",
       "      <th>score</th>\n",
       "    </tr>\n",
       "  </thead>\n",
       "  <tbody>\n",
       "    <tr>\n",
       "      <th>31</th>\n",
       "      <td>0</td>\n",
       "      <td>4</td>\n",
       "      <td>creek</td>\n",
       "      <td>1</td>\n",
       "      <td>0.000046</td>\n",
       "      <td>4</td>\n",
       "    </tr>\n",
       "    <tr>\n",
       "      <th>43</th>\n",
       "      <td>0</td>\n",
       "      <td>6</td>\n",
       "      <td>adept</td>\n",
       "      <td>1</td>\n",
       "      <td>0.000358</td>\n",
       "      <td>4</td>\n",
       "    </tr>\n",
       "    <tr>\n",
       "      <th>53</th>\n",
       "      <td>0</td>\n",
       "      <td>7</td>\n",
       "      <td>shock</td>\n",
       "      <td>1</td>\n",
       "      <td>0.016271</td>\n",
       "      <td>10</td>\n",
       "    </tr>\n",
       "    <tr>\n",
       "      <th>64</th>\n",
       "      <td>0</td>\n",
       "      <td>9</td>\n",
       "      <td>novel</td>\n",
       "      <td>1</td>\n",
       "      <td>0.000234</td>\n",
       "      <td>4</td>\n",
       "    </tr>\n",
       "    <tr>\n",
       "      <th>76</th>\n",
       "      <td>0</td>\n",
       "      <td>10</td>\n",
       "      <td>secretaries</td>\n",
       "      <td>1</td>\n",
       "      <td>0.000174</td>\n",
       "      <td>10</td>\n",
       "    </tr>\n",
       "  </tbody>\n",
       "</table>\n",
       "</div>"
      ],
      "text/plain": [
       "    user_ind  q_ind         word  ground_word      prob  score\n",
       "31         0      4        creek            1  0.000046      4\n",
       "43         0      6        adept            1  0.000358      4\n",
       "53         0      7        shock            1  0.016271     10\n",
       "64         0      9        novel            1  0.000234      4\n",
       "76         0     10  secretaries            1  0.000174     10"
      ]
     },
     "execution_count": 62,
     "metadata": {},
     "output_type": "execute_result"
    }
   ],
   "source": [
    "c_res[c_res['ground_word'].astype(bool)].head() # checking that there are some \n",
    "# ground words that remain"
   ]
  },
  {
   "cell_type": "markdown",
   "metadata": {},
   "source": [
    "## Prob assigned by model to ground words"
   ]
  },
  {
   "cell_type": "code",
   "execution_count": 69,
   "metadata": {},
   "outputs": [
    {
     "data": {
      "text/html": [
       "<div>\n",
       "<style scoped>\n",
       "    .dataframe tbody tr th:only-of-type {\n",
       "        vertical-align: middle;\n",
       "    }\n",
       "\n",
       "    .dataframe tbody tr th {\n",
       "        vertical-align: top;\n",
       "    }\n",
       "\n",
       "    .dataframe thead th {\n",
       "        text-align: right;\n",
       "    }\n",
       "</style>\n",
       "<table border=\"1\" class=\"dataframe\">\n",
       "  <thead>\n",
       "    <tr style=\"text-align: right;\">\n",
       "      <th></th>\n",
       "      <th>user_ind</th>\n",
       "      <th>q_ind</th>\n",
       "      <th>word</th>\n",
       "      <th>ground_word</th>\n",
       "      <th>prob</th>\n",
       "      <th>score</th>\n",
       "    </tr>\n",
       "  </thead>\n",
       "  <tbody>\n",
       "    <tr>\n",
       "      <th>3</th>\n",
       "      <td>0</td>\n",
       "      <td>0</td>\n",
       "      <td>events</td>\n",
       "      <td>1</td>\n",
       "      <td>0.978269</td>\n",
       "      <td>10</td>\n",
       "    </tr>\n",
       "    <tr>\n",
       "      <th>8</th>\n",
       "      <td>0</td>\n",
       "      <td>1</td>\n",
       "      <td>would</td>\n",
       "      <td>1</td>\n",
       "      <td>0.042942</td>\n",
       "      <td>6</td>\n",
       "    </tr>\n",
       "    <tr>\n",
       "      <th>20</th>\n",
       "      <td>0</td>\n",
       "      <td>2</td>\n",
       "      <td>edge</td>\n",
       "      <td>1</td>\n",
       "      <td>0.279860</td>\n",
       "      <td>10</td>\n",
       "    </tr>\n",
       "    <tr>\n",
       "      <th>24</th>\n",
       "      <td>0</td>\n",
       "      <td>3</td>\n",
       "      <td>a</td>\n",
       "      <td>1</td>\n",
       "      <td>0.416199</td>\n",
       "      <td>10</td>\n",
       "    </tr>\n",
       "    <tr>\n",
       "      <th>31</th>\n",
       "      <td>0</td>\n",
       "      <td>4</td>\n",
       "      <td>creek</td>\n",
       "      <td>1</td>\n",
       "      <td>0.000046</td>\n",
       "      <td>4</td>\n",
       "    </tr>\n",
       "    <tr>\n",
       "      <th>40</th>\n",
       "      <td>0</td>\n",
       "      <td>5</td>\n",
       "      <td>is</td>\n",
       "      <td>1</td>\n",
       "      <td>0.077139</td>\n",
       "      <td>4</td>\n",
       "    </tr>\n",
       "    <tr>\n",
       "      <th>43</th>\n",
       "      <td>0</td>\n",
       "      <td>6</td>\n",
       "      <td>adept</td>\n",
       "      <td>1</td>\n",
       "      <td>0.000358</td>\n",
       "      <td>4</td>\n",
       "    </tr>\n",
       "    <tr>\n",
       "      <th>53</th>\n",
       "      <td>0</td>\n",
       "      <td>7</td>\n",
       "      <td>shock</td>\n",
       "      <td>1</td>\n",
       "      <td>0.016271</td>\n",
       "      <td>10</td>\n",
       "    </tr>\n",
       "    <tr>\n",
       "      <th>59</th>\n",
       "      <td>0</td>\n",
       "      <td>8</td>\n",
       "      <td>the</td>\n",
       "      <td>1</td>\n",
       "      <td>0.360194</td>\n",
       "      <td>10</td>\n",
       "    </tr>\n",
       "    <tr>\n",
       "      <th>64</th>\n",
       "      <td>0</td>\n",
       "      <td>9</td>\n",
       "      <td>novel</td>\n",
       "      <td>1</td>\n",
       "      <td>0.000234</td>\n",
       "      <td>4</td>\n",
       "    </tr>\n",
       "    <tr>\n",
       "      <th>76</th>\n",
       "      <td>0</td>\n",
       "      <td>10</td>\n",
       "      <td>secretaries</td>\n",
       "      <td>1</td>\n",
       "      <td>0.000174</td>\n",
       "      <td>10</td>\n",
       "    </tr>\n",
       "    <tr>\n",
       "      <th>78</th>\n",
       "      <td>0</td>\n",
       "      <td>11</td>\n",
       "      <td>technology</td>\n",
       "      <td>1</td>\n",
       "      <td>0.013237</td>\n",
       "      <td>8</td>\n",
       "    </tr>\n",
       "    <tr>\n",
       "      <th>86</th>\n",
       "      <td>0</td>\n",
       "      <td>12</td>\n",
       "      <td>Jews</td>\n",
       "      <td>1</td>\n",
       "      <td>0.000034</td>\n",
       "      <td>2</td>\n",
       "    </tr>\n",
       "    <tr>\n",
       "      <th>91</th>\n",
       "      <td>0</td>\n",
       "      <td>13</td>\n",
       "      <td>trade</td>\n",
       "      <td>1</td>\n",
       "      <td>0.000486</td>\n",
       "      <td>8</td>\n",
       "    </tr>\n",
       "    <tr>\n",
       "      <th>101</th>\n",
       "      <td>0</td>\n",
       "      <td>14</td>\n",
       "      <td>his</td>\n",
       "      <td>1</td>\n",
       "      <td>0.534960</td>\n",
       "      <td>2</td>\n",
       "    </tr>\n",
       "  </tbody>\n",
       "</table>\n",
       "</div>"
      ],
      "text/plain": [
       "     user_ind  q_ind         word  ground_word      prob  score\n",
       "3           0      0       events            1  0.978269     10\n",
       "8           0      1        would            1  0.042942      6\n",
       "20          0      2         edge            1  0.279860     10\n",
       "24          0      3            a            1  0.416199     10\n",
       "31          0      4        creek            1  0.000046      4\n",
       "40          0      5           is            1  0.077139      4\n",
       "43          0      6        adept            1  0.000358      4\n",
       "53          0      7        shock            1  0.016271     10\n",
       "59          0      8          the            1  0.360194     10\n",
       "64          0      9        novel            1  0.000234      4\n",
       "76          0     10  secretaries            1  0.000174     10\n",
       "78          0     11   technology            1  0.013237      8\n",
       "86          0     12         Jews            1  0.000034      2\n",
       "91          0     13        trade            1  0.000486      8\n",
       "101         0     14          his            1  0.534960      2"
      ]
     },
     "execution_count": 69,
     "metadata": {},
     "output_type": "execute_result"
    }
   ],
   "source": [
    "res[res['ground_word'].astype(bool)].drop_duplicates('word')"
   ]
  },
  {
   "cell_type": "code",
   "execution_count": 70,
   "metadata": {},
   "outputs": [
    {
     "data": {
      "text/plain": [
       "<matplotlib.axes._subplots.AxesSubplot at 0x1a28c16ac8>"
      ]
     },
     "execution_count": 70,
     "metadata": {},
     "output_type": "execute_result"
    },
    {
     "data": {
      "image/png": "[encoded data removed]",
      "text/plain": [
       "<Figure size 432x288 with 1 Axes>"
      ]
     },
     "metadata": {},
     "output_type": "display_data"
    }
   ],
   "source": [
    "# What is the TF prob assigned to the ground words. \n",
    "\n",
    "res[res['ground_word'].astype(bool)].drop_duplicates('word')['prob'].plot() "
   ]
  },
  {
   "cell_type": "code",
   "execution_count": 73,
   "metadata": {},
   "outputs": [
    {
     "data": {
      "text/plain": [
       "Text(0.5, 0, 'score')"
      ]
     },
     "execution_count": 73,
     "metadata": {},
     "output_type": "execute_result"
    },
    {
     "data": {
      "image/png": "[encoded data removed]",
      "text/plain": [
       "<Figure size 432x288 with 1 Axes>"
      ]
     },
     "metadata": {},
     "output_type": "display_data"
    }
   ],
   "source": [
    "unique_ground = res[res['ground_word'].astype(bool)].drop_duplicates('word')\n",
    "plt.scatter( unique_ground['score'] ,unique_ground['prob'])\n",
    "plt.ylabel('prob')\n",
    "plt.xlabel('score')"
   ]
  },
  {
   "cell_type": "markdown",
   "metadata": {},
   "source": [
    "### Optional - Getting rid of all the ground words"
   ]
  },
  {
   "cell_type": "code",
   "execution_count": 76,
   "metadata": {},
   "outputs": [],
   "source": [
    "c_res=c_res[np.invert(c_res['ground_word'].astype(bool))]"
   ]
  },
  {
   "cell_type": "markdown",
   "metadata": {},
   "source": [
    "### Setting the good users"
   ]
  },
  {
   "cell_type": "code",
   "execution_count": 77,
   "metadata": {},
   "outputs": [
    {
     "data": {
      "text/plain": [
       "[2, 5, 6, 10, 11, 12, 13, 19]"
      ]
     },
     "execution_count": 77,
     "metadata": {},
     "output_type": "execute_result"
    }
   ],
   "source": [
    "good_users = list(set(res['user_ind'].unique().tolist())-set(bad_users))\n",
    "good_users"
   ]
  },
  {
   "cell_type": "code",
   "execution_count": 78,
   "metadata": {},
   "outputs": [
    {
     "data": {
      "text/plain": [
       "8"
      ]
     },
     "execution_count": 78,
     "metadata": {},
     "output_type": "execute_result"
    }
   ],
   "source": [
    "len(good_users)"
   ]
  },
  {
   "cell_type": "markdown",
   "metadata": {},
   "source": [
    "# Plots without the bad users"
   ]
  },
  {
   "cell_type": "code",
   "execution_count": 79,
   "metadata": {},
   "outputs": [],
   "source": [
    "guser_mask = c_res['user_ind'].apply(lambda x: x in good_users)\n",
    "guser = c_res[guser_mask]"
   ]
  },
  {
   "cell_type": "code",
   "execution_count": 80,
   "metadata": {},
   "outputs": [
    {
     "data": {
      "text/plain": [
       "(720, 6)"
      ]
     },
     "execution_count": 80,
     "metadata": {},
     "output_type": "execute_result"
    }
   ],
   "source": [
    "guser.shape"
   ]
  },
  {
   "cell_type": "code",
   "execution_count": 81,
   "metadata": {},
   "outputs": [
    {
     "data": {
      "text/plain": [
       "(0, 10.5)"
      ]
     },
     "execution_count": 81,
     "metadata": {},
     "output_type": "execute_result"
    },
    {
     "data": {
      "image/png": "[encoded data removed]",
      "text/plain": [
       "<Figure size 432x288 with 1 Axes>"
      ]
     },
     "metadata": {},
     "output_type": "display_data"
    }
   ],
   "source": [
    "# put a linear regression through this. \n",
    "\n",
    "\n",
    "\n",
    "import seaborn as sns; sns.set(color_codes=True)\n",
    "ax = sns.regplot(x=guser['prob'], y=guser['score'], color=\"g\")\n",
    "plt.ylim([0,10.5])"
   ]
  },
  {
   "cell_type": "code",
   "execution_count": 82,
   "metadata": {},
   "outputs": [
    {
     "data": {
      "text/plain": [
       "score\n",
       "2     110\n",
       "4      57\n",
       "6      94\n",
       "8     162\n",
       "10    297\n",
       "dtype: int64"
      ]
     },
     "execution_count": 82,
     "metadata": {},
     "output_type": "execute_result"
    }
   ],
   "source": [
    "guser.groupby('score').apply(lambda x: len(x))"
   ]
  },
  {
   "cell_type": "code",
   "execution_count": 83,
   "metadata": {},
   "outputs": [
    {
     "data": {
      "text/plain": [
       "score\n",
       "2     0.006963\n",
       "4     0.024892\n",
       "6     0.015021\n",
       "8     0.016416\n",
       "10    0.020921\n",
       "dtype: float64"
      ]
     },
     "execution_count": 83,
     "metadata": {},
     "output_type": "execute_result"
    }
   ],
   "source": [
    "means = guser.groupby('score').mean()['prob']\n",
    "errors = (1.96*(guser.groupby('score').std()['prob']/np.sqrt(guser.groupby('score').apply(lambda x:len(x)) )))\n",
    "\n",
    "errors"
   ]
  },
  {
   "cell_type": "code",
   "execution_count": 84,
   "metadata": {},
   "outputs": [
    {
     "data": {
      "image/png": "[encoded data removed]",
      "text/plain": [
       "<Figure size 960x640 with 1 Axes>"
      ]
     },
     "metadata": {},
     "output_type": "display_data"
    },
    {
     "data": {
      "text/plain": [
       "Text(0, 0.5, 'Score')"
      ]
     },
     "execution_count": 84,
     "metadata": {},
     "output_type": "execute_result"
    },
    {
     "data": {
      "image/png": "[encoded data removed]",
      "text/plain": [
       "<Figure size 432x288 with 1 Axes>"
      ]
     },
     "metadata": {},
     "output_type": "display_data"
    }
   ],
   "source": [
    "x_pos = means #np.arange(len(means))\n",
    "plt.figure(num=None, figsize=(12, 8), dpi=80, facecolor='w', edgecolor='k')\n",
    "plt.errorbar(x_pos, means.index, xerr=errors, ecolor='red', fmt='o', capsize=3, color = 'blue')\n",
    "plt.show()\n",
    "plt.scatter(means, means.index)\n",
    "plt.xlabel('Prob')\n",
    "plt.ylabel('Score')"
   ]
  },
  {
   "cell_type": "code",
   "execution_count": 85,
   "metadata": {},
   "outputs": [
    {
     "data": {
      "image/png": "[encoded data removed]",
      "text/plain": [
       "<Figure size 960x640 with 1 Axes>"
      ]
     },
     "metadata": {},
     "output_type": "display_data"
    }
   ],
   "source": [
    "x_pos = means #np.arange(len(means))\n",
    "plt.figure(num=None, figsize=(12, 8), dpi=80, facecolor='w', edgecolor='k')\n",
    "plt.errorbar(x_pos, means.index, xerr=errors, ecolor='red', fmt='o', capsize=3, color = 'blue')\n",
    "plt.xlabel('Prob')\n",
    "plt.ylabel('Score')\n",
    "plt.show()\n",
    "#plt.scatter(means, means.index)\n"
   ]
  },
  {
   "cell_type": "code",
   "execution_count": null,
   "metadata": {},
   "outputs": [],
   "source": []
  },
  {
   "cell_type": "code",
   "execution_count": null,
   "metadata": {},
   "outputs": [],
   "source": []
  },
  {
   "cell_type": "code",
   "execution_count": 87,
   "metadata": {},
   "outputs": [
    {
     "data": {
      "text/html": [
       "<div>\n",
       "<style scoped>\n",
       "    .dataframe tbody tr th:only-of-type {\n",
       "        vertical-align: middle;\n",
       "    }\n",
       "\n",
       "    .dataframe tbody tr th {\n",
       "        vertical-align: top;\n",
       "    }\n",
       "\n",
       "    .dataframe thead th {\n",
       "        text-align: right;\n",
       "    }\n",
       "</style>\n",
       "<table border=\"1\" class=\"dataframe\">\n",
       "  <thead>\n",
       "    <tr style=\"text-align: right;\">\n",
       "      <th></th>\n",
       "      <th>StartDate</th>\n",
       "      <th>EndDate</th>\n",
       "      <th>Status</th>\n",
       "      <th>IPAddress</th>\n",
       "      <th>Progress</th>\n",
       "      <th>Duration (in seconds)</th>\n",
       "      <th>Finished</th>\n",
       "      <th>RecordedDate</th>\n",
       "      <th>ResponseId</th>\n",
       "      <th>RecipientLastName</th>\n",
       "      <th>...</th>\n",
       "      <th>Q18_7</th>\n",
       "      <th>Q19_1</th>\n",
       "      <th>Q19_2</th>\n",
       "      <th>Q19_3</th>\n",
       "      <th>Q19_4</th>\n",
       "      <th>Q19_5</th>\n",
       "      <th>Q19_6</th>\n",
       "      <th>Q19_7</th>\n",
       "      <th>Q20</th>\n",
       "      <th>Random ID</th>\n",
       "    </tr>\n",
       "  </thead>\n",
       "  <tbody>\n",
       "    <tr>\n",
       "      <th>0</th>\n",
       "      <td>Start Date</td>\n",
       "      <td>End Date</td>\n",
       "      <td>Response Type</td>\n",
       "      <td>IP Address</td>\n",
       "      <td>Progress</td>\n",
       "      <td>Duration (in seconds)</td>\n",
       "      <td>Finished</td>\n",
       "      <td>Recorded Date</td>\n",
       "      <td>Response ID</td>\n",
       "      <td>Recipient Last Name</td>\n",
       "      <td>...</td>\n",
       "      <td>“Ah yes, the obvious question. It would seem t...</td>\n",
       "      <td>The fact of the matter is that _______ - the</td>\n",
       "      <td>The fact of the matter is that _______ - there</td>\n",
       "      <td>The fact of the matter is that _______ - EVA</td>\n",
       "      <td>The fact of the matter is that _______ - people</td>\n",
       "      <td>The fact of the matter is that _______ - it</td>\n",
       "      <td>The fact of the matter is that _______ - this</td>\n",
       "      <td>The fact of the matter is that _______ - in</td>\n",
       "      <td>Thank you very much for completing this survey...</td>\n",
       "      <td>Random ID</td>\n",
       "    </tr>\n",
       "    <tr>\n",
       "      <th>1</th>\n",
       "      <td>{\"ImportId\":\"startDate\",\"timeZone\":\"America/De...</td>\n",
       "      <td>{\"ImportId\":\"endDate\",\"timeZone\":\"America/Denv...</td>\n",
       "      <td>{\"ImportId\":\"status\"}</td>\n",
       "      <td>{\"ImportId\":\"ipAddress\"}</td>\n",
       "      <td>{\"ImportId\":\"progress\"}</td>\n",
       "      <td>{\"ImportId\":\"duration\"}</td>\n",
       "      <td>{\"ImportId\":\"finished\"}</td>\n",
       "      <td>{\"ImportId\":\"recordedDate\",\"timeZone\":\"America...</td>\n",
       "      <td>{\"ImportId\":\"_recordId\"}</td>\n",
       "      <td>{\"ImportId\":\"recipientLastName\"}</td>\n",
       "      <td>...</td>\n",
       "      <td>{\"ImportId\":\"QID20_7\"}</td>\n",
       "      <td>{\"ImportId\":\"QID21_1\"}</td>\n",
       "      <td>{\"ImportId\":\"QID21_2\"}</td>\n",
       "      <td>{\"ImportId\":\"QID21_3\"}</td>\n",
       "      <td>{\"ImportId\":\"QID21_4\"}</td>\n",
       "      <td>{\"ImportId\":\"QID21_5\"}</td>\n",
       "      <td>{\"ImportId\":\"QID21_6\"}</td>\n",
       "      <td>{\"ImportId\":\"QID21_7\"}</td>\n",
       "      <td>{\"ImportId\":\"QID26_TEXT\"}</td>\n",
       "      <td>{\"ImportId\":\"Random ID\"}</td>\n",
       "    </tr>\n",
       "    <tr>\n",
       "      <th>2</th>\n",
       "      <td>2019-10-17 12:30:23</td>\n",
       "      <td>2019-10-17 12:43:04</td>\n",
       "      <td>0</td>\n",
       "      <td>152.3.43.42</td>\n",
       "      <td>100</td>\n",
       "      <td>761</td>\n",
       "      <td>1</td>\n",
       "      <td>2019-10-17 12:43:05</td>\n",
       "      <td>R_x44zIuJGYqCTeUN</td>\n",
       "      <td>NaN</td>\n",
       "      <td>...</td>\n",
       "      <td>2</td>\n",
       "      <td>1</td>\n",
       "      <td>1</td>\n",
       "      <td>4</td>\n",
       "      <td>3</td>\n",
       "      <td>1</td>\n",
       "      <td>2</td>\n",
       "      <td>1</td>\n",
       "      <td>lots of upper case words - From Trenton</td>\n",
       "      <td>89534</td>\n",
       "    </tr>\n",
       "  </tbody>\n",
       "</table>\n",
       "<p>3 rows × 124 columns</p>\n",
       "</div>"
      ],
      "text/plain": [
       "                                           StartDate  \\\n",
       "0                                         Start Date   \n",
       "1  {\"ImportId\":\"startDate\",\"timeZone\":\"America/De...   \n",
       "2                                2019-10-17 12:30:23   \n",
       "\n",
       "                                             EndDate                 Status  \\\n",
       "0                                           End Date          Response Type   \n",
       "1  {\"ImportId\":\"endDate\",\"timeZone\":\"America/Denv...  {\"ImportId\":\"status\"}   \n",
       "2                                2019-10-17 12:43:04                      0   \n",
       "\n",
       "                  IPAddress                 Progress    Duration (in seconds)  \\\n",
       "0                IP Address                 Progress    Duration (in seconds)   \n",
       "1  {\"ImportId\":\"ipAddress\"}  {\"ImportId\":\"progress\"}  {\"ImportId\":\"duration\"}   \n",
       "2               152.3.43.42                      100                      761   \n",
       "\n",
       "                  Finished                                       RecordedDate  \\\n",
       "0                 Finished                                      Recorded Date   \n",
       "1  {\"ImportId\":\"finished\"}  {\"ImportId\":\"recordedDate\",\"timeZone\":\"America...   \n",
       "2                        1                                2019-10-17 12:43:05   \n",
       "\n",
       "                 ResponseId                 RecipientLastName  ...  \\\n",
       "0               Response ID               Recipient Last Name  ...   \n",
       "1  {\"ImportId\":\"_recordId\"}  {\"ImportId\":\"recipientLastName\"}  ...   \n",
       "2         R_x44zIuJGYqCTeUN                               NaN  ...   \n",
       "\n",
       "                                               Q18_7  \\\n",
       "0  “Ah yes, the obvious question. It would seem t...   \n",
       "1                             {\"ImportId\":\"QID20_7\"}   \n",
       "2                                                  2   \n",
       "\n",
       "                                          Q19_1  \\\n",
       "0  The fact of the matter is that _______ - the   \n",
       "1                        {\"ImportId\":\"QID21_1\"}   \n",
       "2                                             1   \n",
       "\n",
       "                                            Q19_2  \\\n",
       "0  The fact of the matter is that _______ - there   \n",
       "1                          {\"ImportId\":\"QID21_2\"}   \n",
       "2                                               1   \n",
       "\n",
       "                                          Q19_3  \\\n",
       "0  The fact of the matter is that _______ - EVA   \n",
       "1                        {\"ImportId\":\"QID21_3\"}   \n",
       "2                                             4   \n",
       "\n",
       "                                             Q19_4  \\\n",
       "0  The fact of the matter is that _______ - people   \n",
       "1                           {\"ImportId\":\"QID21_4\"}   \n",
       "2                                                3   \n",
       "\n",
       "                                         Q19_5  \\\n",
       "0  The fact of the matter is that _______ - it   \n",
       "1                       {\"ImportId\":\"QID21_5\"}   \n",
       "2                                            1   \n",
       "\n",
       "                                           Q19_6  \\\n",
       "0  The fact of the matter is that _______ - this   \n",
       "1                         {\"ImportId\":\"QID21_6\"}   \n",
       "2                                              2   \n",
       "\n",
       "                                         Q19_7  \\\n",
       "0  The fact of the matter is that _______ - in   \n",
       "1                       {\"ImportId\":\"QID21_7\"}   \n",
       "2                                            1   \n",
       "\n",
       "                                                 Q20                 Random ID  \n",
       "0  Thank you very much for completing this survey...                 Random ID  \n",
       "1                          {\"ImportId\":\"QID26_TEXT\"}  {\"ImportId\":\"Random ID\"}  \n",
       "2           lots of upper case words - From Trenton                      89534  \n",
       "\n",
       "[3 rows x 124 columns]"
      ]
     },
     "execution_count": 87,
     "metadata": {},
     "output_type": "execute_result"
    }
   ],
   "source": [
    "pd.read_csv('Tail+Free+Sampling+Survey+2_October+17%2C+2019_12.43.zip')"
   ]
  },
  {
   "cell_type": "code",
   "execution_count": null,
   "metadata": {},
   "outputs": [],
   "source": []
  },
  {
   "cell_type": "code",
   "execution_count": null,
   "metadata": {},
   "outputs": [],
   "source": []
  },
  {
   "cell_type": "markdown",
   "metadata": {},
   "source": [
    "# Fixing answer orders for the first batch. \n",
    "Need to update the probabities for the ground words. \n"
   ]
  },
  {
   "cell_type": "code",
   "execution_count": 48,
   "metadata": {},
   "outputs": [],
   "source": [
    "g_truth = pickle.load(open('MTURK_FIRST_GROUNDWORDS_prob_slice_replaceable_comparisons_answers_list.pickle','rb'))\n",
    "all_gwords = []\n",
    "for q in g_truth: \n",
    "    for e in q:\n",
    "        if e[2]==1:\n",
    "            all_gwords.append(e[0])"
   ]
  },
  {
   "cell_type": "code",
   "execution_count": 52,
   "metadata": {},
   "outputs": [],
   "source": [
    "df = pd.read_csv('MTURK_FIRST_backup_of_different_prob_slices.csv')"
   ]
  },
  {
   "cell_type": "code",
   "execution_count": 54,
   "metadata": {},
   "outputs": [
    {
     "data": {
      "text/html": [
       "<div>\n",
       "<style scoped>\n",
       "    .dataframe tbody tr th:only-of-type {\n",
       "        vertical-align: middle;\n",
       "    }\n",
       "\n",
       "    .dataframe tbody tr th {\n",
       "        vertical-align: top;\n",
       "    }\n",
       "\n",
       "    .dataframe thead th {\n",
       "        text-align: right;\n",
       "    }\n",
       "</style>\n",
       "<table border=\"1\" class=\"dataframe\">\n",
       "  <thead>\n",
       "    <tr style=\"text-align: right;\">\n",
       "      <th></th>\n",
       "      <th>Unnamed: 0</th>\n",
       "      <th>prompt_ind</th>\n",
       "      <th>time_point</th>\n",
       "      <th>batch_ind</th>\n",
       "      <th>ind_in_batch</th>\n",
       "      <th>leading_words</th>\n",
       "      <th>ground_word</th>\n",
       "      <th>ground_word_prob</th>\n",
       "      <th>words</th>\n",
       "      <th>abs_inds</th>\n",
       "      <th>probs</th>\n",
       "    </tr>\n",
       "  </thead>\n",
       "  <tbody>\n",
       "    <tr>\n",
       "      <th>0</th>\n",
       "      <td>0</td>\n",
       "      <td>19</td>\n",
       "      <td>28</td>\n",
       "      <td>0</td>\n",
       "      <td>19</td>\n",
       "      <td>change something, might be the one trigger th...</td>\n",
       "      <td>events</td>\n",
       "      <td>4.103564e-07</td>\n",
       "      <td>['events' 'event' 'things' 'circumstances' 'ba...</td>\n",
       "      <td>[0, 1, 2, 3, 4, 50158]</td>\n",
       "      <td>[0.9782679, 0.0021306623, 0.00077810284, 0.000...</td>\n",
       "    </tr>\n",
       "    <tr>\n",
       "      <th>1</th>\n",
       "      <td>1</td>\n",
       "      <td>72</td>\n",
       "      <td>100</td>\n",
       "      <td>3</td>\n",
       "      <td>2</td>\n",
       "      <td>the world ’ s leading pharmaceutical companie...</td>\n",
       "      <td>would</td>\n",
       "      <td>5.513494e-05</td>\n",
       "      <td>['were' 'had' 'would' 'could' 'are' 'iterator']</td>\n",
       "      <td>[0, 3, 5, 6, 7, 50140]</td>\n",
       "      <td>[0.123787306, 0.09488712, 0.04294153, 0.035621...</td>\n",
       "    </tr>\n",
       "    <tr>\n",
       "      <th>2</th>\n",
       "      <td>2</td>\n",
       "      <td>31</td>\n",
       "      <td>29</td>\n",
       "      <td>1</td>\n",
       "      <td>8</td>\n",
       "      <td>off guard. While your body lay half on the co...</td>\n",
       "      <td>edge</td>\n",
       "      <td>1.622044e-06</td>\n",
       "      <td>['edge' 'counter' 'sink' 'side' 'table' 'Plot']</td>\n",
       "      <td>[0, 1, 2, 3, 4, 50130]</td>\n",
       "      <td>[0.27985963, 0.1617055, 0.08516163, 0.06683456...</td>\n",
       "    </tr>\n",
       "    <tr>\n",
       "      <th>3</th>\n",
       "      <td>3</td>\n",
       "      <td>56</td>\n",
       "      <td>73</td>\n",
       "      <td>2</td>\n",
       "      <td>10</td>\n",
       "      <td>I'm getting rrREAdy''. My murmur had ended with</td>\n",
       "      <td>a</td>\n",
       "      <td>5.716932e-05</td>\n",
       "      <td>['a' 'the' 'my' 'an' 'me' 'conservancy']</td>\n",
       "      <td>[0, 1, 2, 3, 4, 50140]</td>\n",
       "      <td>[0.41619945, 0.17138307, 0.11777301, 0.0551321...</td>\n",
       "    </tr>\n",
       "    <tr>\n",
       "      <th>4</th>\n",
       "      <td>4</td>\n",
       "      <td>24</td>\n",
       "      <td>60</td>\n",
       "      <td>1</td>\n",
       "      <td>1</td>\n",
       "      <td>crunched underneath and the ground bubbled wi...</td>\n",
       "      <td>creek</td>\n",
       "      <td>2.153896e-08</td>\n",
       "      <td>['and' 'of' 'oak' 'sand' 'sky' 'Eat']</td>\n",
       "      <td>[4, 5, 6, 7, 8, 50156]</td>\n",
       "      <td>[0.023683885, 0.013982991, 0.011684752, 0.0113...</td>\n",
       "    </tr>\n",
       "  </tbody>\n",
       "</table>\n",
       "</div>"
      ],
      "text/plain": [
       "   Unnamed: 0  prompt_ind  time_point  batch_ind  ind_in_batch  \\\n",
       "0           0          19          28          0            19   \n",
       "1           1          72         100          3             2   \n",
       "2           2          31          29          1             8   \n",
       "3           3          56          73          2            10   \n",
       "4           4          24          60          1             1   \n",
       "\n",
       "                                       leading_words ground_word  \\\n",
       "0   change something, might be the one trigger th...      events   \n",
       "1   the world ’ s leading pharmaceutical companie...       would   \n",
       "2   off guard. While your body lay half on the co...        edge   \n",
       "3    I'm getting rrREAdy''. My murmur had ended with           a   \n",
       "4   crunched underneath and the ground bubbled wi...       creek   \n",
       "\n",
       "   ground_word_prob                                              words  \\\n",
       "0      4.103564e-07  ['events' 'event' 'things' 'circumstances' 'ba...   \n",
       "1      5.513494e-05    ['were' 'had' 'would' 'could' 'are' 'iterator']   \n",
       "2      1.622044e-06    ['edge' 'counter' 'sink' 'side' 'table' 'Plot']   \n",
       "3      5.716932e-05           ['a' 'the' 'my' 'an' 'me' 'conservancy']   \n",
       "4      2.153896e-08              ['and' 'of' 'oak' 'sand' 'sky' 'Eat']   \n",
       "\n",
       "                 abs_inds                                              probs  \n",
       "0  [0, 1, 2, 3, 4, 50158]  [0.9782679, 0.0021306623, 0.00077810284, 0.000...  \n",
       "1  [0, 3, 5, 6, 7, 50140]  [0.123787306, 0.09488712, 0.04294153, 0.035621...  \n",
       "2  [0, 1, 2, 3, 4, 50130]  [0.27985963, 0.1617055, 0.08516163, 0.06683456...  \n",
       "3  [0, 1, 2, 3, 4, 50140]  [0.41619945, 0.17138307, 0.11777301, 0.0551321...  \n",
       "4  [4, 5, 6, 7, 8, 50156]  [0.023683885, 0.013982991, 0.011684752, 0.0113...  "
      ]
     },
     "execution_count": 54,
     "metadata": {},
     "output_type": "execute_result"
    }
   ],
   "source": [
    "df.head()"
   ]
  },
  {
   "cell_type": "code",
   "execution_count": 49,
   "metadata": {},
   "outputs": [
    {
     "data": {
      "text/plain": [
       "[' events',\n",
       " ' would',\n",
       " ' edge',\n",
       " ' a',\n",
       " ' creek',\n",
       " ' is',\n",
       " ' adept',\n",
       " ' shock',\n",
       " ' the',\n",
       " ' novel',\n",
       " ' secretaries',\n",
       " ' technology',\n",
       " ' Jews',\n",
       " ' trade',\n",
       " ' his',\n",
       " ' his',\n",
       " ' told',\n",
       " ' smile',\n",
       " ' we']"
      ]
     },
     "execution_count": 49,
     "metadata": {},
     "output_type": "execute_result"
    }
   ],
   "source": [
    "all_gwords"
   ]
  },
  {
   "cell_type": "code",
   "execution_count": 55,
   "metadata": {},
   "outputs": [],
   "source": [
    "batch_size=25\n",
    "num_batches=4\n",
    "prompt_length=100\n",
    "generated_length=150\n",
    "tot_len = prompt_length+generated_length\n",
    "\n",
    "import encoder\n",
    "from decodeLogits import *\n",
    "model_name='774M' #345M\n",
    "models_dir='../gpt-2/models'\n",
    "enc = encoder.get_encoder(model_name, models_dir)\n",
    "\n",
    "prompts=pd.read_csv('test_dataframe_500primer.csv')"
   ]
  },
  {
   "cell_type": "code",
   "execution_count": 56,
   "metadata": {},
   "outputs": [],
   "source": [
    "gpt_out_path = 'gpt-2_output/'\n",
    "additional_path = '-model_774M-seed_27'#'' \n",
    "#all_perps = pickle.load( gzip.open(gpt_out_path+'all_perplexities_perplexity_scores_for_the_dataset_Human_StoryPrompts_Completion.csv'+additional_path+'.pickle.gz', 'rb'))\n",
    "all_logits = pickle.load( gzip.open(gpt_out_path+'all_logits_perplexity_scores_for_the_dataset_Human_StoryPrompts_Completion.csv'+additional_path+'.pickle.gz', 'rb')) # needed to get the probabilities\n",
    "text = pickle.load( gzip.open(gpt_out_path+'all_text_perplexity_scores_for_the_dataset_Human_StoryPrompts_Completion.csv'+additional_path+'.pickle.gz', 'rb'))"
   ]
  },
  {
   "cell_type": "code",
   "execution_count": null,
   "metadata": {},
   "outputs": [],
   "source": [
    "'event', 0.0021306623239070177, 0),\n",
    "  ('things', 0.0007781028398312628, 0),\n",
    "  ('bad', 0.0004916115431115031, 0),\n",
    "  (' events', 2.2686589e-08, 1),\n",
    "  ('circumstances', 0.0005090322229079902, 0),\n",
    "  ('events', 0.9782679080963135, 0),\n",
    "  ('Population', 7.025027803399253e-13, 0)],"
   ]
  },
  {
   "cell_type": "code",
   "execution_count": 59,
   "metadata": {},
   "outputs": [
    {
     "data": {
      "text/plain": [
       "[[('event', 0.0021306623239070177),\n",
       "  ('things', 0.0007781028398312628),\n",
       "  ('bad', 0.0004916115431115031),\n",
       "  (' events', 4.1035644926523673e-07),\n",
       "  ('circumstances', 0.0005090322229079902),\n",
       "  ('events', 0.9782679080963135),\n",
       "  ('Population', 7.025027803399253e-13)],\n",
       " [('iterator', 1.5726539862037647e-11),\n",
       "  (' would', 5.5134936701506376e-05),\n",
       "  ('would', 0.04294152930378914),\n",
       "  ('are', 0.01786944642663002),\n",
       "  ('could', 0.03562188893556595),\n",
       "  ('had', 0.09488712251186371),\n",
       "  ('were', 0.1237873062491417)],\n",
       " [('sink', 0.08516162633895874),\n",
       "  ('table', 0.03213869407773018),\n",
       "  ('Plot', 1.6408815278756705e-11),\n",
       "  ('counter', 0.16170549392700195),\n",
       "  ('edge', 0.27985963225364685),\n",
       "  ('side', 0.06683456152677536),\n",
       "  (' edge', 1.6220442375924904e-06)],\n",
       " [('a', 0.4161994457244873),\n",
       "  ('the', 0.1713830679655075),\n",
       "  ('me', 0.044027868658304214),\n",
       "  (' a', 5.716932355426252e-05),\n",
       "  ('conservancy', 2.3627343137544443e-11),\n",
       "  ('an', 0.0551321804523468),\n",
       "  ('my', 0.11777301132678986)],\n",
       " [('and', 0.023683885112404823),\n",
       "  ('sky', 0.010126766748726368),\n",
       "  ('of', 0.013982990756630898),\n",
       "  (' creek', 2.1538962613476542e-08),\n",
       "  ('oak', 0.011684752069413662),\n",
       "  ('Eat', 6.070240837763308e-11),\n",
       "  ('sand', 0.011330608278512955)],\n",
       " [('the', 0.029731499031186104),\n",
       "  ('is', 0.07713856548070908),\n",
       "  ('prototype', 4.2622644996770376e-11),\n",
       "  ('makes', 0.047752413898706436),\n",
       "  ('she', 0.04415161535143852),\n",
       "  (' is', 0.00020496858633123338),\n",
       "  ('he', 0.22781696915626526)],\n",
       " [('7601', 1.5810904668844827e-11),\n",
       "  (' adept', 1.2604008503558362e-08),\n",
       "  ('simple', 0.042511407285928726),\n",
       "  ('a', 0.03173162788152695),\n",
       "  ('deliberate', 0.014849836938083172),\n",
       "  ('young', 0.02360728196799755),\n",
       "  ('simply', 0.008427090011537075)],\n",
       " [('the', 0.051833175122737885),\n",
       "  ('cumbers', 2.3367134616147922e-11),\n",
       "  ('a', 0.12715816497802734),\n",
       "  ('an', 0.03536023572087288),\n",
       "  (' shock', 2.355513743168558e-06),\n",
       "  ('his', 0.25678303837776184),\n",
       "  ('thought', 0.03894629701972008)],\n",
       " [('it', 0.05231691151857376),\n",
       "  ('his', 0.05797092989087105),\n",
       "  ('the', 0.3601943552494049),\n",
       "  (' the', 3.8483194657601416e-05),\n",
       "  ('ODE', 1.615250251260636e-12),\n",
       "  ('your', 0.3757137954235077),\n",
       "  ('one', 0.012323369272053242)],\n",
       " [('medical', 0.010854171589016914),\n",
       "  (' novel', 1.56093665282242e-05),\n",
       "  ('political', 0.014097815379500389),\n",
       "  ('social', 0.01845131814479828),\n",
       "  ('winner', 1.1857578807727975e-10),\n",
       "  ('design', 0.0036812543403357267),\n",
       "  ('research', 0.007366378325968981)],\n",
       " [('in', 0.05454248562455177),\n",
       "  ('organizers', 0.018733913078904152),\n",
       "  ('rush', 7.324437063804812e-12),\n",
       "  ('at', 0.13031087815761566),\n",
       "  ('people', 0.04803589731454849),\n",
       "  ('organized', 0.23333249986171722),\n",
       "  (' secretaries', 2.16605164360395e-10)],\n",
       " [('the', 0.20355582237243652),\n",
       "  (' technology', 3.7967895423207665e-06),\n",
       "  ('their', 0.060859017074108124),\n",
       "  ('Sexual', 1.827514528596197e-11),\n",
       "  ('these', 0.09389566630125046),\n",
       "  ('weaponry', 0.04151910915970802),\n",
       "  ('weapons', 0.13363923132419586)],\n",
       " [('other', 0.05399276316165924),\n",
       "  ('story', 0.11716202646493912),\n",
       "  (' Jews', 2.5805034056247678e-06),\n",
       "  ('same', 0.3653627634048462),\n",
       "  ('whole', 0.019656933844089508),\n",
       "  ('cumbers', 1.6284040088576646e-11),\n",
       "  ('truth', 0.08678539842367172)],\n",
       " [(' trade', 1.0153305993299e-05),\n",
       "  ('partner', 0.036993950605392456),\n",
       "  ('value', 0.019175605848431587),\n",
       "  ('place', 0.052271079272031784),\n",
       "  ('own', 0.06276622414588928),\n",
       "  ('chances', 0.011011623777449131),\n",
       "  ('Reviewed', 1.139088216112194e-11)],\n",
       " [('CAST', 3.5308043381393484e-12),\n",
       "  ('his', 0.5349603295326233),\n",
       "  ('back', 0.045332636684179306),\n",
       "  (' his', 5.129267265147064e-06),\n",
       "  ('out', 0.05381551384925842),\n",
       "  ('the', 0.09639755636453629),\n",
       "  ('himself', 0.1009412407875061)]]"
      ]
     },
     "execution_count": 59,
     "metadata": {},
     "output_type": "execute_result"
    }
   ],
   "source": [
    "answer_orders"
   ]
  },
  {
   "cell_type": "code",
   "execution_count": 62,
   "metadata": {},
   "outputs": [
    {
     "name": "stdout",
     "output_type": "stream",
     "text": [
      "28\n",
      "100\n",
      "29\n",
      "73\n",
      "60\n",
      "64\n",
      "108\n",
      "53\n",
      "28\n",
      "46\n",
      "100\n",
      "114\n",
      "24\n",
      "45\n",
      "2\n"
     ]
    },
    {
     "data": {
      "text/plain": [
       "[[('event', 0.0021306623239070177, 0),\n",
       "  ('things', 0.0007781028398312628, 0),\n",
       "  ('bad', 0.0004916115431115031, 0),\n",
       "  (' events', 0.97826886, 1),\n",
       "  ('circumstances', 0.0005090322229079902, 0),\n",
       "  ('events', 0.9782679080963135, 0),\n",
       "  ('Population', 7.025027803399253e-13, 0)],\n",
       " [('iterator', 1.5726539862037647e-11, 0),\n",
       "  (' would', 0.04294153, 1),\n",
       "  ('would', 0.04294152930378914, 0),\n",
       "  ('are', 0.01786944642663002, 0),\n",
       "  ('could', 0.03562188893556595, 0),\n",
       "  ('had', 0.09488712251186371, 0),\n",
       "  ('were', 0.1237873062491417, 0)],\n",
       " [('sink', 0.08516162633895874, 0),\n",
       "  ('table', 0.03213869407773018, 0),\n",
       "  ('Plot', 1.6408815278756705e-11, 0),\n",
       "  ('counter', 0.16170549392700195, 0),\n",
       "  ('edge', 0.27985963225364685, 0),\n",
       "  ('side', 0.06683456152677536, 0),\n",
       "  (' edge', 0.27985963, 1)],\n",
       " [('a', 0.4161994457244873, 0),\n",
       "  ('the', 0.1713830679655075, 0),\n",
       "  ('me', 0.044027868658304214, 0),\n",
       "  (' a', 0.41619945, 1),\n",
       "  ('conservancy', 2.3627343137544443e-11, 0),\n",
       "  ('an', 0.0551321804523468, 0),\n",
       "  ('my', 0.11777301132678986, 0)],\n",
       " [('and', 0.023683885112404823, 0),\n",
       "  ('sky', 0.010126766748726368, 0),\n",
       "  ('of', 0.013982990756630898, 0),\n",
       "  (' creek', 4.5978304e-05, 1),\n",
       "  ('oak', 0.011684752069413662, 0),\n",
       "  ('Eat', 6.070240837763308e-11, 0),\n",
       "  ('sand', 0.011330608278512955, 0)],\n",
       " [('the', 0.029731499031186104, 0),\n",
       "  ('is', 0.07713856548070908, 0),\n",
       "  ('prototype', 4.2622644996770376e-11, 0),\n",
       "  ('makes', 0.047752413898706436, 0),\n",
       "  ('she', 0.04415161535143852, 0),\n",
       "  (' is', 0.077138565, 1),\n",
       "  ('he', 0.22781696915626526, 0)],\n",
       " [('7601', 1.5810904668844827e-11, 0),\n",
       "  (' adept', 0.00035782252, 1),\n",
       "  ('simple', 0.042511407285928726, 0),\n",
       "  ('a', 0.03173162788152695, 0),\n",
       "  ('deliberate', 0.014849836938083172, 0),\n",
       "  ('young', 0.02360728196799755, 0),\n",
       "  ('simply', 0.008427090011537075, 0)],\n",
       " [('the', 0.051833175122737885, 0),\n",
       "  ('cumbers', 2.3367134616147922e-11, 0),\n",
       "  ('a', 0.12715816497802734, 0),\n",
       "  ('an', 0.03536023572087288, 0),\n",
       "  (' shock', 0.016270742, 1),\n",
       "  ('his', 0.25678303837776184, 0),\n",
       "  ('thought', 0.03894629701972008, 0)],\n",
       " [('it', 0.05231691151857376, 0),\n",
       "  ('his', 0.05797092989087105, 0),\n",
       "  ('the', 0.3601943552494049, 0),\n",
       "  (' the', 0.36019436, 1),\n",
       "  ('ODE', 1.615250251260636e-12, 0),\n",
       "  ('your', 0.3757137954235077, 0),\n",
       "  ('one', 0.012323369272053242, 0)],\n",
       " [('medical', 0.010854171589016914, 0),\n",
       "  (' novel', 0.00023352292, 1),\n",
       "  ('political', 0.014097815379500389, 0),\n",
       "  ('social', 0.01845131814479828, 0),\n",
       "  ('winner', 1.1857578807727975e-10, 0),\n",
       "  ('design', 0.0036812543403357267, 0),\n",
       "  ('research', 0.007366378325968981, 0)],\n",
       " [('in', 0.05454248562455177, 0),\n",
       "  ('organizers', 0.018733913078904152, 0),\n",
       "  ('rush', 7.324437063804812e-12, 0),\n",
       "  ('at', 0.13031087815761566, 0),\n",
       "  ('people', 0.04803589731454849, 0),\n",
       "  ('organized', 0.23333249986171722, 0),\n",
       "  (' secretaries', 0.00017431544, 1)],\n",
       " [('the', 0.20355582237243652, 0),\n",
       "  (' technology', 0.013236664, 1),\n",
       "  ('their', 0.060859017074108124, 0),\n",
       "  ('Sexual', 1.827514528596197e-11, 0),\n",
       "  ('these', 0.09389566630125046, 0),\n",
       "  ('weaponry', 0.04151910915970802, 0),\n",
       "  ('weapons', 0.13363923132419586, 0)],\n",
       " [('other', 0.05399276316165924, 0),\n",
       "  ('story', 0.11716202646493912, 0),\n",
       "  (' Jews', 3.4151984e-05, 1),\n",
       "  ('same', 0.3653627634048462, 0),\n",
       "  ('whole', 0.019656933844089508, 0),\n",
       "  ('cumbers', 1.6284040088576646e-11, 0),\n",
       "  ('truth', 0.08678539842367172, 0)],\n",
       " [(' trade', 0.00048635117, 1),\n",
       "  ('partner', 0.036993950605392456, 0),\n",
       "  ('value', 0.019175605848431587, 0),\n",
       "  ('place', 0.052271079272031784, 0),\n",
       "  ('own', 0.06276622414588928, 0),\n",
       "  ('chances', 0.011011623777449131, 0),\n",
       "  ('Reviewed', 1.139088216112194e-11, 0)],\n",
       " [('CAST', 3.5308043381393484e-12, 0),\n",
       "  ('his', 0.5349603295326233, 0),\n",
       "  ('back', 0.045332636684179306, 0),\n",
       "  (' his', 0.5349603, 1),\n",
       "  ('out', 0.05381551384925842, 0),\n",
       "  ('the', 0.09639755636453629, 0),\n",
       "  ('himself', 0.1009412407875061, 0)]]"
      ]
     },
     "execution_count": 62,
     "metadata": {},
     "output_type": "execute_result"
    }
   ],
   "source": [
    "n_ans_ords = []\n",
    "for ind, ans in enumerate(answer_orders):\n",
    "    temp_ans = []\n",
    "    for tup in ans: \n",
    "        if tup[0] in all_gwords: \n",
    "            \n",
    "            sps_loc = df.loc[ind, ['batch_ind', 'ind_in_batch', 'time_point'] ]\n",
    "            b_ind, ind_in_b,tp = sps_loc['batch_ind'], sps_loc['ind_in_batch'],sps_loc['time_point']\n",
    "            print(tp)\n",
    "            text_tp = tp + prompt_length+1\n",
    "            sps_no_sort = softmax(all_logits[b_ind][ind_in_b, tp, :])\n",
    "            ground_token = text[b_ind][ind_in_b][text_tp]\n",
    "            \n",
    "            temp_ans.append((tup[0], sps_no_sort[ground_token], 1))\n",
    "            \n",
    "        else: \n",
    "            temp_ans.append((tup[0], tup[1], 0))\n",
    "            \n",
    "    n_ans_ords.append(temp_ans)\n",
    "        \n",
    "            # get the sps at this point and fix the prob. \n",
    "n_ans_ords            \n",
    "            \n",
    "            "
   ]
  },
  {
   "cell_type": "code",
   "execution_count": 63,
   "metadata": {},
   "outputs": [],
   "source": [
    "\n",
    "\n",
    "\n",
    "\n",
    "pickle.dump(n_ans_ords, open( 'MTURK_FIRST_updated_answers_list.pickle' ,'wb'))"
   ]
  },
  {
   "cell_type": "code",
   "execution_count": null,
   "metadata": {},
   "outputs": [],
   "source": []
  }
 ],
 "metadata": {
  "kernelspec": {
   "display_name": "Python 3",
   "language": "python",
   "name": "python3"
  },
  "language_info": {
   "codemirror_mode": {
    "name": "ipython",
    "version": 3
   },
   "file_extension": ".py",
   "mimetype": "text/x-python",
   "name": "python",
   "nbconvert_exporter": "python",
   "pygments_lexer": "ipython3",
   "version": "3.7.3"
  }
 },
 "nbformat": 4,
 "nbformat_minor": 4
}
