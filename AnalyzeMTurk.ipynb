{
 "cells": [
  {
   "cell_type": "markdown",
   "metadata": {},
   "source": [
    "# A 1 is coded as being extremely reasonable here!!! - I have since flipped this\n",
    "\n",
    "For a number of questions there were words that were repeated and you were asked to give these the same score. You did not give the same score for a number of these identical words which suggests you were not focusing on the task and makes your survey results unusable."
   ]
  },
  {
   "cell_type": "code",
   "execution_count": 1,
   "metadata": {},
   "outputs": [],
   "source": [
    "import pickle\n",
    "import gzip\n",
    "import numpy as np\n",
    "import matplotlib.pyplot as plt\n",
    "from scipy.special import softmax\n",
    "import pandas as pd    \n",
    "import torch"
   ]
  },
  {
   "cell_type": "code",
   "execution_count": 2,
   "metadata": {},
   "outputs": [],
   "source": [
    "answer_orders1 = pickle.load(open('MTURK_FIRST_' + 'updated_answers_list.pickle','rb'))\n",
    "answer_orders2 = pickle.load(open('MTURK_QUESTIONS_TWO_' + '_answers_list.pickle','rb'))"
   ]
  },
  {
   "cell_type": "code",
   "execution_count": 3,
   "metadata": {},
   "outputs": [],
   "source": [
    "mturk1 = pd.read_csv('Tail+Free+Sampling+Survey_October+17%2C+2019_07.33.zip')\n",
    "mturk2 = pd.read_csv('Tail+Free+Sampling+Survey+2_October+20%2C+2019_19.47.zip')#'Tail+Free+Sampling+Survey_October+16%2C+2019_07.21.zip')"
   ]
  },
  {
   "cell_type": "code",
   "execution_count": 4,
   "metadata": {},
   "outputs": [
    {
     "data": {
      "text/plain": [
       "(23, 126)"
      ]
     },
     "execution_count": 4,
     "metadata": {},
     "output_type": "execute_result"
    }
   ],
   "source": [
    "mturk1.shape"
   ]
  },
  {
   "cell_type": "code",
   "execution_count": 5,
   "metadata": {},
   "outputs": [
    {
     "data": {
      "text/plain": [
       "(20, 124)"
      ]
     },
     "execution_count": 5,
     "metadata": {},
     "output_type": "execute_result"
    }
   ],
   "source": [
    "mturk2.shape"
   ]
  },
  {
   "cell_type": "code",
   "execution_count": 6,
   "metadata": {},
   "outputs": [
    {
     "data": {
      "text/html": [
       "<div>\n",
       "<style scoped>\n",
       "    .dataframe tbody tr th:only-of-type {\n",
       "        vertical-align: middle;\n",
       "    }\n",
       "\n",
       "    .dataframe tbody tr th {\n",
       "        vertical-align: top;\n",
       "    }\n",
       "\n",
       "    .dataframe thead th {\n",
       "        text-align: right;\n",
       "    }\n",
       "</style>\n",
       "<table border=\"1\" class=\"dataframe\">\n",
       "  <thead>\n",
       "    <tr style=\"text-align: right;\">\n",
       "      <th></th>\n",
       "      <th>StartDate</th>\n",
       "      <th>EndDate</th>\n",
       "      <th>Status</th>\n",
       "      <th>IPAddress</th>\n",
       "      <th>Progress</th>\n",
       "      <th>Duration (in seconds)</th>\n",
       "      <th>Finished</th>\n",
       "      <th>RecordedDate</th>\n",
       "      <th>ResponseId</th>\n",
       "      <th>RecipientLastName</th>\n",
       "      <th>...</th>\n",
       "      <th>Q19_2</th>\n",
       "      <th>Q19_3</th>\n",
       "      <th>Q19_4</th>\n",
       "      <th>Q19_5</th>\n",
       "      <th>Q19_6</th>\n",
       "      <th>Q19_7</th>\n",
       "      <th>Q20</th>\n",
       "      <th>Random ID</th>\n",
       "      <th>Q22 - Parent Topics</th>\n",
       "      <th>Q22 - Topics</th>\n",
       "    </tr>\n",
       "  </thead>\n",
       "  <tbody>\n",
       "    <tr>\n",
       "      <th>0</th>\n",
       "      <td>Start Date</td>\n",
       "      <td>End Date</td>\n",
       "      <td>Response Type</td>\n",
       "      <td>IP Address</td>\n",
       "      <td>Progress</td>\n",
       "      <td>Duration (in seconds)</td>\n",
       "      <td>Finished</td>\n",
       "      <td>Recorded Date</td>\n",
       "      <td>Response ID</td>\n",
       "      <td>Recipient Last Name</td>\n",
       "      <td>...</td>\n",
       "      <td>. Just count the stars, right? *   He eased __...</td>\n",
       "      <td>. Just count the stars, right? *   He eased __...</td>\n",
       "      <td>. Just count the stars, right? *   He eased __...</td>\n",
       "      <td>. Just count the stars, right? *   He eased __...</td>\n",
       "      <td>. Just count the stars, right? *   He eased __...</td>\n",
       "      <td>. Just count the stars, right? *   He eased __...</td>\n",
       "      <td>Thank you very much for completing this survey...</td>\n",
       "      <td>Random ID</td>\n",
       "      <td>Q22 - Parent Topics</td>\n",
       "      <td>Q22 - Topics</td>\n",
       "    </tr>\n",
       "    <tr>\n",
       "      <th>1</th>\n",
       "      <td>{\"ImportId\":\"startDate\",\"timeZone\":\"America/De...</td>\n",
       "      <td>{\"ImportId\":\"endDate\",\"timeZone\":\"America/Denv...</td>\n",
       "      <td>{\"ImportId\":\"status\"}</td>\n",
       "      <td>{\"ImportId\":\"ipAddress\"}</td>\n",
       "      <td>{\"ImportId\":\"progress\"}</td>\n",
       "      <td>{\"ImportId\":\"duration\"}</td>\n",
       "      <td>{\"ImportId\":\"finished\"}</td>\n",
       "      <td>{\"ImportId\":\"recordedDate\",\"timeZone\":\"America...</td>\n",
       "      <td>{\"ImportId\":\"_recordId\"}</td>\n",
       "      <td>{\"ImportId\":\"recipientLastName\"}</td>\n",
       "      <td>...</td>\n",
       "      <td>{\"ImportId\":\"QID21_2\"}</td>\n",
       "      <td>{\"ImportId\":\"QID21_3\"}</td>\n",
       "      <td>{\"ImportId\":\"QID21_4\"}</td>\n",
       "      <td>{\"ImportId\":\"QID21_5\"}</td>\n",
       "      <td>{\"ImportId\":\"QID21_6\"}</td>\n",
       "      <td>{\"ImportId\":\"QID21_7\"}</td>\n",
       "      <td>{\"ImportId\":\"QID26_TEXT\"}</td>\n",
       "      <td>{\"ImportId\":\"Random ID\"}</td>\n",
       "      <td>{\"ImportId\":\"QID26_TEXT_c25db21136a8433bb1f4d1...</td>\n",
       "      <td>{\"ImportId\":\"QID26_TEXT_c25db21136a8433bb1f4d1...</td>\n",
       "    </tr>\n",
       "    <tr>\n",
       "      <th>2</th>\n",
       "      <td>2019-10-15 21:35:00</td>\n",
       "      <td>2019-10-15 21:35:13</td>\n",
       "      <td>1</td>\n",
       "      <td>NaN</td>\n",
       "      <td>100</td>\n",
       "      <td>13</td>\n",
       "      <td>1</td>\n",
       "      <td>2019-10-15 21:35:14</td>\n",
       "      <td>R_2X6WbTrQRtVcuAK</td>\n",
       "      <td>NaN</td>\n",
       "      <td>...</td>\n",
       "      <td>NaN</td>\n",
       "      <td>NaN</td>\n",
       "      <td>NaN</td>\n",
       "      <td>NaN</td>\n",
       "      <td>NaN</td>\n",
       "      <td>NaN</td>\n",
       "      <td>NaN</td>\n",
       "      <td>40022</td>\n",
       "      <td>NaN</td>\n",
       "      <td>NaN</td>\n",
       "    </tr>\n",
       "    <tr>\n",
       "      <th>3</th>\n",
       "      <td>2019-10-15 22:03:30</td>\n",
       "      <td>2019-10-15 22:08:53</td>\n",
       "      <td>0</td>\n",
       "      <td>107.145.113.42</td>\n",
       "      <td>100</td>\n",
       "      <td>322</td>\n",
       "      <td>1</td>\n",
       "      <td>2019-10-15 22:08:54</td>\n",
       "      <td>R_1KiQLFb92Exgwjx</td>\n",
       "      <td>NaN</td>\n",
       "      <td>...</td>\n",
       "      <td>1</td>\n",
       "      <td>2</td>\n",
       "      <td>5</td>\n",
       "      <td>4</td>\n",
       "      <td>1</td>\n",
       "      <td>1</td>\n",
       "      <td>NaN</td>\n",
       "      <td>99887</td>\n",
       "      <td>NaN</td>\n",
       "      <td>NaN</td>\n",
       "    </tr>\n",
       "    <tr>\n",
       "      <th>4</th>\n",
       "      <td>2019-10-15 22:18:07</td>\n",
       "      <td>2019-10-15 22:32:26</td>\n",
       "      <td>0</td>\n",
       "      <td>171.49.170.27</td>\n",
       "      <td>100</td>\n",
       "      <td>858</td>\n",
       "      <td>1</td>\n",
       "      <td>2019-10-15 22:32:26</td>\n",
       "      <td>R_3JjTvGYtgJEC5hD</td>\n",
       "      <td>NaN</td>\n",
       "      <td>...</td>\n",
       "      <td>3</td>\n",
       "      <td>3</td>\n",
       "      <td>2</td>\n",
       "      <td>4</td>\n",
       "      <td>5</td>\n",
       "      <td>2</td>\n",
       "      <td>i like to do this type of work in future</td>\n",
       "      <td>52503</td>\n",
       "      <td>NaN</td>\n",
       "      <td>Unknown</td>\n",
       "    </tr>\n",
       "  </tbody>\n",
       "</table>\n",
       "<p>5 rows × 126 columns</p>\n",
       "</div>"
      ],
      "text/plain": [
       "                                           StartDate  \\\n",
       "0                                         Start Date   \n",
       "1  {\"ImportId\":\"startDate\",\"timeZone\":\"America/De...   \n",
       "2                                2019-10-15 21:35:00   \n",
       "3                                2019-10-15 22:03:30   \n",
       "4                                2019-10-15 22:18:07   \n",
       "\n",
       "                                             EndDate                 Status  \\\n",
       "0                                           End Date          Response Type   \n",
       "1  {\"ImportId\":\"endDate\",\"timeZone\":\"America/Denv...  {\"ImportId\":\"status\"}   \n",
       "2                                2019-10-15 21:35:13                      1   \n",
       "3                                2019-10-15 22:08:53                      0   \n",
       "4                                2019-10-15 22:32:26                      0   \n",
       "\n",
       "                  IPAddress                 Progress    Duration (in seconds)  \\\n",
       "0                IP Address                 Progress    Duration (in seconds)   \n",
       "1  {\"ImportId\":\"ipAddress\"}  {\"ImportId\":\"progress\"}  {\"ImportId\":\"duration\"}   \n",
       "2                       NaN                      100                       13   \n",
       "3            107.145.113.42                      100                      322   \n",
       "4             171.49.170.27                      100                      858   \n",
       "\n",
       "                  Finished                                       RecordedDate  \\\n",
       "0                 Finished                                      Recorded Date   \n",
       "1  {\"ImportId\":\"finished\"}  {\"ImportId\":\"recordedDate\",\"timeZone\":\"America...   \n",
       "2                        1                                2019-10-15 21:35:14   \n",
       "3                        1                                2019-10-15 22:08:54   \n",
       "4                        1                                2019-10-15 22:32:26   \n",
       "\n",
       "                 ResponseId                 RecipientLastName  ...  \\\n",
       "0               Response ID               Recipient Last Name  ...   \n",
       "1  {\"ImportId\":\"_recordId\"}  {\"ImportId\":\"recipientLastName\"}  ...   \n",
       "2         R_2X6WbTrQRtVcuAK                               NaN  ...   \n",
       "3         R_1KiQLFb92Exgwjx                               NaN  ...   \n",
       "4         R_3JjTvGYtgJEC5hD                               NaN  ...   \n",
       "\n",
       "                                               Q19_2  \\\n",
       "0  . Just count the stars, right? *   He eased __...   \n",
       "1                             {\"ImportId\":\"QID21_2\"}   \n",
       "2                                                NaN   \n",
       "3                                                  1   \n",
       "4                                                  3   \n",
       "\n",
       "                                               Q19_3  \\\n",
       "0  . Just count the stars, right? *   He eased __...   \n",
       "1                             {\"ImportId\":\"QID21_3\"}   \n",
       "2                                                NaN   \n",
       "3                                                  2   \n",
       "4                                                  3   \n",
       "\n",
       "                                               Q19_4  \\\n",
       "0  . Just count the stars, right? *   He eased __...   \n",
       "1                             {\"ImportId\":\"QID21_4\"}   \n",
       "2                                                NaN   \n",
       "3                                                  5   \n",
       "4                                                  2   \n",
       "\n",
       "                                               Q19_5  \\\n",
       "0  . Just count the stars, right? *   He eased __...   \n",
       "1                             {\"ImportId\":\"QID21_5\"}   \n",
       "2                                                NaN   \n",
       "3                                                  4   \n",
       "4                                                  4   \n",
       "\n",
       "                                               Q19_6  \\\n",
       "0  . Just count the stars, right? *   He eased __...   \n",
       "1                             {\"ImportId\":\"QID21_6\"}   \n",
       "2                                                NaN   \n",
       "3                                                  1   \n",
       "4                                                  5   \n",
       "\n",
       "                                               Q19_7  \\\n",
       "0  . Just count the stars, right? *   He eased __...   \n",
       "1                             {\"ImportId\":\"QID21_7\"}   \n",
       "2                                                NaN   \n",
       "3                                                  1   \n",
       "4                                                  2   \n",
       "\n",
       "                                                 Q20  \\\n",
       "0  Thank you very much for completing this survey...   \n",
       "1                          {\"ImportId\":\"QID26_TEXT\"}   \n",
       "2                                                NaN   \n",
       "3                                                NaN   \n",
       "4           i like to do this type of work in future   \n",
       "\n",
       "                  Random ID  \\\n",
       "0                 Random ID   \n",
       "1  {\"ImportId\":\"Random ID\"}   \n",
       "2                     40022   \n",
       "3                     99887   \n",
       "4                     52503   \n",
       "\n",
       "                                 Q22 - Parent Topics  \\\n",
       "0                                Q22 - Parent Topics   \n",
       "1  {\"ImportId\":\"QID26_TEXT_c25db21136a8433bb1f4d1...   \n",
       "2                                                NaN   \n",
       "3                                                NaN   \n",
       "4                                                NaN   \n",
       "\n",
       "                                        Q22 - Topics  \n",
       "0                                       Q22 - Topics  \n",
       "1  {\"ImportId\":\"QID26_TEXT_c25db21136a8433bb1f4d1...  \n",
       "2                                                NaN  \n",
       "3                                                NaN  \n",
       "4                                            Unknown  \n",
       "\n",
       "[5 rows x 126 columns]"
      ]
     },
     "execution_count": 6,
     "metadata": {},
     "output_type": "execute_result"
    }
   ],
   "source": [
    "mturk1.head()"
   ]
  },
  {
   "cell_type": "code",
   "execution_count": 7,
   "metadata": {},
   "outputs": [
    {
     "data": {
      "text/html": [
       "<div>\n",
       "<style scoped>\n",
       "    .dataframe tbody tr th:only-of-type {\n",
       "        vertical-align: middle;\n",
       "    }\n",
       "\n",
       "    .dataframe tbody tr th {\n",
       "        vertical-align: top;\n",
       "    }\n",
       "\n",
       "    .dataframe thead th {\n",
       "        text-align: right;\n",
       "    }\n",
       "</style>\n",
       "<table border=\"1\" class=\"dataframe\">\n",
       "  <thead>\n",
       "    <tr style=\"text-align: right;\">\n",
       "      <th></th>\n",
       "      <th>StartDate</th>\n",
       "      <th>EndDate</th>\n",
       "      <th>Status</th>\n",
       "      <th>IPAddress</th>\n",
       "      <th>Progress</th>\n",
       "      <th>Duration (in seconds)</th>\n",
       "      <th>Finished</th>\n",
       "      <th>RecordedDate</th>\n",
       "      <th>ResponseId</th>\n",
       "      <th>RecipientLastName</th>\n",
       "      <th>...</th>\n",
       "      <th>Q18_7</th>\n",
       "      <th>Q19_1</th>\n",
       "      <th>Q19_2</th>\n",
       "      <th>Q19_3</th>\n",
       "      <th>Q19_4</th>\n",
       "      <th>Q19_5</th>\n",
       "      <th>Q19_6</th>\n",
       "      <th>Q19_7</th>\n",
       "      <th>Q20</th>\n",
       "      <th>Random ID</th>\n",
       "    </tr>\n",
       "  </thead>\n",
       "  <tbody>\n",
       "    <tr>\n",
       "      <th>0</th>\n",
       "      <td>Start Date</td>\n",
       "      <td>End Date</td>\n",
       "      <td>Response Type</td>\n",
       "      <td>IP Address</td>\n",
       "      <td>Progress</td>\n",
       "      <td>Duration (in seconds)</td>\n",
       "      <td>Finished</td>\n",
       "      <td>Recorded Date</td>\n",
       "      <td>Response ID</td>\n",
       "      <td>Recipient Last Name</td>\n",
       "      <td>...</td>\n",
       "      <td>“Ah yes, the obvious question. It would seem t...</td>\n",
       "      <td>The fact of the matter is that _______ - the</td>\n",
       "      <td>The fact of the matter is that _______ - there</td>\n",
       "      <td>The fact of the matter is that _______ - EVA</td>\n",
       "      <td>The fact of the matter is that _______ - people</td>\n",
       "      <td>The fact of the matter is that _______ - it</td>\n",
       "      <td>The fact of the matter is that _______ - this</td>\n",
       "      <td>The fact of the matter is that _______ - in</td>\n",
       "      <td>Thank you very much for completing this survey...</td>\n",
       "      <td>Random ID</td>\n",
       "    </tr>\n",
       "    <tr>\n",
       "      <th>1</th>\n",
       "      <td>{\"ImportId\":\"startDate\",\"timeZone\":\"America/De...</td>\n",
       "      <td>{\"ImportId\":\"endDate\",\"timeZone\":\"America/Denv...</td>\n",
       "      <td>{\"ImportId\":\"status\"}</td>\n",
       "      <td>{\"ImportId\":\"ipAddress\"}</td>\n",
       "      <td>{\"ImportId\":\"progress\"}</td>\n",
       "      <td>{\"ImportId\":\"duration\"}</td>\n",
       "      <td>{\"ImportId\":\"finished\"}</td>\n",
       "      <td>{\"ImportId\":\"recordedDate\",\"timeZone\":\"America...</td>\n",
       "      <td>{\"ImportId\":\"_recordId\"}</td>\n",
       "      <td>{\"ImportId\":\"recipientLastName\"}</td>\n",
       "      <td>...</td>\n",
       "      <td>{\"ImportId\":\"QID20_7\"}</td>\n",
       "      <td>{\"ImportId\":\"QID21_1\"}</td>\n",
       "      <td>{\"ImportId\":\"QID21_2\"}</td>\n",
       "      <td>{\"ImportId\":\"QID21_3\"}</td>\n",
       "      <td>{\"ImportId\":\"QID21_4\"}</td>\n",
       "      <td>{\"ImportId\":\"QID21_5\"}</td>\n",
       "      <td>{\"ImportId\":\"QID21_6\"}</td>\n",
       "      <td>{\"ImportId\":\"QID21_7\"}</td>\n",
       "      <td>{\"ImportId\":\"QID26_TEXT\"}</td>\n",
       "      <td>{\"ImportId\":\"Random ID\"}</td>\n",
       "    </tr>\n",
       "    <tr>\n",
       "      <th>2</th>\n",
       "      <td>2019-10-17 12:30:23</td>\n",
       "      <td>2019-10-17 12:43:04</td>\n",
       "      <td>0</td>\n",
       "      <td>152.3.43.42</td>\n",
       "      <td>100</td>\n",
       "      <td>761</td>\n",
       "      <td>1</td>\n",
       "      <td>2019-10-17 12:43:05</td>\n",
       "      <td>R_x44zIuJGYqCTeUN</td>\n",
       "      <td>NaN</td>\n",
       "      <td>...</td>\n",
       "      <td>2</td>\n",
       "      <td>1</td>\n",
       "      <td>1</td>\n",
       "      <td>4</td>\n",
       "      <td>3</td>\n",
       "      <td>1</td>\n",
       "      <td>2</td>\n",
       "      <td>1</td>\n",
       "      <td>lots of upper case words - From Trenton</td>\n",
       "      <td>89534</td>\n",
       "    </tr>\n",
       "    <tr>\n",
       "      <th>3</th>\n",
       "      <td>2019-10-17 13:06:27</td>\n",
       "      <td>2019-10-17 13:12:05</td>\n",
       "      <td>0</td>\n",
       "      <td>66.91.211.85</td>\n",
       "      <td>100</td>\n",
       "      <td>338</td>\n",
       "      <td>1</td>\n",
       "      <td>2019-10-17 13:12:06</td>\n",
       "      <td>R_511N5bNwxQOSrMB</td>\n",
       "      <td>NaN</td>\n",
       "      <td>...</td>\n",
       "      <td>3</td>\n",
       "      <td>1</td>\n",
       "      <td>2</td>\n",
       "      <td>5</td>\n",
       "      <td>4</td>\n",
       "      <td>2</td>\n",
       "      <td>1</td>\n",
       "      <td>4</td>\n",
       "      <td>No</td>\n",
       "      <td>26967</td>\n",
       "    </tr>\n",
       "    <tr>\n",
       "      <th>4</th>\n",
       "      <td>2019-10-17 13:04:10</td>\n",
       "      <td>2019-10-17 13:12:17</td>\n",
       "      <td>0</td>\n",
       "      <td>24.116.21.131</td>\n",
       "      <td>100</td>\n",
       "      <td>487</td>\n",
       "      <td>1</td>\n",
       "      <td>2019-10-17 13:12:18</td>\n",
       "      <td>R_RxbLDvDSxHkb2PT</td>\n",
       "      <td>NaN</td>\n",
       "      <td>...</td>\n",
       "      <td>2</td>\n",
       "      <td>1</td>\n",
       "      <td>1</td>\n",
       "      <td>5</td>\n",
       "      <td>1</td>\n",
       "      <td>1</td>\n",
       "      <td>1</td>\n",
       "      <td>1</td>\n",
       "      <td>no</td>\n",
       "      <td>12285</td>\n",
       "    </tr>\n",
       "  </tbody>\n",
       "</table>\n",
       "<p>5 rows × 124 columns</p>\n",
       "</div>"
      ],
      "text/plain": [
       "                                           StartDate  \\\n",
       "0                                         Start Date   \n",
       "1  {\"ImportId\":\"startDate\",\"timeZone\":\"America/De...   \n",
       "2                                2019-10-17 12:30:23   \n",
       "3                                2019-10-17 13:06:27   \n",
       "4                                2019-10-17 13:04:10   \n",
       "\n",
       "                                             EndDate                 Status  \\\n",
       "0                                           End Date          Response Type   \n",
       "1  {\"ImportId\":\"endDate\",\"timeZone\":\"America/Denv...  {\"ImportId\":\"status\"}   \n",
       "2                                2019-10-17 12:43:04                      0   \n",
       "3                                2019-10-17 13:12:05                      0   \n",
       "4                                2019-10-17 13:12:17                      0   \n",
       "\n",
       "                  IPAddress                 Progress    Duration (in seconds)  \\\n",
       "0                IP Address                 Progress    Duration (in seconds)   \n",
       "1  {\"ImportId\":\"ipAddress\"}  {\"ImportId\":\"progress\"}  {\"ImportId\":\"duration\"}   \n",
       "2               152.3.43.42                      100                      761   \n",
       "3              66.91.211.85                      100                      338   \n",
       "4             24.116.21.131                      100                      487   \n",
       "\n",
       "                  Finished                                       RecordedDate  \\\n",
       "0                 Finished                                      Recorded Date   \n",
       "1  {\"ImportId\":\"finished\"}  {\"ImportId\":\"recordedDate\",\"timeZone\":\"America...   \n",
       "2                        1                                2019-10-17 12:43:05   \n",
       "3                        1                                2019-10-17 13:12:06   \n",
       "4                        1                                2019-10-17 13:12:18   \n",
       "\n",
       "                 ResponseId                 RecipientLastName  ...  \\\n",
       "0               Response ID               Recipient Last Name  ...   \n",
       "1  {\"ImportId\":\"_recordId\"}  {\"ImportId\":\"recipientLastName\"}  ...   \n",
       "2         R_x44zIuJGYqCTeUN                               NaN  ...   \n",
       "3         R_511N5bNwxQOSrMB                               NaN  ...   \n",
       "4         R_RxbLDvDSxHkb2PT                               NaN  ...   \n",
       "\n",
       "                                               Q18_7  \\\n",
       "0  “Ah yes, the obvious question. It would seem t...   \n",
       "1                             {\"ImportId\":\"QID20_7\"}   \n",
       "2                                                  2   \n",
       "3                                                  3   \n",
       "4                                                  2   \n",
       "\n",
       "                                          Q19_1  \\\n",
       "0  The fact of the matter is that _______ - the   \n",
       "1                        {\"ImportId\":\"QID21_1\"}   \n",
       "2                                             1   \n",
       "3                                             1   \n",
       "4                                             1   \n",
       "\n",
       "                                            Q19_2  \\\n",
       "0  The fact of the matter is that _______ - there   \n",
       "1                          {\"ImportId\":\"QID21_2\"}   \n",
       "2                                               1   \n",
       "3                                               2   \n",
       "4                                               1   \n",
       "\n",
       "                                          Q19_3  \\\n",
       "0  The fact of the matter is that _______ - EVA   \n",
       "1                        {\"ImportId\":\"QID21_3\"}   \n",
       "2                                             4   \n",
       "3                                             5   \n",
       "4                                             5   \n",
       "\n",
       "                                             Q19_4  \\\n",
       "0  The fact of the matter is that _______ - people   \n",
       "1                           {\"ImportId\":\"QID21_4\"}   \n",
       "2                                                3   \n",
       "3                                                4   \n",
       "4                                                1   \n",
       "\n",
       "                                         Q19_5  \\\n",
       "0  The fact of the matter is that _______ - it   \n",
       "1                       {\"ImportId\":\"QID21_5\"}   \n",
       "2                                            1   \n",
       "3                                            2   \n",
       "4                                            1   \n",
       "\n",
       "                                           Q19_6  \\\n",
       "0  The fact of the matter is that _______ - this   \n",
       "1                         {\"ImportId\":\"QID21_6\"}   \n",
       "2                                              2   \n",
       "3                                              1   \n",
       "4                                              1   \n",
       "\n",
       "                                         Q19_7  \\\n",
       "0  The fact of the matter is that _______ - in   \n",
       "1                       {\"ImportId\":\"QID21_7\"}   \n",
       "2                                            1   \n",
       "3                                            4   \n",
       "4                                            1   \n",
       "\n",
       "                                                 Q20                 Random ID  \n",
       "0  Thank you very much for completing this survey...                 Random ID  \n",
       "1                          {\"ImportId\":\"QID26_TEXT\"}  {\"ImportId\":\"Random ID\"}  \n",
       "2           lots of upper case words - From Trenton                      89534  \n",
       "3                                                 No                     26967  \n",
       "4                                                 no                     12285  \n",
       "\n",
       "[5 rows x 124 columns]"
      ]
     },
     "execution_count": 7,
     "metadata": {},
     "output_type": "execute_result"
    }
   ],
   "source": [
    "mturk2.head()"
   ]
  },
  {
   "cell_type": "code",
   "execution_count": 8,
   "metadata": {},
   "outputs": [],
   "source": [
    "qstart = 'Q5_1'\n",
    "qend = 'Q19_7'"
   ]
  },
  {
   "cell_type": "code",
   "execution_count": 9,
   "metadata": {},
   "outputs": [
    {
     "data": {
      "text/plain": [
       "{1: 5, 2: 4, 3: 3, 4: 2, 5: 1}"
      ]
     },
     "execution_count": 9,
     "metadata": {},
     "output_type": "execute_result"
    }
   ],
   "source": [
    "reverse_encoding_dict = {k:v for k, v in zip(np.arange(1,6,1), np.arange(5,0,-1))}\n",
    "reverse_encoding_dict"
   ]
  },
  {
   "cell_type": "code",
   "execution_count": 10,
   "metadata": {},
   "outputs": [],
   "source": [
    "mturk1.drop([0,1,2], axis=0, inplace=True)# dropping the first null response and the header details\n",
    "mturk2.drop([0,1], axis=0, inplace=True)# dropping the first null response and the header details"
   ]
  },
  {
   "cell_type": "code",
   "execution_count": 11,
   "metadata": {},
   "outputs": [],
   "source": [
    "mturk1_len = mturk1.shape[0]"
   ]
  },
  {
   "cell_type": "code",
   "execution_count": 12,
   "metadata": {},
   "outputs": [],
   "source": [
    "mturk = mturk1.append( mturk2, sort=False)"
   ]
  },
  {
   "cell_type": "code",
   "execution_count": 13,
   "metadata": {},
   "outputs": [],
   "source": [
    "mturk.reset_index(inplace=True)"
   ]
  },
  {
   "cell_type": "code",
   "execution_count": 14,
   "metadata": {},
   "outputs": [],
   "source": [
    "mturk.loc[:, qstart:qend] = mturk.loc[:, qstart:qend].apply(lambda x: x.astype(int).map(reverse_encoding_dict))"
   ]
  },
  {
   "cell_type": "code",
   "execution_count": 15,
   "metadata": {},
   "outputs": [
    {
     "data": {
      "text/html": [
       "<div>\n",
       "<style scoped>\n",
       "    .dataframe tbody tr th:only-of-type {\n",
       "        vertical-align: middle;\n",
       "    }\n",
       "\n",
       "    .dataframe tbody tr th {\n",
       "        vertical-align: top;\n",
       "    }\n",
       "\n",
       "    .dataframe thead th {\n",
       "        text-align: right;\n",
       "    }\n",
       "</style>\n",
       "<table border=\"1\" class=\"dataframe\">\n",
       "  <thead>\n",
       "    <tr style=\"text-align: right;\">\n",
       "      <th></th>\n",
       "      <th>index</th>\n",
       "      <th>StartDate</th>\n",
       "      <th>EndDate</th>\n",
       "      <th>Status</th>\n",
       "      <th>IPAddress</th>\n",
       "      <th>Progress</th>\n",
       "      <th>Duration (in seconds)</th>\n",
       "      <th>Finished</th>\n",
       "      <th>RecordedDate</th>\n",
       "      <th>ResponseId</th>\n",
       "      <th>...</th>\n",
       "      <th>Q19_2</th>\n",
       "      <th>Q19_3</th>\n",
       "      <th>Q19_4</th>\n",
       "      <th>Q19_5</th>\n",
       "      <th>Q19_6</th>\n",
       "      <th>Q19_7</th>\n",
       "      <th>Q20</th>\n",
       "      <th>Random ID</th>\n",
       "      <th>Q22 - Parent Topics</th>\n",
       "      <th>Q22 - Topics</th>\n",
       "    </tr>\n",
       "  </thead>\n",
       "  <tbody>\n",
       "    <tr>\n",
       "      <th>0</th>\n",
       "      <td>3</td>\n",
       "      <td>2019-10-15 22:03:30</td>\n",
       "      <td>2019-10-15 22:08:53</td>\n",
       "      <td>0</td>\n",
       "      <td>107.145.113.42</td>\n",
       "      <td>100</td>\n",
       "      <td>322</td>\n",
       "      <td>1</td>\n",
       "      <td>2019-10-15 22:08:54</td>\n",
       "      <td>R_1KiQLFb92Exgwjx</td>\n",
       "      <td>...</td>\n",
       "      <td>5</td>\n",
       "      <td>4</td>\n",
       "      <td>1</td>\n",
       "      <td>2</td>\n",
       "      <td>5</td>\n",
       "      <td>5</td>\n",
       "      <td>NaN</td>\n",
       "      <td>99887</td>\n",
       "      <td>NaN</td>\n",
       "      <td>NaN</td>\n",
       "    </tr>\n",
       "    <tr>\n",
       "      <th>1</th>\n",
       "      <td>4</td>\n",
       "      <td>2019-10-15 22:18:07</td>\n",
       "      <td>2019-10-15 22:32:26</td>\n",
       "      <td>0</td>\n",
       "      <td>171.49.170.27</td>\n",
       "      <td>100</td>\n",
       "      <td>858</td>\n",
       "      <td>1</td>\n",
       "      <td>2019-10-15 22:32:26</td>\n",
       "      <td>R_3JjTvGYtgJEC5hD</td>\n",
       "      <td>...</td>\n",
       "      <td>3</td>\n",
       "      <td>3</td>\n",
       "      <td>4</td>\n",
       "      <td>2</td>\n",
       "      <td>1</td>\n",
       "      <td>4</td>\n",
       "      <td>i like to do this type of work in future</td>\n",
       "      <td>52503</td>\n",
       "      <td>NaN</td>\n",
       "      <td>Unknown</td>\n",
       "    </tr>\n",
       "    <tr>\n",
       "      <th>2</th>\n",
       "      <td>5</td>\n",
       "      <td>2019-10-15 22:48:54</td>\n",
       "      <td>2019-10-15 23:00:41</td>\n",
       "      <td>0</td>\n",
       "      <td>75.142.251.193</td>\n",
       "      <td>100</td>\n",
       "      <td>707</td>\n",
       "      <td>1</td>\n",
       "      <td>2019-10-15 23:00:42</td>\n",
       "      <td>R_2cuydCFibv8JRva</td>\n",
       "      <td>...</td>\n",
       "      <td>5</td>\n",
       "      <td>5</td>\n",
       "      <td>3</td>\n",
       "      <td>5</td>\n",
       "      <td>5</td>\n",
       "      <td>5</td>\n",
       "      <td>Thank you</td>\n",
       "      <td>56916</td>\n",
       "      <td>NaN</td>\n",
       "      <td>Unknown</td>\n",
       "    </tr>\n",
       "    <tr>\n",
       "      <th>3</th>\n",
       "      <td>6</td>\n",
       "      <td>2019-10-15 22:51:26</td>\n",
       "      <td>2019-10-15 23:01:15</td>\n",
       "      <td>0</td>\n",
       "      <td>157.46.79.62</td>\n",
       "      <td>100</td>\n",
       "      <td>588</td>\n",
       "      <td>1</td>\n",
       "      <td>2019-10-15 23:01:15</td>\n",
       "      <td>R_3PzZBVyiobpkdjr</td>\n",
       "      <td>...</td>\n",
       "      <td>1</td>\n",
       "      <td>2</td>\n",
       "      <td>4</td>\n",
       "      <td>5</td>\n",
       "      <td>3</td>\n",
       "      <td>3</td>\n",
       "      <td>A22CN9X0JP1HM4</td>\n",
       "      <td>92914</td>\n",
       "      <td>NaN</td>\n",
       "      <td>Unknown</td>\n",
       "    </tr>\n",
       "    <tr>\n",
       "      <th>4</th>\n",
       "      <td>7</td>\n",
       "      <td>2019-10-15 22:59:44</td>\n",
       "      <td>2019-10-15 23:19:12</td>\n",
       "      <td>0</td>\n",
       "      <td>49.207.137.2</td>\n",
       "      <td>100</td>\n",
       "      <td>1167</td>\n",
       "      <td>1</td>\n",
       "      <td>2019-10-15 23:19:12</td>\n",
       "      <td>R_2Pcjs6Du7ICHJ0G</td>\n",
       "      <td>...</td>\n",
       "      <td>4</td>\n",
       "      <td>3</td>\n",
       "      <td>2</td>\n",
       "      <td>5</td>\n",
       "      <td>3</td>\n",
       "      <td>1</td>\n",
       "      <td>NICE</td>\n",
       "      <td>64874</td>\n",
       "      <td>NaN</td>\n",
       "      <td>Unknown</td>\n",
       "    </tr>\n",
       "  </tbody>\n",
       "</table>\n",
       "<p>5 rows × 127 columns</p>\n",
       "</div>"
      ],
      "text/plain": [
       "   index            StartDate              EndDate Status       IPAddress  \\\n",
       "0      3  2019-10-15 22:03:30  2019-10-15 22:08:53      0  107.145.113.42   \n",
       "1      4  2019-10-15 22:18:07  2019-10-15 22:32:26      0   171.49.170.27   \n",
       "2      5  2019-10-15 22:48:54  2019-10-15 23:00:41      0  75.142.251.193   \n",
       "3      6  2019-10-15 22:51:26  2019-10-15 23:01:15      0    157.46.79.62   \n",
       "4      7  2019-10-15 22:59:44  2019-10-15 23:19:12      0    49.207.137.2   \n",
       "\n",
       "  Progress Duration (in seconds) Finished         RecordedDate  \\\n",
       "0      100                   322        1  2019-10-15 22:08:54   \n",
       "1      100                   858        1  2019-10-15 22:32:26   \n",
       "2      100                   707        1  2019-10-15 23:00:42   \n",
       "3      100                   588        1  2019-10-15 23:01:15   \n",
       "4      100                  1167        1  2019-10-15 23:19:12   \n",
       "\n",
       "          ResponseId  ... Q19_2 Q19_3 Q19_4 Q19_5 Q19_6 Q19_7  \\\n",
       "0  R_1KiQLFb92Exgwjx  ...     5     4     1     2     5     5   \n",
       "1  R_3JjTvGYtgJEC5hD  ...     3     3     4     2     1     4   \n",
       "2  R_2cuydCFibv8JRva  ...     5     5     3     5     5     5   \n",
       "3  R_3PzZBVyiobpkdjr  ...     1     2     4     5     3     3   \n",
       "4  R_2Pcjs6Du7ICHJ0G  ...     4     3     2     5     3     1   \n",
       "\n",
       "                                        Q20 Random ID  Q22 - Parent Topics  \\\n",
       "0                                       NaN     99887                  NaN   \n",
       "1  i like to do this type of work in future     52503                  NaN   \n",
       "2                                 Thank you     56916                  NaN   \n",
       "3                            A22CN9X0JP1HM4     92914                  NaN   \n",
       "4                                      NICE     64874                  NaN   \n",
       "\n",
       "   Q22 - Topics  \n",
       "0           NaN  \n",
       "1       Unknown  \n",
       "2       Unknown  \n",
       "3       Unknown  \n",
       "4       Unknown  \n",
       "\n",
       "[5 rows x 127 columns]"
      ]
     },
     "execution_count": 15,
     "metadata": {},
     "output_type": "execute_result"
    }
   ],
   "source": [
    "mturk.head()"
   ]
  },
  {
   "cell_type": "code",
   "execution_count": 16,
   "metadata": {},
   "outputs": [
    {
     "data": {
      "text/plain": [
       "(38, 127)"
      ]
     },
     "execution_count": 16,
     "metadata": {},
     "output_type": "execute_result"
    }
   ],
   "source": [
    "mturk.shape"
   ]
  },
  {
   "cell_type": "code",
   "execution_count": 17,
   "metadata": {},
   "outputs": [
    {
     "data": {
      "text/plain": [
       "array(['index', 'StartDate', 'EndDate', 'Status', 'IPAddress', 'Progress',\n",
       "       'Duration (in seconds)', 'Finished', 'RecordedDate', 'ResponseId',\n",
       "       'RecipientLastName', 'RecipientFirstName', 'RecipientEmail',\n",
       "       'ExternalReference', 'LocationLatitude', 'LocationLongitude',\n",
       "       'DistributionChannel', 'UserLanguage', 'Q5_1', 'Q5_2', 'Q5_3',\n",
       "       'Q5_4', 'Q5_5', 'Q5_6', 'Q5_7', 'Q6_1', 'Q6_2', 'Q6_3', 'Q6_4',\n",
       "       'Q6_5', 'Q6_6', 'Q6_7', 'Q7_1', 'Q7_2', 'Q7_3', 'Q7_4', 'Q7_5',\n",
       "       'Q7_6', 'Q7_7', 'Q8_1', 'Q8_2', 'Q8_3', 'Q8_4', 'Q8_5', 'Q8_6',\n",
       "       'Q8_7', 'Q9_1', 'Q9_2', 'Q9_3', 'Q9_4', 'Q9_5', 'Q9_6', 'Q9_7',\n",
       "       'Q10_1', 'Q10_2', 'Q10_3', 'Q10_4', 'Q10_5', 'Q10_6', 'Q10_7',\n",
       "       'Q11_1', 'Q11_2', 'Q11_3', 'Q11_4', 'Q11_5', 'Q11_6', 'Q11_7',\n",
       "       'Q12_1', 'Q12_2', 'Q12_3', 'Q12_4', 'Q12_5', 'Q12_6', 'Q12_7',\n",
       "       'Q13_1', 'Q13_2', 'Q13_3', 'Q13_4', 'Q13_5', 'Q13_6', 'Q13_7',\n",
       "       'Q14_1', 'Q14_2', 'Q14_3', 'Q14_4', 'Q14_5', 'Q14_6', 'Q14_7',\n",
       "       'Q15_1', 'Q15_2', 'Q15_3', 'Q15_4', 'Q15_5', 'Q15_6', 'Q15_7',\n",
       "       'Q16_1', 'Q16_2', 'Q16_3', 'Q16_4', 'Q16_5', 'Q16_6', 'Q16_7',\n",
       "       'Q17_1', 'Q17_2', 'Q17_3', 'Q17_4', 'Q17_5', 'Q17_6', 'Q17_7',\n",
       "       'Q18_1', 'Q18_2', 'Q18_3', 'Q18_4', 'Q18_5', 'Q18_6', 'Q18_7',\n",
       "       'Q19_1', 'Q19_2', 'Q19_3', 'Q19_4', 'Q19_5', 'Q19_6', 'Q19_7',\n",
       "       'Q20', 'Random ID', 'Q22 - Parent Topics', 'Q22 - Topics'],\n",
       "      dtype='<U21')"
      ]
     },
     "execution_count": 17,
     "metadata": {},
     "output_type": "execute_result"
    }
   ],
   "source": [
    "np.asarray(mturk.columns.tolist())"
   ]
  },
  {
   "cell_type": "code",
   "execution_count": 18,
   "metadata": {},
   "outputs": [],
   "source": [
    "mturk['Duration (in seconds)']= mturk['Duration (in seconds)'].astype(int)/60"
   ]
  },
  {
   "cell_type": "code",
   "execution_count": 19,
   "metadata": {},
   "outputs": [],
   "source": [
    "qas = mturk.loc[:, qstart:qend]\n",
    "qas;"
   ]
  },
  {
   "cell_type": "code",
   "execution_count": 20,
   "metadata": {},
   "outputs": [],
   "source": [
    "answer_orders1 = answer_orders1[0:15]\n",
    "answer_orders2 = answer_orders2[0:15]"
   ]
  },
  {
   "cell_type": "code",
   "execution_count": 21,
   "metadata": {},
   "outputs": [
    {
     "data": {
      "text/html": [
       "<div>\n",
       "<style scoped>\n",
       "    .dataframe tbody tr th:only-of-type {\n",
       "        vertical-align: middle;\n",
       "    }\n",
       "\n",
       "    .dataframe tbody tr th {\n",
       "        vertical-align: top;\n",
       "    }\n",
       "\n",
       "    .dataframe thead th {\n",
       "        text-align: right;\n",
       "    }\n",
       "</style>\n",
       "<table border=\"1\" class=\"dataframe\">\n",
       "  <thead>\n",
       "    <tr style=\"text-align: right;\">\n",
       "      <th></th>\n",
       "      <th>Q5_1</th>\n",
       "      <th>Q5_2</th>\n",
       "      <th>Q5_3</th>\n",
       "      <th>Q5_4</th>\n",
       "      <th>Q5_5</th>\n",
       "      <th>Q5_6</th>\n",
       "      <th>Q5_7</th>\n",
       "      <th>Q6_1</th>\n",
       "      <th>Q6_2</th>\n",
       "      <th>Q6_3</th>\n",
       "      <th>...</th>\n",
       "      <th>Q18_5</th>\n",
       "      <th>Q18_6</th>\n",
       "      <th>Q18_7</th>\n",
       "      <th>Q19_1</th>\n",
       "      <th>Q19_2</th>\n",
       "      <th>Q19_3</th>\n",
       "      <th>Q19_4</th>\n",
       "      <th>Q19_5</th>\n",
       "      <th>Q19_6</th>\n",
       "      <th>Q19_7</th>\n",
       "    </tr>\n",
       "  </thead>\n",
       "  <tbody>\n",
       "    <tr>\n",
       "      <th>0</th>\n",
       "      <td>3</td>\n",
       "      <td>4</td>\n",
       "      <td>1</td>\n",
       "      <td>5</td>\n",
       "      <td>5</td>\n",
       "      <td>5</td>\n",
       "      <td>1</td>\n",
       "      <td>1</td>\n",
       "      <td>3</td>\n",
       "      <td>3</td>\n",
       "      <td>...</td>\n",
       "      <td>3</td>\n",
       "      <td>4</td>\n",
       "      <td>1</td>\n",
       "      <td>1</td>\n",
       "      <td>5</td>\n",
       "      <td>4</td>\n",
       "      <td>1</td>\n",
       "      <td>2</td>\n",
       "      <td>5</td>\n",
       "      <td>5</td>\n",
       "    </tr>\n",
       "    <tr>\n",
       "      <th>1</th>\n",
       "      <td>2</td>\n",
       "      <td>4</td>\n",
       "      <td>5</td>\n",
       "      <td>3</td>\n",
       "      <td>2</td>\n",
       "      <td>4</td>\n",
       "      <td>5</td>\n",
       "      <td>5</td>\n",
       "      <td>2</td>\n",
       "      <td>3</td>\n",
       "      <td>...</td>\n",
       "      <td>3</td>\n",
       "      <td>5</td>\n",
       "      <td>1</td>\n",
       "      <td>4</td>\n",
       "      <td>3</td>\n",
       "      <td>3</td>\n",
       "      <td>4</td>\n",
       "      <td>2</td>\n",
       "      <td>1</td>\n",
       "      <td>4</td>\n",
       "    </tr>\n",
       "    <tr>\n",
       "      <th>2</th>\n",
       "      <td>3</td>\n",
       "      <td>4</td>\n",
       "      <td>4</td>\n",
       "      <td>5</td>\n",
       "      <td>4</td>\n",
       "      <td>5</td>\n",
       "      <td>3</td>\n",
       "      <td>3</td>\n",
       "      <td>5</td>\n",
       "      <td>5</td>\n",
       "      <td>...</td>\n",
       "      <td>5</td>\n",
       "      <td>5</td>\n",
       "      <td>3</td>\n",
       "      <td>5</td>\n",
       "      <td>5</td>\n",
       "      <td>5</td>\n",
       "      <td>3</td>\n",
       "      <td>5</td>\n",
       "      <td>5</td>\n",
       "      <td>5</td>\n",
       "    </tr>\n",
       "    <tr>\n",
       "      <th>3</th>\n",
       "      <td>4</td>\n",
       "      <td>5</td>\n",
       "      <td>2</td>\n",
       "      <td>3</td>\n",
       "      <td>4</td>\n",
       "      <td>1</td>\n",
       "      <td>3</td>\n",
       "      <td>3</td>\n",
       "      <td>1</td>\n",
       "      <td>4</td>\n",
       "      <td>...</td>\n",
       "      <td>3</td>\n",
       "      <td>5</td>\n",
       "      <td>2</td>\n",
       "      <td>3</td>\n",
       "      <td>1</td>\n",
       "      <td>2</td>\n",
       "      <td>4</td>\n",
       "      <td>5</td>\n",
       "      <td>3</td>\n",
       "      <td>3</td>\n",
       "    </tr>\n",
       "    <tr>\n",
       "      <th>4</th>\n",
       "      <td>1</td>\n",
       "      <td>5</td>\n",
       "      <td>2</td>\n",
       "      <td>4</td>\n",
       "      <td>3</td>\n",
       "      <td>1</td>\n",
       "      <td>2</td>\n",
       "      <td>4</td>\n",
       "      <td>3</td>\n",
       "      <td>1</td>\n",
       "      <td>...</td>\n",
       "      <td>2</td>\n",
       "      <td>5</td>\n",
       "      <td>2</td>\n",
       "      <td>3</td>\n",
       "      <td>4</td>\n",
       "      <td>3</td>\n",
       "      <td>2</td>\n",
       "      <td>5</td>\n",
       "      <td>3</td>\n",
       "      <td>1</td>\n",
       "    </tr>\n",
       "  </tbody>\n",
       "</table>\n",
       "<p>5 rows × 105 columns</p>\n",
       "</div>"
      ],
      "text/plain": [
       "   Q5_1  Q5_2  Q5_3  Q5_4  Q5_5  Q5_6  Q5_7  Q6_1  Q6_2  Q6_3  ...  Q18_5  \\\n",
       "0     3     4     1     5     5     5     1     1     3     3  ...      3   \n",
       "1     2     4     5     3     2     4     5     5     2     3  ...      3   \n",
       "2     3     4     4     5     4     5     3     3     5     5  ...      5   \n",
       "3     4     5     2     3     4     1     3     3     1     4  ...      3   \n",
       "4     1     5     2     4     3     1     2     4     3     1  ...      2   \n",
       "\n",
       "   Q18_6  Q18_7  Q19_1  Q19_2  Q19_3  Q19_4  Q19_5  Q19_6  Q19_7  \n",
       "0      4      1      1      5      4      1      2      5      5  \n",
       "1      5      1      4      3      3      4      2      1      4  \n",
       "2      5      3      5      5      5      3      5      5      5  \n",
       "3      5      2      3      1      2      4      5      3      3  \n",
       "4      5      2      3      4      3      2      5      3      1  \n",
       "\n",
       "[5 rows x 105 columns]"
      ]
     },
     "execution_count": 21,
     "metadata": {},
     "output_type": "execute_result"
    }
   ],
   "source": [
    "qas.head()"
   ]
  },
  {
   "cell_type": "code",
   "execution_count": 22,
   "metadata": {},
   "outputs": [
    {
     "data": {
      "text/plain": [
       "(38, 105)"
      ]
     },
     "execution_count": 22,
     "metadata": {},
     "output_type": "execute_result"
    }
   ],
   "source": [
    "qas.shape"
   ]
  },
  {
   "cell_type": "code",
   "execution_count": 80,
   "metadata": {},
   "outputs": [],
   "source": [
    "to_df = []\n",
    "\n",
    "for user_ind in range(qas.shape[0]):\n",
    "    \n",
    "    user_ans = qas.loc[user_ind, :]\n",
    "    \n",
    "    if user_ind < mturk1_len:\n",
    "        rel_ans = answer_orders1\n",
    "        turk_v = 1\n",
    "    else:\n",
    "        rel_ans = answer_orders2\n",
    "        turk_v = 2\n",
    "    \n",
    "    for answer_ind, quest in enumerate(rel_ans): \n",
    "        \n",
    "        for q_ind, q in enumerate(quest): \n",
    "            abs_ind = answer_ind*len(quest)+q_ind\n",
    "            #print(abs_ind)\n",
    "            to_df.append([user_ind, turk_v, answer_ind, q[0].strip(), q[2], q[1], user_ans[abs_ind] ])\n",
    "res = pd.DataFrame(to_df, columns=['user_ind', 'turk_v', 'q_ind', 'word', 'ground_word', 'prob', 'score'])"
   ]
  },
  {
   "cell_type": "code",
   "execution_count": 81,
   "metadata": {},
   "outputs": [
    {
     "data": {
      "text/html": [
       "<div>\n",
       "<style scoped>\n",
       "    .dataframe tbody tr th:only-of-type {\n",
       "        vertical-align: middle;\n",
       "    }\n",
       "\n",
       "    .dataframe tbody tr th {\n",
       "        vertical-align: top;\n",
       "    }\n",
       "\n",
       "    .dataframe thead th {\n",
       "        text-align: right;\n",
       "    }\n",
       "</style>\n",
       "<table border=\"1\" class=\"dataframe\">\n",
       "  <thead>\n",
       "    <tr style=\"text-align: right;\">\n",
       "      <th></th>\n",
       "      <th>user_ind</th>\n",
       "      <th>turk_v</th>\n",
       "      <th>q_ind</th>\n",
       "      <th>word</th>\n",
       "      <th>ground_word</th>\n",
       "      <th>prob</th>\n",
       "      <th>score</th>\n",
       "    </tr>\n",
       "  </thead>\n",
       "  <tbody>\n",
       "    <tr>\n",
       "      <th>0</th>\n",
       "      <td>0</td>\n",
       "      <td>1</td>\n",
       "      <td>0</td>\n",
       "      <td>event</td>\n",
       "      <td>0</td>\n",
       "      <td>0.002131</td>\n",
       "      <td>3</td>\n",
       "    </tr>\n",
       "    <tr>\n",
       "      <th>1</th>\n",
       "      <td>0</td>\n",
       "      <td>1</td>\n",
       "      <td>0</td>\n",
       "      <td>things</td>\n",
       "      <td>0</td>\n",
       "      <td>0.000778</td>\n",
       "      <td>4</td>\n",
       "    </tr>\n",
       "    <tr>\n",
       "      <th>2</th>\n",
       "      <td>0</td>\n",
       "      <td>1</td>\n",
       "      <td>0</td>\n",
       "      <td>bad</td>\n",
       "      <td>0</td>\n",
       "      <td>0.000492</td>\n",
       "      <td>1</td>\n",
       "    </tr>\n",
       "    <tr>\n",
       "      <th>3</th>\n",
       "      <td>0</td>\n",
       "      <td>1</td>\n",
       "      <td>0</td>\n",
       "      <td>events</td>\n",
       "      <td>1</td>\n",
       "      <td>0.978269</td>\n",
       "      <td>5</td>\n",
       "    </tr>\n",
       "    <tr>\n",
       "      <th>4</th>\n",
       "      <td>0</td>\n",
       "      <td>1</td>\n",
       "      <td>0</td>\n",
       "      <td>circumstances</td>\n",
       "      <td>0</td>\n",
       "      <td>0.000509</td>\n",
       "      <td>5</td>\n",
       "    </tr>\n",
       "  </tbody>\n",
       "</table>\n",
       "</div>"
      ],
      "text/plain": [
       "   user_ind  turk_v  q_ind           word  ground_word      prob  score\n",
       "0         0       1      0          event            0  0.002131      3\n",
       "1         0       1      0         things            0  0.000778      4\n",
       "2         0       1      0            bad            0  0.000492      1\n",
       "3         0       1      0         events            1  0.978269      5\n",
       "4         0       1      0  circumstances            0  0.000509      5"
      ]
     },
     "execution_count": 81,
     "metadata": {},
     "output_type": "execute_result"
    }
   ],
   "source": [
    "res.head()"
   ]
  },
  {
   "cell_type": "code",
   "execution_count": 82,
   "metadata": {},
   "outputs": [
    {
     "data": {
      "text/html": [
       "<div>\n",
       "<style scoped>\n",
       "    .dataframe tbody tr th:only-of-type {\n",
       "        vertical-align: middle;\n",
       "    }\n",
       "\n",
       "    .dataframe tbody tr th {\n",
       "        vertical-align: top;\n",
       "    }\n",
       "\n",
       "    .dataframe thead th {\n",
       "        text-align: right;\n",
       "    }\n",
       "</style>\n",
       "<table border=\"1\" class=\"dataframe\">\n",
       "  <thead>\n",
       "    <tr style=\"text-align: right;\">\n",
       "      <th></th>\n",
       "      <th>user_ind</th>\n",
       "      <th>turk_v</th>\n",
       "      <th>q_ind</th>\n",
       "      <th>word</th>\n",
       "      <th>ground_word</th>\n",
       "      <th>prob</th>\n",
       "      <th>score</th>\n",
       "    </tr>\n",
       "  </thead>\n",
       "  <tbody>\n",
       "    <tr>\n",
       "      <th>3985</th>\n",
       "      <td>37</td>\n",
       "      <td>2</td>\n",
       "      <td>14</td>\n",
       "      <td>EVA</td>\n",
       "      <td>0</td>\n",
       "      <td>1.928819e-11</td>\n",
       "      <td>4</td>\n",
       "    </tr>\n",
       "    <tr>\n",
       "      <th>3986</th>\n",
       "      <td>37</td>\n",
       "      <td>2</td>\n",
       "      <td>14</td>\n",
       "      <td>people</td>\n",
       "      <td>1</td>\n",
       "      <td>1.442596e-02</td>\n",
       "      <td>5</td>\n",
       "    </tr>\n",
       "    <tr>\n",
       "      <th>3987</th>\n",
       "      <td>37</td>\n",
       "      <td>2</td>\n",
       "      <td>14</td>\n",
       "      <td>it</td>\n",
       "      <td>0</td>\n",
       "      <td>2.908443e-02</td>\n",
       "      <td>5</td>\n",
       "    </tr>\n",
       "    <tr>\n",
       "      <th>3988</th>\n",
       "      <td>37</td>\n",
       "      <td>2</td>\n",
       "      <td>14</td>\n",
       "      <td>this</td>\n",
       "      <td>0</td>\n",
       "      <td>3.677039e-02</td>\n",
       "      <td>4</td>\n",
       "    </tr>\n",
       "    <tr>\n",
       "      <th>3989</th>\n",
       "      <td>37</td>\n",
       "      <td>2</td>\n",
       "      <td>14</td>\n",
       "      <td>in</td>\n",
       "      <td>0</td>\n",
       "      <td>2.545756e-02</td>\n",
       "      <td>4</td>\n",
       "    </tr>\n",
       "  </tbody>\n",
       "</table>\n",
       "</div>"
      ],
      "text/plain": [
       "      user_ind  turk_v  q_ind    word  ground_word          prob  score\n",
       "3985        37       2     14     EVA            0  1.928819e-11      4\n",
       "3986        37       2     14  people            1  1.442596e-02      5\n",
       "3987        37       2     14      it            0  2.908443e-02      5\n",
       "3988        37       2     14    this            0  3.677039e-02      4\n",
       "3989        37       2     14      in            0  2.545756e-02      4"
      ]
     },
     "execution_count": 82,
     "metadata": {},
     "output_type": "execute_result"
    }
   ],
   "source": [
    "res.tail()"
   ]
  },
  {
   "cell_type": "code",
   "execution_count": 83,
   "metadata": {},
   "outputs": [],
   "source": [
    "from importlib import reload\n",
    "import utils\n",
    "\n",
    "reload(utils)\n",
    "from utils import *"
   ]
  },
  {
   "cell_type": "code",
   "execution_count": 84,
   "metadata": {},
   "outputs": [],
   "source": [
    "res['score'] = res['score'].astype(int)"
   ]
  },
  {
   "cell_type": "code",
   "execution_count": 85,
   "metadata": {},
   "outputs": [],
   "source": [
    "res['score'] = res['score']*2"
   ]
  },
  {
   "cell_type": "markdown",
   "metadata": {},
   "source": [
    "# Looking at the global results without any cleaning"
   ]
  },
  {
   "cell_type": "code",
   "execution_count": 86,
   "metadata": {},
   "outputs": [
    {
     "data": {
      "image/png": "[encoded data removed]",
      "text/plain": [
       "<Figure size 432x288 with 1 Axes>"
      ]
     },
     "metadata": {},
     "output_type": "display_data"
    }
   ],
   "source": [
    "# put a linear regression through this. \n",
    "\n",
    "import seaborn as sns; sns.set(color_codes=True)\n",
    "ax = sns.regplot(x=res['prob'], y=res['score'], color=\"g\")\n"
   ]
  },
  {
   "cell_type": "code",
   "execution_count": 87,
   "metadata": {},
   "outputs": [
    {
     "data": {
      "text/plain": [
       "Text(0, 0.5, 'Score')"
      ]
     },
     "execution_count": 87,
     "metadata": {},
     "output_type": "execute_result"
    },
    {
     "data": {
      "image/png": "[encoded data removed]",
      "text/plain": [
       "<Figure size 432x288 with 1 Axes>"
      ]
     },
     "metadata": {},
     "output_type": "display_data"
    }
   ],
   "source": [
    "means = res.groupby('score').mean()\n",
    "plt.scatter(means['prob'], means.index)\n",
    "plt.xlabel('Prob')\n",
    "plt.ylabel('Score')"
   ]
  },
  {
   "cell_type": "code",
   "execution_count": 88,
   "metadata": {},
   "outputs": [
    {
     "data": {
      "text/html": [
       "<div>\n",
       "<style scoped>\n",
       "    .dataframe tbody tr th:only-of-type {\n",
       "        vertical-align: middle;\n",
       "    }\n",
       "\n",
       "    .dataframe tbody tr th {\n",
       "        vertical-align: top;\n",
       "    }\n",
       "\n",
       "    .dataframe thead th {\n",
       "        text-align: right;\n",
       "    }\n",
       "</style>\n",
       "<table border=\"1\" class=\"dataframe\">\n",
       "  <thead>\n",
       "    <tr style=\"text-align: right;\">\n",
       "      <th></th>\n",
       "      <th>LocationLatitude</th>\n",
       "      <th>LocationLongitude</th>\n",
       "      <th>Q20</th>\n",
       "      <th>Random ID</th>\n",
       "      <th>Duration (in seconds)</th>\n",
       "    </tr>\n",
       "  </thead>\n",
       "  <tbody>\n",
       "    <tr>\n",
       "      <th>0</th>\n",
       "      <td>28.206207275390625</td>\n",
       "      <td>-80.68740081787109375</td>\n",
       "      <td>NaN</td>\n",
       "      <td>99887</td>\n",
       "      <td>5.366667</td>\n",
       "    </tr>\n",
       "    <tr>\n",
       "      <th>1</th>\n",
       "      <td>13.087799072265625</td>\n",
       "      <td>80.27850341796875</td>\n",
       "      <td>i like to do this type of work in future</td>\n",
       "      <td>52503</td>\n",
       "      <td>14.300000</td>\n",
       "    </tr>\n",
       "    <tr>\n",
       "      <th>2</th>\n",
       "      <td>39.5272064208984375</td>\n",
       "      <td>-119.91290283203125</td>\n",
       "      <td>Thank you</td>\n",
       "      <td>56916</td>\n",
       "      <td>11.783333</td>\n",
       "    </tr>\n",
       "    <tr>\n",
       "      <th>3</th>\n",
       "      <td>13.087799072265625</td>\n",
       "      <td>80.27850341796875</td>\n",
       "      <td>A22CN9X0JP1HM4</td>\n",
       "      <td>92914</td>\n",
       "      <td>9.800000</td>\n",
       "    </tr>\n",
       "    <tr>\n",
       "      <th>4</th>\n",
       "      <td>13.087799072265625</td>\n",
       "      <td>80.27850341796875</td>\n",
       "      <td>NICE</td>\n",
       "      <td>64874</td>\n",
       "      <td>19.450000</td>\n",
       "    </tr>\n",
       "    <tr>\n",
       "      <th>5</th>\n",
       "      <td>29.691802978515625</td>\n",
       "      <td>-95.6526031494140625</td>\n",
       "      <td>No comments</td>\n",
       "      <td>79189</td>\n",
       "      <td>6.000000</td>\n",
       "    </tr>\n",
       "    <tr>\n",
       "      <th>6</th>\n",
       "      <td>37.675201416015625</td>\n",
       "      <td>-120.946502685546875</td>\n",
       "      <td>no</td>\n",
       "      <td>96192</td>\n",
       "      <td>16.800000</td>\n",
       "    </tr>\n",
       "    <tr>\n",
       "      <th>7</th>\n",
       "      <td>13.087799072265625</td>\n",
       "      <td>80.27850341796875</td>\n",
       "      <td>A3PWNN3ITRK4X3</td>\n",
       "      <td>75978</td>\n",
       "      <td>7.316667</td>\n",
       "    </tr>\n",
       "    <tr>\n",
       "      <th>8</th>\n",
       "      <td>13.087799072265625</td>\n",
       "      <td>80.27850341796875</td>\n",
       "      <td>A3HZEWILX5PQSJ</td>\n",
       "      <td>26893</td>\n",
       "      <td>16.050000</td>\n",
       "    </tr>\n",
       "    <tr>\n",
       "      <th>9</th>\n",
       "      <td>13.087799072265625</td>\n",
       "      <td>80.27850341796875</td>\n",
       "      <td>IT IS INFORMATIVE</td>\n",
       "      <td>18522</td>\n",
       "      <td>27.416667</td>\n",
       "    </tr>\n",
       "    <tr>\n",
       "      <th>10</th>\n",
       "      <td>38.959197998046875</td>\n",
       "      <td>-94.596099853515625</td>\n",
       "      <td>NaN</td>\n",
       "      <td>37690</td>\n",
       "      <td>6.316667</td>\n",
       "    </tr>\n",
       "    <tr>\n",
       "      <th>11</th>\n",
       "      <td>35.46429443359375</td>\n",
       "      <td>-82.533599853515625</td>\n",
       "      <td>Thank you, thought it was pretty engaging.</td>\n",
       "      <td>42791</td>\n",
       "      <td>30.233333</td>\n",
       "    </tr>\n",
       "    <tr>\n",
       "      <th>12</th>\n",
       "      <td>29.8737945556640625</td>\n",
       "      <td>-95.5233001708984375</td>\n",
       "      <td>NaN</td>\n",
       "      <td>51027</td>\n",
       "      <td>15.550000</td>\n",
       "    </tr>\n",
       "    <tr>\n",
       "      <th>13</th>\n",
       "      <td>40.0731964111328125</td>\n",
       "      <td>-82.401702880859375</td>\n",
       "      <td>None, thanks!</td>\n",
       "      <td>45013</td>\n",
       "      <td>26.250000</td>\n",
       "    </tr>\n",
       "    <tr>\n",
       "      <th>14</th>\n",
       "      <td>38.760894775390625</td>\n",
       "      <td>-121.2866973876953125</td>\n",
       "      <td>good</td>\n",
       "      <td>61245</td>\n",
       "      <td>7.233333</td>\n",
       "    </tr>\n",
       "    <tr>\n",
       "      <th>15</th>\n",
       "      <td>47.6092071533203125</td>\n",
       "      <td>-122.3314056396484375</td>\n",
       "      <td>none</td>\n",
       "      <td>96232</td>\n",
       "      <td>12.600000</td>\n",
       "    </tr>\n",
       "    <tr>\n",
       "      <th>16</th>\n",
       "      <td>34.1846923828125</td>\n",
       "      <td>-79.7704010009765625</td>\n",
       "      <td>None</td>\n",
       "      <td>89261</td>\n",
       "      <td>14.450000</td>\n",
       "    </tr>\n",
       "    <tr>\n",
       "      <th>17</th>\n",
       "      <td>33.86810302734375</td>\n",
       "      <td>-118.18310546875</td>\n",
       "      <td>NaN</td>\n",
       "      <td>87713</td>\n",
       "      <td>12.750000</td>\n",
       "    </tr>\n",
       "    <tr>\n",
       "      <th>18</th>\n",
       "      <td>35.996795654296875</td>\n",
       "      <td>-78.89550018310546875</td>\n",
       "      <td>NaN</td>\n",
       "      <td>26630</td>\n",
       "      <td>6.866667</td>\n",
       "    </tr>\n",
       "    <tr>\n",
       "      <th>19</th>\n",
       "      <td>32.9510955810546875</td>\n",
       "      <td>-117.22409820556640625</td>\n",
       "      <td>no very interesting!</td>\n",
       "      <td>39682</td>\n",
       "      <td>6.900000</td>\n",
       "    </tr>\n",
       "    <tr>\n",
       "      <th>20</th>\n",
       "      <td>35.996795654296875</td>\n",
       "      <td>-78.89550018310546875</td>\n",
       "      <td>lots of upper case words - From Trenton</td>\n",
       "      <td>89534</td>\n",
       "      <td>12.683333</td>\n",
       "    </tr>\n",
       "    <tr>\n",
       "      <th>21</th>\n",
       "      <td>21.28900146484375</td>\n",
       "      <td>-157.80279541015625</td>\n",
       "      <td>No</td>\n",
       "      <td>26967</td>\n",
       "      <td>5.633333</td>\n",
       "    </tr>\n",
       "    <tr>\n",
       "      <th>22</th>\n",
       "      <td>34.1602020263671875</td>\n",
       "      <td>-97.181396484375</td>\n",
       "      <td>no</td>\n",
       "      <td>12285</td>\n",
       "      <td>8.116667</td>\n",
       "    </tr>\n",
       "    <tr>\n",
       "      <th>23</th>\n",
       "      <td>38.1103973388671875</td>\n",
       "      <td>-108.2845001220703125</td>\n",
       "      <td>NaN</td>\n",
       "      <td>14936</td>\n",
       "      <td>7.000000</td>\n",
       "    </tr>\n",
       "    <tr>\n",
       "      <th>24</th>\n",
       "      <td>34.847198486328125</td>\n",
       "      <td>-82.40599822998046875</td>\n",
       "      <td>Slightly confused that the sentences were not ...</td>\n",
       "      <td>88149</td>\n",
       "      <td>10.466667</td>\n",
       "    </tr>\n",
       "    <tr>\n",
       "      <th>25</th>\n",
       "      <td>42.553802490234375</td>\n",
       "      <td>-82.9185028076171875</td>\n",
       "      <td>NaN</td>\n",
       "      <td>81290</td>\n",
       "      <td>6.333333</td>\n",
       "    </tr>\n",
       "    <tr>\n",
       "      <th>26</th>\n",
       "      <td>29.8737945556640625</td>\n",
       "      <td>-95.5233001708984375</td>\n",
       "      <td>I enjoyed this hit</td>\n",
       "      <td>30614</td>\n",
       "      <td>7.666667</td>\n",
       "    </tr>\n",
       "    <tr>\n",
       "      <th>27</th>\n",
       "      <td>40.8730926513671875</td>\n",
       "      <td>-74.7425994873046875</td>\n",
       "      <td>no comments</td>\n",
       "      <td>85531</td>\n",
       "      <td>13.816667</td>\n",
       "    </tr>\n",
       "    <tr>\n",
       "      <th>28</th>\n",
       "      <td>32.4394989013671875</td>\n",
       "      <td>-97.2129974365234375</td>\n",
       "      <td>slightly low pay, but not terrible. interestin...</td>\n",
       "      <td>22606</td>\n",
       "      <td>7.250000</td>\n",
       "    </tr>\n",
       "    <tr>\n",
       "      <th>29</th>\n",
       "      <td>36.183502197265625</td>\n",
       "      <td>-94.17620086669921875</td>\n",
       "      <td>NaN</td>\n",
       "      <td>84583</td>\n",
       "      <td>9.466667</td>\n",
       "    </tr>\n",
       "    <tr>\n",
       "      <th>30</th>\n",
       "      <td>38.2689971923828125</td>\n",
       "      <td>-85.49340057373046875</td>\n",
       "      <td>Thank YOu</td>\n",
       "      <td>57519</td>\n",
       "      <td>10.466667</td>\n",
       "    </tr>\n",
       "    <tr>\n",
       "      <th>31</th>\n",
       "      <td>40.7592010498046875</td>\n",
       "      <td>-111.8874969482421875</td>\n",
       "      <td>NaN</td>\n",
       "      <td>91882</td>\n",
       "      <td>4.216667</td>\n",
       "    </tr>\n",
       "    <tr>\n",
       "      <th>32</th>\n",
       "      <td>39.5928955078125</td>\n",
       "      <td>-75.65149688720703125</td>\n",
       "      <td>A3KSOJADWCTUB6</td>\n",
       "      <td>72080</td>\n",
       "      <td>18.266667</td>\n",
       "    </tr>\n",
       "    <tr>\n",
       "      <th>33</th>\n",
       "      <td>30.6826019287109375</td>\n",
       "      <td>-94.8988037109375</td>\n",
       "      <td>No</td>\n",
       "      <td>91065</td>\n",
       "      <td>15.883333</td>\n",
       "    </tr>\n",
       "    <tr>\n",
       "      <th>34</th>\n",
       "      <td>38.518798828125</td>\n",
       "      <td>-82.72119903564453125</td>\n",
       "      <td>This was a fun experiment.  The example in the...</td>\n",
       "      <td>19627</td>\n",
       "      <td>19.866667</td>\n",
       "    </tr>\n",
       "    <tr>\n",
       "      <th>35</th>\n",
       "      <td>38.6840972900390625</td>\n",
       "      <td>-121.067596435546875</td>\n",
       "      <td>no comments</td>\n",
       "      <td>29526</td>\n",
       "      <td>10.166667</td>\n",
       "    </tr>\n",
       "    <tr>\n",
       "      <th>36</th>\n",
       "      <td>45.337799072265625</td>\n",
       "      <td>-122.5724029541015625</td>\n",
       "      <td>Hope this is what you wanted.</td>\n",
       "      <td>35705</td>\n",
       "      <td>8.616667</td>\n",
       "    </tr>\n",
       "    <tr>\n",
       "      <th>37</th>\n",
       "      <td>40.810302734375</td>\n",
       "      <td>-77.88800048828125</td>\n",
       "      <td>NaN</td>\n",
       "      <td>58467</td>\n",
       "      <td>9.616667</td>\n",
       "    </tr>\n",
       "  </tbody>\n",
       "</table>\n",
       "</div>"
      ],
      "text/plain": [
       "       LocationLatitude       LocationLongitude  \\\n",
       "0    28.206207275390625   -80.68740081787109375   \n",
       "1    13.087799072265625       80.27850341796875   \n",
       "2   39.5272064208984375     -119.91290283203125   \n",
       "3    13.087799072265625       80.27850341796875   \n",
       "4    13.087799072265625       80.27850341796875   \n",
       "5    29.691802978515625    -95.6526031494140625   \n",
       "6    37.675201416015625    -120.946502685546875   \n",
       "7    13.087799072265625       80.27850341796875   \n",
       "8    13.087799072265625       80.27850341796875   \n",
       "9    13.087799072265625       80.27850341796875   \n",
       "10   38.959197998046875     -94.596099853515625   \n",
       "11    35.46429443359375     -82.533599853515625   \n",
       "12  29.8737945556640625    -95.5233001708984375   \n",
       "13  40.0731964111328125     -82.401702880859375   \n",
       "14   38.760894775390625   -121.2866973876953125   \n",
       "15  47.6092071533203125   -122.3314056396484375   \n",
       "16     34.1846923828125    -79.7704010009765625   \n",
       "17    33.86810302734375        -118.18310546875   \n",
       "18   35.996795654296875   -78.89550018310546875   \n",
       "19  32.9510955810546875  -117.22409820556640625   \n",
       "20   35.996795654296875   -78.89550018310546875   \n",
       "21    21.28900146484375     -157.80279541015625   \n",
       "22  34.1602020263671875        -97.181396484375   \n",
       "23  38.1103973388671875   -108.2845001220703125   \n",
       "24   34.847198486328125   -82.40599822998046875   \n",
       "25   42.553802490234375    -82.9185028076171875   \n",
       "26  29.8737945556640625    -95.5233001708984375   \n",
       "27  40.8730926513671875    -74.7425994873046875   \n",
       "28  32.4394989013671875    -97.2129974365234375   \n",
       "29   36.183502197265625   -94.17620086669921875   \n",
       "30  38.2689971923828125   -85.49340057373046875   \n",
       "31  40.7592010498046875   -111.8874969482421875   \n",
       "32     39.5928955078125   -75.65149688720703125   \n",
       "33  30.6826019287109375       -94.8988037109375   \n",
       "34      38.518798828125   -82.72119903564453125   \n",
       "35  38.6840972900390625    -121.067596435546875   \n",
       "36   45.337799072265625   -122.5724029541015625   \n",
       "37      40.810302734375      -77.88800048828125   \n",
       "\n",
       "                                                  Q20 Random ID  \\\n",
       "0                                                 NaN     99887   \n",
       "1            i like to do this type of work in future     52503   \n",
       "2                                           Thank you     56916   \n",
       "3                                      A22CN9X0JP1HM4     92914   \n",
       "4                                                NICE     64874   \n",
       "5                                         No comments     79189   \n",
       "6                                                  no     96192   \n",
       "7                                      A3PWNN3ITRK4X3     75978   \n",
       "8                                      A3HZEWILX5PQSJ     26893   \n",
       "9                                   IT IS INFORMATIVE     18522   \n",
       "10                                                NaN     37690   \n",
       "11         Thank you, thought it was pretty engaging.     42791   \n",
       "12                                                NaN     51027   \n",
       "13                                      None, thanks!     45013   \n",
       "14                                               good     61245   \n",
       "15                                               none     96232   \n",
       "16                                               None     89261   \n",
       "17                                                NaN     87713   \n",
       "18                                                NaN     26630   \n",
       "19                               no very interesting!     39682   \n",
       "20           lots of upper case words - From Trenton      89534   \n",
       "21                                                 No     26967   \n",
       "22                                                 no     12285   \n",
       "23                                                NaN     14936   \n",
       "24  Slightly confused that the sentences were not ...     88149   \n",
       "25                                                NaN     81290   \n",
       "26                                 I enjoyed this hit     30614   \n",
       "27                                        no comments     85531   \n",
       "28  slightly low pay, but not terrible. interestin...     22606   \n",
       "29                                                NaN     84583   \n",
       "30                                          Thank YOu     57519   \n",
       "31                                                NaN     91882   \n",
       "32                                     A3KSOJADWCTUB6     72080   \n",
       "33                                                 No     91065   \n",
       "34  This was a fun experiment.  The example in the...     19627   \n",
       "35                                        no comments     29526   \n",
       "36                     Hope this is what you wanted.      35705   \n",
       "37                                                NaN     58467   \n",
       "\n",
       "    Duration (in seconds)  \n",
       "0                5.366667  \n",
       "1               14.300000  \n",
       "2               11.783333  \n",
       "3                9.800000  \n",
       "4               19.450000  \n",
       "5                6.000000  \n",
       "6               16.800000  \n",
       "7                7.316667  \n",
       "8               16.050000  \n",
       "9               27.416667  \n",
       "10               6.316667  \n",
       "11              30.233333  \n",
       "12              15.550000  \n",
       "13              26.250000  \n",
       "14               7.233333  \n",
       "15              12.600000  \n",
       "16              14.450000  \n",
       "17              12.750000  \n",
       "18               6.866667  \n",
       "19               6.900000  \n",
       "20              12.683333  \n",
       "21               5.633333  \n",
       "22               8.116667  \n",
       "23               7.000000  \n",
       "24              10.466667  \n",
       "25               6.333333  \n",
       "26               7.666667  \n",
       "27              13.816667  \n",
       "28               7.250000  \n",
       "29               9.466667  \n",
       "30              10.466667  \n",
       "31               4.216667  \n",
       "32              18.266667  \n",
       "33              15.883333  \n",
       "34              19.866667  \n",
       "35              10.166667  \n",
       "36               8.616667  \n",
       "37               9.616667  "
      ]
     },
     "execution_count": 88,
     "metadata": {},
     "output_type": "execute_result"
    }
   ],
   "source": [
    "mturk[['LocationLatitude',\n",
    " 'LocationLongitude', 'Q20', 'Random ID', 'Duration (in seconds)']]"
   ]
  },
  {
   "cell_type": "code",
   "execution_count": 89,
   "metadata": {},
   "outputs": [
    {
     "data": {
      "text/plain": [
       "'Slightly confused that the sentences were not complete. I tried to imagine all possibilities for how the sentenced could be written'"
      ]
     },
     "execution_count": 89,
     "metadata": {},
     "output_type": "execute_result"
    }
   ],
   "source": [
    "mturk.iloc[24]['Q20']"
   ]
  },
  {
   "cell_type": "markdown",
   "metadata": {},
   "source": [
    "# What surveyors should I pay?"
   ]
  },
  {
   "cell_type": "markdown",
   "metadata": {},
   "source": [
    "## What is the correlation matrix between them? "
   ]
  },
  {
   "cell_type": "code",
   "execution_count": 90,
   "metadata": {},
   "outputs": [],
   "source": [
    "user_vectors = []\n",
    "for user_ind in res['user_ind'].unique().tolist():\n",
    "    single_u = res[res['user_ind']==user_ind]['score'].astype(int)\n",
    "    # normalize to the unit vector\n",
    "    #print(np.dot(single_u,single_u))\n",
    "    single_u = single_u/ np.sqrt(np.dot(single_u,single_u))\n",
    "    #print(np.sqrt(np.dot(single_u,single_u)))\n",
    "    user_vectors.append(single_u)\n",
    "user_vectors = np.asarray(user_vectors) # each user is a row"
   ]
  },
  {
   "cell_type": "code",
   "execution_count": 91,
   "metadata": {},
   "outputs": [],
   "source": [
    "u_corr = np.corrcoef(user_vectors)\n",
    "u_corr;"
   ]
  },
  {
   "cell_type": "code",
   "execution_count": 92,
   "metadata": {},
   "outputs": [
    {
     "data": {
      "text/plain": [
       "<matplotlib.axes._subplots.AxesSubplot at 0x827c063c8>"
      ]
     },
     "execution_count": 92,
     "metadata": {},
     "output_type": "execute_result"
    },
    {
     "data": {
      "image/png": "[encoded data removed]",
      "text/plain": [
       "<Figure size 432x288 with 2 Axes>"
      ]
     },
     "metadata": {},
     "output_type": "display_data"
    }
   ],
   "source": [
    "sns.heatmap(u_corr)"
   ]
  },
  {
   "cell_type": "markdown",
   "metadata": {},
   "source": [
    "2, 5 and 6 all correlate well. This is the same as those that have high internal consistency (and also happen to give the highest scores). 6 is from Sacramento. 5 is from Houston. 2 is outside of Sacramento. 0 is from palm bay florida. and was almost internally consistent enough. correlated well with some of the others. "
   ]
  },
  {
   "cell_type": "markdown",
   "metadata": {},
   "source": [
    "## Looking at the scores from each one: "
   ]
  },
  {
   "cell_type": "code",
   "execution_count": 93,
   "metadata": {},
   "outputs": [
    {
     "data": {
      "text/plain": [
       "\"for user_ind in res['user_ind'].unique().tolist():\\n    single_u = res[res['user_ind']==user_ind]\\n    print('user ind:', user_ind)\\n    #overall output\\n    plt.scatter(single_u['prob'], single_u['score'])\\n    plt.xlabel('Prob')\\n    plt.ylabel('Score')\\n    plt.show()\\n    #mean output\\n    means = single_u.groupby('score').mean()\\n    plt.scatter(means['prob'], means.index)\\n    plt.xlabel('Prob')\\n    plt.ylabel('Score')\\n    plt.show()\\n    #did they get the same words with the same score? \\n\""
      ]
     },
     "execution_count": 93,
     "metadata": {},
     "output_type": "execute_result"
    }
   ],
   "source": [
    "'''for user_ind in res['user_ind'].unique().tolist():\n",
    "    single_u = res[res['user_ind']==user_ind]\n",
    "    print('user ind:', user_ind)\n",
    "    #overall output\n",
    "    plt.scatter(single_u['prob'], single_u['score'])\n",
    "    plt.xlabel('Prob')\n",
    "    plt.ylabel('Score')\n",
    "    plt.show()\n",
    "    #mean output\n",
    "    means = single_u.groupby('score').mean()\n",
    "    plt.scatter(means['prob'], means.index)\n",
    "    plt.xlabel('Prob')\n",
    "    plt.ylabel('Score')\n",
    "    plt.show()\n",
    "    #did they get the same words with the same score? \n",
    "'''"
   ]
  },
  {
   "cell_type": "code",
   "execution_count": 94,
   "metadata": {},
   "outputs": [
    {
     "name": "stdout",
     "output_type": "stream",
     "text": [
      "user ind 0 | internal consistent? False | percent int con 0.8666666666666667\n",
      "user ind 1 | internal consistent? False | percent int con 0.6\n",
      "user ind 2 | internal consistent? False | percent int con 0.9333333333333333\n",
      "user ind 3 | internal consistent? False | percent int con 0.6\n",
      "user ind 4 | internal consistent? False | percent int con 0.6\n",
      "user ind 5 | internal consistent? False | percent int con 0.9333333333333333\n",
      "user ind 6 | internal consistent? False | percent int con 0.9333333333333333\n",
      "user ind 7 | internal consistent? False | percent int con 0.8666666666666667\n",
      "user ind 8 | internal consistent? False | percent int con 0.5333333333333333\n",
      "user ind 9 | internal consistent? False | percent int con 0.6666666666666666\n",
      "user ind 10 | internal consistent? False | percent int con 0.9333333333333333\n",
      "user ind 11 | internal consistent? False | percent int con 0.9333333333333333\n",
      "user ind 12 | internal consistent? False | percent int con 0.9333333333333333\n",
      "user ind 13 | internal consistent? False | percent int con 0.9333333333333333\n",
      "user ind 14 | internal consistent? False | percent int con 0.5333333333333333\n",
      "user ind 15 | internal consistent? False | percent int con 0.9333333333333333\n",
      "user ind 16 | internal consistent? False | percent int con 0.6\n",
      "user ind 17 | internal consistent? False | percent int con 0.5333333333333333\n",
      "user ind 18 | internal consistent? False | percent int con 0.7333333333333333\n",
      "user ind 19 | internal consistent? False | percent int con 0.9333333333333333\n",
      "user ind 20 | internal consistent? True | percent int con 1.0\n",
      "user ind 21 | internal consistent? False | percent int con 0.9333333333333333\n",
      "user ind 22 | internal consistent? False | percent int con 0.9333333333333333\n",
      "user ind 23 | internal consistent? True | percent int con 1.0\n",
      "user ind 24 | internal consistent? True | percent int con 1.0\n",
      "user ind 25 | internal consistent? False | percent int con 0.8666666666666667\n",
      "user ind 26 | internal consistent? False | percent int con 0.9333333333333333\n",
      "user ind 27 | internal consistent? True | percent int con 1.0\n",
      "user ind 28 | internal consistent? True | percent int con 1.0\n",
      "user ind 29 | internal consistent? True | percent int con 1.0\n",
      "user ind 30 | internal consistent? False | percent int con 0.9333333333333333\n",
      "user ind 31 | internal consistent? False | percent int con 0.4666666666666667\n",
      "user ind 32 | internal consistent? False | percent int con 0.4666666666666667\n",
      "user ind 33 | internal consistent? True | percent int con 1.0\n",
      "user ind 34 | internal consistent? False | percent int con 0.9333333333333333\n",
      "user ind 35 | internal consistent? True | percent int con 1.0\n",
      "user ind 36 | internal consistent? False | percent int con 0.9333333333333333\n",
      "user ind 37 | internal consistent? False | percent int con 0.8666666666666667\n",
      "bad users are:  [0, 1, 3, 4, 7, 8, 9, 14, 16, 17, 18, 25, 31, 32, 37]\n"
     ]
    }
   ],
   "source": [
    "perc_const_threshold = 0.9\n",
    "\n",
    "def dup_in_col(x):\n",
    "    dupe_mask = x['word'].duplicated(keep=False)\n",
    "    dupe_words = x['word'][dupe_mask]\n",
    "    #print(dupe_words)\n",
    "    for w in dupe_words.unique().tolist():\n",
    "        same_prob = len(x[x['word']==w]['score'].unique().tolist())==1\n",
    "        #print(x[x['word']==w]['score'])\n",
    "        #print('same score', same_prob)\n",
    "        if same_prob: \n",
    "            continue\n",
    "        else: \n",
    "            return False\n",
    "    return True\n",
    "\n",
    "bad_users = []\n",
    "\n",
    "for user_ind in res['user_ind'].unique().tolist():\n",
    "    single_u = res[res['user_ind']==user_ind]\n",
    "    same_probs = single_u.groupby('q_ind').apply(dup_in_col )\n",
    "    int_cons = same_probs.sum() == len(same_probs)\n",
    "    perc_int_cons = same_probs.sum()/len(same_probs)\n",
    "    \n",
    "    print('user ind', user_ind, '| internal consistent?', int_cons, '| percent int con', perc_int_cons)\n",
    "    \n",
    "    if perc_int_cons< perc_const_threshold:\n",
    "        bad_users.append(user_ind)\n",
    "print('bad users are: ', bad_users)"
   ]
  },
  {
   "cell_type": "code",
   "execution_count": 95,
   "metadata": {},
   "outputs": [
    {
     "data": {
      "text/html": [
       "<div>\n",
       "<style scoped>\n",
       "    .dataframe tbody tr th:only-of-type {\n",
       "        vertical-align: middle;\n",
       "    }\n",
       "\n",
       "    .dataframe tbody tr th {\n",
       "        vertical-align: top;\n",
       "    }\n",
       "\n",
       "    .dataframe thead th {\n",
       "        text-align: right;\n",
       "    }\n",
       "</style>\n",
       "<table border=\"1\" class=\"dataframe\">\n",
       "  <thead>\n",
       "    <tr style=\"text-align: right;\">\n",
       "      <th></th>\n",
       "      <th>Random ID</th>\n",
       "    </tr>\n",
       "  </thead>\n",
       "  <tbody>\n",
       "    <tr>\n",
       "      <th>0</th>\n",
       "      <td>99887</td>\n",
       "    </tr>\n",
       "    <tr>\n",
       "      <th>1</th>\n",
       "      <td>52503</td>\n",
       "    </tr>\n",
       "    <tr>\n",
       "      <th>3</th>\n",
       "      <td>92914</td>\n",
       "    </tr>\n",
       "    <tr>\n",
       "      <th>4</th>\n",
       "      <td>64874</td>\n",
       "    </tr>\n",
       "    <tr>\n",
       "      <th>7</th>\n",
       "      <td>75978</td>\n",
       "    </tr>\n",
       "    <tr>\n",
       "      <th>8</th>\n",
       "      <td>26893</td>\n",
       "    </tr>\n",
       "    <tr>\n",
       "      <th>9</th>\n",
       "      <td>18522</td>\n",
       "    </tr>\n",
       "    <tr>\n",
       "      <th>14</th>\n",
       "      <td>61245</td>\n",
       "    </tr>\n",
       "    <tr>\n",
       "      <th>16</th>\n",
       "      <td>89261</td>\n",
       "    </tr>\n",
       "    <tr>\n",
       "      <th>17</th>\n",
       "      <td>87713</td>\n",
       "    </tr>\n",
       "    <tr>\n",
       "      <th>18</th>\n",
       "      <td>26630</td>\n",
       "    </tr>\n",
       "    <tr>\n",
       "      <th>25</th>\n",
       "      <td>81290</td>\n",
       "    </tr>\n",
       "    <tr>\n",
       "      <th>31</th>\n",
       "      <td>91882</td>\n",
       "    </tr>\n",
       "    <tr>\n",
       "      <th>32</th>\n",
       "      <td>72080</td>\n",
       "    </tr>\n",
       "    <tr>\n",
       "      <th>37</th>\n",
       "      <td>58467</td>\n",
       "    </tr>\n",
       "  </tbody>\n",
       "</table>\n",
       "</div>"
      ],
      "text/plain": [
       "   Random ID\n",
       "0      99887\n",
       "1      52503\n",
       "3      92914\n",
       "4      64874\n",
       "7      75978\n",
       "8      26893\n",
       "9      18522\n",
       "14     61245\n",
       "16     89261\n",
       "17     87713\n",
       "18     26630\n",
       "25     81290\n",
       "31     91882\n",
       "32     72080\n",
       "37     58467"
      ]
     },
     "execution_count": 95,
     "metadata": {},
     "output_type": "execute_result"
    }
   ],
   "source": [
    "mturk.iloc[np.asarray(bad_users)][['Random ID']]"
   ]
  },
  {
   "cell_type": "markdown",
   "metadata": {},
   "source": [
    "### How did they rate the ground truth words? "
   ]
  },
  {
   "cell_type": "code",
   "execution_count": 96,
   "metadata": {},
   "outputs": [
    {
     "data": {
      "text/plain": [
       "\"g_truth = pickle.load(open('prob_slice_replaceable_comparisons_answers_list.pickle','rb'))\\nall_gwords = []\\nfor q in g_truth: \\n    for e in q:\\n        if e[2]==1:\\n            all_gwords.append(e[0].strip())\""
      ]
     },
     "execution_count": 96,
     "metadata": {},
     "output_type": "execute_result"
    }
   ],
   "source": [
    "'''g_truth = pickle.load(open('prob_slice_replaceable_comparisons_answers_list.pickle','rb'))\n",
    "all_gwords = []\n",
    "for q in g_truth: \n",
    "    for e in q:\n",
    "        if e[2]==1:\n",
    "            all_gwords.append(e[0].strip())'''"
   ]
  },
  {
   "cell_type": "code",
   "execution_count": 97,
   "metadata": {},
   "outputs": [
    {
     "data": {
      "image/png": "[encoded data removed]",
      "text/plain": [
       "<Figure size 960x640 with 1 Axes>"
      ]
     },
     "metadata": {},
     "output_type": "display_data"
    }
   ],
   "source": [
    "mean_gw_scores = []\n",
    "\n",
    "threshold = 6.5\n",
    "\n",
    "for user_ind in res['user_ind'].unique().tolist():\n",
    "    single_u = res[res['user_ind']==user_ind]\n",
    "    gw_mask = single_u['ground_word'].astype(bool)\n",
    "    #print(single_u)\n",
    "    #print(gw_mask)\n",
    "    gw_scores = single_u[gw_mask]['score']\n",
    "    #print('user ind', user_ind, 'mean g word score', gw_scores.mean(), 'scores for ground words', gw_scores)\n",
    "    mean_gw_scores.append(gw_scores.mean())\n",
    "    if gw_scores.mean()<threshold:\n",
    "        \n",
    "        bad_users.append(user_ind)\n",
    "plt.figure(num=None, figsize=(12, 8), dpi=80, facecolor='w', edgecolor='k')\n",
    "\n",
    "\n",
    "plt.scatter(range(len(mean_gw_scores)), mean_gw_scores)\n",
    "plt.axhline(threshold)\n",
    "plt.xticks(np.arange(len(mean_gw_scores)))\n",
    "plt.show()"
   ]
  },
  {
   "cell_type": "markdown",
   "metadata": {},
   "source": [
    "#### all of the good ones in this case are above 7 as they should be for the ground words. "
   ]
  },
  {
   "cell_type": "code",
   "execution_count": 98,
   "metadata": {},
   "outputs": [
    {
     "data": {
      "text/plain": [
       "'18522'"
      ]
     },
     "execution_count": 98,
     "metadata": {},
     "output_type": "execute_result"
    }
   ],
   "source": [
    "mturk.loc[9, 'Random ID']"
   ]
  },
  {
   "cell_type": "markdown",
   "metadata": {},
   "source": [
    "## removing ground words if they already appear in the list to avoid double counting. "
   ]
  },
  {
   "cell_type": "code",
   "execution_count": 99,
   "metadata": {},
   "outputs": [
    {
     "data": {
      "text/html": [
       "<div>\n",
       "<style scoped>\n",
       "    .dataframe tbody tr th:only-of-type {\n",
       "        vertical-align: middle;\n",
       "    }\n",
       "\n",
       "    .dataframe tbody tr th {\n",
       "        vertical-align: top;\n",
       "    }\n",
       "\n",
       "    .dataframe thead th {\n",
       "        text-align: right;\n",
       "    }\n",
       "</style>\n",
       "<table border=\"1\" class=\"dataframe\">\n",
       "  <thead>\n",
       "    <tr style=\"text-align: right;\">\n",
       "      <th></th>\n",
       "      <th>user_ind</th>\n",
       "      <th>turk_v</th>\n",
       "      <th>q_ind</th>\n",
       "      <th>word</th>\n",
       "      <th>ground_word</th>\n",
       "      <th>prob</th>\n",
       "      <th>score</th>\n",
       "    </tr>\n",
       "  </thead>\n",
       "  <tbody>\n",
       "    <tr>\n",
       "      <th>0</th>\n",
       "      <td>0</td>\n",
       "      <td>1</td>\n",
       "      <td>0</td>\n",
       "      <td>event</td>\n",
       "      <td>0</td>\n",
       "      <td>0.002131</td>\n",
       "      <td>6</td>\n",
       "    </tr>\n",
       "    <tr>\n",
       "      <th>1</th>\n",
       "      <td>0</td>\n",
       "      <td>1</td>\n",
       "      <td>0</td>\n",
       "      <td>things</td>\n",
       "      <td>0</td>\n",
       "      <td>0.000778</td>\n",
       "      <td>8</td>\n",
       "    </tr>\n",
       "    <tr>\n",
       "      <th>2</th>\n",
       "      <td>0</td>\n",
       "      <td>1</td>\n",
       "      <td>0</td>\n",
       "      <td>bad</td>\n",
       "      <td>0</td>\n",
       "      <td>0.000492</td>\n",
       "      <td>2</td>\n",
       "    </tr>\n",
       "    <tr>\n",
       "      <th>3</th>\n",
       "      <td>0</td>\n",
       "      <td>1</td>\n",
       "      <td>0</td>\n",
       "      <td>events</td>\n",
       "      <td>1</td>\n",
       "      <td>0.978269</td>\n",
       "      <td>10</td>\n",
       "    </tr>\n",
       "    <tr>\n",
       "      <th>4</th>\n",
       "      <td>0</td>\n",
       "      <td>1</td>\n",
       "      <td>0</td>\n",
       "      <td>circumstances</td>\n",
       "      <td>0</td>\n",
       "      <td>0.000509</td>\n",
       "      <td>10</td>\n",
       "    </tr>\n",
       "  </tbody>\n",
       "</table>\n",
       "</div>"
      ],
      "text/plain": [
       "   user_ind  turk_v  q_ind           word  ground_word      prob  score\n",
       "0         0       1      0          event            0  0.002131      6\n",
       "1         0       1      0         things            0  0.000778      8\n",
       "2         0       1      0            bad            0  0.000492      2\n",
       "3         0       1      0         events            1  0.978269     10\n",
       "4         0       1      0  circumstances            0  0.000509     10"
      ]
     },
     "execution_count": 99,
     "metadata": {},
     "output_type": "execute_result"
    }
   ],
   "source": [
    "res.head()"
   ]
  },
  {
   "cell_type": "code",
   "execution_count": 100,
   "metadata": {},
   "outputs": [
    {
     "data": {
      "text/plain": [
       "user_ind  q_ind\n",
       "0         0           Int64Index([3], dtype='int64')\n",
       "          1           Int64Index([8], dtype='int64')\n",
       "          2          Int64Index([20], dtype='int64')\n",
       "          3          Int64Index([24], dtype='int64')\n",
       "          4            Int64Index([], dtype='int64')\n",
       "          5          Int64Index([40], dtype='int64')\n",
       "          6            Int64Index([], dtype='int64')\n",
       "          7            Int64Index([], dtype='int64')\n",
       "          8          Int64Index([59], dtype='int64')\n",
       "          9            Int64Index([], dtype='int64')\n",
       "          10           Int64Index([], dtype='int64')\n",
       "          11           Int64Index([], dtype='int64')\n",
       "          12           Int64Index([], dtype='int64')\n",
       "          13           Int64Index([], dtype='int64')\n",
       "          14        Int64Index([101], dtype='int64')\n",
       "1         0         Int64Index([108], dtype='int64')\n",
       "          1         Int64Index([113], dtype='int64')\n",
       "          2         Int64Index([125], dtype='int64')\n",
       "          3         Int64Index([129], dtype='int64')\n",
       "          4            Int64Index([], dtype='int64')\n",
       "          5         Int64Index([145], dtype='int64')\n",
       "          6            Int64Index([], dtype='int64')\n",
       "          7            Int64Index([], dtype='int64')\n",
       "          8         Int64Index([164], dtype='int64')\n",
       "          9            Int64Index([], dtype='int64')\n",
       "          10           Int64Index([], dtype='int64')\n",
       "          11           Int64Index([], dtype='int64')\n",
       "          12           Int64Index([], dtype='int64')\n",
       "          13           Int64Index([], dtype='int64')\n",
       "          14        Int64Index([206], dtype='int64')\n",
       "                                 ...                \n",
       "36        0            Int64Index([], dtype='int64')\n",
       "          1        Int64Index([3793], dtype='int64')\n",
       "          2        Int64Index([3794], dtype='int64')\n",
       "          3        Int64Index([3807], dtype='int64')\n",
       "          4        Int64Index([3812], dtype='int64')\n",
       "          5            Int64Index([], dtype='int64')\n",
       "          6        Int64Index([3824], dtype='int64')\n",
       "          7        Int64Index([3833], dtype='int64')\n",
       "          8        Int64Index([3839], dtype='int64')\n",
       "          9        Int64Index([3848], dtype='int64')\n",
       "          10       Int64Index([3853], dtype='int64')\n",
       "          11       Int64Index([3859], dtype='int64')\n",
       "          12           Int64Index([], dtype='int64')\n",
       "          13           Int64Index([], dtype='int64')\n",
       "          14           Int64Index([], dtype='int64')\n",
       "37        0            Int64Index([], dtype='int64')\n",
       "          1        Int64Index([3898], dtype='int64')\n",
       "          2        Int64Index([3899], dtype='int64')\n",
       "          3        Int64Index([3912], dtype='int64')\n",
       "          4        Int64Index([3917], dtype='int64')\n",
       "          5            Int64Index([], dtype='int64')\n",
       "          6        Int64Index([3929], dtype='int64')\n",
       "          7        Int64Index([3938], dtype='int64')\n",
       "          8        Int64Index([3944], dtype='int64')\n",
       "          9        Int64Index([3953], dtype='int64')\n",
       "          10       Int64Index([3958], dtype='int64')\n",
       "          11       Int64Index([3964], dtype='int64')\n",
       "          12           Int64Index([], dtype='int64')\n",
       "          13           Int64Index([], dtype='int64')\n",
       "          14           Int64Index([], dtype='int64')\n",
       "Length: 570, dtype: object"
      ]
     },
     "execution_count": 100,
     "metadata": {},
     "output_type": "execute_result"
    }
   ],
   "source": [
    "def gword_dupe_ground(x):\n",
    "    #print(x)\n",
    "    #print(x.index)\n",
    "    #rows_to_drop = []\n",
    "    dupe_mask = x['word'].duplicated(keep=False)\n",
    "    dupe_x = x[dupe_mask]\n",
    "    dupe_word_indexes = dupe_x[dupe_x['ground_word'].astype(bool)].index\n",
    "    #print(dupe_word_indexes)\n",
    "    #print(dupe_x['word'])\n",
    "    return dupe_word_indexes\n",
    "    '''#print(dupe_words)\n",
    "    for w in dupe_words.unique().tolist(): # going through each of teh dupe words. \n",
    "        \n",
    "        x[x['ground_word']]\n",
    "        \n",
    "        same_prob = len(x[x['word']==w]['prob'].unique().tolist())==1\n",
    "        #print(x[x['word']==w]['score'])\n",
    "        #print('same score', same_prob)\n",
    "        if not same_prob: # removing ground truth words with a lower prob\n",
    "            ind_mask = mask = x['word']==w\n",
    "            # drop the smaller one\n",
    "            smaller = np.argmin(x[ind_mask]['prob'])\n",
    "            rows_to_drop.append( smaller )\n",
    "            # np.arange(len(x['word']))\n",
    "        else: # removing the first one to avoid double counting \n",
    "            ind_mask = mask = x['word']==w\n",
    "            # drop the smaller one\n",
    "            smaller = np.argmin(x[ind_mask].index)\n",
    "            rows_to_drop.append( smaller )\n",
    "    return rows_to_drop'''\n",
    "\n",
    "res_rows_to_drop = res.groupby(['user_ind','q_ind']).apply(gword_dupe_ground)\n",
    "res_rows_to_drop\n",
    "\n"
   ]
  },
  {
   "cell_type": "code",
   "execution_count": 101,
   "metadata": {},
   "outputs": [],
   "source": [
    "temp_rtod = []\n",
    "for r in res_rows_to_drop:\n",
    "    #print(r)\n",
    "    for i in r: \n",
    "        try:\n",
    "            temp_rtod.append(i)\n",
    "        except:\n",
    "            pass\n",
    "temp_rtod;"
   ]
  },
  {
   "cell_type": "code",
   "execution_count": 102,
   "metadata": {},
   "outputs": [
    {
     "data": {
      "text/plain": [
       "array([   3,    8,   20,   24,   40,   59,  101,  108,  113,  125,  129,\n",
       "        145,  164,  206,  213,  218,  230,  234,  250,  269,  311,  318,\n",
       "        323,  335,  339,  355,  374,  416,  423,  428,  440,  444,  460,\n",
       "        479,  521,  528,  533,  545,  549,  565,  584,  626,  633,  638,\n",
       "        650,  654,  670,  689,  731,  738,  743,  755,  759,  775,  794,\n",
       "        836,  843,  848,  860,  864,  880,  899,  941,  948,  953,  965,\n",
       "        969,  985, 1004, 1046, 1053, 1058, 1070, 1074, 1090, 1109, 1151,\n",
       "       1158, 1163, 1175, 1179, 1195, 1214, 1256, 1263, 1268, 1280, 1284,\n",
       "       1300, 1319, 1361, 1368, 1373, 1385, 1389, 1405, 1424, 1466, 1473,\n",
       "       1478, 1490, 1494, 1510, 1529, 1571, 1578, 1583, 1595, 1599, 1615,\n",
       "       1634, 1676, 1683, 1688, 1700, 1704, 1720, 1739, 1781, 1788, 1793,\n",
       "       1805, 1809, 1825, 1844, 1886, 1893, 1898, 1910, 1914, 1930, 1949,\n",
       "       1991, 1998, 2003, 2015, 2019, 2035, 2054, 2096, 2113, 2114, 2127,\n",
       "       2132, 2144, 2153, 2159, 2168, 2173, 2179, 2218, 2219, 2232, 2237,\n",
       "       2249, 2258, 2264, 2273, 2278, 2284, 2323, 2324, 2337, 2342, 2354,\n",
       "       2363, 2369, 2378, 2383, 2389, 2428, 2429, 2442, 2447, 2459, 2468,\n",
       "       2474, 2483, 2488, 2494, 2533, 2534, 2547, 2552, 2564, 2573, 2579,\n",
       "       2588, 2593, 2599, 2638, 2639, 2652, 2657, 2669, 2678, 2684, 2693,\n",
       "       2698, 2704, 2743, 2744, 2757, 2762, 2774, 2783, 2789, 2798, 2803,\n",
       "       2809, 2848, 2849, 2862, 2867, 2879, 2888, 2894, 2903, 2908, 2914,\n",
       "       2953, 2954, 2967, 2972, 2984, 2993, 2999, 3008, 3013, 3019, 3058,\n",
       "       3059, 3072, 3077, 3089, 3098, 3104, 3113, 3118, 3124, 3163, 3164,\n",
       "       3177, 3182, 3194, 3203, 3209, 3218, 3223, 3229, 3268, 3269, 3282,\n",
       "       3287, 3299, 3308, 3314, 3323, 3328, 3334, 3373, 3374, 3387, 3392,\n",
       "       3404, 3413, 3419, 3428, 3433, 3439, 3478, 3479, 3492, 3497, 3509,\n",
       "       3518, 3524, 3533, 3538, 3544, 3583, 3584, 3597, 3602, 3614, 3623,\n",
       "       3629, 3638, 3643, 3649, 3688, 3689, 3702, 3707, 3719, 3728, 3734,\n",
       "       3743, 3748, 3754, 3793, 3794, 3807, 3812, 3824, 3833, 3839, 3848,\n",
       "       3853, 3859, 3898, 3899, 3912, 3917, 3929, 3938, 3944, 3953, 3958,\n",
       "       3964])"
      ]
     },
     "execution_count": 102,
     "metadata": {},
     "output_type": "execute_result"
    }
   ],
   "source": [
    "res_rows_to_drop = np.asarray(temp_rtod)\n",
    "res_rows_to_drop"
   ]
  },
  {
   "cell_type": "code",
   "execution_count": 103,
   "metadata": {},
   "outputs": [],
   "source": [
    "c_res = res.drop(res_rows_to_drop, axis=0,)"
   ]
  },
  {
   "cell_type": "code",
   "execution_count": 104,
   "metadata": {},
   "outputs": [
    {
     "data": {
      "text/html": [
       "<div>\n",
       "<style scoped>\n",
       "    .dataframe tbody tr th:only-of-type {\n",
       "        vertical-align: middle;\n",
       "    }\n",
       "\n",
       "    .dataframe tbody tr th {\n",
       "        vertical-align: top;\n",
       "    }\n",
       "\n",
       "    .dataframe thead th {\n",
       "        text-align: right;\n",
       "    }\n",
       "</style>\n",
       "<table border=\"1\" class=\"dataframe\">\n",
       "  <thead>\n",
       "    <tr style=\"text-align: right;\">\n",
       "      <th></th>\n",
       "      <th>user_ind</th>\n",
       "      <th>turk_v</th>\n",
       "      <th>q_ind</th>\n",
       "      <th>word</th>\n",
       "      <th>ground_word</th>\n",
       "      <th>prob</th>\n",
       "      <th>score</th>\n",
       "    </tr>\n",
       "  </thead>\n",
       "  <tbody>\n",
       "    <tr>\n",
       "      <th>31</th>\n",
       "      <td>0</td>\n",
       "      <td>1</td>\n",
       "      <td>4</td>\n",
       "      <td>creek</td>\n",
       "      <td>1</td>\n",
       "      <td>0.000046</td>\n",
       "      <td>4</td>\n",
       "    </tr>\n",
       "    <tr>\n",
       "      <th>43</th>\n",
       "      <td>0</td>\n",
       "      <td>1</td>\n",
       "      <td>6</td>\n",
       "      <td>adept</td>\n",
       "      <td>1</td>\n",
       "      <td>0.000358</td>\n",
       "      <td>4</td>\n",
       "    </tr>\n",
       "    <tr>\n",
       "      <th>53</th>\n",
       "      <td>0</td>\n",
       "      <td>1</td>\n",
       "      <td>7</td>\n",
       "      <td>shock</td>\n",
       "      <td>1</td>\n",
       "      <td>0.016271</td>\n",
       "      <td>10</td>\n",
       "    </tr>\n",
       "    <tr>\n",
       "      <th>64</th>\n",
       "      <td>0</td>\n",
       "      <td>1</td>\n",
       "      <td>9</td>\n",
       "      <td>novel</td>\n",
       "      <td>1</td>\n",
       "      <td>0.000234</td>\n",
       "      <td>4</td>\n",
       "    </tr>\n",
       "    <tr>\n",
       "      <th>76</th>\n",
       "      <td>0</td>\n",
       "      <td>1</td>\n",
       "      <td>10</td>\n",
       "      <td>secretaries</td>\n",
       "      <td>1</td>\n",
       "      <td>0.000174</td>\n",
       "      <td>10</td>\n",
       "    </tr>\n",
       "  </tbody>\n",
       "</table>\n",
       "</div>"
      ],
      "text/plain": [
       "    user_ind  turk_v  q_ind         word  ground_word      prob  score\n",
       "31         0       1      4        creek            1  0.000046      4\n",
       "43         0       1      6        adept            1  0.000358      4\n",
       "53         0       1      7        shock            1  0.016271     10\n",
       "64         0       1      9        novel            1  0.000234      4\n",
       "76         0       1     10  secretaries            1  0.000174     10"
      ]
     },
     "execution_count": 104,
     "metadata": {},
     "output_type": "execute_result"
    }
   ],
   "source": [
    "c_res[c_res['ground_word'].astype(bool)].head() # checking that there are some \n",
    "# ground words that remain"
   ]
  },
  {
   "cell_type": "markdown",
   "metadata": {},
   "source": [
    "## Prob assigned by model to ground words"
   ]
  },
  {
   "cell_type": "code",
   "execution_count": 105,
   "metadata": {},
   "outputs": [
    {
     "data": {
      "text/html": [
       "<div>\n",
       "<style scoped>\n",
       "    .dataframe tbody tr th:only-of-type {\n",
       "        vertical-align: middle;\n",
       "    }\n",
       "\n",
       "    .dataframe tbody tr th {\n",
       "        vertical-align: top;\n",
       "    }\n",
       "\n",
       "    .dataframe thead th {\n",
       "        text-align: right;\n",
       "    }\n",
       "</style>\n",
       "<table border=\"1\" class=\"dataframe\">\n",
       "  <thead>\n",
       "    <tr style=\"text-align: right;\">\n",
       "      <th></th>\n",
       "      <th>user_ind</th>\n",
       "      <th>turk_v</th>\n",
       "      <th>q_ind</th>\n",
       "      <th>word</th>\n",
       "      <th>ground_word</th>\n",
       "      <th>prob</th>\n",
       "      <th>score</th>\n",
       "    </tr>\n",
       "  </thead>\n",
       "  <tbody>\n",
       "    <tr>\n",
       "      <th>3</th>\n",
       "      <td>0</td>\n",
       "      <td>1</td>\n",
       "      <td>0</td>\n",
       "      <td>events</td>\n",
       "      <td>1</td>\n",
       "      <td>0.978269</td>\n",
       "      <td>10</td>\n",
       "    </tr>\n",
       "    <tr>\n",
       "      <th>8</th>\n",
       "      <td>0</td>\n",
       "      <td>1</td>\n",
       "      <td>1</td>\n",
       "      <td>would</td>\n",
       "      <td>1</td>\n",
       "      <td>0.042942</td>\n",
       "      <td>6</td>\n",
       "    </tr>\n",
       "    <tr>\n",
       "      <th>20</th>\n",
       "      <td>0</td>\n",
       "      <td>1</td>\n",
       "      <td>2</td>\n",
       "      <td>edge</td>\n",
       "      <td>1</td>\n",
       "      <td>0.279860</td>\n",
       "      <td>10</td>\n",
       "    </tr>\n",
       "    <tr>\n",
       "      <th>24</th>\n",
       "      <td>0</td>\n",
       "      <td>1</td>\n",
       "      <td>3</td>\n",
       "      <td>a</td>\n",
       "      <td>1</td>\n",
       "      <td>0.416199</td>\n",
       "      <td>10</td>\n",
       "    </tr>\n",
       "    <tr>\n",
       "      <th>31</th>\n",
       "      <td>0</td>\n",
       "      <td>1</td>\n",
       "      <td>4</td>\n",
       "      <td>creek</td>\n",
       "      <td>1</td>\n",
       "      <td>0.000046</td>\n",
       "      <td>4</td>\n",
       "    </tr>\n",
       "    <tr>\n",
       "      <th>40</th>\n",
       "      <td>0</td>\n",
       "      <td>1</td>\n",
       "      <td>5</td>\n",
       "      <td>is</td>\n",
       "      <td>1</td>\n",
       "      <td>0.077139</td>\n",
       "      <td>4</td>\n",
       "    </tr>\n",
       "    <tr>\n",
       "      <th>43</th>\n",
       "      <td>0</td>\n",
       "      <td>1</td>\n",
       "      <td>6</td>\n",
       "      <td>adept</td>\n",
       "      <td>1</td>\n",
       "      <td>0.000358</td>\n",
       "      <td>4</td>\n",
       "    </tr>\n",
       "    <tr>\n",
       "      <th>53</th>\n",
       "      <td>0</td>\n",
       "      <td>1</td>\n",
       "      <td>7</td>\n",
       "      <td>shock</td>\n",
       "      <td>1</td>\n",
       "      <td>0.016271</td>\n",
       "      <td>10</td>\n",
       "    </tr>\n",
       "    <tr>\n",
       "      <th>59</th>\n",
       "      <td>0</td>\n",
       "      <td>1</td>\n",
       "      <td>8</td>\n",
       "      <td>the</td>\n",
       "      <td>1</td>\n",
       "      <td>0.360194</td>\n",
       "      <td>10</td>\n",
       "    </tr>\n",
       "    <tr>\n",
       "      <th>64</th>\n",
       "      <td>0</td>\n",
       "      <td>1</td>\n",
       "      <td>9</td>\n",
       "      <td>novel</td>\n",
       "      <td>1</td>\n",
       "      <td>0.000234</td>\n",
       "      <td>4</td>\n",
       "    </tr>\n",
       "    <tr>\n",
       "      <th>76</th>\n",
       "      <td>0</td>\n",
       "      <td>1</td>\n",
       "      <td>10</td>\n",
       "      <td>secretaries</td>\n",
       "      <td>1</td>\n",
       "      <td>0.000174</td>\n",
       "      <td>10</td>\n",
       "    </tr>\n",
       "    <tr>\n",
       "      <th>78</th>\n",
       "      <td>0</td>\n",
       "      <td>1</td>\n",
       "      <td>11</td>\n",
       "      <td>technology</td>\n",
       "      <td>1</td>\n",
       "      <td>0.013237</td>\n",
       "      <td>8</td>\n",
       "    </tr>\n",
       "    <tr>\n",
       "      <th>86</th>\n",
       "      <td>0</td>\n",
       "      <td>1</td>\n",
       "      <td>12</td>\n",
       "      <td>Jews</td>\n",
       "      <td>1</td>\n",
       "      <td>0.000034</td>\n",
       "      <td>2</td>\n",
       "    </tr>\n",
       "    <tr>\n",
       "      <th>91</th>\n",
       "      <td>0</td>\n",
       "      <td>1</td>\n",
       "      <td>13</td>\n",
       "      <td>trade</td>\n",
       "      <td>1</td>\n",
       "      <td>0.000486</td>\n",
       "      <td>8</td>\n",
       "    </tr>\n",
       "    <tr>\n",
       "      <th>101</th>\n",
       "      <td>0</td>\n",
       "      <td>1</td>\n",
       "      <td>14</td>\n",
       "      <td>his</td>\n",
       "      <td>1</td>\n",
       "      <td>0.534960</td>\n",
       "      <td>2</td>\n",
       "    </tr>\n",
       "    <tr>\n",
       "      <th>2101</th>\n",
       "      <td>20</td>\n",
       "      <td>2</td>\n",
       "      <td>0</td>\n",
       "      <td>Princess</td>\n",
       "      <td>1</td>\n",
       "      <td>0.000811</td>\n",
       "      <td>8</td>\n",
       "    </tr>\n",
       "    <tr>\n",
       "      <th>2114</th>\n",
       "      <td>20</td>\n",
       "      <td>2</td>\n",
       "      <td>2</td>\n",
       "      <td>has</td>\n",
       "      <td>1</td>\n",
       "      <td>0.804644</td>\n",
       "      <td>10</td>\n",
       "    </tr>\n",
       "    <tr>\n",
       "      <th>2127</th>\n",
       "      <td>20</td>\n",
       "      <td>2</td>\n",
       "      <td>3</td>\n",
       "      <td>in</td>\n",
       "      <td>1</td>\n",
       "      <td>0.842841</td>\n",
       "      <td>10</td>\n",
       "    </tr>\n",
       "    <tr>\n",
       "      <th>2132</th>\n",
       "      <td>20</td>\n",
       "      <td>2</td>\n",
       "      <td>4</td>\n",
       "      <td>ago</td>\n",
       "      <td>1</td>\n",
       "      <td>0.750725</td>\n",
       "      <td>10</td>\n",
       "    </tr>\n",
       "    <tr>\n",
       "      <th>2135</th>\n",
       "      <td>20</td>\n",
       "      <td>2</td>\n",
       "      <td>5</td>\n",
       "      <td>know</td>\n",
       "      <td>1</td>\n",
       "      <td>0.027079</td>\n",
       "      <td>6</td>\n",
       "    </tr>\n",
       "    <tr>\n",
       "      <th>2153</th>\n",
       "      <td>20</td>\n",
       "      <td>2</td>\n",
       "      <td>7</td>\n",
       "      <td>our</td>\n",
       "      <td>1</td>\n",
       "      <td>0.039299</td>\n",
       "      <td>10</td>\n",
       "    </tr>\n",
       "    <tr>\n",
       "      <th>2159</th>\n",
       "      <td>20</td>\n",
       "      <td>2</td>\n",
       "      <td>8</td>\n",
       "      <td>up</td>\n",
       "      <td>1</td>\n",
       "      <td>0.290238</td>\n",
       "      <td>10</td>\n",
       "    </tr>\n",
       "    <tr>\n",
       "      <th>2168</th>\n",
       "      <td>20</td>\n",
       "      <td>2</td>\n",
       "      <td>9</td>\n",
       "      <td>all</td>\n",
       "      <td>1</td>\n",
       "      <td>0.117248</td>\n",
       "      <td>10</td>\n",
       "    </tr>\n",
       "    <tr>\n",
       "      <th>2173</th>\n",
       "      <td>20</td>\n",
       "      <td>2</td>\n",
       "      <td>10</td>\n",
       "      <td>Earth</td>\n",
       "      <td>1</td>\n",
       "      <td>0.073767</td>\n",
       "      <td>10</td>\n",
       "    </tr>\n",
       "    <tr>\n",
       "      <th>2179</th>\n",
       "      <td>20</td>\n",
       "      <td>2</td>\n",
       "      <td>11</td>\n",
       "      <td>for</td>\n",
       "      <td>1</td>\n",
       "      <td>0.607061</td>\n",
       "      <td>10</td>\n",
       "    </tr>\n",
       "    <tr>\n",
       "      <th>2189</th>\n",
       "      <td>20</td>\n",
       "      <td>2</td>\n",
       "      <td>12</td>\n",
       "      <td>suppose</td>\n",
       "      <td>1</td>\n",
       "      <td>0.024457</td>\n",
       "      <td>10</td>\n",
       "    </tr>\n",
       "    <tr>\n",
       "      <th>2193</th>\n",
       "      <td>20</td>\n",
       "      <td>2</td>\n",
       "      <td>13</td>\n",
       "      <td>way</td>\n",
       "      <td>1</td>\n",
       "      <td>0.004808</td>\n",
       "      <td>10</td>\n",
       "    </tr>\n",
       "    <tr>\n",
       "      <th>2201</th>\n",
       "      <td>20</td>\n",
       "      <td>2</td>\n",
       "      <td>14</td>\n",
       "      <td>people</td>\n",
       "      <td>1</td>\n",
       "      <td>0.014426</td>\n",
       "      <td>6</td>\n",
       "    </tr>\n",
       "  </tbody>\n",
       "</table>\n",
       "</div>"
      ],
      "text/plain": [
       "      user_ind  turk_v  q_ind         word  ground_word      prob  score\n",
       "3            0       1      0       events            1  0.978269     10\n",
       "8            0       1      1        would            1  0.042942      6\n",
       "20           0       1      2         edge            1  0.279860     10\n",
       "24           0       1      3            a            1  0.416199     10\n",
       "31           0       1      4        creek            1  0.000046      4\n",
       "40           0       1      5           is            1  0.077139      4\n",
       "43           0       1      6        adept            1  0.000358      4\n",
       "53           0       1      7        shock            1  0.016271     10\n",
       "59           0       1      8          the            1  0.360194     10\n",
       "64           0       1      9        novel            1  0.000234      4\n",
       "76           0       1     10  secretaries            1  0.000174     10\n",
       "78           0       1     11   technology            1  0.013237      8\n",
       "86           0       1     12         Jews            1  0.000034      2\n",
       "91           0       1     13        trade            1  0.000486      8\n",
       "101          0       1     14          his            1  0.534960      2\n",
       "2101        20       2      0     Princess            1  0.000811      8\n",
       "2114        20       2      2          has            1  0.804644     10\n",
       "2127        20       2      3           in            1  0.842841     10\n",
       "2132        20       2      4          ago            1  0.750725     10\n",
       "2135        20       2      5         know            1  0.027079      6\n",
       "2153        20       2      7          our            1  0.039299     10\n",
       "2159        20       2      8           up            1  0.290238     10\n",
       "2168        20       2      9          all            1  0.117248     10\n",
       "2173        20       2     10        Earth            1  0.073767     10\n",
       "2179        20       2     11          for            1  0.607061     10\n",
       "2189        20       2     12      suppose            1  0.024457     10\n",
       "2193        20       2     13          way            1  0.004808     10\n",
       "2201        20       2     14       people            1  0.014426      6"
      ]
     },
     "execution_count": 105,
     "metadata": {},
     "output_type": "execute_result"
    }
   ],
   "source": [
    "res[res['ground_word'].astype(bool)].drop_duplicates('word')"
   ]
  },
  {
   "cell_type": "code",
   "execution_count": 106,
   "metadata": {},
   "outputs": [
    {
     "data": {
      "text/plain": [
       "<matplotlib.axes._subplots.AxesSubplot at 0x1a2e62d860>"
      ]
     },
     "execution_count": 106,
     "metadata": {},
     "output_type": "execute_result"
    },
    {
     "data": {
      "image/png": "[encoded data removed]",
      "text/plain": [
       "<Figure size 432x288 with 1 Axes>"
      ]
     },
     "metadata": {},
     "output_type": "display_data"
    }
   ],
   "source": [
    "# What is the TF prob assigned to the ground words. \n",
    "\n",
    "res[res['ground_word'].astype(bool)].drop_duplicates('word')['prob'].plot() "
   ]
  },
  {
   "cell_type": "code",
   "execution_count": 107,
   "metadata": {},
   "outputs": [
    {
     "data": {
      "text/plain": [
       "Text(0.5, 0, 'score')"
      ]
     },
     "execution_count": 107,
     "metadata": {},
     "output_type": "execute_result"
    },
    {
     "data": {
      "image/png": "[encoded data removed]",
      "text/plain": [
       "<Figure size 432x288 with 1 Axes>"
      ]
     },
     "metadata": {},
     "output_type": "display_data"
    }
   ],
   "source": [
    "unique_ground = res[res['ground_word'].astype(bool)].drop_duplicates('word')\n",
    "plt.scatter( unique_ground['score'] ,unique_ground['prob'])\n",
    "plt.ylabel('prob')\n",
    "plt.xlabel('score')"
   ]
  },
  {
   "cell_type": "markdown",
   "metadata": {},
   "source": [
    "### Optional - Getting rid of all the ground words"
   ]
  },
  {
   "cell_type": "code",
   "execution_count": 108,
   "metadata": {},
   "outputs": [],
   "source": [
    "c_res=c_res[np.invert(c_res['ground_word'].astype(bool))]"
   ]
  },
  {
   "cell_type": "markdown",
   "metadata": {},
   "source": [
    "### Setting the good users"
   ]
  },
  {
   "cell_type": "code",
   "execution_count": 109,
   "metadata": {},
   "outputs": [
    {
     "data": {
      "text/plain": [
       "[2,\n",
       " 5,\n",
       " 6,\n",
       " 10,\n",
       " 11,\n",
       " 12,\n",
       " 13,\n",
       " 19,\n",
       " 20,\n",
       " 21,\n",
       " 22,\n",
       " 23,\n",
       " 24,\n",
       " 26,\n",
       " 27,\n",
       " 28,\n",
       " 29,\n",
       " 30,\n",
       " 33,\n",
       " 34,\n",
       " 35,\n",
       " 36]"
      ]
     },
     "execution_count": 109,
     "metadata": {},
     "output_type": "execute_result"
    }
   ],
   "source": [
    "good_users = list(set(res['user_ind'].unique().tolist())-set(bad_users))\n",
    "good_users"
   ]
  },
  {
   "cell_type": "code",
   "execution_count": 110,
   "metadata": {},
   "outputs": [
    {
     "data": {
      "text/plain": [
       "22"
      ]
     },
     "execution_count": 110,
     "metadata": {},
     "output_type": "execute_result"
    }
   ],
   "source": [
    "len(good_users)"
   ]
  },
  {
   "cell_type": "markdown",
   "metadata": {},
   "source": [
    "# Plots without the bad users"
   ]
  },
  {
   "cell_type": "code",
   "execution_count": 111,
   "metadata": {},
   "outputs": [],
   "source": [
    "guser_mask = c_res['user_ind'].apply(lambda x: x in good_users)\n",
    "guser = c_res[guser_mask]"
   ]
  },
  {
   "cell_type": "code",
   "execution_count": 112,
   "metadata": {},
   "outputs": [
    {
     "data": {
      "text/plain": [
       "(1980, 7)"
      ]
     },
     "execution_count": 112,
     "metadata": {},
     "output_type": "execute_result"
    }
   ],
   "source": [
    "guser.shape"
   ]
  },
  {
   "cell_type": "code",
   "execution_count": 113,
   "metadata": {},
   "outputs": [
    {
     "data": {
      "text/plain": [
       "(0, 10.5)"
      ]
     },
     "execution_count": 113,
     "metadata": {},
     "output_type": "execute_result"
    },
    {
     "data": {
      "image/png": "[encoded data removed]",
      "text/plain": [
       "<Figure size 432x288 with 1 Axes>"
      ]
     },
     "metadata": {},
     "output_type": "display_data"
    }
   ],
   "source": [
    "# put a linear regression through this. \n",
    "\n",
    "\n",
    "\n",
    "import seaborn as sns; sns.set(color_codes=True)\n",
    "ax = sns.regplot(x=guser['prob'], y=guser['score'], #robust=True,\n",
    "                 lowess=True,\n",
    "                 color=\"g\", scatter_kws={'alpha':0.3})\n",
    "plt.axvline(0.05)\n",
    "plt.ylim([0,10.5])"
   ]
  },
  {
   "cell_type": "code",
   "execution_count": 114,
   "metadata": {},
   "outputs": [
    {
     "data": {
      "text/plain": [
       "(0, 10.5)"
      ]
     },
     "execution_count": 114,
     "metadata": {},
     "output_type": "execute_result"
    },
    {
     "data": {
      "image/png": "[encoded data removed]",
      "text/plain": [
       "<Figure size 432x288 with 1 Axes>"
      ]
     },
     "metadata": {},
     "output_type": "display_data"
    }
   ],
   "source": [
    "ax = sns.regplot(x=guser['prob'], y=guser['score'], robust=True,\n",
    "                 color=\"g\", scatter_kws={'alpha':0.3})\n",
    "plt.ylim([0,10.5])"
   ]
  },
  {
   "cell_type": "code",
   "execution_count": 348,
   "metadata": {},
   "outputs": [
    {
     "data": {
      "text/plain": [
       "(0, 10.5)"
      ]
     },
     "execution_count": 348,
     "metadata": {},
     "output_type": "execute_result"
    },
    {
     "data": {
      "image/png": "[encoded data removed]",
      "text/plain": [
       "<Figure size 432x288 with 1 Axes>"
      ]
     },
     "metadata": {
      "needs_background": "light"
     },
     "output_type": "display_data"
    }
   ],
   "source": [
    "ax = sns.regplot(x=np.log(guser['prob']), y=guser['score'], robust=True,\n",
    "                 color=\"g\", scatter_kws={'alpha':0.3})\n",
    "plt.ylim([0,10.5])"
   ]
  },
  {
   "cell_type": "code",
   "execution_count": 354,
   "metadata": {},
   "outputs": [
    {
     "data": {
      "text/plain": [
       "0.4922986880875192"
      ]
     },
     "execution_count": 354,
     "metadata": {},
     "output_type": "execute_result"
    }
   ],
   "source": [
    "from sklearn.linear_model import LinearRegression\n",
    "\n",
    "reg = LinearRegression(fit_intercept=True)\n",
    "x = pd.DataFrame(np.log(guser['prob']))\n",
    "reg.fit( x, guser['score'].values )\n",
    "reg.score(x,guser['score'].values )\n",
    "# goes from 10% to almost 50% with a log term!"
   ]
  },
  {
   "cell_type": "code",
   "execution_count": 115,
   "metadata": {},
   "outputs": [
    {
     "name": "stdout",
     "output_type": "stream",
     "text": [
      "(1980,)\n",
      "(1980, 4)\n"
     ]
    }
   ],
   "source": [
    "from sklearn.linear_model import LinearRegression\n",
    "\n",
    "reg = LinearRegression(fit_intercept=True)\n",
    "x = guser['prob']\n",
    "x2 = x**2\n",
    "print(x2.shape)\n",
    "X = pd.DataFrame([x, x2, x**3, x**4]).T\n",
    "print(X.shape)\n",
    "reg.fit( X, guser['score'].values )\n",
    "\n",
    "grid_x = np.arange(0,1, 0.01)\n",
    "grid_X = pd.DataFrame([grid_x, grid_x**2, grid_x**3, grid_x**4]).T\n",
    "preds = reg.predict(grid_X)"
   ]
  },
  {
   "cell_type": "code",
   "execution_count": 116,
   "metadata": {},
   "outputs": [
    {
     "data": {
      "text/plain": [
       "<matplotlib.collections.PathCollection at 0x10ebc9240>"
      ]
     },
     "execution_count": 116,
     "metadata": {},
     "output_type": "execute_result"
    },
    {
     "data": {
      "image/png": "[encoded data removed]",
      "text/plain": [
       "<Figure size 432x288 with 1 Axes>"
      ]
     },
     "metadata": {},
     "output_type": "display_data"
    }
   ],
   "source": [
    "plt.scatter(guser['prob'], guser['score'])\n",
    "plt.scatter(grid_x, preds, color='green')\n",
    "#plt.ylim([0,10.5])"
   ]
  },
  {
   "cell_type": "code",
   "execution_count": 117,
   "metadata": {},
   "outputs": [
    {
     "data": {
      "text/plain": [
       "score\n",
       "2     283\n",
       "4     162\n",
       "6     186\n",
       "8     468\n",
       "10    881\n",
       "dtype: int64"
      ]
     },
     "execution_count": 117,
     "metadata": {},
     "output_type": "execute_result"
    }
   ],
   "source": [
    "guser.groupby('score').apply(lambda x: len(x))"
   ]
  },
  {
   "cell_type": "markdown",
   "metadata": {},
   "source": [
    "# Bootstrapping medians"
   ]
  },
  {
   "cell_type": "code",
   "execution_count": 118,
   "metadata": {},
   "outputs": [
    {
     "data": {
      "text/plain": [
       "score\n",
       "2     9.455631e-13\n",
       "4     1.006507e-02\n",
       "6     5.355436e-03\n",
       "8     8.023629e-03\n",
       "10    7.727925e-03\n",
       "dtype: float64"
      ]
     },
     "execution_count": 118,
     "metadata": {},
     "output_type": "execute_result"
    }
   ],
   "source": [
    "import bootstrapped.bootstrap as bs\n",
    "import bootstrapped.stats_functions as bs_stats\n",
    "def mad(vals):\n",
    "    boot = bs.bootstrap(vals['prob'].values, stat_func=bs_stats.median)\n",
    "    return boot.upper_bound - boot.value\n",
    "    \n",
    "    '''med = vals['prob'].median()\n",
    "    k = 1.4826 # assuming normal... \n",
    "    madd = np.sum(np.abs(vals['prob'] - med))\n",
    "    return madd/(madd*k)'''\n",
    "    \n",
    "    \n",
    "\n",
    "medians = guser.groupby('score').median()['prob']\n",
    "#errors = (1.96*(.std()['prob']/np.sqrt(guser.groupby('score').apply(lambda x:len(x)) )))\n",
    "\n",
    "errors = guser.groupby('score').apply(mad)\n",
    "errors"
   ]
  },
  {
   "cell_type": "code",
   "execution_count": 119,
   "metadata": {},
   "outputs": [
    {
     "data": {
      "image/png": "[encoded data removed]",
      "text/plain": [
       "<Figure size 960x640 with 1 Axes>"
      ]
     },
     "metadata": {},
     "output_type": "display_data"
    }
   ],
   "source": [
    "x_pos = medians #np.arange(len(means))\n",
    "plt.figure(num=None, figsize=(12, 8), dpi=80, facecolor='w', edgecolor='k')\n",
    "plt.errorbar(x_pos, means.index, xerr=errors, ecolor='red', fmt='o', capsize=3, color = 'blue')\n",
    "plt.xlabel('Prob')\n",
    "plt.ylabel('Score')\n",
    "plt.show()\n"
   ]
  },
  {
   "cell_type": "markdown",
   "metadata": {},
   "source": [
    "## Calculating Means"
   ]
  },
  {
   "cell_type": "code",
   "execution_count": 120,
   "metadata": {},
   "outputs": [
    {
     "data": {
      "text/plain": [
       "score\n",
       "2     0.004537\n",
       "4     0.013630\n",
       "6     0.010282\n",
       "8     0.011488\n",
       "10    0.013438\n",
       "dtype: float64"
      ]
     },
     "execution_count": 120,
     "metadata": {},
     "output_type": "execute_result"
    }
   ],
   "source": [
    "\n",
    "\n",
    "\n",
    "means = guser.groupby('score').mean()['prob']\n",
    "errors = (1.96*(guser.groupby('score').std()['prob']/np.sqrt(guser.groupby('score').apply(lambda x:len(x)) )))\n",
    "\n",
    "errors"
   ]
  },
  {
   "cell_type": "code",
   "execution_count": 121,
   "metadata": {},
   "outputs": [
    {
     "data": {
      "image/png": "[encoded data removed]",
      "text/plain": [
       "<Figure size 960x640 with 1 Axes>"
      ]
     },
     "metadata": {},
     "output_type": "display_data"
    }
   ],
   "source": [
    "x_pos = means #np.arange(len(means))\n",
    "plt.figure(num=None, figsize=(12, 8), dpi=80, facecolor='w', edgecolor='k')\n",
    "plt.errorbar(x_pos, means.index, xerr=errors, ecolor='red', fmt='o', capsize=3, color = 'blue')\n",
    "plt.xlabel('Prob')\n",
    "plt.ylabel('Score')\n",
    "plt.show()\n"
   ]
  },
  {
   "cell_type": "code",
   "execution_count": 122,
   "metadata": {},
   "outputs": [],
   "source": [
    "def mean_boot(vals):\n",
    "    boot = bs.bootstrap(vals['prob'].values, stat_func=bs_stats.mean)\n",
    "    return boot.upper_bound - boot.value\n",
    "\n",
    "means = guser.groupby('score').mean()['prob']\n",
    "errors = guser.groupby('score').apply(mean_boot)"
   ]
  },
  {
   "cell_type": "code",
   "execution_count": 123,
   "metadata": {},
   "outputs": [
    {
     "data": {
      "image/png": "[encoded data removed]",
      "text/plain": [
       "<Figure size 960x640 with 1 Axes>"
      ]
     },
     "metadata": {},
     "output_type": "display_data"
    }
   ],
   "source": [
    "x_pos = means #np.arange(len(means))\n",
    "plt.figure(num=None, figsize=(12, 8), dpi=80, facecolor='w', edgecolor='k')\n",
    "plt.errorbar(x_pos, means.index, xerr=errors, ecolor='red', fmt='o', capsize=3, color = 'blue')\n",
    "plt.xlabel('Prob')\n",
    "plt.ylabel('Score')\n",
    "plt.show()\n",
    "#plt.scatter(means, means.index)\n"
   ]
  },
  {
   "cell_type": "markdown",
   "metadata": {},
   "source": [
    "## Creating a model for predicting the score given probability. Seeing if this is nonlinear"
   ]
  },
  {
   "cell_type": "code",
   "execution_count": 124,
   "metadata": {},
   "outputs": [
    {
     "data": {
      "text/html": [
       "<div>\n",
       "<style scoped>\n",
       "    .dataframe tbody tr th:only-of-type {\n",
       "        vertical-align: middle;\n",
       "    }\n",
       "\n",
       "    .dataframe tbody tr th {\n",
       "        vertical-align: top;\n",
       "    }\n",
       "\n",
       "    .dataframe thead th {\n",
       "        text-align: right;\n",
       "    }\n",
       "</style>\n",
       "<table border=\"1\" class=\"dataframe\">\n",
       "  <thead>\n",
       "    <tr style=\"text-align: right;\">\n",
       "      <th></th>\n",
       "      <th>user_ind</th>\n",
       "      <th>turk_v</th>\n",
       "      <th>q_ind</th>\n",
       "      <th>word</th>\n",
       "      <th>ground_word</th>\n",
       "      <th>prob</th>\n",
       "      <th>score</th>\n",
       "    </tr>\n",
       "  </thead>\n",
       "  <tbody>\n",
       "    <tr>\n",
       "      <th>0</th>\n",
       "      <td>0</td>\n",
       "      <td>1</td>\n",
       "      <td>0</td>\n",
       "      <td>event</td>\n",
       "      <td>0</td>\n",
       "      <td>0.002131</td>\n",
       "      <td>6</td>\n",
       "    </tr>\n",
       "    <tr>\n",
       "      <th>1</th>\n",
       "      <td>0</td>\n",
       "      <td>1</td>\n",
       "      <td>0</td>\n",
       "      <td>things</td>\n",
       "      <td>0</td>\n",
       "      <td>0.000778</td>\n",
       "      <td>8</td>\n",
       "    </tr>\n",
       "    <tr>\n",
       "      <th>2</th>\n",
       "      <td>0</td>\n",
       "      <td>1</td>\n",
       "      <td>0</td>\n",
       "      <td>bad</td>\n",
       "      <td>0</td>\n",
       "      <td>0.000492</td>\n",
       "      <td>2</td>\n",
       "    </tr>\n",
       "    <tr>\n",
       "      <th>4</th>\n",
       "      <td>0</td>\n",
       "      <td>1</td>\n",
       "      <td>0</td>\n",
       "      <td>circumstances</td>\n",
       "      <td>0</td>\n",
       "      <td>0.000509</td>\n",
       "      <td>10</td>\n",
       "    </tr>\n",
       "    <tr>\n",
       "      <th>5</th>\n",
       "      <td>0</td>\n",
       "      <td>1</td>\n",
       "      <td>0</td>\n",
       "      <td>events</td>\n",
       "      <td>0</td>\n",
       "      <td>0.978268</td>\n",
       "      <td>10</td>\n",
       "    </tr>\n",
       "  </tbody>\n",
       "</table>\n",
       "</div>"
      ],
      "text/plain": [
       "   user_ind  turk_v  q_ind           word  ground_word      prob  score\n",
       "0         0       1      0          event            0  0.002131      6\n",
       "1         0       1      0         things            0  0.000778      8\n",
       "2         0       1      0            bad            0  0.000492      2\n",
       "4         0       1      0  circumstances            0  0.000509     10\n",
       "5         0       1      0         events            0  0.978268     10"
      ]
     },
     "execution_count": 124,
     "metadata": {},
     "output_type": "execute_result"
    }
   ],
   "source": [
    "c_res.head() # free of ground words that may have overly low probs. "
   ]
  },
  {
   "cell_type": "code",
   "execution_count": 125,
   "metadata": {},
   "outputs": [
    {
     "data": {
      "text/html": [
       "<div>\n",
       "<style scoped>\n",
       "    .dataframe tbody tr th:only-of-type {\n",
       "        vertical-align: middle;\n",
       "    }\n",
       "\n",
       "    .dataframe tbody tr th {\n",
       "        vertical-align: top;\n",
       "    }\n",
       "\n",
       "    .dataframe thead th {\n",
       "        text-align: right;\n",
       "    }\n",
       "</style>\n",
       "<table border=\"1\" class=\"dataframe\">\n",
       "  <thead>\n",
       "    <tr style=\"text-align: right;\">\n",
       "      <th></th>\n",
       "      <th>user_ind</th>\n",
       "      <th>turk_v</th>\n",
       "      <th>q_ind</th>\n",
       "      <th>word</th>\n",
       "      <th>ground_word</th>\n",
       "      <th>prob</th>\n",
       "      <th>score</th>\n",
       "    </tr>\n",
       "  </thead>\n",
       "  <tbody>\n",
       "    <tr>\n",
       "      <th>3984</th>\n",
       "      <td>37</td>\n",
       "      <td>2</td>\n",
       "      <td>14</td>\n",
       "      <td>there</td>\n",
       "      <td>0</td>\n",
       "      <td>4.289242e-02</td>\n",
       "      <td>10</td>\n",
       "    </tr>\n",
       "    <tr>\n",
       "      <th>3985</th>\n",
       "      <td>37</td>\n",
       "      <td>2</td>\n",
       "      <td>14</td>\n",
       "      <td>EVA</td>\n",
       "      <td>0</td>\n",
       "      <td>1.928819e-11</td>\n",
       "      <td>8</td>\n",
       "    </tr>\n",
       "    <tr>\n",
       "      <th>3987</th>\n",
       "      <td>37</td>\n",
       "      <td>2</td>\n",
       "      <td>14</td>\n",
       "      <td>it</td>\n",
       "      <td>0</td>\n",
       "      <td>2.908443e-02</td>\n",
       "      <td>10</td>\n",
       "    </tr>\n",
       "    <tr>\n",
       "      <th>3988</th>\n",
       "      <td>37</td>\n",
       "      <td>2</td>\n",
       "      <td>14</td>\n",
       "      <td>this</td>\n",
       "      <td>0</td>\n",
       "      <td>3.677039e-02</td>\n",
       "      <td>8</td>\n",
       "    </tr>\n",
       "    <tr>\n",
       "      <th>3989</th>\n",
       "      <td>37</td>\n",
       "      <td>2</td>\n",
       "      <td>14</td>\n",
       "      <td>in</td>\n",
       "      <td>0</td>\n",
       "      <td>2.545756e-02</td>\n",
       "      <td>8</td>\n",
       "    </tr>\n",
       "  </tbody>\n",
       "</table>\n",
       "</div>"
      ],
      "text/plain": [
       "      user_ind  turk_v  q_ind   word  ground_word          prob  score\n",
       "3984        37       2     14  there            0  4.289242e-02     10\n",
       "3985        37       2     14    EVA            0  1.928819e-11      8\n",
       "3987        37       2     14     it            0  2.908443e-02     10\n",
       "3988        37       2     14   this            0  3.677039e-02      8\n",
       "3989        37       2     14     in            0  2.545756e-02      8"
      ]
     },
     "execution_count": 125,
     "metadata": {},
     "output_type": "execute_result"
    }
   ],
   "source": [
    "c_res.tail()"
   ]
  },
  {
   "cell_type": "code",
   "execution_count": 145,
   "metadata": {},
   "outputs": [
    {
     "data": {
      "text/plain": [
       "(3420, 7)"
      ]
     },
     "execution_count": 145,
     "metadata": {},
     "output_type": "execute_result"
    }
   ],
   "source": [
    "c_res.shape"
   ]
  },
  {
   "cell_type": "code",
   "execution_count": 178,
   "metadata": {},
   "outputs": [
    {
     "data": {
      "text/html": [
       "<div>\n",
       "<style scoped>\n",
       "    .dataframe tbody tr th:only-of-type {\n",
       "        vertical-align: middle;\n",
       "    }\n",
       "\n",
       "    .dataframe tbody tr th {\n",
       "        vertical-align: top;\n",
       "    }\n",
       "\n",
       "    .dataframe thead th {\n",
       "        text-align: right;\n",
       "    }\n",
       "</style>\n",
       "<table border=\"1\" class=\"dataframe\">\n",
       "  <thead>\n",
       "    <tr style=\"text-align: right;\">\n",
       "      <th></th>\n",
       "      <th></th>\n",
       "      <th></th>\n",
       "      <th>0</th>\n",
       "    </tr>\n",
       "    <tr>\n",
       "      <th>q_ind</th>\n",
       "      <th>turk_v</th>\n",
       "      <th>word</th>\n",
       "      <th></th>\n",
       "    </tr>\n",
       "  </thead>\n",
       "  <tbody>\n",
       "    <tr>\n",
       "      <th rowspan=\"5\" valign=\"top\">0</th>\n",
       "      <th rowspan=\"5\" valign=\"top\">1</th>\n",
       "      <th>Population</th>\n",
       "      <td>[4.0, 7.025027803399253e-13]</td>\n",
       "    </tr>\n",
       "    <tr>\n",
       "      <th>bad</th>\n",
       "      <td>[3.0, 0.0004916115431115031]</td>\n",
       "    </tr>\n",
       "    <tr>\n",
       "      <th>circumstances</th>\n",
       "      <td>[6.0, 0.0005090322229079902]</td>\n",
       "    </tr>\n",
       "    <tr>\n",
       "      <th>event</th>\n",
       "      <td>[6.0, 0.0021306623239070177]</td>\n",
       "    </tr>\n",
       "    <tr>\n",
       "      <th>events</th>\n",
       "      <td>[10.0, 0.9782679080963135]</td>\n",
       "    </tr>\n",
       "  </tbody>\n",
       "</table>\n",
       "</div>"
      ],
      "text/plain": [
       "                                                       0\n",
       "q_ind turk_v word                                       \n",
       "0     1      Population     [4.0, 7.025027803399253e-13]\n",
       "             bad            [3.0, 0.0004916115431115031]\n",
       "             circumstances  [6.0, 0.0005090322229079902]\n",
       "             event          [6.0, 0.0021306623239070177]\n",
       "             events           [10.0, 0.9782679080963135]"
      ]
     },
     "execution_count": 178,
     "metadata": {},
     "output_type": "execute_result"
    }
   ],
   "source": [
    "# pooling the average score across users.\n",
    "\n",
    "def score_summaries(x):\n",
    "    sc = x['score']\n",
    "    x_mean = sc.mean()\n",
    "    err =1.96*(sc.std()/np.sqrt(len(sc)) )\n",
    "    return [sc.median(), x['prob'].values[0]]\n",
    "\n",
    "median_scores = c_res.groupby(['q_ind', 'turk_v', 'word']).apply(score_summaries)\n",
    "median_scores = pd.DataFrame(median_scores)\n",
    "median_scores.head()"
   ]
  },
  {
   "cell_type": "code",
   "execution_count": 191,
   "metadata": {},
   "outputs": [
    {
     "data": {
      "text/html": [
       "<div>\n",
       "<style scoped>\n",
       "    .dataframe tbody tr th:only-of-type {\n",
       "        vertical-align: middle;\n",
       "    }\n",
       "\n",
       "    .dataframe tbody tr th {\n",
       "        vertical-align: top;\n",
       "    }\n",
       "\n",
       "    .dataframe thead th {\n",
       "        text-align: right;\n",
       "    }\n",
       "</style>\n",
       "<table border=\"1\" class=\"dataframe\">\n",
       "  <thead>\n",
       "    <tr style=\"text-align: right;\">\n",
       "      <th></th>\n",
       "      <th></th>\n",
       "      <th></th>\n",
       "      <th>0</th>\n",
       "      <th>median_score</th>\n",
       "      <th>prob</th>\n",
       "    </tr>\n",
       "    <tr>\n",
       "      <th>q_ind</th>\n",
       "      <th>turk_v</th>\n",
       "      <th>word</th>\n",
       "      <th></th>\n",
       "      <th></th>\n",
       "      <th></th>\n",
       "    </tr>\n",
       "  </thead>\n",
       "  <tbody>\n",
       "    <tr>\n",
       "      <th rowspan=\"10\" valign=\"top\">0</th>\n",
       "      <th rowspan=\"6\" valign=\"top\">1</th>\n",
       "      <th>Population</th>\n",
       "      <td>[4.0, 7.025027803399253e-13]</td>\n",
       "      <td>4.0</td>\n",
       "      <td>7.025028e-13</td>\n",
       "    </tr>\n",
       "    <tr>\n",
       "      <th>bad</th>\n",
       "      <td>[3.0, 0.0004916115431115031]</td>\n",
       "      <td>3.0</td>\n",
       "      <td>4.916115e-04</td>\n",
       "    </tr>\n",
       "    <tr>\n",
       "      <th>circumstances</th>\n",
       "      <td>[6.0, 0.0005090322229079902]</td>\n",
       "      <td>6.0</td>\n",
       "      <td>5.090322e-04</td>\n",
       "    </tr>\n",
       "    <tr>\n",
       "      <th>event</th>\n",
       "      <td>[6.0, 0.0021306623239070177]</td>\n",
       "      <td>6.0</td>\n",
       "      <td>2.130662e-03</td>\n",
       "    </tr>\n",
       "    <tr>\n",
       "      <th>events</th>\n",
       "      <td>[10.0, 0.9782679080963135]</td>\n",
       "      <td>10.0</td>\n",
       "      <td>9.782679e-01</td>\n",
       "    </tr>\n",
       "    <tr>\n",
       "      <th>things</th>\n",
       "      <td>[8.0, 0.0007781028398312628]</td>\n",
       "      <td>8.0</td>\n",
       "      <td>7.781028e-04</td>\n",
       "    </tr>\n",
       "    <tr>\n",
       "      <th rowspan=\"4\" valign=\"top\">2</th>\n",
       "      <th>Demons</th>\n",
       "      <td>[9.0, 0.09158789366483688]</td>\n",
       "      <td>9.0</td>\n",
       "      <td>9.158789e-02</td>\n",
       "    </tr>\n",
       "    <tr>\n",
       "      <th>Devils</th>\n",
       "      <td>[8.0, 0.019027840346097946]</td>\n",
       "      <td>8.0</td>\n",
       "      <td>1.902784e-02</td>\n",
       "    </tr>\n",
       "    <tr>\n",
       "      <th>Ghosts</th>\n",
       "      <td>[8.0, 0.023113250732421875]</td>\n",
       "      <td>8.0</td>\n",
       "      <td>2.311325e-02</td>\n",
       "    </tr>\n",
       "    <tr>\n",
       "      <th>Witches</th>\n",
       "      <td>[8.0, 0.03481363505125046]</td>\n",
       "      <td>8.0</td>\n",
       "      <td>3.481364e-02</td>\n",
       "    </tr>\n",
       "  </tbody>\n",
       "</table>\n",
       "</div>"
      ],
      "text/plain": [
       "                                                       0  median_score  \\\n",
       "q_ind turk_v word                                                        \n",
       "0     1      Population     [4.0, 7.025027803399253e-13]           4.0   \n",
       "             bad            [3.0, 0.0004916115431115031]           3.0   \n",
       "             circumstances  [6.0, 0.0005090322229079902]           6.0   \n",
       "             event          [6.0, 0.0021306623239070177]           6.0   \n",
       "             events           [10.0, 0.9782679080963135]          10.0   \n",
       "             things         [8.0, 0.0007781028398312628]           8.0   \n",
       "      2      Demons           [9.0, 0.09158789366483688]           9.0   \n",
       "             Devils          [8.0, 0.019027840346097946]           8.0   \n",
       "             Ghosts          [8.0, 0.023113250732421875]           8.0   \n",
       "             Witches          [8.0, 0.03481363505125046]           8.0   \n",
       "\n",
       "                                    prob  \n",
       "q_ind turk_v word                         \n",
       "0     1      Population     7.025028e-13  \n",
       "             bad            4.916115e-04  \n",
       "             circumstances  5.090322e-04  \n",
       "             event          2.130662e-03  \n",
       "             events         9.782679e-01  \n",
       "             things         7.781028e-04  \n",
       "      2      Demons         9.158789e-02  \n",
       "             Devils         1.902784e-02  \n",
       "             Ghosts         2.311325e-02  \n",
       "             Witches        3.481364e-02  "
      ]
     },
     "execution_count": 191,
     "metadata": {},
     "output_type": "execute_result"
    }
   ],
   "source": [
    "median_scores['median_score'] = median_scores[0].apply(lambda x: x[0])\n",
    "median_scores['prob'] = median_scores[0].apply(lambda x: x[1])\n",
    "median_scores.head(10)"
   ]
  },
  {
   "cell_type": "code",
   "execution_count": 193,
   "metadata": {},
   "outputs": [
    {
     "data": {
      "text/plain": [
       "(0, 10.5)"
      ]
     },
     "execution_count": 193,
     "metadata": {},
     "output_type": "execute_result"
    },
    {
     "data": {
      "image/png": "[encoded data removed]",
      "text/plain": [
       "<Figure size 432x288 with 1 Axes>"
      ]
     },
     "metadata": {},
     "output_type": "display_data"
    }
   ],
   "source": [
    "ax = sns.regplot(x=median_scores['prob'], y=median_scores['median_score'], robust=True,\n",
    "                 color=\"g\", scatter_kws={'alpha':0.3})\n",
    "plt.ylim([0,10.5])"
   ]
  },
  {
   "cell_type": "code",
   "execution_count": 195,
   "metadata": {},
   "outputs": [
    {
     "data": {
      "text/plain": [
       "<matplotlib.lines.Line2D at 0x1a2ce7bfd0>"
      ]
     },
     "execution_count": 195,
     "metadata": {},
     "output_type": "execute_result"
    },
    {
     "data": {
      "image/png": "[encoded data removed]",
      "text/plain": [
       "<Figure size 432x288 with 1 Axes>"
      ]
     },
     "metadata": {},
     "output_type": "display_data"
    }
   ],
   "source": [
    "ax = sns.regplot(x=median_scores['prob'], y=median_scores['median_score'], lowess=True,\n",
    "                 color=\"g\", scatter_kws={'alpha':0.3})\n",
    "plt.ylim([0,10.5])\n",
    "plt.axvline(0.05)"
   ]
  },
  {
   "cell_type": "code",
   "execution_count": 356,
   "metadata": {},
   "outputs": [],
   "source": [
    "x = []\n",
    "y = []\n",
    "for q, k in median_scores.groupby(['q_ind', 'turk_v']):\n",
    "    x.append(k['prob'].values)\n",
    "    y.append(k['median_score'].values)"
   ]
  },
  {
   "cell_type": "code",
   "execution_count": 357,
   "metadata": {},
   "outputs": [],
   "source": [
    "# pairing the highest prob word with all the others for each of these: \n",
    "x_ml = []\n",
    "y_ml = []\n",
    "for q_prob, q_score in zip(x,y): \n",
    "    \n",
    "    max_prob_ind = np.argmax(q_prob)\n",
    "    max_prob = np.log(q_prob[max_prob_ind])\n",
    "    \n",
    "    for j in range(len(q_prob)):\n",
    "        if j == max_prob_ind:\n",
    "            continue\n",
    "        else: \n",
    "            #including an interaction term. \n",
    "            x_ml.append( [max_prob, np.log(q_prob[j]), max_prob+ np.log(q_prob[j])] )\n",
    "            y_ml.append( q_score[j] )"
   ]
  },
  {
   "cell_type": "code",
   "execution_count": 319,
   "metadata": {},
   "outputs": [
    {
     "data": {
      "text/plain": [
       "150"
      ]
     },
     "execution_count": 319,
     "metadata": {},
     "output_type": "execute_result"
    }
   ],
   "source": [
    "len(x_ml)"
   ]
  },
  {
   "cell_type": "code",
   "execution_count": 320,
   "metadata": {},
   "outputs": [],
   "source": [
    "x_ml = pd.DataFrame(x_ml)\n",
    "y_ml = pd.DataFrame(y_ml)"
   ]
  },
  {
   "cell_type": "code",
   "execution_count": 321,
   "metadata": {},
   "outputs": [],
   "source": [
    "# hypothesis is that as the max score goes down, the curve is smoother and the curr score goes up. "
   ]
  },
  {
   "cell_type": "code",
   "execution_count": 322,
   "metadata": {},
   "outputs": [],
   "source": [
    "# plotting this in 3 dimensions. \n",
    "%matplotlib qt\n",
    "from mpl_toolkits.mplot3d import Axes3D\n",
    "fig = plt.figure()\n",
    "ax = fig.add_subplot(111, projection='3d')\n",
    "ax.scatter(x_ml[0], x_ml[1], y_ml)\n",
    "\n",
    "ax.set_xlabel('Max Prob')\n",
    "ax.set_ylabel('Curr Prob')\n",
    "ax.set_zlabel('Curr Score')\n",
    "\n",
    "plt.show()"
   ]
  },
  {
   "cell_type": "code",
   "execution_count": 323,
   "metadata": {},
   "outputs": [
    {
     "data": {
      "text/plain": [
       "(0, 10.5)"
      ]
     },
     "execution_count": 323,
     "metadata": {},
     "output_type": "execute_result"
    },
    {
     "data": {
      "image/png": "[encoded data removed]",
      "text/plain": [
       "<Figure size 432x288 with 1 Axes>"
      ]
     },
     "metadata": {
      "needs_background": "light"
     },
     "output_type": "display_data"
    }
   ],
   "source": [
    "%matplotlib inline\n",
    "# this is not stat sig\n",
    "ax = sns.regplot(x=x_ml[0], y=y_ml, robust=True,\n",
    "                 color=\"g\", scatter_kws={'alpha':0.3})\n",
    "plt.xlabel('Max prob')\n",
    "plt.ylabel('Current score')\n",
    "plt.ylim([0,10.5])"
   ]
  },
  {
   "cell_type": "code",
   "execution_count": 343,
   "metadata": {},
   "outputs": [
    {
     "data": {
      "text/plain": [
       "(0, 10.5)"
      ]
     },
     "execution_count": 343,
     "metadata": {},
     "output_type": "execute_result"
    },
    {
     "data": {
      "image/png": "[encoded data removed]",
      "text/plain": [
       "<Figure size 432x288 with 1 Axes>"
      ]
     },
     "metadata": {
      "needs_background": "light"
     },
     "output_type": "display_data"
    }
   ],
   "source": [
    "ax = sns.regplot(x=x_ml[1], y=y_ml, robust=True,\n",
    "                 color=\"g\", scatter_kws={'alpha':0.3})\n",
    "plt.xlabel('Curr prob')\n",
    "plt.ylabel('Current score')\n",
    "plt.ylim([0,10.5])"
   ]
  },
  {
   "cell_type": "code",
   "execution_count": 346,
   "metadata": {},
   "outputs": [
    {
     "data": {
      "text/plain": [
       "(150, 1)"
      ]
     },
     "execution_count": 346,
     "metadata": {},
     "output_type": "execute_result"
    }
   ],
   "source": [
    "y_ml.shape"
   ]
  },
  {
   "cell_type": "code",
   "execution_count": 324,
   "metadata": {},
   "outputs": [
    {
     "data": {
      "text/html": [
       "<div>\n",
       "<style scoped>\n",
       "    .dataframe tbody tr th:only-of-type {\n",
       "        vertical-align: middle;\n",
       "    }\n",
       "\n",
       "    .dataframe tbody tr th {\n",
       "        vertical-align: top;\n",
       "    }\n",
       "\n",
       "    .dataframe thead th {\n",
       "        text-align: right;\n",
       "    }\n",
       "</style>\n",
       "<table border=\"1\" class=\"dataframe\">\n",
       "  <thead>\n",
       "    <tr style=\"text-align: right;\">\n",
       "      <th></th>\n",
       "      <th>0</th>\n",
       "      <th>1</th>\n",
       "      <th>2</th>\n",
       "    </tr>\n",
       "  </thead>\n",
       "  <tbody>\n",
       "    <tr>\n",
       "      <th>0</th>\n",
       "      <td>-0.021972</td>\n",
       "      <td>-27.984127</td>\n",
       "      <td>-28.006099</td>\n",
       "    </tr>\n",
       "    <tr>\n",
       "      <th>1</th>\n",
       "      <td>-0.021972</td>\n",
       "      <td>-7.617822</td>\n",
       "      <td>-7.639793</td>\n",
       "    </tr>\n",
       "    <tr>\n",
       "      <th>2</th>\n",
       "      <td>-0.021972</td>\n",
       "      <td>-7.582999</td>\n",
       "      <td>-7.604971</td>\n",
       "    </tr>\n",
       "    <tr>\n",
       "      <th>3</th>\n",
       "      <td>-0.021972</td>\n",
       "      <td>-6.151322</td>\n",
       "      <td>-6.173294</td>\n",
       "    </tr>\n",
       "    <tr>\n",
       "      <th>4</th>\n",
       "      <td>-0.021972</td>\n",
       "      <td>-7.158652</td>\n",
       "      <td>-7.180624</td>\n",
       "    </tr>\n",
       "  </tbody>\n",
       "</table>\n",
       "</div>"
      ],
      "text/plain": [
       "          0          1          2\n",
       "0 -0.021972 -27.984127 -28.006099\n",
       "1 -0.021972  -7.617822  -7.639793\n",
       "2 -0.021972  -7.582999  -7.604971\n",
       "3 -0.021972  -6.151322  -6.173294\n",
       "4 -0.021972  -7.158652  -7.180624"
      ]
     },
     "execution_count": 324,
     "metadata": {},
     "output_type": "execute_result"
    }
   ],
   "source": [
    "x_ml.head()"
   ]
  },
  {
   "cell_type": "code",
   "execution_count": 325,
   "metadata": {},
   "outputs": [
    {
     "data": {
      "text/html": [
       "<div>\n",
       "<style scoped>\n",
       "    .dataframe tbody tr th:only-of-type {\n",
       "        vertical-align: middle;\n",
       "    }\n",
       "\n",
       "    .dataframe tbody tr th {\n",
       "        vertical-align: top;\n",
       "    }\n",
       "\n",
       "    .dataframe thead th {\n",
       "        text-align: right;\n",
       "    }\n",
       "</style>\n",
       "<table border=\"1\" class=\"dataframe\">\n",
       "  <thead>\n",
       "    <tr style=\"text-align: right;\">\n",
       "      <th></th>\n",
       "      <th>0</th>\n",
       "    </tr>\n",
       "  </thead>\n",
       "  <tbody>\n",
       "    <tr>\n",
       "      <th>0</th>\n",
       "      <td>4.0</td>\n",
       "    </tr>\n",
       "    <tr>\n",
       "      <th>1</th>\n",
       "      <td>3.0</td>\n",
       "    </tr>\n",
       "    <tr>\n",
       "      <th>2</th>\n",
       "      <td>6.0</td>\n",
       "    </tr>\n",
       "    <tr>\n",
       "      <th>3</th>\n",
       "      <td>6.0</td>\n",
       "    </tr>\n",
       "    <tr>\n",
       "      <th>4</th>\n",
       "      <td>8.0</td>\n",
       "    </tr>\n",
       "  </tbody>\n",
       "</table>\n",
       "</div>"
      ],
      "text/plain": [
       "     0\n",
       "0  4.0\n",
       "1  3.0\n",
       "2  6.0\n",
       "3  6.0\n",
       "4  8.0"
      ]
     },
     "execution_count": 325,
     "metadata": {},
     "output_type": "execute_result"
    }
   ],
   "source": [
    "y_ml.head()"
   ]
  },
  {
   "cell_type": "code",
   "execution_count": 335,
   "metadata": {},
   "outputs": [],
   "source": [
    "# RF overfits and produces worse results than a linear regression. \n",
    "# I need to test the linear regression assumptions in order to interpret the coefficients and\n",
    "# should definitely be using a robust version\n",
    "\n",
    "# but only a linear regression with log probs performs so well, \n",
    "# this does a good job of separating out the data here where there are low probs. that can be treated differently"
   ]
  },
  {
   "cell_type": "code",
   "execution_count": 336,
   "metadata": {},
   "outputs": [
    {
     "name": "stdout",
     "output_type": "stream",
     "text": [
      "train accs [0.7083772358547447, 0.6131338685717809, 0.6412397461811685, 0.6087574697570723, 0.6598074870693582, 0.6913847827313573, 0.6528887778905363, 0.6675384485880937, 0.6406401639353465, 0.6758569891656949, 0.6601784176766313, 0.6325866278291172, 0.7146218921477988, 0.6360978185602992, 0.6153853724473197, 0.7026714477543188, 0.6456473906360196, 0.6210477528261569, 0.6741461205800985, 0.6260644910840345, 0.6617095911907902, 0.6846228038707569, 0.6378112321249041, 0.6439960104819006, 0.6605216638058804, 0.6183526176303966, 0.6807006783313619, 0.66665056939595, 0.6406146970086571, 0.6511006106219808] 0.654471759191651\n",
      "test accs [0.53856683294066, 0.7212747108476647, 0.6553539875581318, 0.7203350179666121, 0.6376007221733597, 0.5460237654701595, 0.6514496905092056, 0.6197254127471904, 0.6764189136670273, 0.5939164860732689, 0.636029973175055, 0.6902393444562764, 0.5353873110248673, 0.67612222274849, 0.7389452596701489, 0.5545589921718799, 0.6489765405903619, 0.7246222278613896, 0.6070791032949403, 0.692000739401751, 0.6283048536406268, 0.5889364886162425, 0.6764899400900188, 0.6538076192637616, 0.6295772961708078, 0.7125603501633193, 0.5786261390639598, 0.6249978948339201, 0.6733524802426838, 0.6539448455043598] 0.6428408387312714\n"
     ]
    }
   ],
   "source": [
    "from sklearn.linear_model import LinearRegression\n",
    "from sklearn.model_selection import cross_val_score, StratifiedKFold\n",
    "from sklearn.ensemble import RandomForestRegressor\n",
    "\n",
    "# how to do a robust linear regression? \n",
    "reg = LinearRegression(fit_intercept=True) #RandomForestRegressor() #LinearRegression(fit_intercept=True ) # \n",
    "\n",
    "splitter= StratifiedKFold(n_splits=3, shuffle=True)\n",
    "accuracies = []\n",
    "train_accs = []\n",
    "feat_imps = dict()\n",
    "\n",
    "for i in range(10):\n",
    "    for train_index, test_index in splitter.split(x_ml,y_ml):\n",
    "        X_train, X_test = x_ml.iloc[train_index], x_ml.iloc[test_index]\n",
    "        y_train, y_test = y_ml.iloc[train_index].values.ravel(), y_ml.iloc[test_index].values.ravel()\n",
    "        reg.fit(X_train, y_train) # solver='lbfgs', max_iter=1000\n",
    "        train_accs.append(reg.score(X_train, y_train))\n",
    "        accuracies.append(reg.score(X_test, y_test))\n",
    "        '''for ind, e in enumerate(reg.feature_importances_):\n",
    "            try:\n",
    "                feat_imps[ind].append(e)\n",
    "            except:\n",
    "                feat_imps[ind] = [e]\n",
    "        '''\n",
    "\n",
    "print('train accs', train_accs, sum(train_accs)/len(train_accs))\n",
    "print('test accs', accuracies, sum(accuracies)/len(accuracies))"
   ]
  },
  {
   "cell_type": "code",
   "execution_count": 337,
   "metadata": {},
   "outputs": [],
   "source": [
    "for k,v in feat_imps.items():\n",
    "    print(sum(v)/len(v))"
   ]
  },
  {
   "cell_type": "code",
   "execution_count": 338,
   "metadata": {},
   "outputs": [
    {
     "ename": "AttributeError",
     "evalue": "'LinearRegression' object has no attribute 'feature_importances_'",
     "output_type": "error",
     "traceback": [
      "\u001b[0;31m---------------------------------------------------------------------------\u001b[0m",
      "\u001b[0;31mAttributeError\u001b[0m                            Traceback (most recent call last)",
      "\u001b[0;32m<ipython-input-338-51ec07c032a5>\u001b[0m in \u001b[0;36m<module>\u001b[0;34m\u001b[0m\n\u001b[0;32m----> 1\u001b[0;31m \u001b[0mreg\u001b[0m\u001b[0;34m.\u001b[0m\u001b[0mfeature_importances_\u001b[0m\u001b[0;34m\u001b[0m\u001b[0;34m\u001b[0m\u001b[0m\n\u001b[0m",
      "\u001b[0;31mAttributeError\u001b[0m: 'LinearRegression' object has no attribute 'feature_importances_'"
     ]
    }
   ],
   "source": [
    "reg.feature_importances_"
   ]
  },
  {
   "cell_type": "code",
   "execution_count": 340,
   "metadata": {},
   "outputs": [
    {
     "name": "stdout",
     "output_type": "stream",
     "text": [
      "train accs [0.6111978569545191, 0.6630762820284599, 0.6795375086183377, 0.6853163286401596, 0.6027688489816491, 0.6699014413486711, 0.6097767666884054, 0.6780408618968001, 0.669499957339879, 0.6198457885826849, 0.6701759486527679, 0.6658119378059744, 0.6088617668012006, 0.6640970033760948, 0.680114784444832, 0.6463269232447466, 0.6728623150752087, 0.6379706047112129, 0.645451261260149, 0.646550981722785, 0.6670789579772242, 0.6956206558286271, 0.6394319500138288, 0.6248967813806974, 0.6616353415445982, 0.6417413773257348, 0.6519987799005871, 0.6195340113727392, 0.6747190895872512, 0.6605194195694755] 0.6521453844225102\n",
      "test accs [0.722291279374378, 0.6300534740756819, 0.5800652081301817, 0.5851012664456855, 0.7367480540221139, 0.6057052443129811, 0.7187069041213958, 0.5984274405970983, 0.6071540414117229, 0.7066067134149547, 0.6132267387212191, 0.6158744369250275, 0.7274701625815208, 0.6282199714124148, 0.5795761189192616, 0.6610529794689661, 0.6107057969501106, 0.6834344277711364, 0.6615842313556162, 0.648589360879837, 0.6097833784713309, 0.5690388240547799, 0.6734611369266885, 0.7145867749416748, 0.6339009004139671, 0.6693101398996821, 0.6496631693037738, 0.7083307144716637, 0.6083232174195525, 0.628323693964782] 0.6461771933586399\n"
     ]
    }
   ],
   "source": [
    "# how accurate with only the info for this value? \n",
    "\n",
    "splitter= StratifiedKFold(n_splits=3, shuffle=True)\n",
    "accuracies = []\n",
    "train_accs = []\n",
    "\n",
    "reg = LinearRegression(fit_intercept=True) #LinearRegression(fit_intercept=True)#RandomForestRegressor()#LinearRegression(fit_intercept=True)\n",
    "\n",
    "for i in range(10):\n",
    "    for train_index, test_index in splitter.split(x_ml,y_ml):\n",
    "        X_train, X_test = x_ml.iloc[train_index, 1].values.reshape(-1,1), x_ml.iloc[test_index,1].values.reshape(-1,1)\n",
    "        #print((X_train))\n",
    "        y_train, y_test = y_ml.iloc[train_index].values.ravel(), y_ml.iloc[test_index].values.ravel()\n",
    "        reg.fit(X_train, y_train) # solver='lbfgs', max_iter=1000\n",
    "        train_accs.append(reg.score(X_train, y_train))\n",
    "        accuracies.append(reg.score(X_test, y_test))\n",
    "\n",
    "print('train accs', train_accs, sum(train_accs)/len(train_accs))\n",
    "print('test accs', accuracies, sum(accuracies)/len(accuracies))"
   ]
  },
  {
   "cell_type": "code",
   "execution_count": 246,
   "metadata": {},
   "outputs": [
    {
     "data": {
      "text/plain": [
       "array([[0.22598455]])"
      ]
     },
     "execution_count": 246,
     "metadata": {},
     "output_type": "execute_result"
    }
   ],
   "source": [
    "reg.coef_"
   ]
  },
  {
   "cell_type": "markdown",
   "metadata": {},
   "source": [
    "### Asking the model to predict the lowest probability of a score of 8. \n"
   ]
  },
  {
   "cell_type": "code",
   "execution_count": 389,
   "metadata": {},
   "outputs": [
    {
     "data": {
      "text/html": [
       "<div>\n",
       "<style scoped>\n",
       "    .dataframe tbody tr th:only-of-type {\n",
       "        vertical-align: middle;\n",
       "    }\n",
       "\n",
       "    .dataframe tbody tr th {\n",
       "        vertical-align: top;\n",
       "    }\n",
       "\n",
       "    .dataframe thead th {\n",
       "        text-align: right;\n",
       "    }\n",
       "</style>\n",
       "<table border=\"1\" class=\"dataframe\">\n",
       "  <thead>\n",
       "    <tr style=\"text-align: right;\">\n",
       "      <th></th>\n",
       "      <th></th>\n",
       "      <th></th>\n",
       "      <th>0</th>\n",
       "      <th>median_score</th>\n",
       "      <th>prob</th>\n",
       "    </tr>\n",
       "    <tr>\n",
       "      <th>q_ind</th>\n",
       "      <th>turk_v</th>\n",
       "      <th>word</th>\n",
       "      <th></th>\n",
       "      <th></th>\n",
       "      <th></th>\n",
       "    </tr>\n",
       "  </thead>\n",
       "  <tbody>\n",
       "    <tr>\n",
       "      <th rowspan=\"5\" valign=\"top\">0</th>\n",
       "      <th rowspan=\"5\" valign=\"top\">1</th>\n",
       "      <th>Population</th>\n",
       "      <td>[4.0, 7.025027803399253e-13]</td>\n",
       "      <td>4.0</td>\n",
       "      <td>7.025028e-13</td>\n",
       "    </tr>\n",
       "    <tr>\n",
       "      <th>bad</th>\n",
       "      <td>[3.0, 0.0004916115431115031]</td>\n",
       "      <td>3.0</td>\n",
       "      <td>4.916115e-04</td>\n",
       "    </tr>\n",
       "    <tr>\n",
       "      <th>circumstances</th>\n",
       "      <td>[6.0, 0.0005090322229079902]</td>\n",
       "      <td>6.0</td>\n",
       "      <td>5.090322e-04</td>\n",
       "    </tr>\n",
       "    <tr>\n",
       "      <th>event</th>\n",
       "      <td>[6.0, 0.0021306623239070177]</td>\n",
       "      <td>6.0</td>\n",
       "      <td>2.130662e-03</td>\n",
       "    </tr>\n",
       "    <tr>\n",
       "      <th>events</th>\n",
       "      <td>[10.0, 0.9782679080963135]</td>\n",
       "      <td>10.0</td>\n",
       "      <td>9.782679e-01</td>\n",
       "    </tr>\n",
       "  </tbody>\n",
       "</table>\n",
       "</div>"
      ],
      "text/plain": [
       "                                                       0  median_score  \\\n",
       "q_ind turk_v word                                                        \n",
       "0     1      Population     [4.0, 7.025027803399253e-13]           4.0   \n",
       "             bad            [3.0, 0.0004916115431115031]           3.0   \n",
       "             circumstances  [6.0, 0.0005090322229079902]           6.0   \n",
       "             event          [6.0, 0.0021306623239070177]           6.0   \n",
       "             events           [10.0, 0.9782679080963135]          10.0   \n",
       "\n",
       "                                    prob  \n",
       "q_ind turk_v word                         \n",
       "0     1      Population     7.025028e-13  \n",
       "             bad            4.916115e-04  \n",
       "             circumstances  5.090322e-04  \n",
       "             event          2.130662e-03  \n",
       "             events         9.782679e-01  "
      ]
     },
     "execution_count": 389,
     "metadata": {},
     "output_type": "execute_result"
    }
   ],
   "source": [
    "median_scores.head()"
   ]
  },
  {
   "cell_type": "code",
   "execution_count": 392,
   "metadata": {},
   "outputs": [],
   "source": [
    "x = []\n",
    "y = []\n",
    "meta_deets = []\n",
    "for q, k in median_scores.groupby(['q_ind', 'turk_v']):\n",
    "    x.append(k['prob'].values)\n",
    "    y.append(k['median_score'].values)\n",
    "    meta_deets.append(q)\n"
   ]
  },
  {
   "cell_type": "code",
   "execution_count": 376,
   "metadata": {},
   "outputs": [
    {
     "data": {
      "text/plain": [
       "30"
      ]
     },
     "execution_count": 376,
     "metadata": {},
     "output_type": "execute_result"
    }
   ],
   "source": [
    "len(x)"
   ]
  },
  {
   "cell_type": "code",
   "execution_count": 423,
   "metadata": {},
   "outputs": [],
   "source": [
    "x_ml = []\n",
    "y_ml = []\n",
    "for q_prob, q_score in zip(x,y): \n",
    "    \n",
    "    if 8 not in q_score:\n",
    "        continue\n",
    "        \n",
    "    q_prob = np.log(q_prob)\n",
    "    \n",
    "    eight_inds = np.where(q_score==8)[0]\n",
    "    \n",
    "    min_eight_prob = np.min(q_prob[eight_inds])\n",
    "    '''l_ind = np.where(q_prob == min_eight_prob)[0]\n",
    "    '''\n",
    "    \n",
    "    x_ml.append( q_prob )\n",
    "    y_ml.append( min_eight_prob )"
   ]
  },
  {
   "cell_type": "code",
   "execution_count": 424,
   "metadata": {},
   "outputs": [
    {
     "data": {
      "text/plain": [
       "0"
      ]
     },
     "execution_count": 424,
     "metadata": {},
     "output_type": "execute_result"
    }
   ],
   "source": [
    "np.argmin(y[0][np.where(y[0]==6)[0]])"
   ]
  },
  {
   "cell_type": "code",
   "execution_count": 425,
   "metadata": {},
   "outputs": [
    {
     "data": {
      "text/plain": [
       "27"
      ]
     },
     "execution_count": 425,
     "metadata": {},
     "output_type": "execute_result"
    }
   ],
   "source": [
    "len(x_ml)"
   ]
  },
  {
   "cell_type": "code",
   "execution_count": 426,
   "metadata": {},
   "outputs": [],
   "source": [
    "x_ml = pd.DataFrame(x_ml)\n",
    "y_ml = pd.DataFrame(y_ml)"
   ]
  },
  {
   "cell_type": "code",
   "execution_count": 427,
   "metadata": {},
   "outputs": [
    {
     "name": "stderr",
     "output_type": "stream",
     "text": [
      "/Users/trentonbricken/anaconda3/lib/python3.7/site-packages/sklearn/ensemble/forest.py:245: FutureWarning: The default value of n_estimators will change from 10 in version 0.20 to 100 in 0.22.\n",
      "  \"10 in version 0.20 to 100 in 0.22.\", FutureWarning)\n"
     ]
    },
    {
     "name": "stdout",
     "output_type": "stream",
     "text": [
      "train accs [0.8519292811618545, 0.7718135380015002, 0.7566943274757313, 0.6278273456490262, 0.8387790520264738, 0.833916145961779, 0.8079453112185726, 0.7954409167784554, 0.7083505715054308, 0.8259612208995722, 0.852191398495305, 0.7854537762825201, 0.5943716485113492, 0.6062558728101413, 0.8127670645065126, 0.787032088317826, 0.7787627520333902, 0.8028072667733496, 0.7999911539943088, 0.852262542227923, 0.8240012571081582, 0.8170881348653622, 0.80083001741429, 0.8461856459823524, 0.7857039608485942, 0.6788634704110792, 0.6856974006337815, 0.6606728934266077, 0.7532597129999282, 0.8629785249663489, 0.7935932428625742, 0.7596276392678644, 0.8188293381987343, 0.7667590399225513, 0.7016185100263742, 0.8591011492134767, 0.8438652788412279, 0.6727169534112393, 0.772951560540921, 0.7359048980443338, 0.7621150736538875, 0.7956118646614145, 0.8434214829523204, 0.758188868401097, 0.7711003815528324, 0.881338820875815, 0.8239856048389517, 0.8413794786705997, 0.8330706644818393, 0.8772173672796064, 0.7046663132992739, 0.7273083495638089, 0.7917007032730583, 0.9030350852167265, 0.8560105740992793, 0.8103544173951813, 0.8311994176421986, 0.8340484939345887, 0.7825161438265511, 0.7326574476428389, 0.8088294988779368, 0.8983794459652785, 0.7398593397501405, 0.7379025384608725, 0.8461865913286286, 0.7696557757758707, 0.8981019284079381, 0.8107899111266236, 0.8121988149006362, 0.8433385471597107, 0.8207241912036991, 0.8848617446347007, 0.8880991446930553, 0.8436651014153462, 0.814924320938063, 0.6769903882029391, 0.8555863421593993, 0.7006481404267375, 0.8265620403277478, 0.6619247999934861, 0.8951419132844981, 0.732894986762519, 0.7396965003562228, 0.7679692890890553, 0.7768008143930103, 0.7576503594390096, 0.8908280830757916, 0.8120655061580688, 0.7681970289082015, 0.7432557999906031, 0.8446173060682238, 0.8210618924672075, 0.5456434615677448, 0.8105380092193721, 0.8545838522644923, 0.8221999738892973, 0.8479218554867994, 0.8487270577771339, 0.7168586908017867, 0.7264530714850546] 0.7895406251511161\n",
      "test accs [0.12496714044423217, -47.884550028610825, -1.6729706800611441, -0.46864646808482746, -6.442443096584336, -1.6697480221987973, 0.30932765019733466, -12.41252305613337, 0.8257100869505059, -2.162460303067571, -4.569302305075365, -0.6080677501446836, -0.23796192264963525, 0.4114938729601185, -14.104754991504773, -0.23478160635803216, -0.16078303282660822, -1.7393332896755174, 0.6666110798402041, -1.4061528865680144, 0.20672683622577545, -0.04594687774367956, -15.576125125456873, -0.7652111137386093, 0.6588309379766807, -0.8874329677309492, 0.7367258217345014, -112.32216749907063, -0.27793729745836604, -9.789535006944611, -0.9745715843462509, -1.5097698668310109, -0.7094186417645061, -0.5517652652826457, 0.25056549384995896, -0.5032235797056213, 0.05793081108283038, -1.6682654025070756, -15.926605606555787, -2.408466629660513, -16.18033272683346, -0.5238513344735753, -0.2298022189809492, 0.35722972570672085, -52.128877080738384, -4.478836849964082, -0.9440889592099403, 0.4095739945341953, -0.39424990610770316, -0.871657643643524, -2.3298796220650626, -0.642702272056827, -5.423080115931837, 0.43545941739525307, 0.25615224638153566, -0.6580178593919075, -4.173436972072709, -1.919715252059735, -1.7889233300638252, 0.4755027088141863, -2.4096006795440736, 0.523336832854923, 0.4604042205583404, -0.44033243244356846, -0.4866539076434624, 0.3132171734687611, -8.573864485799898, -0.06475736822260014, -4.474136394889745, 0.2328034681891206, -0.17723770017720786, -1.4389613330671707, -0.3525296939318381, -0.836755338136115, 0.4115163802711841, -2.727590687150279, -0.23929300605861625, -0.5628855457076543, -17.098977619163595, -2.764421344584062, -6.680139115769772, 0.137822041234977, -0.23707521483179672, -1.1841440504128227, -3.20039694719091, -8.144852792335904, 0.15721328245442456, -2.8450455390724443, 0.467933601311851, 0.6619693920415892, 0.224306601948707, -0.05705629729222017, 0.3178505492962376, -0.4030332188453647, 0.5678397873927606, -7.507603182926305, -1.4088169476542167, 0.6404768875678808, -0.07756033978362709, -9.956447909305625] -4.254290450971902\n"
     ]
    }
   ],
   "source": [
    "from sklearn.linear_model import LinearRegression\n",
    "from sklearn.model_selection import cross_val_score, StratifiedKFold, KFold\n",
    "from sklearn.ensemble import RandomForestRegressor\n",
    "\n",
    "# how to do a robust linear regression? \n",
    "reg = RandomForestRegressor()#LinearRegression(fit_intercept=True) #RandomForestRegressor() #LinearRegression(fit_intercept=True ) # \n",
    "\n",
    "splitter= KFold(n_splits=10, shuffle=True)\n",
    "accuracies = []\n",
    "train_accs = []\n",
    "feat_imps = dict()\n",
    "\n",
    "for i in range(10):\n",
    "    for train_index, test_index in splitter.split(x_ml,y_ml):\n",
    "        X_train, X_test = x_ml.iloc[train_index], x_ml.iloc[test_index]\n",
    "        y_train, y_test = y_ml.iloc[train_index].values.ravel(), y_ml.iloc[test_index].values.ravel()\n",
    "        reg.fit(X_train, y_train)\n",
    "        train_accs.append(reg.score(X_train, y_train))\n",
    "        accuracies.append(reg.score(X_test, y_test))\n",
    "        '''for ind, e in enumerate(reg.feature_importances_):\n",
    "            try:\n",
    "                feat_imps[ind].append(e)\n",
    "            except:\n",
    "                feat_imps[ind] = [e]\n",
    "        '''\n",
    "\n",
    "print('train accs', train_accs, sum(train_accs)/len(train_accs))\n",
    "print('test accs', accuracies, sum(accuracies)/len(accuracies))"
   ]
  },
  {
   "cell_type": "markdown",
   "metadata": {},
   "source": [
    "# Why do I have negative R^2 values?!?!"
   ]
  },
  {
   "cell_type": "code",
   "execution_count": 428,
   "metadata": {},
   "outputs": [
    {
     "data": {
      "text/plain": [
       "(array([1., 0., 1., 0., 1., 4., 6., 7., 4., 3.]),\n",
       " array([-7.15865186, -6.63137882, -6.10410578, -5.57683274, -5.04955971,\n",
       "        -4.52228667, -3.99501363, -3.46774059, -2.94046756, -2.41319452,\n",
       "        -1.88592148]),\n",
       " <a list of 10 Patch objects>)"
      ]
     },
     "execution_count": 428,
     "metadata": {},
     "output_type": "execute_result"
    },
    {
     "data": {
      "image/png": "[encoded data removed]",
      "text/plain": [
       "<Figure size 432x288 with 1 Axes>"
      ]
     },
     "metadata": {
      "needs_background": "light"
     },
     "output_type": "display_data"
    }
   ],
   "source": [
    "plt.hist(y_ml.values)"
   ]
  },
  {
   "cell_type": "code",
   "execution_count": null,
   "metadata": {},
   "outputs": [],
   "source": []
  },
  {
   "cell_type": "code",
   "execution_count": 429,
   "metadata": {},
   "outputs": [],
   "source": [
    "# connecting these y points to the underlying distributions. where would nuc and tfs be drawing \n",
    "# overlay where the sampled points are and what their actual scores are. \n",
    "\n",
    "# what is the underlying pattern behind these score distributions? "
   ]
  },
  {
   "cell_type": "code",
   "execution_count": 394,
   "metadata": {},
   "outputs": [],
   "source": [
    "df1 = pd.read_csv('MTURK_FIRST_backup_of_different_prob_slices.csv')\n",
    "df2 = pd.read_csv('MTURK_QUESTIONS_TWO__backup_of_different_prob_slices.csv')"
   ]
  },
  {
   "cell_type": "code",
   "execution_count": null,
   "metadata": {},
   "outputs": [],
   "source": [
    "meta_deets; # is question index and then turk version. "
   ]
  },
  {
   "cell_type": "code",
   "execution_count": 395,
   "metadata": {},
   "outputs": [
    {
     "data": {
      "text/html": [
       "<div>\n",
       "<style scoped>\n",
       "    .dataframe tbody tr th:only-of-type {\n",
       "        vertical-align: middle;\n",
       "    }\n",
       "\n",
       "    .dataframe tbody tr th {\n",
       "        vertical-align: top;\n",
       "    }\n",
       "\n",
       "    .dataframe thead th {\n",
       "        text-align: right;\n",
       "    }\n",
       "</style>\n",
       "<table border=\"1\" class=\"dataframe\">\n",
       "  <thead>\n",
       "    <tr style=\"text-align: right;\">\n",
       "      <th></th>\n",
       "      <th>Unnamed: 0</th>\n",
       "      <th>prompt_ind</th>\n",
       "      <th>time_point</th>\n",
       "      <th>batch_ind</th>\n",
       "      <th>ind_in_batch</th>\n",
       "      <th>leading_words</th>\n",
       "      <th>ground_word</th>\n",
       "      <th>ground_word_prob</th>\n",
       "      <th>words</th>\n",
       "      <th>abs_inds</th>\n",
       "      <th>probs</th>\n",
       "    </tr>\n",
       "  </thead>\n",
       "  <tbody>\n",
       "    <tr>\n",
       "      <th>0</th>\n",
       "      <td>0</td>\n",
       "      <td>19</td>\n",
       "      <td>28</td>\n",
       "      <td>0</td>\n",
       "      <td>19</td>\n",
       "      <td>change something, might be the one trigger th...</td>\n",
       "      <td>events</td>\n",
       "      <td>4.103564e-07</td>\n",
       "      <td>['events' 'event' 'things' 'circumstances' 'ba...</td>\n",
       "      <td>[0, 1, 2, 3, 4, 50158]</td>\n",
       "      <td>[0.9782679, 0.0021306623, 0.00077810284, 0.000...</td>\n",
       "    </tr>\n",
       "    <tr>\n",
       "      <th>1</th>\n",
       "      <td>1</td>\n",
       "      <td>72</td>\n",
       "      <td>100</td>\n",
       "      <td>3</td>\n",
       "      <td>2</td>\n",
       "      <td>the world ’ s leading pharmaceutical companie...</td>\n",
       "      <td>would</td>\n",
       "      <td>5.513494e-05</td>\n",
       "      <td>['were' 'had' 'would' 'could' 'are' 'iterator']</td>\n",
       "      <td>[0, 3, 5, 6, 7, 50140]</td>\n",
       "      <td>[0.123787306, 0.09488712, 0.04294153, 0.035621...</td>\n",
       "    </tr>\n",
       "    <tr>\n",
       "      <th>2</th>\n",
       "      <td>2</td>\n",
       "      <td>31</td>\n",
       "      <td>29</td>\n",
       "      <td>1</td>\n",
       "      <td>8</td>\n",
       "      <td>off guard. While your body lay half on the co...</td>\n",
       "      <td>edge</td>\n",
       "      <td>1.622044e-06</td>\n",
       "      <td>['edge' 'counter' 'sink' 'side' 'table' 'Plot']</td>\n",
       "      <td>[0, 1, 2, 3, 4, 50130]</td>\n",
       "      <td>[0.27985963, 0.1617055, 0.08516163, 0.06683456...</td>\n",
       "    </tr>\n",
       "    <tr>\n",
       "      <th>3</th>\n",
       "      <td>3</td>\n",
       "      <td>56</td>\n",
       "      <td>73</td>\n",
       "      <td>2</td>\n",
       "      <td>10</td>\n",
       "      <td>I'm getting rrREAdy''. My murmur had ended with</td>\n",
       "      <td>a</td>\n",
       "      <td>5.716932e-05</td>\n",
       "      <td>['a' 'the' 'my' 'an' 'me' 'conservancy']</td>\n",
       "      <td>[0, 1, 2, 3, 4, 50140]</td>\n",
       "      <td>[0.41619945, 0.17138307, 0.11777301, 0.0551321...</td>\n",
       "    </tr>\n",
       "    <tr>\n",
       "      <th>4</th>\n",
       "      <td>4</td>\n",
       "      <td>24</td>\n",
       "      <td>60</td>\n",
       "      <td>1</td>\n",
       "      <td>1</td>\n",
       "      <td>crunched underneath and the ground bubbled wi...</td>\n",
       "      <td>creek</td>\n",
       "      <td>2.153896e-08</td>\n",
       "      <td>['and' 'of' 'oak' 'sand' 'sky' 'Eat']</td>\n",
       "      <td>[4, 5, 6, 7, 8, 50156]</td>\n",
       "      <td>[0.023683885, 0.013982991, 0.011684752, 0.0113...</td>\n",
       "    </tr>\n",
       "  </tbody>\n",
       "</table>\n",
       "</div>"
      ],
      "text/plain": [
       "   Unnamed: 0  prompt_ind  time_point  batch_ind  ind_in_batch  \\\n",
       "0           0          19          28          0            19   \n",
       "1           1          72         100          3             2   \n",
       "2           2          31          29          1             8   \n",
       "3           3          56          73          2            10   \n",
       "4           4          24          60          1             1   \n",
       "\n",
       "                                       leading_words ground_word  \\\n",
       "0   change something, might be the one trigger th...      events   \n",
       "1   the world ’ s leading pharmaceutical companie...       would   \n",
       "2   off guard. While your body lay half on the co...        edge   \n",
       "3    I'm getting rrREAdy''. My murmur had ended with           a   \n",
       "4   crunched underneath and the ground bubbled wi...       creek   \n",
       "\n",
       "   ground_word_prob                                              words  \\\n",
       "0      4.103564e-07  ['events' 'event' 'things' 'circumstances' 'ba...   \n",
       "1      5.513494e-05    ['were' 'had' 'would' 'could' 'are' 'iterator']   \n",
       "2      1.622044e-06    ['edge' 'counter' 'sink' 'side' 'table' 'Plot']   \n",
       "3      5.716932e-05           ['a' 'the' 'my' 'an' 'me' 'conservancy']   \n",
       "4      2.153896e-08              ['and' 'of' 'oak' 'sand' 'sky' 'Eat']   \n",
       "\n",
       "                 abs_inds                                              probs  \n",
       "0  [0, 1, 2, 3, 4, 50158]  [0.9782679, 0.0021306623, 0.00077810284, 0.000...  \n",
       "1  [0, 3, 5, 6, 7, 50140]  [0.123787306, 0.09488712, 0.04294153, 0.035621...  \n",
       "2  [0, 1, 2, 3, 4, 50130]  [0.27985963, 0.1617055, 0.08516163, 0.06683456...  \n",
       "3  [0, 1, 2, 3, 4, 50140]  [0.41619945, 0.17138307, 0.11777301, 0.0551321...  \n",
       "4  [4, 5, 6, 7, 8, 50156]  [0.023683885, 0.013982991, 0.011684752, 0.0113...  "
      ]
     },
     "execution_count": 395,
     "metadata": {},
     "output_type": "execute_result"
    }
   ],
   "source": [
    "df1.head()"
   ]
  },
  {
   "cell_type": "code",
   "execution_count": 397,
   "metadata": {},
   "outputs": [],
   "source": [
    "batch_size=25\n",
    "num_batches=4\n",
    "prompt_length=100\n",
    "generated_length=150\n",
    "tot_len = prompt_length+generated_length\n",
    "\n",
    "import encoder\n",
    "from decodeLogits import *\n",
    "model_name='774M' #345M\n",
    "models_dir='../gpt-2/models'\n",
    "enc = encoder.get_encoder(model_name, models_dir)\n",
    "\n",
    "prompts=pd.read_csv('test_dataframe_500primer.csv')"
   ]
  },
  {
   "cell_type": "code",
   "execution_count": 398,
   "metadata": {},
   "outputs": [],
   "source": [
    "gpt_out_path = 'gpt-2_output/'\n",
    "additional_path = '-model_774M-seed_27'#'' \n",
    "#all_perps = pickle.load( gzip.open(gpt_out_path+'all_perplexities_perplexity_scores_for_the_dataset_Human_StoryPrompts_Completion.csv'+additional_path+'.pickle.gz', 'rb'))\n",
    "all_logits = pickle.load( gzip.open(gpt_out_path+'all_logits_perplexity_scores_for_the_dataset_Human_StoryPrompts_Completion.csv'+additional_path+'.pickle.gz', 'rb')) # needed to get the probabilities\n",
    "text = pickle.load( gzip.open(gpt_out_path+'all_text_perplexity_scores_for_the_dataset_Human_StoryPrompts_Completion.csv'+additional_path+'.pickle.gz', 'rb'))"
   ]
  },
  {
   "cell_type": "code",
   "execution_count": 406,
   "metadata": {},
   "outputs": [
    {
     "data": {
      "text/plain": [
       "array([0.0007781])"
      ]
     },
     "execution_count": 406,
     "metadata": {},
     "output_type": "execute_result"
    }
   ],
   "source": [
    "y_ml.iloc[0].values"
   ]
  },
  {
   "cell_type": "code",
   "execution_count": 414,
   "metadata": {},
   "outputs": [
    {
     "data": {
      "text/plain": [
       "30"
      ]
     },
     "execution_count": 414,
     "metadata": {},
     "output_type": "execute_result"
    }
   ],
   "source": [
    "len(meta_deets)"
   ]
  },
  {
   "cell_type": "code",
   "execution_count": 416,
   "metadata": {},
   "outputs": [
    {
     "data": {
      "text/plain": [
       "[array([ 4.,  3.,  6.,  6., 10.,  8.]),\n",
       " array([9., 8., 8., 8., 8., 2.]),\n",
       " array([8., 8., 7., 4., 8., 6.]),\n",
       " array([10.,  2., 10.,  8., 10., 10.]),\n",
       " array([ 2.,  6., 10.,  8.,  8.,  8.]),\n",
       " array([ 2.,  9., 10.,  8., 10.,  4.]),\n",
       " array([9., 8., 5., 5., 6., 7.]),\n",
       " array([ 2., 10., 10.,  8., 10.,  7.]),\n",
       " array([4., 5., 6., 6., 6., 8.]),\n",
       " array([ 2.,  9., 10., 10., 10., 10.]),\n",
       " array([ 6.,  8., 10.,  4.,  8.,  8.]),\n",
       " array([10., 10.,  2., 10.,  9., 10.]),\n",
       " array([2., 3., 8., 8., 7., 7.]),\n",
       " array([ 2., 10.,  8.,  8.,  8., 10.]),\n",
       " array([8., 6., 4., 6., 6., 6.]),\n",
       " array([ 3.,  8.,  8., 10., 10., 10.]),\n",
       " array([2., 6., 8., 6., 9., 6.]),\n",
       " array([ 2.,  9.,  8.,  8.,  8., 10.]),\n",
       " array([8., 8., 7., 8., 8., 6.]),\n",
       " array([ 4.,  4., 10., 10.,  6., 10.]),\n",
       " array([ 8.,  8.,  7., 10.,  8.,  2.]),\n",
       " array([ 8.,  4.,  8.,  2.,  8., 10.]),\n",
       " array([ 3.,  9.,  8.,  8.,  7., 10.]),\n",
       " array([ 7.,  2., 10.,  8.,  8., 10.]),\n",
       " array([ 2.,  8.,  8., 10.,  8.,  8.]),\n",
       " array([ 8.,  8.,  8.,  8.,  2., 10.]),\n",
       " array([2., 8., 6., 8., 8., 8.]),\n",
       " array([ 4.,  8.,  7., 10., 10., 10.]),\n",
       " array([3., 8., 6., 8., 7., 5.]),\n",
       " array([ 4.,  8., 10., 10., 10., 10.])]"
      ]
     },
     "execution_count": 416,
     "metadata": {},
     "output_type": "execute_result"
    }
   ],
   "source": [
    "y"
   ]
  },
  {
   "cell_type": "code",
   "execution_count": 430,
   "metadata": {},
   "outputs": [
    {
     "data": {
      "text/plain": [
       "[array([ 4.,  3.,  6.,  6., 10.,  8.]),\n",
       " array([9., 8., 8., 8., 8., 2.]),\n",
       " array([8., 8., 7., 4., 8., 6.]),\n",
       " array([10.,  2., 10.,  8., 10., 10.]),\n",
       " array([ 2.,  6., 10.,  8.,  8.,  8.]),\n",
       " array([ 2.,  9., 10.,  8., 10.,  4.]),\n",
       " array([9., 8., 5., 5., 6., 7.]),\n",
       " array([ 2., 10., 10.,  8., 10.,  7.]),\n",
       " array([4., 5., 6., 6., 6., 8.]),\n",
       " array([ 2.,  9., 10., 10., 10., 10.]),\n",
       " array([ 6.,  8., 10.,  4.,  8.,  8.]),\n",
       " array([10., 10.,  2., 10.,  9., 10.]),\n",
       " array([2., 3., 8., 8., 7., 7.]),\n",
       " array([ 2., 10.,  8.,  8.,  8., 10.]),\n",
       " array([8., 6., 4., 6., 6., 6.]),\n",
       " array([ 3.,  8.,  8., 10., 10., 10.]),\n",
       " array([2., 6., 8., 6., 9., 6.]),\n",
       " array([ 2.,  9.,  8.,  8.,  8., 10.]),\n",
       " array([8., 8., 7., 8., 8., 6.]),\n",
       " array([ 4.,  4., 10., 10.,  6., 10.]),\n",
       " array([ 8.,  8.,  7., 10.,  8.,  2.]),\n",
       " array([ 8.,  4.,  8.,  2.,  8., 10.]),\n",
       " array([ 3.,  9.,  8.,  8.,  7., 10.]),\n",
       " array([ 7.,  2., 10.,  8.,  8., 10.]),\n",
       " array([ 2.,  8.,  8., 10.,  8.,  8.]),\n",
       " array([ 8.,  8.,  8.,  8.,  2., 10.]),\n",
       " array([2., 8., 6., 8., 8., 8.]),\n",
       " array([ 4.,  8.,  7., 10., 10., 10.]),\n",
       " array([3., 8., 6., 8., 7., 5.]),\n",
       " array([ 4.,  8., 10., 10., 10., 10.])]"
      ]
     },
     "execution_count": 430,
     "metadata": {},
     "output_type": "execute_result"
    }
   ],
   "source": [
    "y"
   ]
  },
  {
   "cell_type": "code",
   "execution_count": 431,
   "metadata": {},
   "outputs": [
    {
     "name": "stdout",
     "output_type": "stream",
     "text": [
      "lowest 8 score prob: [0.02545756] at ind: [2]\n"
     ]
    },
    {
     "data": {
      "image/png": "[encoded data removed]",
      "text/plain": [
       "<Figure size 432x288 with 1 Axes>"
      ]
     },
     "metadata": {
      "needs_background": "light"
     },
     "output_type": "display_data"
    },
    {
     "name": "stdout",
     "output_type": "stream",
     "text": [
      "lowest 8 score prob: [0.02545756] at ind: [6]\n"
     ]
    },
    {
     "data": {
      "image/png": "[encoded data removed]",
      "text/plain": [
       "<Figure size 432x288 with 1 Axes>"
      ]
     },
     "metadata": {
      "needs_background": "light"
     },
     "output_type": "display_data"
    },
    {
     "name": "stdout",
     "output_type": "stream",
     "text": [
      "lowest 8 score prob: [0.02545756] at ind: [7]\n"
     ]
    },
    {
     "data": {
      "image/png": "[encoded data removed]",
      "text/plain": [
       "<Figure size 432x288 with 1 Axes>"
      ]
     },
     "metadata": {
      "needs_background": "light"
     },
     "output_type": "display_data"
    },
    {
     "name": "stdout",
     "output_type": "stream",
     "text": [
      "lowest 8 score prob: [0.02545756] at ind: [1]\n"
     ]
    },
    {
     "data": {
      "image/png": "[encoded data removed]",
      "text/plain": [
       "<Figure size 432x288 with 1 Axes>"
      ]
     },
     "metadata": {
      "needs_background": "light"
     },
     "output_type": "display_data"
    },
    {
     "name": "stdout",
     "output_type": "stream",
     "text": [
      "lowest 8 score prob: [0.02545756] at ind: [4]\n"
     ]
    },
    {
     "data": {
      "image/png": "[encoded data removed]",
      "text/plain": [
       "<Figure size 432x288 with 1 Axes>"
      ]
     },
     "metadata": {
      "needs_background": "light"
     },
     "output_type": "display_data"
    },
    {
     "name": "stdout",
     "output_type": "stream",
     "text": [
      "lowest 8 score prob: [0.02545756] at ind: [1]\n"
     ]
    },
    {
     "data": {
      "image/png": "[encoded data removed]",
      "text/plain": [
       "<Figure size 432x288 with 1 Axes>"
      ]
     },
     "metadata": {
      "needs_background": "light"
     },
     "output_type": "display_data"
    },
    {
     "name": "stdout",
     "output_type": "stream",
     "text": [
      "lowest 8 score prob: [0.02545756] at ind: [3]\n"
     ]
    },
    {
     "data": {
      "image/png": "[encoded data removed]",
      "text/plain": [
       "<Figure size 432x288 with 1 Axes>"
      ]
     },
     "metadata": {
      "needs_background": "light"
     },
     "output_type": "display_data"
    },
    {
     "name": "stdout",
     "output_type": "stream",
     "text": [
      "lowest 8 score prob: [0.02545756] at ind: [2]\n"
     ]
    },
    {
     "data": {
      "image/png": "[encoded data removed]",
      "text/plain": [
       "<Figure size 432x288 with 1 Axes>"
      ]
     },
     "metadata": {
      "needs_background": "light"
     },
     "output_type": "display_data"
    },
    {
     "name": "stdout",
     "output_type": "stream",
     "text": [
      "lowest 8 score prob: [0.02545756] at ind: [8]\n"
     ]
    },
    {
     "data": {
      "image/png": "[encoded data removed]",
      "text/plain": [
       "<Figure size 432x288 with 1 Axes>"
      ]
     },
     "metadata": {
      "needs_background": "light"
     },
     "output_type": "display_data"
    },
    {
     "name": "stdout",
     "output_type": "stream",
     "text": [
      "lowest 8 score prob: [0.02545756] at ind: [4]\n"
     ]
    },
    {
     "data": {
      "image/png": "[encoded data removed]",
      "text/plain": [
       "<Figure size 432x288 with 1 Axes>"
      ]
     },
     "metadata": {
      "needs_background": "light"
     },
     "output_type": "display_data"
    },
    {
     "name": "stdout",
     "output_type": "stream",
     "text": [
      "lowest 8 score prob: [0.02545756] at ind: [7]\n"
     ]
    },
    {
     "data": {
      "image/png": "[encoded data removed]",
      "text/plain": [
       "<Figure size 432x288 with 1 Axes>"
      ]
     },
     "metadata": {
      "needs_background": "light"
     },
     "output_type": "display_data"
    },
    {
     "name": "stdout",
     "output_type": "stream",
     "text": [
      "lowest 8 score prob: [0.02545756] at ind: [4]\n"
     ]
    },
    {
     "data": {
      "image/png": "[encoded data removed]",
      "text/plain": [
       "<Figure size 432x288 with 1 Axes>"
      ]
     },
     "metadata": {
      "needs_background": "light"
     },
     "output_type": "display_data"
    },
    {
     "name": "stdout",
     "output_type": "stream",
     "text": [
      "lowest 8 score prob: [0.02545756] at ind: [1]\n"
     ]
    },
    {
     "data": {
      "image/png": "[encoded data removed]",
      "text/plain": [
       "<Figure size 432x288 with 1 Axes>"
      ]
     },
     "metadata": {
      "needs_background": "light"
     },
     "output_type": "display_data"
    },
    {
     "name": "stdout",
     "output_type": "stream",
     "text": [
      "lowest 8 score prob: [0.02545756] at ind: [3]\n"
     ]
    },
    {
     "data": {
      "image/png": "[encoded data removed]",
      "text/plain": [
       "<Figure size 432x288 with 1 Axes>"
      ]
     },
     "metadata": {
      "needs_background": "light"
     },
     "output_type": "display_data"
    },
    {
     "name": "stdout",
     "output_type": "stream",
     "text": [
      "lowest 8 score prob: [0.02545756] at ind: [3]\n"
     ]
    },
    {
     "data": {
      "image/png": "[encoded data removed]",
      "text/plain": [
       "<Figure size 432x288 with 1 Axes>"
      ]
     },
     "metadata": {
      "needs_background": "light"
     },
     "output_type": "display_data"
    },
    {
     "name": "stdout",
     "output_type": "stream",
     "text": [
      "lowest 8 score prob: [0.02545756] at ind: [4]\n"
     ]
    },
    {
     "data": {
      "image/png": "[encoded data removed]",
      "text/plain": [
       "<Figure size 432x288 with 1 Axes>"
      ]
     },
     "metadata": {
      "needs_background": "light"
     },
     "output_type": "display_data"
    },
    {
     "name": "stdout",
     "output_type": "stream",
     "text": [
      "lowest 8 score prob: [0.02545756] at ind: [31]\n"
     ]
    },
    {
     "data": {
      "image/png": "[encoded data removed]",
      "text/plain": [
       "<Figure size 432x288 with 1 Axes>"
      ]
     },
     "metadata": {
      "needs_background": "light"
     },
     "output_type": "display_data"
    },
    {
     "name": "stdout",
     "output_type": "stream",
     "text": [
      "lowest 8 score prob: [0.02545756] at ind: [3]\n"
     ]
    },
    {
     "data": {
      "image/png": "[encoded data removed]",
      "text/plain": [
       "<Figure size 432x288 with 1 Axes>"
      ]
     },
     "metadata": {
      "needs_background": "light"
     },
     "output_type": "display_data"
    },
    {
     "name": "stdout",
     "output_type": "stream",
     "text": [
      "lowest 8 score prob: [0.02545756] at ind: [3]\n"
     ]
    },
    {
     "data": {
      "image/png": "[encoded data removed]",
      "text/plain": [
       "<Figure size 432x288 with 1 Axes>"
      ]
     },
     "metadata": {
      "needs_background": "light"
     },
     "output_type": "display_data"
    },
    {
     "name": "stdout",
     "output_type": "stream",
     "text": [
      "lowest 8 score prob: [0.02545756] at ind: [3]\n"
     ]
    },
    {
     "data": {
      "image/png": "[encoded data removed]",
      "text/plain": [
       "<Figure size 432x288 with 1 Axes>"
      ]
     },
     "metadata": {
      "needs_background": "light"
     },
     "output_type": "display_data"
    },
    {
     "name": "stdout",
     "output_type": "stream",
     "text": [
      "lowest 8 score prob: [0.02545756] at ind: [3]\n"
     ]
    },
    {
     "data": {
      "image/png": "[encoded data removed]",
      "text/plain": [
       "<Figure size 432x288 with 1 Axes>"
      ]
     },
     "metadata": {
      "needs_background": "light"
     },
     "output_type": "display_data"
    },
    {
     "name": "stdout",
     "output_type": "stream",
     "text": [
      "lowest 8 score prob: [0.02545756] at ind: [4]\n"
     ]
    },
    {
     "data": {
      "image/png": "[encoded data removed]",
      "text/plain": [
       "<Figure size 432x288 with 1 Axes>"
      ]
     },
     "metadata": {
      "needs_background": "light"
     },
     "output_type": "display_data"
    },
    {
     "name": "stdout",
     "output_type": "stream",
     "text": [
      "lowest 8 score prob: [0.02545756] at ind: [8]\n"
     ]
    },
    {
     "data": {
      "image/png": "[encoded data removed]",
      "text/plain": [
       "<Figure size 432x288 with 1 Axes>"
      ]
     },
     "metadata": {
      "needs_background": "light"
     },
     "output_type": "display_data"
    },
    {
     "name": "stdout",
     "output_type": "stream",
     "text": [
      "lowest 8 score prob: [0.02545756] at ind: [12]\n"
     ]
    },
    {
     "data": {
      "image/png": "[encoded data removed]",
      "text/plain": [
       "<Figure size 432x288 with 1 Axes>"
      ]
     },
     "metadata": {
      "needs_background": "light"
     },
     "output_type": "display_data"
    },
    {
     "name": "stdout",
     "output_type": "stream",
     "text": [
      "lowest 8 score prob: [0.02545756] at ind: [2]\n"
     ]
    },
    {
     "data": {
      "image/png": "[encoded data removed]",
      "text/plain": [
       "<Figure size 432x288 with 1 Axes>"
      ]
     },
     "metadata": {
      "needs_background": "light"
     },
     "output_type": "display_data"
    },
    {
     "name": "stdout",
     "output_type": "stream",
     "text": [
      "lowest 8 score prob: [0.02545756] at ind: [4]\n"
     ]
    },
    {
     "data": {
      "image/png": "[encoded data removed]",
      "text/plain": [
       "<Figure size 432x288 with 1 Axes>"
      ]
     },
     "metadata": {
      "needs_background": "light"
     },
     "output_type": "display_data"
    },
    {
     "name": "stdout",
     "output_type": "stream",
     "text": [
      "lowest 8 score prob: [0.02545756] at ind: [4]\n"
     ]
    },
    {
     "data": {
      "image/png": "[encoded data removed]",
      "text/plain": [
       "<Figure size 432x288 with 1 Axes>"
      ]
     },
     "metadata": {
      "needs_background": "light"
     },
     "output_type": "display_data"
    }
   ],
   "source": [
    "n_ans_ords = []\n",
    "for m_deets_ind, q_turk in enumerate(meta_deets):\n",
    "    \n",
    "    if 8 not in y[m_deets_ind]:\n",
    "        continue\n",
    "    \n",
    "    q_score = y[m_deets_ind]\n",
    "    q_prob = x[m_deets_ind]\n",
    "    \n",
    "    #temp_ans = []\n",
    "    ind = q_turk[0]\n",
    "    if q_turk[1] == 1:\n",
    "        sps_loc = df1.loc[ind, ['batch_ind', 'ind_in_batch', 'time_point'] ]\n",
    "    elif q_turk[1] == 2:\n",
    "        sps_loc = df2.loc[ind, ['batch_ind', 'ind_in_batch', 'time_point'] ]\n",
    "        \n",
    "    b_ind, ind_in_b,tp = sps_loc['batch_ind'], sps_loc['ind_in_batch'],sps_loc['time_point']\n",
    "    text_tp = tp + prompt_length+1\n",
    "    sps = softmax(-np.sort(-all_logits[b_ind][ind_in_b, tp, :]))\n",
    "    ground_token = text[b_ind][ind_in_b][text_tp]\n",
    "    \n",
    "    eight_inds = np.where(q_score==8)[0]\n",
    "    min_eight_prob = np.min(q_prob[eight_inds])\n",
    "    \n",
    "    plt.plot(np.arange(len(sps)), sps)\n",
    "    plt.xlim([0,20])\n",
    "    sps_ind = np.where(sps==min_eight_prob)[0]\n",
    "    if len(sps_ind)>0:\n",
    "        plt.axvline(sps_ind)\n",
    "    \n",
    "    print('lowest 8 score prob:', y_val, 'at ind:', sps_ind)\n",
    "    \n",
    "    # plot where TFS and Nuc would go. Overall this looks v promising!\n",
    "    \n",
    "    plt.show()\n",
    "        \n",
    "    #for probs in x_ml[m_deets_ind]\n",
    "            \n",
    "            "
   ]
  },
  {
   "cell_type": "code",
   "execution_count": null,
   "metadata": {},
   "outputs": [],
   "source": []
  },
  {
   "cell_type": "code",
   "execution_count": null,
   "metadata": {},
   "outputs": [],
   "source": []
  },
  {
   "cell_type": "code",
   "execution_count": null,
   "metadata": {},
   "outputs": [],
   "source": []
  },
  {
   "cell_type": "markdown",
   "metadata": {},
   "source": [
    "# Fixing answer orders for the first batch. \n",
    "Need to update the probabities for the ground words. \n"
   ]
  },
  {
   "cell_type": "code",
   "execution_count": 48,
   "metadata": {},
   "outputs": [],
   "source": [
    "g_truth = pickle.load(open('MTURK_FIRST_GROUNDWORDS_prob_slice_replaceable_comparisons_answers_list.pickle','rb'))\n",
    "all_gwords = []\n",
    "for q in g_truth: \n",
    "    for e in q:\n",
    "        if e[2]==1:\n",
    "            all_gwords.append(e[0])"
   ]
  },
  {
   "cell_type": "code",
   "execution_count": 52,
   "metadata": {},
   "outputs": [],
   "source": [
    "df = pd.read_csv('MTURK_FIRST_backup_of_different_prob_slices.csv')"
   ]
  },
  {
   "cell_type": "code",
   "execution_count": 54,
   "metadata": {},
   "outputs": [
    {
     "data": {
      "text/html": [
       "<div>\n",
       "<style scoped>\n",
       "    .dataframe tbody tr th:only-of-type {\n",
       "        vertical-align: middle;\n",
       "    }\n",
       "\n",
       "    .dataframe tbody tr th {\n",
       "        vertical-align: top;\n",
       "    }\n",
       "\n",
       "    .dataframe thead th {\n",
       "        text-align: right;\n",
       "    }\n",
       "</style>\n",
       "<table border=\"1\" class=\"dataframe\">\n",
       "  <thead>\n",
       "    <tr style=\"text-align: right;\">\n",
       "      <th></th>\n",
       "      <th>Unnamed: 0</th>\n",
       "      <th>prompt_ind</th>\n",
       "      <th>time_point</th>\n",
       "      <th>batch_ind</th>\n",
       "      <th>ind_in_batch</th>\n",
       "      <th>leading_words</th>\n",
       "      <th>ground_word</th>\n",
       "      <th>ground_word_prob</th>\n",
       "      <th>words</th>\n",
       "      <th>abs_inds</th>\n",
       "      <th>probs</th>\n",
       "    </tr>\n",
       "  </thead>\n",
       "  <tbody>\n",
       "    <tr>\n",
       "      <th>0</th>\n",
       "      <td>0</td>\n",
       "      <td>19</td>\n",
       "      <td>28</td>\n",
       "      <td>0</td>\n",
       "      <td>19</td>\n",
       "      <td>change something, might be the one trigger th...</td>\n",
       "      <td>events</td>\n",
       "      <td>4.103564e-07</td>\n",
       "      <td>['events' 'event' 'things' 'circumstances' 'ba...</td>\n",
       "      <td>[0, 1, 2, 3, 4, 50158]</td>\n",
       "      <td>[0.9782679, 0.0021306623, 0.00077810284, 0.000...</td>\n",
       "    </tr>\n",
       "    <tr>\n",
       "      <th>1</th>\n",
       "      <td>1</td>\n",
       "      <td>72</td>\n",
       "      <td>100</td>\n",
       "      <td>3</td>\n",
       "      <td>2</td>\n",
       "      <td>the world ’ s leading pharmaceutical companie...</td>\n",
       "      <td>would</td>\n",
       "      <td>5.513494e-05</td>\n",
       "      <td>['were' 'had' 'would' 'could' 'are' 'iterator']</td>\n",
       "      <td>[0, 3, 5, 6, 7, 50140]</td>\n",
       "      <td>[0.123787306, 0.09488712, 0.04294153, 0.035621...</td>\n",
       "    </tr>\n",
       "    <tr>\n",
       "      <th>2</th>\n",
       "      <td>2</td>\n",
       "      <td>31</td>\n",
       "      <td>29</td>\n",
       "      <td>1</td>\n",
       "      <td>8</td>\n",
       "      <td>off guard. While your body lay half on the co...</td>\n",
       "      <td>edge</td>\n",
       "      <td>1.622044e-06</td>\n",
       "      <td>['edge' 'counter' 'sink' 'side' 'table' 'Plot']</td>\n",
       "      <td>[0, 1, 2, 3, 4, 50130]</td>\n",
       "      <td>[0.27985963, 0.1617055, 0.08516163, 0.06683456...</td>\n",
       "    </tr>\n",
       "    <tr>\n",
       "      <th>3</th>\n",
       "      <td>3</td>\n",
       "      <td>56</td>\n",
       "      <td>73</td>\n",
       "      <td>2</td>\n",
       "      <td>10</td>\n",
       "      <td>I'm getting rrREAdy''. My murmur had ended with</td>\n",
       "      <td>a</td>\n",
       "      <td>5.716932e-05</td>\n",
       "      <td>['a' 'the' 'my' 'an' 'me' 'conservancy']</td>\n",
       "      <td>[0, 1, 2, 3, 4, 50140]</td>\n",
       "      <td>[0.41619945, 0.17138307, 0.11777301, 0.0551321...</td>\n",
       "    </tr>\n",
       "    <tr>\n",
       "      <th>4</th>\n",
       "      <td>4</td>\n",
       "      <td>24</td>\n",
       "      <td>60</td>\n",
       "      <td>1</td>\n",
       "      <td>1</td>\n",
       "      <td>crunched underneath and the ground bubbled wi...</td>\n",
       "      <td>creek</td>\n",
       "      <td>2.153896e-08</td>\n",
       "      <td>['and' 'of' 'oak' 'sand' 'sky' 'Eat']</td>\n",
       "      <td>[4, 5, 6, 7, 8, 50156]</td>\n",
       "      <td>[0.023683885, 0.013982991, 0.011684752, 0.0113...</td>\n",
       "    </tr>\n",
       "  </tbody>\n",
       "</table>\n",
       "</div>"
      ],
      "text/plain": [
       "   Unnamed: 0  prompt_ind  time_point  batch_ind  ind_in_batch  \\\n",
       "0           0          19          28          0            19   \n",
       "1           1          72         100          3             2   \n",
       "2           2          31          29          1             8   \n",
       "3           3          56          73          2            10   \n",
       "4           4          24          60          1             1   \n",
       "\n",
       "                                       leading_words ground_word  \\\n",
       "0   change something, might be the one trigger th...      events   \n",
       "1   the world ’ s leading pharmaceutical companie...       would   \n",
       "2   off guard. While your body lay half on the co...        edge   \n",
       "3    I'm getting rrREAdy''. My murmur had ended with           a   \n",
       "4   crunched underneath and the ground bubbled wi...       creek   \n",
       "\n",
       "   ground_word_prob                                              words  \\\n",
       "0      4.103564e-07  ['events' 'event' 'things' 'circumstances' 'ba...   \n",
       "1      5.513494e-05    ['were' 'had' 'would' 'could' 'are' 'iterator']   \n",
       "2      1.622044e-06    ['edge' 'counter' 'sink' 'side' 'table' 'Plot']   \n",
       "3      5.716932e-05           ['a' 'the' 'my' 'an' 'me' 'conservancy']   \n",
       "4      2.153896e-08              ['and' 'of' 'oak' 'sand' 'sky' 'Eat']   \n",
       "\n",
       "                 abs_inds                                              probs  \n",
       "0  [0, 1, 2, 3, 4, 50158]  [0.9782679, 0.0021306623, 0.00077810284, 0.000...  \n",
       "1  [0, 3, 5, 6, 7, 50140]  [0.123787306, 0.09488712, 0.04294153, 0.035621...  \n",
       "2  [0, 1, 2, 3, 4, 50130]  [0.27985963, 0.1617055, 0.08516163, 0.06683456...  \n",
       "3  [0, 1, 2, 3, 4, 50140]  [0.41619945, 0.17138307, 0.11777301, 0.0551321...  \n",
       "4  [4, 5, 6, 7, 8, 50156]  [0.023683885, 0.013982991, 0.011684752, 0.0113...  "
      ]
     },
     "execution_count": 54,
     "metadata": {},
     "output_type": "execute_result"
    }
   ],
   "source": [
    "df.head()"
   ]
  },
  {
   "cell_type": "code",
   "execution_count": 49,
   "metadata": {},
   "outputs": [
    {
     "data": {
      "text/plain": [
       "[' events',\n",
       " ' would',\n",
       " ' edge',\n",
       " ' a',\n",
       " ' creek',\n",
       " ' is',\n",
       " ' adept',\n",
       " ' shock',\n",
       " ' the',\n",
       " ' novel',\n",
       " ' secretaries',\n",
       " ' technology',\n",
       " ' Jews',\n",
       " ' trade',\n",
       " ' his',\n",
       " ' his',\n",
       " ' told',\n",
       " ' smile',\n",
       " ' we']"
      ]
     },
     "execution_count": 49,
     "metadata": {},
     "output_type": "execute_result"
    }
   ],
   "source": [
    "all_gwords"
   ]
  },
  {
   "cell_type": "code",
   "execution_count": 55,
   "metadata": {},
   "outputs": [],
   "source": [
    "batch_size=25\n",
    "num_batches=4\n",
    "prompt_length=100\n",
    "generated_length=150\n",
    "tot_len = prompt_length+generated_length\n",
    "\n",
    "import encoder\n",
    "from decodeLogits import *\n",
    "model_name='774M' #345M\n",
    "models_dir='../gpt-2/models'\n",
    "enc = encoder.get_encoder(model_name, models_dir)\n",
    "\n",
    "prompts=pd.read_csv('test_dataframe_500primer.csv')"
   ]
  },
  {
   "cell_type": "code",
   "execution_count": 56,
   "metadata": {},
   "outputs": [],
   "source": [
    "gpt_out_path = 'gpt-2_output/'\n",
    "additional_path = '-model_774M-seed_27'#'' \n",
    "#all_perps = pickle.load( gzip.open(gpt_out_path+'all_perplexities_perplexity_scores_for_the_dataset_Human_StoryPrompts_Completion.csv'+additional_path+'.pickle.gz', 'rb'))\n",
    "all_logits = pickle.load( gzip.open(gpt_out_path+'all_logits_perplexity_scores_for_the_dataset_Human_StoryPrompts_Completion.csv'+additional_path+'.pickle.gz', 'rb')) # needed to get the probabilities\n",
    "text = pickle.load( gzip.open(gpt_out_path+'all_text_perplexity_scores_for_the_dataset_Human_StoryPrompts_Completion.csv'+additional_path+'.pickle.gz', 'rb'))"
   ]
  },
  {
   "cell_type": "code",
   "execution_count": null,
   "metadata": {},
   "outputs": [],
   "source": [
    "'event', 0.0021306623239070177, 0),\n",
    "  ('things', 0.0007781028398312628, 0),\n",
    "  ('bad', 0.0004916115431115031, 0),\n",
    "  (' events', 2.2686589e-08, 1),\n",
    "  ('circumstances', 0.0005090322229079902, 0),\n",
    "  ('events', 0.9782679080963135, 0),\n",
    "  ('Population', 7.025027803399253e-13, 0)],"
   ]
  },
  {
   "cell_type": "code",
   "execution_count": 59,
   "metadata": {},
   "outputs": [
    {
     "data": {
      "text/plain": [
       "[[('event', 0.0021306623239070177),\n",
       "  ('things', 0.0007781028398312628),\n",
       "  ('bad', 0.0004916115431115031),\n",
       "  (' events', 4.1035644926523673e-07),\n",
       "  ('circumstances', 0.0005090322229079902),\n",
       "  ('events', 0.9782679080963135),\n",
       "  ('Population', 7.025027803399253e-13)],\n",
       " [('iterator', 1.5726539862037647e-11),\n",
       "  (' would', 5.5134936701506376e-05),\n",
       "  ('would', 0.04294152930378914),\n",
       "  ('are', 0.01786944642663002),\n",
       "  ('could', 0.03562188893556595),\n",
       "  ('had', 0.09488712251186371),\n",
       "  ('were', 0.1237873062491417)],\n",
       " [('sink', 0.08516162633895874),\n",
       "  ('table', 0.03213869407773018),\n",
       "  ('Plot', 1.6408815278756705e-11),\n",
       "  ('counter', 0.16170549392700195),\n",
       "  ('edge', 0.27985963225364685),\n",
       "  ('side', 0.06683456152677536),\n",
       "  (' edge', 1.6220442375924904e-06)],\n",
       " [('a', 0.4161994457244873),\n",
       "  ('the', 0.1713830679655075),\n",
       "  ('me', 0.044027868658304214),\n",
       "  (' a', 5.716932355426252e-05),\n",
       "  ('conservancy', 2.3627343137544443e-11),\n",
       "  ('an', 0.0551321804523468),\n",
       "  ('my', 0.11777301132678986)],\n",
       " [('and', 0.023683885112404823),\n",
       "  ('sky', 0.010126766748726368),\n",
       "  ('of', 0.013982990756630898),\n",
       "  (' creek', 2.1538962613476542e-08),\n",
       "  ('oak', 0.011684752069413662),\n",
       "  ('Eat', 6.070240837763308e-11),\n",
       "  ('sand', 0.011330608278512955)],\n",
       " [('the', 0.029731499031186104),\n",
       "  ('is', 0.07713856548070908),\n",
       "  ('prototype', 4.2622644996770376e-11),\n",
       "  ('makes', 0.047752413898706436),\n",
       "  ('she', 0.04415161535143852),\n",
       "  (' is', 0.00020496858633123338),\n",
       "  ('he', 0.22781696915626526)],\n",
       " [('7601', 1.5810904668844827e-11),\n",
       "  (' adept', 1.2604008503558362e-08),\n",
       "  ('simple', 0.042511407285928726),\n",
       "  ('a', 0.03173162788152695),\n",
       "  ('deliberate', 0.014849836938083172),\n",
       "  ('young', 0.02360728196799755),\n",
       "  ('simply', 0.008427090011537075)],\n",
       " [('the', 0.051833175122737885),\n",
       "  ('cumbers', 2.3367134616147922e-11),\n",
       "  ('a', 0.12715816497802734),\n",
       "  ('an', 0.03536023572087288),\n",
       "  (' shock', 2.355513743168558e-06),\n",
       "  ('his', 0.25678303837776184),\n",
       "  ('thought', 0.03894629701972008)],\n",
       " [('it', 0.05231691151857376),\n",
       "  ('his', 0.05797092989087105),\n",
       "  ('the', 0.3601943552494049),\n",
       "  (' the', 3.8483194657601416e-05),\n",
       "  ('ODE', 1.615250251260636e-12),\n",
       "  ('your', 0.3757137954235077),\n",
       "  ('one', 0.012323369272053242)],\n",
       " [('medical', 0.010854171589016914),\n",
       "  (' novel', 1.56093665282242e-05),\n",
       "  ('political', 0.014097815379500389),\n",
       "  ('social', 0.01845131814479828),\n",
       "  ('winner', 1.1857578807727975e-10),\n",
       "  ('design', 0.0036812543403357267),\n",
       "  ('research', 0.007366378325968981)],\n",
       " [('in', 0.05454248562455177),\n",
       "  ('organizers', 0.018733913078904152),\n",
       "  ('rush', 7.324437063804812e-12),\n",
       "  ('at', 0.13031087815761566),\n",
       "  ('people', 0.04803589731454849),\n",
       "  ('organized', 0.23333249986171722),\n",
       "  (' secretaries', 2.16605164360395e-10)],\n",
       " [('the', 0.20355582237243652),\n",
       "  (' technology', 3.7967895423207665e-06),\n",
       "  ('their', 0.060859017074108124),\n",
       "  ('Sexual', 1.827514528596197e-11),\n",
       "  ('these', 0.09389566630125046),\n",
       "  ('weaponry', 0.04151910915970802),\n",
       "  ('weapons', 0.13363923132419586)],\n",
       " [('other', 0.05399276316165924),\n",
       "  ('story', 0.11716202646493912),\n",
       "  (' Jews', 2.5805034056247678e-06),\n",
       "  ('same', 0.3653627634048462),\n",
       "  ('whole', 0.019656933844089508),\n",
       "  ('cumbers', 1.6284040088576646e-11),\n",
       "  ('truth', 0.08678539842367172)],\n",
       " [(' trade', 1.0153305993299e-05),\n",
       "  ('partner', 0.036993950605392456),\n",
       "  ('value', 0.019175605848431587),\n",
       "  ('place', 0.052271079272031784),\n",
       "  ('own', 0.06276622414588928),\n",
       "  ('chances', 0.011011623777449131),\n",
       "  ('Reviewed', 1.139088216112194e-11)],\n",
       " [('CAST', 3.5308043381393484e-12),\n",
       "  ('his', 0.5349603295326233),\n",
       "  ('back', 0.045332636684179306),\n",
       "  (' his', 5.129267265147064e-06),\n",
       "  ('out', 0.05381551384925842),\n",
       "  ('the', 0.09639755636453629),\n",
       "  ('himself', 0.1009412407875061)]]"
      ]
     },
     "execution_count": 59,
     "metadata": {},
     "output_type": "execute_result"
    }
   ],
   "source": [
    "answer_orders"
   ]
  },
  {
   "cell_type": "code",
   "execution_count": 62,
   "metadata": {},
   "outputs": [
    {
     "name": "stdout",
     "output_type": "stream",
     "text": [
      "28\n",
      "100\n",
      "29\n",
      "73\n",
      "60\n",
      "64\n",
      "108\n",
      "53\n",
      "28\n",
      "46\n",
      "100\n",
      "114\n",
      "24\n",
      "45\n",
      "2\n"
     ]
    },
    {
     "data": {
      "text/plain": [
       "[[('event', 0.0021306623239070177, 0),\n",
       "  ('things', 0.0007781028398312628, 0),\n",
       "  ('bad', 0.0004916115431115031, 0),\n",
       "  (' events', 0.97826886, 1),\n",
       "  ('circumstances', 0.0005090322229079902, 0),\n",
       "  ('events', 0.9782679080963135, 0),\n",
       "  ('Population', 7.025027803399253e-13, 0)],\n",
       " [('iterator', 1.5726539862037647e-11, 0),\n",
       "  (' would', 0.04294153, 1),\n",
       "  ('would', 0.04294152930378914, 0),\n",
       "  ('are', 0.01786944642663002, 0),\n",
       "  ('could', 0.03562188893556595, 0),\n",
       "  ('had', 0.09488712251186371, 0),\n",
       "  ('were', 0.1237873062491417, 0)],\n",
       " [('sink', 0.08516162633895874, 0),\n",
       "  ('table', 0.03213869407773018, 0),\n",
       "  ('Plot', 1.6408815278756705e-11, 0),\n",
       "  ('counter', 0.16170549392700195, 0),\n",
       "  ('edge', 0.27985963225364685, 0),\n",
       "  ('side', 0.06683456152677536, 0),\n",
       "  (' edge', 0.27985963, 1)],\n",
       " [('a', 0.4161994457244873, 0),\n",
       "  ('the', 0.1713830679655075, 0),\n",
       "  ('me', 0.044027868658304214, 0),\n",
       "  (' a', 0.41619945, 1),\n",
       "  ('conservancy', 2.3627343137544443e-11, 0),\n",
       "  ('an', 0.0551321804523468, 0),\n",
       "  ('my', 0.11777301132678986, 0)],\n",
       " [('and', 0.023683885112404823, 0),\n",
       "  ('sky', 0.010126766748726368, 0),\n",
       "  ('of', 0.013982990756630898, 0),\n",
       "  (' creek', 4.5978304e-05, 1),\n",
       "  ('oak', 0.011684752069413662, 0),\n",
       "  ('Eat', 6.070240837763308e-11, 0),\n",
       "  ('sand', 0.011330608278512955, 0)],\n",
       " [('the', 0.029731499031186104, 0),\n",
       "  ('is', 0.07713856548070908, 0),\n",
       "  ('prototype', 4.2622644996770376e-11, 0),\n",
       "  ('makes', 0.047752413898706436, 0),\n",
       "  ('she', 0.04415161535143852, 0),\n",
       "  (' is', 0.077138565, 1),\n",
       "  ('he', 0.22781696915626526, 0)],\n",
       " [('7601', 1.5810904668844827e-11, 0),\n",
       "  (' adept', 0.00035782252, 1),\n",
       "  ('simple', 0.042511407285928726, 0),\n",
       "  ('a', 0.03173162788152695, 0),\n",
       "  ('deliberate', 0.014849836938083172, 0),\n",
       "  ('young', 0.02360728196799755, 0),\n",
       "  ('simply', 0.008427090011537075, 0)],\n",
       " [('the', 0.051833175122737885, 0),\n",
       "  ('cumbers', 2.3367134616147922e-11, 0),\n",
       "  ('a', 0.12715816497802734, 0),\n",
       "  ('an', 0.03536023572087288, 0),\n",
       "  (' shock', 0.016270742, 1),\n",
       "  ('his', 0.25678303837776184, 0),\n",
       "  ('thought', 0.03894629701972008, 0)],\n",
       " [('it', 0.05231691151857376, 0),\n",
       "  ('his', 0.05797092989087105, 0),\n",
       "  ('the', 0.3601943552494049, 0),\n",
       "  (' the', 0.36019436, 1),\n",
       "  ('ODE', 1.615250251260636e-12, 0),\n",
       "  ('your', 0.3757137954235077, 0),\n",
       "  ('one', 0.012323369272053242, 0)],\n",
       " [('medical', 0.010854171589016914, 0),\n",
       "  (' novel', 0.00023352292, 1),\n",
       "  ('political', 0.014097815379500389, 0),\n",
       "  ('social', 0.01845131814479828, 0),\n",
       "  ('winner', 1.1857578807727975e-10, 0),\n",
       "  ('design', 0.0036812543403357267, 0),\n",
       "  ('research', 0.007366378325968981, 0)],\n",
       " [('in', 0.05454248562455177, 0),\n",
       "  ('organizers', 0.018733913078904152, 0),\n",
       "  ('rush', 7.324437063804812e-12, 0),\n",
       "  ('at', 0.13031087815761566, 0),\n",
       "  ('people', 0.04803589731454849, 0),\n",
       "  ('organized', 0.23333249986171722, 0),\n",
       "  (' secretaries', 0.00017431544, 1)],\n",
       " [('the', 0.20355582237243652, 0),\n",
       "  (' technology', 0.013236664, 1),\n",
       "  ('their', 0.060859017074108124, 0),\n",
       "  ('Sexual', 1.827514528596197e-11, 0),\n",
       "  ('these', 0.09389566630125046, 0),\n",
       "  ('weaponry', 0.04151910915970802, 0),\n",
       "  ('weapons', 0.13363923132419586, 0)],\n",
       " [('other', 0.05399276316165924, 0),\n",
       "  ('story', 0.11716202646493912, 0),\n",
       "  (' Jews', 3.4151984e-05, 1),\n",
       "  ('same', 0.3653627634048462, 0),\n",
       "  ('whole', 0.019656933844089508, 0),\n",
       "  ('cumbers', 1.6284040088576646e-11, 0),\n",
       "  ('truth', 0.08678539842367172, 0)],\n",
       " [(' trade', 0.00048635117, 1),\n",
       "  ('partner', 0.036993950605392456, 0),\n",
       "  ('value', 0.019175605848431587, 0),\n",
       "  ('place', 0.052271079272031784, 0),\n",
       "  ('own', 0.06276622414588928, 0),\n",
       "  ('chances', 0.011011623777449131, 0),\n",
       "  ('Reviewed', 1.139088216112194e-11, 0)],\n",
       " [('CAST', 3.5308043381393484e-12, 0),\n",
       "  ('his', 0.5349603295326233, 0),\n",
       "  ('back', 0.045332636684179306, 0),\n",
       "  (' his', 0.5349603, 1),\n",
       "  ('out', 0.05381551384925842, 0),\n",
       "  ('the', 0.09639755636453629, 0),\n",
       "  ('himself', 0.1009412407875061, 0)]]"
      ]
     },
     "execution_count": 62,
     "metadata": {},
     "output_type": "execute_result"
    }
   ],
   "source": [
    "n_ans_ords = []\n",
    "for ind, ans in enumerate(answer_orders):\n",
    "    temp_ans = []\n",
    "    for tup in ans: \n",
    "        if tup[0] in all_gwords: \n",
    "            \n",
    "            sps_loc = df.loc[ind, ['batch_ind', 'ind_in_batch', 'time_point'] ]\n",
    "            b_ind, ind_in_b,tp = sps_loc['batch_ind'], sps_loc['ind_in_batch'],sps_loc['time_point']\n",
    "            print(tp)\n",
    "            text_tp = tp + prompt_length+1\n",
    "            sps_no_sort = softmax(all_logits[b_ind][ind_in_b, tp, :])\n",
    "            ground_token = text[b_ind][ind_in_b][text_tp]\n",
    "            \n",
    "            temp_ans.append((tup[0], sps_no_sort[ground_token], 1))\n",
    "            \n",
    "        else: \n",
    "            temp_ans.append((tup[0], tup[1], 0))\n",
    "            \n",
    "    n_ans_ords.append(temp_ans)\n",
    "        \n",
    "            # get the sps at this point and fix the prob. \n",
    "n_ans_ords            \n",
    "            \n",
    "            "
   ]
  },
  {
   "cell_type": "code",
   "execution_count": 63,
   "metadata": {},
   "outputs": [],
   "source": [
    "\n",
    "\n",
    "\n",
    "\n",
    "pickle.dump(n_ans_ords, open( 'MTURK_FIRST_updated_answers_list.pickle' ,'wb'))"
   ]
  },
  {
   "cell_type": "code",
   "execution_count": null,
   "metadata": {},
   "outputs": [],
   "source": []
  }
 ],
 "metadata": {
  "kernelspec": {
   "display_name": "Python 3",
   "language": "python",
   "name": "python3"
  },
  "language_info": {
   "codemirror_mode": {
    "name": "ipython",
    "version": 3
   },
   "file_extension": ".py",
   "mimetype": "text/x-python",
   "name": "python",
   "nbconvert_exporter": "python",
   "pygments_lexer": "ipython3",
   "version": "3.7.3"
  }
 },
 "nbformat": 4,
 "nbformat_minor": 4
}
